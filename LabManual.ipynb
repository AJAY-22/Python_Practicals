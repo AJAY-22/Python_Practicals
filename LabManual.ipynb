{
  "nbformat": 4,
  "nbformat_minor": 5,
  "metadata": {
    "colab": {
      "name": "LabManual.ipynb",
      "provenance": [],
      "collapsed_sections": [],
      "include_colab_link": true
    },
    "kernelspec": {
      "display_name": "Python 3",
      "language": "python",
      "name": "python3"
    },
    "language_info": {
      "codemirror_mode": {
        "name": "ipython",
        "version": 3
      },
      "file_extension": ".py",
      "mimetype": "text/x-python",
      "name": "python",
      "nbconvert_exporter": "python",
      "pygments_lexer": "ipython3",
      "version": "3.8.8"
    }
  },
  "cells": [
    {
      "cell_type": "markdown",
      "metadata": {
        "id": "view-in-github",
        "colab_type": "text"
      },
      "source": [
        "<a href=\"https://colab.research.google.com/github/AJAY-22/Python_Practicals/blob/main/LabManual.ipynb\" target=\"_parent\"><img src=\"https://colab.research.google.com/assets/colab-badge.svg\" alt=\"Open In Colab\"/></a>"
      ]
    },
    {
      "cell_type": "markdown",
      "metadata": {
        "id": "e901a282"
      },
      "source": [
        "# 1] Intro to Data Types, Operations and conditional statements.\n",
        "---\n"
      ],
      "id": "e901a282"
    },
    {
      "cell_type": "code",
      "metadata": {
        "id": "wjSDc_A4Cmxb",
        "colab": {
          "base_uri": "https://localhost:8080/"
        },
        "outputId": "61e202e5-ae88-4b5e-d00e-b130cb72cd86"
      },
      "source": [
        "from google.colab import drive\n",
        "drive.mount('/content/drive')"
      ],
      "id": "wjSDc_A4Cmxb",
      "execution_count": 14,
      "outputs": [
        {
          "output_type": "stream",
          "name": "stdout",
          "text": [
            "Mounted at /content/drive\n"
          ]
        }
      ]
    },
    {
      "cell_type": "markdown",
      "metadata": {
        "id": "641de9d5"
      },
      "source": [
        "## 1.1] Write aprogram to print “Hello World”."
      ],
      "id": "641de9d5"
    },
    {
      "cell_type": "code",
      "metadata": {
        "colab": {
          "base_uri": "https://localhost:8080/"
        },
        "id": "fc75f6d8",
        "outputId": "1a6a9c66-a825-4a94-b34b-05b8061ee44a"
      },
      "source": [
        "print(\"Hello World\")"
      ],
      "id": "fc75f6d8",
      "execution_count": 15,
      "outputs": [
        {
          "output_type": "stream",
          "name": "stdout",
          "text": [
            "Hello World\n"
          ]
        }
      ]
    },
    {
      "cell_type": "markdown",
      "metadata": {
        "id": "04b58e0f"
      },
      "source": [
        "## 1.2] Write a program to find maximum number out of 3 numbers.\n"
      ],
      "id": "04b58e0f"
    },
    {
      "cell_type": "code",
      "metadata": {
        "colab": {
          "base_uri": "https://localhost:8080/"
        },
        "id": "67ec5304",
        "outputId": "fc50b589-a311-4436-d32d-430462e9e14d"
      },
      "source": [
        "numbers=[11, 34, 5]\n",
        "\n",
        "'''For user input'''\n",
        "for x in range(len(numbers)):\n",
        "    inp = float(input(f'Enter #{x+1} '))\n",
        "    numbers[x] = inp\n",
        "\n",
        "maximum=numbers[0]\n",
        "\n",
        "for x in numbers:\n",
        "    if maximum<x:\n",
        "        maximum=x\n",
        "\n",
        "print(\"Max number is :\" ,maximum)"
      ],
      "id": "67ec5304",
      "execution_count": 55,
      "outputs": [
        {
          "output_type": "stream",
          "name": "stdout",
          "text": [
            "Enter #1 44\n",
            "Enter #2 55\n",
            "Enter #3 22\n",
            "Max number is : 55.0\n"
          ]
        }
      ]
    },
    {
      "cell_type": "markdown",
      "metadata": {
        "id": "Gi4fLTOyTPSN"
      },
      "source": [
        "## 1.3] Write a program to swap the values of two variables without using temporary variable."
      ],
      "id": "Gi4fLTOyTPSN"
    },
    {
      "cell_type": "code",
      "metadata": {
        "colab": {
          "base_uri": "https://localhost:8080/"
        },
        "id": "Y5bF4wYfTOO2",
        "outputId": "1dee5a4d-9df9-4f7e-d5f1-0ed9124798b0"
      },
      "source": [
        "a, b = 1, 2\n",
        "print('Before swapping \\na :', a, '\\nb :', b)\n",
        "a, b = b, a\n",
        "print('\\nAfter swapping \\na :', a, '\\nb :', b)"
      ],
      "id": "Y5bF4wYfTOO2",
      "execution_count": 17,
      "outputs": [
        {
          "output_type": "stream",
          "name": "stdout",
          "text": [
            "Before swapping \n",
            "a : 1 \n",
            "b : 2\n",
            "\n",
            "After swapping \n",
            "a : 2 \n",
            "b : 1\n"
          ]
        }
      ]
    },
    {
      "cell_type": "markdown",
      "metadata": {
        "id": "V2vGfao0U27G"
      },
      "source": [
        "## 1.4] Write a program to implement calculator."
      ],
      "id": "V2vGfao0U27G"
    },
    {
      "cell_type": "code",
      "metadata": {
        "id": "52XUuYd3U-1G",
        "colab": {
          "base_uri": "https://localhost:8080/"
        },
        "outputId": "e96fd61e-52cc-4127-d6fd-a8ef846bb26c"
      },
      "source": [
        "from IPython.display import clear_output \n",
        "\n",
        "\n",
        "\n",
        "while True:\n",
        "    print('1) Add\\n2) Subtract\\n3) Multiply\\n4) Divide\\n5) Exit')\n",
        "    choice = int(input('Enter your choice '))\n",
        "    \n",
        "    \n",
        "    if choice in [1, 2, 3, 4]:\n",
        "        if choice is 1:\n",
        "            print('ADDITION\\n')\n",
        "            a = int(input('Enter number '))\n",
        "            b = int(input('Enter number '))\n",
        "            print(a, '+', b, '=', a+b)\n",
        "        \n",
        "        if choice is 2:\n",
        "            print('SUBTRACTION\\n')\n",
        "            a = int(input('Enter number '))\n",
        "            b = int(input('Enter number '))\n",
        "            print(a, '-', b, '=', a-b)\n",
        "\n",
        "        if choice is 3:\n",
        "            print('MULTIPLICATION\\n')\n",
        "            a = int(input('Enter number '))\n",
        "            b = int(input('Enter number '))\n",
        "            print(a, '*', b, '=', a*b)\n",
        "        \n",
        "        if choice is 4:\n",
        "            print('DIVISION\\n')\n",
        "            a = int(input('Enter number '))\n",
        "            b = int(input('Enter number '))\n",
        "            print(a, '/', b, '=', a/b)\n",
        "\n",
        "    elif choice is 5:\n",
        "        break\n",
        "    else:\n",
        "        print('Invalid Input\\n')"
      ],
      "id": "52XUuYd3U-1G",
      "execution_count": 59,
      "outputs": [
        {
          "name": "stdout",
          "output_type": "stream",
          "text": [
            "1) Add\n",
            "2) Subtract\n",
            "3) Multiply\n",
            "4) Divide\n",
            "5) Exit\n",
            "Enter your choice 3\n",
            "MULTIPLICATION\n",
            "\n",
            "Enter number 22\n",
            "Enter number 1\n",
            "22 * 1 = 22\n",
            "1) Add\n",
            "2) Subtract\n",
            "3) Multiply\n",
            "4) Divide\n",
            "5) Exit\n",
            "Enter your choice 5\n"
          ]
        }
      ]
    },
    {
      "cell_type": "markdown",
      "metadata": {
        "id": "0e25ad7a"
      },
      "source": [
        "## 1.5] Write a Python program to calculate the sum of the digits in an integer."
      ],
      "id": "0e25ad7a"
    },
    {
      "cell_type": "code",
      "metadata": {
        "colab": {
          "base_uri": "https://localhost:8080/"
        },
        "id": "4255e276",
        "outputId": "c5a8d1b2-ebcb-4e89-d396-f7c574d38af2"
      },
      "source": [
        "num = int(input(\"Your number (must be 4 digit) : \"))\n",
        "x = num//1000\n",
        "x1 = (num - x*1000)//100\n",
        "x2 = (num - x*1000 - x1*100)//10\n",
        "x3 = (num - x*1000 - x1*100 - x2*10)\n",
        "\n",
        "print(f'sum of number\\'s digits : {x+x1+x2+x3}')"
      ],
      "id": "4255e276",
      "execution_count": 60,
      "outputs": [
        {
          "output_type": "stream",
          "name": "stdout",
          "text": [
            "Your number (must be 4 digit) : 1234\n",
            "sum of number's digits : 10\n"
          ]
        }
      ]
    },
    {
      "cell_type": "markdown",
      "metadata": {
        "id": "mb9Hk5VEH3es"
      },
      "source": [
        "# 2] Introduction to Control Structures and Functions\n",
        "---"
      ],
      "id": "mb9Hk5VEH3es"
    },
    {
      "cell_type": "markdown",
      "metadata": {
        "id": "36yjufR5H7aJ"
      },
      "source": [
        "## 2.1] Write  a  program  to  find factorial  of  a  given  number  using  iterative  and recursive function."
      ],
      "id": "36yjufR5H7aJ"
    },
    {
      "cell_type": "markdown",
      "metadata": {
        "id": "uflJzvqHXG23"
      },
      "source": [
        "### 2.1.1] Iterative method to find factorial of given number."
      ],
      "id": "uflJzvqHXG23"
    },
    {
      "cell_type": "code",
      "metadata": {
        "colab": {
          "base_uri": "https://localhost:8080/"
        },
        "id": "PR70anV1IsLo",
        "outputId": "2c37da89-a8f8-476d-ffa8-19fb36e1697d"
      },
      "source": [
        "n=int(input(\"Enter Number : \"))\n",
        "fact=1\n",
        "\n",
        "while(n>0):\n",
        "  fact*=n\n",
        "  n-=1\n",
        "\n",
        "print(fact)"
      ],
      "id": "PR70anV1IsLo",
      "execution_count": 61,
      "outputs": [
        {
          "output_type": "stream",
          "name": "stdout",
          "text": [
            "Enter Number : 4\n",
            "24\n"
          ]
        }
      ]
    },
    {
      "cell_type": "markdown",
      "metadata": {
        "id": "bzN_7QyVXSRn"
      },
      "source": [
        "### 2.1.2] Recursive method to find factorial of given number."
      ],
      "id": "bzN_7QyVXSRn"
    },
    {
      "cell_type": "code",
      "metadata": {
        "colab": {
          "base_uri": "https://localhost:8080/"
        },
        "id": "c6Xu2WnaXa_u",
        "outputId": "ec4fd994-4c78-4f48-fd52-574f75aa4833"
      },
      "source": [
        "n=int(input('Enter number : '))\n",
        "\n",
        "def find_fac(num):\n",
        "  if num==0:\n",
        "    return 1\n",
        "  else:\n",
        "    return num*find_fac(num-1)\n",
        "\n",
        "print(find_fac(n))"
      ],
      "id": "c6Xu2WnaXa_u",
      "execution_count": 62,
      "outputs": [
        {
          "output_type": "stream",
          "name": "stdout",
          "text": [
            "Enter number : 4\n",
            "24\n"
          ]
        }
      ]
    },
    {
      "cell_type": "markdown",
      "metadata": {
        "id": "PvslmRI5H7NN"
      },
      "source": [
        "## 2.2] Write a program to check whether a given number is prime or not."
      ],
      "id": "PvslmRI5H7NN"
    },
    {
      "cell_type": "code",
      "metadata": {
        "colab": {
          "base_uri": "https://localhost:8080/"
        },
        "id": "gS2xkq9EX6R_",
        "outputId": "ccd5858b-c240-4e96-fabb-ae977a49cdf5"
      },
      "source": [
        "n=int(input('Enter Number :'))\n",
        "\n",
        "def is_prime(num):\n",
        "  flag=0\n",
        "  for x in range(1, num+1):\n",
        "    if num%x==0:\n",
        "      flag+=1\n",
        "\n",
        "  if flag==2:\n",
        "    print(num, 'is Prime')\n",
        "  else:\n",
        "    print(num, 'is not prime')\n",
        "\n",
        "is_prime(n)\n"
      ],
      "id": "gS2xkq9EX6R_",
      "execution_count": 63,
      "outputs": [
        {
          "output_type": "stream",
          "name": "stdout",
          "text": [
            "Enter Number :4\n",
            "4 is not prime\n"
          ]
        }
      ]
    },
    {
      "cell_type": "markdown",
      "metadata": {
        "id": "F9Qzw33rH7CN"
      },
      "source": [
        "## 2.3] Write a program to print Fibonacci series upto n. "
      ],
      "id": "F9Qzw33rH7CN"
    },
    {
      "cell_type": "code",
      "metadata": {
        "id": "F6LAyLh8ZBqW",
        "colab": {
          "base_uri": "https://localhost:8080/"
        },
        "outputId": "65d4d328-21bf-4da5-85ff-3e1370bdbc23"
      },
      "source": [
        "n = int(input(\"How many terms? \"))\n",
        "\n",
        "a, b = 0, 1\n",
        "count = 0\n",
        "\n",
        "if n <= 0:\n",
        "   print(\"Please enter a positive integer\")\n",
        "elif n == 1:\n",
        "   print(a)\n",
        "else:\n",
        "   while count < n:\n",
        "       print(a)\n",
        "       c = a + b\n",
        "       a = b\n",
        "       b = c\n",
        "       count += 1"
      ],
      "id": "F6LAyLh8ZBqW",
      "execution_count": 64,
      "outputs": [
        {
          "output_type": "stream",
          "name": "stdout",
          "text": [
            "How many terms? 5\n",
            "0\n",
            "1\n",
            "1\n",
            "2\n",
            "3\n"
          ]
        }
      ]
    },
    {
      "cell_type": "markdown",
      "metadata": {
        "id": "W8eMsjfLH5T5"
      },
      "source": [
        "## 2.4] Write a program which takes a sentence from user and calculates number of digits, letters, uppercase letters, lowercase letter and spaces in sentence."
      ],
      "id": "W8eMsjfLH5T5"
    },
    {
      "cell_type": "code",
      "metadata": {
        "colab": {
          "base_uri": "https://localhost:8080/"
        },
        "id": "uV4BPrE8Sgst",
        "outputId": "ed14d9fb-d889-4eb9-cce6-d041109e0ec4"
      },
      "source": [
        "def Count(str):\n",
        "    upper, lower, digit, space = 0, 0, 0, 0\n",
        "    for i in range(len(str)):\n",
        "        if str[i].isupper():\n",
        "          upper += 1\n",
        "        elif str[i].islower():\n",
        "          lower += 1\n",
        "        elif str[i].isdigit():\n",
        "          digit += 1\n",
        "        elif str[i] == ' ':\n",
        "          space += 1\n",
        "    print('Total letters:', upper + lower)\n",
        "    print('Upper case letters:', upper)\n",
        "    print('Lower case letters:', lower)\n",
        "    print('Number of digits:',digit)\n",
        "    print('Spaces :', space)\n",
        "\n",
        "teststr = str(input('enter string :\\n')) \n",
        "Count(teststr)"
      ],
      "id": "uV4BPrE8Sgst",
      "execution_count": 65,
      "outputs": [
        {
          "output_type": "stream",
          "name": "stdout",
          "text": [
            "enter string :\n",
            "Ajay Pathak 22\n",
            "Total letters: 10\n",
            "Upper case letters: 2\n",
            "Lower case letters: 8\n",
            "Number of digits: 2\n",
            "Spaces : 2\n"
          ]
        }
      ]
    },
    {
      "cell_type": "markdown",
      "metadata": {
        "id": "skVkzQOlIpXF"
      },
      "source": [
        "## 2.5] Reversing a given string."
      ],
      "id": "skVkzQOlIpXF"
    },
    {
      "cell_type": "code",
      "metadata": {
        "colab": {
          "base_uri": "https://localhost:8080/"
        },
        "id": "yn6g7_SuUD3G",
        "outputId": "c4fa7653-db3c-4105-d0a5-f0b80dae7a05"
      },
      "source": [
        "str_to_reverse = str(input('Enter String : \\n'))\n",
        "print('original string : \\n', str_to_reverse)\n",
        "print('Reveresed string : \\n', str_to_reverse[::-1])"
      ],
      "id": "yn6g7_SuUD3G",
      "execution_count": 66,
      "outputs": [
        {
          "output_type": "stream",
          "name": "stdout",
          "text": [
            "Enter String : \n",
            "Try to reverse this string\n",
            "original string : \n",
            " Try to reverse this string\n",
            "Reveresed string : \n",
            " gnirts siht esrever ot yrT\n"
          ]
        }
      ]
    },
    {
      "cell_type": "markdown",
      "metadata": {
        "id": "EOWKS-VbSXqP"
      },
      "source": [
        "# 3] Study of List and Tuple\n",
        "---"
      ],
      "id": "EOWKS-VbSXqP"
    },
    {
      "cell_type": "markdown",
      "metadata": {
        "id": "M1uVnqs0T3I_"
      },
      "source": [
        "## 3.1] Write a program to remove duplicates from list."
      ],
      "id": "M1uVnqs0T3I_"
    },
    {
      "cell_type": "code",
      "metadata": {
        "colab": {
          "base_uri": "https://localhost:8080/"
        },
        "id": "SMY9f_M1VR0K",
        "outputId": "7784be11-fbc2-46ed-d0e6-bbb84921cc71"
      },
      "source": [
        "myList = ['One', 'two', 'two', 'three', 'three', 'three', 'four']\n",
        "unique = []\n",
        "\n",
        "print('original list :', myList)\n",
        "\n",
        "for el in myList:\n",
        "    if el not in unique:\n",
        "        unique.append(el)\n",
        "\n",
        "print('without duplicates :', unique)"
      ],
      "id": "SMY9f_M1VR0K",
      "execution_count": 68,
      "outputs": [
        {
          "output_type": "stream",
          "name": "stdout",
          "text": [
            "original list : ['One', 'two', 'two', 'three', 'three', 'three', 'four']\n",
            "without duplicates : ['One', 'two', 'three', 'four']\n"
          ]
        }
      ]
    },
    {
      "cell_type": "markdown",
      "metadata": {
        "id": "xJGj_yaQUF0m"
      },
      "source": [
        "## 3.2] Write a program to find frequency of elements of list."
      ],
      "id": "xJGj_yaQUF0m"
    },
    {
      "cell_type": "code",
      "metadata": {
        "colab": {
          "base_uri": "https://localhost:8080/"
        },
        "id": "Vukn4LokVSQH",
        "outputId": "07cb1551-ca1e-4dcf-a24e-7b30e6a77783"
      },
      "source": [
        "my_list = [7, 2, 6, 5, 8, 7, 8, 3, 2, 3]\n",
        "unique = []\n",
        "for el in my_list:\n",
        "    if el not in unique:\n",
        "        unique.append(el)\n",
        "\n",
        "for el in unique:\n",
        "    print('Frequency of ', el, 'in my_list :', my_list.count(el))"
      ],
      "id": "Vukn4LokVSQH",
      "execution_count": 69,
      "outputs": [
        {
          "output_type": "stream",
          "name": "stdout",
          "text": [
            "Frequency of  7 in my_list : 2\n",
            "Frequency of  2 in my_list : 2\n",
            "Frequency of  6 in my_list : 1\n",
            "Frequency of  5 in my_list : 1\n",
            "Frequency of  8 in my_list : 2\n",
            "Frequency of  3 in my_list : 2\n"
          ]
        }
      ]
    },
    {
      "cell_type": "markdown",
      "metadata": {
        "id": "rwiZeFm-UJz9"
      },
      "source": [
        "## 3.3] Write a program to sort given list."
      ],
      "id": "rwiZeFm-UJz9"
    },
    {
      "cell_type": "code",
      "metadata": {
        "colab": {
          "base_uri": "https://localhost:8080/"
        },
        "id": "X1X4_rGfVTDv",
        "outputId": "6647c9b9-7340-4cbd-fde8-dd95afb231fe"
      },
      "source": [
        "print('Original :', my_list)\n",
        "my_list.sort()\n",
        "print('Ascending :', my_list)\n",
        "print('Descending :', my_list[::-1])"
      ],
      "id": "X1X4_rGfVTDv",
      "execution_count": 70,
      "outputs": [
        {
          "output_type": "stream",
          "name": "stdout",
          "text": [
            "Original : [7, 2, 6, 5, 8, 7, 8, 3, 2, 3]\n",
            "Ascending : [2, 2, 3, 3, 5, 6, 7, 7, 8, 8]\n",
            "Descending : [8, 8, 7, 7, 6, 5, 3, 3, 2, 2]\n"
          ]
        }
      ]
    },
    {
      "cell_type": "markdown",
      "metadata": {
        "id": "iLTcgIGLUK1W"
      },
      "source": [
        "## 3.4] Write a program to find minimum and maximum value in list of tuples."
      ],
      "id": "iLTcgIGLUK1W"
    },
    {
      "cell_type": "code",
      "metadata": {
        "colab": {
          "base_uri": "https://localhost:8080/",
          "height": 255
        },
        "id": "UfQ-HKMLVTfP",
        "outputId": "c97731f5-6259-4de8-b8c3-b8eced008861"
      },
      "source": [
        "my_tuple_list = [(22, 1), (16, 3), (27, 11), (29, 9)]\n",
        "print('Original list :', my_tuple_list)\n",
        "\n",
        "zeroth = [tup[0] for tup in my_tuple_list]\n",
        "first = [tup[1] for tup in my_tuple_list]\n",
        "\n",
        "print(max(zeroth))\n",
        "res1 = min(zeroth), max(zeroth)\n",
        "res2 = min(first), max(first)\n",
        "print('\\nmin at 0th index of tuples :', res1[0], '\\nmax at 0th index of tuples :', res1[1])\n",
        "print('\\nmin at 1st index of tuples :', res2[0], '\\nmax at 1st index of tuples :', res2[1])"
      ],
      "id": "UfQ-HKMLVTfP",
      "execution_count": 71,
      "outputs": [
        {
          "output_type": "stream",
          "name": "stdout",
          "text": [
            "Original list : [(22, 1), (16, 3), (27, 11), (29, 9)]\n"
          ]
        },
        {
          "output_type": "error",
          "ename": "TypeError",
          "evalue": "ignored",
          "traceback": [
            "\u001b[0;31m---------------------------------------------------------------------------\u001b[0m",
            "\u001b[0;31mTypeError\u001b[0m                                 Traceback (most recent call last)",
            "\u001b[0;32m<ipython-input-71-bd06158a4647>\u001b[0m in \u001b[0;36m<module>\u001b[0;34m()\u001b[0m\n\u001b[1;32m      5\u001b[0m \u001b[0mfirst\u001b[0m \u001b[0;34m=\u001b[0m \u001b[0;34m[\u001b[0m\u001b[0mtup\u001b[0m\u001b[0;34m[\u001b[0m\u001b[0;36m1\u001b[0m\u001b[0;34m]\u001b[0m \u001b[0;32mfor\u001b[0m \u001b[0mtup\u001b[0m \u001b[0;32min\u001b[0m \u001b[0mmy_tuple_list\u001b[0m\u001b[0;34m]\u001b[0m\u001b[0;34m\u001b[0m\u001b[0;34m\u001b[0m\u001b[0m\n\u001b[1;32m      6\u001b[0m \u001b[0;34m\u001b[0m\u001b[0m\n\u001b[0;32m----> 7\u001b[0;31m \u001b[0mprint\u001b[0m\u001b[0;34m(\u001b[0m\u001b[0mmax\u001b[0m\u001b[0;34m(\u001b[0m\u001b[0mzeroth\u001b[0m\u001b[0;34m)\u001b[0m\u001b[0;34m)\u001b[0m\u001b[0;34m\u001b[0m\u001b[0;34m\u001b[0m\u001b[0m\n\u001b[0m\u001b[1;32m      8\u001b[0m \u001b[0mres1\u001b[0m \u001b[0;34m=\u001b[0m \u001b[0mmin\u001b[0m\u001b[0;34m(\u001b[0m\u001b[0mzeroth\u001b[0m\u001b[0;34m)\u001b[0m\u001b[0;34m,\u001b[0m \u001b[0mmax\u001b[0m\u001b[0;34m(\u001b[0m\u001b[0mzeroth\u001b[0m\u001b[0;34m)\u001b[0m\u001b[0;34m\u001b[0m\u001b[0;34m\u001b[0m\u001b[0m\n\u001b[1;32m      9\u001b[0m \u001b[0mres2\u001b[0m \u001b[0;34m=\u001b[0m \u001b[0mmin\u001b[0m\u001b[0;34m(\u001b[0m\u001b[0mfirst\u001b[0m\u001b[0;34m)\u001b[0m\u001b[0;34m,\u001b[0m \u001b[0mmax\u001b[0m\u001b[0;34m(\u001b[0m\u001b[0mfirst\u001b[0m\u001b[0;34m)\u001b[0m\u001b[0;34m\u001b[0m\u001b[0;34m\u001b[0m\u001b[0m\n",
            "\u001b[0;31mTypeError\u001b[0m: 'float' object is not callable"
          ]
        }
      ]
    },
    {
      "cell_type": "markdown",
      "metadata": {
        "id": "7vxWBY1YUNle"
      },
      "source": [
        "## 3.5] Write a program to remove an element from tuple. "
      ],
      "id": "7vxWBY1YUNle"
    },
    {
      "cell_type": "code",
      "metadata": {
        "colab": {
          "base_uri": "https://localhost:8080/"
        },
        "id": "8IBRVvcaVUD2",
        "outputId": "9ff7dc50-1f86-48ac-e749-33aa0d21738f"
      },
      "source": [
        "myTuple = ('one', 'two', 'three', 'four', 'four', 'five')\n",
        "print(myTuple)"
      ],
      "id": "8IBRVvcaVUD2",
      "execution_count": 72,
      "outputs": [
        {
          "output_type": "stream",
          "name": "stdout",
          "text": [
            "('one', 'two', 'three', 'four', 'four', 'five')\n"
          ]
        }
      ]
    },
    {
      "cell_type": "code",
      "metadata": {
        "colab": {
          "base_uri": "https://localhost:8080/"
        },
        "id": "5hS1v6zdWgqu",
        "outputId": "affd0bda-52ef-4ebc-c31e-d8d28630f681"
      },
      "source": [
        "# Removing element using slicing\n",
        "myTuple = myTuple[:3] + myTuple[4:]\n",
        "print(myTuple)"
      ],
      "id": "5hS1v6zdWgqu",
      "execution_count": 73,
      "outputs": [
        {
          "output_type": "stream",
          "name": "stdout",
          "text": [
            "('one', 'two', 'three', 'four', 'five')\n"
          ]
        }
      ]
    },
    {
      "cell_type": "code",
      "metadata": {
        "colab": {
          "base_uri": "https://localhost:8080/"
        },
        "id": "8yw3wi7zXDqX",
        "outputId": "30b9d4d6-9f71-486c-a3ba-ad05cfeb001c"
      },
      "source": [
        "# Removing using typecast\n",
        "myList = list(myTuple)\n",
        "myList.remove('four')\n",
        "myTuple = myList\n",
        "print(myTuple)"
      ],
      "id": "8yw3wi7zXDqX",
      "execution_count": 74,
      "outputs": [
        {
          "output_type": "stream",
          "name": "stdout",
          "text": [
            "['one', 'two', 'three', 'five']\n"
          ]
        }
      ]
    },
    {
      "cell_type": "markdown",
      "metadata": {
        "id": "3fMQz0OZKDOS"
      },
      "source": [
        "# 4] Study of Dictionary\n",
        "---"
      ],
      "id": "3fMQz0OZKDOS"
    },
    {
      "cell_type": "markdown",
      "metadata": {
        "id": "bjFBjPO1KOoV"
      },
      "source": [
        "## 4.1] Write a program to map 2 lists into a dictionary."
      ],
      "id": "bjFBjPO1KOoV"
    },
    {
      "cell_type": "code",
      "metadata": {
        "colab": {
          "base_uri": "https://localhost:8080/"
        },
        "id": "8kSHroZpKQlK",
        "outputId": "ee689045-3290-4e83-fc3c-039f115ef4a6"
      },
      "source": [
        "l1 = [1, 2, 3, 4, 5]\n",
        "l2 = ['one', 'two', 'three', 'four', 'five']\n",
        "\n",
        "d1 = dict(zip(l1, l2))\n",
        "\n",
        "print(d1)\n"
      ],
      "id": "8kSHroZpKQlK",
      "execution_count": 75,
      "outputs": [
        {
          "output_type": "stream",
          "name": "stdout",
          "text": [
            "{1: 'one', 2: 'two', 3: 'three', 4: 'four', 5: 'five'}\n"
          ]
        }
      ]
    },
    {
      "cell_type": "markdown",
      "metadata": {
        "id": "EfLaec0VKSCR"
      },
      "source": [
        "## 4.2] Write  a  program  to  generate  dictionary  of  frequency  of  alphabets  of  given string."
      ],
      "id": "EfLaec0VKSCR"
    },
    {
      "cell_type": "code",
      "metadata": {
        "colab": {
          "base_uri": "https://localhost:8080/"
        },
        "id": "xGuyYXiMKTnP",
        "outputId": "958393c0-2ef0-4ee9-95fe-ca1d2a96c85f"
      },
      "source": [
        "string = str(input(\"Enter string : \"))\n",
        "keys = []\n",
        "values = []\n",
        "\n",
        "for el in string:\n",
        "    if el not in keys:\n",
        "        keys.append(el)\n",
        "        values.append(string.count(el))\n",
        "\n",
        "d1 = dict(zip(keys, values))\n",
        "print(d1)"
      ],
      "id": "xGuyYXiMKTnP",
      "execution_count": 76,
      "outputs": [
        {
          "output_type": "stream",
          "name": "stdout",
          "text": [
            "Enter string : Ajay \n",
            "{'A': 1, 'j': 1, 'a': 1, 'y': 1, ' ': 1}\n"
          ]
        }
      ]
    },
    {
      "cell_type": "markdown",
      "metadata": {
        "id": "Z7nQMoimKUKA"
      },
      "source": [
        "## 4.3] Write a Python program to sum all the items in a dictionary."
      ],
      "id": "Z7nQMoimKUKA"
    },
    {
      "cell_type": "code",
      "metadata": {
        "colab": {
          "base_uri": "https://localhost:8080/"
        },
        "id": "88t0cgVjKWUC",
        "outputId": "3cf24578-d954-446a-e689-73986e875a50"
      },
      "source": [
        "d1 = {'hundred': 100, 'sixty': -60, 'twenty': -20, 'two': 2}\n",
        "sum = int(sum(d1.values()))\n",
        "print(sum)"
      ],
      "id": "88t0cgVjKWUC",
      "execution_count": 77,
      "outputs": [
        {
          "output_type": "stream",
          "name": "stdout",
          "text": [
            "22\n"
          ]
        }
      ]
    },
    {
      "cell_type": "markdown",
      "metadata": {
        "id": "nIQOuY3jKXHZ"
      },
      "source": [
        "## 4.4]Create a dictionary where keys are name of students and values are another dictionary containing semester, age and cpi of that student. \n"
      ],
      "id": "nIQOuY3jKXHZ"
    },
    {
      "cell_type": "code",
      "metadata": {
        "id": "quG9SXhbKYjb"
      },
      "source": [
        "student_info = {'Ak': {'semester': 5,\n",
        "                       'age': 19,\n",
        "                       'cpi': 8.2},\n",
        "                'Aj': {'semester': 5,\n",
        "                       'age': 20,\n",
        "                       'cpi': 9.0}}"
      ],
      "id": "quG9SXhbKYjb",
      "execution_count": 78,
      "outputs": []
    },
    {
      "cell_type": "markdown",
      "metadata": {
        "id": "cgcO_wrLK0r7"
      },
      "source": [
        "### 4.4.1] Print all the names of students."
      ],
      "id": "cgcO_wrLK0r7"
    },
    {
      "cell_type": "code",
      "metadata": {
        "colab": {
          "base_uri": "https://localhost:8080/"
        },
        "id": "EkyqFm13LJhR",
        "outputId": "451869d7-eb7c-47ff-fff4-a2c98ceb8533"
      },
      "source": [
        "print(student_info)"
      ],
      "id": "EkyqFm13LJhR",
      "execution_count": 79,
      "outputs": [
        {
          "output_type": "stream",
          "name": "stdout",
          "text": [
            "{'Ak': {'semester': 5, 'age': 19, 'cpi': 8.2}, 'Aj': {'semester': 5, 'age': 20, 'cpi': 9.0}}\n"
          ]
        }
      ]
    },
    {
      "cell_type": "markdown",
      "metadata": {
        "id": "2BLUu4GtK9eq"
      },
      "source": [
        "### 4.4.2] Print only names of students"
      ],
      "id": "2BLUu4GtK9eq"
    },
    {
      "cell_type": "code",
      "metadata": {
        "colab": {
          "base_uri": "https://localhost:8080/"
        },
        "id": "fjoDzIufLKa3",
        "outputId": "745486dd-0a5f-4f61-dbac-a88f6c0cd6a9"
      },
      "source": [
        "print(student_info.keys())"
      ],
      "id": "fjoDzIufLKa3",
      "execution_count": 80,
      "outputs": [
        {
          "output_type": "stream",
          "name": "stdout",
          "text": [
            "dict_keys(['Ak', 'Aj'])\n"
          ]
        }
      ]
    },
    {
      "cell_type": "markdown",
      "metadata": {
        "id": "IAm9UzX3LDRL"
      },
      "source": [
        "### 4.4.3] Print the name of student having highest CPI "
      ],
      "id": "IAm9UzX3LDRL"
    },
    {
      "cell_type": "code",
      "metadata": {
        "colab": {
          "base_uri": "https://localhost:8080/",
          "height": 238
        },
        "id": "rj_jbI2mLLG0",
        "outputId": "15e93f81-770c-4528-d8ed-3c5fe7b39b31"
      },
      "source": [
        "names = [x for x in student_info]\n",
        "\n",
        "cpis = [student_info.get(name).get('cpi') for name in names]\n",
        "highest = max(cpis)\n",
        "\n",
        "pos = cpis.index(highest)\n",
        "print('Student havning highest cpi :', names[pos])\n"
      ],
      "id": "rj_jbI2mLLG0",
      "execution_count": 81,
      "outputs": [
        {
          "output_type": "error",
          "ename": "TypeError",
          "evalue": "ignored",
          "traceback": [
            "\u001b[0;31m---------------------------------------------------------------------------\u001b[0m",
            "\u001b[0;31mTypeError\u001b[0m                                 Traceback (most recent call last)",
            "\u001b[0;32m<ipython-input-81-16fdc786f95a>\u001b[0m in \u001b[0;36m<module>\u001b[0;34m()\u001b[0m\n\u001b[1;32m      2\u001b[0m \u001b[0;34m\u001b[0m\u001b[0m\n\u001b[1;32m      3\u001b[0m \u001b[0mcpis\u001b[0m \u001b[0;34m=\u001b[0m \u001b[0;34m[\u001b[0m\u001b[0mstudent_info\u001b[0m\u001b[0;34m.\u001b[0m\u001b[0mget\u001b[0m\u001b[0;34m(\u001b[0m\u001b[0mname\u001b[0m\u001b[0;34m)\u001b[0m\u001b[0;34m.\u001b[0m\u001b[0mget\u001b[0m\u001b[0;34m(\u001b[0m\u001b[0;34m'cpi'\u001b[0m\u001b[0;34m)\u001b[0m \u001b[0;32mfor\u001b[0m \u001b[0mname\u001b[0m \u001b[0;32min\u001b[0m \u001b[0mnames\u001b[0m\u001b[0;34m]\u001b[0m\u001b[0;34m\u001b[0m\u001b[0;34m\u001b[0m\u001b[0m\n\u001b[0;32m----> 4\u001b[0;31m \u001b[0mhighest\u001b[0m \u001b[0;34m=\u001b[0m \u001b[0mmax\u001b[0m\u001b[0;34m(\u001b[0m\u001b[0mcpis\u001b[0m\u001b[0;34m)\u001b[0m\u001b[0;34m\u001b[0m\u001b[0;34m\u001b[0m\u001b[0m\n\u001b[0m\u001b[1;32m      5\u001b[0m \u001b[0;34m\u001b[0m\u001b[0m\n\u001b[1;32m      6\u001b[0m \u001b[0mpos\u001b[0m \u001b[0;34m=\u001b[0m \u001b[0mcpis\u001b[0m\u001b[0;34m.\u001b[0m\u001b[0mindex\u001b[0m\u001b[0;34m(\u001b[0m\u001b[0mhighest\u001b[0m\u001b[0;34m)\u001b[0m\u001b[0;34m\u001b[0m\u001b[0;34m\u001b[0m\u001b[0m\n",
            "\u001b[0;31mTypeError\u001b[0m: 'float' object is not callable"
          ]
        }
      ]
    },
    {
      "cell_type": "markdown",
      "metadata": {
        "id": "1n-ZRzuFDUck"
      },
      "source": [
        "## 4.5] Nested Dictionary Practice\n"
      ],
      "id": "1n-ZRzuFDUck"
    },
    {
      "cell_type": "markdown",
      "metadata": {
        "id": "YlXngM1qDuwc"
      },
      "source": [
        "### 4.5.1] Creating a Nested Dictionary"
      ],
      "id": "YlXngM1qDuwc"
    },
    {
      "cell_type": "code",
      "metadata": {
        "colab": {
          "base_uri": "https://localhost:8080/"
        },
        "id": "qawJPvYRDfMR",
        "outputId": "43d5895e-fc63-414f-bef6-2d46ceca4877"
      },
      "source": [
        "faculty = {1: {'name': 'Akj', 'contact': 1234567890, 'city': 'city1'},\n",
        "           2: {'name': 'sk', 'contact': 9987654321, 'city': 'city1'},\n",
        "           3: {'name': 'ap', 'contact': 1234509876, 'city': 'city2'}}\n",
        "\n",
        "print(faculty)"
      ],
      "id": "qawJPvYRDfMR",
      "execution_count": 82,
      "outputs": [
        {
          "output_type": "stream",
          "name": "stdout",
          "text": [
            "{1: {'name': 'Akj', 'contact': 1234567890, 'city': 'city1'}, 2: {'name': 'sk', 'contact': 9987654321, 'city': 'city1'}, 3: {'name': 'ap', 'contact': 1234509876, 'city': 'city2'}}\n"
          ]
        }
      ]
    },
    {
      "cell_type": "markdown",
      "metadata": {
        "id": "ezeKCoMUF2RX"
      },
      "source": [
        "### 4.5.2] Accessing elements"
      ],
      "id": "ezeKCoMUF2RX"
    },
    {
      "cell_type": "code",
      "metadata": {
        "colab": {
          "base_uri": "https://localhost:8080/"
        },
        "id": "2gciLyKOElKm",
        "outputId": "7a5b69c1-0625-40e0-ed16-cd61161e2fdd"
      },
      "source": [
        "print(faculty[1]['name'])\n",
        "print(faculty[2]['contact'])\n",
        "print(faculty[3]['city'])\n",
        "\n",
        "for x in faculty.keys():\n",
        "  print(faculty[x])"
      ],
      "id": "2gciLyKOElKm",
      "execution_count": 83,
      "outputs": [
        {
          "output_type": "stream",
          "name": "stdout",
          "text": [
            "Akj\n",
            "9987654321\n",
            "city2\n",
            "{'name': 'Akj', 'contact': 1234567890, 'city': 'city1'}\n",
            "{'name': 'sk', 'contact': 9987654321, 'city': 'city1'}\n",
            "{'name': 'ap', 'contact': 1234509876, 'city': 'city2'}\n"
          ]
        }
      ]
    },
    {
      "cell_type": "markdown",
      "metadata": {
        "id": "Q8QAtzaZHCxe"
      },
      "source": [
        "### 4.5.3] Adding element "
      ],
      "id": "Q8QAtzaZHCxe"
    },
    {
      "cell_type": "code",
      "metadata": {
        "colab": {
          "base_uri": "https://localhost:8080/"
        },
        "id": "i5cBqINmGA1K",
        "outputId": "8a1624d0-7332-4466-fa98-2ccf82cf93c5"
      },
      "source": [
        "faculty[4] = {}\n",
        "faculty[4]['name'] = 'SP'\n",
        "# faculty[4]['contact'] = 5432109876\n",
        "faculty[4]['city'] = 'city2'\n",
        "\n",
        "faculty[5] = {'name': 'LK', 'contact': 5647382910, 'city': 'city2', 'married': 'yes'}\n",
        "\n",
        "for x in faculty.keys():\n",
        "  print(faculty[x])"
      ],
      "id": "i5cBqINmGA1K",
      "execution_count": 84,
      "outputs": [
        {
          "output_type": "stream",
          "name": "stdout",
          "text": [
            "{'name': 'Akj', 'contact': 1234567890, 'city': 'city1'}\n",
            "{'name': 'sk', 'contact': 9987654321, 'city': 'city1'}\n",
            "{'name': 'ap', 'contact': 1234509876, 'city': 'city2'}\n",
            "{'name': 'SP', 'city': 'city2'}\n",
            "{'name': 'LK', 'contact': 5647382910, 'city': 'city2', 'married': 'yes'}\n"
          ]
        }
      ]
    },
    {
      "cell_type": "markdown",
      "metadata": {
        "id": "6Jf5NmZPLD4H"
      },
      "source": [
        "### 4.5.4] Deleting elemets"
      ],
      "id": "6Jf5NmZPLD4H"
    },
    {
      "cell_type": "code",
      "metadata": {
        "colab": {
          "base_uri": "https://localhost:8080/"
        },
        "id": "Dx5ut8lOHVul",
        "outputId": "f2a7c746-c33d-4b86-d876-777f24404da7"
      },
      "source": [
        "del faculty[5]['married']\n",
        "del faculty[3], faculty[4]\n",
        "\n",
        "for key in faculty.keys():\n",
        "  print(faculty[key])\n"
      ],
      "id": "Dx5ut8lOHVul",
      "execution_count": 85,
      "outputs": [
        {
          "output_type": "stream",
          "name": "stdout",
          "text": [
            "{'name': 'Akj', 'contact': 1234567890, 'city': 'city1'}\n",
            "{'name': 'sk', 'contact': 9987654321, 'city': 'city1'}\n",
            "{'name': 'LK', 'contact': 5647382910, 'city': 'city2'}\n"
          ]
        }
      ]
    },
    {
      "cell_type": "markdown",
      "metadata": {
        "id": "3cV3wJsdMJvx"
      },
      "source": [
        "### 4.5.5] Iterating through Nested Dictionary"
      ],
      "id": "3cV3wJsdMJvx"
    },
    {
      "cell_type": "code",
      "metadata": {
        "colab": {
          "base_uri": "https://localhost:8080/"
        },
        "id": "cjoXhAsqL4-s",
        "outputId": "4b150031-6909-4139-f887-7cf79660e128"
      },
      "source": [
        "for id, value in faculty.items():\n",
        "  print('Faculty ID =', id)\n",
        "\n",
        "  for key in value:\n",
        "    print(key, '=', value[key])\n",
        "  print('\\n')"
      ],
      "id": "cjoXhAsqL4-s",
      "execution_count": 86,
      "outputs": [
        {
          "output_type": "stream",
          "name": "stdout",
          "text": [
            "Faculty ID = 1\n",
            "name = Akj\n",
            "contact = 1234567890\n",
            "city = city1\n",
            "\n",
            "\n",
            "Faculty ID = 2\n",
            "name = sk\n",
            "contact = 9987654321\n",
            "city = city1\n",
            "\n",
            "\n",
            "Faculty ID = 5\n",
            "name = LK\n",
            "contact = 5647382910\n",
            "city = city2\n",
            "\n",
            "\n"
          ]
        }
      ]
    },
    {
      "cell_type": "markdown",
      "metadata": {
        "id": "VOFe6xdrMkRQ"
      },
      "source": [
        "# 5] Write a python program to explore various types of files (csv, excel etc.) using pandas.\n",
        "---"
      ],
      "id": "VOFe6xdrMkRQ"
    },
    {
      "cell_type": "markdown",
      "metadata": {
        "id": "qNtIUg1sR9Fv"
      },
      "source": [
        "## Importing Pandas and defining data."
      ],
      "id": "qNtIUg1sR9Fv"
    },
    {
      "cell_type": "markdown",
      "metadata": {
        "id": "ZYtxLYmdOj6P"
      },
      "source": [
        "First of all ,\n",
        "\n",
        "To use pandas library, we need to install pandas and import it.\n",
        "\n",
        "Conventionally we use alias 'pd' for pandas library "
      ],
      "id": "ZYtxLYmdOj6P"
    },
    {
      "cell_type": "code",
      "metadata": {
        "id": "GXLqo4NWNeic"
      },
      "source": [
        "import pandas as pd"
      ],
      "id": "GXLqo4NWNeic",
      "execution_count": 87,
      "outputs": []
    },
    {
      "cell_type": "markdown",
      "metadata": {
        "id": "698bohGfPKtg"
      },
      "source": [
        "Next cell defines data \n",
        "\n",
        "we are using data of different countries ( such as population, GDP, Continent etc.) "
      ],
      "id": "698bohGfPKtg"
    },
    {
      "cell_type": "code",
      "metadata": {
        "id": "BMKEbbV-Ns6U"
      },
      "source": [
        "contries_data = {\n",
        "    'CHN': {'COUNTRY': 'China', 'POP': 1_398.72, 'AREA': 9_596.96,\n",
        "            'GDP': 12_234.78, 'CONT': 'Asia'},\n",
        "    'IND': {'COUNTRY': 'India', 'POP': 1_351.16, 'AREA': 3_287.26,\n",
        "            'GDP': 2_575.67, 'CONT': 'Asia', 'IND_DAY': '1947-08-15'},\n",
        "    'USA': {'COUNTRY': 'US', 'POP': 329.74, 'AREA': 9_833.52,\n",
        "            'GDP': 19_485.39, 'CONT': 'N.America',\n",
        "            'IND_DAY': '1776-07-04'},\n",
        "    'IDN': {'COUNTRY': 'Indonesia', 'POP': 268.07, 'AREA': 1_910.93,\n",
        "            'GDP': 1_015.54, 'CONT': 'Asia', 'IND_DAY': '1945-08-17'},\n",
        "    'BRA': {'COUNTRY': 'Brazil', 'POP': 210.32, 'AREA': 8_515.77,\n",
        "            'GDP': 2_055.51, 'CONT': 'S.America', 'IND_DAY': '1822-09-07'},\n",
        "    'PAK': {'COUNTRY': 'Pakistan', 'POP': 205.71, 'AREA': 881.91,\n",
        "            'GDP': 302.14, 'CONT': 'Asia', 'IND_DAY': '1947-08-14'},\n",
        "    'NGA': {'COUNTRY': 'Nigeria', 'POP': 200.96, 'AREA': 923.77,\n",
        "            'GDP': 375.77, 'CONT': 'Africa', 'IND_DAY': '1960-10-01'},\n",
        "    'BGD': {'COUNTRY': 'Bangladesh', 'POP': 167.09, 'AREA': 147.57,\n",
        "            'GDP': 245.63, 'CONT': 'Asia', 'IND_DAY': '1971-03-26'},\n",
        "    'RUS': {'COUNTRY': 'Russia', 'POP': 146.79, 'AREA': 17_098.25,\n",
        "            'GDP': 1_530.75, 'IND_DAY': '1992-06-12'},\n",
        "    'MEX': {'COUNTRY': 'Mexico', 'POP': 126.58, 'AREA': 1_964.38,\n",
        "            'GDP': 1_158.23, 'CONT': 'N.America', 'IND_DAY': '1810-09-16'},\n",
        "    'JPN': {'COUNTRY': 'Japan', 'POP': 126.22, 'AREA': 377.97,\n",
        "            'GDP': 4_872.42, 'CONT': 'Asia'},\n",
        "    'DEU': {'COUNTRY': 'Germany', 'POP': 83.02, 'AREA': 357.11,\n",
        "            'GDP': 3_693.20, 'CONT': 'Europe'},\n",
        "    'FRA': {'COUNTRY': 'France', 'POP': 67.02, 'AREA': 640.68,\n",
        "            'GDP': 2_582.49, 'CONT': 'Europe', 'IND_DAY': '1789-07-14'},\n",
        "    'GBR': {'COUNTRY': 'UK', 'POP': 66.44, 'AREA': 242.50,\n",
        "            'GDP': 2_631.23, 'CONT': 'Europe'},\n",
        "    'ITA': {'COUNTRY': 'Italy', 'POP': 60.36, 'AREA': 301.34,\n",
        "            'GDP': 1_943.84, 'CONT': 'Europe'},\n",
        "    'ARG': {'COUNTRY': 'Argentina', 'POP': 44.94, 'AREA': 2_780.40,\n",
        "            'GDP': 637.49, 'CONT': 'S.America', 'IND_DAY': '1816-07-09'},\n",
        "    'DZA': {'COUNTRY': 'Algeria', 'POP': 43.38, 'AREA': 2_381.74,\n",
        "            'GDP': 167.56, 'CONT': 'Africa', 'IND_DAY': '1962-07-05'},\n",
        "    'CAN': {'COUNTRY': 'Canada', 'POP': 37.59, 'AREA': 9_984.67,\n",
        "            'GDP': 1_647.12, 'CONT': 'N.America', 'IND_DAY': '1867-07-01'},\n",
        "    'AUS': {'COUNTRY': 'Australia', 'POP': 25.47, 'AREA': 7_692.02,\n",
        "            'GDP': 1_408.68, 'CONT': 'Oceania'},\n",
        "    'KAZ': {'COUNTRY': 'Kazakhstan', 'POP': 18.53, 'AREA': 2_724.90,\n",
        "            'GDP': 159.41, 'CONT': 'Asia', 'IND_DAY': '1991-12-16'}\n",
        "}\n",
        "\n",
        "columns = ('COUNTRY', 'POP', 'AREA', 'GDP', 'CONT', 'IND_DAY')"
      ],
      "id": "BMKEbbV-Ns6U",
      "execution_count": 88,
      "outputs": []
    },
    {
      "cell_type": "markdown",
      "metadata": {
        "id": "6TeOHhtnPoTZ"
      },
      "source": [
        "## Using pandas DataFrame "
      ],
      "id": "6TeOHhtnPoTZ"
    },
    {
      "cell_type": "markdown",
      "metadata": {
        "id": "-myi1ucJPxBR"
      },
      "source": [
        "DataFrame is pandas way of storing and visiualizing data\n",
        "\n",
        "to convert our dictionary ( or any DataStructure ) in pandas DataFrame object , we use ```pd.DataFrame(data_variable_name)```.\n",
        "\n",
        "It returns our data in DataFrame format , so we need to store it in some variable."
      ],
      "id": "-myi1ucJPxBR"
    },
    {
      "cell_type": "code",
      "metadata": {
        "colab": {
          "base_uri": "https://localhost:8080/"
        },
        "id": "ja_y3PsCN2jz",
        "outputId": "099388b1-05c9-40d0-e6f6-13431d2ef93e"
      },
      "source": [
        "# We stored our data in 'contries_data' variable\n",
        "# Let's store the returned DataFrame Object in df (DataFrame)\n",
        "df = pd.DataFrame(contries_data)\n",
        "\n",
        "# we can use print function\n",
        "print(df)"
      ],
      "id": "ja_y3PsCN2jz",
      "execution_count": 89,
      "outputs": [
        {
          "output_type": "stream",
          "name": "stdout",
          "text": [
            "             CHN         IND         USA  ...         CAN        AUS         KAZ\n",
            "COUNTRY    China       India          US  ...      Canada  Australia  Kazakhstan\n",
            "POP      1398.72     1351.16      329.74  ...       37.59      25.47       18.53\n",
            "AREA     9596.96     3287.26     9833.52  ...     9984.67    7692.02      2724.9\n",
            "GDP      12234.8     2575.67     19485.4  ...     1647.12    1408.68      159.41\n",
            "CONT        Asia        Asia   N.America  ...   N.America    Oceania        Asia\n",
            "IND_DAY      NaN  1947-08-15  1776-07-04  ...  1867-07-01        NaN  1991-12-16\n",
            "\n",
            "[6 rows x 20 columns]\n"
          ]
        }
      ]
    },
    {
      "cell_type": "code",
      "metadata": {
        "colab": {
          "base_uri": "https://localhost:8080/",
          "height": 270
        },
        "id": "hOws3-DqOEbS",
        "outputId": "369a735b-f7ad-4911-e2a7-d7510e8c712d"
      },
      "source": [
        "# We are not getting whole data , also representation is not good \n",
        "# Let's use something better\n",
        "# We can directly call our dataframe object and it will print the data \n",
        "df"
      ],
      "id": "hOws3-DqOEbS",
      "execution_count": 90,
      "outputs": [
        {
          "output_type": "execute_result",
          "data": {
            "text/html": [
              "<div>\n",
              "<style scoped>\n",
              "    .dataframe tbody tr th:only-of-type {\n",
              "        vertical-align: middle;\n",
              "    }\n",
              "\n",
              "    .dataframe tbody tr th {\n",
              "        vertical-align: top;\n",
              "    }\n",
              "\n",
              "    .dataframe thead th {\n",
              "        text-align: right;\n",
              "    }\n",
              "</style>\n",
              "<table border=\"1\" class=\"dataframe\">\n",
              "  <thead>\n",
              "    <tr style=\"text-align: right;\">\n",
              "      <th></th>\n",
              "      <th>CHN</th>\n",
              "      <th>IND</th>\n",
              "      <th>USA</th>\n",
              "      <th>IDN</th>\n",
              "      <th>BRA</th>\n",
              "      <th>PAK</th>\n",
              "      <th>NGA</th>\n",
              "      <th>BGD</th>\n",
              "      <th>RUS</th>\n",
              "      <th>MEX</th>\n",
              "      <th>JPN</th>\n",
              "      <th>DEU</th>\n",
              "      <th>FRA</th>\n",
              "      <th>GBR</th>\n",
              "      <th>ITA</th>\n",
              "      <th>ARG</th>\n",
              "      <th>DZA</th>\n",
              "      <th>CAN</th>\n",
              "      <th>AUS</th>\n",
              "      <th>KAZ</th>\n",
              "    </tr>\n",
              "  </thead>\n",
              "  <tbody>\n",
              "    <tr>\n",
              "      <th>COUNTRY</th>\n",
              "      <td>China</td>\n",
              "      <td>India</td>\n",
              "      <td>US</td>\n",
              "      <td>Indonesia</td>\n",
              "      <td>Brazil</td>\n",
              "      <td>Pakistan</td>\n",
              "      <td>Nigeria</td>\n",
              "      <td>Bangladesh</td>\n",
              "      <td>Russia</td>\n",
              "      <td>Mexico</td>\n",
              "      <td>Japan</td>\n",
              "      <td>Germany</td>\n",
              "      <td>France</td>\n",
              "      <td>UK</td>\n",
              "      <td>Italy</td>\n",
              "      <td>Argentina</td>\n",
              "      <td>Algeria</td>\n",
              "      <td>Canada</td>\n",
              "      <td>Australia</td>\n",
              "      <td>Kazakhstan</td>\n",
              "    </tr>\n",
              "    <tr>\n",
              "      <th>POP</th>\n",
              "      <td>1398.72</td>\n",
              "      <td>1351.16</td>\n",
              "      <td>329.74</td>\n",
              "      <td>268.07</td>\n",
              "      <td>210.32</td>\n",
              "      <td>205.71</td>\n",
              "      <td>200.96</td>\n",
              "      <td>167.09</td>\n",
              "      <td>146.79</td>\n",
              "      <td>126.58</td>\n",
              "      <td>126.22</td>\n",
              "      <td>83.02</td>\n",
              "      <td>67.02</td>\n",
              "      <td>66.44</td>\n",
              "      <td>60.36</td>\n",
              "      <td>44.94</td>\n",
              "      <td>43.38</td>\n",
              "      <td>37.59</td>\n",
              "      <td>25.47</td>\n",
              "      <td>18.53</td>\n",
              "    </tr>\n",
              "    <tr>\n",
              "      <th>AREA</th>\n",
              "      <td>9596.96</td>\n",
              "      <td>3287.26</td>\n",
              "      <td>9833.52</td>\n",
              "      <td>1910.93</td>\n",
              "      <td>8515.77</td>\n",
              "      <td>881.91</td>\n",
              "      <td>923.77</td>\n",
              "      <td>147.57</td>\n",
              "      <td>17098.2</td>\n",
              "      <td>1964.38</td>\n",
              "      <td>377.97</td>\n",
              "      <td>357.11</td>\n",
              "      <td>640.68</td>\n",
              "      <td>242.5</td>\n",
              "      <td>301.34</td>\n",
              "      <td>2780.4</td>\n",
              "      <td>2381.74</td>\n",
              "      <td>9984.67</td>\n",
              "      <td>7692.02</td>\n",
              "      <td>2724.9</td>\n",
              "    </tr>\n",
              "    <tr>\n",
              "      <th>GDP</th>\n",
              "      <td>12234.8</td>\n",
              "      <td>2575.67</td>\n",
              "      <td>19485.4</td>\n",
              "      <td>1015.54</td>\n",
              "      <td>2055.51</td>\n",
              "      <td>302.14</td>\n",
              "      <td>375.77</td>\n",
              "      <td>245.63</td>\n",
              "      <td>1530.75</td>\n",
              "      <td>1158.23</td>\n",
              "      <td>4872.42</td>\n",
              "      <td>3693.2</td>\n",
              "      <td>2582.49</td>\n",
              "      <td>2631.23</td>\n",
              "      <td>1943.84</td>\n",
              "      <td>637.49</td>\n",
              "      <td>167.56</td>\n",
              "      <td>1647.12</td>\n",
              "      <td>1408.68</td>\n",
              "      <td>159.41</td>\n",
              "    </tr>\n",
              "    <tr>\n",
              "      <th>CONT</th>\n",
              "      <td>Asia</td>\n",
              "      <td>Asia</td>\n",
              "      <td>N.America</td>\n",
              "      <td>Asia</td>\n",
              "      <td>S.America</td>\n",
              "      <td>Asia</td>\n",
              "      <td>Africa</td>\n",
              "      <td>Asia</td>\n",
              "      <td>NaN</td>\n",
              "      <td>N.America</td>\n",
              "      <td>Asia</td>\n",
              "      <td>Europe</td>\n",
              "      <td>Europe</td>\n",
              "      <td>Europe</td>\n",
              "      <td>Europe</td>\n",
              "      <td>S.America</td>\n",
              "      <td>Africa</td>\n",
              "      <td>N.America</td>\n",
              "      <td>Oceania</td>\n",
              "      <td>Asia</td>\n",
              "    </tr>\n",
              "    <tr>\n",
              "      <th>IND_DAY</th>\n",
              "      <td>NaN</td>\n",
              "      <td>1947-08-15</td>\n",
              "      <td>1776-07-04</td>\n",
              "      <td>1945-08-17</td>\n",
              "      <td>1822-09-07</td>\n",
              "      <td>1947-08-14</td>\n",
              "      <td>1960-10-01</td>\n",
              "      <td>1971-03-26</td>\n",
              "      <td>1992-06-12</td>\n",
              "      <td>1810-09-16</td>\n",
              "      <td>NaN</td>\n",
              "      <td>NaN</td>\n",
              "      <td>1789-07-14</td>\n",
              "      <td>NaN</td>\n",
              "      <td>NaN</td>\n",
              "      <td>1816-07-09</td>\n",
              "      <td>1962-07-05</td>\n",
              "      <td>1867-07-01</td>\n",
              "      <td>NaN</td>\n",
              "      <td>1991-12-16</td>\n",
              "    </tr>\n",
              "  </tbody>\n",
              "</table>\n",
              "</div>"
            ],
            "text/plain": [
              "             CHN         IND         USA  ...         CAN        AUS         KAZ\n",
              "COUNTRY    China       India          US  ...      Canada  Australia  Kazakhstan\n",
              "POP      1398.72     1351.16      329.74  ...       37.59      25.47       18.53\n",
              "AREA     9596.96     3287.26     9833.52  ...     9984.67    7692.02      2724.9\n",
              "GDP      12234.8     2575.67     19485.4  ...     1647.12    1408.68      159.41\n",
              "CONT        Asia        Asia   N.America  ...   N.America    Oceania        Asia\n",
              "IND_DAY      NaN  1947-08-15  1776-07-04  ...  1867-07-01        NaN  1991-12-16\n",
              "\n",
              "[6 rows x 20 columns]"
            ]
          },
          "metadata": {},
          "execution_count": 90
        }
      ]
    },
    {
      "cell_type": "code",
      "metadata": {
        "colab": {
          "base_uri": "https://localhost:8080/",
          "height": 665
        },
        "id": "sx5CC6QcOG_r",
        "outputId": "d52f38db-ecb2-4e08-caef-9b86eb5c6cb3"
      },
      "source": [
        "# Much better but , Let's also transpose it. To make it more intuitive. \n",
        "df = pd.DataFrame(contries_data, index=columns).T # Notice, using .T results in transposing the data\n",
        "df"
      ],
      "id": "sx5CC6QcOG_r",
      "execution_count": 91,
      "outputs": [
        {
          "output_type": "execute_result",
          "data": {
            "text/html": [
              "<div>\n",
              "<style scoped>\n",
              "    .dataframe tbody tr th:only-of-type {\n",
              "        vertical-align: middle;\n",
              "    }\n",
              "\n",
              "    .dataframe tbody tr th {\n",
              "        vertical-align: top;\n",
              "    }\n",
              "\n",
              "    .dataframe thead th {\n",
              "        text-align: right;\n",
              "    }\n",
              "</style>\n",
              "<table border=\"1\" class=\"dataframe\">\n",
              "  <thead>\n",
              "    <tr style=\"text-align: right;\">\n",
              "      <th></th>\n",
              "      <th>COUNTRY</th>\n",
              "      <th>POP</th>\n",
              "      <th>AREA</th>\n",
              "      <th>GDP</th>\n",
              "      <th>CONT</th>\n",
              "      <th>IND_DAY</th>\n",
              "    </tr>\n",
              "  </thead>\n",
              "  <tbody>\n",
              "    <tr>\n",
              "      <th>CHN</th>\n",
              "      <td>China</td>\n",
              "      <td>1398.72</td>\n",
              "      <td>9596.96</td>\n",
              "      <td>12234.8</td>\n",
              "      <td>Asia</td>\n",
              "      <td>NaN</td>\n",
              "    </tr>\n",
              "    <tr>\n",
              "      <th>IND</th>\n",
              "      <td>India</td>\n",
              "      <td>1351.16</td>\n",
              "      <td>3287.26</td>\n",
              "      <td>2575.67</td>\n",
              "      <td>Asia</td>\n",
              "      <td>1947-08-15</td>\n",
              "    </tr>\n",
              "    <tr>\n",
              "      <th>USA</th>\n",
              "      <td>US</td>\n",
              "      <td>329.74</td>\n",
              "      <td>9833.52</td>\n",
              "      <td>19485.4</td>\n",
              "      <td>N.America</td>\n",
              "      <td>1776-07-04</td>\n",
              "    </tr>\n",
              "    <tr>\n",
              "      <th>IDN</th>\n",
              "      <td>Indonesia</td>\n",
              "      <td>268.07</td>\n",
              "      <td>1910.93</td>\n",
              "      <td>1015.54</td>\n",
              "      <td>Asia</td>\n",
              "      <td>1945-08-17</td>\n",
              "    </tr>\n",
              "    <tr>\n",
              "      <th>BRA</th>\n",
              "      <td>Brazil</td>\n",
              "      <td>210.32</td>\n",
              "      <td>8515.77</td>\n",
              "      <td>2055.51</td>\n",
              "      <td>S.America</td>\n",
              "      <td>1822-09-07</td>\n",
              "    </tr>\n",
              "    <tr>\n",
              "      <th>PAK</th>\n",
              "      <td>Pakistan</td>\n",
              "      <td>205.71</td>\n",
              "      <td>881.91</td>\n",
              "      <td>302.14</td>\n",
              "      <td>Asia</td>\n",
              "      <td>1947-08-14</td>\n",
              "    </tr>\n",
              "    <tr>\n",
              "      <th>NGA</th>\n",
              "      <td>Nigeria</td>\n",
              "      <td>200.96</td>\n",
              "      <td>923.77</td>\n",
              "      <td>375.77</td>\n",
              "      <td>Africa</td>\n",
              "      <td>1960-10-01</td>\n",
              "    </tr>\n",
              "    <tr>\n",
              "      <th>BGD</th>\n",
              "      <td>Bangladesh</td>\n",
              "      <td>167.09</td>\n",
              "      <td>147.57</td>\n",
              "      <td>245.63</td>\n",
              "      <td>Asia</td>\n",
              "      <td>1971-03-26</td>\n",
              "    </tr>\n",
              "    <tr>\n",
              "      <th>RUS</th>\n",
              "      <td>Russia</td>\n",
              "      <td>146.79</td>\n",
              "      <td>17098.2</td>\n",
              "      <td>1530.75</td>\n",
              "      <td>NaN</td>\n",
              "      <td>1992-06-12</td>\n",
              "    </tr>\n",
              "    <tr>\n",
              "      <th>MEX</th>\n",
              "      <td>Mexico</td>\n",
              "      <td>126.58</td>\n",
              "      <td>1964.38</td>\n",
              "      <td>1158.23</td>\n",
              "      <td>N.America</td>\n",
              "      <td>1810-09-16</td>\n",
              "    </tr>\n",
              "    <tr>\n",
              "      <th>JPN</th>\n",
              "      <td>Japan</td>\n",
              "      <td>126.22</td>\n",
              "      <td>377.97</td>\n",
              "      <td>4872.42</td>\n",
              "      <td>Asia</td>\n",
              "      <td>NaN</td>\n",
              "    </tr>\n",
              "    <tr>\n",
              "      <th>DEU</th>\n",
              "      <td>Germany</td>\n",
              "      <td>83.02</td>\n",
              "      <td>357.11</td>\n",
              "      <td>3693.2</td>\n",
              "      <td>Europe</td>\n",
              "      <td>NaN</td>\n",
              "    </tr>\n",
              "    <tr>\n",
              "      <th>FRA</th>\n",
              "      <td>France</td>\n",
              "      <td>67.02</td>\n",
              "      <td>640.68</td>\n",
              "      <td>2582.49</td>\n",
              "      <td>Europe</td>\n",
              "      <td>1789-07-14</td>\n",
              "    </tr>\n",
              "    <tr>\n",
              "      <th>GBR</th>\n",
              "      <td>UK</td>\n",
              "      <td>66.44</td>\n",
              "      <td>242.5</td>\n",
              "      <td>2631.23</td>\n",
              "      <td>Europe</td>\n",
              "      <td>NaN</td>\n",
              "    </tr>\n",
              "    <tr>\n",
              "      <th>ITA</th>\n",
              "      <td>Italy</td>\n",
              "      <td>60.36</td>\n",
              "      <td>301.34</td>\n",
              "      <td>1943.84</td>\n",
              "      <td>Europe</td>\n",
              "      <td>NaN</td>\n",
              "    </tr>\n",
              "    <tr>\n",
              "      <th>ARG</th>\n",
              "      <td>Argentina</td>\n",
              "      <td>44.94</td>\n",
              "      <td>2780.4</td>\n",
              "      <td>637.49</td>\n",
              "      <td>S.America</td>\n",
              "      <td>1816-07-09</td>\n",
              "    </tr>\n",
              "    <tr>\n",
              "      <th>DZA</th>\n",
              "      <td>Algeria</td>\n",
              "      <td>43.38</td>\n",
              "      <td>2381.74</td>\n",
              "      <td>167.56</td>\n",
              "      <td>Africa</td>\n",
              "      <td>1962-07-05</td>\n",
              "    </tr>\n",
              "    <tr>\n",
              "      <th>CAN</th>\n",
              "      <td>Canada</td>\n",
              "      <td>37.59</td>\n",
              "      <td>9984.67</td>\n",
              "      <td>1647.12</td>\n",
              "      <td>N.America</td>\n",
              "      <td>1867-07-01</td>\n",
              "    </tr>\n",
              "    <tr>\n",
              "      <th>AUS</th>\n",
              "      <td>Australia</td>\n",
              "      <td>25.47</td>\n",
              "      <td>7692.02</td>\n",
              "      <td>1408.68</td>\n",
              "      <td>Oceania</td>\n",
              "      <td>NaN</td>\n",
              "    </tr>\n",
              "    <tr>\n",
              "      <th>KAZ</th>\n",
              "      <td>Kazakhstan</td>\n",
              "      <td>18.53</td>\n",
              "      <td>2724.9</td>\n",
              "      <td>159.41</td>\n",
              "      <td>Asia</td>\n",
              "      <td>1991-12-16</td>\n",
              "    </tr>\n",
              "  </tbody>\n",
              "</table>\n",
              "</div>"
            ],
            "text/plain": [
              "        COUNTRY      POP     AREA      GDP       CONT     IND_DAY\n",
              "CHN       China  1398.72  9596.96  12234.8       Asia         NaN\n",
              "IND       India  1351.16  3287.26  2575.67       Asia  1947-08-15\n",
              "USA          US   329.74  9833.52  19485.4  N.America  1776-07-04\n",
              "IDN   Indonesia   268.07  1910.93  1015.54       Asia  1945-08-17\n",
              "BRA      Brazil   210.32  8515.77  2055.51  S.America  1822-09-07\n",
              "PAK    Pakistan   205.71   881.91   302.14       Asia  1947-08-14\n",
              "NGA     Nigeria   200.96   923.77   375.77     Africa  1960-10-01\n",
              "BGD  Bangladesh   167.09   147.57   245.63       Asia  1971-03-26\n",
              "RUS      Russia   146.79  17098.2  1530.75        NaN  1992-06-12\n",
              "MEX      Mexico   126.58  1964.38  1158.23  N.America  1810-09-16\n",
              "JPN       Japan   126.22   377.97  4872.42       Asia         NaN\n",
              "DEU     Germany    83.02   357.11   3693.2     Europe         NaN\n",
              "FRA      France    67.02   640.68  2582.49     Europe  1789-07-14\n",
              "GBR          UK    66.44    242.5  2631.23     Europe         NaN\n",
              "ITA       Italy    60.36   301.34  1943.84     Europe         NaN\n",
              "ARG   Argentina    44.94   2780.4   637.49  S.America  1816-07-09\n",
              "DZA     Algeria    43.38  2381.74   167.56     Africa  1962-07-05\n",
              "CAN      Canada    37.59  9984.67  1647.12  N.America  1867-07-01\n",
              "AUS   Australia    25.47  7692.02  1408.68    Oceania         NaN\n",
              "KAZ  Kazakhstan    18.53   2724.9   159.41       Asia  1991-12-16"
            ]
          },
          "metadata": {},
          "execution_count": 91
        }
      ]
    },
    {
      "cell_type": "markdown",
      "metadata": {
        "id": "Aj1Zuh94R0Tt"
      },
      "source": [
        "## Using Pandas to convert data in various format types."
      ],
      "id": "Aj1Zuh94R0Tt"
    },
    {
      "cell_type": "markdown",
      "metadata": {
        "id": "wrzW7_DuSFim"
      },
      "source": [
        "### CSV Format type"
      ],
      "id": "wrzW7_DuSFim"
    },
    {
      "cell_type": "markdown",
      "metadata": {
        "id": "Cc72aS7VSL9D"
      },
      "source": [
        "Use ```to_csv('file_name.csv')``` to convert DataFrame in CSV format"
      ],
      "id": "Cc72aS7VSL9D"
    },
    {
      "cell_type": "code",
      "metadata": {
        "id": "zOwsJ7FlOJLj"
      },
      "source": [
        "# Let's convert our contries_data into csv format\n",
        "# our contries data is stored in df variable \n",
        "df.to_csv('contries_data.csv')  # NOTE : we give the filename whatever we like but its extension must be .csv\n",
        "\n",
        "# if you check your colab folder , \n",
        "# you can see contries_data.csv file."
      ],
      "id": "zOwsJ7FlOJLj",
      "execution_count": 92,
      "outputs": []
    },
    {
      "cell_type": "markdown",
      "metadata": {
        "id": "StL2KJ8HSz0v"
      },
      "source": [
        "Use ```pd.read_csv(filename)``` to read csv file.\n",
        "\n",
        "This function returns DataFrame object , so we need to store it in some variable."
      ],
      "id": "StL2KJ8HSz0v"
    },
    {
      "cell_type": "code",
      "metadata": {
        "colab": {
          "base_uri": "https://localhost:8080/",
          "height": 665
        },
        "id": "H43Yw5gbOLe7",
        "outputId": "617f4116-c0ce-4c6b-9bed-2a733f00c559"
      },
      "source": [
        "df = pd.read_csv('contries_data.csv') # NOTE : Only file with extension .csv can be read. \n",
        "# Now that it returns DataFrame object , we can print it like below\n",
        "df"
      ],
      "id": "H43Yw5gbOLe7",
      "execution_count": 93,
      "outputs": [
        {
          "output_type": "execute_result",
          "data": {
            "text/html": [
              "<div>\n",
              "<style scoped>\n",
              "    .dataframe tbody tr th:only-of-type {\n",
              "        vertical-align: middle;\n",
              "    }\n",
              "\n",
              "    .dataframe tbody tr th {\n",
              "        vertical-align: top;\n",
              "    }\n",
              "\n",
              "    .dataframe thead th {\n",
              "        text-align: right;\n",
              "    }\n",
              "</style>\n",
              "<table border=\"1\" class=\"dataframe\">\n",
              "  <thead>\n",
              "    <tr style=\"text-align: right;\">\n",
              "      <th></th>\n",
              "      <th>Unnamed: 0</th>\n",
              "      <th>COUNTRY</th>\n",
              "      <th>POP</th>\n",
              "      <th>AREA</th>\n",
              "      <th>GDP</th>\n",
              "      <th>CONT</th>\n",
              "      <th>IND_DAY</th>\n",
              "    </tr>\n",
              "  </thead>\n",
              "  <tbody>\n",
              "    <tr>\n",
              "      <th>0</th>\n",
              "      <td>CHN</td>\n",
              "      <td>China</td>\n",
              "      <td>1398.72</td>\n",
              "      <td>9596.96</td>\n",
              "      <td>12234.78</td>\n",
              "      <td>Asia</td>\n",
              "      <td>NaN</td>\n",
              "    </tr>\n",
              "    <tr>\n",
              "      <th>1</th>\n",
              "      <td>IND</td>\n",
              "      <td>India</td>\n",
              "      <td>1351.16</td>\n",
              "      <td>3287.26</td>\n",
              "      <td>2575.67</td>\n",
              "      <td>Asia</td>\n",
              "      <td>1947-08-15</td>\n",
              "    </tr>\n",
              "    <tr>\n",
              "      <th>2</th>\n",
              "      <td>USA</td>\n",
              "      <td>US</td>\n",
              "      <td>329.74</td>\n",
              "      <td>9833.52</td>\n",
              "      <td>19485.39</td>\n",
              "      <td>N.America</td>\n",
              "      <td>1776-07-04</td>\n",
              "    </tr>\n",
              "    <tr>\n",
              "      <th>3</th>\n",
              "      <td>IDN</td>\n",
              "      <td>Indonesia</td>\n",
              "      <td>268.07</td>\n",
              "      <td>1910.93</td>\n",
              "      <td>1015.54</td>\n",
              "      <td>Asia</td>\n",
              "      <td>1945-08-17</td>\n",
              "    </tr>\n",
              "    <tr>\n",
              "      <th>4</th>\n",
              "      <td>BRA</td>\n",
              "      <td>Brazil</td>\n",
              "      <td>210.32</td>\n",
              "      <td>8515.77</td>\n",
              "      <td>2055.51</td>\n",
              "      <td>S.America</td>\n",
              "      <td>1822-09-07</td>\n",
              "    </tr>\n",
              "    <tr>\n",
              "      <th>5</th>\n",
              "      <td>PAK</td>\n",
              "      <td>Pakistan</td>\n",
              "      <td>205.71</td>\n",
              "      <td>881.91</td>\n",
              "      <td>302.14</td>\n",
              "      <td>Asia</td>\n",
              "      <td>1947-08-14</td>\n",
              "    </tr>\n",
              "    <tr>\n",
              "      <th>6</th>\n",
              "      <td>NGA</td>\n",
              "      <td>Nigeria</td>\n",
              "      <td>200.96</td>\n",
              "      <td>923.77</td>\n",
              "      <td>375.77</td>\n",
              "      <td>Africa</td>\n",
              "      <td>1960-10-01</td>\n",
              "    </tr>\n",
              "    <tr>\n",
              "      <th>7</th>\n",
              "      <td>BGD</td>\n",
              "      <td>Bangladesh</td>\n",
              "      <td>167.09</td>\n",
              "      <td>147.57</td>\n",
              "      <td>245.63</td>\n",
              "      <td>Asia</td>\n",
              "      <td>1971-03-26</td>\n",
              "    </tr>\n",
              "    <tr>\n",
              "      <th>8</th>\n",
              "      <td>RUS</td>\n",
              "      <td>Russia</td>\n",
              "      <td>146.79</td>\n",
              "      <td>17098.25</td>\n",
              "      <td>1530.75</td>\n",
              "      <td>NaN</td>\n",
              "      <td>1992-06-12</td>\n",
              "    </tr>\n",
              "    <tr>\n",
              "      <th>9</th>\n",
              "      <td>MEX</td>\n",
              "      <td>Mexico</td>\n",
              "      <td>126.58</td>\n",
              "      <td>1964.38</td>\n",
              "      <td>1158.23</td>\n",
              "      <td>N.America</td>\n",
              "      <td>1810-09-16</td>\n",
              "    </tr>\n",
              "    <tr>\n",
              "      <th>10</th>\n",
              "      <td>JPN</td>\n",
              "      <td>Japan</td>\n",
              "      <td>126.22</td>\n",
              "      <td>377.97</td>\n",
              "      <td>4872.42</td>\n",
              "      <td>Asia</td>\n",
              "      <td>NaN</td>\n",
              "    </tr>\n",
              "    <tr>\n",
              "      <th>11</th>\n",
              "      <td>DEU</td>\n",
              "      <td>Germany</td>\n",
              "      <td>83.02</td>\n",
              "      <td>357.11</td>\n",
              "      <td>3693.20</td>\n",
              "      <td>Europe</td>\n",
              "      <td>NaN</td>\n",
              "    </tr>\n",
              "    <tr>\n",
              "      <th>12</th>\n",
              "      <td>FRA</td>\n",
              "      <td>France</td>\n",
              "      <td>67.02</td>\n",
              "      <td>640.68</td>\n",
              "      <td>2582.49</td>\n",
              "      <td>Europe</td>\n",
              "      <td>1789-07-14</td>\n",
              "    </tr>\n",
              "    <tr>\n",
              "      <th>13</th>\n",
              "      <td>GBR</td>\n",
              "      <td>UK</td>\n",
              "      <td>66.44</td>\n",
              "      <td>242.50</td>\n",
              "      <td>2631.23</td>\n",
              "      <td>Europe</td>\n",
              "      <td>NaN</td>\n",
              "    </tr>\n",
              "    <tr>\n",
              "      <th>14</th>\n",
              "      <td>ITA</td>\n",
              "      <td>Italy</td>\n",
              "      <td>60.36</td>\n",
              "      <td>301.34</td>\n",
              "      <td>1943.84</td>\n",
              "      <td>Europe</td>\n",
              "      <td>NaN</td>\n",
              "    </tr>\n",
              "    <tr>\n",
              "      <th>15</th>\n",
              "      <td>ARG</td>\n",
              "      <td>Argentina</td>\n",
              "      <td>44.94</td>\n",
              "      <td>2780.40</td>\n",
              "      <td>637.49</td>\n",
              "      <td>S.America</td>\n",
              "      <td>1816-07-09</td>\n",
              "    </tr>\n",
              "    <tr>\n",
              "      <th>16</th>\n",
              "      <td>DZA</td>\n",
              "      <td>Algeria</td>\n",
              "      <td>43.38</td>\n",
              "      <td>2381.74</td>\n",
              "      <td>167.56</td>\n",
              "      <td>Africa</td>\n",
              "      <td>1962-07-05</td>\n",
              "    </tr>\n",
              "    <tr>\n",
              "      <th>17</th>\n",
              "      <td>CAN</td>\n",
              "      <td>Canada</td>\n",
              "      <td>37.59</td>\n",
              "      <td>9984.67</td>\n",
              "      <td>1647.12</td>\n",
              "      <td>N.America</td>\n",
              "      <td>1867-07-01</td>\n",
              "    </tr>\n",
              "    <tr>\n",
              "      <th>18</th>\n",
              "      <td>AUS</td>\n",
              "      <td>Australia</td>\n",
              "      <td>25.47</td>\n",
              "      <td>7692.02</td>\n",
              "      <td>1408.68</td>\n",
              "      <td>Oceania</td>\n",
              "      <td>NaN</td>\n",
              "    </tr>\n",
              "    <tr>\n",
              "      <th>19</th>\n",
              "      <td>KAZ</td>\n",
              "      <td>Kazakhstan</td>\n",
              "      <td>18.53</td>\n",
              "      <td>2724.90</td>\n",
              "      <td>159.41</td>\n",
              "      <td>Asia</td>\n",
              "      <td>1991-12-16</td>\n",
              "    </tr>\n",
              "  </tbody>\n",
              "</table>\n",
              "</div>"
            ],
            "text/plain": [
              "   Unnamed: 0     COUNTRY      POP      AREA       GDP       CONT     IND_DAY\n",
              "0         CHN       China  1398.72   9596.96  12234.78       Asia         NaN\n",
              "1         IND       India  1351.16   3287.26   2575.67       Asia  1947-08-15\n",
              "2         USA          US   329.74   9833.52  19485.39  N.America  1776-07-04\n",
              "3         IDN   Indonesia   268.07   1910.93   1015.54       Asia  1945-08-17\n",
              "4         BRA      Brazil   210.32   8515.77   2055.51  S.America  1822-09-07\n",
              "5         PAK    Pakistan   205.71    881.91    302.14       Asia  1947-08-14\n",
              "6         NGA     Nigeria   200.96    923.77    375.77     Africa  1960-10-01\n",
              "7         BGD  Bangladesh   167.09    147.57    245.63       Asia  1971-03-26\n",
              "8         RUS      Russia   146.79  17098.25   1530.75        NaN  1992-06-12\n",
              "9         MEX      Mexico   126.58   1964.38   1158.23  N.America  1810-09-16\n",
              "10        JPN       Japan   126.22    377.97   4872.42       Asia         NaN\n",
              "11        DEU     Germany    83.02    357.11   3693.20     Europe         NaN\n",
              "12        FRA      France    67.02    640.68   2582.49     Europe  1789-07-14\n",
              "13        GBR          UK    66.44    242.50   2631.23     Europe         NaN\n",
              "14        ITA       Italy    60.36    301.34   1943.84     Europe         NaN\n",
              "15        ARG   Argentina    44.94   2780.40    637.49  S.America  1816-07-09\n",
              "16        DZA     Algeria    43.38   2381.74    167.56     Africa  1962-07-05\n",
              "17        CAN      Canada    37.59   9984.67   1647.12  N.America  1867-07-01\n",
              "18        AUS   Australia    25.47   7692.02   1408.68    Oceania         NaN\n",
              "19        KAZ  Kazakhstan    18.53   2724.90    159.41       Asia  1991-12-16"
            ]
          },
          "metadata": {},
          "execution_count": 93
        }
      ]
    },
    {
      "cell_type": "code",
      "metadata": {
        "colab": {
          "base_uri": "https://localhost:8080/",
          "height": 665
        },
        "id": "9ZBg2YwsON8p",
        "outputId": "fe4e4b98-59d3-47be-d714-9b89cf8812bb"
      },
      "source": [
        "# Let's make column that represents country's abbreviated names as a index column\n",
        "# in read_csv fumction we can give index which represents index\n",
        "# in our case first column represents index , so it's 0th column in DataFrame\n",
        "df = pd.read_csv('contries_data.csv', index_col=0) \n",
        "df"
      ],
      "id": "9ZBg2YwsON8p",
      "execution_count": 94,
      "outputs": [
        {
          "output_type": "execute_result",
          "data": {
            "text/html": [
              "<div>\n",
              "<style scoped>\n",
              "    .dataframe tbody tr th:only-of-type {\n",
              "        vertical-align: middle;\n",
              "    }\n",
              "\n",
              "    .dataframe tbody tr th {\n",
              "        vertical-align: top;\n",
              "    }\n",
              "\n",
              "    .dataframe thead th {\n",
              "        text-align: right;\n",
              "    }\n",
              "</style>\n",
              "<table border=\"1\" class=\"dataframe\">\n",
              "  <thead>\n",
              "    <tr style=\"text-align: right;\">\n",
              "      <th></th>\n",
              "      <th>COUNTRY</th>\n",
              "      <th>POP</th>\n",
              "      <th>AREA</th>\n",
              "      <th>GDP</th>\n",
              "      <th>CONT</th>\n",
              "      <th>IND_DAY</th>\n",
              "    </tr>\n",
              "  </thead>\n",
              "  <tbody>\n",
              "    <tr>\n",
              "      <th>CHN</th>\n",
              "      <td>China</td>\n",
              "      <td>1398.72</td>\n",
              "      <td>9596.96</td>\n",
              "      <td>12234.78</td>\n",
              "      <td>Asia</td>\n",
              "      <td>NaN</td>\n",
              "    </tr>\n",
              "    <tr>\n",
              "      <th>IND</th>\n",
              "      <td>India</td>\n",
              "      <td>1351.16</td>\n",
              "      <td>3287.26</td>\n",
              "      <td>2575.67</td>\n",
              "      <td>Asia</td>\n",
              "      <td>1947-08-15</td>\n",
              "    </tr>\n",
              "    <tr>\n",
              "      <th>USA</th>\n",
              "      <td>US</td>\n",
              "      <td>329.74</td>\n",
              "      <td>9833.52</td>\n",
              "      <td>19485.39</td>\n",
              "      <td>N.America</td>\n",
              "      <td>1776-07-04</td>\n",
              "    </tr>\n",
              "    <tr>\n",
              "      <th>IDN</th>\n",
              "      <td>Indonesia</td>\n",
              "      <td>268.07</td>\n",
              "      <td>1910.93</td>\n",
              "      <td>1015.54</td>\n",
              "      <td>Asia</td>\n",
              "      <td>1945-08-17</td>\n",
              "    </tr>\n",
              "    <tr>\n",
              "      <th>BRA</th>\n",
              "      <td>Brazil</td>\n",
              "      <td>210.32</td>\n",
              "      <td>8515.77</td>\n",
              "      <td>2055.51</td>\n",
              "      <td>S.America</td>\n",
              "      <td>1822-09-07</td>\n",
              "    </tr>\n",
              "    <tr>\n",
              "      <th>PAK</th>\n",
              "      <td>Pakistan</td>\n",
              "      <td>205.71</td>\n",
              "      <td>881.91</td>\n",
              "      <td>302.14</td>\n",
              "      <td>Asia</td>\n",
              "      <td>1947-08-14</td>\n",
              "    </tr>\n",
              "    <tr>\n",
              "      <th>NGA</th>\n",
              "      <td>Nigeria</td>\n",
              "      <td>200.96</td>\n",
              "      <td>923.77</td>\n",
              "      <td>375.77</td>\n",
              "      <td>Africa</td>\n",
              "      <td>1960-10-01</td>\n",
              "    </tr>\n",
              "    <tr>\n",
              "      <th>BGD</th>\n",
              "      <td>Bangladesh</td>\n",
              "      <td>167.09</td>\n",
              "      <td>147.57</td>\n",
              "      <td>245.63</td>\n",
              "      <td>Asia</td>\n",
              "      <td>1971-03-26</td>\n",
              "    </tr>\n",
              "    <tr>\n",
              "      <th>RUS</th>\n",
              "      <td>Russia</td>\n",
              "      <td>146.79</td>\n",
              "      <td>17098.25</td>\n",
              "      <td>1530.75</td>\n",
              "      <td>NaN</td>\n",
              "      <td>1992-06-12</td>\n",
              "    </tr>\n",
              "    <tr>\n",
              "      <th>MEX</th>\n",
              "      <td>Mexico</td>\n",
              "      <td>126.58</td>\n",
              "      <td>1964.38</td>\n",
              "      <td>1158.23</td>\n",
              "      <td>N.America</td>\n",
              "      <td>1810-09-16</td>\n",
              "    </tr>\n",
              "    <tr>\n",
              "      <th>JPN</th>\n",
              "      <td>Japan</td>\n",
              "      <td>126.22</td>\n",
              "      <td>377.97</td>\n",
              "      <td>4872.42</td>\n",
              "      <td>Asia</td>\n",
              "      <td>NaN</td>\n",
              "    </tr>\n",
              "    <tr>\n",
              "      <th>DEU</th>\n",
              "      <td>Germany</td>\n",
              "      <td>83.02</td>\n",
              "      <td>357.11</td>\n",
              "      <td>3693.20</td>\n",
              "      <td>Europe</td>\n",
              "      <td>NaN</td>\n",
              "    </tr>\n",
              "    <tr>\n",
              "      <th>FRA</th>\n",
              "      <td>France</td>\n",
              "      <td>67.02</td>\n",
              "      <td>640.68</td>\n",
              "      <td>2582.49</td>\n",
              "      <td>Europe</td>\n",
              "      <td>1789-07-14</td>\n",
              "    </tr>\n",
              "    <tr>\n",
              "      <th>GBR</th>\n",
              "      <td>UK</td>\n",
              "      <td>66.44</td>\n",
              "      <td>242.50</td>\n",
              "      <td>2631.23</td>\n",
              "      <td>Europe</td>\n",
              "      <td>NaN</td>\n",
              "    </tr>\n",
              "    <tr>\n",
              "      <th>ITA</th>\n",
              "      <td>Italy</td>\n",
              "      <td>60.36</td>\n",
              "      <td>301.34</td>\n",
              "      <td>1943.84</td>\n",
              "      <td>Europe</td>\n",
              "      <td>NaN</td>\n",
              "    </tr>\n",
              "    <tr>\n",
              "      <th>ARG</th>\n",
              "      <td>Argentina</td>\n",
              "      <td>44.94</td>\n",
              "      <td>2780.40</td>\n",
              "      <td>637.49</td>\n",
              "      <td>S.America</td>\n",
              "      <td>1816-07-09</td>\n",
              "    </tr>\n",
              "    <tr>\n",
              "      <th>DZA</th>\n",
              "      <td>Algeria</td>\n",
              "      <td>43.38</td>\n",
              "      <td>2381.74</td>\n",
              "      <td>167.56</td>\n",
              "      <td>Africa</td>\n",
              "      <td>1962-07-05</td>\n",
              "    </tr>\n",
              "    <tr>\n",
              "      <th>CAN</th>\n",
              "      <td>Canada</td>\n",
              "      <td>37.59</td>\n",
              "      <td>9984.67</td>\n",
              "      <td>1647.12</td>\n",
              "      <td>N.America</td>\n",
              "      <td>1867-07-01</td>\n",
              "    </tr>\n",
              "    <tr>\n",
              "      <th>AUS</th>\n",
              "      <td>Australia</td>\n",
              "      <td>25.47</td>\n",
              "      <td>7692.02</td>\n",
              "      <td>1408.68</td>\n",
              "      <td>Oceania</td>\n",
              "      <td>NaN</td>\n",
              "    </tr>\n",
              "    <tr>\n",
              "      <th>KAZ</th>\n",
              "      <td>Kazakhstan</td>\n",
              "      <td>18.53</td>\n",
              "      <td>2724.90</td>\n",
              "      <td>159.41</td>\n",
              "      <td>Asia</td>\n",
              "      <td>1991-12-16</td>\n",
              "    </tr>\n",
              "  </tbody>\n",
              "</table>\n",
              "</div>"
            ],
            "text/plain": [
              "        COUNTRY      POP      AREA       GDP       CONT     IND_DAY\n",
              "CHN       China  1398.72   9596.96  12234.78       Asia         NaN\n",
              "IND       India  1351.16   3287.26   2575.67       Asia  1947-08-15\n",
              "USA          US   329.74   9833.52  19485.39  N.America  1776-07-04\n",
              "IDN   Indonesia   268.07   1910.93   1015.54       Asia  1945-08-17\n",
              "BRA      Brazil   210.32   8515.77   2055.51  S.America  1822-09-07\n",
              "PAK    Pakistan   205.71    881.91    302.14       Asia  1947-08-14\n",
              "NGA     Nigeria   200.96    923.77    375.77     Africa  1960-10-01\n",
              "BGD  Bangladesh   167.09    147.57    245.63       Asia  1971-03-26\n",
              "RUS      Russia   146.79  17098.25   1530.75        NaN  1992-06-12\n",
              "MEX      Mexico   126.58   1964.38   1158.23  N.America  1810-09-16\n",
              "JPN       Japan   126.22    377.97   4872.42       Asia         NaN\n",
              "DEU     Germany    83.02    357.11   3693.20     Europe         NaN\n",
              "FRA      France    67.02    640.68   2582.49     Europe  1789-07-14\n",
              "GBR          UK    66.44    242.50   2631.23     Europe         NaN\n",
              "ITA       Italy    60.36    301.34   1943.84     Europe         NaN\n",
              "ARG   Argentina    44.94   2780.40    637.49  S.America  1816-07-09\n",
              "DZA     Algeria    43.38   2381.74    167.56     Africa  1962-07-05\n",
              "CAN      Canada    37.59   9984.67   1647.12  N.America  1867-07-01\n",
              "AUS   Australia    25.47   7692.02   1408.68    Oceania         NaN\n",
              "KAZ  Kazakhstan    18.53   2724.90    159.41       Asia  1991-12-16"
            ]
          },
          "metadata": {},
          "execution_count": 94
        }
      ]
    },
    {
      "cell_type": "markdown",
      "metadata": {
        "id": "qgFrbm5OWIGK"
      },
      "source": [
        "### Excel format type"
      ],
      "id": "qgFrbm5OWIGK"
    },
    {
      "cell_type": "markdown",
      "metadata": {
        "id": "jRyvbuCuWbOq"
      },
      "source": [
        "To convert to and read from Excel files we need to install some packages. \n",
        "- xlwt\n",
        "- openpyxl\n",
        "- xlswriter\n",
        "- xlrd\n",
        "\n",
        "NOTE : Below cell gives command to install these in one line only\n",
        "\n",
        "We can always install only one package and not others if not required"
      ],
      "id": "jRyvbuCuWbOq"
    },
    {
      "cell_type": "code",
      "metadata": {
        "colab": {
          "base_uri": "https://localhost:8080/"
        },
        "id": "y6YQsYIgOQG_",
        "outputId": "91e946a9-846d-486f-b713-e9c3832b0f1c"
      },
      "source": [
        "pip install xlwt openpyxl xlsxwriter xlrd"
      ],
      "id": "y6YQsYIgOQG_",
      "execution_count": 95,
      "outputs": [
        {
          "output_type": "stream",
          "name": "stdout",
          "text": [
            "Requirement already satisfied: xlwt in /usr/local/lib/python3.7/dist-packages (1.3.0)\n",
            "Requirement already satisfied: openpyxl in /usr/local/lib/python3.7/dist-packages (2.5.9)\n",
            "Requirement already satisfied: xlsxwriter in /usr/local/lib/python3.7/dist-packages (3.0.1)\n",
            "Requirement already satisfied: xlrd in /usr/local/lib/python3.7/dist-packages (1.1.0)\n",
            "Requirement already satisfied: et-xmlfile in /usr/local/lib/python3.7/dist-packages (from openpyxl) (1.1.0)\n",
            "Requirement already satisfied: jdcal in /usr/local/lib/python3.7/dist-packages (from openpyxl) (1.4.1)\n"
          ]
        }
      ]
    },
    {
      "cell_type": "code",
      "metadata": {
        "id": "aWy7RdLJOS8i"
      },
      "source": [
        "df.to_excel('contries_data.xlsx')\n",
        "\n",
        "# We can find this file in our colab folder"
      ],
      "id": "aWy7RdLJOS8i",
      "execution_count": 96,
      "outputs": []
    },
    {
      "cell_type": "code",
      "metadata": {
        "colab": {
          "base_uri": "https://localhost:8080/",
          "height": 665
        },
        "id": "1U0zo8QYOWMB",
        "outputId": "eff07e0e-9e34-47f9-84a7-2cc3755a8637"
      },
      "source": [
        "df = pd.read_excel('contries_data.xlsx', index_col=0)\n",
        "df"
      ],
      "id": "1U0zo8QYOWMB",
      "execution_count": 97,
      "outputs": [
        {
          "output_type": "execute_result",
          "data": {
            "text/html": [
              "<div>\n",
              "<style scoped>\n",
              "    .dataframe tbody tr th:only-of-type {\n",
              "        vertical-align: middle;\n",
              "    }\n",
              "\n",
              "    .dataframe tbody tr th {\n",
              "        vertical-align: top;\n",
              "    }\n",
              "\n",
              "    .dataframe thead th {\n",
              "        text-align: right;\n",
              "    }\n",
              "</style>\n",
              "<table border=\"1\" class=\"dataframe\">\n",
              "  <thead>\n",
              "    <tr style=\"text-align: right;\">\n",
              "      <th></th>\n",
              "      <th>COUNTRY</th>\n",
              "      <th>POP</th>\n",
              "      <th>AREA</th>\n",
              "      <th>GDP</th>\n",
              "      <th>CONT</th>\n",
              "      <th>IND_DAY</th>\n",
              "    </tr>\n",
              "  </thead>\n",
              "  <tbody>\n",
              "    <tr>\n",
              "      <th>CHN</th>\n",
              "      <td>China</td>\n",
              "      <td>1398.72</td>\n",
              "      <td>9596.96</td>\n",
              "      <td>12234.78</td>\n",
              "      <td>Asia</td>\n",
              "      <td>NaN</td>\n",
              "    </tr>\n",
              "    <tr>\n",
              "      <th>IND</th>\n",
              "      <td>India</td>\n",
              "      <td>1351.16</td>\n",
              "      <td>3287.26</td>\n",
              "      <td>2575.67</td>\n",
              "      <td>Asia</td>\n",
              "      <td>1947-08-15</td>\n",
              "    </tr>\n",
              "    <tr>\n",
              "      <th>USA</th>\n",
              "      <td>US</td>\n",
              "      <td>329.74</td>\n",
              "      <td>9833.52</td>\n",
              "      <td>19485.39</td>\n",
              "      <td>N.America</td>\n",
              "      <td>1776-07-04</td>\n",
              "    </tr>\n",
              "    <tr>\n",
              "      <th>IDN</th>\n",
              "      <td>Indonesia</td>\n",
              "      <td>268.07</td>\n",
              "      <td>1910.93</td>\n",
              "      <td>1015.54</td>\n",
              "      <td>Asia</td>\n",
              "      <td>1945-08-17</td>\n",
              "    </tr>\n",
              "    <tr>\n",
              "      <th>BRA</th>\n",
              "      <td>Brazil</td>\n",
              "      <td>210.32</td>\n",
              "      <td>8515.77</td>\n",
              "      <td>2055.51</td>\n",
              "      <td>S.America</td>\n",
              "      <td>1822-09-07</td>\n",
              "    </tr>\n",
              "    <tr>\n",
              "      <th>PAK</th>\n",
              "      <td>Pakistan</td>\n",
              "      <td>205.71</td>\n",
              "      <td>881.91</td>\n",
              "      <td>302.14</td>\n",
              "      <td>Asia</td>\n",
              "      <td>1947-08-14</td>\n",
              "    </tr>\n",
              "    <tr>\n",
              "      <th>NGA</th>\n",
              "      <td>Nigeria</td>\n",
              "      <td>200.96</td>\n",
              "      <td>923.77</td>\n",
              "      <td>375.77</td>\n",
              "      <td>Africa</td>\n",
              "      <td>1960-10-01</td>\n",
              "    </tr>\n",
              "    <tr>\n",
              "      <th>BGD</th>\n",
              "      <td>Bangladesh</td>\n",
              "      <td>167.09</td>\n",
              "      <td>147.57</td>\n",
              "      <td>245.63</td>\n",
              "      <td>Asia</td>\n",
              "      <td>1971-03-26</td>\n",
              "    </tr>\n",
              "    <tr>\n",
              "      <th>RUS</th>\n",
              "      <td>Russia</td>\n",
              "      <td>146.79</td>\n",
              "      <td>17098.25</td>\n",
              "      <td>1530.75</td>\n",
              "      <td>NaN</td>\n",
              "      <td>1992-06-12</td>\n",
              "    </tr>\n",
              "    <tr>\n",
              "      <th>MEX</th>\n",
              "      <td>Mexico</td>\n",
              "      <td>126.58</td>\n",
              "      <td>1964.38</td>\n",
              "      <td>1158.23</td>\n",
              "      <td>N.America</td>\n",
              "      <td>1810-09-16</td>\n",
              "    </tr>\n",
              "    <tr>\n",
              "      <th>JPN</th>\n",
              "      <td>Japan</td>\n",
              "      <td>126.22</td>\n",
              "      <td>377.97</td>\n",
              "      <td>4872.42</td>\n",
              "      <td>Asia</td>\n",
              "      <td>NaN</td>\n",
              "    </tr>\n",
              "    <tr>\n",
              "      <th>DEU</th>\n",
              "      <td>Germany</td>\n",
              "      <td>83.02</td>\n",
              "      <td>357.11</td>\n",
              "      <td>3693.20</td>\n",
              "      <td>Europe</td>\n",
              "      <td>NaN</td>\n",
              "    </tr>\n",
              "    <tr>\n",
              "      <th>FRA</th>\n",
              "      <td>France</td>\n",
              "      <td>67.02</td>\n",
              "      <td>640.68</td>\n",
              "      <td>2582.49</td>\n",
              "      <td>Europe</td>\n",
              "      <td>1789-07-14</td>\n",
              "    </tr>\n",
              "    <tr>\n",
              "      <th>GBR</th>\n",
              "      <td>UK</td>\n",
              "      <td>66.44</td>\n",
              "      <td>242.50</td>\n",
              "      <td>2631.23</td>\n",
              "      <td>Europe</td>\n",
              "      <td>NaN</td>\n",
              "    </tr>\n",
              "    <tr>\n",
              "      <th>ITA</th>\n",
              "      <td>Italy</td>\n",
              "      <td>60.36</td>\n",
              "      <td>301.34</td>\n",
              "      <td>1943.84</td>\n",
              "      <td>Europe</td>\n",
              "      <td>NaN</td>\n",
              "    </tr>\n",
              "    <tr>\n",
              "      <th>ARG</th>\n",
              "      <td>Argentina</td>\n",
              "      <td>44.94</td>\n",
              "      <td>2780.40</td>\n",
              "      <td>637.49</td>\n",
              "      <td>S.America</td>\n",
              "      <td>1816-07-09</td>\n",
              "    </tr>\n",
              "    <tr>\n",
              "      <th>DZA</th>\n",
              "      <td>Algeria</td>\n",
              "      <td>43.38</td>\n",
              "      <td>2381.74</td>\n",
              "      <td>167.56</td>\n",
              "      <td>Africa</td>\n",
              "      <td>1962-07-05</td>\n",
              "    </tr>\n",
              "    <tr>\n",
              "      <th>CAN</th>\n",
              "      <td>Canada</td>\n",
              "      <td>37.59</td>\n",
              "      <td>9984.67</td>\n",
              "      <td>1647.12</td>\n",
              "      <td>N.America</td>\n",
              "      <td>1867-07-01</td>\n",
              "    </tr>\n",
              "    <tr>\n",
              "      <th>AUS</th>\n",
              "      <td>Australia</td>\n",
              "      <td>25.47</td>\n",
              "      <td>7692.02</td>\n",
              "      <td>1408.68</td>\n",
              "      <td>Oceania</td>\n",
              "      <td>NaN</td>\n",
              "    </tr>\n",
              "    <tr>\n",
              "      <th>KAZ</th>\n",
              "      <td>Kazakhstan</td>\n",
              "      <td>18.53</td>\n",
              "      <td>2724.90</td>\n",
              "      <td>159.41</td>\n",
              "      <td>Asia</td>\n",
              "      <td>1991-12-16</td>\n",
              "    </tr>\n",
              "  </tbody>\n",
              "</table>\n",
              "</div>"
            ],
            "text/plain": [
              "        COUNTRY      POP      AREA       GDP       CONT     IND_DAY\n",
              "CHN       China  1398.72   9596.96  12234.78       Asia         NaN\n",
              "IND       India  1351.16   3287.26   2575.67       Asia  1947-08-15\n",
              "USA          US   329.74   9833.52  19485.39  N.America  1776-07-04\n",
              "IDN   Indonesia   268.07   1910.93   1015.54       Asia  1945-08-17\n",
              "BRA      Brazil   210.32   8515.77   2055.51  S.America  1822-09-07\n",
              "PAK    Pakistan   205.71    881.91    302.14       Asia  1947-08-14\n",
              "NGA     Nigeria   200.96    923.77    375.77     Africa  1960-10-01\n",
              "BGD  Bangladesh   167.09    147.57    245.63       Asia  1971-03-26\n",
              "RUS      Russia   146.79  17098.25   1530.75        NaN  1992-06-12\n",
              "MEX      Mexico   126.58   1964.38   1158.23  N.America  1810-09-16\n",
              "JPN       Japan   126.22    377.97   4872.42       Asia         NaN\n",
              "DEU     Germany    83.02    357.11   3693.20     Europe         NaN\n",
              "FRA      France    67.02    640.68   2582.49     Europe  1789-07-14\n",
              "GBR          UK    66.44    242.50   2631.23     Europe         NaN\n",
              "ITA       Italy    60.36    301.34   1943.84     Europe         NaN\n",
              "ARG   Argentina    44.94   2780.40    637.49  S.America  1816-07-09\n",
              "DZA     Algeria    43.38   2381.74    167.56     Africa  1962-07-05\n",
              "CAN      Canada    37.59   9984.67   1647.12  N.America  1867-07-01\n",
              "AUS   Australia    25.47   7692.02   1408.68    Oceania         NaN\n",
              "KAZ  Kazakhstan    18.53   2724.90    159.41       Asia  1991-12-16"
            ]
          },
          "metadata": {},
          "execution_count": 97
        }
      ]
    },
    {
      "cell_type": "markdown",
      "metadata": {
        "id": "I_yxsU-SXX9i"
      },
      "source": [
        "### JSON format type"
      ],
      "id": "I_yxsU-SXX9i"
    },
    {
      "cell_type": "code",
      "metadata": {
        "colab": {
          "base_uri": "https://localhost:8080/",
          "height": 665
        },
        "id": "9h4jg6DwOYBI",
        "outputId": "63cff710-a202-49ba-8e64-6630338d0e28"
      },
      "source": [
        "df_json = df.to_json('contries_data.json')\n",
        "\n",
        "# New jason file will be added in your directory\n",
        "pd.read_json('contries_data.json')"
      ],
      "id": "9h4jg6DwOYBI",
      "execution_count": 98,
      "outputs": [
        {
          "output_type": "execute_result",
          "data": {
            "text/html": [
              "<div>\n",
              "<style scoped>\n",
              "    .dataframe tbody tr th:only-of-type {\n",
              "        vertical-align: middle;\n",
              "    }\n",
              "\n",
              "    .dataframe tbody tr th {\n",
              "        vertical-align: top;\n",
              "    }\n",
              "\n",
              "    .dataframe thead th {\n",
              "        text-align: right;\n",
              "    }\n",
              "</style>\n",
              "<table border=\"1\" class=\"dataframe\">\n",
              "  <thead>\n",
              "    <tr style=\"text-align: right;\">\n",
              "      <th></th>\n",
              "      <th>COUNTRY</th>\n",
              "      <th>POP</th>\n",
              "      <th>AREA</th>\n",
              "      <th>GDP</th>\n",
              "      <th>CONT</th>\n",
              "      <th>IND_DAY</th>\n",
              "    </tr>\n",
              "  </thead>\n",
              "  <tbody>\n",
              "    <tr>\n",
              "      <th>CHN</th>\n",
              "      <td>China</td>\n",
              "      <td>1398.72</td>\n",
              "      <td>9596.96</td>\n",
              "      <td>12234.78</td>\n",
              "      <td>Asia</td>\n",
              "      <td>None</td>\n",
              "    </tr>\n",
              "    <tr>\n",
              "      <th>IND</th>\n",
              "      <td>India</td>\n",
              "      <td>1351.16</td>\n",
              "      <td>3287.26</td>\n",
              "      <td>2575.67</td>\n",
              "      <td>Asia</td>\n",
              "      <td>1947-08-15</td>\n",
              "    </tr>\n",
              "    <tr>\n",
              "      <th>USA</th>\n",
              "      <td>US</td>\n",
              "      <td>329.74</td>\n",
              "      <td>9833.52</td>\n",
              "      <td>19485.39</td>\n",
              "      <td>N.America</td>\n",
              "      <td>1776-07-04</td>\n",
              "    </tr>\n",
              "    <tr>\n",
              "      <th>IDN</th>\n",
              "      <td>Indonesia</td>\n",
              "      <td>268.07</td>\n",
              "      <td>1910.93</td>\n",
              "      <td>1015.54</td>\n",
              "      <td>Asia</td>\n",
              "      <td>1945-08-17</td>\n",
              "    </tr>\n",
              "    <tr>\n",
              "      <th>BRA</th>\n",
              "      <td>Brazil</td>\n",
              "      <td>210.32</td>\n",
              "      <td>8515.77</td>\n",
              "      <td>2055.51</td>\n",
              "      <td>S.America</td>\n",
              "      <td>1822-09-07</td>\n",
              "    </tr>\n",
              "    <tr>\n",
              "      <th>PAK</th>\n",
              "      <td>Pakistan</td>\n",
              "      <td>205.71</td>\n",
              "      <td>881.91</td>\n",
              "      <td>302.14</td>\n",
              "      <td>Asia</td>\n",
              "      <td>1947-08-14</td>\n",
              "    </tr>\n",
              "    <tr>\n",
              "      <th>NGA</th>\n",
              "      <td>Nigeria</td>\n",
              "      <td>200.96</td>\n",
              "      <td>923.77</td>\n",
              "      <td>375.77</td>\n",
              "      <td>Africa</td>\n",
              "      <td>1960-10-01</td>\n",
              "    </tr>\n",
              "    <tr>\n",
              "      <th>BGD</th>\n",
              "      <td>Bangladesh</td>\n",
              "      <td>167.09</td>\n",
              "      <td>147.57</td>\n",
              "      <td>245.63</td>\n",
              "      <td>Asia</td>\n",
              "      <td>1971-03-26</td>\n",
              "    </tr>\n",
              "    <tr>\n",
              "      <th>RUS</th>\n",
              "      <td>Russia</td>\n",
              "      <td>146.79</td>\n",
              "      <td>17098.25</td>\n",
              "      <td>1530.75</td>\n",
              "      <td>None</td>\n",
              "      <td>1992-06-12</td>\n",
              "    </tr>\n",
              "    <tr>\n",
              "      <th>MEX</th>\n",
              "      <td>Mexico</td>\n",
              "      <td>126.58</td>\n",
              "      <td>1964.38</td>\n",
              "      <td>1158.23</td>\n",
              "      <td>N.America</td>\n",
              "      <td>1810-09-16</td>\n",
              "    </tr>\n",
              "    <tr>\n",
              "      <th>JPN</th>\n",
              "      <td>Japan</td>\n",
              "      <td>126.22</td>\n",
              "      <td>377.97</td>\n",
              "      <td>4872.42</td>\n",
              "      <td>Asia</td>\n",
              "      <td>None</td>\n",
              "    </tr>\n",
              "    <tr>\n",
              "      <th>DEU</th>\n",
              "      <td>Germany</td>\n",
              "      <td>83.02</td>\n",
              "      <td>357.11</td>\n",
              "      <td>3693.20</td>\n",
              "      <td>Europe</td>\n",
              "      <td>None</td>\n",
              "    </tr>\n",
              "    <tr>\n",
              "      <th>FRA</th>\n",
              "      <td>France</td>\n",
              "      <td>67.02</td>\n",
              "      <td>640.68</td>\n",
              "      <td>2582.49</td>\n",
              "      <td>Europe</td>\n",
              "      <td>1789-07-14</td>\n",
              "    </tr>\n",
              "    <tr>\n",
              "      <th>GBR</th>\n",
              "      <td>UK</td>\n",
              "      <td>66.44</td>\n",
              "      <td>242.50</td>\n",
              "      <td>2631.23</td>\n",
              "      <td>Europe</td>\n",
              "      <td>None</td>\n",
              "    </tr>\n",
              "    <tr>\n",
              "      <th>ITA</th>\n",
              "      <td>Italy</td>\n",
              "      <td>60.36</td>\n",
              "      <td>301.34</td>\n",
              "      <td>1943.84</td>\n",
              "      <td>Europe</td>\n",
              "      <td>None</td>\n",
              "    </tr>\n",
              "    <tr>\n",
              "      <th>ARG</th>\n",
              "      <td>Argentina</td>\n",
              "      <td>44.94</td>\n",
              "      <td>2780.40</td>\n",
              "      <td>637.49</td>\n",
              "      <td>S.America</td>\n",
              "      <td>1816-07-09</td>\n",
              "    </tr>\n",
              "    <tr>\n",
              "      <th>DZA</th>\n",
              "      <td>Algeria</td>\n",
              "      <td>43.38</td>\n",
              "      <td>2381.74</td>\n",
              "      <td>167.56</td>\n",
              "      <td>Africa</td>\n",
              "      <td>1962-07-05</td>\n",
              "    </tr>\n",
              "    <tr>\n",
              "      <th>CAN</th>\n",
              "      <td>Canada</td>\n",
              "      <td>37.59</td>\n",
              "      <td>9984.67</td>\n",
              "      <td>1647.12</td>\n",
              "      <td>N.America</td>\n",
              "      <td>1867-07-01</td>\n",
              "    </tr>\n",
              "    <tr>\n",
              "      <th>AUS</th>\n",
              "      <td>Australia</td>\n",
              "      <td>25.47</td>\n",
              "      <td>7692.02</td>\n",
              "      <td>1408.68</td>\n",
              "      <td>Oceania</td>\n",
              "      <td>None</td>\n",
              "    </tr>\n",
              "    <tr>\n",
              "      <th>KAZ</th>\n",
              "      <td>Kazakhstan</td>\n",
              "      <td>18.53</td>\n",
              "      <td>2724.90</td>\n",
              "      <td>159.41</td>\n",
              "      <td>Asia</td>\n",
              "      <td>1991-12-16</td>\n",
              "    </tr>\n",
              "  </tbody>\n",
              "</table>\n",
              "</div>"
            ],
            "text/plain": [
              "        COUNTRY      POP      AREA       GDP       CONT     IND_DAY\n",
              "CHN       China  1398.72   9596.96  12234.78       Asia        None\n",
              "IND       India  1351.16   3287.26   2575.67       Asia  1947-08-15\n",
              "USA          US   329.74   9833.52  19485.39  N.America  1776-07-04\n",
              "IDN   Indonesia   268.07   1910.93   1015.54       Asia  1945-08-17\n",
              "BRA      Brazil   210.32   8515.77   2055.51  S.America  1822-09-07\n",
              "PAK    Pakistan   205.71    881.91    302.14       Asia  1947-08-14\n",
              "NGA     Nigeria   200.96    923.77    375.77     Africa  1960-10-01\n",
              "BGD  Bangladesh   167.09    147.57    245.63       Asia  1971-03-26\n",
              "RUS      Russia   146.79  17098.25   1530.75       None  1992-06-12\n",
              "MEX      Mexico   126.58   1964.38   1158.23  N.America  1810-09-16\n",
              "JPN       Japan   126.22    377.97   4872.42       Asia        None\n",
              "DEU     Germany    83.02    357.11   3693.20     Europe        None\n",
              "FRA      France    67.02    640.68   2582.49     Europe  1789-07-14\n",
              "GBR          UK    66.44    242.50   2631.23     Europe        None\n",
              "ITA       Italy    60.36    301.34   1943.84     Europe        None\n",
              "ARG   Argentina    44.94   2780.40    637.49  S.America  1816-07-09\n",
              "DZA     Algeria    43.38   2381.74    167.56     Africa  1962-07-05\n",
              "CAN      Canada    37.59   9984.67   1647.12  N.America  1867-07-01\n",
              "AUS   Australia    25.47   7692.02   1408.68    Oceania        None\n",
              "KAZ  Kazakhstan    18.53   2724.90    159.41       Asia  1991-12-16"
            ]
          },
          "metadata": {},
          "execution_count": 98
        }
      ]
    },
    {
      "cell_type": "markdown",
      "metadata": {
        "id": "lVQVpA1tXwMK"
      },
      "source": [
        "### HTML format type"
      ],
      "id": "lVQVpA1tXwMK"
    },
    {
      "cell_type": "code",
      "metadata": {
        "colab": {
          "base_uri": "https://localhost:8080/"
        },
        "id": "tjQHtkgZOaAu",
        "outputId": "2bf41a70-a14b-42e5-d6a6-29a4000e04ca"
      },
      "source": [
        "df_html = df.to_html('contries_data.html')\n",
        "\n",
        "# New jason file will be added in your directory\n",
        "pd.read_html('contries_data.html')"
      ],
      "id": "tjQHtkgZOaAu",
      "execution_count": 99,
      "outputs": [
        {
          "output_type": "execute_result",
          "data": {
            "text/plain": [
              "[   Unnamed: 0     COUNTRY      POP      AREA       GDP       CONT     IND_DAY\n",
              " 0         CHN       China  1398.72   9596.96  12234.78       Asia         NaN\n",
              " 1         IND       India  1351.16   3287.26   2575.67       Asia  1947-08-15\n",
              " 2         USA          US   329.74   9833.52  19485.39  N.America  1776-07-04\n",
              " 3         IDN   Indonesia   268.07   1910.93   1015.54       Asia  1945-08-17\n",
              " 4         BRA      Brazil   210.32   8515.77   2055.51  S.America  1822-09-07\n",
              " 5         PAK    Pakistan   205.71    881.91    302.14       Asia  1947-08-14\n",
              " 6         NGA     Nigeria   200.96    923.77    375.77     Africa  1960-10-01\n",
              " 7         BGD  Bangladesh   167.09    147.57    245.63       Asia  1971-03-26\n",
              " 8         RUS      Russia   146.79  17098.25   1530.75        NaN  1992-06-12\n",
              " 9         MEX      Mexico   126.58   1964.38   1158.23  N.America  1810-09-16\n",
              " 10        JPN       Japan   126.22    377.97   4872.42       Asia         NaN\n",
              " 11        DEU     Germany    83.02    357.11   3693.20     Europe         NaN\n",
              " 12        FRA      France    67.02    640.68   2582.49     Europe  1789-07-14\n",
              " 13        GBR          UK    66.44    242.50   2631.23     Europe         NaN\n",
              " 14        ITA       Italy    60.36    301.34   1943.84     Europe         NaN\n",
              " 15        ARG   Argentina    44.94   2780.40    637.49  S.America  1816-07-09\n",
              " 16        DZA     Algeria    43.38   2381.74    167.56     Africa  1962-07-05\n",
              " 17        CAN      Canada    37.59   9984.67   1647.12  N.America  1867-07-01\n",
              " 18        AUS   Australia    25.47   7692.02   1408.68    Oceania         NaN\n",
              " 19        KAZ  Kazakhstan    18.53   2724.90    159.41       Asia  1991-12-16]"
            ]
          },
          "metadata": {},
          "execution_count": 99
        }
      ]
    },
    {
      "cell_type": "markdown",
      "metadata": {
        "id": "avydSf6pZhWW"
      },
      "source": [
        "# 6] Write python programs demonstrating different functions for pre-processing the data. \n",
        "---"
      ],
      "id": "avydSf6pZhWW"
    },
    {
      "cell_type": "markdown",
      "metadata": {
        "id": "94m9o-DzaDOv"
      },
      "source": [
        "## NumPy Random"
      ],
      "id": "94m9o-DzaDOv"
    },
    {
      "cell_type": "markdown",
      "metadata": {
        "id": "ndNcGYz7cQDp"
      },
      "source": [
        "import statement"
      ],
      "id": "ndNcGYz7cQDp"
    },
    {
      "cell_type": "code",
      "metadata": {
        "id": "ngt_xqhlZ1wf"
      },
      "source": [
        "import numpy as np"
      ],
      "id": "ngt_xqhlZ1wf",
      "execution_count": 100,
      "outputs": []
    },
    {
      "cell_type": "markdown",
      "metadata": {
        "id": "M9Ee-oH9btWw"
      },
      "source": [
        "### rand() function"
      ],
      "id": "M9Ee-oH9btWw"
    },
    {
      "cell_type": "markdown",
      "metadata": {
        "id": "c7qwMUD4cUVv"
      },
      "source": [
        "```rand()``` function returns random value between 0 to 1.\n",
        "\n",
        "as it returns the value we need to store it in some variable"
      ],
      "id": "c7qwMUD4cUVv"
    },
    {
      "cell_type": "code",
      "metadata": {
        "colab": {
          "base_uri": "https://localhost:8080/"
        },
        "id": "uzVX-3t1aN-g",
        "outputId": "c62533f1-c4a7-434c-f765-7ebc0763485f"
      },
      "source": [
        "# Storing returned value from rand() to r1\n",
        "r1 = np.random.rand()\n",
        "print(r1)"
      ],
      "id": "uzVX-3t1aN-g",
      "execution_count": 101,
      "outputs": [
        {
          "output_type": "stream",
          "name": "stdout",
          "text": [
            "0.5618170004362452\n"
          ]
        }
      ]
    },
    {
      "cell_type": "markdown",
      "metadata": {
        "id": "awh74eVJcxhg"
      },
      "source": [
        "We can also specify shape of matrix as an argument values in ```rand()``` function."
      ],
      "id": "awh74eVJcxhg"
    },
    {
      "cell_type": "code",
      "metadata": {
        "colab": {
          "base_uri": "https://localhost:8080/"
        },
        "id": "XUxNzODYbPXV",
        "outputId": "411d8d41-2239-4d4b-bca8-c9853059717d"
      },
      "source": [
        "random_mat = np.random.rand(2, 2)\n",
        "# returns matrix of shape given in argument,\n",
        "# with all the elements having random value between 0 to 1\n",
        "print(random_mat)"
      ],
      "id": "XUxNzODYbPXV",
      "execution_count": 102,
      "outputs": [
        {
          "output_type": "stream",
          "name": "stdout",
          "text": [
            "[[0.06399864 0.35633226]\n",
            " [0.85798277 0.90875931]]\n"
          ]
        }
      ]
    },
    {
      "cell_type": "markdown",
      "metadata": {
        "id": "tB26woCTb1So"
      },
      "source": [
        "### randint() function"
      ],
      "id": "tB26woCTb1So"
    },
    {
      "cell_type": "markdown",
      "metadata": {
        "id": "qlLU_3xCdIG1"
      },
      "source": [
        "```randint(start, stop, size)``` \n",
        "\n",
        "Returns array of size ```size``` , containing random integers from start to stop exclusive ( meaning stop is not included )"
      ],
      "id": "qlLU_3xCdIG1"
    },
    {
      "cell_type": "code",
      "metadata": {
        "colab": {
          "base_uri": "https://localhost:8080/"
        },
        "id": "BK5TvFrhba3e",
        "outputId": "a04eea88-87ae-4bdc-ac1f-5348f0f17ed8"
      },
      "source": [
        "# Here, this will return 20 random integer values from 11 to 20 exclusive\n",
        "r1 = np.random.randint(11, 20, 20)\n",
        "\n",
        "print(r1)"
      ],
      "id": "BK5TvFrhba3e",
      "execution_count": 103,
      "outputs": [
        {
          "output_type": "stream",
          "name": "stdout",
          "text": [
            "[17 14 16 12 14 15 17 19 17 12 15 14 19 19 18 11 13 14 12 13]\n"
          ]
        }
      ]
    },
    {
      "cell_type": "code",
      "metadata": {
        "colab": {
          "base_uri": "https://localhost:8080/"
        },
        "id": "wrBRZJoPd-03",
        "outputId": "925f3915-96c9-498a-861b-7558ed56aaf1"
      },
      "source": [
        "# then we can reshape this array and use it as matrix \n",
        "r1_mat = r1.reshape(5, 4)\n",
        "# NOTE reshape returns matrix of shape we give , it doesn't change r1 itself\n",
        "print('r1 still same :', r1)\n",
        "print('r1_mat :\\n', r1_mat)"
      ],
      "id": "wrBRZJoPd-03",
      "execution_count": 104,
      "outputs": [
        {
          "output_type": "stream",
          "name": "stdout",
          "text": [
            "r1 still same : [17 14 16 12 14 15 17 19 17 12 15 14 19 19 18 11 13 14 12 13]\n",
            "r1_mat :\n",
            " [[17 14 16 12]\n",
            " [14 15 17 19]\n",
            " [17 12 15 14]\n",
            " [19 19 18 11]\n",
            " [13 14 12 13]]\n"
          ]
        }
      ]
    },
    {
      "cell_type": "markdown",
      "metadata": {
        "id": "WpEHgIvUb7_g"
      },
      "source": [
        "### randn() function"
      ],
      "id": "WpEHgIvUb7_g"
    },
    {
      "cell_type": "markdown",
      "metadata": {
        "id": "wKuCMRrmeKff"
      },
      "source": [
        "Till now our random values were being selected from uniform distribution ,\n",
        "\n",
        "using ```randn()``` function , we can select random values from normal distribution"
      ],
      "id": "wKuCMRrmeKff"
    },
    {
      "cell_type": "code",
      "metadata": {
        "colab": {
          "base_uri": "https://localhost:8080/"
        },
        "id": "X5iKztONDVwj",
        "outputId": "b33c9831-bf29-4e97-e25f-bdb370ab3973"
      },
      "source": [
        "# Use randn function to get random values from normal distribution\n",
        "normal_dist_random = np.random.randn(3)\n",
        "print(normal_dist_random)"
      ],
      "id": "X5iKztONDVwj",
      "execution_count": 105,
      "outputs": [
        {
          "output_type": "stream",
          "name": "stdout",
          "text": [
            "[-0.64072413 -1.08478321 -0.36273418]\n"
          ]
        }
      ]
    },
    {
      "cell_type": "markdown",
      "metadata": {
        "id": "QCLPR4OjeeYE"
      },
      "source": [
        "Here is the visualization of both the function ,\n",
        "We will have 100000 random values from uniform distribution as welll as normal distribution and then we will plot hist diagrams for both of them."
      ],
      "id": "QCLPR4OjeeYE"
    },
    {
      "cell_type": "code",
      "metadata": {
        "colab": {
          "base_uri": "https://localhost:8080/",
          "height": 545
        },
        "id": "38G5wlBhD22B",
        "outputId": "785807e6-2175-411a-be82-12660efad0f0"
      },
      "source": [
        "import matplotlib.pyplot as plt\n",
        "sample_size = 100000\n",
        "uniform_dist_rand = np.random.rand(sample_size)\n",
        "normal_dist_rand = np.random.randn(sample_size)\n",
        "\n",
        "plt.hist(uniform_dist_rand, bins=100)\n",
        "plt.title('random values from uniform distribution')\n",
        "plt.show()\n",
        "\n",
        "plt.hist(normal_dist_rand, bins=100)\n",
        "plt.title('random values from normal distribution')\n",
        "plt.show()"
      ],
      "id": "38G5wlBhD22B",
      "execution_count": 106,
      "outputs": [
        {
          "output_type": "display_data",
          "data": {
            "image/png": "[encoded data removed]",
            "text/plain": [
              "<Figure size 432x288 with 1 Axes>"
            ]
          },
          "metadata": {
            "needs_background": "light"
          }
        },
        {
          "output_type": "display_data",
          "data": {
            "image/png": "[encoded data removed]",
            "text/plain": [
              "<Figure size 432x288 with 1 Axes>"
            ]
          },
          "metadata": {
            "needs_background": "light"
          }
        }
      ]
    },
    {
      "cell_type": "markdown",
      "metadata": {
        "id": "eL4KBwq6e0Bt"
      },
      "source": [
        "As you can see , first graph is of uniformly distributed random values and that is why it resembles uniform distribution....\n",
        "\n",
        "whereas in 2nd graph we used random values from normal distribution that is why \n",
        "it resembles normal distributin..."
      ],
      "id": "eL4KBwq6e0Bt"
    },
    {
      "cell_type": "markdown",
      "metadata": {
        "id": "USH-FoSz_1jN"
      },
      "source": [
        "## Aggregation Functions"
      ],
      "id": "USH-FoSz_1jN"
    },
    {
      "cell_type": "markdown",
      "metadata": {
        "id": "Bosf5HOnfST-"
      },
      "source": [
        "Import statement"
      ],
      "id": "Bosf5HOnfST-"
    },
    {
      "cell_type": "code",
      "metadata": {
        "id": "2DvL1uXfAYZy"
      },
      "source": [
        "import numpy as np"
      ],
      "id": "2DvL1uXfAYZy",
      "execution_count": 107,
      "outputs": []
    },
    {
      "cell_type": "code",
      "metadata": {
        "colab": {
          "base_uri": "https://localhost:8080/"
        },
        "id": "KxhHA63O_5hu",
        "outputId": "70cb4dab-f651-496b-8568-14b28a8e9011"
      },
      "source": [
        "# Let's define some data and then use some numpy functions\n",
        "# This is simple array \n",
        "data = [22, 16, 29, 27 , 20, 31, 20, 9]\n",
        "# let's convert it into nd numpy array\n",
        "data = np.array(data) # we use np.array(your_array_variable) to convert your array variable in numpy array\n",
        "print(data, type(data))"
      ],
      "id": "KxhHA63O_5hu",
      "execution_count": 108,
      "outputs": [
        {
          "output_type": "stream",
          "name": "stdout",
          "text": [
            "[22 16 29 27 20 31 20  9] <class 'numpy.ndarray'>\n"
          ]
        }
      ]
    },
    {
      "cell_type": "markdown",
      "metadata": {
        "id": "rNpUdE0vgGMF"
      },
      "source": [
        "```min()``` function returns minimum value from the array"
      ],
      "id": "rNpUdE0vgGMF"
    },
    {
      "cell_type": "code",
      "metadata": {
        "colab": {
          "base_uri": "https://localhost:8080/"
        },
        "id": "lRo4Qb7tgNfU",
        "outputId": "abebc90f-2f1f-4323-90ee-1c00f95baf0c"
      },
      "source": [
        "print('min value :', data.min())"
      ],
      "id": "lRo4Qb7tgNfU",
      "execution_count": 109,
      "outputs": [
        {
          "output_type": "stream",
          "name": "stdout",
          "text": [
            "min value : 9\n"
          ]
        }
      ]
    },
    {
      "cell_type": "markdown",
      "metadata": {
        "id": "GhCVjbdygSUN"
      },
      "source": [
        "```argmin()``` returns index of minimum value "
      ],
      "id": "GhCVjbdygSUN"
    },
    {
      "cell_type": "code",
      "metadata": {
        "colab": {
          "base_uri": "https://localhost:8080/"
        },
        "id": "PMVzQi0YAPYp",
        "outputId": "bcc2fb1b-0e60-40ce-dc62-47ee1eaa7eaf"
      },
      "source": [
        "print('min index:', data.argmin())"
      ],
      "id": "PMVzQi0YAPYp",
      "execution_count": 110,
      "outputs": [
        {
          "output_type": "stream",
          "name": "stdout",
          "text": [
            "min index: 7\n"
          ]
        }
      ]
    },
    {
      "cell_type": "markdown",
      "metadata": {
        "id": "X5idOPxHgheF"
      },
      "source": [
        "```max()``` returns maximum value from the array"
      ],
      "id": "X5idOPxHgheF"
    },
    {
      "cell_type": "code",
      "metadata": {
        "colab": {
          "base_uri": "https://localhost:8080/"
        },
        "id": "gTtN1k0SAmdT",
        "outputId": "661b37aa-22bd-4243-f1f4-4e0a744d7c97"
      },
      "source": [
        "print('max :', data.max())"
      ],
      "id": "gTtN1k0SAmdT",
      "execution_count": 111,
      "outputs": [
        {
          "output_type": "stream",
          "name": "stdout",
          "text": [
            "max : 31\n"
          ]
        }
      ]
    },
    {
      "cell_type": "markdown",
      "metadata": {
        "id": "4HFAYtKYgms8"
      },
      "source": [
        "```argmax()``` returns index of maximum value"
      ],
      "id": "4HFAYtKYgms8"
    },
    {
      "cell_type": "code",
      "metadata": {
        "colab": {
          "base_uri": "https://localhost:8080/"
        },
        "id": "D0H7B_nvAwRy",
        "outputId": "a6fdb3e8-cf67-49da-b3e4-a65ee5d1661d"
      },
      "source": [
        "print('max index :', data.argmax())"
      ],
      "id": "D0H7B_nvAwRy",
      "execution_count": 112,
      "outputs": [
        {
          "output_type": "stream",
          "name": "stdout",
          "text": [
            "max index : 5\n"
          ]
        }
      ]
    },
    {
      "cell_type": "markdown",
      "metadata": {
        "id": "DtAyB7irgsMr"
      },
      "source": [
        "```mean()``` returns mean of all values in array"
      ],
      "id": "DtAyB7irgsMr"
    },
    {
      "cell_type": "code",
      "metadata": {
        "colab": {
          "base_uri": "https://localhost:8080/"
        },
        "id": "4h9HYr-CA0a4",
        "outputId": "420c4922-6c16-42ba-dc5b-3d2bc72c9374"
      },
      "source": [
        "print('mean :', data.mean())"
      ],
      "id": "4h9HYr-CA0a4",
      "execution_count": 113,
      "outputs": [
        {
          "output_type": "stream",
          "name": "stdout",
          "text": [
            "mean : 21.75\n"
          ]
        }
      ]
    },
    {
      "cell_type": "markdown",
      "metadata": {
        "id": "y78u2vERgyJ1"
      },
      "source": [
        "```std()``` returns standard deviation"
      ],
      "id": "y78u2vERgyJ1"
    },
    {
      "cell_type": "code",
      "metadata": {
        "colab": {
          "base_uri": "https://localhost:8080/"
        },
        "id": "I-zRz_cqA7uQ",
        "outputId": "6aeb99c3-5f48-4af5-a36e-4ec4a0bd19e4"
      },
      "source": [
        "print('standard deviation :', data.std())"
      ],
      "id": "I-zRz_cqA7uQ",
      "execution_count": 114,
      "outputs": [
        {
          "output_type": "stream",
          "name": "stdout",
          "text": [
            "standard deviation : 6.777720855862979\n"
          ]
        }
      ]
    },
    {
      "cell_type": "markdown",
      "metadata": {
        "id": "wUvWzIl_h1Ys"
      },
      "source": [
        "```sum()``` returns sum of elements"
      ],
      "id": "wUvWzIl_h1Ys"
    },
    {
      "cell_type": "markdown",
      "metadata": {
        "id": "cUNDLoAOg86t"
      },
      "source": [
        "using axis argument with aggregation functions\n"
      ],
      "id": "cUNDLoAOg86t"
    },
    {
      "cell_type": "code",
      "metadata": {
        "colab": {
          "base_uri": "https://localhost:8080/"
        },
        "id": "KOexOyNdBBRi",
        "outputId": "90ef2631-b5e5-48d6-ce53-0baa1b516583"
      },
      "source": [
        "# We can provide axis argument with all the aggregation function we have seen till now\n",
        "# it defines along which axis we want to perfom certain functions\n",
        "\n",
        "# To understand properly we need matrix \n",
        "# Let's create it\n",
        "mat = np.random.randint(1, 10, 25) # Getting 25 random integer values from 1 to 100 not inclusive\n",
        "# reshaping the array into matrix of shape 5x5 , \n",
        "# here no of elements much be 25 as we have 25 elements in array \n",
        "# that's why i have selected 5x5 shape\n",
        "mat = mat.reshape(5, 5) \n",
        "print(mat)"
      ],
      "id": "KOexOyNdBBRi",
      "execution_count": 115,
      "outputs": [
        {
          "output_type": "stream",
          "name": "stdout",
          "text": [
            "[[8 2 3 2 5]\n",
            " [6 9 8 1 6]\n",
            " [4 9 1 6 1]\n",
            " [5 5 1 6 9]\n",
            " [4 3 4 1 5]]\n"
          ]
        }
      ]
    },
    {
      "cell_type": "markdown",
      "metadata": {
        "id": "F9bi8jAviqWK"
      },
      "source": [
        "axis 1 represents rows"
      ],
      "id": "F9bi8jAviqWK"
    },
    {
      "cell_type": "code",
      "metadata": {
        "colab": {
          "base_uri": "https://localhost:8080/"
        },
        "id": "Dhw5mLmrFW2a",
        "outputId": "b7b903da-233a-49db-88da-7b73672472f8"
      },
      "source": [
        "print('sum of rows :', mat.sum(axis=1))"
      ],
      "id": "Dhw5mLmrFW2a",
      "execution_count": 116,
      "outputs": [
        {
          "output_type": "stream",
          "name": "stdout",
          "text": [
            "sum of rows : [20 30 21 26 17]\n"
          ]
        }
      ]
    },
    {
      "cell_type": "markdown",
      "metadata": {
        "id": "HyJN2-sIizmc"
      },
      "source": [
        "axis 0 represents columns"
      ],
      "id": "HyJN2-sIizmc"
    },
    {
      "cell_type": "code",
      "metadata": {
        "colab": {
          "base_uri": "https://localhost:8080/"
        },
        "id": "3X-d5iVQF2HJ",
        "outputId": "7718f0bf-9be6-400d-971b-3ac130955d46"
      },
      "source": [
        "print('sum of columns :', mat.sum(axis=0))"
      ],
      "id": "3X-d5iVQF2HJ",
      "execution_count": 117,
      "outputs": [
        {
          "output_type": "stream",
          "name": "stdout",
          "text": [
            "sum of columns : [27 28 17 16 26]\n"
          ]
        }
      ]
    },
    {
      "cell_type": "markdown",
      "metadata": {
        "id": "dTghtQeyi43L"
      },
      "source": [
        "not providing axis includes all the elements"
      ],
      "id": "dTghtQeyi43L"
    },
    {
      "cell_type": "code",
      "metadata": {
        "colab": {
          "base_uri": "https://localhost:8080/"
        },
        "id": "ARRru6IjKkkX",
        "outputId": "d76af897-5e09-42a3-dc93-e4cce1ac2f97"
      },
      "source": [
        "print('sum of all elements :', mat.sum())"
      ],
      "id": "ARRru6IjKkkX",
      "execution_count": 118,
      "outputs": [
        {
          "output_type": "stream",
          "name": "stdout",
          "text": [
            "sum of all elements : 114\n"
          ]
        }
      ]
    },
    {
      "cell_type": "markdown",
      "metadata": {
        "id": "oPOrtjmVLBpn"
      },
      "source": [
        "## Slicing of ndarray"
      ],
      "id": "oPOrtjmVLBpn"
    },
    {
      "cell_type": "code",
      "metadata": {
        "colab": {
          "base_uri": "https://localhost:8080/"
        },
        "id": "cvNIMf3tLFM_",
        "outputId": "fe307df2-f4fd-40ca-f474-6e2bf01e6b8e"
      },
      "source": [
        "# This variable stores birthday of persons\n",
        "data = [['AJ', 22, 1],\n",
        "        ['Ace', 16, 3],\n",
        "        ['Dave', 27, 11],\n",
        "        ['Lotte', 29, 9],\n",
        "        ['martha', 20, 6],\n",
        "        ['steve', 31, 10],\n",
        "        ['Raj', 9, 10],\n",
        "        ['Wane', 20, 1]]\n",
        "\n",
        "print(data)"
      ],
      "id": "cvNIMf3tLFM_",
      "execution_count": 119,
      "outputs": [
        {
          "output_type": "stream",
          "name": "stdout",
          "text": [
            "[['AJ', 22, 1], ['Ace', 16, 3], ['Dave', 27, 11], ['Lotte', 29, 9], ['martha', 20, 6], ['steve', 31, 10], ['Raj', 9, 10], ['Wane', 20, 1]]\n"
          ]
        }
      ]
    },
    {
      "cell_type": "markdown",
      "metadata": {
        "id": "MAq5nuSHjVyb"
      },
      "source": [
        "```Array[start:stop:step}]```\n",
        "\n",
        "it returns array starting from index ```start``` till index ```stop``` - 1 , taking ```step``` steps every time. "
      ],
      "id": "MAq5nuSHjVyb"
    },
    {
      "cell_type": "markdown",
      "metadata": {
        "id": "ViqWygNXj7e0"
      },
      "source": [
        "\n",
        "Not providing ```start``` argument results in 0, meaning it start from the first element."
      ],
      "id": "ViqWygNXj7e0"
    },
    {
      "cell_type": "code",
      "metadata": {
        "colab": {
          "base_uri": "https://localhost:8080/"
        },
        "id": "tB1ufH0BjLU0",
        "outputId": "f0f2bf6d-0717-4db3-d4fa-0d19b85dfa48"
      },
      "source": [
        "print(data[:5]) "
      ],
      "id": "tB1ufH0BjLU0",
      "execution_count": 120,
      "outputs": [
        {
          "output_type": "stream",
          "name": "stdout",
          "text": [
            "[['AJ', 22, 1], ['Ace', 16, 3], ['Dave', 27, 11], ['Lotte', 29, 9], ['martha', 20, 6]]\n"
          ]
        }
      ]
    },
    {
      "cell_type": "markdown",
      "metadata": {
        "id": "yy5IfgG3j9HC"
      },
      "source": [
        "\n",
        "Not providing ```stop``` argument results in length of the array."
      ],
      "id": "yy5IfgG3j9HC"
    },
    {
      "cell_type": "code",
      "metadata": {
        "colab": {
          "base_uri": "https://localhost:8080/"
        },
        "id": "wK8ZDORrMDk2",
        "outputId": "82d03db1-58ee-404f-b5d6-cef54f86b8d7"
      },
      "source": [
        "print(data[5:]) # returns every element from index 5 till last index"
      ],
      "id": "wK8ZDORrMDk2",
      "execution_count": 121,
      "outputs": [
        {
          "output_type": "stream",
          "name": "stdout",
          "text": [
            "[['steve', 31, 10], ['Raj', 9, 10], ['Wane', 20, 1]]\n"
          ]
        }
      ]
    },
    {
      "cell_type": "code",
      "metadata": {
        "colab": {
          "base_uri": "https://localhost:8080/"
        },
        "id": "vLhRJh3zMIOv",
        "outputId": "d82f26ae-c08a-41d6-db5e-5f114fb24966"
      },
      "source": [
        "print(data[::2]) \n",
        "# Instead of taking one step which is default , it will take 2 steps every time "
      ],
      "id": "vLhRJh3zMIOv",
      "execution_count": 122,
      "outputs": [
        {
          "output_type": "stream",
          "name": "stdout",
          "text": [
            "[['AJ', 22, 1], ['Dave', 27, 11], ['martha', 20, 6], ['Raj', 9, 10]]\n"
          ]
        }
      ]
    },
    {
      "cell_type": "code",
      "metadata": {
        "colab": {
          "base_uri": "https://localhost:8080/"
        },
        "id": "29OzSa3fMOWw",
        "outputId": "ad7c6898-e523-4222-f05b-6b601815490d"
      },
      "source": [
        "print(data[:-4:-1]) \n",
        "# negative stop index means 4th index from the last\n",
        "# negative steps means reverse traversing "
      ],
      "id": "29OzSa3fMOWw",
      "execution_count": 123,
      "outputs": [
        {
          "output_type": "stream",
          "name": "stdout",
          "text": [
            "[['Wane', 20, 1], ['Raj', 9, 10], ['steve', 31, 10]]\n"
          ]
        }
      ]
    },
    {
      "cell_type": "code",
      "metadata": {
        "colab": {
          "base_uri": "https://localhost:8080/"
        },
        "id": "lasxYpWGMWvG",
        "outputId": "9de362a4-607c-40ea-b091-4404240f47c8"
      },
      "source": [
        "print(data)"
      ],
      "id": "lasxYpWGMWvG",
      "execution_count": 124,
      "outputs": [
        {
          "output_type": "stream",
          "name": "stdout",
          "text": [
            "[['AJ', 22, 1], ['Ace', 16, 3], ['Dave', 27, 11], ['Lotte', 29, 9], ['martha', 20, 6], ['steve', 31, 10], ['Raj', 9, 10], ['Wane', 20, 1]]\n"
          ]
        }
      ]
    },
    {
      "cell_type": "markdown",
      "metadata": {
        "id": "IDy_XSU7kjmd"
      },
      "source": [
        "Slicing is mutable\n"
      ],
      "id": "IDy_XSU7kjmd"
    },
    {
      "cell_type": "code",
      "metadata": {
        "colab": {
          "base_uri": "https://localhost:8080/"
        },
        "id": "_iB2oEJkNDaG",
        "outputId": "c4be255a-2171-42b4-e5f2-be2d64d0f7e4"
      },
      "source": [
        "array = np.array([1, 2, 3, 4, 5])\n",
        "\n",
        "# we store last 3 elements values in array_slice variable\n",
        "array_slice = array[2:]\n",
        "\n",
        "print(array_slice)"
      ],
      "id": "_iB2oEJkNDaG",
      "execution_count": 125,
      "outputs": [
        {
          "output_type": "stream",
          "name": "stdout",
          "text": [
            "[3 4 5]\n"
          ]
        }
      ]
    },
    {
      "cell_type": "code",
      "metadata": {
        "colab": {
          "base_uri": "https://localhost:8080/"
        },
        "id": "zsO6zKLXNW_3",
        "outputId": "8363deee-6a65-4c06-8570-b6d0ca117709"
      },
      "source": [
        "# now , we change all the elements in that array_slice variable\n",
        "array_slice[:] = 0\n",
        "\n",
        "# it also changes original array's last 3 elements\n",
        "print('original array :', array)\n",
        "print('sliced array :', array_slice)"
      ],
      "id": "zsO6zKLXNW_3",
      "execution_count": 126,
      "outputs": [
        {
          "output_type": "stream",
          "name": "stdout",
          "text": [
            "original array : [1 2 0 0 0]\n",
            "sliced array : [0 0 0]\n"
          ]
        }
      ]
    },
    {
      "cell_type": "markdown",
      "metadata": {
        "id": "l2VLTRFvOaI1"
      },
      "source": [
        "## Numpy Arithmetic Operations"
      ],
      "id": "l2VLTRFvOaI1"
    },
    {
      "cell_type": "code",
      "metadata": {
        "colab": {
          "base_uri": "https://localhost:8080/"
        },
        "id": "gEeWQQCHNqMt",
        "outputId": "efb4d754-5f92-47d0-8bf2-0a29dab4c1aa"
      },
      "source": [
        "arr1 = np.random.randint(1, 10, 20)\n",
        "arr1 = arr1.reshape(5, 4)\n",
        "arr2 = np.random.randint(1, 10, 20)\n",
        "arr2 = arr2.reshape(5, 4)\n",
        "\n",
        "print('arr1 :\\n', arr1, '\\n\\narr2 :\\n', arr2)"
      ],
      "id": "gEeWQQCHNqMt",
      "execution_count": 127,
      "outputs": [
        {
          "output_type": "stream",
          "name": "stdout",
          "text": [
            "arr1 :\n",
            " [[8 9 7 7]\n",
            " [3 2 3 3]\n",
            " [8 1 6 4]\n",
            " [3 7 1 9]\n",
            " [7 9 3 7]] \n",
            "\n",
            "arr2 :\n",
            " [[2 5 8 2]\n",
            " [2 2 2 2]\n",
            " [9 4 1 1]\n",
            " [3 1 4 4]\n",
            " [2 7 9 1]]\n"
          ]
        }
      ]
    },
    {
      "cell_type": "code",
      "metadata": {
        "colab": {
          "base_uri": "https://localhost:8080/"
        },
        "id": "skp06nDZO_st",
        "outputId": "2c31c582-14e4-4842-eed3-e566c61889fe"
      },
      "source": [
        "# Adding scalar to the matrix\n",
        "# scalar value is added to every element \n",
        "\n",
        "arr1add2 = arr1 + 2\n",
        "print(arr1add2)\n",
        "\n",
        "# Substracting scalar value works same \n",
        "new_arr = arr1add2 - 2\n",
        "print(new_arr)"
      ],
      "id": "skp06nDZO_st",
      "execution_count": 128,
      "outputs": [
        {
          "output_type": "stream",
          "name": "stdout",
          "text": [
            "[[10 11  9  9]\n",
            " [ 5  4  5  5]\n",
            " [10  3  8  6]\n",
            " [ 5  9  3 11]\n",
            " [ 9 11  5  9]]\n",
            "[[8 9 7 7]\n",
            " [3 2 3 3]\n",
            " [8 1 6 4]\n",
            " [3 7 1 9]\n",
            " [7 9 3 7]]\n"
          ]
        }
      ]
    },
    {
      "cell_type": "code",
      "metadata": {
        "colab": {
          "base_uri": "https://localhost:8080/"
        },
        "id": "kN4imkBxPemt",
        "outputId": "370e8b33-a25d-49b0-f208-e4e1685a6f50"
      },
      "source": [
        "# Adding both matrices\n",
        "sum_mat = arr1 + arr2\n",
        "print(sum_mat)"
      ],
      "id": "kN4imkBxPemt",
      "execution_count": 129,
      "outputs": [
        {
          "output_type": "stream",
          "name": "stdout",
          "text": [
            "[[10 14 15  9]\n",
            " [ 5  4  5  5]\n",
            " [17  5  7  5]\n",
            " [ 6  8  5 13]\n",
            " [ 9 16 12  8]]\n"
          ]
        }
      ]
    },
    {
      "cell_type": "code",
      "metadata": {
        "colab": {
          "base_uri": "https://localhost:8080/"
        },
        "id": "Yh-zZWZDQAt8",
        "outputId": "2b56234a-6d66-4e60-b04d-20b47bf4cbc0"
      },
      "source": [
        "sub_mat = sum_mat - arr2\n",
        "# Our ans should be same as arr1\n",
        "print(sub_mat)"
      ],
      "id": "Yh-zZWZDQAt8",
      "execution_count": 130,
      "outputs": [
        {
          "output_type": "stream",
          "name": "stdout",
          "text": [
            "[[8 9 7 7]\n",
            " [3 2 3 3]\n",
            " [8 1 6 4]\n",
            " [3 7 1 9]\n",
            " [7 9 3 7]]\n"
          ]
        }
      ]
    },
    {
      "cell_type": "code",
      "metadata": {
        "colab": {
          "base_uri": "https://localhost:8080/"
        },
        "id": "XRiY8-lZQotd",
        "outputId": "148b2ac5-5bb3-4e1f-c51e-2f7efe36786c"
      },
      "source": [
        "# Division works same\n",
        "arr1div2 = arr1 / 2\n",
        "print(arr1div2)"
      ],
      "id": "XRiY8-lZQotd",
      "execution_count": 131,
      "outputs": [
        {
          "output_type": "stream",
          "name": "stdout",
          "text": [
            "[[4.  4.5 3.5 3.5]\n",
            " [1.5 1.  1.5 1.5]\n",
            " [4.  0.5 3.  2. ]\n",
            " [1.5 3.5 0.5 4.5]\n",
            " [3.5 4.5 1.5 3.5]]\n"
          ]
        }
      ]
    },
    {
      "cell_type": "code",
      "metadata": {
        "colab": {
          "base_uri": "https://localhost:8080/"
        },
        "id": "RTslplYxQ75j",
        "outputId": "6214fbb5-0c7a-49be-ef0d-c01003f2832b"
      },
      "source": [
        "# We can perform elementwise division between matrices as follow\n",
        "div = arr1/arr2\n",
        "print(div)"
      ],
      "id": "RTslplYxQ75j",
      "execution_count": 132,
      "outputs": [
        {
          "output_type": "stream",
          "name": "stdout",
          "text": [
            "[[4.         1.8        0.875      3.5       ]\n",
            " [1.5        1.         1.5        1.5       ]\n",
            " [0.88888889 0.25       6.         4.        ]\n",
            " [1.         7.         0.25       2.25      ]\n",
            " [3.5        1.28571429 0.33333333 7.        ]]\n"
          ]
        }
      ]
    },
    {
      "cell_type": "code",
      "metadata": {
        "colab": {
          "base_uri": "https://localhost:8080/"
        },
        "id": "1nhoY_z4RHRL",
        "outputId": "fcccb569-a325-4586-f3e6-6d0eaf08a144"
      },
      "source": [
        "# same goes for multiplication\n",
        "# Multiplying arr2 with our div variable should return arr1\n",
        "new_arr = div * arr2\n",
        "print(new_arr)"
      ],
      "id": "1nhoY_z4RHRL",
      "execution_count": 133,
      "outputs": [
        {
          "output_type": "stream",
          "name": "stdout",
          "text": [
            "[[8. 9. 7. 7.]\n",
            " [3. 2. 3. 3.]\n",
            " [8. 1. 6. 4.]\n",
            " [3. 7. 1. 9.]\n",
            " [7. 9. 3. 7.]]\n"
          ]
        }
      ]
    },
    {
      "cell_type": "code",
      "metadata": {
        "colab": {
          "base_uri": "https://localhost:8080/"
        },
        "id": "ARzM_VRWReii",
        "outputId": "fd321484-9f9f-4249-bd91-ea04396cbc76"
      },
      "source": [
        "# For matrix multiplication we use matmul function or dot function\n",
        "# We need to use transpose of one of the array to make them eligible for matrix multiplication\n",
        "mat_mul = np.matmul(arr1, arr2.T)\n",
        "print(mat_mul)"
      ],
      "id": "ARzM_VRWReii",
      "execution_count": 134,
      "outputs": [
        {
          "output_type": "stream",
          "name": "stdout",
          "text": [
            "[[131  62 122  89 149]\n",
            " [ 46  22  41  35  50]\n",
            " [ 77  38  86  65  81]\n",
            " [ 67  40  65  56  73]\n",
            " [ 97  52 109  70 111]]\n"
          ]
        }
      ]
    },
    {
      "cell_type": "code",
      "metadata": {
        "colab": {
          "base_uri": "https://localhost:8080/"
        },
        "id": "-W9DHvJPSbg7",
        "outputId": "0bf9a8f7-6492-44e7-b459-54dd4091e698"
      },
      "source": [
        "dot = arr1.dot(arr2.T)\n",
        "print(dot)"
      ],
      "id": "-W9DHvJPSbg7",
      "execution_count": 135,
      "outputs": [
        {
          "output_type": "stream",
          "name": "stdout",
          "text": [
            "[[131  62 122  89 149]\n",
            " [ 46  22  41  35  50]\n",
            " [ 77  38  86  65  81]\n",
            " [ 67  40  65  56  73]\n",
            " [ 97  52 109  70 111]]\n"
          ]
        }
      ]
    },
    {
      "cell_type": "code",
      "metadata": {
        "colab": {
          "base_uri": "https://localhost:8080/"
        },
        "id": "EPIbDzdoS2_j",
        "outputId": "065b1f58-a787-41dd-8bf1-aed4b4c84ba4"
      },
      "source": [
        "using_atRate = arr1 @ arr2.T\n",
        "print(using_atRate)"
      ],
      "id": "EPIbDzdoS2_j",
      "execution_count": 136,
      "outputs": [
        {
          "output_type": "stream",
          "name": "stdout",
          "text": [
            "[[131  62 122  89 149]\n",
            " [ 46  22  41  35  50]\n",
            " [ 77  38  86  65  81]\n",
            " [ 67  40  65  56  73]\n",
            " [ 97  52 109  70 111]]\n"
          ]
        }
      ]
    },
    {
      "cell_type": "markdown",
      "metadata": {
        "id": "5I_LzmyNTrKY"
      },
      "source": [
        "## Sorting"
      ],
      "id": "5I_LzmyNTrKY"
    },
    {
      "cell_type": "code",
      "metadata": {
        "colab": {
          "base_uri": "https://localhost:8080/"
        },
        "id": "UcudjX1VTHLi",
        "outputId": "639773fd-9749-4a09-ede9-7249c8bf3b50"
      },
      "source": [
        "my_data_type = np.dtype([('name', 'S10'), ('email', 'S10'), ('Gender', 'S10'), ('age', int)]) \n",
        "\n",
        "data = np.array([ ('Nate', 'Nate.data@gamil.com', 'Female', 24),\n",
        "                 ('Aj', 'Aj.data@gmail.com', 'Male', 19),\n",
        "                 ('Hari', 'Hari.data@gmail.com', 'Male', 23),\n",
        "                 ('Ace', 'Ace.data@gmail.com', 'Female', 19)], dtype=my_data_type)\n",
        "\n",
        "\n",
        "\n",
        "print(data)"
      ],
      "id": "UcudjX1VTHLi",
      "execution_count": 137,
      "outputs": [
        {
          "output_type": "stream",
          "name": "stdout",
          "text": [
            "[(b'Nate', b'Nate.data@', b'Female', 24)\n",
            " (b'Aj', b'Aj.data@gm', b'Male', 19) (b'Hari', b'Hari.data@', b'Male', 23)\n",
            " (b'Ace', b'Ace.data@g', b'Female', 19)]\n"
          ]
        }
      ]
    },
    {
      "cell_type": "code",
      "metadata": {
        "colab": {
          "base_uri": "https://localhost:8080/"
        },
        "id": "37bRaRAzVO-Q",
        "outputId": "445a0bd1-0b31-4f48-88b4-b9ca80cc27b6"
      },
      "source": [
        "data.sort(order='name')\n",
        "print(data)"
      ],
      "id": "37bRaRAzVO-Q",
      "execution_count": 138,
      "outputs": [
        {
          "output_type": "stream",
          "name": "stdout",
          "text": [
            "[(b'Ace', b'Ace.data@g', b'Female', 19)\n",
            " (b'Aj', b'Aj.data@gm', b'Male', 19) (b'Hari', b'Hari.data@', b'Male', 23)\n",
            " (b'Nate', b'Nate.data@', b'Female', 24)]\n"
          ]
        }
      ]
    },
    {
      "cell_type": "code",
      "metadata": {
        "colab": {
          "base_uri": "https://localhost:8080/"
        },
        "id": "VdkxG_AsdYk4",
        "outputId": "1e13d2af-9952-4b9f-be66-f45574fc7010"
      },
      "source": [
        "data.sort(order=['Gender', 'name', 'age'])\n",
        "print(data)"
      ],
      "id": "VdkxG_AsdYk4",
      "execution_count": 139,
      "outputs": [
        {
          "output_type": "stream",
          "name": "stdout",
          "text": [
            "[(b'Ace', b'Ace.data@g', b'Female', 19)\n",
            " (b'Nate', b'Nate.data@', b'Female', 24)\n",
            " (b'Aj', b'Aj.data@gm', b'Male', 19) (b'Hari', b'Hari.data@', b'Male', 23)]\n"
          ]
        }
      ]
    },
    {
      "cell_type": "markdown",
      "metadata": {
        "id": "qhmlqKgReo1v"
      },
      "source": [
        "## Conditional Selection"
      ],
      "id": "qhmlqKgReo1v"
    },
    {
      "cell_type": "code",
      "metadata": {
        "colab": {
          "base_uri": "https://localhost:8080/"
        },
        "id": "S8qjO561drjD",
        "outputId": "247993a9-05ef-403c-cc69-cc340047f6ad"
      },
      "source": [
        "numbers = np.random.randn(20)\n",
        "print(numbers)"
      ],
      "id": "S8qjO561drjD",
      "execution_count": 140,
      "outputs": [
        {
          "output_type": "stream",
          "name": "stdout",
          "text": [
            "[-1.24681341 -1.5007142   0.97990707 -1.72820462 -0.16591694 -0.74647989\n",
            " -0.7585243  -0.49549122 -1.45415317 -1.6945704   1.49049821 -1.07083627\n",
            " -1.5519479  -0.15992297 -0.78085532  1.1143071   0.95635114 -0.2177909\n",
            " -1.62601492  0.23641451]\n"
          ]
        }
      ]
    },
    {
      "cell_type": "code",
      "metadata": {
        "colab": {
          "base_uri": "https://localhost:8080/"
        },
        "id": "BlwI3J_le96w",
        "outputId": "025cc01a-0549-445b-e9b2-68020030d881"
      },
      "source": [
        "# Lets make bool array to represent negative and positive elements\n",
        "# negative numbers would ne false and positive would be true\n",
        "\n",
        "sign = numbers > 0\n",
        "print(sign)"
      ],
      "id": "BlwI3J_le96w",
      "execution_count": 141,
      "outputs": [
        {
          "output_type": "stream",
          "name": "stdout",
          "text": [
            "[False False  True False False False False False False False  True False\n",
            " False False False  True  True False False  True]\n"
          ]
        }
      ]
    },
    {
      "cell_type": "markdown",
      "metadata": {
        "id": "2CF9rFUxQNrX"
      },
      "source": [
        "## Pandas Series"
      ],
      "id": "2CF9rFUxQNrX"
    },
    {
      "cell_type": "code",
      "metadata": {
        "id": "sWhMSY_nfS1Q"
      },
      "source": [
        "import pandas as pd\n",
        "import numpy as np"
      ],
      "id": "sWhMSY_nfS1Q",
      "execution_count": 142,
      "outputs": []
    },
    {
      "cell_type": "code",
      "metadata": {
        "colab": {
          "base_uri": "https://localhost:8080/"
        },
        "id": "OHh60_-bQaqO",
        "outputId": "98e3336b-4f0f-446b-aa8d-26476c8a7c48"
      },
      "source": [
        "s = pd.Series([1, 2, 4, 6, 7, 0])\n",
        "print(s)"
      ],
      "id": "OHh60_-bQaqO",
      "execution_count": 143,
      "outputs": [
        {
          "output_type": "stream",
          "name": "stdout",
          "text": [
            "0    1\n",
            "1    2\n",
            "2    4\n",
            "3    6\n",
            "4    7\n",
            "5    0\n",
            "dtype: int64\n"
          ]
        }
      ]
    },
    {
      "cell_type": "code",
      "metadata": {
        "colab": {
          "base_uri": "https://localhost:8080/"
        },
        "id": "vxzUHIw_QsDx",
        "outputId": "0648db0a-2ed7-4830-dc4a-7688401b66bf"
      },
      "source": [
        "print('3rd element in series :', s[2])\n",
        "print('2nd last element in series :', s[4])"
      ],
      "id": "vxzUHIw_QsDx",
      "execution_count": 144,
      "outputs": [
        {
          "output_type": "stream",
          "name": "stdout",
          "text": [
            "3rd element in series : 4\n",
            "2nd last element in series : 7\n"
          ]
        }
      ]
    },
    {
      "cell_type": "code",
      "metadata": {
        "colab": {
          "base_uri": "https://localhost:8080/"
        },
        "id": "Bonz2RGKQ_Iu",
        "outputId": "50ebfa48-b259-40e6-f524-ddf0ae75a1dc"
      },
      "source": [
        "sum = s[3] + s[1]\n",
        "print(sum)"
      ],
      "id": "Bonz2RGKQ_Iu",
      "execution_count": 145,
      "outputs": [
        {
          "output_type": "stream",
          "name": "stdout",
          "text": [
            "8\n"
          ]
        }
      ]
    },
    {
      "cell_type": "code",
      "metadata": {
        "colab": {
          "base_uri": "https://localhost:8080/"
        },
        "id": "vCyDV3c3RjPN",
        "outputId": "b4332891-a7cf-4050-a75a-b9fd07e81133"
      },
      "source": [
        "data = pd.Series(np.random.randint(0, 51, 7), dtype=str)\n",
        "print(data)"
      ],
      "id": "vCyDV3c3RjPN",
      "execution_count": 146,
      "outputs": [
        {
          "output_type": "stream",
          "name": "stdout",
          "text": [
            "0    47\n",
            "1     2\n",
            "2    13\n",
            "3    31\n",
            "4     6\n",
            "5     8\n",
            "6    46\n",
            "dtype: object\n"
          ]
        }
      ]
    },
    {
      "cell_type": "code",
      "metadata": {
        "colab": {
          "base_uri": "https://localhost:8080/"
        },
        "id": "0GO4elBsSC4n",
        "outputId": "37bffc8f-5eb4-43fa-ebd2-c4aafe09b4b1"
      },
      "source": [
        "indeces = ['Emp. Id', 'Name', 'Post']\n",
        "emp_data = [12.1, 'Nate', 'R4']\n",
        "emp_data_S = pd.Series(data=emp_data, index=indeces)\n",
        "print(emp_data_S)\n"
      ],
      "id": "0GO4elBsSC4n",
      "execution_count": 147,
      "outputs": [
        {
          "output_type": "stream",
          "name": "stdout",
          "text": [
            "Emp. Id    12.1\n",
            "Name       Nate\n",
            "Post         R4\n",
            "dtype: object\n"
          ]
        }
      ]
    },
    {
      "cell_type": "markdown",
      "metadata": {
        "id": "uc4lSOvKTAqj"
      },
      "source": [
        "## Creating Time series\n"
      ],
      "id": "uc4lSOvKTAqj"
    },
    {
      "cell_type": "code",
      "metadata": {
        "id": "Lf_VD5fZTG1b"
      },
      "source": [
        "import pandas as pd\n",
        "import numpy as np"
      ],
      "id": "Lf_VD5fZTG1b",
      "execution_count": 148,
      "outputs": []
    },
    {
      "cell_type": "code",
      "metadata": {
        "colab": {
          "base_uri": "https://localhost:8080/"
        },
        "id": "hBg_qWsMSn7f",
        "outputId": "0d564344-24d3-4e7c-bc98-91fed51903a4"
      },
      "source": [
        "date = pd.to_datetime(\"22nd of January , 2002\")\n",
        "daily_indeces = date + pd.to_timedelta(np.arange(20), unit='D')\n",
        "data = np.random.randn(20) > 0\n",
        "\n",
        "stock_trend = pd.Series(data=data, index=daily_indeces)\n",
        "print(stock_trend)"
      ],
      "id": "hBg_qWsMSn7f",
      "execution_count": 149,
      "outputs": [
        {
          "output_type": "stream",
          "name": "stdout",
          "text": [
            "2002-01-22    False\n",
            "2002-01-23     True\n",
            "2002-01-24     True\n",
            "2002-01-25    False\n",
            "2002-01-26    False\n",
            "2002-01-27    False\n",
            "2002-01-28     True\n",
            "2002-01-29     True\n",
            "2002-01-30     True\n",
            "2002-01-31     True\n",
            "2002-02-01    False\n",
            "2002-02-02     True\n",
            "2002-02-03    False\n",
            "2002-02-04     True\n",
            "2002-02-05    False\n",
            "2002-02-06     True\n",
            "2002-02-07    False\n",
            "2002-02-08     True\n",
            "2002-02-09     True\n",
            "2002-02-10     True\n",
            "dtype: bool\n"
          ]
        }
      ]
    },
    {
      "cell_type": "markdown",
      "metadata": {
        "id": "pDMrid3Ho473"
      },
      "source": [
        ""
      ],
      "id": "pDMrid3Ho473"
    },
    {
      "cell_type": "markdown",
      "metadata": {
        "id": "4Q8DYo3pqg24"
      },
      "source": [
        "# 7] Demonstrate Statistical data analysing Numeric Data in python.\n",
        "---"
      ],
      "id": "4Q8DYo3pqg24"
    },
    {
      "cell_type": "markdown",
      "metadata": {
        "id": "kxPuLsFNq8Km"
      },
      "source": [
        "importing numpy"
      ],
      "id": "kxPuLsFNq8Km"
    },
    {
      "cell_type": "code",
      "metadata": {
        "id": "CBXulLb_qnOm"
      },
      "source": [
        "import numpy as np\n"
      ],
      "id": "CBXulLb_qnOm",
      "execution_count": 150,
      "outputs": []
    },
    {
      "cell_type": "markdown",
      "metadata": {
        "id": "fwlAazbTrB9l"
      },
      "source": [
        "Creating array ussing numpy array() method\n",
        "we used random.randint() method to generate 5 random elements from [0, 10)"
      ],
      "id": "fwlAazbTrB9l"
    },
    {
      "cell_type": "code",
      "metadata": {
        "colab": {
          "base_uri": "https://localhost:8080/"
        },
        "id": "Q2kiJwH1qzM-",
        "outputId": "0d0a6be9-08b0-497b-b0df-09f95197114c"
      },
      "source": [
        "arr1 = np.array(np.random.randint(0, 10, 5))\n",
        "print(arr1)"
      ],
      "id": "Q2kiJwH1qzM-",
      "execution_count": 151,
      "outputs": [
        {
          "output_type": "stream",
          "name": "stdout",
          "text": [
            "[4 9 2 4 8]\n"
          ]
        }
      ]
    },
    {
      "cell_type": "markdown",
      "metadata": {
        "id": "ReqN7C6AsCzu"
      },
      "source": [
        "Accessing and manipulating array elements "
      ],
      "id": "ReqN7C6AsCzu"
    },
    {
      "cell_type": "code",
      "metadata": {
        "colab": {
          "base_uri": "https://localhost:8080/"
        },
        "id": "7MTy5botrIic",
        "outputId": "693595cd-a815-4a73-e894-9d02f3851967"
      },
      "source": [
        "print(arr1[3]) # prints elememt on 3rd index from arr "
      ],
      "id": "7MTy5botrIic",
      "execution_count": 152,
      "outputs": [
        {
          "output_type": "stream",
          "name": "stdout",
          "text": [
            "4\n"
          ]
        }
      ]
    },
    {
      "cell_type": "code",
      "metadata": {
        "colab": {
          "base_uri": "https://localhost:8080/"
        },
        "id": "y6Zq36vYsPYu",
        "outputId": "82adfb1b-6a24-4e74-9721-9f71a7781968"
      },
      "source": [
        "print('arr1 before changing value : ',arr1)\n",
        "arr1[3] = arr1[2] # changes value of 3rd index to the value of 2nd index in arr1\n",
        "print('arr1 after changing value : ',arr1)"
      ],
      "id": "y6Zq36vYsPYu",
      "execution_count": 153,
      "outputs": [
        {
          "output_type": "stream",
          "name": "stdout",
          "text": [
            "arr1 before changing value :  [4 9 2 4 8]\n",
            "arr1 after changing value :  [4 9 2 2 8]\n"
          ]
        }
      ]
    },
    {
      "cell_type": "markdown",
      "metadata": {
        "id": "Cqy7kRi7sw6W"
      },
      "source": [
        "Let's create 2D array \n"
      ],
      "id": "Cqy7kRi7sw6W"
    },
    {
      "cell_type": "code",
      "metadata": {
        "colab": {
          "base_uri": "https://localhost:8080/"
        },
        "id": "0VWh4x0ssd7F",
        "outputId": "fbd5f20d-eb86-43a8-8231-98c119c55692"
      },
      "source": [
        "# arr2 = np.random.randint(0, 10, 3)\n",
        "# arr3 = np.arange(0, 5)\n",
        "# matrix1 = np.array([arr2, [1, 3, 5]], dtype=int)\n",
        "# print(matrix1)\n",
        "\n",
        "matrix = np.array([ [22, 16, 27], \n",
        "                    [1, 3, 11] ])\n",
        "print(matrix)"
      ],
      "id": "0VWh4x0ssd7F",
      "execution_count": 154,
      "outputs": [
        {
          "output_type": "stream",
          "name": "stdout",
          "text": [
            "[[22 16 27]\n",
            " [ 1  3 11]]\n"
          ]
        }
      ]
    },
    {
      "cell_type": "markdown",
      "metadata": {
        "id": "BHGnK7E9vH2t"
      },
      "source": [
        "We can know the size of the matrix/array with shape method in numpy"
      ],
      "id": "BHGnK7E9vH2t"
    },
    {
      "cell_type": "code",
      "metadata": {
        "colab": {
          "base_uri": "https://localhost:8080/"
        },
        "id": "cqhQ1YlxtLfv",
        "outputId": "afefcb54-c41d-41a0-9b3b-f63ee1587538"
      },
      "source": [
        "print(matrix.shape)"
      ],
      "id": "cqhQ1YlxtLfv",
      "execution_count": 155,
      "outputs": [
        {
          "output_type": "stream",
          "name": "stdout",
          "text": [
            "(2, 3)\n"
          ]
        }
      ]
    },
    {
      "cell_type": "markdown",
      "metadata": {
        "id": "Xzpg75YZwGLl"
      },
      "source": [
        "We can access 2D array element as below"
      ],
      "id": "Xzpg75YZwGLl"
    },
    {
      "cell_type": "code",
      "metadata": {
        "colab": {
          "base_uri": "https://localhost:8080/"
        },
        "id": "ivgvinJEvPZm",
        "outputId": "dc56fe92-d1e3-4868-9896-be0155ae792e"
      },
      "source": [
        "print('first element in first row : ', matrix[0][0])\n",
        "print('last element in last row : ', matrix[-1][-1]) # negative index refers to the list in reverse order\n",
        "print('second row : ', matrix[1]) # not providing colom value returns whole row"
      ],
      "id": "ivgvinJEvPZm",
      "execution_count": 156,
      "outputs": [
        {
          "output_type": "stream",
          "name": "stdout",
          "text": [
            "first element in first row :  22\n",
            "last element in last row :  11\n",
            "second row :  [ 1  3 11]\n"
          ]
        }
      ]
    },
    {
      "cell_type": "markdown",
      "metadata": {
        "id": "Fdp0SidRw29e"
      },
      "source": [
        "Array of type string"
      ],
      "id": "Fdp0SidRw29e"
    },
    {
      "cell_type": "code",
      "metadata": {
        "colab": {
          "base_uri": "https://localhost:8080/"
        },
        "id": "-K22qWGXwUBV",
        "outputId": "57a15c0a-2619-43e7-bca2-4de3d8931a2d"
      },
      "source": [
        "family = ['Father', 'Mother', 'Brother', 'Sister']\n",
        "print(family)\n",
        "print('3rd element in family list is : ', family[2]) # accessing array element as shown earlier"
      ],
      "id": "-K22qWGXwUBV",
      "execution_count": 157,
      "outputs": [
        {
          "output_type": "stream",
          "name": "stdout",
          "text": [
            "['Father', 'Mother', 'Brother', 'Sister']\n",
            "3rd element in family list is :  Brother\n"
          ]
        }
      ]
    },
    {
      "cell_type": "markdown",
      "metadata": {
        "id": "M94m1qmcxU-t"
      },
      "source": [
        "Using the arange() and linspace() function to evenly space values in a specified interval."
      ],
      "id": "M94m1qmcxU-t"
    },
    {
      "cell_type": "code",
      "metadata": {
        "colab": {
          "base_uri": "https://localhost:8080/"
        },
        "id": "81BbpxMDxBvN",
        "outputId": "80af64e3-dea3-4d44-c077-cb228f5a7101"
      },
      "source": [
        "arr_with_same_difference = np.arange(0, 10, 3)\n",
        "print('This array will have same difference between adjacent elements : \\n', arr_with_same_difference)\n",
        "# so using arrange method returns list in given range i.e., (0, 10) in our case , with every 3rd element in our case"
      ],
      "id": "81BbpxMDxBvN",
      "execution_count": 158,
      "outputs": [
        {
          "output_type": "stream",
          "name": "stdout",
          "text": [
            "This array will have same difference between adjacent elements : \n",
            " [0 3 6 9]\n"
          ]
        }
      ]
    },
    {
      "cell_type": "code",
      "metadata": {
        "id": "RFKT32Idxxid",
        "colab": {
          "base_uri": "https://localhost:8080/"
        },
        "outputId": "ba9e1029-0744-4ce2-c659-bb7608e44342"
      },
      "source": [
        "# if we want a list of numbers in range (11, 30) with every 5th element \n",
        "# we can write\n",
        "five_diff = np.arange(11, 30, 5)\n",
        "print(five_diff)"
      ],
      "id": "RFKT32Idxxid",
      "execution_count": 159,
      "outputs": [
        {
          "output_type": "stream",
          "name": "stdout",
          "text": [
            "[11 16 21 26]\n"
          ]
        }
      ]
    },
    {
      "cell_type": "code",
      "metadata": {
        "colab": {
          "base_uri": "https://localhost:8080/"
        },
        "id": "siCJQC7Bz95u",
        "outputId": "6e530aab-2c42-4bc0-cbfa-ecebf59e5c89"
      },
      "source": [
        "# Using linspace \n",
        "arr = np.linspace(11, 30, 50)\n",
        "print(arr)"
      ],
      "id": "siCJQC7Bz95u",
      "execution_count": 160,
      "outputs": [
        {
          "output_type": "stream",
          "name": "stdout",
          "text": [
            "[11.         11.3877551  11.7755102  12.16326531 12.55102041 12.93877551\n",
            " 13.32653061 13.71428571 14.10204082 14.48979592 14.87755102 15.26530612\n",
            " 15.65306122 16.04081633 16.42857143 16.81632653 17.20408163 17.59183673\n",
            " 17.97959184 18.36734694 18.75510204 19.14285714 19.53061224 19.91836735\n",
            " 20.30612245 20.69387755 21.08163265 21.46938776 21.85714286 22.24489796\n",
            " 22.63265306 23.02040816 23.40816327 23.79591837 24.18367347 24.57142857\n",
            " 24.95918367 25.34693878 25.73469388 26.12244898 26.51020408 26.89795918\n",
            " 27.28571429 27.67346939 28.06122449 28.44897959 28.83673469 29.2244898\n",
            " 29.6122449  30.        ]\n"
          ]
        }
      ]
    },
    {
      "cell_type": "markdown",
      "metadata": {
        "id": "RW0HOFTM1xiu"
      },
      "source": [
        "Create an array of constant values in a given shape."
      ],
      "id": "RW0HOFTM1xiu"
    },
    {
      "cell_type": "code",
      "metadata": {
        "colab": {
          "base_uri": "https://localhost:8080/"
        },
        "id": "o18JhHzv02Fm",
        "outputId": "2079ee87-d66d-4a80-e4bb-2b5efdfd1a62"
      },
      "source": [
        "# we can create any size of array with same value in every element with the code below \n",
        "# we use full() method and give shape of an array a fist argument and value as second argument\n",
        "const_arr = np.full((3, 10), 'Naruto')\n",
        "print(const_arr)\n",
        "print('shape of this arr is : ', const_arr.shape)"
      ],
      "id": "o18JhHzv02Fm",
      "execution_count": 161,
      "outputs": [
        {
          "output_type": "stream",
          "name": "stdout",
          "text": [
            "[['Naruto' 'Naruto' 'Naruto' 'Naruto' 'Naruto' 'Naruto' 'Naruto' 'Naruto'\n",
            "  'Naruto' 'Naruto']\n",
            " ['Naruto' 'Naruto' 'Naruto' 'Naruto' 'Naruto' 'Naruto' 'Naruto' 'Naruto'\n",
            "  'Naruto' 'Naruto']\n",
            " ['Naruto' 'Naruto' 'Naruto' 'Naruto' 'Naruto' 'Naruto' 'Naruto' 'Naruto'\n",
            "  'Naruto' 'Naruto']]\n",
            "shape of this arr is :  (3, 10)\n"
          ]
        }
      ]
    },
    {
      "cell_type": "markdown",
      "metadata": {
        "id": "elBio3qD26pm"
      },
      "source": [
        " Repeat each element of an array by a specified number of times using repeat() and tile() functions."
      ],
      "id": "elBio3qD26pm"
    },
    {
      "cell_type": "code",
      "metadata": {
        "colab": {
          "base_uri": "https://localhost:8080/"
        },
        "id": "iVBRLkMo100u",
        "outputId": "ab2745b8-d180-405d-a997-40fe04ec5e96"
      },
      "source": [
        "# to create new array from existing array with each element repeating specific time \n",
        "# we use repeat() method\n",
        "arr_to_repeat = [22, 21, 20]\n",
        "repeated_arr = np.repeat(arr_to_repeat, 2)\n",
        "# here , all the elements of array will be repeated twice\n",
        "print(repeated_arr)"
      ],
      "id": "iVBRLkMo100u",
      "execution_count": 162,
      "outputs": [
        {
          "output_type": "stream",
          "name": "stdout",
          "text": [
            "[22 22 21 21 20 20]\n"
          ]
        }
      ]
    },
    {
      "cell_type": "code",
      "metadata": {
        "colab": {
          "base_uri": "https://localhost:8080/"
        },
        "id": "AEjAMiFX3TkF",
        "outputId": "12f7db1d-951a-4761-c12d-02a81832ab34"
      },
      "source": [
        "# we use tile() method to repeat whole array specific times\n",
        "repeating_whole_arr = np.tile(arr_to_repeat, 3)\n",
        "# here, whole array will be repeated thrice\n",
        "print(repeating_whole_arr)"
      ],
      "id": "AEjAMiFX3TkF",
      "execution_count": 163,
      "outputs": [
        {
          "output_type": "stream",
          "name": "stdout",
          "text": [
            "[22 21 20 22 21 20 22 21 20]\n"
          ]
        }
      ]
    },
    {
      "cell_type": "markdown",
      "metadata": {
        "id": "QMO3G_7t4AwN"
      },
      "source": [
        "Create an identity matrix using eye() and identity() function."
      ],
      "id": "QMO3G_7t4AwN"
    },
    {
      "cell_type": "code",
      "metadata": {
        "colab": {
          "base_uri": "https://localhost:8080/"
        },
        "id": "p6kkTEQF31qc",
        "outputId": "6f3e14d1-c054-42ea-e1df-1841add07ac1"
      },
      "source": [
        "# we can use eye() method to Return a 2-D array with ones on the diagonal and zeros elsewhere\n",
        "eye_arr = np.eye(3)\n",
        "print(eye_arr)"
      ],
      "id": "p6kkTEQF31qc",
      "execution_count": 164,
      "outputs": [
        {
          "output_type": "stream",
          "name": "stdout",
          "text": [
            "[[1. 0. 0.]\n",
            " [0. 1. 0.]\n",
            " [0. 0. 1.]]\n"
          ]
        }
      ]
    },
    {
      "cell_type": "code",
      "metadata": {
        "colab": {
          "base_uri": "https://localhost:8080/"
        },
        "id": "zglUo_FY4XIG",
        "outputId": "91c99ade-29ab-42ef-fee3-e5dd88fe3c0e"
      },
      "source": [
        "# similarly, we can use identity() method to Return the identity array.\n",
        "iden_arr = np.identity(5)\n",
        "print(iden_arr)"
      ],
      "id": "zglUo_FY4XIG",
      "execution_count": 165,
      "outputs": [
        {
          "output_type": "stream",
          "name": "stdout",
          "text": [
            "[[1. 0. 0. 0. 0.]\n",
            " [0. 1. 0. 0. 0.]\n",
            " [0. 0. 1. 0. 0.]\n",
            " [0. 0. 0. 1. 0.]\n",
            " [0. 0. 0. 0. 1.]]\n"
          ]
        }
      ]
    },
    {
      "cell_type": "markdown",
      "metadata": {
        "id": "lTqpwkxI4uEc"
      },
      "source": [
        "Creating 2D array for random numbers between 0 to 1."
      ],
      "id": "lTqpwkxI4uEc"
    },
    {
      "cell_type": "code",
      "metadata": {
        "colab": {
          "base_uri": "https://localhost:8080/"
        },
        "id": "LVcTUPUl4laO",
        "outputId": "6fc4fd49-70a9-4796-8602-8cf762b9735b"
      },
      "source": [
        "random_matrix = np.random.rand(4, 5)\n",
        "# we need to give shape of desired array in argument\n",
        "print(random_matrix)"
      ],
      "id": "LVcTUPUl4laO",
      "execution_count": 166,
      "outputs": [
        {
          "output_type": "stream",
          "name": "stdout",
          "text": [
            "[[0.26757783 0.42791822 0.73985361 0.88108305 0.82788286]\n",
            " [0.88050149 0.00850505 0.39582958 0.19962045 0.29440079]\n",
            " [0.90668317 0.87362576 0.07334042 0.42431852 0.14351399]\n",
            " [0.2625494  0.1716638  0.45757032 0.38907406 0.80529549]]\n"
          ]
        }
      ]
    }
  ]
}