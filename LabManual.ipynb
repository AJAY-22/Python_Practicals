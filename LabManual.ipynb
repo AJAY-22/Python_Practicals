{
  "nbformat": 4,
  "nbformat_minor": 5,
  "metadata": {
    "colab": {
      "name": "LabManual.ipynb",
      "provenance": [],
      "collapsed_sections": [
        "e901a282",
        "Gi4fLTOyTPSN",
        "mb9Hk5VEH3es",
        "EOWKS-VbSXqP",
        "7vxWBY1YUNle",
        "3fMQz0OZKDOS",
        "bjFBjPO1KOoV",
        "EfLaec0VKSCR",
        "Z7nQMoimKUKA",
        "nIQOuY3jKXHZ",
        "1n-ZRzuFDUck",
        "VOFe6xdrMkRQ",
        "qNtIUg1sR9Fv",
        "6TeOHhtnPoTZ",
        "Aj1Zuh94R0Tt",
        "94m9o-DzaDOv",
        "M9Ee-oH9btWw",
        "tB26woCTb1So",
        "WpEHgIvUb7_g",
        "USH-FoSz_1jN",
        "oPOrtjmVLBpn",
        "l2VLTRFvOaI1",
        "5I_LzmyNTrKY",
        "qhmlqKgReo1v",
        "2CF9rFUxQNrX",
        "uc4lSOvKTAqj"
      ],
      "include_colab_link": true
    },
    "kernelspec": {
      "display_name": "Python 3",
      "language": "python",
      "name": "python3"
    },
    "language_info": {
      "codemirror_mode": {
        "name": "ipython",
        "version": 3
      },
      "file_extension": ".py",
      "mimetype": "text/x-python",
      "name": "python",
      "nbconvert_exporter": "python",
      "pygments_lexer": "ipython3",
      "version": "3.8.8"
    }
  },
  "cells": [
    {
      "cell_type": "markdown",
      "metadata": {
        "id": "view-in-github",
        "colab_type": "text"
      },
      "source": [
        "<a href=\"https://colab.research.google.com/github/AJAY-22/Python_Practicals/blob/main/LabManual.ipynb\" target=\"_parent\"><img src=\"https://colab.research.google.com/assets/colab-badge.svg\" alt=\"Open In Colab\"/></a>"
      ]
    },
    {
      "cell_type": "markdown",
      "metadata": {
        "id": "e901a282"
      },
      "source": [
        "# 1] Intro to Data Types, Operations and conditional statements.\n",
        "---"
      ],
      "id": "e901a282"
    },
    {
      "cell_type": "code",
      "metadata": {
        "id": "wjSDc_A4Cmxb"
      },
      "source": [
        "from google.colab import drive\n",
        "drive.mount('/content/drive')"
      ],
      "id": "wjSDc_A4Cmxb",
      "execution_count": null,
      "outputs": []
    },
    {
      "cell_type": "markdown",
      "metadata": {
        "id": "641de9d5"
      },
      "source": [
        "## 1.1] Write aprogram to print “Hello World”."
      ],
      "id": "641de9d5"
    },
    {
      "cell_type": "code",
      "metadata": {
        "colab": {
          "base_uri": "https://localhost:8080/"
        },
        "id": "fc75f6d8",
        "outputId": "539e7b91-225c-452e-c079-8a88d4695910"
      },
      "source": [
        "print(\"Hello World\")"
      ],
      "id": "fc75f6d8",
      "execution_count": null,
      "outputs": [
        {
          "output_type": "stream",
          "text": [
            "Hello World\n"
          ],
          "name": "stdout"
        }
      ]
    },
    {
      "cell_type": "markdown",
      "metadata": {
        "id": "04b58e0f"
      },
      "source": [
        "## 1.2] Write a program to find maximum number out of 3 numbers.\n"
      ],
      "id": "04b58e0f"
    },
    {
      "cell_type": "code",
      "metadata": {
        "colab": {
          "base_uri": "https://localhost:8080/"
        },
        "id": "67ec5304",
        "outputId": "4fbbd810-0492-494a-acf6-675ad880e628"
      },
      "source": [
        "numbers=[11, 34, 5]\n",
        "\n",
        "'''For user input'''\n",
        "for x in range(len(numbers)):\n",
        "    inp = float(input(f'Enter #{x+1} '))\n",
        "    numbers[x] = inp\n",
        "\n",
        "max=numbers[0]\n",
        "\n",
        "for x in numbers:\n",
        "    if max<x:\n",
        "        max=x\n",
        "\n",
        "print(\"Max number is :\" ,max)"
      ],
      "id": "67ec5304",
      "execution_count": null,
      "outputs": [
        {
          "output_type": "stream",
          "text": [
            "Enter #1 10\n",
            "Enter #2 5\n",
            "Enter #3 86\n",
            "Max number is : 86.0\n"
          ],
          "name": "stdout"
        }
      ]
    },
    {
      "cell_type": "markdown",
      "metadata": {
        "id": "Gi4fLTOyTPSN"
      },
      "source": [
        "## 1.3] Write a program to swap the values of two variables without using temporary variable."
      ],
      "id": "Gi4fLTOyTPSN"
    },
    {
      "cell_type": "code",
      "metadata": {
        "colab": {
          "base_uri": "https://localhost:8080/"
        },
        "id": "Y5bF4wYfTOO2",
        "outputId": "d40148da-f2ad-47ae-ccfe-09b54f15e5bf"
      },
      "source": [
        "a, b = 1, 2\n",
        "print('Before swapping \\na :', a, '\\nb :', b)\n",
        "a, b = b, a\n",
        "print('\\nAfter swapping \\na :', a, '\\nb :', b)"
      ],
      "id": "Y5bF4wYfTOO2",
      "execution_count": null,
      "outputs": [
        {
          "output_type": "stream",
          "text": [
            "Before swapping \n",
            "a : 1 \n",
            "b : 2\n",
            "\n",
            "After swapping \n",
            "a : 2 \n",
            "b : 1\n"
          ],
          "name": "stdout"
        }
      ]
    },
    {
      "cell_type": "markdown",
      "metadata": {
        "id": "V2vGfao0U27G"
      },
      "source": [
        "## 1.4] Write a program to implement calculator."
      ],
      "id": "V2vGfao0U27G"
    },
    {
      "cell_type": "code",
      "metadata": {
        "id": "52XUuYd3U-1G"
      },
      "source": [
        "from IPython.display import clear_output \n",
        "\n",
        "\n",
        "\n",
        "while True:\n",
        "    print('1) Add\\n2) Subtract\\n3) Multiply\\n4) Divide\\n5) Exit')\n",
        "    choice = int(input('Enter your choice '))\n",
        "    clear_output()\n",
        "    \n",
        "    if choice in [1, 2, 3, 4]:\n",
        "        if choice is 1:\n",
        "            print('ADDITION\\n')\n",
        "            a = int(input('Enter number '))\n",
        "            b = int(input('Enter number '))\n",
        "            print(a, '+', b, '=', a+b)\n",
        "        \n",
        "        if choice is 2:\n",
        "            print('SUBTRACTION\\n')\n",
        "            a = int(input('Enter number '))\n",
        "            b = int(input('Enter number '))\n",
        "            print(a, '-', b, '=', a-b)\n",
        "\n",
        "        if choice is 3:\n",
        "            print('MULTIPLICATION\\n')\n",
        "            a = int(input('Enter number '))\n",
        "            b = int(input('Enter number '))\n",
        "            print(a, '*', b, '=', a*b)\n",
        "        \n",
        "        if choice is 4:\n",
        "            print('DIVISION\\n')\n",
        "            a = int(input('Enter number '))\n",
        "            b = int(input('Enter number '))\n",
        "            print(a, '/', b, '=', a/b)\n",
        "\n",
        "    elif choice is 5:\n",
        "        break\n",
        "    else:\n",
        "        clear_output()\n",
        "        print('Invalid Input\\n')"
      ],
      "id": "52XUuYd3U-1G",
      "execution_count": null,
      "outputs": []
    },
    {
      "cell_type": "markdown",
      "metadata": {
        "id": "0e25ad7a"
      },
      "source": [
        "## 1.5] Write a Python program to calculate the sum of the digits in an integer."
      ],
      "id": "0e25ad7a"
    },
    {
      "cell_type": "code",
      "metadata": {
        "colab": {
          "base_uri": "https://localhost:8080/"
        },
        "id": "4255e276",
        "outputId": "b3b34e4a-4266-43e6-f352-bb324357a9f9"
      },
      "source": [
        "num = int(input(\"Your number (must be 4 digit) : \"))\n",
        "x = num//1000\n",
        "x1 = (num - x*1000)//100\n",
        "x2 = (num - x*1000 - x1*100)//10\n",
        "x3 = (num - x*1000 - x1*100 - x2*10)\n",
        "\n",
        "print(f'sum of number\\'s digits : {x+x1+x2+x3}')"
      ],
      "id": "4255e276",
      "execution_count": null,
      "outputs": [
        {
          "output_type": "stream",
          "text": [
            "Your number (must be 4 digit) : 5588\n",
            "sum of number's digits : 26\n"
          ],
          "name": "stdout"
        }
      ]
    },
    {
      "cell_type": "markdown",
      "metadata": {
        "id": "mb9Hk5VEH3es"
      },
      "source": [
        "# 2] Introduction to Control Structures and Functions\n",
        "---"
      ],
      "id": "mb9Hk5VEH3es"
    },
    {
      "cell_type": "markdown",
      "metadata": {
        "id": "36yjufR5H7aJ"
      },
      "source": [
        "## 2.1] Write  a  program  to  find factorial  of  a  given  number  using  iterative  and recursive function."
      ],
      "id": "36yjufR5H7aJ"
    },
    {
      "cell_type": "markdown",
      "metadata": {
        "id": "uflJzvqHXG23"
      },
      "source": [
        "### 2.1.1] Iterative method to find factorial of given number."
      ],
      "id": "uflJzvqHXG23"
    },
    {
      "cell_type": "code",
      "metadata": {
        "colab": {
          "base_uri": "https://localhost:8080/"
        },
        "id": "PR70anV1IsLo",
        "outputId": "132e9e42-065f-4997-b331-286bbf03eb11"
      },
      "source": [
        "n=int(input(\"Enter Number : \"))\n",
        "fact=1\n",
        "\n",
        "while(n>0):\n",
        "  fact*=n\n",
        "  n-=1\n",
        "\n",
        "print(fact)"
      ],
      "id": "PR70anV1IsLo",
      "execution_count": null,
      "outputs": [
        {
          "output_type": "stream",
          "text": [
            "Enter Number : 10\n",
            "3628800\n"
          ],
          "name": "stdout"
        }
      ]
    },
    {
      "cell_type": "markdown",
      "metadata": {
        "id": "bzN_7QyVXSRn"
      },
      "source": [
        "### 2.1.2] Recursive method to find factorial of given number."
      ],
      "id": "bzN_7QyVXSRn"
    },
    {
      "cell_type": "code",
      "metadata": {
        "colab": {
          "base_uri": "https://localhost:8080/"
        },
        "id": "c6Xu2WnaXa_u",
        "outputId": "9fa5def9-9fc9-4fa9-90e2-3c76367d40f0"
      },
      "source": [
        "n=int(input('Enter number : '))\n",
        "\n",
        "def find_fac(num):\n",
        "  if num==0:\n",
        "    return 1\n",
        "  else:\n",
        "    return num*find_fac(num-1)\n",
        "\n",
        "print(find_fac(n))"
      ],
      "id": "c6Xu2WnaXa_u",
      "execution_count": null,
      "outputs": [
        {
          "output_type": "stream",
          "text": [
            "Enter number : 5\n",
            "120\n"
          ],
          "name": "stdout"
        }
      ]
    },
    {
      "cell_type": "markdown",
      "metadata": {
        "id": "PvslmRI5H7NN"
      },
      "source": [
        "## 2.2] Write a program to check whether a given number is prime or not."
      ],
      "id": "PvslmRI5H7NN"
    },
    {
      "cell_type": "code",
      "metadata": {
        "colab": {
          "base_uri": "https://localhost:8080/"
        },
        "id": "gS2xkq9EX6R_",
        "outputId": "1759b7c0-0c4f-422d-bfc7-df7ef47d11bf"
      },
      "source": [
        "n=int(input('Enter Number :'))\n",
        "\n",
        "def is_prime(num):\n",
        "  flag=0\n",
        "  for x in range(1, num+1):\n",
        "    if num%x==0:\n",
        "      flag+=1\n",
        "\n",
        "  if flag==2:\n",
        "    print(num, 'is Prime')\n",
        "  else:\n",
        "    print(num, 'is not prime')\n",
        "\n",
        "is_prime(n)\n"
      ],
      "id": "gS2xkq9EX6R_",
      "execution_count": null,
      "outputs": [
        {
          "output_type": "stream",
          "text": [
            "Enter Number :10\n",
            "10 is not prime\n"
          ],
          "name": "stdout"
        }
      ]
    },
    {
      "cell_type": "markdown",
      "metadata": {
        "id": "F9Qzw33rH7CN"
      },
      "source": [
        "## 2.3] Write a program to print Fibonacci series upto n. "
      ],
      "id": "F9Qzw33rH7CN"
    },
    {
      "cell_type": "code",
      "metadata": {
        "id": "F6LAyLh8ZBqW"
      },
      "source": [
        "n=int(inptut('Enter number :'))\n",
        "\n",
        "for x in range(n):\n",
        "  "
      ],
      "id": "F6LAyLh8ZBqW",
      "execution_count": null,
      "outputs": []
    },
    {
      "cell_type": "markdown",
      "metadata": {
        "id": "W8eMsjfLH5T5"
      },
      "source": [
        "## 2.4] Write a program which takes a sentence from user and calculates number of digits, letters, uppercase letters, lowercase letter and spaces in sentence."
      ],
      "id": "W8eMsjfLH5T5"
    },
    {
      "cell_type": "markdown",
      "metadata": {
        "id": "skVkzQOlIpXF"
      },
      "source": [
        "## 2.5] Reversing a given string."
      ],
      "id": "skVkzQOlIpXF"
    },
    {
      "cell_type": "markdown",
      "metadata": {
        "id": "EOWKS-VbSXqP"
      },
      "source": [
        "# 3] Study of List and Tuple\n",
        "---"
      ],
      "id": "EOWKS-VbSXqP"
    },
    {
      "cell_type": "markdown",
      "metadata": {
        "id": "M1uVnqs0T3I_"
      },
      "source": [
        "## 3.1] Write a program to remove duplicates from list."
      ],
      "id": "M1uVnqs0T3I_"
    },
    {
      "cell_type": "code",
      "metadata": {
        "colab": {
          "base_uri": "https://localhost:8080/"
        },
        "id": "SMY9f_M1VR0K",
        "outputId": "f412e8cf-f893-4024-da94-865271b76df9"
      },
      "source": [
        "myList = ['One', 'two', 'two', 'three', 'three', 'three', 'four']\n",
        "unique = []\n",
        "\n",
        "print('original list :', myList)\n",
        "\n",
        "for el in myList:\n",
        "    if el not in unique:\n",
        "        unique.append(el)\n",
        "\n",
        "print('without duplicates :', unique)"
      ],
      "id": "SMY9f_M1VR0K",
      "execution_count": null,
      "outputs": [
        {
          "output_type": "stream",
          "text": [
            "original list : ['One', 'two', 'two', 'three', 'three', 'three', 'four']\n",
            "without duplicates : ['One', 'two', 'three', 'four']\n"
          ],
          "name": "stdout"
        }
      ]
    },
    {
      "cell_type": "markdown",
      "metadata": {
        "id": "xJGj_yaQUF0m"
      },
      "source": [
        "## 3.2] Write a program to find frequency of elements of list."
      ],
      "id": "xJGj_yaQUF0m"
    },
    {
      "cell_type": "code",
      "metadata": {
        "colab": {
          "base_uri": "https://localhost:8080/"
        },
        "id": "Vukn4LokVSQH",
        "outputId": "6495813d-9abd-46e9-bde8-57e5d9e5a491"
      },
      "source": [
        "my_list = [7, 2, 6, 5, 8, 7, 8, 3, 2, 3]\n",
        "unique = []\n",
        "for el in my_list:\n",
        "    if el not in unique:\n",
        "        unique.append(el)\n",
        "\n",
        "for el in unique:\n",
        "    print('Frequency of ', el, 'in my_list :', my_list.count(el))"
      ],
      "id": "Vukn4LokVSQH",
      "execution_count": null,
      "outputs": [
        {
          "output_type": "stream",
          "text": [
            "Frequency of  7 in my_list : 2\n",
            "Frequency of  2 in my_list : 2\n",
            "Frequency of  6 in my_list : 1\n",
            "Frequency of  5 in my_list : 1\n",
            "Frequency of  8 in my_list : 2\n",
            "Frequency of  3 in my_list : 2\n"
          ],
          "name": "stdout"
        }
      ]
    },
    {
      "cell_type": "markdown",
      "metadata": {
        "id": "rwiZeFm-UJz9"
      },
      "source": [
        "## 3.3] Write a program to sort given list."
      ],
      "id": "rwiZeFm-UJz9"
    },
    {
      "cell_type": "code",
      "metadata": {
        "colab": {
          "base_uri": "https://localhost:8080/"
        },
        "id": "X1X4_rGfVTDv",
        "outputId": "3706eaa3-ba8a-4dcb-cfb7-1c6df27e9a4a"
      },
      "source": [
        "print('Original :', my_list)\n",
        "my_list.sort()\n",
        "print('Ascending :', my_list)\n",
        "print('Descending :', my_list[::-1])"
      ],
      "id": "X1X4_rGfVTDv",
      "execution_count": null,
      "outputs": [
        {
          "output_type": "stream",
          "text": [
            "Original : [7, 2, 6, 5, 8, 7, 8, 3, 2, 3]\n",
            "Ascending : [2, 2, 3, 3, 5, 6, 7, 7, 8, 8]\n",
            "Descending : [8, 8, 7, 7, 6, 5, 3, 3, 2, 2]\n"
          ],
          "name": "stdout"
        }
      ]
    },
    {
      "cell_type": "markdown",
      "metadata": {
        "id": "iLTcgIGLUK1W"
      },
      "source": [
        "## 3.4] Write a program to find minimum and maximumvalue in list of tuples."
      ],
      "id": "iLTcgIGLUK1W"
    },
    {
      "cell_type": "code",
      "metadata": {
        "colab": {
          "base_uri": "https://localhost:8080/"
        },
        "id": "UfQ-HKMLVTfP",
        "outputId": "d49a6802-c543-45c0-fb75-11b80f47969f"
      },
      "source": [
        "my_tuple_list = [(22, 1), (16, 3), (27, 11), (29, 9)]\n",
        "print('Original list :', my_tuple_list)\n",
        "\n",
        "zeroth = [tup[0] for tup in my_tuple_list]\n",
        "first = [tup[1] for tup in my_tuple_list]\n",
        "\n",
        "res1 = min(zeroth), max(zeroth)\n",
        "res2 = min(first), max(first)\n",
        "print('\\nmin at 0th index of tuples :', res1[0], '\\nmax at 0th index of tuples :', res1[1])\n",
        "print('\\nmin at 1st index of tuples :', res2[0], '\\nmax at 1st index of tuples :', res2[1])"
      ],
      "id": "UfQ-HKMLVTfP",
      "execution_count": null,
      "outputs": [
        {
          "output_type": "stream",
          "text": [
            "Original list : [(22, 1), (16, 3), (27, 11), (29, 9)]\n",
            "\n",
            "min at 0th index of tuples : 16 \n",
            "max at 0th index of tuples : 29\n",
            "\n",
            "min at 1st index of tuples : 1 \n",
            "max at 1st index of tuples : 11\n"
          ],
          "name": "stdout"
        }
      ]
    },
    {
      "cell_type": "markdown",
      "metadata": {
        "id": "7vxWBY1YUNle"
      },
      "source": [
        "## 3.5] Write a program to remove an element from tuple. "
      ],
      "id": "7vxWBY1YUNle"
    },
    {
      "cell_type": "code",
      "metadata": {
        "colab": {
          "base_uri": "https://localhost:8080/"
        },
        "id": "8IBRVvcaVUD2",
        "outputId": "801a73b4-d732-4bab-bedb-05cf8e446fe7"
      },
      "source": [
        "myTuple = ('one', 'two', 'three', 'four', 'four', 'five')\n",
        "print(myTuple)"
      ],
      "id": "8IBRVvcaVUD2",
      "execution_count": null,
      "outputs": [
        {
          "output_type": "stream",
          "text": [
            "('one', 'two', 'three', 'four', 'four', 'five')\n"
          ],
          "name": "stdout"
        }
      ]
    },
    {
      "cell_type": "code",
      "metadata": {
        "colab": {
          "base_uri": "https://localhost:8080/"
        },
        "id": "5hS1v6zdWgqu",
        "outputId": "ffc72f46-a687-4829-8223-0d76762c4ae6"
      },
      "source": [
        "# Removing element using slicing\n",
        "myTuple = myTuple[:3] + myTuple[4:]\n",
        "print(myTuple)"
      ],
      "id": "5hS1v6zdWgqu",
      "execution_count": null,
      "outputs": [
        {
          "output_type": "stream",
          "text": [
            "('one', 'two', 'three', 'four', 'five')\n"
          ],
          "name": "stdout"
        }
      ]
    },
    {
      "cell_type": "code",
      "metadata": {
        "colab": {
          "base_uri": "https://localhost:8080/"
        },
        "id": "8yw3wi7zXDqX",
        "outputId": "41d10ec0-24cc-4a60-a560-ab8d130d6bc3"
      },
      "source": [
        "# Removing using typecast\n",
        "myList = list(myTuple)\n",
        "myList.remove('four')\n",
        "myTuple = myList\n",
        "print(myTuple)"
      ],
      "id": "8yw3wi7zXDqX",
      "execution_count": null,
      "outputs": [
        {
          "output_type": "stream",
          "text": [
            "['one', 'two', 'three', 'five']\n"
          ],
          "name": "stdout"
        }
      ]
    },
    {
      "cell_type": "markdown",
      "metadata": {
        "id": "3fMQz0OZKDOS"
      },
      "source": [
        "# 4] Study of Dictionary\n",
        "---"
      ],
      "id": "3fMQz0OZKDOS"
    },
    {
      "cell_type": "markdown",
      "metadata": {
        "id": "bjFBjPO1KOoV"
      },
      "source": [
        "## 4.1] Write a program to map 2 lists into a dictionary."
      ],
      "id": "bjFBjPO1KOoV"
    },
    {
      "cell_type": "code",
      "metadata": {
        "colab": {
          "base_uri": "https://localhost:8080/"
        },
        "id": "8kSHroZpKQlK",
        "outputId": "7396299e-788d-4038-cdbf-fe74f1cc9eed"
      },
      "source": [
        "l1 = [1, 2, 3, 4, 5]\n",
        "l2 = ['one', 'two', 'three', 'four', 'five']\n",
        "\n",
        "d1 = dict(zip(l1, l2))\n",
        "\n",
        "print(d1)\n"
      ],
      "id": "8kSHroZpKQlK",
      "execution_count": null,
      "outputs": [
        {
          "output_type": "stream",
          "text": [
            "{1: 'one', 2: 'two', 3: 'three', 4: 'four', 5: 'five'}\n"
          ],
          "name": "stdout"
        }
      ]
    },
    {
      "cell_type": "markdown",
      "metadata": {
        "id": "EfLaec0VKSCR"
      },
      "source": [
        "## 4.2] Write  a  program  to  generate  dictionary  of  frequency  of  alphabets  of  given string."
      ],
      "id": "EfLaec0VKSCR"
    },
    {
      "cell_type": "code",
      "metadata": {
        "colab": {
          "base_uri": "https://localhost:8080/"
        },
        "id": "xGuyYXiMKTnP",
        "outputId": "ed5e5b36-9bae-4fb2-e64b-c4cb24390c31"
      },
      "source": [
        "string = str(input(\"Enter string : \"))\n",
        "keys = []\n",
        "values = []\n",
        "\n",
        "for el in string:\n",
        "    if el not in keys:\n",
        "        keys.append(el)\n",
        "        values.append(string.count(el))\n",
        "\n",
        "d1 = dict(zip(keys, values))\n",
        "print(d1)"
      ],
      "id": "xGuyYXiMKTnP",
      "execution_count": null,
      "outputs": [
        {
          "output_type": "stream",
          "text": [
            "Enter string : ajay pathak kamleshbhai\n",
            "{'a': 6, 'j': 1, 'y': 1, ' ': 2, 'p': 1, 't': 1, 'h': 3, 'k': 2, 'm': 1, 'l': 1, 'e': 1, 's': 1, 'b': 1, 'i': 1}\n"
          ],
          "name": "stdout"
        }
      ]
    },
    {
      "cell_type": "markdown",
      "metadata": {
        "id": "Z7nQMoimKUKA"
      },
      "source": [
        "## 4.3] Write a Python program to sum all the items in a dictionary."
      ],
      "id": "Z7nQMoimKUKA"
    },
    {
      "cell_type": "code",
      "metadata": {
        "colab": {
          "base_uri": "https://localhost:8080/"
        },
        "id": "88t0cgVjKWUC",
        "outputId": "aac8875a-0139-48ae-f73f-680effb28fcb"
      },
      "source": [
        "d1 = {'hundred': 100, 'sixty': -60, 'twenty': -20, 'two': 2}\n",
        "sum = int(sum(d1.values()))\n",
        "print(sum)"
      ],
      "id": "88t0cgVjKWUC",
      "execution_count": null,
      "outputs": [
        {
          "output_type": "stream",
          "text": [
            "22\n"
          ],
          "name": "stdout"
        }
      ]
    },
    {
      "cell_type": "markdown",
      "metadata": {
        "id": "nIQOuY3jKXHZ"
      },
      "source": [
        "## 4.4]Create a dictionary where keys are name of students and values are another dictionary containing semester, age and cpi of that student. \n"
      ],
      "id": "nIQOuY3jKXHZ"
    },
    {
      "cell_type": "code",
      "metadata": {
        "id": "quG9SXhbKYjb"
      },
      "source": [
        "student_info = {'Ak': {'semester': 5,\n",
        "                       'age': 19,\n",
        "                       'cpi': 8.2},\n",
        "                'Aj': {'semester': 5,\n",
        "                       'age': 20,\n",
        "                       'cpi': 9.0}}"
      ],
      "id": "quG9SXhbKYjb",
      "execution_count": null,
      "outputs": []
    },
    {
      "cell_type": "markdown",
      "metadata": {
        "id": "cgcO_wrLK0r7"
      },
      "source": [
        "### 4.4.1] Print all the names of students."
      ],
      "id": "cgcO_wrLK0r7"
    },
    {
      "cell_type": "code",
      "metadata": {
        "colab": {
          "base_uri": "https://localhost:8080/"
        },
        "id": "EkyqFm13LJhR",
        "outputId": "b5be27a5-e129-47d0-f819-41f71aec83c9"
      },
      "source": [
        "print(student_info)"
      ],
      "id": "EkyqFm13LJhR",
      "execution_count": null,
      "outputs": [
        {
          "output_type": "stream",
          "text": [
            "{'Ak': {'semester': 5, 'age': 19, 'cpi': 8.2}, 'Aj': {'semester': 5, 'age': 20, 'cpi': 9.0}}\n"
          ],
          "name": "stdout"
        }
      ]
    },
    {
      "cell_type": "markdown",
      "metadata": {
        "id": "2BLUu4GtK9eq"
      },
      "source": [
        "### 4.4.2] Print only names of students"
      ],
      "id": "2BLUu4GtK9eq"
    },
    {
      "cell_type": "code",
      "metadata": {
        "colab": {
          "base_uri": "https://localhost:8080/"
        },
        "id": "fjoDzIufLKa3",
        "outputId": "a4668e55-63a6-4d83-97ee-a81fa5f22af0"
      },
      "source": [
        "print(student_info.keys())"
      ],
      "id": "fjoDzIufLKa3",
      "execution_count": null,
      "outputs": [
        {
          "output_type": "stream",
          "text": [
            "dict_keys(['Ak', 'Aj'])\n"
          ],
          "name": "stdout"
        }
      ]
    },
    {
      "cell_type": "markdown",
      "metadata": {
        "id": "IAm9UzX3LDRL"
      },
      "source": [
        "### 4.4.3] Print the name of student having highest CPI "
      ],
      "id": "IAm9UzX3LDRL"
    },
    {
      "cell_type": "code",
      "metadata": {
        "colab": {
          "base_uri": "https://localhost:8080/"
        },
        "id": "rj_jbI2mLLG0",
        "outputId": "b61df34a-2cfd-43c5-b1b2-b043c017cf14"
      },
      "source": [
        "names = [x for x in student_info]\n",
        "\n",
        "cpis = [student_info.get(name).get('cpi') for name in names]\n",
        "highest = max(cpis)\n",
        "\n",
        "pos = cpis.index(highest)\n",
        "print('Student havning highest cpi :', names[pos])\n"
      ],
      "id": "rj_jbI2mLLG0",
      "execution_count": null,
      "outputs": [
        {
          "output_type": "stream",
          "text": [
            "Student havning highest cpi : Aj\n"
          ],
          "name": "stdout"
        }
      ]
    },
    {
      "cell_type": "markdown",
      "metadata": {
        "id": "1n-ZRzuFDUck"
      },
      "source": [
        "## 4.5] Nested Dictionary Practice\n"
      ],
      "id": "1n-ZRzuFDUck"
    },
    {
      "cell_type": "markdown",
      "metadata": {
        "id": "YlXngM1qDuwc"
      },
      "source": [
        "### 4.5.1] Creating a Nested Dictionary"
      ],
      "id": "YlXngM1qDuwc"
    },
    {
      "cell_type": "code",
      "metadata": {
        "colab": {
          "base_uri": "https://localhost:8080/"
        },
        "id": "qawJPvYRDfMR",
        "outputId": "249e9588-0c0e-4e67-c6b3-34a0a94bce87"
      },
      "source": [
        "faculty = {1: {'name': 'Akj', 'contact': 1234567890, 'city': 'city1'},\n",
        "           2: {'name': 'sk', 'contact': 9987654321, 'city': 'city1'},\n",
        "           3: {'name': 'ap', 'contact': 1234509876, 'city': 'city2'}}\n",
        "\n",
        "print(faculty)"
      ],
      "id": "qawJPvYRDfMR",
      "execution_count": null,
      "outputs": [
        {
          "output_type": "stream",
          "text": [
            "{1: {'name': 'Akj', 'contact': 1234567890, 'city': 'city1'}, 2: {'name': 'sk', 'contact': 9987654321, 'city': 'city1'}, 3: {'name': 'ap', 'contact': 1234509876, 'city': 'city2'}}\n"
          ],
          "name": "stdout"
        }
      ]
    },
    {
      "cell_type": "markdown",
      "metadata": {
        "id": "ezeKCoMUF2RX"
      },
      "source": [
        "### 4.5.2] Accessing elements"
      ],
      "id": "ezeKCoMUF2RX"
    },
    {
      "cell_type": "code",
      "metadata": {
        "colab": {
          "base_uri": "https://localhost:8080/"
        },
        "id": "2gciLyKOElKm",
        "outputId": "72d5fce0-e480-4eb0-b886-9221260d2050"
      },
      "source": [
        "print(faculty[1]['name'])\n",
        "print(faculty[2]['contact'])\n",
        "print(faculty[3]['city'])\n",
        "\n",
        "for x in faculty.keys():\n",
        "  print(faculty[x])"
      ],
      "id": "2gciLyKOElKm",
      "execution_count": null,
      "outputs": [
        {
          "output_type": "stream",
          "text": [
            "Akj\n",
            "9987654321\n",
            "city2\n",
            "{'name': 'Akj', 'contact': 1234567890, 'city': 'city1'}\n",
            "{'name': 'sk', 'contact': 9987654321, 'city': 'city1'}\n",
            "{'name': 'ap', 'contact': 1234509876, 'city': 'city2'}\n"
          ],
          "name": "stdout"
        }
      ]
    },
    {
      "cell_type": "markdown",
      "metadata": {
        "id": "Q8QAtzaZHCxe"
      },
      "source": [
        "### 4.5.3] Adding element "
      ],
      "id": "Q8QAtzaZHCxe"
    },
    {
      "cell_type": "code",
      "metadata": {
        "colab": {
          "base_uri": "https://localhost:8080/"
        },
        "id": "i5cBqINmGA1K",
        "outputId": "588afec7-f559-4348-d194-0c11a1010c23"
      },
      "source": [
        "faculty[4] = {}\n",
        "faculty[4]['name'] = 'SP'\n",
        "# faculty[4]['contact'] = 5432109876\n",
        "faculty[4]['city'] = 'city2'\n",
        "\n",
        "faculty[5] = {'name': 'LK', 'contact': 5647382910, 'city': 'city2', 'married': 'yes'}\n",
        "\n",
        "for x in faculty.keys():\n",
        "  print(faculty[x])"
      ],
      "id": "i5cBqINmGA1K",
      "execution_count": null,
      "outputs": [
        {
          "output_type": "stream",
          "text": [
            "{'name': 'Akj', 'contact': 1234567890, 'city': 'city1'}\n",
            "{'name': 'sk', 'contact': 9987654321, 'city': 'city1'}\n",
            "{'name': 'ap', 'contact': 1234509876, 'city': 'city2'}\n",
            "{'name': 'SP', 'city': 'city2'}\n",
            "{'name': 'LK', 'contact': 5647382910, 'city': 'city2', 'married': 'yes'}\n"
          ],
          "name": "stdout"
        }
      ]
    },
    {
      "cell_type": "markdown",
      "metadata": {
        "id": "6Jf5NmZPLD4H"
      },
      "source": [
        "### 4.5.4] Deleting elemets"
      ],
      "id": "6Jf5NmZPLD4H"
    },
    {
      "cell_type": "code",
      "metadata": {
        "colab": {
          "base_uri": "https://localhost:8080/"
        },
        "id": "Dx5ut8lOHVul",
        "outputId": "6323309e-4d51-49a9-a44b-72d6e5c80b8c"
      },
      "source": [
        "del faculty[5]['married']\n",
        "del faculty[3], faculty[4]\n",
        "\n",
        "for key in faculty.keys():\n",
        "  print(faculty[key])\n"
      ],
      "id": "Dx5ut8lOHVul",
      "execution_count": null,
      "outputs": [
        {
          "output_type": "stream",
          "text": [
            "{'name': 'Akj', 'contact': 1234567890, 'city': 'city1'}\n",
            "{'name': 'sk', 'contact': 9987654321, 'city': 'city1'}\n",
            "{'name': 'LK', 'contact': 5647382910, 'city': 'city2'}\n"
          ],
          "name": "stdout"
        }
      ]
    },
    {
      "cell_type": "markdown",
      "metadata": {
        "id": "3cV3wJsdMJvx"
      },
      "source": [
        "### 4.5.5] Iterating through Nested Dictionary"
      ],
      "id": "3cV3wJsdMJvx"
    },
    {
      "cell_type": "code",
      "metadata": {
        "colab": {
          "base_uri": "https://localhost:8080/"
        },
        "id": "cjoXhAsqL4-s",
        "outputId": "6a0b6b09-8ec7-4fea-a53d-542bf9785880"
      },
      "source": [
        "for id, value in faculty.items():\n",
        "  print('Faculty ID =', id)\n",
        "\n",
        "  for key in value:\n",
        "    print(key, '=', value[key])\n",
        "  print('\\n')"
      ],
      "id": "cjoXhAsqL4-s",
      "execution_count": null,
      "outputs": [
        {
          "output_type": "stream",
          "text": [
            "Faculty ID = 1\n",
            "name = Akj\n",
            "contact = 1234567890\n",
            "city = city1\n",
            "\n",
            "\n",
            "Faculty ID = 2\n",
            "name = sk\n",
            "contact = 9987654321\n",
            "city = city1\n",
            "\n",
            "\n",
            "Faculty ID = 5\n",
            "name = LK\n",
            "contact = 5647382910\n",
            "city = city2\n",
            "\n",
            "\n"
          ],
          "name": "stdout"
        }
      ]
    },
    {
      "cell_type": "markdown",
      "metadata": {
        "id": "VOFe6xdrMkRQ"
      },
      "source": [
        "# 5] Write a python program to explore various types of files (csv, excel etc.) using pandas.\n",
        "---"
      ],
      "id": "VOFe6xdrMkRQ"
    },
    {
      "cell_type": "markdown",
      "metadata": {
        "id": "qNtIUg1sR9Fv"
      },
      "source": [
        "## Importing Pandas and defining data."
      ],
      "id": "qNtIUg1sR9Fv"
    },
    {
      "cell_type": "markdown",
      "metadata": {
        "id": "ZYtxLYmdOj6P"
      },
      "source": [
        "First of all ,\n",
        "\n",
        "To use pandas library, we need to install pandas and import it.\n",
        "\n",
        "Conventionally we use alias 'pd' for pandas library "
      ],
      "id": "ZYtxLYmdOj6P"
    },
    {
      "cell_type": "code",
      "metadata": {
        "id": "GXLqo4NWNeic"
      },
      "source": [
        "import pandas as pd"
      ],
      "id": "GXLqo4NWNeic",
      "execution_count": null,
      "outputs": []
    },
    {
      "cell_type": "markdown",
      "metadata": {
        "id": "698bohGfPKtg"
      },
      "source": [
        "Next cell defines data \n",
        "\n",
        "we are using data of different countries ( such as population, GDP, Continent etc.) "
      ],
      "id": "698bohGfPKtg"
    },
    {
      "cell_type": "code",
      "metadata": {
        "id": "BMKEbbV-Ns6U"
      },
      "source": [
        "contries_data = {\n",
        "    'CHN': {'COUNTRY': 'China', 'POP': 1_398.72, 'AREA': 9_596.96,\n",
        "            'GDP': 12_234.78, 'CONT': 'Asia'},\n",
        "    'IND': {'COUNTRY': 'India', 'POP': 1_351.16, 'AREA': 3_287.26,\n",
        "            'GDP': 2_575.67, 'CONT': 'Asia', 'IND_DAY': '1947-08-15'},\n",
        "    'USA': {'COUNTRY': 'US', 'POP': 329.74, 'AREA': 9_833.52,\n",
        "            'GDP': 19_485.39, 'CONT': 'N.America',\n",
        "            'IND_DAY': '1776-07-04'},\n",
        "    'IDN': {'COUNTRY': 'Indonesia', 'POP': 268.07, 'AREA': 1_910.93,\n",
        "            'GDP': 1_015.54, 'CONT': 'Asia', 'IND_DAY': '1945-08-17'},\n",
        "    'BRA': {'COUNTRY': 'Brazil', 'POP': 210.32, 'AREA': 8_515.77,\n",
        "            'GDP': 2_055.51, 'CONT': 'S.America', 'IND_DAY': '1822-09-07'},\n",
        "    'PAK': {'COUNTRY': 'Pakistan', 'POP': 205.71, 'AREA': 881.91,\n",
        "            'GDP': 302.14, 'CONT': 'Asia', 'IND_DAY': '1947-08-14'},\n",
        "    'NGA': {'COUNTRY': 'Nigeria', 'POP': 200.96, 'AREA': 923.77,\n",
        "            'GDP': 375.77, 'CONT': 'Africa', 'IND_DAY': '1960-10-01'},\n",
        "    'BGD': {'COUNTRY': 'Bangladesh', 'POP': 167.09, 'AREA': 147.57,\n",
        "            'GDP': 245.63, 'CONT': 'Asia', 'IND_DAY': '1971-03-26'},\n",
        "    'RUS': {'COUNTRY': 'Russia', 'POP': 146.79, 'AREA': 17_098.25,\n",
        "            'GDP': 1_530.75, 'IND_DAY': '1992-06-12'},\n",
        "    'MEX': {'COUNTRY': 'Mexico', 'POP': 126.58, 'AREA': 1_964.38,\n",
        "            'GDP': 1_158.23, 'CONT': 'N.America', 'IND_DAY': '1810-09-16'},\n",
        "    'JPN': {'COUNTRY': 'Japan', 'POP': 126.22, 'AREA': 377.97,\n",
        "            'GDP': 4_872.42, 'CONT': 'Asia'},\n",
        "    'DEU': {'COUNTRY': 'Germany', 'POP': 83.02, 'AREA': 357.11,\n",
        "            'GDP': 3_693.20, 'CONT': 'Europe'},\n",
        "    'FRA': {'COUNTRY': 'France', 'POP': 67.02, 'AREA': 640.68,\n",
        "            'GDP': 2_582.49, 'CONT': 'Europe', 'IND_DAY': '1789-07-14'},\n",
        "    'GBR': {'COUNTRY': 'UK', 'POP': 66.44, 'AREA': 242.50,\n",
        "            'GDP': 2_631.23, 'CONT': 'Europe'},\n",
        "    'ITA': {'COUNTRY': 'Italy', 'POP': 60.36, 'AREA': 301.34,\n",
        "            'GDP': 1_943.84, 'CONT': 'Europe'},\n",
        "    'ARG': {'COUNTRY': 'Argentina', 'POP': 44.94, 'AREA': 2_780.40,\n",
        "            'GDP': 637.49, 'CONT': 'S.America', 'IND_DAY': '1816-07-09'},\n",
        "    'DZA': {'COUNTRY': 'Algeria', 'POP': 43.38, 'AREA': 2_381.74,\n",
        "            'GDP': 167.56, 'CONT': 'Africa', 'IND_DAY': '1962-07-05'},\n",
        "    'CAN': {'COUNTRY': 'Canada', 'POP': 37.59, 'AREA': 9_984.67,\n",
        "            'GDP': 1_647.12, 'CONT': 'N.America', 'IND_DAY': '1867-07-01'},\n",
        "    'AUS': {'COUNTRY': 'Australia', 'POP': 25.47, 'AREA': 7_692.02,\n",
        "            'GDP': 1_408.68, 'CONT': 'Oceania'},\n",
        "    'KAZ': {'COUNTRY': 'Kazakhstan', 'POP': 18.53, 'AREA': 2_724.90,\n",
        "            'GDP': 159.41, 'CONT': 'Asia', 'IND_DAY': '1991-12-16'}\n",
        "}\n",
        "\n",
        "columns = ('COUNTRY', 'POP', 'AREA', 'GDP', 'CONT', 'IND_DAY')"
      ],
      "id": "BMKEbbV-Ns6U",
      "execution_count": null,
      "outputs": []
    },
    {
      "cell_type": "markdown",
      "metadata": {
        "id": "6TeOHhtnPoTZ"
      },
      "source": [
        "## Using pandas DataFrame "
      ],
      "id": "6TeOHhtnPoTZ"
    },
    {
      "cell_type": "markdown",
      "metadata": {
        "id": "-myi1ucJPxBR"
      },
      "source": [
        "DataFrame is pandas way of storing and visiualizing data\n",
        "\n",
        "to convert our dictionary ( or any DataStructure ) in pandas DataFrame object , we use ```pd.DataFrame(data_variable_name)```.\n",
        "\n",
        "It returns our data in DataFrame format , so we need to store it in some variable."
      ],
      "id": "-myi1ucJPxBR"
    },
    {
      "cell_type": "code",
      "metadata": {
        "colab": {
          "base_uri": "https://localhost:8080/"
        },
        "id": "ja_y3PsCN2jz",
        "outputId": "0d8dcfc7-27f7-4c90-f0d4-c11838c33b14"
      },
      "source": [
        "# We stored our data in 'contries_data' variable\n",
        "# Let's store the returned DataFrame Object in df (DataFrame)\n",
        "df = pd.DataFrame(contries_data)\n",
        "\n",
        "# we can use print function\n",
        "print(df)"
      ],
      "id": "ja_y3PsCN2jz",
      "execution_count": null,
      "outputs": [
        {
          "output_type": "stream",
          "text": [
            "             CHN         IND         USA  ...         CAN        AUS         KAZ\n",
            "COUNTRY    China       India          US  ...      Canada  Australia  Kazakhstan\n",
            "POP      1398.72     1351.16      329.74  ...       37.59      25.47       18.53\n",
            "AREA     9596.96     3287.26     9833.52  ...     9984.67    7692.02      2724.9\n",
            "GDP      12234.8     2575.67     19485.4  ...     1647.12    1408.68      159.41\n",
            "CONT        Asia        Asia   N.America  ...   N.America    Oceania        Asia\n",
            "IND_DAY      NaN  1947-08-15  1776-07-04  ...  1867-07-01        NaN  1991-12-16\n",
            "\n",
            "[6 rows x 20 columns]\n"
          ],
          "name": "stdout"
        }
      ]
    },
    {
      "cell_type": "code",
      "metadata": {
        "colab": {
          "base_uri": "https://localhost:8080/",
          "height": 270
        },
        "id": "hOws3-DqOEbS",
        "outputId": "f2ae3bed-bbf9-4e14-93ac-23f2d18cb09a"
      },
      "source": [
        "# We are not getting whole data , also representation is not good \n",
        "# Let's use something better\n",
        "# We can directly call our dataframe object and it will print the data \n",
        "df"
      ],
      "id": "hOws3-DqOEbS",
      "execution_count": null,
      "outputs": [
        {
          "output_type": "execute_result",
          "data": {
            "text/html": [
              "<div>\n",
              "<style scoped>\n",
              "    .dataframe tbody tr th:only-of-type {\n",
              "        vertical-align: middle;\n",
              "    }\n",
              "\n",
              "    .dataframe tbody tr th {\n",
              "        vertical-align: top;\n",
              "    }\n",
              "\n",
              "    .dataframe thead th {\n",
              "        text-align: right;\n",
              "    }\n",
              "</style>\n",
              "<table border=\"1\" class=\"dataframe\">\n",
              "  <thead>\n",
              "    <tr style=\"text-align: right;\">\n",
              "      <th></th>\n",
              "      <th>CHN</th>\n",
              "      <th>IND</th>\n",
              "      <th>USA</th>\n",
              "      <th>IDN</th>\n",
              "      <th>BRA</th>\n",
              "      <th>PAK</th>\n",
              "      <th>NGA</th>\n",
              "      <th>BGD</th>\n",
              "      <th>RUS</th>\n",
              "      <th>MEX</th>\n",
              "      <th>JPN</th>\n",
              "      <th>DEU</th>\n",
              "      <th>FRA</th>\n",
              "      <th>GBR</th>\n",
              "      <th>ITA</th>\n",
              "      <th>ARG</th>\n",
              "      <th>DZA</th>\n",
              "      <th>CAN</th>\n",
              "      <th>AUS</th>\n",
              "      <th>KAZ</th>\n",
              "    </tr>\n",
              "  </thead>\n",
              "  <tbody>\n",
              "    <tr>\n",
              "      <th>COUNTRY</th>\n",
              "      <td>China</td>\n",
              "      <td>India</td>\n",
              "      <td>US</td>\n",
              "      <td>Indonesia</td>\n",
              "      <td>Brazil</td>\n",
              "      <td>Pakistan</td>\n",
              "      <td>Nigeria</td>\n",
              "      <td>Bangladesh</td>\n",
              "      <td>Russia</td>\n",
              "      <td>Mexico</td>\n",
              "      <td>Japan</td>\n",
              "      <td>Germany</td>\n",
              "      <td>France</td>\n",
              "      <td>UK</td>\n",
              "      <td>Italy</td>\n",
              "      <td>Argentina</td>\n",
              "      <td>Algeria</td>\n",
              "      <td>Canada</td>\n",
              "      <td>Australia</td>\n",
              "      <td>Kazakhstan</td>\n",
              "    </tr>\n",
              "    <tr>\n",
              "      <th>POP</th>\n",
              "      <td>1398.72</td>\n",
              "      <td>1351.16</td>\n",
              "      <td>329.74</td>\n",
              "      <td>268.07</td>\n",
              "      <td>210.32</td>\n",
              "      <td>205.71</td>\n",
              "      <td>200.96</td>\n",
              "      <td>167.09</td>\n",
              "      <td>146.79</td>\n",
              "      <td>126.58</td>\n",
              "      <td>126.22</td>\n",
              "      <td>83.02</td>\n",
              "      <td>67.02</td>\n",
              "      <td>66.44</td>\n",
              "      <td>60.36</td>\n",
              "      <td>44.94</td>\n",
              "      <td>43.38</td>\n",
              "      <td>37.59</td>\n",
              "      <td>25.47</td>\n",
              "      <td>18.53</td>\n",
              "    </tr>\n",
              "    <tr>\n",
              "      <th>AREA</th>\n",
              "      <td>9596.96</td>\n",
              "      <td>3287.26</td>\n",
              "      <td>9833.52</td>\n",
              "      <td>1910.93</td>\n",
              "      <td>8515.77</td>\n",
              "      <td>881.91</td>\n",
              "      <td>923.77</td>\n",
              "      <td>147.57</td>\n",
              "      <td>17098.2</td>\n",
              "      <td>1964.38</td>\n",
              "      <td>377.97</td>\n",
              "      <td>357.11</td>\n",
              "      <td>640.68</td>\n",
              "      <td>242.5</td>\n",
              "      <td>301.34</td>\n",
              "      <td>2780.4</td>\n",
              "      <td>2381.74</td>\n",
              "      <td>9984.67</td>\n",
              "      <td>7692.02</td>\n",
              "      <td>2724.9</td>\n",
              "    </tr>\n",
              "    <tr>\n",
              "      <th>GDP</th>\n",
              "      <td>12234.8</td>\n",
              "      <td>2575.67</td>\n",
              "      <td>19485.4</td>\n",
              "      <td>1015.54</td>\n",
              "      <td>2055.51</td>\n",
              "      <td>302.14</td>\n",
              "      <td>375.77</td>\n",
              "      <td>245.63</td>\n",
              "      <td>1530.75</td>\n",
              "      <td>1158.23</td>\n",
              "      <td>4872.42</td>\n",
              "      <td>3693.2</td>\n",
              "      <td>2582.49</td>\n",
              "      <td>2631.23</td>\n",
              "      <td>1943.84</td>\n",
              "      <td>637.49</td>\n",
              "      <td>167.56</td>\n",
              "      <td>1647.12</td>\n",
              "      <td>1408.68</td>\n",
              "      <td>159.41</td>\n",
              "    </tr>\n",
              "    <tr>\n",
              "      <th>CONT</th>\n",
              "      <td>Asia</td>\n",
              "      <td>Asia</td>\n",
              "      <td>N.America</td>\n",
              "      <td>Asia</td>\n",
              "      <td>S.America</td>\n",
              "      <td>Asia</td>\n",
              "      <td>Africa</td>\n",
              "      <td>Asia</td>\n",
              "      <td>NaN</td>\n",
              "      <td>N.America</td>\n",
              "      <td>Asia</td>\n",
              "      <td>Europe</td>\n",
              "      <td>Europe</td>\n",
              "      <td>Europe</td>\n",
              "      <td>Europe</td>\n",
              "      <td>S.America</td>\n",
              "      <td>Africa</td>\n",
              "      <td>N.America</td>\n",
              "      <td>Oceania</td>\n",
              "      <td>Asia</td>\n",
              "    </tr>\n",
              "    <tr>\n",
              "      <th>IND_DAY</th>\n",
              "      <td>NaN</td>\n",
              "      <td>1947-08-15</td>\n",
              "      <td>1776-07-04</td>\n",
              "      <td>1945-08-17</td>\n",
              "      <td>1822-09-07</td>\n",
              "      <td>1947-08-14</td>\n",
              "      <td>1960-10-01</td>\n",
              "      <td>1971-03-26</td>\n",
              "      <td>1992-06-12</td>\n",
              "      <td>1810-09-16</td>\n",
              "      <td>NaN</td>\n",
              "      <td>NaN</td>\n",
              "      <td>1789-07-14</td>\n",
              "      <td>NaN</td>\n",
              "      <td>NaN</td>\n",
              "      <td>1816-07-09</td>\n",
              "      <td>1962-07-05</td>\n",
              "      <td>1867-07-01</td>\n",
              "      <td>NaN</td>\n",
              "      <td>1991-12-16</td>\n",
              "    </tr>\n",
              "  </tbody>\n",
              "</table>\n",
              "</div>"
            ],
            "text/plain": [
              "             CHN         IND         USA  ...         CAN        AUS         KAZ\n",
              "COUNTRY    China       India          US  ...      Canada  Australia  Kazakhstan\n",
              "POP      1398.72     1351.16      329.74  ...       37.59      25.47       18.53\n",
              "AREA     9596.96     3287.26     9833.52  ...     9984.67    7692.02      2724.9\n",
              "GDP      12234.8     2575.67     19485.4  ...     1647.12    1408.68      159.41\n",
              "CONT        Asia        Asia   N.America  ...   N.America    Oceania        Asia\n",
              "IND_DAY      NaN  1947-08-15  1776-07-04  ...  1867-07-01        NaN  1991-12-16\n",
              "\n",
              "[6 rows x 20 columns]"
            ]
          },
          "metadata": {
            "tags": []
          },
          "execution_count": 15
        }
      ]
    },
    {
      "cell_type": "code",
      "metadata": {
        "colab": {
          "base_uri": "https://localhost:8080/",
          "height": 665
        },
        "id": "sx5CC6QcOG_r",
        "outputId": "96f923e5-eea3-4d06-e95b-175e056a3160"
      },
      "source": [
        "# Much better but , Let's also transpose it. To make it more intuitive. \n",
        "df = pd.DataFrame(contries_data, index=columns).T # Notice, using .T results in transposing the data\n",
        "df"
      ],
      "id": "sx5CC6QcOG_r",
      "execution_count": null,
      "outputs": [
        {
          "output_type": "execute_result",
          "data": {
            "text/html": [
              "<div>\n",
              "<style scoped>\n",
              "    .dataframe tbody tr th:only-of-type {\n",
              "        vertical-align: middle;\n",
              "    }\n",
              "\n",
              "    .dataframe tbody tr th {\n",
              "        vertical-align: top;\n",
              "    }\n",
              "\n",
              "    .dataframe thead th {\n",
              "        text-align: right;\n",
              "    }\n",
              "</style>\n",
              "<table border=\"1\" class=\"dataframe\">\n",
              "  <thead>\n",
              "    <tr style=\"text-align: right;\">\n",
              "      <th></th>\n",
              "      <th>COUNTRY</th>\n",
              "      <th>POP</th>\n",
              "      <th>AREA</th>\n",
              "      <th>GDP</th>\n",
              "      <th>CONT</th>\n",
              "      <th>IND_DAY</th>\n",
              "    </tr>\n",
              "  </thead>\n",
              "  <tbody>\n",
              "    <tr>\n",
              "      <th>CHN</th>\n",
              "      <td>China</td>\n",
              "      <td>1398.72</td>\n",
              "      <td>9596.96</td>\n",
              "      <td>12234.8</td>\n",
              "      <td>Asia</td>\n",
              "      <td>NaN</td>\n",
              "    </tr>\n",
              "    <tr>\n",
              "      <th>IND</th>\n",
              "      <td>India</td>\n",
              "      <td>1351.16</td>\n",
              "      <td>3287.26</td>\n",
              "      <td>2575.67</td>\n",
              "      <td>Asia</td>\n",
              "      <td>1947-08-15</td>\n",
              "    </tr>\n",
              "    <tr>\n",
              "      <th>USA</th>\n",
              "      <td>US</td>\n",
              "      <td>329.74</td>\n",
              "      <td>9833.52</td>\n",
              "      <td>19485.4</td>\n",
              "      <td>N.America</td>\n",
              "      <td>1776-07-04</td>\n",
              "    </tr>\n",
              "    <tr>\n",
              "      <th>IDN</th>\n",
              "      <td>Indonesia</td>\n",
              "      <td>268.07</td>\n",
              "      <td>1910.93</td>\n",
              "      <td>1015.54</td>\n",
              "      <td>Asia</td>\n",
              "      <td>1945-08-17</td>\n",
              "    </tr>\n",
              "    <tr>\n",
              "      <th>BRA</th>\n",
              "      <td>Brazil</td>\n",
              "      <td>210.32</td>\n",
              "      <td>8515.77</td>\n",
              "      <td>2055.51</td>\n",
              "      <td>S.America</td>\n",
              "      <td>1822-09-07</td>\n",
              "    </tr>\n",
              "    <tr>\n",
              "      <th>PAK</th>\n",
              "      <td>Pakistan</td>\n",
              "      <td>205.71</td>\n",
              "      <td>881.91</td>\n",
              "      <td>302.14</td>\n",
              "      <td>Asia</td>\n",
              "      <td>1947-08-14</td>\n",
              "    </tr>\n",
              "    <tr>\n",
              "      <th>NGA</th>\n",
              "      <td>Nigeria</td>\n",
              "      <td>200.96</td>\n",
              "      <td>923.77</td>\n",
              "      <td>375.77</td>\n",
              "      <td>Africa</td>\n",
              "      <td>1960-10-01</td>\n",
              "    </tr>\n",
              "    <tr>\n",
              "      <th>BGD</th>\n",
              "      <td>Bangladesh</td>\n",
              "      <td>167.09</td>\n",
              "      <td>147.57</td>\n",
              "      <td>245.63</td>\n",
              "      <td>Asia</td>\n",
              "      <td>1971-03-26</td>\n",
              "    </tr>\n",
              "    <tr>\n",
              "      <th>RUS</th>\n",
              "      <td>Russia</td>\n",
              "      <td>146.79</td>\n",
              "      <td>17098.2</td>\n",
              "      <td>1530.75</td>\n",
              "      <td>NaN</td>\n",
              "      <td>1992-06-12</td>\n",
              "    </tr>\n",
              "    <tr>\n",
              "      <th>MEX</th>\n",
              "      <td>Mexico</td>\n",
              "      <td>126.58</td>\n",
              "      <td>1964.38</td>\n",
              "      <td>1158.23</td>\n",
              "      <td>N.America</td>\n",
              "      <td>1810-09-16</td>\n",
              "    </tr>\n",
              "    <tr>\n",
              "      <th>JPN</th>\n",
              "      <td>Japan</td>\n",
              "      <td>126.22</td>\n",
              "      <td>377.97</td>\n",
              "      <td>4872.42</td>\n",
              "      <td>Asia</td>\n",
              "      <td>NaN</td>\n",
              "    </tr>\n",
              "    <tr>\n",
              "      <th>DEU</th>\n",
              "      <td>Germany</td>\n",
              "      <td>83.02</td>\n",
              "      <td>357.11</td>\n",
              "      <td>3693.2</td>\n",
              "      <td>Europe</td>\n",
              "      <td>NaN</td>\n",
              "    </tr>\n",
              "    <tr>\n",
              "      <th>FRA</th>\n",
              "      <td>France</td>\n",
              "      <td>67.02</td>\n",
              "      <td>640.68</td>\n",
              "      <td>2582.49</td>\n",
              "      <td>Europe</td>\n",
              "      <td>1789-07-14</td>\n",
              "    </tr>\n",
              "    <tr>\n",
              "      <th>GBR</th>\n",
              "      <td>UK</td>\n",
              "      <td>66.44</td>\n",
              "      <td>242.5</td>\n",
              "      <td>2631.23</td>\n",
              "      <td>Europe</td>\n",
              "      <td>NaN</td>\n",
              "    </tr>\n",
              "    <tr>\n",
              "      <th>ITA</th>\n",
              "      <td>Italy</td>\n",
              "      <td>60.36</td>\n",
              "      <td>301.34</td>\n",
              "      <td>1943.84</td>\n",
              "      <td>Europe</td>\n",
              "      <td>NaN</td>\n",
              "    </tr>\n",
              "    <tr>\n",
              "      <th>ARG</th>\n",
              "      <td>Argentina</td>\n",
              "      <td>44.94</td>\n",
              "      <td>2780.4</td>\n",
              "      <td>637.49</td>\n",
              "      <td>S.America</td>\n",
              "      <td>1816-07-09</td>\n",
              "    </tr>\n",
              "    <tr>\n",
              "      <th>DZA</th>\n",
              "      <td>Algeria</td>\n",
              "      <td>43.38</td>\n",
              "      <td>2381.74</td>\n",
              "      <td>167.56</td>\n",
              "      <td>Africa</td>\n",
              "      <td>1962-07-05</td>\n",
              "    </tr>\n",
              "    <tr>\n",
              "      <th>CAN</th>\n",
              "      <td>Canada</td>\n",
              "      <td>37.59</td>\n",
              "      <td>9984.67</td>\n",
              "      <td>1647.12</td>\n",
              "      <td>N.America</td>\n",
              "      <td>1867-07-01</td>\n",
              "    </tr>\n",
              "    <tr>\n",
              "      <th>AUS</th>\n",
              "      <td>Australia</td>\n",
              "      <td>25.47</td>\n",
              "      <td>7692.02</td>\n",
              "      <td>1408.68</td>\n",
              "      <td>Oceania</td>\n",
              "      <td>NaN</td>\n",
              "    </tr>\n",
              "    <tr>\n",
              "      <th>KAZ</th>\n",
              "      <td>Kazakhstan</td>\n",
              "      <td>18.53</td>\n",
              "      <td>2724.9</td>\n",
              "      <td>159.41</td>\n",
              "      <td>Asia</td>\n",
              "      <td>1991-12-16</td>\n",
              "    </tr>\n",
              "  </tbody>\n",
              "</table>\n",
              "</div>"
            ],
            "text/plain": [
              "        COUNTRY      POP     AREA      GDP       CONT     IND_DAY\n",
              "CHN       China  1398.72  9596.96  12234.8       Asia         NaN\n",
              "IND       India  1351.16  3287.26  2575.67       Asia  1947-08-15\n",
              "USA          US   329.74  9833.52  19485.4  N.America  1776-07-04\n",
              "IDN   Indonesia   268.07  1910.93  1015.54       Asia  1945-08-17\n",
              "BRA      Brazil   210.32  8515.77  2055.51  S.America  1822-09-07\n",
              "PAK    Pakistan   205.71   881.91   302.14       Asia  1947-08-14\n",
              "NGA     Nigeria   200.96   923.77   375.77     Africa  1960-10-01\n",
              "BGD  Bangladesh   167.09   147.57   245.63       Asia  1971-03-26\n",
              "RUS      Russia   146.79  17098.2  1530.75        NaN  1992-06-12\n",
              "MEX      Mexico   126.58  1964.38  1158.23  N.America  1810-09-16\n",
              "JPN       Japan   126.22   377.97  4872.42       Asia         NaN\n",
              "DEU     Germany    83.02   357.11   3693.2     Europe         NaN\n",
              "FRA      France    67.02   640.68  2582.49     Europe  1789-07-14\n",
              "GBR          UK    66.44    242.5  2631.23     Europe         NaN\n",
              "ITA       Italy    60.36   301.34  1943.84     Europe         NaN\n",
              "ARG   Argentina    44.94   2780.4   637.49  S.America  1816-07-09\n",
              "DZA     Algeria    43.38  2381.74   167.56     Africa  1962-07-05\n",
              "CAN      Canada    37.59  9984.67  1647.12  N.America  1867-07-01\n",
              "AUS   Australia    25.47  7692.02  1408.68    Oceania         NaN\n",
              "KAZ  Kazakhstan    18.53   2724.9   159.41       Asia  1991-12-16"
            ]
          },
          "metadata": {
            "tags": []
          },
          "execution_count": 16
        }
      ]
    },
    {
      "cell_type": "markdown",
      "metadata": {
        "id": "Aj1Zuh94R0Tt"
      },
      "source": [
        "## Using Pandas to convert data in various format types."
      ],
      "id": "Aj1Zuh94R0Tt"
    },
    {
      "cell_type": "markdown",
      "metadata": {
        "id": "wrzW7_DuSFim"
      },
      "source": [
        "### CSV Format type"
      ],
      "id": "wrzW7_DuSFim"
    },
    {
      "cell_type": "markdown",
      "metadata": {
        "id": "Cc72aS7VSL9D"
      },
      "source": [
        "Use ```to_csv('file_name.csv')``` to convert DataFrame in CSV format"
      ],
      "id": "Cc72aS7VSL9D"
    },
    {
      "cell_type": "code",
      "metadata": {
        "id": "zOwsJ7FlOJLj"
      },
      "source": [
        "# Let's convert our contries_data into csv format\n",
        "# our contries data is stored in df variable \n",
        "df.to_csv('contries_data.csv')  # NOTE : we give the filename whatever we like but its extension must be .csv\n",
        "\n",
        "# if you check your colab folder , \n",
        "# you can see contries_data.csv file."
      ],
      "id": "zOwsJ7FlOJLj",
      "execution_count": null,
      "outputs": []
    },
    {
      "cell_type": "markdown",
      "metadata": {
        "id": "StL2KJ8HSz0v"
      },
      "source": [
        "Use ```pd.read_csv(filename)``` to read csv file.\n",
        "\n",
        "This function returns DataFrame object , so we need to store it in some variable."
      ],
      "id": "StL2KJ8HSz0v"
    },
    {
      "cell_type": "code",
      "metadata": {
        "colab": {
          "base_uri": "https://localhost:8080/",
          "height": 665
        },
        "id": "H43Yw5gbOLe7",
        "outputId": "b2d113fe-33f7-4fe8-fc3b-dc89758d7fcc"
      },
      "source": [
        "df = pd.read_csv('contries_data.csv') # NOTE : Only file with extension .csv can be read. \n",
        "# Now that it returns DataFrame object , we can print it like below\n",
        "df"
      ],
      "id": "H43Yw5gbOLe7",
      "execution_count": null,
      "outputs": [
        {
          "output_type": "execute_result",
          "data": {
            "text/html": [
              "<div>\n",
              "<style scoped>\n",
              "    .dataframe tbody tr th:only-of-type {\n",
              "        vertical-align: middle;\n",
              "    }\n",
              "\n",
              "    .dataframe tbody tr th {\n",
              "        vertical-align: top;\n",
              "    }\n",
              "\n",
              "    .dataframe thead th {\n",
              "        text-align: right;\n",
              "    }\n",
              "</style>\n",
              "<table border=\"1\" class=\"dataframe\">\n",
              "  <thead>\n",
              "    <tr style=\"text-align: right;\">\n",
              "      <th></th>\n",
              "      <th>Unnamed: 0</th>\n",
              "      <th>COUNTRY</th>\n",
              "      <th>POP</th>\n",
              "      <th>AREA</th>\n",
              "      <th>GDP</th>\n",
              "      <th>CONT</th>\n",
              "      <th>IND_DAY</th>\n",
              "    </tr>\n",
              "  </thead>\n",
              "  <tbody>\n",
              "    <tr>\n",
              "      <th>0</th>\n",
              "      <td>CHN</td>\n",
              "      <td>China</td>\n",
              "      <td>1398.72</td>\n",
              "      <td>9596.96</td>\n",
              "      <td>12234.78</td>\n",
              "      <td>Asia</td>\n",
              "      <td>NaN</td>\n",
              "    </tr>\n",
              "    <tr>\n",
              "      <th>1</th>\n",
              "      <td>IND</td>\n",
              "      <td>India</td>\n",
              "      <td>1351.16</td>\n",
              "      <td>3287.26</td>\n",
              "      <td>2575.67</td>\n",
              "      <td>Asia</td>\n",
              "      <td>1947-08-15</td>\n",
              "    </tr>\n",
              "    <tr>\n",
              "      <th>2</th>\n",
              "      <td>USA</td>\n",
              "      <td>US</td>\n",
              "      <td>329.74</td>\n",
              "      <td>9833.52</td>\n",
              "      <td>19485.39</td>\n",
              "      <td>N.America</td>\n",
              "      <td>1776-07-04</td>\n",
              "    </tr>\n",
              "    <tr>\n",
              "      <th>3</th>\n",
              "      <td>IDN</td>\n",
              "      <td>Indonesia</td>\n",
              "      <td>268.07</td>\n",
              "      <td>1910.93</td>\n",
              "      <td>1015.54</td>\n",
              "      <td>Asia</td>\n",
              "      <td>1945-08-17</td>\n",
              "    </tr>\n",
              "    <tr>\n",
              "      <th>4</th>\n",
              "      <td>BRA</td>\n",
              "      <td>Brazil</td>\n",
              "      <td>210.32</td>\n",
              "      <td>8515.77</td>\n",
              "      <td>2055.51</td>\n",
              "      <td>S.America</td>\n",
              "      <td>1822-09-07</td>\n",
              "    </tr>\n",
              "    <tr>\n",
              "      <th>5</th>\n",
              "      <td>PAK</td>\n",
              "      <td>Pakistan</td>\n",
              "      <td>205.71</td>\n",
              "      <td>881.91</td>\n",
              "      <td>302.14</td>\n",
              "      <td>Asia</td>\n",
              "      <td>1947-08-14</td>\n",
              "    </tr>\n",
              "    <tr>\n",
              "      <th>6</th>\n",
              "      <td>NGA</td>\n",
              "      <td>Nigeria</td>\n",
              "      <td>200.96</td>\n",
              "      <td>923.77</td>\n",
              "      <td>375.77</td>\n",
              "      <td>Africa</td>\n",
              "      <td>1960-10-01</td>\n",
              "    </tr>\n",
              "    <tr>\n",
              "      <th>7</th>\n",
              "      <td>BGD</td>\n",
              "      <td>Bangladesh</td>\n",
              "      <td>167.09</td>\n",
              "      <td>147.57</td>\n",
              "      <td>245.63</td>\n",
              "      <td>Asia</td>\n",
              "      <td>1971-03-26</td>\n",
              "    </tr>\n",
              "    <tr>\n",
              "      <th>8</th>\n",
              "      <td>RUS</td>\n",
              "      <td>Russia</td>\n",
              "      <td>146.79</td>\n",
              "      <td>17098.25</td>\n",
              "      <td>1530.75</td>\n",
              "      <td>NaN</td>\n",
              "      <td>1992-06-12</td>\n",
              "    </tr>\n",
              "    <tr>\n",
              "      <th>9</th>\n",
              "      <td>MEX</td>\n",
              "      <td>Mexico</td>\n",
              "      <td>126.58</td>\n",
              "      <td>1964.38</td>\n",
              "      <td>1158.23</td>\n",
              "      <td>N.America</td>\n",
              "      <td>1810-09-16</td>\n",
              "    </tr>\n",
              "    <tr>\n",
              "      <th>10</th>\n",
              "      <td>JPN</td>\n",
              "      <td>Japan</td>\n",
              "      <td>126.22</td>\n",
              "      <td>377.97</td>\n",
              "      <td>4872.42</td>\n",
              "      <td>Asia</td>\n",
              "      <td>NaN</td>\n",
              "    </tr>\n",
              "    <tr>\n",
              "      <th>11</th>\n",
              "      <td>DEU</td>\n",
              "      <td>Germany</td>\n",
              "      <td>83.02</td>\n",
              "      <td>357.11</td>\n",
              "      <td>3693.20</td>\n",
              "      <td>Europe</td>\n",
              "      <td>NaN</td>\n",
              "    </tr>\n",
              "    <tr>\n",
              "      <th>12</th>\n",
              "      <td>FRA</td>\n",
              "      <td>France</td>\n",
              "      <td>67.02</td>\n",
              "      <td>640.68</td>\n",
              "      <td>2582.49</td>\n",
              "      <td>Europe</td>\n",
              "      <td>1789-07-14</td>\n",
              "    </tr>\n",
              "    <tr>\n",
              "      <th>13</th>\n",
              "      <td>GBR</td>\n",
              "      <td>UK</td>\n",
              "      <td>66.44</td>\n",
              "      <td>242.50</td>\n",
              "      <td>2631.23</td>\n",
              "      <td>Europe</td>\n",
              "      <td>NaN</td>\n",
              "    </tr>\n",
              "    <tr>\n",
              "      <th>14</th>\n",
              "      <td>ITA</td>\n",
              "      <td>Italy</td>\n",
              "      <td>60.36</td>\n",
              "      <td>301.34</td>\n",
              "      <td>1943.84</td>\n",
              "      <td>Europe</td>\n",
              "      <td>NaN</td>\n",
              "    </tr>\n",
              "    <tr>\n",
              "      <th>15</th>\n",
              "      <td>ARG</td>\n",
              "      <td>Argentina</td>\n",
              "      <td>44.94</td>\n",
              "      <td>2780.40</td>\n",
              "      <td>637.49</td>\n",
              "      <td>S.America</td>\n",
              "      <td>1816-07-09</td>\n",
              "    </tr>\n",
              "    <tr>\n",
              "      <th>16</th>\n",
              "      <td>DZA</td>\n",
              "      <td>Algeria</td>\n",
              "      <td>43.38</td>\n",
              "      <td>2381.74</td>\n",
              "      <td>167.56</td>\n",
              "      <td>Africa</td>\n",
              "      <td>1962-07-05</td>\n",
              "    </tr>\n",
              "    <tr>\n",
              "      <th>17</th>\n",
              "      <td>CAN</td>\n",
              "      <td>Canada</td>\n",
              "      <td>37.59</td>\n",
              "      <td>9984.67</td>\n",
              "      <td>1647.12</td>\n",
              "      <td>N.America</td>\n",
              "      <td>1867-07-01</td>\n",
              "    </tr>\n",
              "    <tr>\n",
              "      <th>18</th>\n",
              "      <td>AUS</td>\n",
              "      <td>Australia</td>\n",
              "      <td>25.47</td>\n",
              "      <td>7692.02</td>\n",
              "      <td>1408.68</td>\n",
              "      <td>Oceania</td>\n",
              "      <td>NaN</td>\n",
              "    </tr>\n",
              "    <tr>\n",
              "      <th>19</th>\n",
              "      <td>KAZ</td>\n",
              "      <td>Kazakhstan</td>\n",
              "      <td>18.53</td>\n",
              "      <td>2724.90</td>\n",
              "      <td>159.41</td>\n",
              "      <td>Asia</td>\n",
              "      <td>1991-12-16</td>\n",
              "    </tr>\n",
              "  </tbody>\n",
              "</table>\n",
              "</div>"
            ],
            "text/plain": [
              "   Unnamed: 0     COUNTRY      POP      AREA       GDP       CONT     IND_DAY\n",
              "0         CHN       China  1398.72   9596.96  12234.78       Asia         NaN\n",
              "1         IND       India  1351.16   3287.26   2575.67       Asia  1947-08-15\n",
              "2         USA          US   329.74   9833.52  19485.39  N.America  1776-07-04\n",
              "3         IDN   Indonesia   268.07   1910.93   1015.54       Asia  1945-08-17\n",
              "4         BRA      Brazil   210.32   8515.77   2055.51  S.America  1822-09-07\n",
              "5         PAK    Pakistan   205.71    881.91    302.14       Asia  1947-08-14\n",
              "6         NGA     Nigeria   200.96    923.77    375.77     Africa  1960-10-01\n",
              "7         BGD  Bangladesh   167.09    147.57    245.63       Asia  1971-03-26\n",
              "8         RUS      Russia   146.79  17098.25   1530.75        NaN  1992-06-12\n",
              "9         MEX      Mexico   126.58   1964.38   1158.23  N.America  1810-09-16\n",
              "10        JPN       Japan   126.22    377.97   4872.42       Asia         NaN\n",
              "11        DEU     Germany    83.02    357.11   3693.20     Europe         NaN\n",
              "12        FRA      France    67.02    640.68   2582.49     Europe  1789-07-14\n",
              "13        GBR          UK    66.44    242.50   2631.23     Europe         NaN\n",
              "14        ITA       Italy    60.36    301.34   1943.84     Europe         NaN\n",
              "15        ARG   Argentina    44.94   2780.40    637.49  S.America  1816-07-09\n",
              "16        DZA     Algeria    43.38   2381.74    167.56     Africa  1962-07-05\n",
              "17        CAN      Canada    37.59   9984.67   1647.12  N.America  1867-07-01\n",
              "18        AUS   Australia    25.47   7692.02   1408.68    Oceania         NaN\n",
              "19        KAZ  Kazakhstan    18.53   2724.90    159.41       Asia  1991-12-16"
            ]
          },
          "metadata": {
            "tags": []
          },
          "execution_count": 22
        }
      ]
    },
    {
      "cell_type": "code",
      "metadata": {
        "colab": {
          "base_uri": "https://localhost:8080/",
          "height": 665
        },
        "id": "9ZBg2YwsON8p",
        "outputId": "ebd252c8-5e27-4b96-a646-de3aa8a7d78a"
      },
      "source": [
        "# Let's make column that represents country's abbreviated names as a index column\n",
        "# in read_csv fumction we can give index which represents index\n",
        "# in our case first column represents index , so it's 0th column in DataFrame\n",
        "df = pd.read_csv('contries_data.csv', index_col=0) \n",
        "df"
      ],
      "id": "9ZBg2YwsON8p",
      "execution_count": null,
      "outputs": [
        {
          "output_type": "execute_result",
          "data": {
            "text/html": [
              "<div>\n",
              "<style scoped>\n",
              "    .dataframe tbody tr th:only-of-type {\n",
              "        vertical-align: middle;\n",
              "    }\n",
              "\n",
              "    .dataframe tbody tr th {\n",
              "        vertical-align: top;\n",
              "    }\n",
              "\n",
              "    .dataframe thead th {\n",
              "        text-align: right;\n",
              "    }\n",
              "</style>\n",
              "<table border=\"1\" class=\"dataframe\">\n",
              "  <thead>\n",
              "    <tr style=\"text-align: right;\">\n",
              "      <th></th>\n",
              "      <th>COUNTRY</th>\n",
              "      <th>POP</th>\n",
              "      <th>AREA</th>\n",
              "      <th>GDP</th>\n",
              "      <th>CONT</th>\n",
              "      <th>IND_DAY</th>\n",
              "    </tr>\n",
              "  </thead>\n",
              "  <tbody>\n",
              "    <tr>\n",
              "      <th>CHN</th>\n",
              "      <td>China</td>\n",
              "      <td>1398.72</td>\n",
              "      <td>9596.96</td>\n",
              "      <td>12234.78</td>\n",
              "      <td>Asia</td>\n",
              "      <td>NaN</td>\n",
              "    </tr>\n",
              "    <tr>\n",
              "      <th>IND</th>\n",
              "      <td>India</td>\n",
              "      <td>1351.16</td>\n",
              "      <td>3287.26</td>\n",
              "      <td>2575.67</td>\n",
              "      <td>Asia</td>\n",
              "      <td>1947-08-15</td>\n",
              "    </tr>\n",
              "    <tr>\n",
              "      <th>USA</th>\n",
              "      <td>US</td>\n",
              "      <td>329.74</td>\n",
              "      <td>9833.52</td>\n",
              "      <td>19485.39</td>\n",
              "      <td>N.America</td>\n",
              "      <td>1776-07-04</td>\n",
              "    </tr>\n",
              "    <tr>\n",
              "      <th>IDN</th>\n",
              "      <td>Indonesia</td>\n",
              "      <td>268.07</td>\n",
              "      <td>1910.93</td>\n",
              "      <td>1015.54</td>\n",
              "      <td>Asia</td>\n",
              "      <td>1945-08-17</td>\n",
              "    </tr>\n",
              "    <tr>\n",
              "      <th>BRA</th>\n",
              "      <td>Brazil</td>\n",
              "      <td>210.32</td>\n",
              "      <td>8515.77</td>\n",
              "      <td>2055.51</td>\n",
              "      <td>S.America</td>\n",
              "      <td>1822-09-07</td>\n",
              "    </tr>\n",
              "    <tr>\n",
              "      <th>PAK</th>\n",
              "      <td>Pakistan</td>\n",
              "      <td>205.71</td>\n",
              "      <td>881.91</td>\n",
              "      <td>302.14</td>\n",
              "      <td>Asia</td>\n",
              "      <td>1947-08-14</td>\n",
              "    </tr>\n",
              "    <tr>\n",
              "      <th>NGA</th>\n",
              "      <td>Nigeria</td>\n",
              "      <td>200.96</td>\n",
              "      <td>923.77</td>\n",
              "      <td>375.77</td>\n",
              "      <td>Africa</td>\n",
              "      <td>1960-10-01</td>\n",
              "    </tr>\n",
              "    <tr>\n",
              "      <th>BGD</th>\n",
              "      <td>Bangladesh</td>\n",
              "      <td>167.09</td>\n",
              "      <td>147.57</td>\n",
              "      <td>245.63</td>\n",
              "      <td>Asia</td>\n",
              "      <td>1971-03-26</td>\n",
              "    </tr>\n",
              "    <tr>\n",
              "      <th>RUS</th>\n",
              "      <td>Russia</td>\n",
              "      <td>146.79</td>\n",
              "      <td>17098.25</td>\n",
              "      <td>1530.75</td>\n",
              "      <td>NaN</td>\n",
              "      <td>1992-06-12</td>\n",
              "    </tr>\n",
              "    <tr>\n",
              "      <th>MEX</th>\n",
              "      <td>Mexico</td>\n",
              "      <td>126.58</td>\n",
              "      <td>1964.38</td>\n",
              "      <td>1158.23</td>\n",
              "      <td>N.America</td>\n",
              "      <td>1810-09-16</td>\n",
              "    </tr>\n",
              "    <tr>\n",
              "      <th>JPN</th>\n",
              "      <td>Japan</td>\n",
              "      <td>126.22</td>\n",
              "      <td>377.97</td>\n",
              "      <td>4872.42</td>\n",
              "      <td>Asia</td>\n",
              "      <td>NaN</td>\n",
              "    </tr>\n",
              "    <tr>\n",
              "      <th>DEU</th>\n",
              "      <td>Germany</td>\n",
              "      <td>83.02</td>\n",
              "      <td>357.11</td>\n",
              "      <td>3693.20</td>\n",
              "      <td>Europe</td>\n",
              "      <td>NaN</td>\n",
              "    </tr>\n",
              "    <tr>\n",
              "      <th>FRA</th>\n",
              "      <td>France</td>\n",
              "      <td>67.02</td>\n",
              "      <td>640.68</td>\n",
              "      <td>2582.49</td>\n",
              "      <td>Europe</td>\n",
              "      <td>1789-07-14</td>\n",
              "    </tr>\n",
              "    <tr>\n",
              "      <th>GBR</th>\n",
              "      <td>UK</td>\n",
              "      <td>66.44</td>\n",
              "      <td>242.50</td>\n",
              "      <td>2631.23</td>\n",
              "      <td>Europe</td>\n",
              "      <td>NaN</td>\n",
              "    </tr>\n",
              "    <tr>\n",
              "      <th>ITA</th>\n",
              "      <td>Italy</td>\n",
              "      <td>60.36</td>\n",
              "      <td>301.34</td>\n",
              "      <td>1943.84</td>\n",
              "      <td>Europe</td>\n",
              "      <td>NaN</td>\n",
              "    </tr>\n",
              "    <tr>\n",
              "      <th>ARG</th>\n",
              "      <td>Argentina</td>\n",
              "      <td>44.94</td>\n",
              "      <td>2780.40</td>\n",
              "      <td>637.49</td>\n",
              "      <td>S.America</td>\n",
              "      <td>1816-07-09</td>\n",
              "    </tr>\n",
              "    <tr>\n",
              "      <th>DZA</th>\n",
              "      <td>Algeria</td>\n",
              "      <td>43.38</td>\n",
              "      <td>2381.74</td>\n",
              "      <td>167.56</td>\n",
              "      <td>Africa</td>\n",
              "      <td>1962-07-05</td>\n",
              "    </tr>\n",
              "    <tr>\n",
              "      <th>CAN</th>\n",
              "      <td>Canada</td>\n",
              "      <td>37.59</td>\n",
              "      <td>9984.67</td>\n",
              "      <td>1647.12</td>\n",
              "      <td>N.America</td>\n",
              "      <td>1867-07-01</td>\n",
              "    </tr>\n",
              "    <tr>\n",
              "      <th>AUS</th>\n",
              "      <td>Australia</td>\n",
              "      <td>25.47</td>\n",
              "      <td>7692.02</td>\n",
              "      <td>1408.68</td>\n",
              "      <td>Oceania</td>\n",
              "      <td>NaN</td>\n",
              "    </tr>\n",
              "    <tr>\n",
              "      <th>KAZ</th>\n",
              "      <td>Kazakhstan</td>\n",
              "      <td>18.53</td>\n",
              "      <td>2724.90</td>\n",
              "      <td>159.41</td>\n",
              "      <td>Asia</td>\n",
              "      <td>1991-12-16</td>\n",
              "    </tr>\n",
              "  </tbody>\n",
              "</table>\n",
              "</div>"
            ],
            "text/plain": [
              "        COUNTRY      POP      AREA       GDP       CONT     IND_DAY\n",
              "CHN       China  1398.72   9596.96  12234.78       Asia         NaN\n",
              "IND       India  1351.16   3287.26   2575.67       Asia  1947-08-15\n",
              "USA          US   329.74   9833.52  19485.39  N.America  1776-07-04\n",
              "IDN   Indonesia   268.07   1910.93   1015.54       Asia  1945-08-17\n",
              "BRA      Brazil   210.32   8515.77   2055.51  S.America  1822-09-07\n",
              "PAK    Pakistan   205.71    881.91    302.14       Asia  1947-08-14\n",
              "NGA     Nigeria   200.96    923.77    375.77     Africa  1960-10-01\n",
              "BGD  Bangladesh   167.09    147.57    245.63       Asia  1971-03-26\n",
              "RUS      Russia   146.79  17098.25   1530.75        NaN  1992-06-12\n",
              "MEX      Mexico   126.58   1964.38   1158.23  N.America  1810-09-16\n",
              "JPN       Japan   126.22    377.97   4872.42       Asia         NaN\n",
              "DEU     Germany    83.02    357.11   3693.20     Europe         NaN\n",
              "FRA      France    67.02    640.68   2582.49     Europe  1789-07-14\n",
              "GBR          UK    66.44    242.50   2631.23     Europe         NaN\n",
              "ITA       Italy    60.36    301.34   1943.84     Europe         NaN\n",
              "ARG   Argentina    44.94   2780.40    637.49  S.America  1816-07-09\n",
              "DZA     Algeria    43.38   2381.74    167.56     Africa  1962-07-05\n",
              "CAN      Canada    37.59   9984.67   1647.12  N.America  1867-07-01\n",
              "AUS   Australia    25.47   7692.02   1408.68    Oceania         NaN\n",
              "KAZ  Kazakhstan    18.53   2724.90    159.41       Asia  1991-12-16"
            ]
          },
          "metadata": {
            "tags": []
          },
          "execution_count": 26
        }
      ]
    },
    {
      "cell_type": "markdown",
      "metadata": {
        "id": "qgFrbm5OWIGK"
      },
      "source": [
        "### Excel format type"
      ],
      "id": "qgFrbm5OWIGK"
    },
    {
      "cell_type": "markdown",
      "metadata": {
        "id": "jRyvbuCuWbOq"
      },
      "source": [
        "To convert to and read from Excel files we need to install some packages. \n",
        "- xlwt\n",
        "- openpyxl\n",
        "- xlswriter\n",
        "- xlrd\n",
        "\n",
        "NOTE : Below cell gives command to install these in one line only\n",
        "\n",
        "We can always install only one package and not others if not required"
      ],
      "id": "jRyvbuCuWbOq"
    },
    {
      "cell_type": "code",
      "metadata": {
        "colab": {
          "base_uri": "https://localhost:8080/"
        },
        "id": "y6YQsYIgOQG_",
        "outputId": "fc358408-d587-4656-a7fe-84d00b6c27e3"
      },
      "source": [
        "pip install xlwt openpyxl xlsxwriter xlrd"
      ],
      "id": "y6YQsYIgOQG_",
      "execution_count": null,
      "outputs": [
        {
          "output_type": "stream",
          "text": [
            "Requirement already satisfied: xlwt in /usr/local/lib/python3.7/dist-packages (1.3.0)\n",
            "Requirement already satisfied: openpyxl in /usr/local/lib/python3.7/dist-packages (2.5.9)\n",
            "Requirement already satisfied: xlsxwriter in /usr/local/lib/python3.7/dist-packages (1.4.4)\n",
            "Requirement already satisfied: xlrd in /usr/local/lib/python3.7/dist-packages (1.1.0)\n",
            "Requirement already satisfied: jdcal in /usr/local/lib/python3.7/dist-packages (from openpyxl) (1.4.1)\n",
            "Requirement already satisfied: et-xmlfile in /usr/local/lib/python3.7/dist-packages (from openpyxl) (1.1.0)\n"
          ],
          "name": "stdout"
        }
      ]
    },
    {
      "cell_type": "code",
      "metadata": {
        "id": "aWy7RdLJOS8i"
      },
      "source": [
        "df.to_excel('contries_data.xlsx')\n",
        "\n",
        "# We can find this file in our colab folder"
      ],
      "id": "aWy7RdLJOS8i",
      "execution_count": null,
      "outputs": []
    },
    {
      "cell_type": "code",
      "metadata": {
        "colab": {
          "base_uri": "https://localhost:8080/",
          "height": 665
        },
        "id": "1U0zo8QYOWMB",
        "outputId": "9d263c5b-cebe-4eb8-a979-20df99e518f2"
      },
      "source": [
        "df = pd.read_excel('contries_data.xlsx', index_col=0)\n",
        "df"
      ],
      "id": "1U0zo8QYOWMB",
      "execution_count": null,
      "outputs": [
        {
          "output_type": "execute_result",
          "data": {
            "text/html": [
              "<div>\n",
              "<style scoped>\n",
              "    .dataframe tbody tr th:only-of-type {\n",
              "        vertical-align: middle;\n",
              "    }\n",
              "\n",
              "    .dataframe tbody tr th {\n",
              "        vertical-align: top;\n",
              "    }\n",
              "\n",
              "    .dataframe thead th {\n",
              "        text-align: right;\n",
              "    }\n",
              "</style>\n",
              "<table border=\"1\" class=\"dataframe\">\n",
              "  <thead>\n",
              "    <tr style=\"text-align: right;\">\n",
              "      <th></th>\n",
              "      <th>COUNTRY</th>\n",
              "      <th>POP</th>\n",
              "      <th>AREA</th>\n",
              "      <th>GDP</th>\n",
              "      <th>CONT</th>\n",
              "      <th>IND_DAY</th>\n",
              "    </tr>\n",
              "  </thead>\n",
              "  <tbody>\n",
              "    <tr>\n",
              "      <th>CHN</th>\n",
              "      <td>China</td>\n",
              "      <td>1398.72</td>\n",
              "      <td>9596.96</td>\n",
              "      <td>12234.78</td>\n",
              "      <td>Asia</td>\n",
              "      <td>NaN</td>\n",
              "    </tr>\n",
              "    <tr>\n",
              "      <th>IND</th>\n",
              "      <td>India</td>\n",
              "      <td>1351.16</td>\n",
              "      <td>3287.26</td>\n",
              "      <td>2575.67</td>\n",
              "      <td>Asia</td>\n",
              "      <td>1947-08-15</td>\n",
              "    </tr>\n",
              "    <tr>\n",
              "      <th>USA</th>\n",
              "      <td>US</td>\n",
              "      <td>329.74</td>\n",
              "      <td>9833.52</td>\n",
              "      <td>19485.39</td>\n",
              "      <td>N.America</td>\n",
              "      <td>1776-07-04</td>\n",
              "    </tr>\n",
              "    <tr>\n",
              "      <th>IDN</th>\n",
              "      <td>Indonesia</td>\n",
              "      <td>268.07</td>\n",
              "      <td>1910.93</td>\n",
              "      <td>1015.54</td>\n",
              "      <td>Asia</td>\n",
              "      <td>1945-08-17</td>\n",
              "    </tr>\n",
              "    <tr>\n",
              "      <th>BRA</th>\n",
              "      <td>Brazil</td>\n",
              "      <td>210.32</td>\n",
              "      <td>8515.77</td>\n",
              "      <td>2055.51</td>\n",
              "      <td>S.America</td>\n",
              "      <td>1822-09-07</td>\n",
              "    </tr>\n",
              "    <tr>\n",
              "      <th>PAK</th>\n",
              "      <td>Pakistan</td>\n",
              "      <td>205.71</td>\n",
              "      <td>881.91</td>\n",
              "      <td>302.14</td>\n",
              "      <td>Asia</td>\n",
              "      <td>1947-08-14</td>\n",
              "    </tr>\n",
              "    <tr>\n",
              "      <th>NGA</th>\n",
              "      <td>Nigeria</td>\n",
              "      <td>200.96</td>\n",
              "      <td>923.77</td>\n",
              "      <td>375.77</td>\n",
              "      <td>Africa</td>\n",
              "      <td>1960-10-01</td>\n",
              "    </tr>\n",
              "    <tr>\n",
              "      <th>BGD</th>\n",
              "      <td>Bangladesh</td>\n",
              "      <td>167.09</td>\n",
              "      <td>147.57</td>\n",
              "      <td>245.63</td>\n",
              "      <td>Asia</td>\n",
              "      <td>1971-03-26</td>\n",
              "    </tr>\n",
              "    <tr>\n",
              "      <th>RUS</th>\n",
              "      <td>Russia</td>\n",
              "      <td>146.79</td>\n",
              "      <td>17098.25</td>\n",
              "      <td>1530.75</td>\n",
              "      <td>NaN</td>\n",
              "      <td>1992-06-12</td>\n",
              "    </tr>\n",
              "    <tr>\n",
              "      <th>MEX</th>\n",
              "      <td>Mexico</td>\n",
              "      <td>126.58</td>\n",
              "      <td>1964.38</td>\n",
              "      <td>1158.23</td>\n",
              "      <td>N.America</td>\n",
              "      <td>1810-09-16</td>\n",
              "    </tr>\n",
              "    <tr>\n",
              "      <th>JPN</th>\n",
              "      <td>Japan</td>\n",
              "      <td>126.22</td>\n",
              "      <td>377.97</td>\n",
              "      <td>4872.42</td>\n",
              "      <td>Asia</td>\n",
              "      <td>NaN</td>\n",
              "    </tr>\n",
              "    <tr>\n",
              "      <th>DEU</th>\n",
              "      <td>Germany</td>\n",
              "      <td>83.02</td>\n",
              "      <td>357.11</td>\n",
              "      <td>3693.20</td>\n",
              "      <td>Europe</td>\n",
              "      <td>NaN</td>\n",
              "    </tr>\n",
              "    <tr>\n",
              "      <th>FRA</th>\n",
              "      <td>France</td>\n",
              "      <td>67.02</td>\n",
              "      <td>640.68</td>\n",
              "      <td>2582.49</td>\n",
              "      <td>Europe</td>\n",
              "      <td>1789-07-14</td>\n",
              "    </tr>\n",
              "    <tr>\n",
              "      <th>GBR</th>\n",
              "      <td>UK</td>\n",
              "      <td>66.44</td>\n",
              "      <td>242.50</td>\n",
              "      <td>2631.23</td>\n",
              "      <td>Europe</td>\n",
              "      <td>NaN</td>\n",
              "    </tr>\n",
              "    <tr>\n",
              "      <th>ITA</th>\n",
              "      <td>Italy</td>\n",
              "      <td>60.36</td>\n",
              "      <td>301.34</td>\n",
              "      <td>1943.84</td>\n",
              "      <td>Europe</td>\n",
              "      <td>NaN</td>\n",
              "    </tr>\n",
              "    <tr>\n",
              "      <th>ARG</th>\n",
              "      <td>Argentina</td>\n",
              "      <td>44.94</td>\n",
              "      <td>2780.40</td>\n",
              "      <td>637.49</td>\n",
              "      <td>S.America</td>\n",
              "      <td>1816-07-09</td>\n",
              "    </tr>\n",
              "    <tr>\n",
              "      <th>DZA</th>\n",
              "      <td>Algeria</td>\n",
              "      <td>43.38</td>\n",
              "      <td>2381.74</td>\n",
              "      <td>167.56</td>\n",
              "      <td>Africa</td>\n",
              "      <td>1962-07-05</td>\n",
              "    </tr>\n",
              "    <tr>\n",
              "      <th>CAN</th>\n",
              "      <td>Canada</td>\n",
              "      <td>37.59</td>\n",
              "      <td>9984.67</td>\n",
              "      <td>1647.12</td>\n",
              "      <td>N.America</td>\n",
              "      <td>1867-07-01</td>\n",
              "    </tr>\n",
              "    <tr>\n",
              "      <th>AUS</th>\n",
              "      <td>Australia</td>\n",
              "      <td>25.47</td>\n",
              "      <td>7692.02</td>\n",
              "      <td>1408.68</td>\n",
              "      <td>Oceania</td>\n",
              "      <td>NaN</td>\n",
              "    </tr>\n",
              "    <tr>\n",
              "      <th>KAZ</th>\n",
              "      <td>Kazakhstan</td>\n",
              "      <td>18.53</td>\n",
              "      <td>2724.90</td>\n",
              "      <td>159.41</td>\n",
              "      <td>Asia</td>\n",
              "      <td>1991-12-16</td>\n",
              "    </tr>\n",
              "  </tbody>\n",
              "</table>\n",
              "</div>"
            ],
            "text/plain": [
              "        COUNTRY      POP      AREA       GDP       CONT     IND_DAY\n",
              "CHN       China  1398.72   9596.96  12234.78       Asia         NaN\n",
              "IND       India  1351.16   3287.26   2575.67       Asia  1947-08-15\n",
              "USA          US   329.74   9833.52  19485.39  N.America  1776-07-04\n",
              "IDN   Indonesia   268.07   1910.93   1015.54       Asia  1945-08-17\n",
              "BRA      Brazil   210.32   8515.77   2055.51  S.America  1822-09-07\n",
              "PAK    Pakistan   205.71    881.91    302.14       Asia  1947-08-14\n",
              "NGA     Nigeria   200.96    923.77    375.77     Africa  1960-10-01\n",
              "BGD  Bangladesh   167.09    147.57    245.63       Asia  1971-03-26\n",
              "RUS      Russia   146.79  17098.25   1530.75        NaN  1992-06-12\n",
              "MEX      Mexico   126.58   1964.38   1158.23  N.America  1810-09-16\n",
              "JPN       Japan   126.22    377.97   4872.42       Asia         NaN\n",
              "DEU     Germany    83.02    357.11   3693.20     Europe         NaN\n",
              "FRA      France    67.02    640.68   2582.49     Europe  1789-07-14\n",
              "GBR          UK    66.44    242.50   2631.23     Europe         NaN\n",
              "ITA       Italy    60.36    301.34   1943.84     Europe         NaN\n",
              "ARG   Argentina    44.94   2780.40    637.49  S.America  1816-07-09\n",
              "DZA     Algeria    43.38   2381.74    167.56     Africa  1962-07-05\n",
              "CAN      Canada    37.59   9984.67   1647.12  N.America  1867-07-01\n",
              "AUS   Australia    25.47   7692.02   1408.68    Oceania         NaN\n",
              "KAZ  Kazakhstan    18.53   2724.90    159.41       Asia  1991-12-16"
            ]
          },
          "metadata": {
            "tags": []
          },
          "execution_count": 11
        }
      ]
    },
    {
      "cell_type": "markdown",
      "metadata": {
        "id": "I_yxsU-SXX9i"
      },
      "source": [
        "### JSON format type"
      ],
      "id": "I_yxsU-SXX9i"
    },
    {
      "cell_type": "code",
      "metadata": {
        "colab": {
          "base_uri": "https://localhost:8080/",
          "height": 665
        },
        "id": "9h4jg6DwOYBI",
        "outputId": "2c698ecb-2d8e-4a8f-e834-5dece43c5018"
      },
      "source": [
        "df_json = df.to_json('contries_data.json')\n",
        "\n",
        "# New jason file will be added in your directory\n",
        "pd.read_json('contries_data.json')"
      ],
      "id": "9h4jg6DwOYBI",
      "execution_count": null,
      "outputs": [
        {
          "output_type": "execute_result",
          "data": {
            "text/html": [
              "<div>\n",
              "<style scoped>\n",
              "    .dataframe tbody tr th:only-of-type {\n",
              "        vertical-align: middle;\n",
              "    }\n",
              "\n",
              "    .dataframe tbody tr th {\n",
              "        vertical-align: top;\n",
              "    }\n",
              "\n",
              "    .dataframe thead th {\n",
              "        text-align: right;\n",
              "    }\n",
              "</style>\n",
              "<table border=\"1\" class=\"dataframe\">\n",
              "  <thead>\n",
              "    <tr style=\"text-align: right;\">\n",
              "      <th></th>\n",
              "      <th>COUNTRY</th>\n",
              "      <th>POP</th>\n",
              "      <th>AREA</th>\n",
              "      <th>GDP</th>\n",
              "      <th>CONT</th>\n",
              "      <th>IND_DAY</th>\n",
              "    </tr>\n",
              "  </thead>\n",
              "  <tbody>\n",
              "    <tr>\n",
              "      <th>CHN</th>\n",
              "      <td>China</td>\n",
              "      <td>1398.72</td>\n",
              "      <td>9596.96</td>\n",
              "      <td>12234.78</td>\n",
              "      <td>Asia</td>\n",
              "      <td>None</td>\n",
              "    </tr>\n",
              "    <tr>\n",
              "      <th>IND</th>\n",
              "      <td>India</td>\n",
              "      <td>1351.16</td>\n",
              "      <td>3287.26</td>\n",
              "      <td>2575.67</td>\n",
              "      <td>Asia</td>\n",
              "      <td>1947-08-15</td>\n",
              "    </tr>\n",
              "    <tr>\n",
              "      <th>USA</th>\n",
              "      <td>US</td>\n",
              "      <td>329.74</td>\n",
              "      <td>9833.52</td>\n",
              "      <td>19485.39</td>\n",
              "      <td>N.America</td>\n",
              "      <td>1776-07-04</td>\n",
              "    </tr>\n",
              "    <tr>\n",
              "      <th>IDN</th>\n",
              "      <td>Indonesia</td>\n",
              "      <td>268.07</td>\n",
              "      <td>1910.93</td>\n",
              "      <td>1015.54</td>\n",
              "      <td>Asia</td>\n",
              "      <td>1945-08-17</td>\n",
              "    </tr>\n",
              "    <tr>\n",
              "      <th>BRA</th>\n",
              "      <td>Brazil</td>\n",
              "      <td>210.32</td>\n",
              "      <td>8515.77</td>\n",
              "      <td>2055.51</td>\n",
              "      <td>S.America</td>\n",
              "      <td>1822-09-07</td>\n",
              "    </tr>\n",
              "    <tr>\n",
              "      <th>PAK</th>\n",
              "      <td>Pakistan</td>\n",
              "      <td>205.71</td>\n",
              "      <td>881.91</td>\n",
              "      <td>302.14</td>\n",
              "      <td>Asia</td>\n",
              "      <td>1947-08-14</td>\n",
              "    </tr>\n",
              "    <tr>\n",
              "      <th>NGA</th>\n",
              "      <td>Nigeria</td>\n",
              "      <td>200.96</td>\n",
              "      <td>923.77</td>\n",
              "      <td>375.77</td>\n",
              "      <td>Africa</td>\n",
              "      <td>1960-10-01</td>\n",
              "    </tr>\n",
              "    <tr>\n",
              "      <th>BGD</th>\n",
              "      <td>Bangladesh</td>\n",
              "      <td>167.09</td>\n",
              "      <td>147.57</td>\n",
              "      <td>245.63</td>\n",
              "      <td>Asia</td>\n",
              "      <td>1971-03-26</td>\n",
              "    </tr>\n",
              "    <tr>\n",
              "      <th>RUS</th>\n",
              "      <td>Russia</td>\n",
              "      <td>146.79</td>\n",
              "      <td>17098.25</td>\n",
              "      <td>1530.75</td>\n",
              "      <td>None</td>\n",
              "      <td>1992-06-12</td>\n",
              "    </tr>\n",
              "    <tr>\n",
              "      <th>MEX</th>\n",
              "      <td>Mexico</td>\n",
              "      <td>126.58</td>\n",
              "      <td>1964.38</td>\n",
              "      <td>1158.23</td>\n",
              "      <td>N.America</td>\n",
              "      <td>1810-09-16</td>\n",
              "    </tr>\n",
              "    <tr>\n",
              "      <th>JPN</th>\n",
              "      <td>Japan</td>\n",
              "      <td>126.22</td>\n",
              "      <td>377.97</td>\n",
              "      <td>4872.42</td>\n",
              "      <td>Asia</td>\n",
              "      <td>None</td>\n",
              "    </tr>\n",
              "    <tr>\n",
              "      <th>DEU</th>\n",
              "      <td>Germany</td>\n",
              "      <td>83.02</td>\n",
              "      <td>357.11</td>\n",
              "      <td>3693.20</td>\n",
              "      <td>Europe</td>\n",
              "      <td>None</td>\n",
              "    </tr>\n",
              "    <tr>\n",
              "      <th>FRA</th>\n",
              "      <td>France</td>\n",
              "      <td>67.02</td>\n",
              "      <td>640.68</td>\n",
              "      <td>2582.49</td>\n",
              "      <td>Europe</td>\n",
              "      <td>1789-07-14</td>\n",
              "    </tr>\n",
              "    <tr>\n",
              "      <th>GBR</th>\n",
              "      <td>UK</td>\n",
              "      <td>66.44</td>\n",
              "      <td>242.50</td>\n",
              "      <td>2631.23</td>\n",
              "      <td>Europe</td>\n",
              "      <td>None</td>\n",
              "    </tr>\n",
              "    <tr>\n",
              "      <th>ITA</th>\n",
              "      <td>Italy</td>\n",
              "      <td>60.36</td>\n",
              "      <td>301.34</td>\n",
              "      <td>1943.84</td>\n",
              "      <td>Europe</td>\n",
              "      <td>None</td>\n",
              "    </tr>\n",
              "    <tr>\n",
              "      <th>ARG</th>\n",
              "      <td>Argentina</td>\n",
              "      <td>44.94</td>\n",
              "      <td>2780.40</td>\n",
              "      <td>637.49</td>\n",
              "      <td>S.America</td>\n",
              "      <td>1816-07-09</td>\n",
              "    </tr>\n",
              "    <tr>\n",
              "      <th>DZA</th>\n",
              "      <td>Algeria</td>\n",
              "      <td>43.38</td>\n",
              "      <td>2381.74</td>\n",
              "      <td>167.56</td>\n",
              "      <td>Africa</td>\n",
              "      <td>1962-07-05</td>\n",
              "    </tr>\n",
              "    <tr>\n",
              "      <th>CAN</th>\n",
              "      <td>Canada</td>\n",
              "      <td>37.59</td>\n",
              "      <td>9984.67</td>\n",
              "      <td>1647.12</td>\n",
              "      <td>N.America</td>\n",
              "      <td>1867-07-01</td>\n",
              "    </tr>\n",
              "    <tr>\n",
              "      <th>AUS</th>\n",
              "      <td>Australia</td>\n",
              "      <td>25.47</td>\n",
              "      <td>7692.02</td>\n",
              "      <td>1408.68</td>\n",
              "      <td>Oceania</td>\n",
              "      <td>None</td>\n",
              "    </tr>\n",
              "    <tr>\n",
              "      <th>KAZ</th>\n",
              "      <td>Kazakhstan</td>\n",
              "      <td>18.53</td>\n",
              "      <td>2724.90</td>\n",
              "      <td>159.41</td>\n",
              "      <td>Asia</td>\n",
              "      <td>1991-12-16</td>\n",
              "    </tr>\n",
              "  </tbody>\n",
              "</table>\n",
              "</div>"
            ],
            "text/plain": [
              "        COUNTRY      POP      AREA       GDP       CONT     IND_DAY\n",
              "CHN       China  1398.72   9596.96  12234.78       Asia        None\n",
              "IND       India  1351.16   3287.26   2575.67       Asia  1947-08-15\n",
              "USA          US   329.74   9833.52  19485.39  N.America  1776-07-04\n",
              "IDN   Indonesia   268.07   1910.93   1015.54       Asia  1945-08-17\n",
              "BRA      Brazil   210.32   8515.77   2055.51  S.America  1822-09-07\n",
              "PAK    Pakistan   205.71    881.91    302.14       Asia  1947-08-14\n",
              "NGA     Nigeria   200.96    923.77    375.77     Africa  1960-10-01\n",
              "BGD  Bangladesh   167.09    147.57    245.63       Asia  1971-03-26\n",
              "RUS      Russia   146.79  17098.25   1530.75       None  1992-06-12\n",
              "MEX      Mexico   126.58   1964.38   1158.23  N.America  1810-09-16\n",
              "JPN       Japan   126.22    377.97   4872.42       Asia        None\n",
              "DEU     Germany    83.02    357.11   3693.20     Europe        None\n",
              "FRA      France    67.02    640.68   2582.49     Europe  1789-07-14\n",
              "GBR          UK    66.44    242.50   2631.23     Europe        None\n",
              "ITA       Italy    60.36    301.34   1943.84     Europe        None\n",
              "ARG   Argentina    44.94   2780.40    637.49  S.America  1816-07-09\n",
              "DZA     Algeria    43.38   2381.74    167.56     Africa  1962-07-05\n",
              "CAN      Canada    37.59   9984.67   1647.12  N.America  1867-07-01\n",
              "AUS   Australia    25.47   7692.02   1408.68    Oceania        None\n",
              "KAZ  Kazakhstan    18.53   2724.90    159.41       Asia  1991-12-16"
            ]
          },
          "metadata": {
            "tags": []
          },
          "execution_count": 12
        }
      ]
    },
    {
      "cell_type": "markdown",
      "metadata": {
        "id": "lVQVpA1tXwMK"
      },
      "source": [
        "### HTML format type"
      ],
      "id": "lVQVpA1tXwMK"
    },
    {
      "cell_type": "code",
      "metadata": {
        "colab": {
          "base_uri": "https://localhost:8080/"
        },
        "id": "tjQHtkgZOaAu",
        "outputId": "c2b8be4e-f3ef-4e9f-a5bf-e51291122330"
      },
      "source": [
        "df_html = df.to_html('contries_data.html')\n",
        "\n",
        "# New jason file will be added in your directory\n",
        "pd.read_html('contries_data.html')"
      ],
      "id": "tjQHtkgZOaAu",
      "execution_count": null,
      "outputs": [
        {
          "output_type": "execute_result",
          "data": {
            "text/plain": [
              "[   Unnamed: 0     COUNTRY      POP      AREA       GDP       CONT     IND_DAY\n",
              " 0         CHN       China  1398.72   9596.96  12234.78       Asia         NaN\n",
              " 1         IND       India  1351.16   3287.26   2575.67       Asia  1947-08-15\n",
              " 2         USA          US   329.74   9833.52  19485.39  N.America  1776-07-04\n",
              " 3         IDN   Indonesia   268.07   1910.93   1015.54       Asia  1945-08-17\n",
              " 4         BRA      Brazil   210.32   8515.77   2055.51  S.America  1822-09-07\n",
              " 5         PAK    Pakistan   205.71    881.91    302.14       Asia  1947-08-14\n",
              " 6         NGA     Nigeria   200.96    923.77    375.77     Africa  1960-10-01\n",
              " 7         BGD  Bangladesh   167.09    147.57    245.63       Asia  1971-03-26\n",
              " 8         RUS      Russia   146.79  17098.25   1530.75        NaN  1992-06-12\n",
              " 9         MEX      Mexico   126.58   1964.38   1158.23  N.America  1810-09-16\n",
              " 10        JPN       Japan   126.22    377.97   4872.42       Asia         NaN\n",
              " 11        DEU     Germany    83.02    357.11   3693.20     Europe         NaN\n",
              " 12        FRA      France    67.02    640.68   2582.49     Europe  1789-07-14\n",
              " 13        GBR          UK    66.44    242.50   2631.23     Europe         NaN\n",
              " 14        ITA       Italy    60.36    301.34   1943.84     Europe         NaN\n",
              " 15        ARG   Argentina    44.94   2780.40    637.49  S.America  1816-07-09\n",
              " 16        DZA     Algeria    43.38   2381.74    167.56     Africa  1962-07-05\n",
              " 17        CAN      Canada    37.59   9984.67   1647.12  N.America  1867-07-01\n",
              " 18        AUS   Australia    25.47   7692.02   1408.68    Oceania         NaN\n",
              " 19        KAZ  Kazakhstan    18.53   2724.90    159.41       Asia  1991-12-16]"
            ]
          },
          "metadata": {
            "tags": []
          },
          "execution_count": 13
        }
      ]
    },
    {
      "cell_type": "markdown",
      "metadata": {
        "id": "avydSf6pZhWW"
      },
      "source": [
        "# 6] Write python programs demonstrating different functions for preprocessing the data. \n",
        "---"
      ],
      "id": "avydSf6pZhWW"
    },
    {
      "cell_type": "markdown",
      "metadata": {
        "id": "94m9o-DzaDOv"
      },
      "source": [
        "## NumPy Random"
      ],
      "id": "94m9o-DzaDOv"
    },
    {
      "cell_type": "markdown",
      "metadata": {
        "id": "ndNcGYz7cQDp"
      },
      "source": [
        "import statement"
      ],
      "id": "ndNcGYz7cQDp"
    },
    {
      "cell_type": "code",
      "metadata": {
        "id": "ngt_xqhlZ1wf"
      },
      "source": [
        "import numpy as np"
      ],
      "id": "ngt_xqhlZ1wf",
      "execution_count": 55,
      "outputs": []
    },
    {
      "cell_type": "markdown",
      "metadata": {
        "id": "M9Ee-oH9btWw"
      },
      "source": [
        "### rand() function"
      ],
      "id": "M9Ee-oH9btWw"
    },
    {
      "cell_type": "markdown",
      "metadata": {
        "id": "c7qwMUD4cUVv"
      },
      "source": [
        "```rand()``` function returns random value between 0 to 1.\n",
        "\n",
        "as it returns the value we need to store it in some variable"
      ],
      "id": "c7qwMUD4cUVv"
    },
    {
      "cell_type": "code",
      "metadata": {
        "colab": {
          "base_uri": "https://localhost:8080/"
        },
        "id": "uzVX-3t1aN-g",
        "outputId": "c479ea88-6d1a-49ba-ec30-c2e8e59b2425"
      },
      "source": [
        "# Storing returned value from rand() to r1\n",
        "r1 = np.random.rand()\n",
        "print(r1)"
      ],
      "id": "uzVX-3t1aN-g",
      "execution_count": 19,
      "outputs": [
        {
          "output_type": "stream",
          "text": [
            "0.8573782866316578\n"
          ],
          "name": "stdout"
        }
      ]
    },
    {
      "cell_type": "markdown",
      "metadata": {
        "id": "awh74eVJcxhg"
      },
      "source": [
        "We can also specify shape of matrix as an argument values in ```rand()``` function."
      ],
      "id": "awh74eVJcxhg"
    },
    {
      "cell_type": "code",
      "metadata": {
        "colab": {
          "base_uri": "https://localhost:8080/"
        },
        "id": "XUxNzODYbPXV",
        "outputId": "5c56bdd6-ab19-459c-99c7-4c472a4b27ce"
      },
      "source": [
        "random_mat = np.random.rand(2, 2)\n",
        "# returns matrix of shape given in argument,\n",
        "# with all the elements having random value between 0 to 1\n",
        "print(random_mat)"
      ],
      "id": "XUxNzODYbPXV",
      "execution_count": 18,
      "outputs": [
        {
          "output_type": "stream",
          "text": [
            "[[0.90196171 0.55967739]\n",
            " [0.97631055 0.84645981]]\n"
          ],
          "name": "stdout"
        }
      ]
    },
    {
      "cell_type": "markdown",
      "metadata": {
        "id": "tB26woCTb1So"
      },
      "source": [
        "### randint() function"
      ],
      "id": "tB26woCTb1So"
    },
    {
      "cell_type": "markdown",
      "metadata": {
        "id": "qlLU_3xCdIG1"
      },
      "source": [
        "```randint(start, stop, size)``` \n",
        "\n",
        "Returns array of size ```size``` , containing random integers from start to stop exclusive ( meaning stop is not included )"
      ],
      "id": "qlLU_3xCdIG1"
    },
    {
      "cell_type": "code",
      "metadata": {
        "colab": {
          "base_uri": "https://localhost:8080/"
        },
        "id": "BK5TvFrhba3e",
        "outputId": "d3456cc4-d5dc-449c-c8e3-c0761fe88dd8"
      },
      "source": [
        "# Here, this will return 20 random integer values from 11 to 20 exclusive\n",
        "r1 = np.random.randint(11, 20, 20)\n",
        "\n",
        "print(r1)"
      ],
      "id": "BK5TvFrhba3e",
      "execution_count": 20,
      "outputs": [
        {
          "output_type": "stream",
          "text": [
            "[17 14 13 15 14 12 19 14 19 12 19 19 13 18 11 14 13 14 13 12]\n"
          ],
          "name": "stdout"
        }
      ]
    },
    {
      "cell_type": "code",
      "metadata": {
        "colab": {
          "base_uri": "https://localhost:8080/"
        },
        "id": "wrBRZJoPd-03",
        "outputId": "6f3c01ba-959c-41b9-8fc9-2c9ab92e750e"
      },
      "source": [
        "# then we can reshape this array and use it as matrix \n",
        "r1_mat = r1.reshape(5, 4)\n",
        "# NOTE reshape returns matrix of shape we give , it doesn't change r1 itself\n",
        "print('r1 still same :', r1)\n",
        "print('r1_mat :\\n', r1_mat)"
      ],
      "id": "wrBRZJoPd-03",
      "execution_count": 21,
      "outputs": [
        {
          "output_type": "stream",
          "text": [
            "r1 still same : [17 14 13 15 14 12 19 14 19 12 19 19 13 18 11 14 13 14 13 12]\n",
            "r1_mat :\n",
            " [[17 14 13 15]\n",
            " [14 12 19 14]\n",
            " [19 12 19 19]\n",
            " [13 18 11 14]\n",
            " [13 14 13 12]]\n"
          ],
          "name": "stdout"
        }
      ]
    },
    {
      "cell_type": "markdown",
      "metadata": {
        "id": "WpEHgIvUb7_g"
      },
      "source": [
        "### randn() function"
      ],
      "id": "WpEHgIvUb7_g"
    },
    {
      "cell_type": "markdown",
      "metadata": {
        "id": "wKuCMRrmeKff"
      },
      "source": [
        "Till now our random values were being selected from uniform distribution ,\n",
        "\n",
        "using ```randn()``` function , we can select random values from normal distribution"
      ],
      "id": "wKuCMRrmeKff"
    },
    {
      "cell_type": "code",
      "metadata": {
        "colab": {
          "base_uri": "https://localhost:8080/"
        },
        "id": "X5iKztONDVwj",
        "outputId": "33ba17e0-ac08-444f-a861-7d15ba38fe2e"
      },
      "source": [
        "# Use randn function to get random values from normal distribution\n",
        "normal_dist_random = np.random.randn(3)\n",
        "print(normal_dist_random)"
      ],
      "id": "X5iKztONDVwj",
      "execution_count": 61,
      "outputs": [
        {
          "output_type": "stream",
          "text": [
            "[ 1.0205401  -1.20876471 -0.14190607]\n"
          ],
          "name": "stdout"
        }
      ]
    },
    {
      "cell_type": "markdown",
      "metadata": {
        "id": "QCLPR4OjeeYE"
      },
      "source": [
        "Here is the visualization of both the function ,\n",
        "We will have 100000 random values from uniform distribution as welll as normal distribution and then we will plot hist diagrams for both of them."
      ],
      "id": "QCLPR4OjeeYE"
    },
    {
      "cell_type": "code",
      "metadata": {
        "colab": {
          "base_uri": "https://localhost:8080/",
          "height": 545
        },
        "id": "38G5wlBhD22B",
        "outputId": "387509fd-a8d4-4595-e849-5eb4f8e444d4"
      },
      "source": [
        "import matplotlib.pyplot as plt\n",
        "sample_size = 100000\n",
        "uniform_dist_rand = np.random.rand(sample_size)\n",
        "normal_dist_rand = np.random.randn(sample_size)\n",
        "\n",
        "plt.hist(uniform_dist_rand, bins=100)\n",
        "plt.title('random values from uniform distribution')\n",
        "plt.show()\n",
        "\n",
        "plt.hist(normal_dist_rand, bins=100)\n",
        "plt.title('random values from normal distribution')\n",
        "plt.show()"
      ],
      "id": "38G5wlBhD22B",
      "execution_count": 67,
      "outputs": [
        {
          "output_type": "display_data",
          "data": {
            "image/png": "[encoded data removed]",
            "text/plain": [
              "<Figure size 432x288 with 1 Axes>"
            ]
          },
          "metadata": {
            "tags": [],
            "needs_background": "light"
          }
        },
        {
          "output_type": "display_data",
          "data": {
            "image/png": "[encoded data removed]",
            "text/plain": [
              "<Figure size 432x288 with 1 Axes>"
            ]
          },
          "metadata": {
            "tags": [],
            "needs_background": "light"
          }
        }
      ]
    },
    {
      "cell_type": "markdown",
      "metadata": {
        "id": "eL4KBwq6e0Bt"
      },
      "source": [
        "As you can see , first graph is of uniformly distributed random values and that is why it resembles uniform distribution....\n",
        "\n",
        "whereas in 2nd graph we used random values from normal distribution that is why \n",
        "it resembles normal distributin..."
      ],
      "id": "eL4KBwq6e0Bt"
    },
    {
      "cell_type": "markdown",
      "metadata": {
        "id": "USH-FoSz_1jN"
      },
      "source": [
        "## Aggregation Functions"
      ],
      "id": "USH-FoSz_1jN"
    },
    {
      "cell_type": "markdown",
      "metadata": {
        "id": "Bosf5HOnfST-"
      },
      "source": [
        "Import statement"
      ],
      "id": "Bosf5HOnfST-"
    },
    {
      "cell_type": "code",
      "metadata": {
        "id": "2DvL1uXfAYZy"
      },
      "source": [
        "import numpy as np"
      ],
      "id": "2DvL1uXfAYZy",
      "execution_count": 22,
      "outputs": []
    },
    {
      "cell_type": "code",
      "metadata": {
        "colab": {
          "base_uri": "https://localhost:8080/"
        },
        "id": "KxhHA63O_5hu",
        "outputId": "bc867f58-9d15-4dc1-9dd6-003ca3382c1d"
      },
      "source": [
        "# Let's define some data and then use some numpy functions\n",
        "# This is simple array \n",
        "data = [22, 16, 29, 27 , 20, 31, 20, 9]\n",
        "# let's convert it into nd numpy array\n",
        "data = np.array(data) # we use np.array(your_array_variable) to convert your array variable in numpy array\n",
        "print(data, type(data))"
      ],
      "id": "KxhHA63O_5hu",
      "execution_count": 25,
      "outputs": [
        {
          "output_type": "stream",
          "text": [
            "[22 16 29 27 20 31 20  9] <class 'numpy.ndarray'>\n"
          ],
          "name": "stdout"
        }
      ]
    },
    {
      "cell_type": "markdown",
      "metadata": {
        "id": "rNpUdE0vgGMF"
      },
      "source": [
        "```min()``` function returns minimum value from the array"
      ],
      "id": "rNpUdE0vgGMF"
    },
    {
      "cell_type": "code",
      "metadata": {
        "colab": {
          "base_uri": "https://localhost:8080/"
        },
        "id": "lRo4Qb7tgNfU",
        "outputId": "73d62162-ff56-4054-8aba-30eed58f48fe"
      },
      "source": [
        "print('min value :', data.min())"
      ],
      "id": "lRo4Qb7tgNfU",
      "execution_count": 26,
      "outputs": [
        {
          "output_type": "stream",
          "text": [
            "min value : 9\n"
          ],
          "name": "stdout"
        }
      ]
    },
    {
      "cell_type": "markdown",
      "metadata": {
        "id": "GhCVjbdygSUN"
      },
      "source": [
        "```argmin()``` returns index of minimum value "
      ],
      "id": "GhCVjbdygSUN"
    },
    {
      "cell_type": "code",
      "metadata": {
        "colab": {
          "base_uri": "https://localhost:8080/"
        },
        "id": "PMVzQi0YAPYp",
        "outputId": "c6c6ba5f-a540-4d99-9412-75381320e249"
      },
      "source": [
        "print('min index:', data.argmin())"
      ],
      "id": "PMVzQi0YAPYp",
      "execution_count": 49,
      "outputs": [
        {
          "output_type": "stream",
          "text": [
            "arg min: 7\n"
          ],
          "name": "stdout"
        }
      ]
    },
    {
      "cell_type": "markdown",
      "metadata": {
        "id": "X5idOPxHgheF"
      },
      "source": [
        "```max()``` returns maximum value from the array"
      ],
      "id": "X5idOPxHgheF"
    },
    {
      "cell_type": "code",
      "metadata": {
        "colab": {
          "base_uri": "https://localhost:8080/"
        },
        "id": "gTtN1k0SAmdT",
        "outputId": "c318efc2-e8e0-46e6-dc47-5af29fea0481"
      },
      "source": [
        "print('max :', data.max())"
      ],
      "id": "gTtN1k0SAmdT",
      "execution_count": 50,
      "outputs": [
        {
          "output_type": "stream",
          "text": [
            "max : 31\n"
          ],
          "name": "stdout"
        }
      ]
    },
    {
      "cell_type": "markdown",
      "metadata": {
        "id": "4HFAYtKYgms8"
      },
      "source": [
        "```argmax()``` returns index of maximum value"
      ],
      "id": "4HFAYtKYgms8"
    },
    {
      "cell_type": "code",
      "metadata": {
        "colab": {
          "base_uri": "https://localhost:8080/"
        },
        "id": "D0H7B_nvAwRy",
        "outputId": "ba7ba254-3359-4bee-fc62-6108f01dee8f"
      },
      "source": [
        "print('max index :', data.argmax())"
      ],
      "id": "D0H7B_nvAwRy",
      "execution_count": 51,
      "outputs": [
        {
          "output_type": "stream",
          "text": [
            "max index: 5\n"
          ],
          "name": "stdout"
        }
      ]
    },
    {
      "cell_type": "markdown",
      "metadata": {
        "id": "DtAyB7irgsMr"
      },
      "source": [
        "```mean()``` returns mean of all values in array"
      ],
      "id": "DtAyB7irgsMr"
    },
    {
      "cell_type": "code",
      "metadata": {
        "colab": {
          "base_uri": "https://localhost:8080/"
        },
        "id": "4h9HYr-CA0a4",
        "outputId": "5067124e-77fa-4e0e-892e-ef375e654081"
      },
      "source": [
        "print('mean :', data.mean())"
      ],
      "id": "4h9HYr-CA0a4",
      "execution_count": 52,
      "outputs": [
        {
          "output_type": "stream",
          "text": [
            "mean : 21.75\n"
          ],
          "name": "stdout"
        }
      ]
    },
    {
      "cell_type": "markdown",
      "metadata": {
        "id": "y78u2vERgyJ1"
      },
      "source": [
        "```std()``` returns standard deviation"
      ],
      "id": "y78u2vERgyJ1"
    },
    {
      "cell_type": "code",
      "metadata": {
        "colab": {
          "base_uri": "https://localhost:8080/"
        },
        "id": "I-zRz_cqA7uQ",
        "outputId": "37359627-9b37-417a-f67b-ac333f313e53"
      },
      "source": [
        "print('standard deviation :', data.std())"
      ],
      "id": "I-zRz_cqA7uQ",
      "execution_count": 53,
      "outputs": [
        {
          "output_type": "stream",
          "text": [
            "standard deviation : 6.777720855862979\n"
          ],
          "name": "stdout"
        }
      ]
    },
    {
      "cell_type": "markdown",
      "metadata": {
        "id": "wUvWzIl_h1Ys"
      },
      "source": [
        "```sum()``` returns sum of elements"
      ],
      "id": "wUvWzIl_h1Ys"
    },
    {
      "cell_type": "markdown",
      "metadata": {
        "id": "cUNDLoAOg86t"
      },
      "source": [
        "using axis argument with aggregation functions\n"
      ],
      "id": "cUNDLoAOg86t"
    },
    {
      "cell_type": "code",
      "metadata": {
        "colab": {
          "base_uri": "https://localhost:8080/"
        },
        "id": "KOexOyNdBBRi",
        "outputId": "0537cea4-15b7-42fc-bb4a-3f7e3dca1bce"
      },
      "source": [
        "# We can provide axis argument with all the aggregation function we have seen till now\n",
        "# it defines along which axis we want to perfom certain functions\n",
        "\n",
        "# To understand properly we need matrix \n",
        "# Let's create it\n",
        "mat = np.random.randint(1, 10, 25) # Getting 25 random integer values from 1 to 100 not inclusive\n",
        "# reshaping the array into matrix of shape 5x5 , \n",
        "# here no of elements much be 25 as we have 25 elements in array \n",
        "# that's why i have selected 5x5 shape\n",
        "mat = mat.reshape(5, 5) \n",
        "print(mat)"
      ],
      "id": "KOexOyNdBBRi",
      "execution_count": 70,
      "outputs": [
        {
          "output_type": "stream",
          "text": [
            "[[5 2 1 9 5]\n",
            " [5 1 2 9 5]\n",
            " [7 9 4 6 9]\n",
            " [6 3 9 5 7]\n",
            " [8 9 4 5 1]]\n"
          ],
          "name": "stdout"
        }
      ]
    },
    {
      "cell_type": "markdown",
      "metadata": {
        "id": "F9bi8jAviqWK"
      },
      "source": [
        "axis 1 represents rows"
      ],
      "id": "F9bi8jAviqWK"
    },
    {
      "cell_type": "code",
      "metadata": {
        "colab": {
          "base_uri": "https://localhost:8080/"
        },
        "id": "Dhw5mLmrFW2a",
        "outputId": "569a5b7a-0788-4dbb-a52d-6684f40101d4"
      },
      "source": [
        "print('sum of rows :', mat.sum(axis=1))"
      ],
      "id": "Dhw5mLmrFW2a",
      "execution_count": 73,
      "outputs": [
        {
          "output_type": "stream",
          "text": [
            "sum of rows : [22 22 35 30 27]\n"
          ],
          "name": "stdout"
        }
      ]
    },
    {
      "cell_type": "markdown",
      "metadata": {
        "id": "HyJN2-sIizmc"
      },
      "source": [
        "axis 0 represents columns"
      ],
      "id": "HyJN2-sIizmc"
    },
    {
      "cell_type": "code",
      "metadata": {
        "colab": {
          "base_uri": "https://localhost:8080/"
        },
        "id": "3X-d5iVQF2HJ",
        "outputId": "ed476e0a-7271-4eb0-e7f0-99a130e8e232"
      },
      "source": [
        "print('sum of columns :', mat.sum(axis=0))"
      ],
      "id": "3X-d5iVQF2HJ",
      "execution_count": 75,
      "outputs": [
        {
          "output_type": "stream",
          "text": [
            "sum of columns : [31 24 20 34 27]\n"
          ],
          "name": "stdout"
        }
      ]
    },
    {
      "cell_type": "markdown",
      "metadata": {
        "id": "dTghtQeyi43L"
      },
      "source": [
        "not providing axis includes all the elements"
      ],
      "id": "dTghtQeyi43L"
    },
    {
      "cell_type": "code",
      "metadata": {
        "colab": {
          "base_uri": "https://localhost:8080/"
        },
        "id": "ARRru6IjKkkX",
        "outputId": "2ad2ed83-8417-4f7c-ebbf-e01d77f146e8"
      },
      "source": [
        "print('sum of all elements :', mat.sum())"
      ],
      "id": "ARRru6IjKkkX",
      "execution_count": 76,
      "outputs": [
        {
          "output_type": "stream",
          "text": [
            "sum of all elements : 136\n"
          ],
          "name": "stdout"
        }
      ]
    },
    {
      "cell_type": "markdown",
      "metadata": {
        "id": "oPOrtjmVLBpn"
      },
      "source": [
        "## Slicing of ndarray"
      ],
      "id": "oPOrtjmVLBpn"
    },
    {
      "cell_type": "code",
      "metadata": {
        "colab": {
          "base_uri": "https://localhost:8080/"
        },
        "id": "cvNIMf3tLFM_",
        "outputId": "dd24cebb-562d-4dda-bb12-722492a4273b"
      },
      "source": [
        "# This variable stores birthday of persons\n",
        "data = [['AJ', 22, 1],\n",
        "        ['Ace', 16, 3],\n",
        "        ['Dave', 27, 11],\n",
        "        ['Lotte', 29, 9],\n",
        "        ['martha', 20, 6],\n",
        "        ['steve', 31, 10],\n",
        "        ['Raj', 9, 10],\n",
        "        ['Wane', 20, 1]]\n",
        "\n",
        "print(data)"
      ],
      "id": "cvNIMf3tLFM_",
      "execution_count": 34,
      "outputs": [
        {
          "output_type": "stream",
          "text": [
            "[['AJ', 22, 1], ['Ace', 16, 3], ['Dave', 27, 11], ['Lotte', 29, 9], ['martha', 20, 6], ['steve', 31, 10], ['Raj', 9, 10], ['Wane', 20, 1]]\n"
          ],
          "name": "stdout"
        }
      ]
    },
    {
      "cell_type": "markdown",
      "metadata": {
        "id": "MAq5nuSHjVyb"
      },
      "source": [
        "```Array[start:stop:step}]```\n",
        "\n",
        "it returns array starting from index ```start``` till index ```stop``` - 1 , taking ```step``` steps every time. "
      ],
      "id": "MAq5nuSHjVyb"
    },
    {
      "cell_type": "markdown",
      "metadata": {
        "id": "ViqWygNXj7e0"
      },
      "source": [
        "\n",
        "Not providing ```start``` argument results in 0, meaning it start from the first element."
      ],
      "id": "ViqWygNXj7e0"
    },
    {
      "cell_type": "code",
      "metadata": {
        "colab": {
          "base_uri": "https://localhost:8080/"
        },
        "id": "tB1ufH0BjLU0",
        "outputId": "cc56ffeb-fc90-45a9-d6fe-edc5c59d0b90"
      },
      "source": [
        "print(data[:5]) "
      ],
      "id": "tB1ufH0BjLU0",
      "execution_count": 35,
      "outputs": [
        {
          "output_type": "stream",
          "text": [
            "[['AJ', 22, 1], ['Ace', 16, 3], ['Dave', 27, 11], ['Lotte', 29, 9], ['martha', 20, 6]]\n"
          ],
          "name": "stdout"
        }
      ]
    },
    {
      "cell_type": "markdown",
      "metadata": {
        "id": "yy5IfgG3j9HC"
      },
      "source": [
        "\n",
        "Not providing ```stop``` argument results in length of the array."
      ],
      "id": "yy5IfgG3j9HC"
    },
    {
      "cell_type": "code",
      "metadata": {
        "colab": {
          "base_uri": "https://localhost:8080/"
        },
        "id": "wK8ZDORrMDk2",
        "outputId": "a29ae67f-1a60-46d6-c99a-83f3177adec4"
      },
      "source": [
        "print(data[5:]) # returns every element from index 5 till last index"
      ],
      "id": "wK8ZDORrMDk2",
      "execution_count": 36,
      "outputs": [
        {
          "output_type": "stream",
          "text": [
            "[['steve', 31, 10], ['Raj', 9, 10], ['Wane', 20, 1]]\n"
          ],
          "name": "stdout"
        }
      ]
    },
    {
      "cell_type": "code",
      "metadata": {
        "colab": {
          "base_uri": "https://localhost:8080/"
        },
        "id": "vLhRJh3zMIOv",
        "outputId": "2d2e2753-ade7-4aea-857b-a36f45be246b"
      },
      "source": [
        "print(data[::2]) \n",
        "# Instead of taking one step which is default , it will take 2 steps every time "
      ],
      "id": "vLhRJh3zMIOv",
      "execution_count": 37,
      "outputs": [
        {
          "output_type": "stream",
          "text": [
            "[['AJ', 22, 1], ['Dave', 27, 11], ['martha', 20, 6], ['Raj', 9, 10]]\n"
          ],
          "name": "stdout"
        }
      ]
    },
    {
      "cell_type": "code",
      "metadata": {
        "colab": {
          "base_uri": "https://localhost:8080/"
        },
        "id": "29OzSa3fMOWw",
        "outputId": "04987ef0-9e47-4b4c-8c08-a2cd0f7059d6"
      },
      "source": [
        "print(data[:-4:-1]) \n",
        "# negative stop index means 4th index from the last\n",
        "# negative steps means reverse traversing "
      ],
      "id": "29OzSa3fMOWw",
      "execution_count": 38,
      "outputs": [
        {
          "output_type": "stream",
          "text": [
            "[['Wane', 20, 1], ['Raj', 9, 10], ['steve', 31, 10]]\n"
          ],
          "name": "stdout"
        }
      ]
    },
    {
      "cell_type": "code",
      "metadata": {
        "colab": {
          "base_uri": "https://localhost:8080/"
        },
        "id": "lasxYpWGMWvG",
        "outputId": "5d7044ef-1399-4acf-d634-a28f2c7a67d7"
      },
      "source": [
        "print(data)"
      ],
      "id": "lasxYpWGMWvG",
      "execution_count": 31,
      "outputs": [
        {
          "output_type": "stream",
          "text": [
            "[['AJ', 22, 1], ['Ace', 16, 3], ['Dave', 27, 11], ['Lotte', 29, 9], ['martha', 20, 6], ['steve', 31, 10], ['Raj', 9, 10], ['Wane', 20, 1]]\n"
          ],
          "name": "stdout"
        }
      ]
    },
    {
      "cell_type": "markdown",
      "metadata": {
        "id": "IDy_XSU7kjmd"
      },
      "source": [
        "Slicing is mutable\n"
      ],
      "id": "IDy_XSU7kjmd"
    },
    {
      "cell_type": "code",
      "metadata": {
        "colab": {
          "base_uri": "https://localhost:8080/"
        },
        "id": "_iB2oEJkNDaG",
        "outputId": "504e3b24-4655-4e24-f13e-27de1107cbe0"
      },
      "source": [
        "array = np.array([1, 2, 3, 4, 5])\n",
        "\n",
        "# we store last 3 elements values in array_slice variable\n",
        "array_slice = array[2:]\n",
        "\n",
        "print(array_slice)"
      ],
      "id": "_iB2oEJkNDaG",
      "execution_count": 39,
      "outputs": [
        {
          "output_type": "stream",
          "text": [
            "[3 4 5]\n"
          ],
          "name": "stdout"
        }
      ]
    },
    {
      "cell_type": "code",
      "metadata": {
        "colab": {
          "base_uri": "https://localhost:8080/"
        },
        "id": "zsO6zKLXNW_3",
        "outputId": "ac63fc33-83a5-4a0d-de09-2409348af4c3"
      },
      "source": [
        "# now , we change all the elements in that array_slice variable\n",
        "array_slice[:] = 0\n",
        "\n",
        "# it also changes original array's last 3 elements\n",
        "print('original array :', array)\n",
        "print('sliced array :', array_slice)"
      ],
      "id": "zsO6zKLXNW_3",
      "execution_count": 40,
      "outputs": [
        {
          "output_type": "stream",
          "text": [
            "original array : [1 2 0 0 0]\n",
            "sliced array : [0 0 0]\n"
          ],
          "name": "stdout"
        }
      ]
    },
    {
      "cell_type": "markdown",
      "metadata": {
        "id": "l2VLTRFvOaI1"
      },
      "source": [
        "## Numpy Arithmetic Operations"
      ],
      "id": "l2VLTRFvOaI1"
    },
    {
      "cell_type": "code",
      "metadata": {
        "colab": {
          "base_uri": "https://localhost:8080/"
        },
        "id": "gEeWQQCHNqMt",
        "outputId": "4a6f0db3-266e-452a-a503-567b63651f3d"
      },
      "source": [
        "arr1 = np.random.randint(1, 10, 20)\n",
        "arr1 = arr1.reshape(5, 4)\n",
        "arr2 = np.random.randint(1, 10, 20)\n",
        "arr2 = arr2.reshape(5, 4)\n",
        "\n",
        "print('arr1 :\\n', arr1, '\\n\\narr2 :\\n', arr2)"
      ],
      "id": "gEeWQQCHNqMt",
      "execution_count": 106,
      "outputs": [
        {
          "output_type": "stream",
          "text": [
            "arr1 :\n",
            " [[8 1 9 4]\n",
            " [4 5 4 4]\n",
            " [4 2 6 3]\n",
            " [6 2 7 3]\n",
            " [5 7 6 9]] \n",
            "\n",
            "arr2 :\n",
            " [[6 8 8 7]\n",
            " [3 2 4 4]\n",
            " [9 3 4 5]\n",
            " [2 6 7 1]\n",
            " [6 8 3 3]]\n"
          ],
          "name": "stdout"
        }
      ]
    },
    {
      "cell_type": "code",
      "metadata": {
        "colab": {
          "base_uri": "https://localhost:8080/"
        },
        "id": "skp06nDZO_st",
        "outputId": "82645182-55c0-4f51-ba29-eb170be24708"
      },
      "source": [
        "# Adding scalar to the matrix\n",
        "# scalar value is added to every element \n",
        "\n",
        "arr1add2 = arr1 + 2\n",
        "print(arr1add2)\n",
        "\n",
        "# Substracting scalar value works same \n",
        "new_arr = arr1add2 - 2\n",
        "print(new_arr)"
      ],
      "id": "skp06nDZO_st",
      "execution_count": 111,
      "outputs": [
        {
          "output_type": "stream",
          "text": [
            "[[10  3 11  6]\n",
            " [ 6  7  6  6]\n",
            " [ 6  4  8  5]\n",
            " [ 8  4  9  5]\n",
            " [ 7  9  8 11]]\n",
            "[[8 1 9 4]\n",
            " [4 5 4 4]\n",
            " [4 2 6 3]\n",
            " [6 2 7 3]\n",
            " [5 7 6 9]]\n"
          ],
          "name": "stdout"
        }
      ]
    },
    {
      "cell_type": "code",
      "metadata": {
        "colab": {
          "base_uri": "https://localhost:8080/"
        },
        "id": "kN4imkBxPemt",
        "outputId": "75bdcf80-6667-44da-bd97-c0e0d936abef"
      },
      "source": [
        "# Adding both matrices\n",
        "sum_mat = arr1 + arr2\n",
        "print(sum_mat)"
      ],
      "id": "kN4imkBxPemt",
      "execution_count": 108,
      "outputs": [
        {
          "output_type": "stream",
          "text": [
            "[[14  9 17 11]\n",
            " [ 7  7  8  8]\n",
            " [13  5 10  8]\n",
            " [ 8  8 14  4]\n",
            " [11 15  9 12]]\n"
          ],
          "name": "stdout"
        }
      ]
    },
    {
      "cell_type": "code",
      "metadata": {
        "colab": {
          "base_uri": "https://localhost:8080/"
        },
        "id": "Yh-zZWZDQAt8",
        "outputId": "2f44fb1f-1b35-42cb-a41c-1febab0f862e"
      },
      "source": [
        "sub_mat = sum_mat - arr2\n",
        "# Our ans should be same as arr1\n",
        "print(sub_mat)"
      ],
      "id": "Yh-zZWZDQAt8",
      "execution_count": 112,
      "outputs": [
        {
          "output_type": "stream",
          "text": [
            "[[8 1 9 4]\n",
            " [4 5 4 4]\n",
            " [4 2 6 3]\n",
            " [6 2 7 3]\n",
            " [5 7 6 9]]\n"
          ],
          "name": "stdout"
        }
      ]
    },
    {
      "cell_type": "code",
      "metadata": {
        "colab": {
          "base_uri": "https://localhost:8080/"
        },
        "id": "XRiY8-lZQotd",
        "outputId": "1f625d68-1dca-4d13-ba71-d2ade3428eb3"
      },
      "source": [
        "# Division works same\n",
        "arr1div2 = arr1 / 2\n",
        "print(arr1div2)"
      ],
      "id": "XRiY8-lZQotd",
      "execution_count": 113,
      "outputs": [
        {
          "output_type": "stream",
          "text": [
            "[[4.  0.5 4.5 2. ]\n",
            " [2.  2.5 2.  2. ]\n",
            " [2.  1.  3.  1.5]\n",
            " [3.  1.  3.5 1.5]\n",
            " [2.5 3.5 3.  4.5]]\n"
          ],
          "name": "stdout"
        }
      ]
    },
    {
      "cell_type": "code",
      "metadata": {
        "colab": {
          "base_uri": "https://localhost:8080/"
        },
        "id": "RTslplYxQ75j",
        "outputId": "129f01d9-58fe-4262-8a25-057702d3ac49"
      },
      "source": [
        "# We can perform elementwise division between matrices as follow\n",
        "div = arr1/arr2\n",
        "print(div)"
      ],
      "id": "RTslplYxQ75j",
      "execution_count": 114,
      "outputs": [
        {
          "output_type": "stream",
          "text": [
            "[[1.33333333 0.125      1.125      0.57142857]\n",
            " [1.33333333 2.5        1.         1.        ]\n",
            " [0.44444444 0.66666667 1.5        0.6       ]\n",
            " [3.         0.33333333 1.         3.        ]\n",
            " [0.83333333 0.875      2.         3.        ]]\n"
          ],
          "name": "stdout"
        }
      ]
    },
    {
      "cell_type": "code",
      "metadata": {
        "colab": {
          "base_uri": "https://localhost:8080/"
        },
        "id": "1nhoY_z4RHRL",
        "outputId": "fcd9b7d5-617e-4147-b335-0cb2cb9101ce"
      },
      "source": [
        "# same goes for multiplication\n",
        "# Multiplying arr2 with our div variable should return arr1\n",
        "new_arr = div * arr2\n",
        "print(new_arr)"
      ],
      "id": "1nhoY_z4RHRL",
      "execution_count": 115,
      "outputs": [
        {
          "output_type": "stream",
          "text": [
            "[[8. 1. 9. 4.]\n",
            " [4. 5. 4. 4.]\n",
            " [4. 2. 6. 3.]\n",
            " [6. 2. 7. 3.]\n",
            " [5. 7. 6. 9.]]\n"
          ],
          "name": "stdout"
        }
      ]
    },
    {
      "cell_type": "code",
      "metadata": {
        "colab": {
          "base_uri": "https://localhost:8080/"
        },
        "id": "ARzM_VRWReii",
        "outputId": "cfbd3a44-a151-44b1-da36-702982063e09"
      },
      "source": [
        "# For matrix multiplication we use matmul function or dot function\n",
        "# We need to use transpose of one of the array to make them eligible for matrix multiplication\n",
        "mat_mul = np.matmul(arr1, arr2.T)\n",
        "print(mat_mul)"
      ],
      "id": "ARzM_VRWReii",
      "execution_count": 118,
      "outputs": [
        {
          "output_type": "stream",
          "text": [
            "[[156  78 131  89  95]\n",
            " [124  54  87  70  88]\n",
            " [109  52  81  65  67]\n",
            " [129  62 103  76  82]\n",
            " [197  89 135 103 131]]\n"
          ],
          "name": "stdout"
        }
      ]
    },
    {
      "cell_type": "code",
      "metadata": {
        "colab": {
          "base_uri": "https://localhost:8080/"
        },
        "id": "-W9DHvJPSbg7",
        "outputId": "39ef8800-e8f2-480b-9bfa-170a33fd3be2"
      },
      "source": [
        "dot = arr1.dot(arr2.T)\n",
        "print(dot)"
      ],
      "id": "-W9DHvJPSbg7",
      "execution_count": 120,
      "outputs": [
        {
          "output_type": "stream",
          "text": [
            "[[156  78 131  89  95]\n",
            " [124  54  87  70  88]\n",
            " [109  52  81  65  67]\n",
            " [129  62 103  76  82]\n",
            " [197  89 135 103 131]]\n"
          ],
          "name": "stdout"
        }
      ]
    },
    {
      "cell_type": "code",
      "metadata": {
        "colab": {
          "base_uri": "https://localhost:8080/"
        },
        "id": "EPIbDzdoS2_j",
        "outputId": "24f4a044-8494-4863-ba70-98115e785ab7"
      },
      "source": [
        "using_atRate = arr1 @ arr2.T\n",
        "print(using_atRate)"
      ],
      "id": "EPIbDzdoS2_j",
      "execution_count": 122,
      "outputs": [
        {
          "output_type": "stream",
          "text": [
            "[[156  78 131  89  95]\n",
            " [124  54  87  70  88]\n",
            " [109  52  81  65  67]\n",
            " [129  62 103  76  82]\n",
            " [197  89 135 103 131]]\n"
          ],
          "name": "stdout"
        }
      ]
    },
    {
      "cell_type": "markdown",
      "metadata": {
        "id": "5I_LzmyNTrKY"
      },
      "source": [
        "## Sorting"
      ],
      "id": "5I_LzmyNTrKY"
    },
    {
      "cell_type": "code",
      "metadata": {
        "colab": {
          "base_uri": "https://localhost:8080/"
        },
        "id": "UcudjX1VTHLi",
        "outputId": "cdd93187-8db3-4fad-b5f2-f3ee00b31b81"
      },
      "source": [
        "my_data_type = np.dtype([('name', 'S10'), ('email', 'S10'), ('Gender', 'S10'), ('age', int)]) \n",
        "\n",
        "data = np.array([ ('Nate', 'Nate.data@gamil.com', 'Female', 24),\n",
        "                 ('Aj', 'Aj.data@gmail.com', 'Male', 19),\n",
        "                 ('Hari', 'Hari.data@gmail.com', 'Male', 23),\n",
        "                 ('Ace', 'Ace.data@gmail.com', 'Female', 19)], dtype=my_data_type)\n",
        "\n",
        "\n",
        "\n",
        "print(data)"
      ],
      "id": "UcudjX1VTHLi",
      "execution_count": 143,
      "outputs": [
        {
          "output_type": "stream",
          "text": [
            "[(b'Nate', b'Nate.data@', b'Female', 24)\n",
            " (b'Aj', b'Aj.data@gm', b'Male', 19) (b'Hari', b'Hari.data@', b'Male', 23)\n",
            " (b'Ace', b'Ace.data@g', b'Female', 19)]\n"
          ],
          "name": "stdout"
        }
      ]
    },
    {
      "cell_type": "code",
      "metadata": {
        "colab": {
          "base_uri": "https://localhost:8080/"
        },
        "id": "37bRaRAzVO-Q",
        "outputId": "6a75b11c-3faa-441a-abb6-a1581316501f"
      },
      "source": [
        "data.sort(order='name')\n",
        "print(data)"
      ],
      "id": "37bRaRAzVO-Q",
      "execution_count": 144,
      "outputs": [
        {
          "output_type": "stream",
          "text": [
            "[(b'Ace', b'Ace.data@g', b'Female', 19)\n",
            " (b'Aj', b'Aj.data@gm', b'Male', 19) (b'Hari', b'Hari.data@', b'Male', 23)\n",
            " (b'Nate', b'Nate.data@', b'Female', 24)]\n"
          ],
          "name": "stdout"
        }
      ]
    },
    {
      "cell_type": "code",
      "metadata": {
        "colab": {
          "base_uri": "https://localhost:8080/"
        },
        "id": "VdkxG_AsdYk4",
        "outputId": "81ba42dd-ad71-44e8-ab20-e1c039570402"
      },
      "source": [
        "data.sort(order=['Gender', 'name', 'age'])\n",
        "print(data)"
      ],
      "id": "VdkxG_AsdYk4",
      "execution_count": 148,
      "outputs": [
        {
          "output_type": "stream",
          "text": [
            "[(b'Ace', b'Ace.data@g', b'Female', 19)\n",
            " (b'Nate', b'Nate.data@', b'Female', 24)\n",
            " (b'Aj', b'Aj.data@gm', b'Male', 19) (b'Hari', b'Hari.data@', b'Male', 23)]\n"
          ],
          "name": "stdout"
        }
      ]
    },
    {
      "cell_type": "markdown",
      "metadata": {
        "id": "qhmlqKgReo1v"
      },
      "source": [
        "## Conditional Selection"
      ],
      "id": "qhmlqKgReo1v"
    },
    {
      "cell_type": "code",
      "metadata": {
        "colab": {
          "base_uri": "https://localhost:8080/"
        },
        "id": "S8qjO561drjD",
        "outputId": "c9494a50-7a33-49dc-ed30-b92e50c957c8"
      },
      "source": [
        "numbers = np.random.randn(20)\n",
        "print(numbers)"
      ],
      "id": "S8qjO561drjD",
      "execution_count": 149,
      "outputs": [
        {
          "output_type": "stream",
          "text": [
            "[ 0.49959536 -0.02309631 -0.51714745  0.50880497 -1.29265178 -1.118224\n",
            "  1.69549641 -0.51195127  0.7055102  -1.97930104  1.13465545  1.00165391\n",
            "  0.7935529  -1.26214333  0.67554222 -0.36635897 -0.29088068 -1.22293789\n",
            " -0.6189505   0.2858423 ]\n"
          ],
          "name": "stdout"
        }
      ]
    },
    {
      "cell_type": "code",
      "metadata": {
        "colab": {
          "base_uri": "https://localhost:8080/"
        },
        "id": "BlwI3J_le96w",
        "outputId": "7846e606-89f2-4f94-bdee-3ea46b8d3c18"
      },
      "source": [
        "# Lets make bool array to represent negative and positive elements\n",
        "# negative numbers would ne false and positive would be true\n",
        "\n",
        "sign = numbers > 0\n",
        "print(sign)"
      ],
      "id": "BlwI3J_le96w",
      "execution_count": 150,
      "outputs": [
        {
          "output_type": "stream",
          "text": [
            "[ True False False  True False False  True False  True False  True  True\n",
            "  True False  True False False False False  True]\n"
          ],
          "name": "stdout"
        }
      ]
    },
    {
      "cell_type": "markdown",
      "metadata": {
        "id": "2CF9rFUxQNrX"
      },
      "source": [
        "## Pandas Series"
      ],
      "id": "2CF9rFUxQNrX"
    },
    {
      "cell_type": "code",
      "metadata": {
        "id": "sWhMSY_nfS1Q"
      },
      "source": [
        "import pandas as pd\n",
        "import numpy as np"
      ],
      "id": "sWhMSY_nfS1Q",
      "execution_count": 1,
      "outputs": []
    },
    {
      "cell_type": "code",
      "metadata": {
        "colab": {
          "base_uri": "https://localhost:8080/"
        },
        "id": "OHh60_-bQaqO",
        "outputId": "61a03ea8-966c-4f64-a163-d844f6ba12b3"
      },
      "source": [
        "s = pd.Series([1, 2, 4, 6, 7, 0])\n",
        "print(s)"
      ],
      "id": "OHh60_-bQaqO",
      "execution_count": 2,
      "outputs": [
        {
          "output_type": "stream",
          "text": [
            "0    1\n",
            "1    2\n",
            "2    4\n",
            "3    6\n",
            "4    7\n",
            "5    0\n",
            "dtype: int64\n"
          ],
          "name": "stdout"
        }
      ]
    },
    {
      "cell_type": "code",
      "metadata": {
        "colab": {
          "base_uri": "https://localhost:8080/"
        },
        "id": "vxzUHIw_QsDx",
        "outputId": "ae993794-40c1-4771-b824-4610852f7ada"
      },
      "source": [
        "print('3rd element in series :', s[2])\n",
        "print('2nd last element in series :', s[4])"
      ],
      "id": "vxzUHIw_QsDx",
      "execution_count": 4,
      "outputs": [
        {
          "output_type": "stream",
          "text": [
            "3rd element in series : 4\n",
            "2nd last element in series : 7\n"
          ],
          "name": "stdout"
        }
      ]
    },
    {
      "cell_type": "code",
      "metadata": {
        "colab": {
          "base_uri": "https://localhost:8080/"
        },
        "id": "Bonz2RGKQ_Iu",
        "outputId": "a1e2c78a-462e-42a1-de7f-0826ac864db8"
      },
      "source": [
        "sum = s[3] + s[1]\n",
        "print(sum)"
      ],
      "id": "Bonz2RGKQ_Iu",
      "execution_count": 6,
      "outputs": [
        {
          "output_type": "stream",
          "text": [
            "8\n"
          ],
          "name": "stdout"
        }
      ]
    },
    {
      "cell_type": "code",
      "metadata": {
        "colab": {
          "base_uri": "https://localhost:8080/"
        },
        "id": "vCyDV3c3RjPN",
        "outputId": "785b007c-e7f9-4231-cba5-7fc803b3ace7"
      },
      "source": [
        "data = pd.Series(np.random.randint(0, 51, 7), dtype=str)\n",
        "print(data)"
      ],
      "id": "vCyDV3c3RjPN",
      "execution_count": 7,
      "outputs": [
        {
          "output_type": "stream",
          "text": [
            "0    35\n",
            "1    49\n",
            "2    43\n",
            "3    14\n",
            "4    40\n",
            "5    36\n",
            "6    21\n",
            "dtype: object\n"
          ],
          "name": "stdout"
        }
      ]
    },
    {
      "cell_type": "code",
      "metadata": {
        "colab": {
          "base_uri": "https://localhost:8080/"
        },
        "id": "0GO4elBsSC4n",
        "outputId": "ea6b8637-f427-4f09-9ec5-f552d48397be"
      },
      "source": [
        "indeces = ['Emp. Id', 'Name', 'Post']\n",
        "emp_data = [12.1, 'Nate', 'R4']\n",
        "emp_data_S = pd.Series(data=emp_data, index=indeces)\n",
        "print(emp_data_S)\n"
      ],
      "id": "0GO4elBsSC4n",
      "execution_count": 11,
      "outputs": [
        {
          "output_type": "stream",
          "text": [
            "Emp. Id    12.1\n",
            "Name       Nate\n",
            "Post         R4\n",
            "dtype: object\n"
          ],
          "name": "stdout"
        }
      ]
    },
    {
      "cell_type": "markdown",
      "metadata": {
        "id": "uc4lSOvKTAqj"
      },
      "source": [
        "## Creating Time series\n"
      ],
      "id": "uc4lSOvKTAqj"
    },
    {
      "cell_type": "code",
      "metadata": {
        "id": "Lf_VD5fZTG1b"
      },
      "source": [
        "import pandas as pd\n",
        "import numpy as np"
      ],
      "id": "Lf_VD5fZTG1b",
      "execution_count": 12,
      "outputs": []
    },
    {
      "cell_type": "code",
      "metadata": {
        "colab": {
          "base_uri": "https://localhost:8080/"
        },
        "id": "hBg_qWsMSn7f",
        "outputId": "865cad3b-8707-4d8c-a5fc-b0786d4ed8ed"
      },
      "source": [
        "date = pd.to_datetime(\"22nd of January , 2002\")\n",
        "daily_indeces = date + pd.to_timedelta(np.arange(20), unit='D')\n",
        "data = np.random.randn(20) > 0\n",
        "\n",
        "stock_trend = pd.Series(data=data, index=daily_indeces)\n",
        "print(stock_trend)"
      ],
      "id": "hBg_qWsMSn7f",
      "execution_count": 16,
      "outputs": [
        {
          "output_type": "stream",
          "text": [
            "2002-01-22    False\n",
            "2002-01-23    False\n",
            "2002-01-24    False\n",
            "2002-01-25    False\n",
            "2002-01-26     True\n",
            "2002-01-27     True\n",
            "2002-01-28    False\n",
            "2002-01-29     True\n",
            "2002-01-30    False\n",
            "2002-01-31     True\n",
            "2002-02-01     True\n",
            "2002-02-02    False\n",
            "2002-02-03     True\n",
            "2002-02-04     True\n",
            "2002-02-05     True\n",
            "2002-02-06     True\n",
            "2002-02-07    False\n",
            "2002-02-08     True\n",
            "2002-02-09    False\n",
            "2002-02-10     True\n",
            "dtype: bool\n"
          ],
          "name": "stdout"
        }
      ]
    }
  ]
}