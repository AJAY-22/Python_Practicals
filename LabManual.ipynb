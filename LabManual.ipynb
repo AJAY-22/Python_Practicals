{
  "nbformat": 4,
  "nbformat_minor": 5,
  "metadata": {
    "colab": {
      "name": "LabManual.ipynb",
      "provenance": [],
      "collapsed_sections": [],
      "include_colab_link": true
    },
    "kernelspec": {
      "display_name": "Python 3",
      "language": "python",
      "name": "python3"
    },
    "language_info": {
      "codemirror_mode": {
        "name": "ipython",
        "version": 3
      },
      "file_extension": ".py",
      "mimetype": "text/x-python",
      "name": "python",
      "nbconvert_exporter": "python",
      "pygments_lexer": "ipython3",
      "version": "3.8.8"
    }
  },
  "cells": [
    {
      "cell_type": "markdown",
      "metadata": {
        "id": "view-in-github",
        "colab_type": "text"
      },
      "source": [
        "<a href=\"https://colab.research.google.com/github/AJAY-22/Python_Practicals/blob/main/LabManual.ipynb\" target=\"_parent\"><img src=\"https://colab.research.google.com/assets/colab-badge.svg\" alt=\"Open In Colab\"/></a>"
      ]
    },
    {
      "cell_type": "markdown",
      "metadata": {
        "id": "e901a282"
      },
      "source": [
        "# 1] Intro to Data Types, Operations and conditional statements.\n",
        "---\n"
      ],
      "id": "e901a282"
    },
    {
      "cell_type": "code",
      "metadata": {
        "id": "wjSDc_A4Cmxb",
        "colab": {
          "base_uri": "https://localhost:8080/"
        },
        "outputId": "39663249-e2e5-4ff5-c27f-57460d99968d"
      },
      "source": [
        "from google.colab import drive\n",
        "drive.mount('/content/drive')"
      ],
      "id": "wjSDc_A4Cmxb",
      "execution_count": null,
      "outputs": [
        {
          "output_type": "stream",
          "name": "stdout",
          "text": [
            "Mounted at /content/drive\n"
          ]
        }
      ]
    },
    {
      "cell_type": "markdown",
      "metadata": {
        "id": "641de9d5"
      },
      "source": [
        "## 1.1] Write aprogram to print “Hello World”."
      ],
      "id": "641de9d5"
    },
    {
      "cell_type": "code",
      "metadata": {
        "colab": {
          "base_uri": "https://localhost:8080/"
        },
        "id": "fc75f6d8",
        "outputId": "1ced7678-fa16-41ca-8abe-57bd72640670"
      },
      "source": [
        "# --------------------------------------------\n",
        "print('Program done by : Ajay Pathak\\n' +\n",
        "      'Enrollment No.: 190630107170\\n' +\n",
        "      '=================================\\n\\n\\n')\n",
        "\n",
        "print(\"Hello World\")"
      ],
      "id": "fc75f6d8",
      "execution_count": null,
      "outputs": [
        {
          "output_type": "stream",
          "name": "stdout",
          "text": [
            "Program done by : Ajay Pathak\n",
            "Enrollment No.: 190630107170\n",
            "=================================\n",
            "\n",
            "\n",
            "\n",
            "Hello World\n"
          ]
        }
      ]
    },
    {
      "cell_type": "markdown",
      "metadata": {
        "id": "04b58e0f"
      },
      "source": [
        "## 1.2] Write a program to find maximum number out of 3 numbers.\n"
      ],
      "id": "04b58e0f"
    },
    {
      "cell_type": "code",
      "metadata": {
        "colab": {
          "base_uri": "https://localhost:8080/"
        },
        "id": "67ec5304",
        "outputId": "3c13b55b-5e46-4a36-be38-991384af23fb"
      },
      "source": [
        "# --------------------------------------------\n",
        "print('Program done by : Ajay Pathak\\n' +\n",
        "      'Enrollment No.: 190630107170\\n' +\n",
        "      '=================================\\n\\n\\n')\n",
        "\n",
        "numbers=[11, 34, 5]\n",
        "\n",
        "'''For user input'''\n",
        "for x in range(len(numbers)):\n",
        "    inp = float(input(f'Enter #{x+1} '))\n",
        "    numbers[x] = inp\n",
        "\n",
        "maximum=numbers[0]\n",
        "\n",
        "for x in numbers:\n",
        "    if maximum<x:\n",
        "        maximum=x\n",
        "\n",
        "print(\"Max number is :\" ,maximum)"
      ],
      "id": "67ec5304",
      "execution_count": null,
      "outputs": [
        {
          "output_type": "stream",
          "name": "stdout",
          "text": [
            "Program done by : Ajay Pathak\n",
            "Enrollment No.: 190630107170\n",
            "=================================\n",
            "\n",
            "\n",
            "\n",
            "Enter #1 33\n",
            "Enter #2 10\n",
            "Enter #3 24\n",
            "Max number is : 33.0\n"
          ]
        }
      ]
    },
    {
      "cell_type": "markdown",
      "metadata": {
        "id": "Gi4fLTOyTPSN"
      },
      "source": [
        "## 1.3] Write a program to swap the values of two variables without using temporary variable."
      ],
      "id": "Gi4fLTOyTPSN"
    },
    {
      "cell_type": "code",
      "metadata": {
        "colab": {
          "base_uri": "https://localhost:8080/"
        },
        "id": "Y5bF4wYfTOO2",
        "outputId": "06fb48e8-e71c-4bf2-b9ba-6a6285451905"
      },
      "source": [
        "# --------------------------------------------\n",
        "print('Program done by : Ajay Pathak\\n' +\n",
        "      'Enrollment No.: 190630107170\\n' +\n",
        "      '=================================\\n\\n\\n')\n",
        "\n",
        "\n",
        "a, b = 1, 2\n",
        "print('Before swapping \\na :', a, '\\nb :', b)\n",
        "a, b = b, a\n",
        "print('\\nAfter swapping \\na :', a, '\\nb :', b)"
      ],
      "id": "Y5bF4wYfTOO2",
      "execution_count": null,
      "outputs": [
        {
          "output_type": "stream",
          "name": "stdout",
          "text": [
            "Program done by : Ajay Pathak\n",
            "Enrollment No.: 190630107170\n",
            "=================================\n",
            "\n",
            "\n",
            "\n",
            "Before swapping \n",
            "a : 1 \n",
            "b : 2\n",
            "\n",
            "After swapping \n",
            "a : 2 \n",
            "b : 1\n"
          ]
        }
      ]
    },
    {
      "cell_type": "markdown",
      "metadata": {
        "id": "V2vGfao0U27G"
      },
      "source": [
        "## 1.4] Write a program to implement calculator."
      ],
      "id": "V2vGfao0U27G"
    },
    {
      "cell_type": "code",
      "metadata": {
        "id": "52XUuYd3U-1G",
        "colab": {
          "base_uri": "https://localhost:8080/"
        },
        "outputId": "63a82698-3e4c-4af0-d172-fd7d860766fa"
      },
      "source": [
        "# --------------------------------------------\n",
        "print('Program done by : Ajay Pathak\\n' +\n",
        "      'Enrollment No.: 190630107170\\n' +\n",
        "      '=================================\\n\\n\\n')\n",
        "\n",
        "\n",
        "while True:\n",
        "    print('1) Add\\n2) Subtract\\n3) Multiply\\n4) Divide\\n5) Exit')\n",
        "    choice = int(input('Enter your choice '))\n",
        "    \n",
        "    \n",
        "    if choice in [1, 2, 3, 4]:\n",
        "        if choice is 1:\n",
        "            print('ADDITION\\n')\n",
        "            a = int(input('Enter number '))\n",
        "            b = int(input('Enter number '))\n",
        "            print(a, '+', b, '=', a+b)\n",
        "        \n",
        "        if choice is 2:\n",
        "            print('SUBTRACTION\\n')\n",
        "            a = int(input('Enter number '))\n",
        "            b = int(input('Enter number '))\n",
        "            print(a, '-', b, '=', a-b)\n",
        "\n",
        "        if choice is 3:\n",
        "            print('MULTIPLICATION\\n')\n",
        "            a = int(input('Enter number '))\n",
        "            b = int(input('Enter number '))\n",
        "            print(a, '*', b, '=', a*b)\n",
        "        \n",
        "        if choice is 4:\n",
        "            print('DIVISION\\n')\n",
        "            a = int(input('Enter number '))\n",
        "            b = int(input('Enter number '))\n",
        "            print(a, '/', b, '=', a/b)\n",
        "\n",
        "    elif choice is 5:\n",
        "        break\n",
        "    else:\n",
        "        print('Invalid Input\\n')"
      ],
      "id": "52XUuYd3U-1G",
      "execution_count": null,
      "outputs": [
        {
          "name": "stdout",
          "output_type": "stream",
          "text": [
            "Program done by : Ajay Pathak\n",
            "Enrollment No.: 190630107170\n",
            "=================================\n",
            "\n",
            "\n",
            "\n",
            "1) Add\n",
            "2) Subtract\n",
            "3) Multiply\n",
            "4) Divide\n",
            "5) Exit\n",
            "Enter your choice 1\n",
            "ADDITION\n",
            "\n",
            "Enter number 22\n",
            "Enter number 16\n",
            "22 + 16 = 38\n",
            "1) Add\n",
            "2) Subtract\n",
            "3) Multiply\n",
            "4) Divide\n",
            "5) Exit\n",
            "Enter your choice 2\n",
            "SUBTRACTION\n",
            "\n",
            "Enter number 20\n",
            "Enter number 1\n",
            "20 - 1 = 19\n",
            "1) Add\n",
            "2) Subtract\n",
            "3) Multiply\n",
            "4) Divide\n",
            "5) Exit\n",
            "Enter your choice 3\n",
            "MULTIPLICATION\n",
            "\n",
            "Enter number 4\n",
            "Enter number 5\n",
            "4 * 5 = 20\n",
            "1) Add\n",
            "2) Subtract\n",
            "3) Multiply\n",
            "4) Divide\n",
            "5) Exit\n",
            "Enter your choice 4\n",
            "DIVISION\n",
            "\n",
            "Enter number 10\n",
            "Enter number 2\n",
            "10 / 2 = 5.0\n",
            "1) Add\n",
            "2) Subtract\n",
            "3) Multiply\n",
            "4) Divide\n",
            "5) Exit\n",
            "Enter your choice 5\n"
          ]
        }
      ]
    },
    {
      "cell_type": "markdown",
      "metadata": {
        "id": "0e25ad7a"
      },
      "source": [
        "## 1.5] Write a Python program to calculate the sum of the digits in an integer."
      ],
      "id": "0e25ad7a"
    },
    {
      "cell_type": "code",
      "metadata": {
        "colab": {
          "base_uri": "https://localhost:8080/"
        },
        "id": "4255e276",
        "outputId": "2181cce4-9561-409f-853c-76fa933361ea"
      },
      "source": [
        "# --------------------------------------------\n",
        "print('Program done by : Ajay Pathak\\n' +\n",
        "      'Enrollment No.: 190630107170\\n' +\n",
        "      '=================================\\n\\n\\n')\n",
        "\n",
        "\n",
        "num = int(input(\"Your number (must be 4 digit) : \"))\n",
        "x = num//1000\n",
        "x1 = (num - x*1000)//100\n",
        "x2 = (num - x*1000 - x1*100)//10\n",
        "x3 = (num - x*1000 - x1*100 - x2*10)\n",
        "\n",
        "print(f'sum of number\\'s digits : {x+x1+x2+x3}')"
      ],
      "id": "4255e276",
      "execution_count": null,
      "outputs": [
        {
          "output_type": "stream",
          "name": "stdout",
          "text": [
            "Program done by : Ajay Pathak\n",
            "Enrollment No.: 190630107170\n",
            "=================================\n",
            "\n",
            "\n",
            "\n",
            "Your number (must be 4 digit) : 5476\n",
            "sum of number's digits : 22\n"
          ]
        }
      ]
    },
    {
      "cell_type": "markdown",
      "metadata": {
        "id": "mb9Hk5VEH3es"
      },
      "source": [
        "# 2] Introduction to Control Structures and Functions\n",
        "---"
      ],
      "id": "mb9Hk5VEH3es"
    },
    {
      "cell_type": "markdown",
      "metadata": {
        "id": "36yjufR5H7aJ"
      },
      "source": [
        "## 2.1] Write  a  program  to  find factorial  of  a  given  number  using  iterative  and recursive function."
      ],
      "id": "36yjufR5H7aJ"
    },
    {
      "cell_type": "markdown",
      "metadata": {
        "id": "uflJzvqHXG23"
      },
      "source": [
        "### 2.1.1] Iterative method to find factorial of given number."
      ],
      "id": "uflJzvqHXG23"
    },
    {
      "cell_type": "code",
      "metadata": {
        "colab": {
          "base_uri": "https://localhost:8080/"
        },
        "id": "PR70anV1IsLo",
        "outputId": "7bf6e8a2-126a-45c3-b4bb-575cf3c67504"
      },
      "source": [
        "# --------------------------------------------\n",
        "print('Program done by : Ajay Pathak\\n' +\n",
        "      'Enrollment No.: 190630107170\\n' +\n",
        "      '=================================\\n\\n\\n')\n",
        "\n",
        "\n",
        "n=int(input(\"Enter Number : \"))\n",
        "fact=1\n",
        "\n",
        "while(n>0):\n",
        "  fact*=n\n",
        "  n-=1\n",
        "\n",
        "print(fact)"
      ],
      "id": "PR70anV1IsLo",
      "execution_count": null,
      "outputs": [
        {
          "output_type": "stream",
          "name": "stdout",
          "text": [
            "Program done by : Ajay Pathak\n",
            "Enrollment No.: 190630107170\n",
            "=================================\n",
            "\n",
            "\n",
            "\n",
            "Enter Number : 5\n",
            "120\n"
          ]
        }
      ]
    },
    {
      "cell_type": "markdown",
      "metadata": {
        "id": "bzN_7QyVXSRn"
      },
      "source": [
        "### 2.1.2] Recursive method to find factorial of given number."
      ],
      "id": "bzN_7QyVXSRn"
    },
    {
      "cell_type": "code",
      "metadata": {
        "colab": {
          "base_uri": "https://localhost:8080/"
        },
        "id": "c6Xu2WnaXa_u",
        "outputId": "0f8e53dd-1381-4077-f863-536bff04c979"
      },
      "source": [
        "# --------------------------------------------\n",
        "print('Program done by : Ajay Pathak\\n' +\n",
        "      'Enrollment No.: 190630107170\\n' +\n",
        "      '=================================\\n\\n\\n')\n",
        "\n",
        "\n",
        "n=int(input('Enter number : '))\n",
        "\n",
        "def find_fac(num):\n",
        "  if num==0:\n",
        "    return 1\n",
        "  else:\n",
        "    return num*find_fac(num-1)\n",
        "\n",
        "print(find_fac(n))"
      ],
      "id": "c6Xu2WnaXa_u",
      "execution_count": null,
      "outputs": [
        {
          "output_type": "stream",
          "name": "stdout",
          "text": [
            "Program done by : Ajay Pathak\n",
            "Enrollment No.: 190630107170\n",
            "=================================\n",
            "\n",
            "\n",
            "\n",
            "Enter number : 5\n",
            "120\n"
          ]
        }
      ]
    },
    {
      "cell_type": "markdown",
      "metadata": {
        "id": "PvslmRI5H7NN"
      },
      "source": [
        "## 2.2] Write a program to check whether a given number is prime or not."
      ],
      "id": "PvslmRI5H7NN"
    },
    {
      "cell_type": "code",
      "metadata": {
        "colab": {
          "base_uri": "https://localhost:8080/"
        },
        "id": "gS2xkq9EX6R_",
        "outputId": "40740e00-9c5d-4b0f-935c-3fabd512b988"
      },
      "source": [
        "# --------------------------------------------\n",
        "print('Program done by : Ajay Pathak\\n' +\n",
        "      'Enrollment No.: 190630107170\\n' +\n",
        "      '=================================\\n\\n\\n')\n",
        "\n",
        "\n",
        "n=int(input('Enter Number :'))\n",
        "\n",
        "def is_prime(num):\n",
        "  flag=0\n",
        "  for x in range(1, num+1):\n",
        "    if num%x==0:\n",
        "      flag+=1\n",
        "\n",
        "  if flag==2:\n",
        "    print(num, 'is Prime')\n",
        "  else:\n",
        "    print(num, 'is not prime')\n",
        "\n",
        "is_prime(n)\n"
      ],
      "id": "gS2xkq9EX6R_",
      "execution_count": null,
      "outputs": [
        {
          "output_type": "stream",
          "name": "stdout",
          "text": [
            "Program done by : Ajay Pathak\n",
            "Enrollment No.: 190630107170\n",
            "=================================\n",
            "\n",
            "\n",
            "\n",
            "Enter Number :5\n",
            "5 is Prime\n"
          ]
        }
      ]
    },
    {
      "cell_type": "markdown",
      "metadata": {
        "id": "F9Qzw33rH7CN"
      },
      "source": [
        "## 2.3] Write a program to print Fibonacci series upto n. "
      ],
      "id": "F9Qzw33rH7CN"
    },
    {
      "cell_type": "code",
      "metadata": {
        "id": "F6LAyLh8ZBqW",
        "colab": {
          "base_uri": "https://localhost:8080/"
        },
        "outputId": "c1569c64-1744-49ec-e9e7-18fce47f0ca9"
      },
      "source": [
        "# --------------------------------------------\n",
        "print('Program done by : Ajay Pathak\\n' +\n",
        "      'Enrollment No.: 190630107170\\n' +\n",
        "      '=================================\\n\\n\\n')\n",
        "\n",
        "\n",
        "n = int(input(\"How many terms? \"))\n",
        "\n",
        "a, b = 0, 1\n",
        "count = 0\n",
        "\n",
        "if n <= 0:\n",
        "   print(\"Please enter a positive integer\")\n",
        "elif n == 1:\n",
        "   print(a)\n",
        "else:\n",
        "   while count < n:\n",
        "       print(a)\n",
        "       c = a + b\n",
        "       a = b\n",
        "       b = c\n",
        "       count += 1"
      ],
      "id": "F6LAyLh8ZBqW",
      "execution_count": null,
      "outputs": [
        {
          "output_type": "stream",
          "name": "stdout",
          "text": [
            "Program done by : Ajay Pathak\n",
            "Enrollment No.: 190630107170\n",
            "=================================\n",
            "\n",
            "\n",
            "\n",
            "How many terms? 5\n",
            "0\n",
            "1\n",
            "1\n",
            "2\n",
            "3\n"
          ]
        }
      ]
    },
    {
      "cell_type": "markdown",
      "metadata": {
        "id": "W8eMsjfLH5T5"
      },
      "source": [
        "## 2.4] Write a program which takes a sentence from user and calculates number of digits, letters, uppercase letters, lowercase letter and spaces in sentence."
      ],
      "id": "W8eMsjfLH5T5"
    },
    {
      "cell_type": "code",
      "metadata": {
        "colab": {
          "base_uri": "https://localhost:8080/"
        },
        "id": "uV4BPrE8Sgst",
        "outputId": "14164af7-d86a-4d08-a5f1-b7ad3ab65885"
      },
      "source": [
        "# --------------------------------------------\n",
        "print('Program done by : Ajay Pathak\\n' +\n",
        "      'Enrollment No.: 190630107170\\n' +\n",
        "      '=================================\\n\\n\\n')\n",
        "\n",
        "\n",
        "def Count(str):\n",
        "    upper, lower, digit, space = 0, 0, 0, 0\n",
        "    for i in range(len(str)):\n",
        "        if str[i].isupper():\n",
        "          upper += 1\n",
        "        elif str[i].islower():\n",
        "          lower += 1\n",
        "        elif str[i].isdigit():\n",
        "          digit += 1\n",
        "        elif str[i] == ' ':\n",
        "          space += 1\n",
        "    print('Total letters:', upper + lower)\n",
        "    print('Upper case letters:', upper)\n",
        "    print('Lower case letters:', lower)\n",
        "    print('Number of digits:',digit)\n",
        "    print('Spaces :', space)\n",
        "\n",
        "teststr = str(input('enter string :\\n')) \n",
        "Count(teststr)"
      ],
      "id": "uV4BPrE8Sgst",
      "execution_count": null,
      "outputs": [
        {
          "output_type": "stream",
          "name": "stdout",
          "text": [
            "Program done by : Ajay Pathak\n",
            "Enrollment No.: 190630107170\n",
            "=================================\n",
            "\n",
            "\n",
            "\n",
            "enter string :\n",
            "Try Reversing this string\n",
            "Total letters: 22\n",
            "Upper case letters: 2\n",
            "Lower case letters: 20\n",
            "Number of digits: 0\n",
            "Spaces : 3\n"
          ]
        }
      ]
    },
    {
      "cell_type": "markdown",
      "metadata": {
        "id": "skVkzQOlIpXF"
      },
      "source": [
        "## 2.5] Reversing a given string."
      ],
      "id": "skVkzQOlIpXF"
    },
    {
      "cell_type": "code",
      "metadata": {
        "colab": {
          "base_uri": "https://localhost:8080/"
        },
        "id": "yn6g7_SuUD3G",
        "outputId": "8507da4f-9750-4e56-b3e7-f6b1212b2897"
      },
      "source": [
        "# --------------------------------------------\n",
        "print('Program done by : Ajay Pathak\\n' +\n",
        "      'Enrollment No.: 190630107170\\n' +\n",
        "      '=================================\\n\\n\\n')\n",
        "\n",
        "str_to_reverse = str(input('Enter String : \\n'))\n",
        "print('original string : \\n', str_to_reverse)\n",
        "print('Reveresed string : \\n', str_to_reverse[::-1])"
      ],
      "id": "yn6g7_SuUD3G",
      "execution_count": null,
      "outputs": [
        {
          "output_type": "stream",
          "name": "stdout",
          "text": [
            "Program done by : Ajay Pathak\n",
            "Enrollment No.: 190630107170\n",
            "=================================\n",
            "\n",
            "\n",
            "\n",
            "Enter String : \n",
            "Reverse this\n",
            "original string : \n",
            " Reverse this\n",
            "Reveresed string : \n",
            " siht esreveR\n"
          ]
        }
      ]
    },
    {
      "cell_type": "markdown",
      "metadata": {
        "id": "EOWKS-VbSXqP"
      },
      "source": [
        "# 3] Study of List and Tuple\n",
        "---"
      ],
      "id": "EOWKS-VbSXqP"
    },
    {
      "cell_type": "markdown",
      "metadata": {
        "id": "M1uVnqs0T3I_"
      },
      "source": [
        "## 3.1] Write a program to remove duplicates from list."
      ],
      "id": "M1uVnqs0T3I_"
    },
    {
      "cell_type": "code",
      "metadata": {
        "colab": {
          "base_uri": "https://localhost:8080/"
        },
        "id": "SMY9f_M1VR0K",
        "outputId": "3bfeefcf-9786-4895-cbf2-93725f0cc95a"
      },
      "source": [
        "# --------------------------------------------\n",
        "print('Program done by : Ajay Pathak\\n' +\n",
        "      'Enrollment No.: 190630107170\\n' +\n",
        "      '=================================\\n\\n\\n')\n",
        "\n",
        "\n",
        "myList = ['One', 'two', 'two', 'three', 'three', 'three', 'four']\n",
        "unique = []\n",
        "\n",
        "print('original list :', myList)\n",
        "\n",
        "for el in myList:\n",
        "    if el not in unique:\n",
        "        unique.append(el)\n",
        "\n",
        "print('without duplicates :', unique)"
      ],
      "id": "SMY9f_M1VR0K",
      "execution_count": null,
      "outputs": [
        {
          "output_type": "stream",
          "name": "stdout",
          "text": [
            "Program done by : Ajay Pathak\n",
            "Enrollment No.: 190630107170\n",
            "=================================\n",
            "\n",
            "\n",
            "\n",
            "original list : ['One', 'two', 'two', 'three', 'three', 'three', 'four']\n",
            "without duplicates : ['One', 'two', 'three', 'four']\n"
          ]
        }
      ]
    },
    {
      "cell_type": "markdown",
      "metadata": {
        "id": "xJGj_yaQUF0m"
      },
      "source": [
        "## 3.2] Write a program to find frequency of elements of list."
      ],
      "id": "xJGj_yaQUF0m"
    },
    {
      "cell_type": "code",
      "metadata": {
        "colab": {
          "base_uri": "https://localhost:8080/"
        },
        "id": "Vukn4LokVSQH",
        "outputId": "49bca7de-8da8-4909-aaf8-d385f8f32240"
      },
      "source": [
        "# --------------------------------------------\n",
        "print('Program done by : Ajay Pathak\\n' +\n",
        "      'Enrollment No.: 190630107170\\n' +\n",
        "      '=================================\\n\\n\\n')\n",
        "\n",
        "\n",
        "my_list = [7, 2, 6, 5, 8, 7, 8, 3, 2, 3]\n",
        "unique = []\n",
        "for el in my_list:\n",
        "    if el not in unique:\n",
        "        unique.append(el)\n",
        "\n",
        "for el in unique:\n",
        "    print('Frequency of ', el, 'in my_list :', my_list.count(el))"
      ],
      "id": "Vukn4LokVSQH",
      "execution_count": null,
      "outputs": [
        {
          "output_type": "stream",
          "name": "stdout",
          "text": [
            "Program done by : Ajay Pathak\n",
            "Enrollment No.: 190630107170\n",
            "=================================\n",
            "\n",
            "\n",
            "\n",
            "Frequency of  7 in my_list : 2\n",
            "Frequency of  2 in my_list : 2\n",
            "Frequency of  6 in my_list : 1\n",
            "Frequency of  5 in my_list : 1\n",
            "Frequency of  8 in my_list : 2\n",
            "Frequency of  3 in my_list : 2\n"
          ]
        }
      ]
    },
    {
      "cell_type": "markdown",
      "metadata": {
        "id": "rwiZeFm-UJz9"
      },
      "source": [
        "## 3.3] Write a program to sort given list."
      ],
      "id": "rwiZeFm-UJz9"
    },
    {
      "cell_type": "code",
      "metadata": {
        "colab": {
          "base_uri": "https://localhost:8080/"
        },
        "id": "X1X4_rGfVTDv",
        "outputId": "3ab19615-0756-46a1-973d-485215883537"
      },
      "source": [
        "# --------------------------------------------\n",
        "print('Program done by : Ajay Pathak\\n' +\n",
        "      'Enrollment No.: 190630107170\\n' +\n",
        "      '=================================\\n\\n\\n')\n",
        "\n",
        "\n",
        "print('Original :', my_list)\n",
        "my_list.sort()\n",
        "print('Ascending :', my_list)\n",
        "print('Descending :', my_list[::-1])"
      ],
      "id": "X1X4_rGfVTDv",
      "execution_count": null,
      "outputs": [
        {
          "output_type": "stream",
          "name": "stdout",
          "text": [
            "Program done by : Ajay Pathak\n",
            "Enrollment No.: 190630107170\n",
            "=================================\n",
            "\n",
            "\n",
            "\n",
            "Original : [7, 2, 6, 5, 8, 7, 8, 3, 2, 3]\n",
            "Ascending : [2, 2, 3, 3, 5, 6, 7, 7, 8, 8]\n",
            "Descending : [8, 8, 7, 7, 6, 5, 3, 3, 2, 2]\n"
          ]
        }
      ]
    },
    {
      "cell_type": "markdown",
      "metadata": {
        "id": "iLTcgIGLUK1W"
      },
      "source": [
        "## 3.4] Write a program to find minimum and maximum value in list of tuples."
      ],
      "id": "iLTcgIGLUK1W"
    },
    {
      "cell_type": "code",
      "metadata": {
        "colab": {
          "base_uri": "https://localhost:8080/"
        },
        "id": "UfQ-HKMLVTfP",
        "outputId": "a055fd84-de75-475a-d1b7-c7c01b6a3c61"
      },
      "source": [
        "# --------------------------------------------\n",
        "print('Program done by : Ajay Pathak\\n' +\n",
        "      'Enrollment No.: 190630107170\\n' +\n",
        "      '=================================\\n\\n\\n')\n",
        "\n",
        "my_tuple_list = [(22, 1), (16, 3), (27, 11), (29, 9)]\n",
        "print('Original list :', my_tuple_list)\n",
        "\n",
        "zeroth = [tup[0] for tup in my_tuple_list]\n",
        "first = [tup[1] for tup in my_tuple_list]\n",
        "\n",
        "res1 = min(zeroth), max(zeroth)\n",
        "res2 = min(first), max(first)\n",
        "print('\\nmin at 0th index of tuples :', res1[0], '\\nmax at 0th index of tuples :', res1[1])\n",
        "print('\\nmin at 1st index of tuples :', res2[0], '\\nmax at 1st index of tuples :', res2[1])"
      ],
      "id": "UfQ-HKMLVTfP",
      "execution_count": null,
      "outputs": [
        {
          "output_type": "stream",
          "name": "stdout",
          "text": [
            "Program done by : Ajay Pathak\n",
            "Enrollment No.: 190630107170\n",
            "=================================\n",
            "\n",
            "\n",
            "\n",
            "Original list : [(22, 1), (16, 3), (27, 11), (29, 9)]\n",
            "\n",
            "min at 0th index of tuples : 16 \n",
            "max at 0th index of tuples : 29\n",
            "\n",
            "min at 1st index of tuples : 1 \n",
            "max at 1st index of tuples : 11\n"
          ]
        }
      ]
    },
    {
      "cell_type": "markdown",
      "metadata": {
        "id": "7vxWBY1YUNle"
      },
      "source": [
        "## 3.5] Write a program to remove an element from tuple. "
      ],
      "id": "7vxWBY1YUNle"
    },
    {
      "cell_type": "code",
      "metadata": {
        "colab": {
          "base_uri": "https://localhost:8080/"
        },
        "id": "8IBRVvcaVUD2",
        "outputId": "613611be-57c8-409d-ed1f-790d1c987a1a"
      },
      "source": [
        "# --------------------------------------------\n",
        "print('Program done by : Ajay Pathak\\n' +\n",
        "      'Enrollment No.: 190630107170\\n' +\n",
        "      '=================================\\n\\n\\n')\n",
        "\n",
        "myTuple = ('one', 'two', 'three', 'four', 'four', 'five')\n",
        "print(myTuple)"
      ],
      "id": "8IBRVvcaVUD2",
      "execution_count": null,
      "outputs": [
        {
          "output_type": "stream",
          "name": "stdout",
          "text": [
            "Program done by : Ajay Pathak\n",
            "Enrollment No.: 190630107170\n",
            "=================================\n",
            "\n",
            "\n",
            "\n",
            "('one', 'two', 'three', 'four', 'four', 'five')\n"
          ]
        }
      ]
    },
    {
      "cell_type": "code",
      "metadata": {
        "colab": {
          "base_uri": "https://localhost:8080/"
        },
        "id": "5hS1v6zdWgqu",
        "outputId": "c59fb2da-a4f3-49b9-b103-becdfaeeb66f"
      },
      "source": [
        "# --------------------------------------------\n",
        "print('Program done by : Ajay Pathak\\n' +\n",
        "      'Enrollment No.: 190630107170\\n' +\n",
        "      '=================================\\n\\n\\n')\n",
        "\n",
        "# Removing element using slicing\n",
        "myTuple = myTuple[:3] + myTuple[4:]\n",
        "print(myTuple)"
      ],
      "id": "5hS1v6zdWgqu",
      "execution_count": null,
      "outputs": [
        {
          "output_type": "stream",
          "name": "stdout",
          "text": [
            "Program done by : Ajay Pathak\n",
            "Enrollment No.: 190630107170\n",
            "=================================\n",
            "\n",
            "\n",
            "\n",
            "('one', 'two', 'three', 'four', 'five')\n"
          ]
        }
      ]
    },
    {
      "cell_type": "code",
      "metadata": {
        "colab": {
          "base_uri": "https://localhost:8080/"
        },
        "id": "8yw3wi7zXDqX",
        "outputId": "5e77cb9f-cf06-4e83-f775-3124b54e0658"
      },
      "source": [
        "# --------------------------------------------\n",
        "print('Program done by : Ajay Pathak\\n' +\n",
        "      'Enrollment No.: 190630107170\\n' +\n",
        "      '=================================\\n\\n\\n')\n",
        "\n",
        "# Removing using typecast\n",
        "myList = list(myTuple)\n",
        "myList.remove('four')\n",
        "myTuple = myList\n",
        "print(myTuple)"
      ],
      "id": "8yw3wi7zXDqX",
      "execution_count": null,
      "outputs": [
        {
          "output_type": "stream",
          "name": "stdout",
          "text": [
            "Program done by : Ajay Pathak\n",
            "Enrollment No.: 190630107170\n",
            "=================================\n",
            "\n",
            "\n",
            "\n",
            "['one', 'two', 'three', 'five']\n"
          ]
        }
      ]
    },
    {
      "cell_type": "markdown",
      "metadata": {
        "id": "3fMQz0OZKDOS"
      },
      "source": [
        "# 4] Study of Dictionary\n",
        "---"
      ],
      "id": "3fMQz0OZKDOS"
    },
    {
      "cell_type": "markdown",
      "metadata": {
        "id": "bjFBjPO1KOoV"
      },
      "source": [
        "## 4.1] Write a program to map 2 lists into a dictionary."
      ],
      "id": "bjFBjPO1KOoV"
    },
    {
      "cell_type": "code",
      "metadata": {
        "colab": {
          "base_uri": "https://localhost:8080/"
        },
        "id": "8kSHroZpKQlK",
        "outputId": "73277246-0632-41b4-834f-053c4d7db2f9"
      },
      "source": [
        "# --------------------------------------------\n",
        "print('Program done by : Ajay Pathak\\n' +\n",
        "      'Enrollment No.: 190630107170\\n' +\n",
        "      '=================================\\n\\n\\n')\n",
        "\n",
        "\n",
        "l1 = [1, 2, 3, 4, 5]\n",
        "l2 = ['one', 'two', 'three', 'four', 'five']\n",
        "\n",
        "d1 = dict(zip(l1, l2))\n",
        "\n",
        "print(d1)\n"
      ],
      "id": "8kSHroZpKQlK",
      "execution_count": null,
      "outputs": [
        {
          "output_type": "stream",
          "name": "stdout",
          "text": [
            "Program done by : Ajay Pathak\n",
            "Enrollment No.: 190630107170\n",
            "=================================\n",
            "\n",
            "\n",
            "\n",
            "{1: 'one', 2: 'two', 3: 'three', 4: 'four', 5: 'five'}\n"
          ]
        }
      ]
    },
    {
      "cell_type": "markdown",
      "metadata": {
        "id": "EfLaec0VKSCR"
      },
      "source": [
        "## 4.2] Write  a  program  to  generate  dictionary  of  frequency  of  alphabets  of  given string."
      ],
      "id": "EfLaec0VKSCR"
    },
    {
      "cell_type": "code",
      "metadata": {
        "colab": {
          "base_uri": "https://localhost:8080/"
        },
        "id": "xGuyYXiMKTnP",
        "outputId": "e16980d3-9a67-44bf-f44d-d086a38a78c3"
      },
      "source": [
        "# --------------------------------------------\n",
        "print('Program done by : Ajay Pathak\\n' +\n",
        "      'Enrollment No.: 190630107170\\n' +\n",
        "      '=================================\\n\\n\\n')\n",
        "\n",
        "string = str(input(\"Enter string : \"))\n",
        "keys = []\n",
        "values = []\n",
        "\n",
        "for el in string:\n",
        "    if el not in keys:\n",
        "        keys.append(el)\n",
        "        values.append(string.count(el))\n",
        "\n",
        "d1 = dict(zip(keys, values))\n",
        "print(d1)"
      ],
      "id": "xGuyYXiMKTnP",
      "execution_count": null,
      "outputs": [
        {
          "output_type": "stream",
          "name": "stdout",
          "text": [
            "Program done by : Ajay Pathak\n",
            "Enrollment No.: 190630107170\n",
            "=================================\n",
            "\n",
            "\n",
            "\n",
            "Enter string : Ajay Pathak\n",
            "{'A': 1, 'j': 1, 'a': 3, 'y': 1, ' ': 1, 'P': 1, 't': 1, 'h': 1, 'k': 1}\n"
          ]
        }
      ]
    },
    {
      "cell_type": "markdown",
      "metadata": {
        "id": "Z7nQMoimKUKA"
      },
      "source": [
        "## 4.3] Write a Python program to sum all the items in a dictionary."
      ],
      "id": "Z7nQMoimKUKA"
    },
    {
      "cell_type": "code",
      "metadata": {
        "colab": {
          "base_uri": "https://localhost:8080/"
        },
        "id": "88t0cgVjKWUC",
        "outputId": "764a950d-9223-4438-a9ee-4b78173143f4"
      },
      "source": [
        "# --------------------------------------------\n",
        "print('Program done by : Ajay Pathak\\n' +\n",
        "      'Enrollment No.: 190630107170\\n' +\n",
        "      '=================================\\n\\n\\n')\n",
        "\n",
        "d1 = {'hundred': 100, 'sixty': -60, 'twenty': -20, 'two': 2}\n",
        "vals = d1.values()\n",
        "total_sum = sum(vals)\n",
        "print(total_sum)"
      ],
      "id": "88t0cgVjKWUC",
      "execution_count": null,
      "outputs": [
        {
          "output_type": "stream",
          "name": "stdout",
          "text": [
            "Program done by : Ajay Pathak\n",
            "Enrollment No.: 190630107170\n",
            "=================================\n",
            "\n",
            "\n",
            "\n",
            "22\n"
          ]
        }
      ]
    },
    {
      "cell_type": "markdown",
      "metadata": {
        "id": "nIQOuY3jKXHZ"
      },
      "source": [
        "## 4.4]Create a dictionary where keys are name of students and values are another dictionary containing semester, age and cpi of that student. \n"
      ],
      "id": "nIQOuY3jKXHZ"
    },
    {
      "cell_type": "code",
      "metadata": {
        "id": "quG9SXhbKYjb",
        "colab": {
          "base_uri": "https://localhost:8080/"
        },
        "outputId": "b3959ffd-f2bc-4f6c-b531-098836c67e0b"
      },
      "source": [
        "# --------------------------------------------\n",
        "print('Program done by : Ajay Pathak\\n' +\n",
        "      'Enrollment No.: 190630107170\\n' +\n",
        "      '=================================\\n\\n\\n')\n",
        "\n",
        "student_info = {'Ak': {'semester': 5,\n",
        "                       'age': 19,\n",
        "                       'cpi': 8.2},\n",
        "                'Aj': {'semester': 5,\n",
        "                       'age': 20,\n",
        "                       'cpi': 9.0}}"
      ],
      "id": "quG9SXhbKYjb",
      "execution_count": null,
      "outputs": [
        {
          "output_type": "stream",
          "name": "stdout",
          "text": [
            "Program done by : Ajay Pathak\n",
            "Enrollment No.: 190630107170\n",
            "=================================\n",
            "\n",
            "\n",
            "\n"
          ]
        }
      ]
    },
    {
      "cell_type": "markdown",
      "metadata": {
        "id": "cgcO_wrLK0r7"
      },
      "source": [
        "### 4.4.1] Print all the names of students."
      ],
      "id": "cgcO_wrLK0r7"
    },
    {
      "cell_type": "code",
      "metadata": {
        "colab": {
          "base_uri": "https://localhost:8080/"
        },
        "id": "EkyqFm13LJhR",
        "outputId": "482b1b4f-5359-4aa8-a323-e92da97157ce"
      },
      "source": [
        "# --------------------------------------------\n",
        "print('Program done by : Ajay Pathak\\n' +\n",
        "      'Enrollment No.: 190630107170\\n' +\n",
        "      '=================================\\n\\n\\n')\n",
        "\n",
        "print(student_info)"
      ],
      "id": "EkyqFm13LJhR",
      "execution_count": null,
      "outputs": [
        {
          "output_type": "stream",
          "name": "stdout",
          "text": [
            "Program done by : Ajay Pathak\n",
            "Enrollment No.: 190630107170\n",
            "=================================\n",
            "\n",
            "\n",
            "\n",
            "{'Ak': {'semester': 5, 'age': 19, 'cpi': 8.2}, 'Aj': {'semester': 5, 'age': 20, 'cpi': 9.0}}\n"
          ]
        }
      ]
    },
    {
      "cell_type": "markdown",
      "metadata": {
        "id": "2BLUu4GtK9eq"
      },
      "source": [
        "### 4.4.2] Print only names of students"
      ],
      "id": "2BLUu4GtK9eq"
    },
    {
      "cell_type": "code",
      "metadata": {
        "colab": {
          "base_uri": "https://localhost:8080/"
        },
        "id": "fjoDzIufLKa3",
        "outputId": "af1a39ae-5ab3-4b1b-f9cb-89579d5dc087"
      },
      "source": [
        "# --------------------------------------------\n",
        "print('Program done by : Ajay Pathak\\n' +\n",
        "      'Enrollment No.: 190630107170\\n' +\n",
        "      '=================================\\n\\n\\n')\n",
        "\n",
        "print(student_info.keys())"
      ],
      "id": "fjoDzIufLKa3",
      "execution_count": null,
      "outputs": [
        {
          "output_type": "stream",
          "name": "stdout",
          "text": [
            "Program done by : Ajay Pathak\n",
            "Enrollment No.: 190630107170\n",
            "=================================\n",
            "\n",
            "\n",
            "\n",
            "dict_keys(['Ak', 'Aj'])\n"
          ]
        }
      ]
    },
    {
      "cell_type": "markdown",
      "metadata": {
        "id": "IAm9UzX3LDRL"
      },
      "source": [
        "### 4.4.3] Print the name of student having highest CPI "
      ],
      "id": "IAm9UzX3LDRL"
    },
    {
      "cell_type": "code",
      "metadata": {
        "colab": {
          "base_uri": "https://localhost:8080/"
        },
        "id": "rj_jbI2mLLG0",
        "outputId": "98f58c4f-c769-4088-edfd-72933006e843"
      },
      "source": [
        "# --------------------------------------------\n",
        "print('Program done by : Ajay Pathak\\n' +\n",
        "      'Enrollment No.: 190630107170\\n' +\n",
        "      '=================================\\n\\n\\n')\n",
        "\n",
        "names = [x for x in student_info]\n",
        "\n",
        "cpis = [student_info.get(name).get('cpi') for name in names]\n",
        "highest = max(cpis)\n",
        "\n",
        "pos = cpis.index(highest)\n",
        "print('Student havning highest cpi :', names[pos])\n"
      ],
      "id": "rj_jbI2mLLG0",
      "execution_count": null,
      "outputs": [
        {
          "output_type": "stream",
          "name": "stdout",
          "text": [
            "Program done by : Ajay Pathak\n",
            "Enrollment No.: 190630107170\n",
            "=================================\n",
            "\n",
            "\n",
            "\n",
            "Student havning highest cpi : Aj\n"
          ]
        }
      ]
    },
    {
      "cell_type": "markdown",
      "metadata": {
        "id": "1n-ZRzuFDUck"
      },
      "source": [
        "## 4.5] Nested Dictionary Practice\n"
      ],
      "id": "1n-ZRzuFDUck"
    },
    {
      "cell_type": "markdown",
      "metadata": {
        "id": "YlXngM1qDuwc"
      },
      "source": [
        "### 4.5.1] Creating a Nested Dictionary"
      ],
      "id": "YlXngM1qDuwc"
    },
    {
      "cell_type": "code",
      "metadata": {
        "colab": {
          "base_uri": "https://localhost:8080/"
        },
        "id": "qawJPvYRDfMR",
        "outputId": "b96dade1-3d83-4528-9cf6-00a8fbb29094"
      },
      "source": [
        "# --------------------------------------------\n",
        "print('Program done by : Ajay Pathak\\n' +\n",
        "      'Enrollment No.: 190630107170\\n' +\n",
        "      '=================================\\n\\n\\n')\n",
        "\n",
        "faculty = {1: {'name': 'Akj', 'contact': 1234567890, 'city': 'city1'},\n",
        "           2: {'name': 'sk', 'contact': 9987654321, 'city': 'city1'},\n",
        "           3: {'name': 'ap', 'contact': 1234509876, 'city': 'city2'}}\n",
        "\n",
        "print(faculty)"
      ],
      "id": "qawJPvYRDfMR",
      "execution_count": null,
      "outputs": [
        {
          "output_type": "stream",
          "name": "stdout",
          "text": [
            "Program done by : Ajay Pathak\n",
            "Enrollment No.: 190630107170\n",
            "=================================\n",
            "\n",
            "\n",
            "\n",
            "{1: {'name': 'Akj', 'contact': 1234567890, 'city': 'city1'}, 2: {'name': 'sk', 'contact': 9987654321, 'city': 'city1'}, 3: {'name': 'ap', 'contact': 1234509876, 'city': 'city2'}}\n"
          ]
        }
      ]
    },
    {
      "cell_type": "markdown",
      "metadata": {
        "id": "ezeKCoMUF2RX"
      },
      "source": [
        "### 4.5.2] Accessing elements"
      ],
      "id": "ezeKCoMUF2RX"
    },
    {
      "cell_type": "code",
      "metadata": {
        "colab": {
          "base_uri": "https://localhost:8080/"
        },
        "id": "2gciLyKOElKm",
        "outputId": "1090daca-aa4d-432e-af0e-5e3d0a5396ca"
      },
      "source": [
        "# --------------------------------------------\n",
        "print('Program done by : Ajay Pathak\\n' +\n",
        "      'Enrollment No.: 190630107170\\n' +\n",
        "      '=================================\\n\\n\\n')\n",
        "\n",
        "print(faculty[1]['name'])\n",
        "print(faculty[2]['contact'])\n",
        "print(faculty[3]['city'])\n",
        "\n",
        "for x in faculty.keys():\n",
        "  print(faculty[x])"
      ],
      "id": "2gciLyKOElKm",
      "execution_count": null,
      "outputs": [
        {
          "output_type": "stream",
          "name": "stdout",
          "text": [
            "Program done by : Ajay Pathak\n",
            "Enrollment No.: 190630107170\n",
            "=================================\n",
            "\n",
            "\n",
            "\n",
            "Akj\n",
            "9987654321\n",
            "city2\n",
            "{'name': 'Akj', 'contact': 1234567890, 'city': 'city1'}\n",
            "{'name': 'sk', 'contact': 9987654321, 'city': 'city1'}\n",
            "{'name': 'ap', 'contact': 1234509876, 'city': 'city2'}\n"
          ]
        }
      ]
    },
    {
      "cell_type": "markdown",
      "metadata": {
        "id": "Q8QAtzaZHCxe"
      },
      "source": [
        "### 4.5.3] Adding element "
      ],
      "id": "Q8QAtzaZHCxe"
    },
    {
      "cell_type": "code",
      "metadata": {
        "colab": {
          "base_uri": "https://localhost:8080/"
        },
        "id": "i5cBqINmGA1K",
        "outputId": "b8f85d14-c079-4e9c-d932-63cd974ebbd2"
      },
      "source": [
        "# --------------------------------------------\n",
        "print('Program done by : Ajay Pathak\\n' +\n",
        "      'Enrollment No.: 190630107170\\n' +\n",
        "      '=================================\\n\\n\\n')\n",
        "\n",
        "faculty[4] = {}\n",
        "faculty[4]['name'] = 'SP'\n",
        "# faculty[4]['contact'] = 5432109876\n",
        "faculty[4]['city'] = 'city2'\n",
        "\n",
        "faculty[5] = {'name': 'LK', 'contact': 5647382910, 'city': 'city2', 'married': 'yes'}\n",
        "\n",
        "for x in faculty.keys():\n",
        "  print(faculty[x])"
      ],
      "id": "i5cBqINmGA1K",
      "execution_count": null,
      "outputs": [
        {
          "output_type": "stream",
          "name": "stdout",
          "text": [
            "Program done by : Ajay Pathak\n",
            "Enrollment No.: 190630107170\n",
            "=================================\n",
            "\n",
            "\n",
            "\n",
            "{'name': 'Akj', 'contact': 1234567890, 'city': 'city1'}\n",
            "{'name': 'sk', 'contact': 9987654321, 'city': 'city1'}\n",
            "{'name': 'ap', 'contact': 1234509876, 'city': 'city2'}\n",
            "{'name': 'SP', 'city': 'city2'}\n",
            "{'name': 'LK', 'contact': 5647382910, 'city': 'city2', 'married': 'yes'}\n"
          ]
        }
      ]
    },
    {
      "cell_type": "markdown",
      "metadata": {
        "id": "6Jf5NmZPLD4H"
      },
      "source": [
        "### 4.5.4] Deleting elemets"
      ],
      "id": "6Jf5NmZPLD4H"
    },
    {
      "cell_type": "code",
      "metadata": {
        "colab": {
          "base_uri": "https://localhost:8080/"
        },
        "id": "Dx5ut8lOHVul",
        "outputId": "435e42d4-4092-4f69-b11d-1299338d9573"
      },
      "source": [
        "# --------------------------------------------\n",
        "print('Program done by : Ajay Pathak\\n' +\n",
        "      'Enrollment No.: 190630107170\\n' +\n",
        "      '=================================\\n\\n\\n')\n",
        "\n",
        "del faculty[5]['married']\n",
        "del faculty[3], faculty[4]\n",
        "\n",
        "for key in faculty.keys():\n",
        "  print(faculty[key])\n"
      ],
      "id": "Dx5ut8lOHVul",
      "execution_count": null,
      "outputs": [
        {
          "output_type": "stream",
          "name": "stdout",
          "text": [
            "Program done by : Ajay Pathak\n",
            "Enrollment No.: 190630107170\n",
            "=================================\n",
            "\n",
            "\n",
            "\n",
            "{'name': 'Akj', 'contact': 1234567890, 'city': 'city1'}\n",
            "{'name': 'sk', 'contact': 9987654321, 'city': 'city1'}\n",
            "{'name': 'LK', 'contact': 5647382910, 'city': 'city2'}\n"
          ]
        }
      ]
    },
    {
      "cell_type": "markdown",
      "metadata": {
        "id": "3cV3wJsdMJvx"
      },
      "source": [
        "### 4.5.5] Iterating through Nested Dictionary"
      ],
      "id": "3cV3wJsdMJvx"
    },
    {
      "cell_type": "code",
      "metadata": {
        "colab": {
          "base_uri": "https://localhost:8080/"
        },
        "id": "cjoXhAsqL4-s",
        "outputId": "900bb88e-9127-46c8-8c57-bbba7a690d67"
      },
      "source": [
        "# --------------------------------------------\n",
        "print('Program done by : Ajay Pathak\\n' +\n",
        "      'Enrollment No.: 190630107170\\n' +\n",
        "      '=================================\\n\\n\\n')\n",
        "\n",
        "for id, value in faculty.items():\n",
        "  print('Faculty ID =', id)\n",
        "\n",
        "  for key in value:\n",
        "    print(key, '=', value[key])\n",
        "  print('\\n')"
      ],
      "id": "cjoXhAsqL4-s",
      "execution_count": null,
      "outputs": [
        {
          "output_type": "stream",
          "name": "stdout",
          "text": [
            "Program done by : Ajay Pathak\n",
            "Enrollment No.: 190630107170\n",
            "=================================\n",
            "\n",
            "\n",
            "\n",
            "Faculty ID = 1\n",
            "name = Akj\n",
            "contact = 1234567890\n",
            "city = city1\n",
            "\n",
            "\n",
            "Faculty ID = 2\n",
            "name = sk\n",
            "contact = 9987654321\n",
            "city = city1\n",
            "\n",
            "\n",
            "Faculty ID = 5\n",
            "name = LK\n",
            "contact = 5647382910\n",
            "city = city2\n",
            "\n",
            "\n"
          ]
        }
      ]
    },
    {
      "cell_type": "markdown",
      "metadata": {
        "id": "VOFe6xdrMkRQ"
      },
      "source": [
        "# 5] Write a python program to explore various types of files (csv, excel etc.) using pandas.\n",
        "---"
      ],
      "id": "VOFe6xdrMkRQ"
    },
    {
      "cell_type": "markdown",
      "metadata": {
        "id": "qNtIUg1sR9Fv"
      },
      "source": [
        "## Importing Pandas and defining data."
      ],
      "id": "qNtIUg1sR9Fv"
    },
    {
      "cell_type": "markdown",
      "metadata": {
        "id": "ZYtxLYmdOj6P"
      },
      "source": [
        "First of all ,\n",
        "\n",
        "To use pandas library, we need to install pandas and import it.\n",
        "\n",
        "Conventionally we use alias 'pd' for pandas library "
      ],
      "id": "ZYtxLYmdOj6P"
    },
    {
      "cell_type": "code",
      "metadata": {
        "id": "GXLqo4NWNeic"
      },
      "source": [
        "import pandas as pd"
      ],
      "id": "GXLqo4NWNeic",
      "execution_count": null,
      "outputs": []
    },
    {
      "cell_type": "markdown",
      "metadata": {
        "id": "698bohGfPKtg"
      },
      "source": [
        "Next cell defines data \n",
        "\n",
        "we are using data of different countries ( such as population, GDP, Continent etc.) "
      ],
      "id": "698bohGfPKtg"
    },
    {
      "cell_type": "code",
      "metadata": {
        "id": "BMKEbbV-Ns6U"
      },
      "source": [
        "contries_data = {\n",
        "    'CHN': {'COUNTRY': 'China', 'POP': 1_398.72, 'AREA': 9_596.96,\n",
        "            'GDP': 12_234.78, 'CONT': 'Asia'},\n",
        "    'IND': {'COUNTRY': 'India', 'POP': 1_351.16, 'AREA': 3_287.26,\n",
        "            'GDP': 2_575.67, 'CONT': 'Asia', 'IND_DAY': '1947-08-15'},\n",
        "    'USA': {'COUNTRY': 'US', 'POP': 329.74, 'AREA': 9_833.52,\n",
        "            'GDP': 19_485.39, 'CONT': 'N.America',\n",
        "            'IND_DAY': '1776-07-04'},\n",
        "    'IDN': {'COUNTRY': 'Indonesia', 'POP': 268.07, 'AREA': 1_910.93,\n",
        "            'GDP': 1_015.54, 'CONT': 'Asia', 'IND_DAY': '1945-08-17'},\n",
        "    'BRA': {'COUNTRY': 'Brazil', 'POP': 210.32, 'AREA': 8_515.77,\n",
        "            'GDP': 2_055.51, 'CONT': 'S.America', 'IND_DAY': '1822-09-07'},\n",
        "    'PAK': {'COUNTRY': 'Pakistan', 'POP': 205.71, 'AREA': 881.91,\n",
        "            'GDP': 302.14, 'CONT': 'Asia', 'IND_DAY': '1947-08-14'},\n",
        "    'NGA': {'COUNTRY': 'Nigeria', 'POP': 200.96, 'AREA': 923.77,\n",
        "            'GDP': 375.77, 'CONT': 'Africa', 'IND_DAY': '1960-10-01'},\n",
        "    'BGD': {'COUNTRY': 'Bangladesh', 'POP': 167.09, 'AREA': 147.57,\n",
        "            'GDP': 245.63, 'CONT': 'Asia', 'IND_DAY': '1971-03-26'},\n",
        "    'RUS': {'COUNTRY': 'Russia', 'POP': 146.79, 'AREA': 17_098.25,\n",
        "            'GDP': 1_530.75, 'IND_DAY': '1992-06-12'},\n",
        "    'MEX': {'COUNTRY': 'Mexico', 'POP': 126.58, 'AREA': 1_964.38,\n",
        "            'GDP': 1_158.23, 'CONT': 'N.America', 'IND_DAY': '1810-09-16'},\n",
        "    'JPN': {'COUNTRY': 'Japan', 'POP': 126.22, 'AREA': 377.97,\n",
        "            'GDP': 4_872.42, 'CONT': 'Asia'},\n",
        "    'DEU': {'COUNTRY': 'Germany', 'POP': 83.02, 'AREA': 357.11,\n",
        "            'GDP': 3_693.20, 'CONT': 'Europe'},\n",
        "    'FRA': {'COUNTRY': 'France', 'POP': 67.02, 'AREA': 640.68,\n",
        "            'GDP': 2_582.49, 'CONT': 'Europe', 'IND_DAY': '1789-07-14'},\n",
        "    'GBR': {'COUNTRY': 'UK', 'POP': 66.44, 'AREA': 242.50,\n",
        "            'GDP': 2_631.23, 'CONT': 'Europe'},\n",
        "    'ITA': {'COUNTRY': 'Italy', 'POP': 60.36, 'AREA': 301.34,\n",
        "            'GDP': 1_943.84, 'CONT': 'Europe'},\n",
        "    'ARG': {'COUNTRY': 'Argentina', 'POP': 44.94, 'AREA': 2_780.40,\n",
        "            'GDP': 637.49, 'CONT': 'S.America', 'IND_DAY': '1816-07-09'},\n",
        "    'DZA': {'COUNTRY': 'Algeria', 'POP': 43.38, 'AREA': 2_381.74,\n",
        "            'GDP': 167.56, 'CONT': 'Africa', 'IND_DAY': '1962-07-05'},\n",
        "    'CAN': {'COUNTRY': 'Canada', 'POP': 37.59, 'AREA': 9_984.67,\n",
        "            'GDP': 1_647.12, 'CONT': 'N.America', 'IND_DAY': '1867-07-01'},\n",
        "    'AUS': {'COUNTRY': 'Australia', 'POP': 25.47, 'AREA': 7_692.02,\n",
        "            'GDP': 1_408.68, 'CONT': 'Oceania'},\n",
        "    'KAZ': {'COUNTRY': 'Kazakhstan', 'POP': 18.53, 'AREA': 2_724.90,\n",
        "            'GDP': 159.41, 'CONT': 'Asia', 'IND_DAY': '1991-12-16'}\n",
        "}\n",
        "\n",
        "columns = ('COUNTRY', 'POP', 'AREA', 'GDP', 'CONT', 'IND_DAY')"
      ],
      "id": "BMKEbbV-Ns6U",
      "execution_count": null,
      "outputs": []
    },
    {
      "cell_type": "markdown",
      "metadata": {
        "id": "6TeOHhtnPoTZ"
      },
      "source": [
        "## Using pandas DataFrame "
      ],
      "id": "6TeOHhtnPoTZ"
    },
    {
      "cell_type": "markdown",
      "metadata": {
        "id": "-myi1ucJPxBR"
      },
      "source": [
        "DataFrame is pandas way of storing and visiualizing data\n",
        "\n",
        "to convert our dictionary ( or any DataStructure ) in pandas DataFrame object , we use ```pd.DataFrame(data_variable_name)```.\n",
        "\n",
        "It returns our data in DataFrame format , so we need to store it in some variable."
      ],
      "id": "-myi1ucJPxBR"
    },
    {
      "cell_type": "code",
      "metadata": {
        "colab": {
          "base_uri": "https://localhost:8080/"
        },
        "id": "ja_y3PsCN2jz",
        "outputId": "55e4331e-316e-40b8-fbf9-eee2a84e75ee"
      },
      "source": [
        "# --------------------------------------------\n",
        "print('Program done by : Ajay Pathak\\n' +\n",
        "      'Enrollment No.: 190630107170\\n' +\n",
        "      '=================================\\n\\n\\n')\n",
        "\n",
        "# We stored our data in 'contries_data' variable\n",
        "# Let's store the returned DataFrame Object in df (DataFrame)\n",
        "df = pd.DataFrame(contries_data)\n",
        "\n",
        "# we can use print function\n",
        "print(df)"
      ],
      "id": "ja_y3PsCN2jz",
      "execution_count": null,
      "outputs": [
        {
          "output_type": "stream",
          "name": "stdout",
          "text": [
            "Program done by : Ajay Pathak\n",
            "Enrollment No.: 190630107170\n",
            "=================================\n",
            "\n",
            "\n",
            "\n",
            "             CHN         IND         USA  ...         CAN        AUS         KAZ\n",
            "COUNTRY    China       India          US  ...      Canada  Australia  Kazakhstan\n",
            "POP      1398.72     1351.16      329.74  ...       37.59      25.47       18.53\n",
            "AREA     9596.96     3287.26     9833.52  ...     9984.67    7692.02      2724.9\n",
            "GDP      12234.8     2575.67     19485.4  ...     1647.12    1408.68      159.41\n",
            "CONT        Asia        Asia   N.America  ...   N.America    Oceania        Asia\n",
            "IND_DAY      NaN  1947-08-15  1776-07-04  ...  1867-07-01        NaN  1991-12-16\n",
            "\n",
            "[6 rows x 20 columns]\n"
          ]
        }
      ]
    },
    {
      "cell_type": "code",
      "metadata": {
        "colab": {
          "base_uri": "https://localhost:8080/",
          "height": 270
        },
        "id": "hOws3-DqOEbS",
        "outputId": "e72b8098-2580-4a9e-ed3b-5448de5e316f"
      },
      "source": [
        "# We are not getting whole data , also representation is not good \n",
        "# Let's use something better\n",
        "# We can directly call our dataframe object and it will print the data \n",
        "df"
      ],
      "id": "hOws3-DqOEbS",
      "execution_count": null,
      "outputs": [
        {
          "output_type": "execute_result",
          "data": {
            "text/html": [
              "<div>\n",
              "<style scoped>\n",
              "    .dataframe tbody tr th:only-of-type {\n",
              "        vertical-align: middle;\n",
              "    }\n",
              "\n",
              "    .dataframe tbody tr th {\n",
              "        vertical-align: top;\n",
              "    }\n",
              "\n",
              "    .dataframe thead th {\n",
              "        text-align: right;\n",
              "    }\n",
              "</style>\n",
              "<table border=\"1\" class=\"dataframe\">\n",
              "  <thead>\n",
              "    <tr style=\"text-align: right;\">\n",
              "      <th></th>\n",
              "      <th>CHN</th>\n",
              "      <th>IND</th>\n",
              "      <th>USA</th>\n",
              "      <th>IDN</th>\n",
              "      <th>BRA</th>\n",
              "      <th>PAK</th>\n",
              "      <th>NGA</th>\n",
              "      <th>BGD</th>\n",
              "      <th>RUS</th>\n",
              "      <th>MEX</th>\n",
              "      <th>JPN</th>\n",
              "      <th>DEU</th>\n",
              "      <th>FRA</th>\n",
              "      <th>GBR</th>\n",
              "      <th>ITA</th>\n",
              "      <th>ARG</th>\n",
              "      <th>DZA</th>\n",
              "      <th>CAN</th>\n",
              "      <th>AUS</th>\n",
              "      <th>KAZ</th>\n",
              "    </tr>\n",
              "  </thead>\n",
              "  <tbody>\n",
              "    <tr>\n",
              "      <th>COUNTRY</th>\n",
              "      <td>China</td>\n",
              "      <td>India</td>\n",
              "      <td>US</td>\n",
              "      <td>Indonesia</td>\n",
              "      <td>Brazil</td>\n",
              "      <td>Pakistan</td>\n",
              "      <td>Nigeria</td>\n",
              "      <td>Bangladesh</td>\n",
              "      <td>Russia</td>\n",
              "      <td>Mexico</td>\n",
              "      <td>Japan</td>\n",
              "      <td>Germany</td>\n",
              "      <td>France</td>\n",
              "      <td>UK</td>\n",
              "      <td>Italy</td>\n",
              "      <td>Argentina</td>\n",
              "      <td>Algeria</td>\n",
              "      <td>Canada</td>\n",
              "      <td>Australia</td>\n",
              "      <td>Kazakhstan</td>\n",
              "    </tr>\n",
              "    <tr>\n",
              "      <th>POP</th>\n",
              "      <td>1398.72</td>\n",
              "      <td>1351.16</td>\n",
              "      <td>329.74</td>\n",
              "      <td>268.07</td>\n",
              "      <td>210.32</td>\n",
              "      <td>205.71</td>\n",
              "      <td>200.96</td>\n",
              "      <td>167.09</td>\n",
              "      <td>146.79</td>\n",
              "      <td>126.58</td>\n",
              "      <td>126.22</td>\n",
              "      <td>83.02</td>\n",
              "      <td>67.02</td>\n",
              "      <td>66.44</td>\n",
              "      <td>60.36</td>\n",
              "      <td>44.94</td>\n",
              "      <td>43.38</td>\n",
              "      <td>37.59</td>\n",
              "      <td>25.47</td>\n",
              "      <td>18.53</td>\n",
              "    </tr>\n",
              "    <tr>\n",
              "      <th>AREA</th>\n",
              "      <td>9596.96</td>\n",
              "      <td>3287.26</td>\n",
              "      <td>9833.52</td>\n",
              "      <td>1910.93</td>\n",
              "      <td>8515.77</td>\n",
              "      <td>881.91</td>\n",
              "      <td>923.77</td>\n",
              "      <td>147.57</td>\n",
              "      <td>17098.2</td>\n",
              "      <td>1964.38</td>\n",
              "      <td>377.97</td>\n",
              "      <td>357.11</td>\n",
              "      <td>640.68</td>\n",
              "      <td>242.5</td>\n",
              "      <td>301.34</td>\n",
              "      <td>2780.4</td>\n",
              "      <td>2381.74</td>\n",
              "      <td>9984.67</td>\n",
              "      <td>7692.02</td>\n",
              "      <td>2724.9</td>\n",
              "    </tr>\n",
              "    <tr>\n",
              "      <th>GDP</th>\n",
              "      <td>12234.8</td>\n",
              "      <td>2575.67</td>\n",
              "      <td>19485.4</td>\n",
              "      <td>1015.54</td>\n",
              "      <td>2055.51</td>\n",
              "      <td>302.14</td>\n",
              "      <td>375.77</td>\n",
              "      <td>245.63</td>\n",
              "      <td>1530.75</td>\n",
              "      <td>1158.23</td>\n",
              "      <td>4872.42</td>\n",
              "      <td>3693.2</td>\n",
              "      <td>2582.49</td>\n",
              "      <td>2631.23</td>\n",
              "      <td>1943.84</td>\n",
              "      <td>637.49</td>\n",
              "      <td>167.56</td>\n",
              "      <td>1647.12</td>\n",
              "      <td>1408.68</td>\n",
              "      <td>159.41</td>\n",
              "    </tr>\n",
              "    <tr>\n",
              "      <th>CONT</th>\n",
              "      <td>Asia</td>\n",
              "      <td>Asia</td>\n",
              "      <td>N.America</td>\n",
              "      <td>Asia</td>\n",
              "      <td>S.America</td>\n",
              "      <td>Asia</td>\n",
              "      <td>Africa</td>\n",
              "      <td>Asia</td>\n",
              "      <td>NaN</td>\n",
              "      <td>N.America</td>\n",
              "      <td>Asia</td>\n",
              "      <td>Europe</td>\n",
              "      <td>Europe</td>\n",
              "      <td>Europe</td>\n",
              "      <td>Europe</td>\n",
              "      <td>S.America</td>\n",
              "      <td>Africa</td>\n",
              "      <td>N.America</td>\n",
              "      <td>Oceania</td>\n",
              "      <td>Asia</td>\n",
              "    </tr>\n",
              "    <tr>\n",
              "      <th>IND_DAY</th>\n",
              "      <td>NaN</td>\n",
              "      <td>1947-08-15</td>\n",
              "      <td>1776-07-04</td>\n",
              "      <td>1945-08-17</td>\n",
              "      <td>1822-09-07</td>\n",
              "      <td>1947-08-14</td>\n",
              "      <td>1960-10-01</td>\n",
              "      <td>1971-03-26</td>\n",
              "      <td>1992-06-12</td>\n",
              "      <td>1810-09-16</td>\n",
              "      <td>NaN</td>\n",
              "      <td>NaN</td>\n",
              "      <td>1789-07-14</td>\n",
              "      <td>NaN</td>\n",
              "      <td>NaN</td>\n",
              "      <td>1816-07-09</td>\n",
              "      <td>1962-07-05</td>\n",
              "      <td>1867-07-01</td>\n",
              "      <td>NaN</td>\n",
              "      <td>1991-12-16</td>\n",
              "    </tr>\n",
              "  </tbody>\n",
              "</table>\n",
              "</div>"
            ],
            "text/plain": [
              "             CHN         IND         USA  ...         CAN        AUS         KAZ\n",
              "COUNTRY    China       India          US  ...      Canada  Australia  Kazakhstan\n",
              "POP      1398.72     1351.16      329.74  ...       37.59      25.47       18.53\n",
              "AREA     9596.96     3287.26     9833.52  ...     9984.67    7692.02      2724.9\n",
              "GDP      12234.8     2575.67     19485.4  ...     1647.12    1408.68      159.41\n",
              "CONT        Asia        Asia   N.America  ...   N.America    Oceania        Asia\n",
              "IND_DAY      NaN  1947-08-15  1776-07-04  ...  1867-07-01        NaN  1991-12-16\n",
              "\n",
              "[6 rows x 20 columns]"
            ]
          },
          "metadata": {},
          "execution_count": 35
        }
      ]
    },
    {
      "cell_type": "code",
      "metadata": {
        "colab": {
          "base_uri": "https://localhost:8080/",
          "height": 770
        },
        "id": "sx5CC6QcOG_r",
        "outputId": "79048b1a-c414-49a6-873e-432bd56f6e6e"
      },
      "source": [
        "# --------------------------------------------\n",
        "print('Program done by : Ajay Pathak\\n' +\n",
        "      'Enrollment No.: 190630107170\\n' +\n",
        "      '=================================\\n\\n\\n')\n",
        "\n",
        "# Much better but , Let's also transpose it. To make it more intuitive. \n",
        "df = pd.DataFrame(contries_data, index=columns).T # Notice, using .T results in transposing the data\n",
        "df"
      ],
      "id": "sx5CC6QcOG_r",
      "execution_count": null,
      "outputs": [
        {
          "output_type": "stream",
          "name": "stdout",
          "text": [
            "Program done by : Ajay Pathak\n",
            "Enrollment No.: 190630107170\n",
            "=================================\n",
            "\n",
            "\n",
            "\n"
          ]
        },
        {
          "output_type": "execute_result",
          "data": {
            "text/html": [
              "<div>\n",
              "<style scoped>\n",
              "    .dataframe tbody tr th:only-of-type {\n",
              "        vertical-align: middle;\n",
              "    }\n",
              "\n",
              "    .dataframe tbody tr th {\n",
              "        vertical-align: top;\n",
              "    }\n",
              "\n",
              "    .dataframe thead th {\n",
              "        text-align: right;\n",
              "    }\n",
              "</style>\n",
              "<table border=\"1\" class=\"dataframe\">\n",
              "  <thead>\n",
              "    <tr style=\"text-align: right;\">\n",
              "      <th></th>\n",
              "      <th>COUNTRY</th>\n",
              "      <th>POP</th>\n",
              "      <th>AREA</th>\n",
              "      <th>GDP</th>\n",
              "      <th>CONT</th>\n",
              "      <th>IND_DAY</th>\n",
              "    </tr>\n",
              "  </thead>\n",
              "  <tbody>\n",
              "    <tr>\n",
              "      <th>CHN</th>\n",
              "      <td>China</td>\n",
              "      <td>1398.72</td>\n",
              "      <td>9596.96</td>\n",
              "      <td>12234.8</td>\n",
              "      <td>Asia</td>\n",
              "      <td>NaN</td>\n",
              "    </tr>\n",
              "    <tr>\n",
              "      <th>IND</th>\n",
              "      <td>India</td>\n",
              "      <td>1351.16</td>\n",
              "      <td>3287.26</td>\n",
              "      <td>2575.67</td>\n",
              "      <td>Asia</td>\n",
              "      <td>1947-08-15</td>\n",
              "    </tr>\n",
              "    <tr>\n",
              "      <th>USA</th>\n",
              "      <td>US</td>\n",
              "      <td>329.74</td>\n",
              "      <td>9833.52</td>\n",
              "      <td>19485.4</td>\n",
              "      <td>N.America</td>\n",
              "      <td>1776-07-04</td>\n",
              "    </tr>\n",
              "    <tr>\n",
              "      <th>IDN</th>\n",
              "      <td>Indonesia</td>\n",
              "      <td>268.07</td>\n",
              "      <td>1910.93</td>\n",
              "      <td>1015.54</td>\n",
              "      <td>Asia</td>\n",
              "      <td>1945-08-17</td>\n",
              "    </tr>\n",
              "    <tr>\n",
              "      <th>BRA</th>\n",
              "      <td>Brazil</td>\n",
              "      <td>210.32</td>\n",
              "      <td>8515.77</td>\n",
              "      <td>2055.51</td>\n",
              "      <td>S.America</td>\n",
              "      <td>1822-09-07</td>\n",
              "    </tr>\n",
              "    <tr>\n",
              "      <th>PAK</th>\n",
              "      <td>Pakistan</td>\n",
              "      <td>205.71</td>\n",
              "      <td>881.91</td>\n",
              "      <td>302.14</td>\n",
              "      <td>Asia</td>\n",
              "      <td>1947-08-14</td>\n",
              "    </tr>\n",
              "    <tr>\n",
              "      <th>NGA</th>\n",
              "      <td>Nigeria</td>\n",
              "      <td>200.96</td>\n",
              "      <td>923.77</td>\n",
              "      <td>375.77</td>\n",
              "      <td>Africa</td>\n",
              "      <td>1960-10-01</td>\n",
              "    </tr>\n",
              "    <tr>\n",
              "      <th>BGD</th>\n",
              "      <td>Bangladesh</td>\n",
              "      <td>167.09</td>\n",
              "      <td>147.57</td>\n",
              "      <td>245.63</td>\n",
              "      <td>Asia</td>\n",
              "      <td>1971-03-26</td>\n",
              "    </tr>\n",
              "    <tr>\n",
              "      <th>RUS</th>\n",
              "      <td>Russia</td>\n",
              "      <td>146.79</td>\n",
              "      <td>17098.2</td>\n",
              "      <td>1530.75</td>\n",
              "      <td>NaN</td>\n",
              "      <td>1992-06-12</td>\n",
              "    </tr>\n",
              "    <tr>\n",
              "      <th>MEX</th>\n",
              "      <td>Mexico</td>\n",
              "      <td>126.58</td>\n",
              "      <td>1964.38</td>\n",
              "      <td>1158.23</td>\n",
              "      <td>N.America</td>\n",
              "      <td>1810-09-16</td>\n",
              "    </tr>\n",
              "    <tr>\n",
              "      <th>JPN</th>\n",
              "      <td>Japan</td>\n",
              "      <td>126.22</td>\n",
              "      <td>377.97</td>\n",
              "      <td>4872.42</td>\n",
              "      <td>Asia</td>\n",
              "      <td>NaN</td>\n",
              "    </tr>\n",
              "    <tr>\n",
              "      <th>DEU</th>\n",
              "      <td>Germany</td>\n",
              "      <td>83.02</td>\n",
              "      <td>357.11</td>\n",
              "      <td>3693.2</td>\n",
              "      <td>Europe</td>\n",
              "      <td>NaN</td>\n",
              "    </tr>\n",
              "    <tr>\n",
              "      <th>FRA</th>\n",
              "      <td>France</td>\n",
              "      <td>67.02</td>\n",
              "      <td>640.68</td>\n",
              "      <td>2582.49</td>\n",
              "      <td>Europe</td>\n",
              "      <td>1789-07-14</td>\n",
              "    </tr>\n",
              "    <tr>\n",
              "      <th>GBR</th>\n",
              "      <td>UK</td>\n",
              "      <td>66.44</td>\n",
              "      <td>242.5</td>\n",
              "      <td>2631.23</td>\n",
              "      <td>Europe</td>\n",
              "      <td>NaN</td>\n",
              "    </tr>\n",
              "    <tr>\n",
              "      <th>ITA</th>\n",
              "      <td>Italy</td>\n",
              "      <td>60.36</td>\n",
              "      <td>301.34</td>\n",
              "      <td>1943.84</td>\n",
              "      <td>Europe</td>\n",
              "      <td>NaN</td>\n",
              "    </tr>\n",
              "    <tr>\n",
              "      <th>ARG</th>\n",
              "      <td>Argentina</td>\n",
              "      <td>44.94</td>\n",
              "      <td>2780.4</td>\n",
              "      <td>637.49</td>\n",
              "      <td>S.America</td>\n",
              "      <td>1816-07-09</td>\n",
              "    </tr>\n",
              "    <tr>\n",
              "      <th>DZA</th>\n",
              "      <td>Algeria</td>\n",
              "      <td>43.38</td>\n",
              "      <td>2381.74</td>\n",
              "      <td>167.56</td>\n",
              "      <td>Africa</td>\n",
              "      <td>1962-07-05</td>\n",
              "    </tr>\n",
              "    <tr>\n",
              "      <th>CAN</th>\n",
              "      <td>Canada</td>\n",
              "      <td>37.59</td>\n",
              "      <td>9984.67</td>\n",
              "      <td>1647.12</td>\n",
              "      <td>N.America</td>\n",
              "      <td>1867-07-01</td>\n",
              "    </tr>\n",
              "    <tr>\n",
              "      <th>AUS</th>\n",
              "      <td>Australia</td>\n",
              "      <td>25.47</td>\n",
              "      <td>7692.02</td>\n",
              "      <td>1408.68</td>\n",
              "      <td>Oceania</td>\n",
              "      <td>NaN</td>\n",
              "    </tr>\n",
              "    <tr>\n",
              "      <th>KAZ</th>\n",
              "      <td>Kazakhstan</td>\n",
              "      <td>18.53</td>\n",
              "      <td>2724.9</td>\n",
              "      <td>159.41</td>\n",
              "      <td>Asia</td>\n",
              "      <td>1991-12-16</td>\n",
              "    </tr>\n",
              "  </tbody>\n",
              "</table>\n",
              "</div>"
            ],
            "text/plain": [
              "        COUNTRY      POP     AREA      GDP       CONT     IND_DAY\n",
              "CHN       China  1398.72  9596.96  12234.8       Asia         NaN\n",
              "IND       India  1351.16  3287.26  2575.67       Asia  1947-08-15\n",
              "USA          US   329.74  9833.52  19485.4  N.America  1776-07-04\n",
              "IDN   Indonesia   268.07  1910.93  1015.54       Asia  1945-08-17\n",
              "BRA      Brazil   210.32  8515.77  2055.51  S.America  1822-09-07\n",
              "PAK    Pakistan   205.71   881.91   302.14       Asia  1947-08-14\n",
              "NGA     Nigeria   200.96   923.77   375.77     Africa  1960-10-01\n",
              "BGD  Bangladesh   167.09   147.57   245.63       Asia  1971-03-26\n",
              "RUS      Russia   146.79  17098.2  1530.75        NaN  1992-06-12\n",
              "MEX      Mexico   126.58  1964.38  1158.23  N.America  1810-09-16\n",
              "JPN       Japan   126.22   377.97  4872.42       Asia         NaN\n",
              "DEU     Germany    83.02   357.11   3693.2     Europe         NaN\n",
              "FRA      France    67.02   640.68  2582.49     Europe  1789-07-14\n",
              "GBR          UK    66.44    242.5  2631.23     Europe         NaN\n",
              "ITA       Italy    60.36   301.34  1943.84     Europe         NaN\n",
              "ARG   Argentina    44.94   2780.4   637.49  S.America  1816-07-09\n",
              "DZA     Algeria    43.38  2381.74   167.56     Africa  1962-07-05\n",
              "CAN      Canada    37.59  9984.67  1647.12  N.America  1867-07-01\n",
              "AUS   Australia    25.47  7692.02  1408.68    Oceania         NaN\n",
              "KAZ  Kazakhstan    18.53   2724.9   159.41       Asia  1991-12-16"
            ]
          },
          "metadata": {},
          "execution_count": 36
        }
      ]
    },
    {
      "cell_type": "markdown",
      "metadata": {
        "id": "Aj1Zuh94R0Tt"
      },
      "source": [
        "## Using Pandas to convert data in various format types."
      ],
      "id": "Aj1Zuh94R0Tt"
    },
    {
      "cell_type": "markdown",
      "metadata": {
        "id": "wrzW7_DuSFim"
      },
      "source": [
        "### CSV Format type"
      ],
      "id": "wrzW7_DuSFim"
    },
    {
      "cell_type": "markdown",
      "metadata": {
        "id": "Cc72aS7VSL9D"
      },
      "source": [
        "Use ```to_csv('file_name.csv')``` to convert DataFrame in CSV format"
      ],
      "id": "Cc72aS7VSL9D"
    },
    {
      "cell_type": "code",
      "metadata": {
        "id": "zOwsJ7FlOJLj",
        "colab": {
          "base_uri": "https://localhost:8080/"
        },
        "outputId": "a191345c-f9c0-4bbc-ec92-7e7e5d2e04f0"
      },
      "source": [
        "# --------------------------------------------\n",
        "print('Program done by : Ajay Pathak\\n' +\n",
        "      'Enrollment No.: 190630107170\\n' +\n",
        "      '=================================\\n\\n\\n')\n",
        "\n",
        "# Let's convert our contries_data into csv format\n",
        "# our contries data is stored in df variable \n",
        "df.to_csv('contries_data.csv')  # NOTE : we give the filename whatever we like but its extension must be .csv\n",
        "\n",
        "# if you check your colab folder , \n",
        "# you can see contries_data.csv file."
      ],
      "id": "zOwsJ7FlOJLj",
      "execution_count": null,
      "outputs": [
        {
          "output_type": "stream",
          "name": "stdout",
          "text": [
            "Program done by : Ajay Pathak\n",
            "Enrollment No.: 190630107170\n",
            "=================================\n",
            "\n",
            "\n",
            "\n"
          ]
        }
      ]
    },
    {
      "cell_type": "markdown",
      "metadata": {
        "id": "StL2KJ8HSz0v"
      },
      "source": [
        "Use ```pd.read_csv(filename)``` to read csv file.\n",
        "\n",
        "This function returns DataFrame object , so we need to store it in some variable."
      ],
      "id": "StL2KJ8HSz0v"
    },
    {
      "cell_type": "code",
      "metadata": {
        "colab": {
          "base_uri": "https://localhost:8080/",
          "height": 770
        },
        "id": "H43Yw5gbOLe7",
        "outputId": "2a46b4fc-f134-4d24-dfbd-44efab1cfd21"
      },
      "source": [
        "# --------------------------------------------\n",
        "print('Program done by : Ajay Pathak\\n' +\n",
        "      'Enrollment No.: 190630107170\\n' +\n",
        "      '=================================\\n\\n\\n')\n",
        "\n",
        "\n",
        "df = pd.read_csv('contries_data.csv') # NOTE : Only file with extension .csv can be read. \n",
        "# Now that it returns DataFrame object , we can print it like below\n",
        "df"
      ],
      "id": "H43Yw5gbOLe7",
      "execution_count": null,
      "outputs": [
        {
          "output_type": "stream",
          "name": "stdout",
          "text": [
            "Program done by : Ajay Pathak\n",
            "Enrollment No.: 190630107170\n",
            "=================================\n",
            "\n",
            "\n",
            "\n"
          ]
        },
        {
          "output_type": "execute_result",
          "data": {
            "text/html": [
              "<div>\n",
              "<style scoped>\n",
              "    .dataframe tbody tr th:only-of-type {\n",
              "        vertical-align: middle;\n",
              "    }\n",
              "\n",
              "    .dataframe tbody tr th {\n",
              "        vertical-align: top;\n",
              "    }\n",
              "\n",
              "    .dataframe thead th {\n",
              "        text-align: right;\n",
              "    }\n",
              "</style>\n",
              "<table border=\"1\" class=\"dataframe\">\n",
              "  <thead>\n",
              "    <tr style=\"text-align: right;\">\n",
              "      <th></th>\n",
              "      <th>Unnamed: 0</th>\n",
              "      <th>COUNTRY</th>\n",
              "      <th>POP</th>\n",
              "      <th>AREA</th>\n",
              "      <th>GDP</th>\n",
              "      <th>CONT</th>\n",
              "      <th>IND_DAY</th>\n",
              "    </tr>\n",
              "  </thead>\n",
              "  <tbody>\n",
              "    <tr>\n",
              "      <th>0</th>\n",
              "      <td>CHN</td>\n",
              "      <td>China</td>\n",
              "      <td>1398.72</td>\n",
              "      <td>9596.96</td>\n",
              "      <td>12234.78</td>\n",
              "      <td>Asia</td>\n",
              "      <td>NaN</td>\n",
              "    </tr>\n",
              "    <tr>\n",
              "      <th>1</th>\n",
              "      <td>IND</td>\n",
              "      <td>India</td>\n",
              "      <td>1351.16</td>\n",
              "      <td>3287.26</td>\n",
              "      <td>2575.67</td>\n",
              "      <td>Asia</td>\n",
              "      <td>1947-08-15</td>\n",
              "    </tr>\n",
              "    <tr>\n",
              "      <th>2</th>\n",
              "      <td>USA</td>\n",
              "      <td>US</td>\n",
              "      <td>329.74</td>\n",
              "      <td>9833.52</td>\n",
              "      <td>19485.39</td>\n",
              "      <td>N.America</td>\n",
              "      <td>1776-07-04</td>\n",
              "    </tr>\n",
              "    <tr>\n",
              "      <th>3</th>\n",
              "      <td>IDN</td>\n",
              "      <td>Indonesia</td>\n",
              "      <td>268.07</td>\n",
              "      <td>1910.93</td>\n",
              "      <td>1015.54</td>\n",
              "      <td>Asia</td>\n",
              "      <td>1945-08-17</td>\n",
              "    </tr>\n",
              "    <tr>\n",
              "      <th>4</th>\n",
              "      <td>BRA</td>\n",
              "      <td>Brazil</td>\n",
              "      <td>210.32</td>\n",
              "      <td>8515.77</td>\n",
              "      <td>2055.51</td>\n",
              "      <td>S.America</td>\n",
              "      <td>1822-09-07</td>\n",
              "    </tr>\n",
              "    <tr>\n",
              "      <th>5</th>\n",
              "      <td>PAK</td>\n",
              "      <td>Pakistan</td>\n",
              "      <td>205.71</td>\n",
              "      <td>881.91</td>\n",
              "      <td>302.14</td>\n",
              "      <td>Asia</td>\n",
              "      <td>1947-08-14</td>\n",
              "    </tr>\n",
              "    <tr>\n",
              "      <th>6</th>\n",
              "      <td>NGA</td>\n",
              "      <td>Nigeria</td>\n",
              "      <td>200.96</td>\n",
              "      <td>923.77</td>\n",
              "      <td>375.77</td>\n",
              "      <td>Africa</td>\n",
              "      <td>1960-10-01</td>\n",
              "    </tr>\n",
              "    <tr>\n",
              "      <th>7</th>\n",
              "      <td>BGD</td>\n",
              "      <td>Bangladesh</td>\n",
              "      <td>167.09</td>\n",
              "      <td>147.57</td>\n",
              "      <td>245.63</td>\n",
              "      <td>Asia</td>\n",
              "      <td>1971-03-26</td>\n",
              "    </tr>\n",
              "    <tr>\n",
              "      <th>8</th>\n",
              "      <td>RUS</td>\n",
              "      <td>Russia</td>\n",
              "      <td>146.79</td>\n",
              "      <td>17098.25</td>\n",
              "      <td>1530.75</td>\n",
              "      <td>NaN</td>\n",
              "      <td>1992-06-12</td>\n",
              "    </tr>\n",
              "    <tr>\n",
              "      <th>9</th>\n",
              "      <td>MEX</td>\n",
              "      <td>Mexico</td>\n",
              "      <td>126.58</td>\n",
              "      <td>1964.38</td>\n",
              "      <td>1158.23</td>\n",
              "      <td>N.America</td>\n",
              "      <td>1810-09-16</td>\n",
              "    </tr>\n",
              "    <tr>\n",
              "      <th>10</th>\n",
              "      <td>JPN</td>\n",
              "      <td>Japan</td>\n",
              "      <td>126.22</td>\n",
              "      <td>377.97</td>\n",
              "      <td>4872.42</td>\n",
              "      <td>Asia</td>\n",
              "      <td>NaN</td>\n",
              "    </tr>\n",
              "    <tr>\n",
              "      <th>11</th>\n",
              "      <td>DEU</td>\n",
              "      <td>Germany</td>\n",
              "      <td>83.02</td>\n",
              "      <td>357.11</td>\n",
              "      <td>3693.20</td>\n",
              "      <td>Europe</td>\n",
              "      <td>NaN</td>\n",
              "    </tr>\n",
              "    <tr>\n",
              "      <th>12</th>\n",
              "      <td>FRA</td>\n",
              "      <td>France</td>\n",
              "      <td>67.02</td>\n",
              "      <td>640.68</td>\n",
              "      <td>2582.49</td>\n",
              "      <td>Europe</td>\n",
              "      <td>1789-07-14</td>\n",
              "    </tr>\n",
              "    <tr>\n",
              "      <th>13</th>\n",
              "      <td>GBR</td>\n",
              "      <td>UK</td>\n",
              "      <td>66.44</td>\n",
              "      <td>242.50</td>\n",
              "      <td>2631.23</td>\n",
              "      <td>Europe</td>\n",
              "      <td>NaN</td>\n",
              "    </tr>\n",
              "    <tr>\n",
              "      <th>14</th>\n",
              "      <td>ITA</td>\n",
              "      <td>Italy</td>\n",
              "      <td>60.36</td>\n",
              "      <td>301.34</td>\n",
              "      <td>1943.84</td>\n",
              "      <td>Europe</td>\n",
              "      <td>NaN</td>\n",
              "    </tr>\n",
              "    <tr>\n",
              "      <th>15</th>\n",
              "      <td>ARG</td>\n",
              "      <td>Argentina</td>\n",
              "      <td>44.94</td>\n",
              "      <td>2780.40</td>\n",
              "      <td>637.49</td>\n",
              "      <td>S.America</td>\n",
              "      <td>1816-07-09</td>\n",
              "    </tr>\n",
              "    <tr>\n",
              "      <th>16</th>\n",
              "      <td>DZA</td>\n",
              "      <td>Algeria</td>\n",
              "      <td>43.38</td>\n",
              "      <td>2381.74</td>\n",
              "      <td>167.56</td>\n",
              "      <td>Africa</td>\n",
              "      <td>1962-07-05</td>\n",
              "    </tr>\n",
              "    <tr>\n",
              "      <th>17</th>\n",
              "      <td>CAN</td>\n",
              "      <td>Canada</td>\n",
              "      <td>37.59</td>\n",
              "      <td>9984.67</td>\n",
              "      <td>1647.12</td>\n",
              "      <td>N.America</td>\n",
              "      <td>1867-07-01</td>\n",
              "    </tr>\n",
              "    <tr>\n",
              "      <th>18</th>\n",
              "      <td>AUS</td>\n",
              "      <td>Australia</td>\n",
              "      <td>25.47</td>\n",
              "      <td>7692.02</td>\n",
              "      <td>1408.68</td>\n",
              "      <td>Oceania</td>\n",
              "      <td>NaN</td>\n",
              "    </tr>\n",
              "    <tr>\n",
              "      <th>19</th>\n",
              "      <td>KAZ</td>\n",
              "      <td>Kazakhstan</td>\n",
              "      <td>18.53</td>\n",
              "      <td>2724.90</td>\n",
              "      <td>159.41</td>\n",
              "      <td>Asia</td>\n",
              "      <td>1991-12-16</td>\n",
              "    </tr>\n",
              "  </tbody>\n",
              "</table>\n",
              "</div>"
            ],
            "text/plain": [
              "   Unnamed: 0     COUNTRY      POP      AREA       GDP       CONT     IND_DAY\n",
              "0         CHN       China  1398.72   9596.96  12234.78       Asia         NaN\n",
              "1         IND       India  1351.16   3287.26   2575.67       Asia  1947-08-15\n",
              "2         USA          US   329.74   9833.52  19485.39  N.America  1776-07-04\n",
              "3         IDN   Indonesia   268.07   1910.93   1015.54       Asia  1945-08-17\n",
              "4         BRA      Brazil   210.32   8515.77   2055.51  S.America  1822-09-07\n",
              "5         PAK    Pakistan   205.71    881.91    302.14       Asia  1947-08-14\n",
              "6         NGA     Nigeria   200.96    923.77    375.77     Africa  1960-10-01\n",
              "7         BGD  Bangladesh   167.09    147.57    245.63       Asia  1971-03-26\n",
              "8         RUS      Russia   146.79  17098.25   1530.75        NaN  1992-06-12\n",
              "9         MEX      Mexico   126.58   1964.38   1158.23  N.America  1810-09-16\n",
              "10        JPN       Japan   126.22    377.97   4872.42       Asia         NaN\n",
              "11        DEU     Germany    83.02    357.11   3693.20     Europe         NaN\n",
              "12        FRA      France    67.02    640.68   2582.49     Europe  1789-07-14\n",
              "13        GBR          UK    66.44    242.50   2631.23     Europe         NaN\n",
              "14        ITA       Italy    60.36    301.34   1943.84     Europe         NaN\n",
              "15        ARG   Argentina    44.94   2780.40    637.49  S.America  1816-07-09\n",
              "16        DZA     Algeria    43.38   2381.74    167.56     Africa  1962-07-05\n",
              "17        CAN      Canada    37.59   9984.67   1647.12  N.America  1867-07-01\n",
              "18        AUS   Australia    25.47   7692.02   1408.68    Oceania         NaN\n",
              "19        KAZ  Kazakhstan    18.53   2724.90    159.41       Asia  1991-12-16"
            ]
          },
          "metadata": {},
          "execution_count": 38
        }
      ]
    },
    {
      "cell_type": "code",
      "metadata": {
        "colab": {
          "base_uri": "https://localhost:8080/",
          "height": 770
        },
        "id": "9ZBg2YwsON8p",
        "outputId": "1e266776-468e-43b5-a337-30132b28f5ae"
      },
      "source": [
        "# --------------------------------------------\n",
        "print('Program done by : Ajay Pathak\\n' +\n",
        "      'Enrollment No.: 190630107170\\n' +\n",
        "      '=================================\\n\\n\\n')\n",
        "\n",
        "\n",
        "# Let's make column that represents country's abbreviated names as a index column\n",
        "# in read_csv fumction we can give index which represents index\n",
        "# in our case first column represents index , so it's 0th column in DataFrame\n",
        "df = pd.read_csv('contries_data.csv', index_col=0) \n",
        "df"
      ],
      "id": "9ZBg2YwsON8p",
      "execution_count": null,
      "outputs": [
        {
          "output_type": "stream",
          "name": "stdout",
          "text": [
            "Program done by : Ajay Pathak\n",
            "Enrollment No.: 190630107170\n",
            "=================================\n",
            "\n",
            "\n",
            "\n"
          ]
        },
        {
          "output_type": "execute_result",
          "data": {
            "text/html": [
              "<div>\n",
              "<style scoped>\n",
              "    .dataframe tbody tr th:only-of-type {\n",
              "        vertical-align: middle;\n",
              "    }\n",
              "\n",
              "    .dataframe tbody tr th {\n",
              "        vertical-align: top;\n",
              "    }\n",
              "\n",
              "    .dataframe thead th {\n",
              "        text-align: right;\n",
              "    }\n",
              "</style>\n",
              "<table border=\"1\" class=\"dataframe\">\n",
              "  <thead>\n",
              "    <tr style=\"text-align: right;\">\n",
              "      <th></th>\n",
              "      <th>COUNTRY</th>\n",
              "      <th>POP</th>\n",
              "      <th>AREA</th>\n",
              "      <th>GDP</th>\n",
              "      <th>CONT</th>\n",
              "      <th>IND_DAY</th>\n",
              "    </tr>\n",
              "  </thead>\n",
              "  <tbody>\n",
              "    <tr>\n",
              "      <th>CHN</th>\n",
              "      <td>China</td>\n",
              "      <td>1398.72</td>\n",
              "      <td>9596.96</td>\n",
              "      <td>12234.78</td>\n",
              "      <td>Asia</td>\n",
              "      <td>NaN</td>\n",
              "    </tr>\n",
              "    <tr>\n",
              "      <th>IND</th>\n",
              "      <td>India</td>\n",
              "      <td>1351.16</td>\n",
              "      <td>3287.26</td>\n",
              "      <td>2575.67</td>\n",
              "      <td>Asia</td>\n",
              "      <td>1947-08-15</td>\n",
              "    </tr>\n",
              "    <tr>\n",
              "      <th>USA</th>\n",
              "      <td>US</td>\n",
              "      <td>329.74</td>\n",
              "      <td>9833.52</td>\n",
              "      <td>19485.39</td>\n",
              "      <td>N.America</td>\n",
              "      <td>1776-07-04</td>\n",
              "    </tr>\n",
              "    <tr>\n",
              "      <th>IDN</th>\n",
              "      <td>Indonesia</td>\n",
              "      <td>268.07</td>\n",
              "      <td>1910.93</td>\n",
              "      <td>1015.54</td>\n",
              "      <td>Asia</td>\n",
              "      <td>1945-08-17</td>\n",
              "    </tr>\n",
              "    <tr>\n",
              "      <th>BRA</th>\n",
              "      <td>Brazil</td>\n",
              "      <td>210.32</td>\n",
              "      <td>8515.77</td>\n",
              "      <td>2055.51</td>\n",
              "      <td>S.America</td>\n",
              "      <td>1822-09-07</td>\n",
              "    </tr>\n",
              "    <tr>\n",
              "      <th>PAK</th>\n",
              "      <td>Pakistan</td>\n",
              "      <td>205.71</td>\n",
              "      <td>881.91</td>\n",
              "      <td>302.14</td>\n",
              "      <td>Asia</td>\n",
              "      <td>1947-08-14</td>\n",
              "    </tr>\n",
              "    <tr>\n",
              "      <th>NGA</th>\n",
              "      <td>Nigeria</td>\n",
              "      <td>200.96</td>\n",
              "      <td>923.77</td>\n",
              "      <td>375.77</td>\n",
              "      <td>Africa</td>\n",
              "      <td>1960-10-01</td>\n",
              "    </tr>\n",
              "    <tr>\n",
              "      <th>BGD</th>\n",
              "      <td>Bangladesh</td>\n",
              "      <td>167.09</td>\n",
              "      <td>147.57</td>\n",
              "      <td>245.63</td>\n",
              "      <td>Asia</td>\n",
              "      <td>1971-03-26</td>\n",
              "    </tr>\n",
              "    <tr>\n",
              "      <th>RUS</th>\n",
              "      <td>Russia</td>\n",
              "      <td>146.79</td>\n",
              "      <td>17098.25</td>\n",
              "      <td>1530.75</td>\n",
              "      <td>NaN</td>\n",
              "      <td>1992-06-12</td>\n",
              "    </tr>\n",
              "    <tr>\n",
              "      <th>MEX</th>\n",
              "      <td>Mexico</td>\n",
              "      <td>126.58</td>\n",
              "      <td>1964.38</td>\n",
              "      <td>1158.23</td>\n",
              "      <td>N.America</td>\n",
              "      <td>1810-09-16</td>\n",
              "    </tr>\n",
              "    <tr>\n",
              "      <th>JPN</th>\n",
              "      <td>Japan</td>\n",
              "      <td>126.22</td>\n",
              "      <td>377.97</td>\n",
              "      <td>4872.42</td>\n",
              "      <td>Asia</td>\n",
              "      <td>NaN</td>\n",
              "    </tr>\n",
              "    <tr>\n",
              "      <th>DEU</th>\n",
              "      <td>Germany</td>\n",
              "      <td>83.02</td>\n",
              "      <td>357.11</td>\n",
              "      <td>3693.20</td>\n",
              "      <td>Europe</td>\n",
              "      <td>NaN</td>\n",
              "    </tr>\n",
              "    <tr>\n",
              "      <th>FRA</th>\n",
              "      <td>France</td>\n",
              "      <td>67.02</td>\n",
              "      <td>640.68</td>\n",
              "      <td>2582.49</td>\n",
              "      <td>Europe</td>\n",
              "      <td>1789-07-14</td>\n",
              "    </tr>\n",
              "    <tr>\n",
              "      <th>GBR</th>\n",
              "      <td>UK</td>\n",
              "      <td>66.44</td>\n",
              "      <td>242.50</td>\n",
              "      <td>2631.23</td>\n",
              "      <td>Europe</td>\n",
              "      <td>NaN</td>\n",
              "    </tr>\n",
              "    <tr>\n",
              "      <th>ITA</th>\n",
              "      <td>Italy</td>\n",
              "      <td>60.36</td>\n",
              "      <td>301.34</td>\n",
              "      <td>1943.84</td>\n",
              "      <td>Europe</td>\n",
              "      <td>NaN</td>\n",
              "    </tr>\n",
              "    <tr>\n",
              "      <th>ARG</th>\n",
              "      <td>Argentina</td>\n",
              "      <td>44.94</td>\n",
              "      <td>2780.40</td>\n",
              "      <td>637.49</td>\n",
              "      <td>S.America</td>\n",
              "      <td>1816-07-09</td>\n",
              "    </tr>\n",
              "    <tr>\n",
              "      <th>DZA</th>\n",
              "      <td>Algeria</td>\n",
              "      <td>43.38</td>\n",
              "      <td>2381.74</td>\n",
              "      <td>167.56</td>\n",
              "      <td>Africa</td>\n",
              "      <td>1962-07-05</td>\n",
              "    </tr>\n",
              "    <tr>\n",
              "      <th>CAN</th>\n",
              "      <td>Canada</td>\n",
              "      <td>37.59</td>\n",
              "      <td>9984.67</td>\n",
              "      <td>1647.12</td>\n",
              "      <td>N.America</td>\n",
              "      <td>1867-07-01</td>\n",
              "    </tr>\n",
              "    <tr>\n",
              "      <th>AUS</th>\n",
              "      <td>Australia</td>\n",
              "      <td>25.47</td>\n",
              "      <td>7692.02</td>\n",
              "      <td>1408.68</td>\n",
              "      <td>Oceania</td>\n",
              "      <td>NaN</td>\n",
              "    </tr>\n",
              "    <tr>\n",
              "      <th>KAZ</th>\n",
              "      <td>Kazakhstan</td>\n",
              "      <td>18.53</td>\n",
              "      <td>2724.90</td>\n",
              "      <td>159.41</td>\n",
              "      <td>Asia</td>\n",
              "      <td>1991-12-16</td>\n",
              "    </tr>\n",
              "  </tbody>\n",
              "</table>\n",
              "</div>"
            ],
            "text/plain": [
              "        COUNTRY      POP      AREA       GDP       CONT     IND_DAY\n",
              "CHN       China  1398.72   9596.96  12234.78       Asia         NaN\n",
              "IND       India  1351.16   3287.26   2575.67       Asia  1947-08-15\n",
              "USA          US   329.74   9833.52  19485.39  N.America  1776-07-04\n",
              "IDN   Indonesia   268.07   1910.93   1015.54       Asia  1945-08-17\n",
              "BRA      Brazil   210.32   8515.77   2055.51  S.America  1822-09-07\n",
              "PAK    Pakistan   205.71    881.91    302.14       Asia  1947-08-14\n",
              "NGA     Nigeria   200.96    923.77    375.77     Africa  1960-10-01\n",
              "BGD  Bangladesh   167.09    147.57    245.63       Asia  1971-03-26\n",
              "RUS      Russia   146.79  17098.25   1530.75        NaN  1992-06-12\n",
              "MEX      Mexico   126.58   1964.38   1158.23  N.America  1810-09-16\n",
              "JPN       Japan   126.22    377.97   4872.42       Asia         NaN\n",
              "DEU     Germany    83.02    357.11   3693.20     Europe         NaN\n",
              "FRA      France    67.02    640.68   2582.49     Europe  1789-07-14\n",
              "GBR          UK    66.44    242.50   2631.23     Europe         NaN\n",
              "ITA       Italy    60.36    301.34   1943.84     Europe         NaN\n",
              "ARG   Argentina    44.94   2780.40    637.49  S.America  1816-07-09\n",
              "DZA     Algeria    43.38   2381.74    167.56     Africa  1962-07-05\n",
              "CAN      Canada    37.59   9984.67   1647.12  N.America  1867-07-01\n",
              "AUS   Australia    25.47   7692.02   1408.68    Oceania         NaN\n",
              "KAZ  Kazakhstan    18.53   2724.90    159.41       Asia  1991-12-16"
            ]
          },
          "metadata": {},
          "execution_count": 39
        }
      ]
    },
    {
      "cell_type": "markdown",
      "metadata": {
        "id": "qgFrbm5OWIGK"
      },
      "source": [
        "### Excel format type"
      ],
      "id": "qgFrbm5OWIGK"
    },
    {
      "cell_type": "markdown",
      "metadata": {
        "id": "jRyvbuCuWbOq"
      },
      "source": [
        "To convert to and read from Excel files we need to install some packages. \n",
        "- xlwt\n",
        "- openpyxl\n",
        "- xlswriter\n",
        "- xlrd\n",
        "\n",
        "NOTE : Below cell gives command to install these in one line only\n",
        "\n",
        "We can always install only one package and not others if not required"
      ],
      "id": "jRyvbuCuWbOq"
    },
    {
      "cell_type": "code",
      "metadata": {
        "colab": {
          "base_uri": "https://localhost:8080/"
        },
        "id": "y6YQsYIgOQG_",
        "outputId": "ba9437eb-e0ed-48cf-9d91-b2ee70a077e1"
      },
      "source": [
        "pip install xlwt openpyxl xlsxwriter xlrd"
      ],
      "id": "y6YQsYIgOQG_",
      "execution_count": null,
      "outputs": [
        {
          "output_type": "stream",
          "name": "stdout",
          "text": [
            "Requirement already satisfied: xlwt in /usr/local/lib/python3.7/dist-packages (1.3.0)\n",
            "Requirement already satisfied: openpyxl in /usr/local/lib/python3.7/dist-packages (2.5.9)\n",
            "Collecting xlsxwriter\n",
            "  Downloading XlsxWriter-3.0.1-py3-none-any.whl (148 kB)\n",
            "\u001b[K     |████████████████████████████████| 148 kB 4.1 MB/s \n",
            "\u001b[?25hRequirement already satisfied: xlrd in /usr/local/lib/python3.7/dist-packages (1.1.0)\n",
            "Requirement already satisfied: jdcal in /usr/local/lib/python3.7/dist-packages (from openpyxl) (1.4.1)\n",
            "Requirement already satisfied: et-xmlfile in /usr/local/lib/python3.7/dist-packages (from openpyxl) (1.1.0)\n",
            "Installing collected packages: xlsxwriter\n",
            "Successfully installed xlsxwriter-3.0.1\n"
          ]
        }
      ]
    },
    {
      "cell_type": "code",
      "metadata": {
        "id": "aWy7RdLJOS8i",
        "colab": {
          "base_uri": "https://localhost:8080/"
        },
        "outputId": "6f64d208-efa0-4c52-bacc-bb3cae12edb6"
      },
      "source": [
        "# --------------------------------------------\n",
        "print('Program done by : Ajay Pathak\\n' +\n",
        "      'Enrollment No.: 190630107170\\n' +\n",
        "      '=================================\\n\\n\\n')\n",
        "\n",
        "df.to_excel('contries_data.xlsx')\n",
        "\n",
        "# We can find this file in our colab folder"
      ],
      "id": "aWy7RdLJOS8i",
      "execution_count": null,
      "outputs": [
        {
          "output_type": "stream",
          "name": "stdout",
          "text": [
            "Program done by : Ajay Pathak\n",
            "Enrollment No.: 190630107170\n",
            "=================================\n",
            "\n",
            "\n",
            "\n"
          ]
        }
      ]
    },
    {
      "cell_type": "code",
      "metadata": {
        "colab": {
          "base_uri": "https://localhost:8080/",
          "height": 770
        },
        "id": "1U0zo8QYOWMB",
        "outputId": "07fcccce-bacf-48ef-81ba-4f14ea6558d1"
      },
      "source": [
        "# --------------------------------------------\n",
        "print('Program done by : Ajay Pathak\\n' +\n",
        "      'Enrollment No.: 190630107170\\n' +\n",
        "      '=================================\\n\\n\\n')\n",
        "\n",
        "df = pd.read_excel('contries_data.xlsx', index_col=0)\n",
        "df"
      ],
      "id": "1U0zo8QYOWMB",
      "execution_count": null,
      "outputs": [
        {
          "output_type": "stream",
          "name": "stdout",
          "text": [
            "Program done by : Ajay Pathak\n",
            "Enrollment No.: 190630107170\n",
            "=================================\n",
            "\n",
            "\n",
            "\n"
          ]
        },
        {
          "output_type": "execute_result",
          "data": {
            "text/html": [
              "<div>\n",
              "<style scoped>\n",
              "    .dataframe tbody tr th:only-of-type {\n",
              "        vertical-align: middle;\n",
              "    }\n",
              "\n",
              "    .dataframe tbody tr th {\n",
              "        vertical-align: top;\n",
              "    }\n",
              "\n",
              "    .dataframe thead th {\n",
              "        text-align: right;\n",
              "    }\n",
              "</style>\n",
              "<table border=\"1\" class=\"dataframe\">\n",
              "  <thead>\n",
              "    <tr style=\"text-align: right;\">\n",
              "      <th></th>\n",
              "      <th>COUNTRY</th>\n",
              "      <th>POP</th>\n",
              "      <th>AREA</th>\n",
              "      <th>GDP</th>\n",
              "      <th>CONT</th>\n",
              "      <th>IND_DAY</th>\n",
              "    </tr>\n",
              "  </thead>\n",
              "  <tbody>\n",
              "    <tr>\n",
              "      <th>CHN</th>\n",
              "      <td>China</td>\n",
              "      <td>1398.72</td>\n",
              "      <td>9596.96</td>\n",
              "      <td>12234.78</td>\n",
              "      <td>Asia</td>\n",
              "      <td>NaN</td>\n",
              "    </tr>\n",
              "    <tr>\n",
              "      <th>IND</th>\n",
              "      <td>India</td>\n",
              "      <td>1351.16</td>\n",
              "      <td>3287.26</td>\n",
              "      <td>2575.67</td>\n",
              "      <td>Asia</td>\n",
              "      <td>1947-08-15</td>\n",
              "    </tr>\n",
              "    <tr>\n",
              "      <th>USA</th>\n",
              "      <td>US</td>\n",
              "      <td>329.74</td>\n",
              "      <td>9833.52</td>\n",
              "      <td>19485.39</td>\n",
              "      <td>N.America</td>\n",
              "      <td>1776-07-04</td>\n",
              "    </tr>\n",
              "    <tr>\n",
              "      <th>IDN</th>\n",
              "      <td>Indonesia</td>\n",
              "      <td>268.07</td>\n",
              "      <td>1910.93</td>\n",
              "      <td>1015.54</td>\n",
              "      <td>Asia</td>\n",
              "      <td>1945-08-17</td>\n",
              "    </tr>\n",
              "    <tr>\n",
              "      <th>BRA</th>\n",
              "      <td>Brazil</td>\n",
              "      <td>210.32</td>\n",
              "      <td>8515.77</td>\n",
              "      <td>2055.51</td>\n",
              "      <td>S.America</td>\n",
              "      <td>1822-09-07</td>\n",
              "    </tr>\n",
              "    <tr>\n",
              "      <th>PAK</th>\n",
              "      <td>Pakistan</td>\n",
              "      <td>205.71</td>\n",
              "      <td>881.91</td>\n",
              "      <td>302.14</td>\n",
              "      <td>Asia</td>\n",
              "      <td>1947-08-14</td>\n",
              "    </tr>\n",
              "    <tr>\n",
              "      <th>NGA</th>\n",
              "      <td>Nigeria</td>\n",
              "      <td>200.96</td>\n",
              "      <td>923.77</td>\n",
              "      <td>375.77</td>\n",
              "      <td>Africa</td>\n",
              "      <td>1960-10-01</td>\n",
              "    </tr>\n",
              "    <tr>\n",
              "      <th>BGD</th>\n",
              "      <td>Bangladesh</td>\n",
              "      <td>167.09</td>\n",
              "      <td>147.57</td>\n",
              "      <td>245.63</td>\n",
              "      <td>Asia</td>\n",
              "      <td>1971-03-26</td>\n",
              "    </tr>\n",
              "    <tr>\n",
              "      <th>RUS</th>\n",
              "      <td>Russia</td>\n",
              "      <td>146.79</td>\n",
              "      <td>17098.25</td>\n",
              "      <td>1530.75</td>\n",
              "      <td>NaN</td>\n",
              "      <td>1992-06-12</td>\n",
              "    </tr>\n",
              "    <tr>\n",
              "      <th>MEX</th>\n",
              "      <td>Mexico</td>\n",
              "      <td>126.58</td>\n",
              "      <td>1964.38</td>\n",
              "      <td>1158.23</td>\n",
              "      <td>N.America</td>\n",
              "      <td>1810-09-16</td>\n",
              "    </tr>\n",
              "    <tr>\n",
              "      <th>JPN</th>\n",
              "      <td>Japan</td>\n",
              "      <td>126.22</td>\n",
              "      <td>377.97</td>\n",
              "      <td>4872.42</td>\n",
              "      <td>Asia</td>\n",
              "      <td>NaN</td>\n",
              "    </tr>\n",
              "    <tr>\n",
              "      <th>DEU</th>\n",
              "      <td>Germany</td>\n",
              "      <td>83.02</td>\n",
              "      <td>357.11</td>\n",
              "      <td>3693.20</td>\n",
              "      <td>Europe</td>\n",
              "      <td>NaN</td>\n",
              "    </tr>\n",
              "    <tr>\n",
              "      <th>FRA</th>\n",
              "      <td>France</td>\n",
              "      <td>67.02</td>\n",
              "      <td>640.68</td>\n",
              "      <td>2582.49</td>\n",
              "      <td>Europe</td>\n",
              "      <td>1789-07-14</td>\n",
              "    </tr>\n",
              "    <tr>\n",
              "      <th>GBR</th>\n",
              "      <td>UK</td>\n",
              "      <td>66.44</td>\n",
              "      <td>242.50</td>\n",
              "      <td>2631.23</td>\n",
              "      <td>Europe</td>\n",
              "      <td>NaN</td>\n",
              "    </tr>\n",
              "    <tr>\n",
              "      <th>ITA</th>\n",
              "      <td>Italy</td>\n",
              "      <td>60.36</td>\n",
              "      <td>301.34</td>\n",
              "      <td>1943.84</td>\n",
              "      <td>Europe</td>\n",
              "      <td>NaN</td>\n",
              "    </tr>\n",
              "    <tr>\n",
              "      <th>ARG</th>\n",
              "      <td>Argentina</td>\n",
              "      <td>44.94</td>\n",
              "      <td>2780.40</td>\n",
              "      <td>637.49</td>\n",
              "      <td>S.America</td>\n",
              "      <td>1816-07-09</td>\n",
              "    </tr>\n",
              "    <tr>\n",
              "      <th>DZA</th>\n",
              "      <td>Algeria</td>\n",
              "      <td>43.38</td>\n",
              "      <td>2381.74</td>\n",
              "      <td>167.56</td>\n",
              "      <td>Africa</td>\n",
              "      <td>1962-07-05</td>\n",
              "    </tr>\n",
              "    <tr>\n",
              "      <th>CAN</th>\n",
              "      <td>Canada</td>\n",
              "      <td>37.59</td>\n",
              "      <td>9984.67</td>\n",
              "      <td>1647.12</td>\n",
              "      <td>N.America</td>\n",
              "      <td>1867-07-01</td>\n",
              "    </tr>\n",
              "    <tr>\n",
              "      <th>AUS</th>\n",
              "      <td>Australia</td>\n",
              "      <td>25.47</td>\n",
              "      <td>7692.02</td>\n",
              "      <td>1408.68</td>\n",
              "      <td>Oceania</td>\n",
              "      <td>NaN</td>\n",
              "    </tr>\n",
              "    <tr>\n",
              "      <th>KAZ</th>\n",
              "      <td>Kazakhstan</td>\n",
              "      <td>18.53</td>\n",
              "      <td>2724.90</td>\n",
              "      <td>159.41</td>\n",
              "      <td>Asia</td>\n",
              "      <td>1991-12-16</td>\n",
              "    </tr>\n",
              "  </tbody>\n",
              "</table>\n",
              "</div>"
            ],
            "text/plain": [
              "        COUNTRY      POP      AREA       GDP       CONT     IND_DAY\n",
              "CHN       China  1398.72   9596.96  12234.78       Asia         NaN\n",
              "IND       India  1351.16   3287.26   2575.67       Asia  1947-08-15\n",
              "USA          US   329.74   9833.52  19485.39  N.America  1776-07-04\n",
              "IDN   Indonesia   268.07   1910.93   1015.54       Asia  1945-08-17\n",
              "BRA      Brazil   210.32   8515.77   2055.51  S.America  1822-09-07\n",
              "PAK    Pakistan   205.71    881.91    302.14       Asia  1947-08-14\n",
              "NGA     Nigeria   200.96    923.77    375.77     Africa  1960-10-01\n",
              "BGD  Bangladesh   167.09    147.57    245.63       Asia  1971-03-26\n",
              "RUS      Russia   146.79  17098.25   1530.75        NaN  1992-06-12\n",
              "MEX      Mexico   126.58   1964.38   1158.23  N.America  1810-09-16\n",
              "JPN       Japan   126.22    377.97   4872.42       Asia         NaN\n",
              "DEU     Germany    83.02    357.11   3693.20     Europe         NaN\n",
              "FRA      France    67.02    640.68   2582.49     Europe  1789-07-14\n",
              "GBR          UK    66.44    242.50   2631.23     Europe         NaN\n",
              "ITA       Italy    60.36    301.34   1943.84     Europe         NaN\n",
              "ARG   Argentina    44.94   2780.40    637.49  S.America  1816-07-09\n",
              "DZA     Algeria    43.38   2381.74    167.56     Africa  1962-07-05\n",
              "CAN      Canada    37.59   9984.67   1647.12  N.America  1867-07-01\n",
              "AUS   Australia    25.47   7692.02   1408.68    Oceania         NaN\n",
              "KAZ  Kazakhstan    18.53   2724.90    159.41       Asia  1991-12-16"
            ]
          },
          "metadata": {},
          "execution_count": 42
        }
      ]
    },
    {
      "cell_type": "markdown",
      "metadata": {
        "id": "I_yxsU-SXX9i"
      },
      "source": [
        "### JSON format type"
      ],
      "id": "I_yxsU-SXX9i"
    },
    {
      "cell_type": "code",
      "metadata": {
        "colab": {
          "base_uri": "https://localhost:8080/",
          "height": 770
        },
        "id": "9h4jg6DwOYBI",
        "outputId": "94a7d68d-0ba1-4bba-f734-e28b745ff7c0"
      },
      "source": [
        "# --------------------------------------------\n",
        "print('Program done by : Ajay Pathak\\n' +\n",
        "      'Enrollment No.: 190630107170\\n' +\n",
        "      '=================================\\n\\n\\n')\n",
        "\n",
        "\n",
        "df_json = df.to_json('contries_data.json')\n",
        "\n",
        "# New jason file will be added in your directory\n",
        "pd.read_json('contries_data.json')"
      ],
      "id": "9h4jg6DwOYBI",
      "execution_count": null,
      "outputs": [
        {
          "output_type": "stream",
          "name": "stdout",
          "text": [
            "Program done by : Ajay Pathak\n",
            "Enrollment No.: 190630107170\n",
            "=================================\n",
            "\n",
            "\n",
            "\n"
          ]
        },
        {
          "output_type": "execute_result",
          "data": {
            "text/html": [
              "<div>\n",
              "<style scoped>\n",
              "    .dataframe tbody tr th:only-of-type {\n",
              "        vertical-align: middle;\n",
              "    }\n",
              "\n",
              "    .dataframe tbody tr th {\n",
              "        vertical-align: top;\n",
              "    }\n",
              "\n",
              "    .dataframe thead th {\n",
              "        text-align: right;\n",
              "    }\n",
              "</style>\n",
              "<table border=\"1\" class=\"dataframe\">\n",
              "  <thead>\n",
              "    <tr style=\"text-align: right;\">\n",
              "      <th></th>\n",
              "      <th>COUNTRY</th>\n",
              "      <th>POP</th>\n",
              "      <th>AREA</th>\n",
              "      <th>GDP</th>\n",
              "      <th>CONT</th>\n",
              "      <th>IND_DAY</th>\n",
              "    </tr>\n",
              "  </thead>\n",
              "  <tbody>\n",
              "    <tr>\n",
              "      <th>CHN</th>\n",
              "      <td>China</td>\n",
              "      <td>1398.72</td>\n",
              "      <td>9596.96</td>\n",
              "      <td>12234.78</td>\n",
              "      <td>Asia</td>\n",
              "      <td>None</td>\n",
              "    </tr>\n",
              "    <tr>\n",
              "      <th>IND</th>\n",
              "      <td>India</td>\n",
              "      <td>1351.16</td>\n",
              "      <td>3287.26</td>\n",
              "      <td>2575.67</td>\n",
              "      <td>Asia</td>\n",
              "      <td>1947-08-15</td>\n",
              "    </tr>\n",
              "    <tr>\n",
              "      <th>USA</th>\n",
              "      <td>US</td>\n",
              "      <td>329.74</td>\n",
              "      <td>9833.52</td>\n",
              "      <td>19485.39</td>\n",
              "      <td>N.America</td>\n",
              "      <td>1776-07-04</td>\n",
              "    </tr>\n",
              "    <tr>\n",
              "      <th>IDN</th>\n",
              "      <td>Indonesia</td>\n",
              "      <td>268.07</td>\n",
              "      <td>1910.93</td>\n",
              "      <td>1015.54</td>\n",
              "      <td>Asia</td>\n",
              "      <td>1945-08-17</td>\n",
              "    </tr>\n",
              "    <tr>\n",
              "      <th>BRA</th>\n",
              "      <td>Brazil</td>\n",
              "      <td>210.32</td>\n",
              "      <td>8515.77</td>\n",
              "      <td>2055.51</td>\n",
              "      <td>S.America</td>\n",
              "      <td>1822-09-07</td>\n",
              "    </tr>\n",
              "    <tr>\n",
              "      <th>PAK</th>\n",
              "      <td>Pakistan</td>\n",
              "      <td>205.71</td>\n",
              "      <td>881.91</td>\n",
              "      <td>302.14</td>\n",
              "      <td>Asia</td>\n",
              "      <td>1947-08-14</td>\n",
              "    </tr>\n",
              "    <tr>\n",
              "      <th>NGA</th>\n",
              "      <td>Nigeria</td>\n",
              "      <td>200.96</td>\n",
              "      <td>923.77</td>\n",
              "      <td>375.77</td>\n",
              "      <td>Africa</td>\n",
              "      <td>1960-10-01</td>\n",
              "    </tr>\n",
              "    <tr>\n",
              "      <th>BGD</th>\n",
              "      <td>Bangladesh</td>\n",
              "      <td>167.09</td>\n",
              "      <td>147.57</td>\n",
              "      <td>245.63</td>\n",
              "      <td>Asia</td>\n",
              "      <td>1971-03-26</td>\n",
              "    </tr>\n",
              "    <tr>\n",
              "      <th>RUS</th>\n",
              "      <td>Russia</td>\n",
              "      <td>146.79</td>\n",
              "      <td>17098.25</td>\n",
              "      <td>1530.75</td>\n",
              "      <td>None</td>\n",
              "      <td>1992-06-12</td>\n",
              "    </tr>\n",
              "    <tr>\n",
              "      <th>MEX</th>\n",
              "      <td>Mexico</td>\n",
              "      <td>126.58</td>\n",
              "      <td>1964.38</td>\n",
              "      <td>1158.23</td>\n",
              "      <td>N.America</td>\n",
              "      <td>1810-09-16</td>\n",
              "    </tr>\n",
              "    <tr>\n",
              "      <th>JPN</th>\n",
              "      <td>Japan</td>\n",
              "      <td>126.22</td>\n",
              "      <td>377.97</td>\n",
              "      <td>4872.42</td>\n",
              "      <td>Asia</td>\n",
              "      <td>None</td>\n",
              "    </tr>\n",
              "    <tr>\n",
              "      <th>DEU</th>\n",
              "      <td>Germany</td>\n",
              "      <td>83.02</td>\n",
              "      <td>357.11</td>\n",
              "      <td>3693.20</td>\n",
              "      <td>Europe</td>\n",
              "      <td>None</td>\n",
              "    </tr>\n",
              "    <tr>\n",
              "      <th>FRA</th>\n",
              "      <td>France</td>\n",
              "      <td>67.02</td>\n",
              "      <td>640.68</td>\n",
              "      <td>2582.49</td>\n",
              "      <td>Europe</td>\n",
              "      <td>1789-07-14</td>\n",
              "    </tr>\n",
              "    <tr>\n",
              "      <th>GBR</th>\n",
              "      <td>UK</td>\n",
              "      <td>66.44</td>\n",
              "      <td>242.50</td>\n",
              "      <td>2631.23</td>\n",
              "      <td>Europe</td>\n",
              "      <td>None</td>\n",
              "    </tr>\n",
              "    <tr>\n",
              "      <th>ITA</th>\n",
              "      <td>Italy</td>\n",
              "      <td>60.36</td>\n",
              "      <td>301.34</td>\n",
              "      <td>1943.84</td>\n",
              "      <td>Europe</td>\n",
              "      <td>None</td>\n",
              "    </tr>\n",
              "    <tr>\n",
              "      <th>ARG</th>\n",
              "      <td>Argentina</td>\n",
              "      <td>44.94</td>\n",
              "      <td>2780.40</td>\n",
              "      <td>637.49</td>\n",
              "      <td>S.America</td>\n",
              "      <td>1816-07-09</td>\n",
              "    </tr>\n",
              "    <tr>\n",
              "      <th>DZA</th>\n",
              "      <td>Algeria</td>\n",
              "      <td>43.38</td>\n",
              "      <td>2381.74</td>\n",
              "      <td>167.56</td>\n",
              "      <td>Africa</td>\n",
              "      <td>1962-07-05</td>\n",
              "    </tr>\n",
              "    <tr>\n",
              "      <th>CAN</th>\n",
              "      <td>Canada</td>\n",
              "      <td>37.59</td>\n",
              "      <td>9984.67</td>\n",
              "      <td>1647.12</td>\n",
              "      <td>N.America</td>\n",
              "      <td>1867-07-01</td>\n",
              "    </tr>\n",
              "    <tr>\n",
              "      <th>AUS</th>\n",
              "      <td>Australia</td>\n",
              "      <td>25.47</td>\n",
              "      <td>7692.02</td>\n",
              "      <td>1408.68</td>\n",
              "      <td>Oceania</td>\n",
              "      <td>None</td>\n",
              "    </tr>\n",
              "    <tr>\n",
              "      <th>KAZ</th>\n",
              "      <td>Kazakhstan</td>\n",
              "      <td>18.53</td>\n",
              "      <td>2724.90</td>\n",
              "      <td>159.41</td>\n",
              "      <td>Asia</td>\n",
              "      <td>1991-12-16</td>\n",
              "    </tr>\n",
              "  </tbody>\n",
              "</table>\n",
              "</div>"
            ],
            "text/plain": [
              "        COUNTRY      POP      AREA       GDP       CONT     IND_DAY\n",
              "CHN       China  1398.72   9596.96  12234.78       Asia        None\n",
              "IND       India  1351.16   3287.26   2575.67       Asia  1947-08-15\n",
              "USA          US   329.74   9833.52  19485.39  N.America  1776-07-04\n",
              "IDN   Indonesia   268.07   1910.93   1015.54       Asia  1945-08-17\n",
              "BRA      Brazil   210.32   8515.77   2055.51  S.America  1822-09-07\n",
              "PAK    Pakistan   205.71    881.91    302.14       Asia  1947-08-14\n",
              "NGA     Nigeria   200.96    923.77    375.77     Africa  1960-10-01\n",
              "BGD  Bangladesh   167.09    147.57    245.63       Asia  1971-03-26\n",
              "RUS      Russia   146.79  17098.25   1530.75       None  1992-06-12\n",
              "MEX      Mexico   126.58   1964.38   1158.23  N.America  1810-09-16\n",
              "JPN       Japan   126.22    377.97   4872.42       Asia        None\n",
              "DEU     Germany    83.02    357.11   3693.20     Europe        None\n",
              "FRA      France    67.02    640.68   2582.49     Europe  1789-07-14\n",
              "GBR          UK    66.44    242.50   2631.23     Europe        None\n",
              "ITA       Italy    60.36    301.34   1943.84     Europe        None\n",
              "ARG   Argentina    44.94   2780.40    637.49  S.America  1816-07-09\n",
              "DZA     Algeria    43.38   2381.74    167.56     Africa  1962-07-05\n",
              "CAN      Canada    37.59   9984.67   1647.12  N.America  1867-07-01\n",
              "AUS   Australia    25.47   7692.02   1408.68    Oceania        None\n",
              "KAZ  Kazakhstan    18.53   2724.90    159.41       Asia  1991-12-16"
            ]
          },
          "metadata": {},
          "execution_count": 43
        }
      ]
    },
    {
      "cell_type": "markdown",
      "metadata": {
        "id": "lVQVpA1tXwMK"
      },
      "source": [
        "### HTML format type"
      ],
      "id": "lVQVpA1tXwMK"
    },
    {
      "cell_type": "code",
      "metadata": {
        "colab": {
          "base_uri": "https://localhost:8080/"
        },
        "id": "tjQHtkgZOaAu",
        "outputId": "68835687-c7a3-4474-838b-35fbc776564d"
      },
      "source": [
        "# --------------------------------------------\n",
        "print('Program done by : Ajay Pathak\\n' +\n",
        "      'Enrollment No.: 190630107170\\n' +\n",
        "      '=================================\\n\\n\\n')\n",
        "\n",
        "\n",
        "df_html = df.to_html('contries_data.html')\n",
        "\n",
        "# New jason file will be added in your directory\n",
        "pd.read_html('contries_data.html')"
      ],
      "id": "tjQHtkgZOaAu",
      "execution_count": null,
      "outputs": [
        {
          "output_type": "stream",
          "name": "stdout",
          "text": [
            "Program done by : Ajay Pathak\n",
            "Enrollment No.: 190630107170\n",
            "=================================\n",
            "\n",
            "\n",
            "\n"
          ]
        },
        {
          "output_type": "execute_result",
          "data": {
            "text/plain": [
              "[   Unnamed: 0     COUNTRY      POP      AREA       GDP       CONT     IND_DAY\n",
              " 0         CHN       China  1398.72   9596.96  12234.78       Asia         NaN\n",
              " 1         IND       India  1351.16   3287.26   2575.67       Asia  1947-08-15\n",
              " 2         USA          US   329.74   9833.52  19485.39  N.America  1776-07-04\n",
              " 3         IDN   Indonesia   268.07   1910.93   1015.54       Asia  1945-08-17\n",
              " 4         BRA      Brazil   210.32   8515.77   2055.51  S.America  1822-09-07\n",
              " 5         PAK    Pakistan   205.71    881.91    302.14       Asia  1947-08-14\n",
              " 6         NGA     Nigeria   200.96    923.77    375.77     Africa  1960-10-01\n",
              " 7         BGD  Bangladesh   167.09    147.57    245.63       Asia  1971-03-26\n",
              " 8         RUS      Russia   146.79  17098.25   1530.75        NaN  1992-06-12\n",
              " 9         MEX      Mexico   126.58   1964.38   1158.23  N.America  1810-09-16\n",
              " 10        JPN       Japan   126.22    377.97   4872.42       Asia         NaN\n",
              " 11        DEU     Germany    83.02    357.11   3693.20     Europe         NaN\n",
              " 12        FRA      France    67.02    640.68   2582.49     Europe  1789-07-14\n",
              " 13        GBR          UK    66.44    242.50   2631.23     Europe         NaN\n",
              " 14        ITA       Italy    60.36    301.34   1943.84     Europe         NaN\n",
              " 15        ARG   Argentina    44.94   2780.40    637.49  S.America  1816-07-09\n",
              " 16        DZA     Algeria    43.38   2381.74    167.56     Africa  1962-07-05\n",
              " 17        CAN      Canada    37.59   9984.67   1647.12  N.America  1867-07-01\n",
              " 18        AUS   Australia    25.47   7692.02   1408.68    Oceania         NaN\n",
              " 19        KAZ  Kazakhstan    18.53   2724.90    159.41       Asia  1991-12-16]"
            ]
          },
          "metadata": {},
          "execution_count": 44
        }
      ]
    },
    {
      "cell_type": "markdown",
      "metadata": {
        "id": "avydSf6pZhWW"
      },
      "source": [
        "# 6] Write python programs demonstrating different functions for pre-processing the data. \n",
        "---"
      ],
      "id": "avydSf6pZhWW"
    },
    {
      "cell_type": "markdown",
      "metadata": {
        "id": "94m9o-DzaDOv"
      },
      "source": [
        "## NumPy Random"
      ],
      "id": "94m9o-DzaDOv"
    },
    {
      "cell_type": "markdown",
      "metadata": {
        "id": "ndNcGYz7cQDp"
      },
      "source": [
        "import statement"
      ],
      "id": "ndNcGYz7cQDp"
    },
    {
      "cell_type": "code",
      "metadata": {
        "id": "ngt_xqhlZ1wf"
      },
      "source": [
        "import numpy as np"
      ],
      "id": "ngt_xqhlZ1wf",
      "execution_count": null,
      "outputs": []
    },
    {
      "cell_type": "markdown",
      "metadata": {
        "id": "M9Ee-oH9btWw"
      },
      "source": [
        "### rand() function"
      ],
      "id": "M9Ee-oH9btWw"
    },
    {
      "cell_type": "markdown",
      "metadata": {
        "id": "c7qwMUD4cUVv"
      },
      "source": [
        "```rand()``` function returns random value between 0 to 1.\n",
        "\n",
        "as it returns the value we need to store it in some variable"
      ],
      "id": "c7qwMUD4cUVv"
    },
    {
      "cell_type": "code",
      "metadata": {
        "colab": {
          "base_uri": "https://localhost:8080/"
        },
        "id": "uzVX-3t1aN-g",
        "outputId": "6a80d7e0-bb4d-4299-fd7b-6a832e81fdb7"
      },
      "source": [
        "# --------------------------------------------\n",
        "print('Program done by : Ajay Pathak\\n' +\n",
        "      'Enrollment No.: 190630107170\\n' +\n",
        "      '=================================\\n\\n\\n')\n",
        "\n",
        "\n",
        "# Storing returned value from rand() to r1\n",
        "r1 = np.random.rand()\n",
        "print(r1)"
      ],
      "id": "uzVX-3t1aN-g",
      "execution_count": null,
      "outputs": [
        {
          "output_type": "stream",
          "name": "stdout",
          "text": [
            "Program done by : Ajay Pathak\n",
            "Enrollment No.: 190630107170\n",
            "=================================\n",
            "\n",
            "\n",
            "\n",
            "0.9802610660955282\n"
          ]
        }
      ]
    },
    {
      "cell_type": "markdown",
      "metadata": {
        "id": "awh74eVJcxhg"
      },
      "source": [
        "We can also specify shape of matrix as an argument values in ```rand()``` function."
      ],
      "id": "awh74eVJcxhg"
    },
    {
      "cell_type": "code",
      "metadata": {
        "colab": {
          "base_uri": "https://localhost:8080/"
        },
        "id": "XUxNzODYbPXV",
        "outputId": "bd8909cd-41f0-4922-89fe-e15605714426"
      },
      "source": [
        "# --------------------------------------------\n",
        "print('Program done by : Ajay Pathak\\n' +\n",
        "      'Enrollment No.: 190630107170\\n' +\n",
        "      '=================================\\n\\n\\n')\n",
        "\n",
        "random_mat = np.random.rand(2, 2)\n",
        "# returns matrix of shape given in argument,\n",
        "# with all the elements having random value between 0 to 1\n",
        "print(random_mat)"
      ],
      "id": "XUxNzODYbPXV",
      "execution_count": null,
      "outputs": [
        {
          "output_type": "stream",
          "name": "stdout",
          "text": [
            "Program done by : Ajay Pathak\n",
            "Enrollment No.: 190630107170\n",
            "=================================\n",
            "\n",
            "\n",
            "\n",
            "[[0.34583222 0.95283981]\n",
            " [0.38416811 0.81549131]]\n"
          ]
        }
      ]
    },
    {
      "cell_type": "markdown",
      "metadata": {
        "id": "tB26woCTb1So"
      },
      "source": [
        "### randint() function"
      ],
      "id": "tB26woCTb1So"
    },
    {
      "cell_type": "markdown",
      "metadata": {
        "id": "qlLU_3xCdIG1"
      },
      "source": [
        "```randint(start, stop, size)``` \n",
        "\n",
        "Returns array of size ```size``` , containing random integers from start to stop exclusive ( meaning stop is not included )"
      ],
      "id": "qlLU_3xCdIG1"
    },
    {
      "cell_type": "code",
      "metadata": {
        "colab": {
          "base_uri": "https://localhost:8080/"
        },
        "id": "BK5TvFrhba3e",
        "outputId": "62073c5e-7b06-4b49-cd1e-6de5e9316505"
      },
      "source": [
        "# --------------------------------------------\n",
        "print('Program done by : Ajay Pathak\\n' +\n",
        "      'Enrollment No.: 190630107170\\n' +\n",
        "      '=================================\\n\\n\\n')\n",
        "\n",
        "\n",
        "# Here, this will return 20 random integer values from 11 to 20 exclusive\n",
        "r1 = np.random.randint(11, 20, 20)\n",
        "\n",
        "print(r1)"
      ],
      "id": "BK5TvFrhba3e",
      "execution_count": null,
      "outputs": [
        {
          "output_type": "stream",
          "name": "stdout",
          "text": [
            "Program done by : Ajay Pathak\n",
            "Enrollment No.: 190630107170\n",
            "=================================\n",
            "\n",
            "\n",
            "\n",
            "[16 16 19 12 11 19 19 19 16 19 13 18 18 14 14 16 18 18 14 16]\n"
          ]
        }
      ]
    },
    {
      "cell_type": "code",
      "metadata": {
        "colab": {
          "base_uri": "https://localhost:8080/"
        },
        "id": "wrBRZJoPd-03",
        "outputId": "9ce6fd05-4d60-4152-b2b2-706f3190bad1"
      },
      "source": [
        "# --------------------------------------------\n",
        "print('Program done by : Ajay Pathak\\n' +\n",
        "      'Enrollment No.: 190630107170\\n' +\n",
        "      '=================================\\n\\n\\n')\n",
        "\n",
        "# then we can reshape this array and use it as matrix \n",
        "r1_mat = r1.reshape(5, 4)\n",
        "# NOTE reshape returns matrix of shape we give , it doesn't change r1 itself\n",
        "print('r1 still same :', r1)\n",
        "print('r1_mat :\\n', r1_mat)"
      ],
      "id": "wrBRZJoPd-03",
      "execution_count": null,
      "outputs": [
        {
          "output_type": "stream",
          "name": "stdout",
          "text": [
            "Program done by : Ajay Pathak\n",
            "Enrollment No.: 190630107170\n",
            "=================================\n",
            "\n",
            "\n",
            "\n",
            "r1 still same : [16 16 19 12 11 19 19 19 16 19 13 18 18 14 14 16 18 18 14 16]\n",
            "r1_mat :\n",
            " [[16 16 19 12]\n",
            " [11 19 19 19]\n",
            " [16 19 13 18]\n",
            " [18 14 14 16]\n",
            " [18 18 14 16]]\n"
          ]
        }
      ]
    },
    {
      "cell_type": "markdown",
      "metadata": {
        "id": "WpEHgIvUb7_g"
      },
      "source": [
        "### randn() function"
      ],
      "id": "WpEHgIvUb7_g"
    },
    {
      "cell_type": "markdown",
      "metadata": {
        "id": "wKuCMRrmeKff"
      },
      "source": [
        "Till now our random values were being selected from uniform distribution ,\n",
        "\n",
        "using ```randn()``` function , we can select random values from normal distribution"
      ],
      "id": "wKuCMRrmeKff"
    },
    {
      "cell_type": "code",
      "metadata": {
        "colab": {
          "base_uri": "https://localhost:8080/"
        },
        "id": "X5iKztONDVwj",
        "outputId": "dfcf4d6a-09e0-484c-e662-dd00f64b9c7e"
      },
      "source": [
        "# --------------------------------------------\n",
        "print('Program done by : Ajay Pathak\\n' +\n",
        "      'Enrollment No.: 190630107170\\n' +\n",
        "      '=================================\\n\\n\\n')\n",
        "\n",
        "# Use randn function to get random values from normal distribution\n",
        "normal_dist_random = np.random.randn(3)\n",
        "print(normal_dist_random)"
      ],
      "id": "X5iKztONDVwj",
      "execution_count": null,
      "outputs": [
        {
          "output_type": "stream",
          "name": "stdout",
          "text": [
            "Program done by : Ajay Pathak\n",
            "Enrollment No.: 190630107170\n",
            "=================================\n",
            "\n",
            "\n",
            "\n",
            "[ 0.53851387 -1.054743    0.51159886]\n"
          ]
        }
      ]
    },
    {
      "cell_type": "markdown",
      "metadata": {
        "id": "QCLPR4OjeeYE"
      },
      "source": [
        "Here is the visualization of both the function ,\n",
        "We will have 100000 random values from uniform distribution as welll as normal distribution and then we will plot hist diagrams for both of them."
      ],
      "id": "QCLPR4OjeeYE"
    },
    {
      "cell_type": "code",
      "metadata": {
        "colab": {
          "base_uri": "https://localhost:8080/",
          "height": 650
        },
        "id": "38G5wlBhD22B",
        "outputId": "3dfff7b6-80b0-4cbc-88ed-cb77f5ced067"
      },
      "source": [
        "# --------------------------------------------\n",
        "print('Program done by : Ajay Pathak\\n' +\n",
        "      'Enrollment No.: 190630107170\\n' +\n",
        "      '=================================\\n\\n\\n')\n",
        "\n",
        "\n",
        "import matplotlib.pyplot as plt\n",
        "sample_size = 100000\n",
        "uniform_dist_rand = np.random.rand(sample_size)\n",
        "normal_dist_rand = np.random.randn(sample_size)\n",
        "\n",
        "plt.hist(uniform_dist_rand, bins=100)\n",
        "plt.title('random values from uniform distribution')\n",
        "plt.show()\n",
        "\n",
        "plt.hist(normal_dist_rand, bins=100)\n",
        "plt.title('random values from normal distribution')\n",
        "plt.show()"
      ],
      "id": "38G5wlBhD22B",
      "execution_count": null,
      "outputs": [
        {
          "output_type": "stream",
          "name": "stdout",
          "text": [
            "Program done by : Ajay Pathak\n",
            "Enrollment No.: 190630107170\n",
            "=================================\n",
            "\n",
            "\n",
            "\n"
          ]
        },
        {
          "output_type": "display_data",
          "data": {
            "image/png": "[encoded data removed]",
            "text/plain": [
              "<Figure size 432x288 with 1 Axes>"
            ]
          },
          "metadata": {
            "needs_background": "light"
          }
        },
        {
          "output_type": "display_data",
          "data": {
            "image/png": "[encoded data removed]",
            "text/plain": [
              "<Figure size 432x288 with 1 Axes>"
            ]
          },
          "metadata": {
            "needs_background": "light"
          }
        }
      ]
    },
    {
      "cell_type": "markdown",
      "metadata": {
        "id": "eL4KBwq6e0Bt"
      },
      "source": [
        "As you can see , first graph is of uniformly distributed random values and that is why it resembles uniform distribution....\n",
        "\n",
        "whereas in 2nd graph we used random values from normal distribution that is why \n",
        "it resembles normal distributin..."
      ],
      "id": "eL4KBwq6e0Bt"
    },
    {
      "cell_type": "markdown",
      "metadata": {
        "id": "USH-FoSz_1jN"
      },
      "source": [
        "## Aggregation Functions"
      ],
      "id": "USH-FoSz_1jN"
    },
    {
      "cell_type": "markdown",
      "metadata": {
        "id": "Bosf5HOnfST-"
      },
      "source": [
        "Import statement"
      ],
      "id": "Bosf5HOnfST-"
    },
    {
      "cell_type": "code",
      "metadata": {
        "id": "2DvL1uXfAYZy"
      },
      "source": [
        "import numpy as np"
      ],
      "id": "2DvL1uXfAYZy",
      "execution_count": null,
      "outputs": []
    },
    {
      "cell_type": "code",
      "metadata": {
        "colab": {
          "base_uri": "https://localhost:8080/"
        },
        "id": "KxhHA63O_5hu",
        "outputId": "fb76f9d2-3d1e-46ae-9dc3-bb9b8c92c5ba"
      },
      "source": [
        "# --------------------------------------------\n",
        "print('Program done by : Ajay Pathak\\n' +\n",
        "      'Enrollment No.: 190630107170\\n' +\n",
        "      '=================================\\n\\n\\n')\n",
        "\n",
        "# Let's define some data and then use some numpy functions\n",
        "# This is simple array \n",
        "data = [22, 16, 29, 27 , 20, 31, 20, 9]\n",
        "# let's convert it into nd numpy array\n",
        "data = np.array(data) # we use np.array(your_array_variable) to convert your array variable in numpy array\n",
        "print(data, type(data))"
      ],
      "id": "KxhHA63O_5hu",
      "execution_count": null,
      "outputs": [
        {
          "output_type": "stream",
          "name": "stdout",
          "text": [
            "Program done by : Ajay Pathak\n",
            "Enrollment No.: 190630107170\n",
            "=================================\n",
            "\n",
            "\n",
            "\n",
            "[22 16 29 27 20 31 20  9] <class 'numpy.ndarray'>\n"
          ]
        }
      ]
    },
    {
      "cell_type": "markdown",
      "metadata": {
        "id": "rNpUdE0vgGMF"
      },
      "source": [
        "```min()``` function returns minimum value from the array"
      ],
      "id": "rNpUdE0vgGMF"
    },
    {
      "cell_type": "code",
      "metadata": {
        "colab": {
          "base_uri": "https://localhost:8080/"
        },
        "id": "lRo4Qb7tgNfU",
        "outputId": "fed693be-e22a-44ff-8172-37965ed3a204"
      },
      "source": [
        "# --------------------------------------------\n",
        "print('Program done by : Ajay Pathak\\n' +\n",
        "      'Enrollment No.: 190630107170\\n' +\n",
        "      '=================================\\n\\n\\n')\n",
        "\n",
        "print('min value :', data.min())"
      ],
      "id": "lRo4Qb7tgNfU",
      "execution_count": null,
      "outputs": [
        {
          "output_type": "stream",
          "name": "stdout",
          "text": [
            "Program done by : Ajay Pathak\n",
            "Enrollment No.: 190630107170\n",
            "=================================\n",
            "\n",
            "\n",
            "\n",
            "min value : 9\n"
          ]
        }
      ]
    },
    {
      "cell_type": "markdown",
      "metadata": {
        "id": "GhCVjbdygSUN"
      },
      "source": [
        "```argmin()``` returns index of minimum value "
      ],
      "id": "GhCVjbdygSUN"
    },
    {
      "cell_type": "code",
      "metadata": {
        "colab": {
          "base_uri": "https://localhost:8080/"
        },
        "id": "PMVzQi0YAPYp",
        "outputId": "7fbbcb9d-f6a5-4b7c-9ce7-20e5418ac081"
      },
      "source": [
        "# --------------------------------------------\n",
        "print('Program done by : Ajay Pathak\\n' +\n",
        "      'Enrollment No.: 190630107170\\n' +\n",
        "      '=================================\\n\\n\\n')\n",
        "\n",
        "\n",
        "print('min index:', data.argmin())"
      ],
      "id": "PMVzQi0YAPYp",
      "execution_count": null,
      "outputs": [
        {
          "output_type": "stream",
          "name": "stdout",
          "text": [
            "Program done by : Ajay Pathak\n",
            "Enrollment No.: 190630107170\n",
            "=================================\n",
            "\n",
            "\n",
            "\n",
            "min index: 7\n"
          ]
        }
      ]
    },
    {
      "cell_type": "markdown",
      "metadata": {
        "id": "X5idOPxHgheF"
      },
      "source": [
        "```max()``` returns maximum value from the array"
      ],
      "id": "X5idOPxHgheF"
    },
    {
      "cell_type": "code",
      "metadata": {
        "colab": {
          "base_uri": "https://localhost:8080/"
        },
        "id": "gTtN1k0SAmdT",
        "outputId": "7a2dc60b-f141-4aa6-91d9-11950fe138ce"
      },
      "source": [
        "# --------------------------------------------\n",
        "print('Program done by : Ajay Pathak\\n' +\n",
        "      'Enrollment No.: 190630107170\\n' +\n",
        "      '=================================\\n\\n\\n')\n",
        "\n",
        "print('max :', data.max())"
      ],
      "id": "gTtN1k0SAmdT",
      "execution_count": null,
      "outputs": [
        {
          "output_type": "stream",
          "name": "stdout",
          "text": [
            "Program done by : Ajay Pathak\n",
            "Enrollment No.: 190630107170\n",
            "=================================\n",
            "\n",
            "\n",
            "\n",
            "max : 31\n"
          ]
        }
      ]
    },
    {
      "cell_type": "markdown",
      "metadata": {
        "id": "4HFAYtKYgms8"
      },
      "source": [
        "```argmax()``` returns index of maximum value"
      ],
      "id": "4HFAYtKYgms8"
    },
    {
      "cell_type": "code",
      "metadata": {
        "colab": {
          "base_uri": "https://localhost:8080/"
        },
        "id": "D0H7B_nvAwRy",
        "outputId": "01ddbf1f-5792-463a-c00b-b0bbc5d3e937"
      },
      "source": [
        "# --------------------------------------------\n",
        "print('Program done by : Ajay Pathak\\n' +\n",
        "      'Enrollment No.: 190630107170\\n' +\n",
        "      '=================================\\n\\n\\n')\n",
        "\n",
        "print('max index :', data.argmax())"
      ],
      "id": "D0H7B_nvAwRy",
      "execution_count": null,
      "outputs": [
        {
          "output_type": "stream",
          "name": "stdout",
          "text": [
            "Program done by : Ajay Pathak\n",
            "Enrollment No.: 190630107170\n",
            "=================================\n",
            "\n",
            "\n",
            "\n",
            "max index : 5\n"
          ]
        }
      ]
    },
    {
      "cell_type": "markdown",
      "metadata": {
        "id": "DtAyB7irgsMr"
      },
      "source": [
        "```mean()``` returns mean of all values in array"
      ],
      "id": "DtAyB7irgsMr"
    },
    {
      "cell_type": "code",
      "metadata": {
        "colab": {
          "base_uri": "https://localhost:8080/"
        },
        "id": "4h9HYr-CA0a4",
        "outputId": "1ef997c2-7c8b-46d7-eb67-f3636baaf82b"
      },
      "source": [
        "# --------------------------------------------\n",
        "print('Program done by : Ajay Pathak\\n' +\n",
        "      'Enrollment No.: 190630107170\\n' +\n",
        "      '=================================\\n\\n\\n')\n",
        "\n",
        "print('mean :', data.mean())"
      ],
      "id": "4h9HYr-CA0a4",
      "execution_count": null,
      "outputs": [
        {
          "output_type": "stream",
          "name": "stdout",
          "text": [
            "Program done by : Ajay Pathak\n",
            "Enrollment No.: 190630107170\n",
            "=================================\n",
            "\n",
            "\n",
            "\n",
            "mean : 21.75\n"
          ]
        }
      ]
    },
    {
      "cell_type": "markdown",
      "metadata": {
        "id": "y78u2vERgyJ1"
      },
      "source": [
        "```std()``` returns standard deviation"
      ],
      "id": "y78u2vERgyJ1"
    },
    {
      "cell_type": "code",
      "metadata": {
        "colab": {
          "base_uri": "https://localhost:8080/"
        },
        "id": "I-zRz_cqA7uQ",
        "outputId": "91fec4ae-7248-4e7c-c4a7-5553beb30e32"
      },
      "source": [
        "# --------------------------------------------\n",
        "print('Program done by : Ajay Pathak\\n' +\n",
        "      'Enrollment No.: 190630107170\\n' +\n",
        "      '=================================\\n\\n\\n')\n",
        "\n",
        "print('standard deviation :', data.std())"
      ],
      "id": "I-zRz_cqA7uQ",
      "execution_count": null,
      "outputs": [
        {
          "output_type": "stream",
          "name": "stdout",
          "text": [
            "Program done by : Ajay Pathak\n",
            "Enrollment No.: 190630107170\n",
            "=================================\n",
            "\n",
            "\n",
            "\n",
            "standard deviation : 6.777720855862979\n"
          ]
        }
      ]
    },
    {
      "cell_type": "markdown",
      "metadata": {
        "id": "wUvWzIl_h1Ys"
      },
      "source": [
        "```sum()``` returns sum of elements"
      ],
      "id": "wUvWzIl_h1Ys"
    },
    {
      "cell_type": "markdown",
      "metadata": {
        "id": "cUNDLoAOg86t"
      },
      "source": [
        "using axis argument with aggregation functions\n"
      ],
      "id": "cUNDLoAOg86t"
    },
    {
      "cell_type": "code",
      "metadata": {
        "colab": {
          "base_uri": "https://localhost:8080/"
        },
        "id": "KOexOyNdBBRi",
        "outputId": "6507e918-8592-49aa-ef5f-8da71cf5b6b3"
      },
      "source": [
        "# --------------------------------------------\n",
        "print('Program done by : Ajay Pathak\\n' +\n",
        "      'Enrollment No.: 190630107170\\n' +\n",
        "      '=================================\\n\\n\\n')\n",
        "\n",
        "\n",
        "# We can provide axis argument with all the aggregation function we have seen till now\n",
        "# it defines along which axis we want to perfom certain functions\n",
        "\n",
        "# To understand properly we need matrix \n",
        "# Let's create it\n",
        "mat = np.random.randint(1, 10, 25) # Getting 25 random integer values from 1 to 100 not inclusive\n",
        "# reshaping the array into matrix of shape 5x5 , \n",
        "# here no of elements much be 25 as we have 25 elements in array \n",
        "# that's why i have selected 5x5 shape\n",
        "mat = mat.reshape(5, 5) \n",
        "print(mat)"
      ],
      "id": "KOexOyNdBBRi",
      "execution_count": null,
      "outputs": [
        {
          "output_type": "stream",
          "name": "stdout",
          "text": [
            "Program done by : Ajay Pathak\n",
            "Enrollment No.: 190630107170\n",
            "=================================\n",
            "\n",
            "\n",
            "\n",
            "[[1 5 7 4 4]\n",
            " [2 3 6 8 1]\n",
            " [7 7 1 5 5]\n",
            " [8 8 7 4 7]\n",
            " [7 6 4 8 3]]\n"
          ]
        }
      ]
    },
    {
      "cell_type": "markdown",
      "metadata": {
        "id": "F9bi8jAviqWK"
      },
      "source": [
        "axis 1 represents rows"
      ],
      "id": "F9bi8jAviqWK"
    },
    {
      "cell_type": "code",
      "metadata": {
        "colab": {
          "base_uri": "https://localhost:8080/"
        },
        "id": "Dhw5mLmrFW2a",
        "outputId": "ba2389dc-3eac-4bb6-e802-a15fb3eba4a3"
      },
      "source": [
        "# --------------------------------------------\n",
        "print('Program done by : Ajay Pathak\\n' +\n",
        "      'Enrollment No.: 190630107170\\n' +\n",
        "      '=================================\\n\\n\\n')\n",
        "\n",
        "print('sum of rows :', mat.sum(axis=1))"
      ],
      "id": "Dhw5mLmrFW2a",
      "execution_count": null,
      "outputs": [
        {
          "output_type": "stream",
          "name": "stdout",
          "text": [
            "Program done by : Ajay Pathak\n",
            "Enrollment No.: 190630107170\n",
            "=================================\n",
            "\n",
            "\n",
            "\n",
            "sum of rows : [21 20 25 34 28]\n"
          ]
        }
      ]
    },
    {
      "cell_type": "markdown",
      "metadata": {
        "id": "HyJN2-sIizmc"
      },
      "source": [
        "axis 0 represents columns"
      ],
      "id": "HyJN2-sIizmc"
    },
    {
      "cell_type": "code",
      "metadata": {
        "colab": {
          "base_uri": "https://localhost:8080/"
        },
        "id": "3X-d5iVQF2HJ",
        "outputId": "e14a26c3-41e5-40c6-9269-807dbf7b61eb"
      },
      "source": [
        "# --------------------------------------------\n",
        "print('Program done by : Ajay Pathak\\n' +\n",
        "      'Enrollment No.: 190630107170\\n' +\n",
        "      '=================================\\n\\n\\n')\n",
        "\n",
        "print('sum of columns :', mat.sum(axis=0))"
      ],
      "id": "3X-d5iVQF2HJ",
      "execution_count": null,
      "outputs": [
        {
          "output_type": "stream",
          "name": "stdout",
          "text": [
            "Program done by : Ajay Pathak\n",
            "Enrollment No.: 190630107170\n",
            "=================================\n",
            "\n",
            "\n",
            "\n",
            "sum of columns : [25 29 25 29 20]\n"
          ]
        }
      ]
    },
    {
      "cell_type": "markdown",
      "metadata": {
        "id": "dTghtQeyi43L"
      },
      "source": [
        "not providing axis includes all the elements"
      ],
      "id": "dTghtQeyi43L"
    },
    {
      "cell_type": "code",
      "metadata": {
        "colab": {
          "base_uri": "https://localhost:8080/"
        },
        "id": "ARRru6IjKkkX",
        "outputId": "ad90cbd5-67ef-46b7-9916-09c126f1b4aa"
      },
      "source": [
        "# --------------------------------------------\n",
        "print('Program done by : Ajay Pathak\\n' +\n",
        "      'Enrollment No.: 190630107170\\n' +\n",
        "      '=================================\\n\\n\\n')\n",
        "\n",
        "print('sum of all elements :', mat.sum())"
      ],
      "id": "ARRru6IjKkkX",
      "execution_count": null,
      "outputs": [
        {
          "output_type": "stream",
          "name": "stdout",
          "text": [
            "Program done by : Ajay Pathak\n",
            "Enrollment No.: 190630107170\n",
            "=================================\n",
            "\n",
            "\n",
            "\n",
            "sum of all elements : 128\n"
          ]
        }
      ]
    },
    {
      "cell_type": "markdown",
      "metadata": {
        "id": "oPOrtjmVLBpn"
      },
      "source": [
        "## Slicing of ndarray"
      ],
      "id": "oPOrtjmVLBpn"
    },
    {
      "cell_type": "code",
      "metadata": {
        "colab": {
          "base_uri": "https://localhost:8080/"
        },
        "id": "cvNIMf3tLFM_",
        "outputId": "83135317-b024-4b5f-bfa7-49e24f9ae666"
      },
      "source": [
        "# --------------------------------------------\n",
        "print('Program done by : Ajay Pathak\\n' +\n",
        "      'Enrollment No.: 190630107170\\n' +\n",
        "      '=================================\\n\\n\\n')\n",
        "\n",
        "# This variable stores birthday of persons\n",
        "data = [['AJ', 22, 1],\n",
        "        ['Ace', 16, 3],\n",
        "        ['Dave', 27, 11],\n",
        "        ['Lotte', 29, 9],\n",
        "        ['martha', 20, 6],\n",
        "        ['steve', 31, 10],\n",
        "        ['Raj', 9, 10],\n",
        "        ['Wane', 20, 1]]\n",
        "\n",
        "print(data)"
      ],
      "id": "cvNIMf3tLFM_",
      "execution_count": null,
      "outputs": [
        {
          "output_type": "stream",
          "name": "stdout",
          "text": [
            "Program done by : Ajay Pathak\n",
            "Enrollment No.: 190630107170\n",
            "=================================\n",
            "\n",
            "\n",
            "\n",
            "[['AJ', 22, 1], ['Ace', 16, 3], ['Dave', 27, 11], ['Lotte', 29, 9], ['martha', 20, 6], ['steve', 31, 10], ['Raj', 9, 10], ['Wane', 20, 1]]\n"
          ]
        }
      ]
    },
    {
      "cell_type": "markdown",
      "metadata": {
        "id": "MAq5nuSHjVyb"
      },
      "source": [
        "```Array[start:stop:step}]```\n",
        "\n",
        "it returns array starting from index ```start``` till index ```stop``` - 1 , taking ```step``` steps every time. "
      ],
      "id": "MAq5nuSHjVyb"
    },
    {
      "cell_type": "markdown",
      "metadata": {
        "id": "ViqWygNXj7e0"
      },
      "source": [
        "\n",
        "Not providing ```start``` argument results in 0, meaning it start from the first element."
      ],
      "id": "ViqWygNXj7e0"
    },
    {
      "cell_type": "code",
      "metadata": {
        "colab": {
          "base_uri": "https://localhost:8080/"
        },
        "id": "tB1ufH0BjLU0",
        "outputId": "6ec544b1-321e-45c6-ff5b-2d28a43b6a76"
      },
      "source": [
        "# --------------------------------------------\n",
        "print('Program done by : Ajay Pathak\\n' +\n",
        "      'Enrollment No.: 190630107170\\n' +\n",
        "      '=================================\\n\\n\\n')\n",
        "\n",
        "\n",
        "print(data[:5]) "
      ],
      "id": "tB1ufH0BjLU0",
      "execution_count": null,
      "outputs": [
        {
          "output_type": "stream",
          "name": "stdout",
          "text": [
            "Program done by : Ajay Pathak\n",
            "Enrollment No.: 190630107170\n",
            "=================================\n",
            "\n",
            "\n",
            "\n",
            "[['AJ', 22, 1], ['Ace', 16, 3], ['Dave', 27, 11], ['Lotte', 29, 9], ['martha', 20, 6]]\n"
          ]
        }
      ]
    },
    {
      "cell_type": "markdown",
      "metadata": {
        "id": "yy5IfgG3j9HC"
      },
      "source": [
        "\n",
        "Not providing ```stop``` argument results in length of the array."
      ],
      "id": "yy5IfgG3j9HC"
    },
    {
      "cell_type": "code",
      "metadata": {
        "colab": {
          "base_uri": "https://localhost:8080/"
        },
        "id": "wK8ZDORrMDk2",
        "outputId": "d0fbaa93-f80d-4253-86d1-036d762f2ef9"
      },
      "source": [
        "print(data[5:]) # returns every element from index 5 till last index"
      ],
      "id": "wK8ZDORrMDk2",
      "execution_count": null,
      "outputs": [
        {
          "output_type": "stream",
          "name": "stdout",
          "text": [
            "[['steve', 31, 10], ['Raj', 9, 10], ['Wane', 20, 1]]\n"
          ]
        }
      ]
    },
    {
      "cell_type": "code",
      "metadata": {
        "colab": {
          "base_uri": "https://localhost:8080/"
        },
        "id": "vLhRJh3zMIOv",
        "outputId": "83212712-b23e-4aad-b72c-d1b1bafe2087"
      },
      "source": [
        "print(data[::2]) \n",
        "# Instead of taking one step which is default , it will take 2 steps every time "
      ],
      "id": "vLhRJh3zMIOv",
      "execution_count": null,
      "outputs": [
        {
          "output_type": "stream",
          "name": "stdout",
          "text": [
            "[['AJ', 22, 1], ['Dave', 27, 11], ['martha', 20, 6], ['Raj', 9, 10]]\n"
          ]
        }
      ]
    },
    {
      "cell_type": "code",
      "metadata": {
        "colab": {
          "base_uri": "https://localhost:8080/"
        },
        "id": "29OzSa3fMOWw",
        "outputId": "843466e8-3cee-4c77-d84d-31a2834b6065"
      },
      "source": [
        "print(data[:-4:-1]) \n",
        "# negative stop index means 4th index from the last\n",
        "# negative steps means reverse traversing "
      ],
      "id": "29OzSa3fMOWw",
      "execution_count": null,
      "outputs": [
        {
          "output_type": "stream",
          "name": "stdout",
          "text": [
            "[['Wane', 20, 1], ['Raj', 9, 10], ['steve', 31, 10]]\n"
          ]
        }
      ]
    },
    {
      "cell_type": "code",
      "metadata": {
        "colab": {
          "base_uri": "https://localhost:8080/"
        },
        "id": "lasxYpWGMWvG",
        "outputId": "4d0b9b91-0c48-40c5-879b-f6ab9af5d971"
      },
      "source": [
        "print(data)"
      ],
      "id": "lasxYpWGMWvG",
      "execution_count": null,
      "outputs": [
        {
          "output_type": "stream",
          "name": "stdout",
          "text": [
            "[['AJ', 22, 1], ['Ace', 16, 3], ['Dave', 27, 11], ['Lotte', 29, 9], ['martha', 20, 6], ['steve', 31, 10], ['Raj', 9, 10], ['Wane', 20, 1]]\n"
          ]
        }
      ]
    },
    {
      "cell_type": "markdown",
      "metadata": {
        "id": "IDy_XSU7kjmd"
      },
      "source": [
        "Slicing is mutable\n"
      ],
      "id": "IDy_XSU7kjmd"
    },
    {
      "cell_type": "code",
      "metadata": {
        "colab": {
          "base_uri": "https://localhost:8080/"
        },
        "id": "_iB2oEJkNDaG",
        "outputId": "693d1848-b275-4c13-aad0-222d5fe4f1c4"
      },
      "source": [
        "# --------------------------------------------\n",
        "print('Program done by : Ajay Pathak\\n' +\n",
        "      'Enrollment No.: 190630107170\\n' +\n",
        "      '=================================\\n\\n\\n')\n",
        "\n",
        "array = np.array([1, 2, 3, 4, 5])\n",
        "\n",
        "# we store last 3 elements values in array_slice variable\n",
        "array_slice = array[2:]\n",
        "\n",
        "print(array_slice)"
      ],
      "id": "_iB2oEJkNDaG",
      "execution_count": null,
      "outputs": [
        {
          "output_type": "stream",
          "name": "stdout",
          "text": [
            "Program done by : Ajay Pathak\n",
            "Enrollment No.: 190630107170\n",
            "=================================\n",
            "\n",
            "\n",
            "\n",
            "[3 4 5]\n"
          ]
        }
      ]
    },
    {
      "cell_type": "code",
      "metadata": {
        "colab": {
          "base_uri": "https://localhost:8080/"
        },
        "id": "zsO6zKLXNW_3",
        "outputId": "3b6c725c-f4a9-4344-a4d6-d40b11dc8fa3"
      },
      "source": [
        "# now , we change all the elements in that array_slice variable\n",
        "array_slice[:] = 0\n",
        "\n",
        "# it also changes original array's last 3 elements\n",
        "print('original array :', array)\n",
        "print('sliced array :', array_slice)"
      ],
      "id": "zsO6zKLXNW_3",
      "execution_count": null,
      "outputs": [
        {
          "output_type": "stream",
          "name": "stdout",
          "text": [
            "original array : [1 2 0 0 0]\n",
            "sliced array : [0 0 0]\n"
          ]
        }
      ]
    },
    {
      "cell_type": "markdown",
      "metadata": {
        "id": "l2VLTRFvOaI1"
      },
      "source": [
        "## Numpy Arithmetic Operations"
      ],
      "id": "l2VLTRFvOaI1"
    },
    {
      "cell_type": "code",
      "metadata": {
        "colab": {
          "base_uri": "https://localhost:8080/"
        },
        "id": "gEeWQQCHNqMt",
        "outputId": "e7a1455a-ab33-4c7c-bd08-0d5f64d494d6"
      },
      "source": [
        "# --------------------------------------------\n",
        "print('Program done by : Ajay Pathak\\n' +\n",
        "      'Enrollment No.: 190630107170\\n' +\n",
        "      '=================================\\n\\n\\n')\n",
        "\n",
        "\n",
        "arr1 = np.random.randint(1, 10, 20)\n",
        "arr1 = arr1.reshape(5, 4)\n",
        "arr2 = np.random.randint(1, 10, 20)\n",
        "arr2 = arr2.reshape(5, 4)\n",
        "\n",
        "print('arr1 :\\n', arr1, '\\n\\narr2 :\\n', arr2)"
      ],
      "id": "gEeWQQCHNqMt",
      "execution_count": null,
      "outputs": [
        {
          "output_type": "stream",
          "name": "stdout",
          "text": [
            "Program done by : Ajay Pathak\n",
            "Enrollment No.: 190630107170\n",
            "=================================\n",
            "\n",
            "\n",
            "\n",
            "arr1 :\n",
            " [[7 1 2 9]\n",
            " [2 9 8 5]\n",
            " [6 1 2 9]\n",
            " [7 8 8 6]\n",
            " [7 4 7 6]] \n",
            "\n",
            "arr2 :\n",
            " [[4 9 3 3]\n",
            " [4 4 3 5]\n",
            " [2 7 4 4]\n",
            " [6 9 7 1]\n",
            " [5 3 3 8]]\n"
          ]
        }
      ]
    },
    {
      "cell_type": "code",
      "metadata": {
        "colab": {
          "base_uri": "https://localhost:8080/"
        },
        "id": "skp06nDZO_st",
        "outputId": "8134dfb3-4891-4b24-c66c-156d78879528"
      },
      "source": [
        "# --------------------------------------------\n",
        "print('Program done by : Ajay Pathak\\n' +\n",
        "      'Enrollment No.: 190630107170\\n' +\n",
        "      '=================================\\n\\n\\n')\n",
        "\n",
        "# Adding scalar to the matrix\n",
        "# scalar value is added to every element \n",
        "\n",
        "arr1add2 = arr1 + 2\n",
        "print(arr1add2)\n",
        "\n",
        "# Substracting scalar value works same \n",
        "new_arr = arr1add2 - 2\n",
        "print(new_arr)"
      ],
      "id": "skp06nDZO_st",
      "execution_count": null,
      "outputs": [
        {
          "output_type": "stream",
          "name": "stdout",
          "text": [
            "Program done by : Ajay Pathak\n",
            "Enrollment No.: 190630107170\n",
            "=================================\n",
            "\n",
            "\n",
            "\n",
            "[[ 9  3  4 11]\n",
            " [ 4 11 10  7]\n",
            " [ 8  3  4 11]\n",
            " [ 9 10 10  8]\n",
            " [ 9  6  9  8]]\n",
            "[[7 1 2 9]\n",
            " [2 9 8 5]\n",
            " [6 1 2 9]\n",
            " [7 8 8 6]\n",
            " [7 4 7 6]]\n"
          ]
        }
      ]
    },
    {
      "cell_type": "code",
      "metadata": {
        "colab": {
          "base_uri": "https://localhost:8080/"
        },
        "id": "kN4imkBxPemt",
        "outputId": "8140d1c5-d0c7-4ed1-9675-bea924ed3b2b"
      },
      "source": [
        "# --------------------------------------------\n",
        "print('Program done by : Ajay Pathak\\n' +\n",
        "      'Enrollment No.: 190630107170\\n' +\n",
        "      '=================================\\n\\n\\n')\n",
        "\n",
        "\n",
        "# Adding both matrices\n",
        "sum_mat = arr1 + arr2\n",
        "print(sum_mat)"
      ],
      "id": "kN4imkBxPemt",
      "execution_count": null,
      "outputs": [
        {
          "output_type": "stream",
          "name": "stdout",
          "text": [
            "Program done by : Ajay Pathak\n",
            "Enrollment No.: 190630107170\n",
            "=================================\n",
            "\n",
            "\n",
            "\n",
            "[[11 10  5 12]\n",
            " [ 6 13 11 10]\n",
            " [ 8  8  6 13]\n",
            " [13 17 15  7]\n",
            " [12  7 10 14]]\n"
          ]
        }
      ]
    },
    {
      "cell_type": "code",
      "metadata": {
        "colab": {
          "base_uri": "https://localhost:8080/"
        },
        "id": "Yh-zZWZDQAt8",
        "outputId": "00ac31e2-c928-4309-8637-2649b48d8428"
      },
      "source": [
        "sub_mat = sum_mat - arr2\n",
        "# Our ans should be same as arr1\n",
        "print(sub_mat)"
      ],
      "id": "Yh-zZWZDQAt8",
      "execution_count": null,
      "outputs": [
        {
          "output_type": "stream",
          "name": "stdout",
          "text": [
            "[[7 1 2 9]\n",
            " [2 9 8 5]\n",
            " [6 1 2 9]\n",
            " [7 8 8 6]\n",
            " [7 4 7 6]]\n"
          ]
        }
      ]
    },
    {
      "cell_type": "code",
      "metadata": {
        "colab": {
          "base_uri": "https://localhost:8080/"
        },
        "id": "XRiY8-lZQotd",
        "outputId": "18b61e2e-78df-4633-c1c3-addb916b948f"
      },
      "source": [
        "# Division works same\n",
        "arr1div2 = arr1 / 2\n",
        "print(arr1div2)"
      ],
      "id": "XRiY8-lZQotd",
      "execution_count": null,
      "outputs": [
        {
          "output_type": "stream",
          "name": "stdout",
          "text": [
            "[[3.5 0.5 1.  4.5]\n",
            " [1.  4.5 4.  2.5]\n",
            " [3.  0.5 1.  4.5]\n",
            " [3.5 4.  4.  3. ]\n",
            " [3.5 2.  3.5 3. ]]\n"
          ]
        }
      ]
    },
    {
      "cell_type": "code",
      "metadata": {
        "colab": {
          "base_uri": "https://localhost:8080/"
        },
        "id": "RTslplYxQ75j",
        "outputId": "55d41ec5-3756-46ba-aa42-3fa7d0573f4a"
      },
      "source": [
        "# We can perform elementwise division between matrices as follow\n",
        "div = arr1/arr2\n",
        "print(div)"
      ],
      "id": "RTslplYxQ75j",
      "execution_count": null,
      "outputs": [
        {
          "output_type": "stream",
          "name": "stdout",
          "text": [
            "[[1.75       0.11111111 0.66666667 3.        ]\n",
            " [0.5        2.25       2.66666667 1.        ]\n",
            " [3.         0.14285714 0.5        2.25      ]\n",
            " [1.16666667 0.88888889 1.14285714 6.        ]\n",
            " [1.4        1.33333333 2.33333333 0.75      ]]\n"
          ]
        }
      ]
    },
    {
      "cell_type": "code",
      "metadata": {
        "colab": {
          "base_uri": "https://localhost:8080/"
        },
        "id": "1nhoY_z4RHRL",
        "outputId": "ada66646-f9d3-461a-d2c9-68e558ea85b3"
      },
      "source": [
        "# same goes for multiplication\n",
        "# Multiplying arr2 with our div variable should return arr1\n",
        "new_arr = div * arr2\n",
        "print(new_arr)"
      ],
      "id": "1nhoY_z4RHRL",
      "execution_count": null,
      "outputs": [
        {
          "output_type": "stream",
          "name": "stdout",
          "text": [
            "[[7. 1. 2. 9.]\n",
            " [2. 9. 8. 5.]\n",
            " [6. 1. 2. 9.]\n",
            " [7. 8. 8. 6.]\n",
            " [7. 4. 7. 6.]]\n"
          ]
        }
      ]
    },
    {
      "cell_type": "code",
      "metadata": {
        "colab": {
          "base_uri": "https://localhost:8080/"
        },
        "id": "ARzM_VRWReii",
        "outputId": "52845a19-d442-459a-9c6c-28b22e2adc72"
      },
      "source": [
        "# For matrix multiplication we use matmul function or dot function\n",
        "# We need to use transpose of one of the array to make them eligible for matrix multiplication\n",
        "mat_mul = np.matmul(arr1, arr2.T)\n",
        "print(mat_mul)"
      ],
      "id": "ARzM_VRWReii",
      "execution_count": null,
      "outputs": [
        {
          "output_type": "stream",
          "name": "stdout",
          "text": [
            "[[ 70  83  65  74 116]\n",
            " [128  93 119 154 101]\n",
            " [ 66  79  63  68 111]\n",
            " [142 114 126 176 131]\n",
            " [103  95  94 133 116]]\n"
          ]
        }
      ]
    },
    {
      "cell_type": "code",
      "metadata": {
        "colab": {
          "base_uri": "https://localhost:8080/"
        },
        "id": "-W9DHvJPSbg7",
        "outputId": "4998be68-5109-4591-f925-7d837b65cb9b"
      },
      "source": [
        "dot = arr1.dot(arr2.T)\n",
        "print(dot)"
      ],
      "id": "-W9DHvJPSbg7",
      "execution_count": null,
      "outputs": [
        {
          "output_type": "stream",
          "name": "stdout",
          "text": [
            "[[ 70  83  65  74 116]\n",
            " [128  93 119 154 101]\n",
            " [ 66  79  63  68 111]\n",
            " [142 114 126 176 131]\n",
            " [103  95  94 133 116]]\n"
          ]
        }
      ]
    },
    {
      "cell_type": "code",
      "metadata": {
        "colab": {
          "base_uri": "https://localhost:8080/"
        },
        "id": "EPIbDzdoS2_j",
        "outputId": "8fa81836-a06a-470a-dd16-9efca4eb8724"
      },
      "source": [
        "using_atRate = arr1 @ arr2.T\n",
        "print(using_atRate)"
      ],
      "id": "EPIbDzdoS2_j",
      "execution_count": null,
      "outputs": [
        {
          "output_type": "stream",
          "name": "stdout",
          "text": [
            "[[ 70  83  65  74 116]\n",
            " [128  93 119 154 101]\n",
            " [ 66  79  63  68 111]\n",
            " [142 114 126 176 131]\n",
            " [103  95  94 133 116]]\n"
          ]
        }
      ]
    },
    {
      "cell_type": "markdown",
      "metadata": {
        "id": "5I_LzmyNTrKY"
      },
      "source": [
        "## Sorting"
      ],
      "id": "5I_LzmyNTrKY"
    },
    {
      "cell_type": "code",
      "metadata": {
        "colab": {
          "base_uri": "https://localhost:8080/"
        },
        "id": "UcudjX1VTHLi",
        "outputId": "e632140a-de9c-4d49-d60b-d0067e8d188e"
      },
      "source": [
        "# --------------------------------------------\n",
        "print('Program done by : Ajay Pathak\\n' +\n",
        "      'Enrollment No.: 190630107170\\n' +\n",
        "      '=================================\\n\\n\\n')\n",
        "\n",
        "\n",
        "my_data_type = np.dtype([('name', 'S10'), ('email', 'S10'), ('Gender', 'S10'), ('age', int)]) \n",
        "\n",
        "data = np.array([ ('Nate', 'Nate.data@gamil.com', 'Female', 24),\n",
        "                 ('Aj', 'Aj.data@gmail.com', 'Male', 19),\n",
        "                 ('Hari', 'Hari.data@gmail.com', 'Male', 23),\n",
        "                 ('Ace', 'Ace.data@gmail.com', 'Female', 19)], dtype=my_data_type)\n",
        "\n",
        "\n",
        "\n",
        "print(data)"
      ],
      "id": "UcudjX1VTHLi",
      "execution_count": null,
      "outputs": [
        {
          "output_type": "stream",
          "name": "stdout",
          "text": [
            "Program done by : Ajay Pathak\n",
            "Enrollment No.: 190630107170\n",
            "=================================\n",
            "\n",
            "\n",
            "\n",
            "[(b'Nate', b'Nate.data@', b'Female', 24)\n",
            " (b'Aj', b'Aj.data@gm', b'Male', 19) (b'Hari', b'Hari.data@', b'Male', 23)\n",
            " (b'Ace', b'Ace.data@g', b'Female', 19)]\n"
          ]
        }
      ]
    },
    {
      "cell_type": "code",
      "metadata": {
        "colab": {
          "base_uri": "https://localhost:8080/"
        },
        "id": "37bRaRAzVO-Q",
        "outputId": "51e525fa-58d9-49c0-a49d-c055dd3839b2"
      },
      "source": [
        "data.sort(order='name')\n",
        "print(data)"
      ],
      "id": "37bRaRAzVO-Q",
      "execution_count": null,
      "outputs": [
        {
          "output_type": "stream",
          "name": "stdout",
          "text": [
            "[(b'Ace', b'Ace.data@g', b'Female', 19)\n",
            " (b'Aj', b'Aj.data@gm', b'Male', 19) (b'Hari', b'Hari.data@', b'Male', 23)\n",
            " (b'Nate', b'Nate.data@', b'Female', 24)]\n"
          ]
        }
      ]
    },
    {
      "cell_type": "code",
      "metadata": {
        "colab": {
          "base_uri": "https://localhost:8080/"
        },
        "id": "VdkxG_AsdYk4",
        "outputId": "fcee0250-1aaa-47a9-bf7d-1b1d36055d0f"
      },
      "source": [
        "data.sort(order=['Gender', 'name', 'age'])\n",
        "print(data)"
      ],
      "id": "VdkxG_AsdYk4",
      "execution_count": null,
      "outputs": [
        {
          "output_type": "stream",
          "name": "stdout",
          "text": [
            "[(b'Ace', b'Ace.data@g', b'Female', 19)\n",
            " (b'Nate', b'Nate.data@', b'Female', 24)\n",
            " (b'Aj', b'Aj.data@gm', b'Male', 19) (b'Hari', b'Hari.data@', b'Male', 23)]\n"
          ]
        }
      ]
    },
    {
      "cell_type": "markdown",
      "metadata": {
        "id": "qhmlqKgReo1v"
      },
      "source": [
        "## Conditional Selection"
      ],
      "id": "qhmlqKgReo1v"
    },
    {
      "cell_type": "code",
      "metadata": {
        "colab": {
          "base_uri": "https://localhost:8080/"
        },
        "id": "S8qjO561drjD",
        "outputId": "aae4853f-8ed3-455f-c4b6-a8ebe674354d"
      },
      "source": [
        "# --------------------------------------------\n",
        "print('Program done by : Ajay Pathak\\n' +\n",
        "      'Enrollment No.: 190630107170\\n' +\n",
        "      '=================================\\n\\n\\n')\n",
        "\n",
        "\n",
        "numbers = np.random.randn(20)\n",
        "print(numbers)"
      ],
      "id": "S8qjO561drjD",
      "execution_count": null,
      "outputs": [
        {
          "output_type": "stream",
          "name": "stdout",
          "text": [
            "Program done by : Ajay Pathak\n",
            "Enrollment No.: 190630107170\n",
            "=================================\n",
            "\n",
            "\n",
            "\n",
            "[ 0.39985169  1.50208481  0.74700254 -1.20270672 -1.53068862 -0.84607113\n",
            "  0.34166911  1.06852098 -0.89523096  1.21495817 -1.17322     0.81104866\n",
            "  0.98465038 -0.13420327 -0.37348439  1.20223154 -0.18979768  0.57708309\n",
            "  0.04938363 -1.62498978]\n"
          ]
        }
      ]
    },
    {
      "cell_type": "code",
      "metadata": {
        "colab": {
          "base_uri": "https://localhost:8080/"
        },
        "id": "BlwI3J_le96w",
        "outputId": "fe4fae2e-367d-4f7d-e711-dcaa404d7b83"
      },
      "source": [
        "# Lets make bool array to represent negative and positive elements\n",
        "# negative numbers would ne false and positive would be true\n",
        "\n",
        "sign = numbers > 0\n",
        "print(sign)"
      ],
      "id": "BlwI3J_le96w",
      "execution_count": null,
      "outputs": [
        {
          "output_type": "stream",
          "name": "stdout",
          "text": [
            "[ True  True  True False False False  True  True False  True False  True\n",
            "  True False False  True False  True  True False]\n"
          ]
        }
      ]
    },
    {
      "cell_type": "markdown",
      "metadata": {
        "id": "2CF9rFUxQNrX"
      },
      "source": [
        "## Pandas Series"
      ],
      "id": "2CF9rFUxQNrX"
    },
    {
      "cell_type": "code",
      "metadata": {
        "id": "sWhMSY_nfS1Q",
        "colab": {
          "base_uri": "https://localhost:8080/"
        },
        "outputId": "bd76d217-1658-4519-8dd7-36a3add662a4"
      },
      "source": [
        "# --------------------------------------------\n",
        "print('Program done by : Ajay Pathak\\n' +\n",
        "      'Enrollment No.: 190630107170\\n' +\n",
        "      '=================================\\n\\n\\n')\n",
        "\n",
        "\n",
        "import pandas as pd\n",
        "import numpy as np"
      ],
      "id": "sWhMSY_nfS1Q",
      "execution_count": null,
      "outputs": [
        {
          "output_type": "stream",
          "name": "stdout",
          "text": [
            "Program done by : Ajay Pathak\n",
            "Enrollment No.: 190630107170\n",
            "=================================\n",
            "\n",
            "\n",
            "\n"
          ]
        }
      ]
    },
    {
      "cell_type": "code",
      "metadata": {
        "colab": {
          "base_uri": "https://localhost:8080/"
        },
        "id": "OHh60_-bQaqO",
        "outputId": "ed9c6432-e4c3-4b9c-fe4d-c40fa2a49db6"
      },
      "source": [
        "s = pd.Series([1, 2, 4, 6, 7, 0])\n",
        "print(s)"
      ],
      "id": "OHh60_-bQaqO",
      "execution_count": null,
      "outputs": [
        {
          "output_type": "stream",
          "name": "stdout",
          "text": [
            "0    1\n",
            "1    2\n",
            "2    4\n",
            "3    6\n",
            "4    7\n",
            "5    0\n",
            "dtype: int64\n"
          ]
        }
      ]
    },
    {
      "cell_type": "code",
      "metadata": {
        "colab": {
          "base_uri": "https://localhost:8080/"
        },
        "id": "vxzUHIw_QsDx",
        "outputId": "a426f8a0-6fa3-4b92-8c6e-d3ae758ac22e"
      },
      "source": [
        "print('3rd element in series :', s[2])\n",
        "print('2nd last element in series :', s[4])"
      ],
      "id": "vxzUHIw_QsDx",
      "execution_count": null,
      "outputs": [
        {
          "output_type": "stream",
          "name": "stdout",
          "text": [
            "3rd element in series : 4\n",
            "2nd last element in series : 7\n"
          ]
        }
      ]
    },
    {
      "cell_type": "code",
      "metadata": {
        "colab": {
          "base_uri": "https://localhost:8080/"
        },
        "id": "Bonz2RGKQ_Iu",
        "outputId": "ab513b6b-0543-4aeb-d3a9-978b9f2cf39d"
      },
      "source": [
        "add_res = s[3] + s[1]\n",
        "print(add_res)"
      ],
      "id": "Bonz2RGKQ_Iu",
      "execution_count": null,
      "outputs": [
        {
          "output_type": "stream",
          "name": "stdout",
          "text": [
            "8\n"
          ]
        }
      ]
    },
    {
      "cell_type": "code",
      "metadata": {
        "colab": {
          "base_uri": "https://localhost:8080/"
        },
        "id": "vCyDV3c3RjPN",
        "outputId": "53dd3ec1-63dc-460e-fe86-939d94717c75"
      },
      "source": [
        "data = pd.Series(np.random.randint(0, 51, 7), dtype=str)\n",
        "print(data)"
      ],
      "id": "vCyDV3c3RjPN",
      "execution_count": null,
      "outputs": [
        {
          "output_type": "stream",
          "name": "stdout",
          "text": [
            "0    38\n",
            "1    29\n",
            "2    50\n",
            "3    33\n",
            "4    21\n",
            "5    25\n",
            "6    50\n",
            "dtype: object\n"
          ]
        }
      ]
    },
    {
      "cell_type": "code",
      "metadata": {
        "colab": {
          "base_uri": "https://localhost:8080/"
        },
        "id": "0GO4elBsSC4n",
        "outputId": "21416dbf-ea42-438e-d3de-ed2ae71db522"
      },
      "source": [
        "# --------------------------------------------\n",
        "print('Program done by : Ajay Pathak\\n' +\n",
        "      'Enrollment No.: 190630107170\\n' +\n",
        "      '=================================\\n\\n\\n')\n",
        "\n",
        "\n",
        "indeces = ['Emp. Id', 'Name', 'Post']\n",
        "emp_data = [12.1, 'Nate', 'R4']\n",
        "emp_data_S = pd.Series(data=emp_data, index=indeces)\n",
        "print(emp_data_S)\n"
      ],
      "id": "0GO4elBsSC4n",
      "execution_count": null,
      "outputs": [
        {
          "output_type": "stream",
          "name": "stdout",
          "text": [
            "Program done by : Ajay Pathak\n",
            "Enrollment No.: 190630107170\n",
            "=================================\n",
            "\n",
            "\n",
            "\n",
            "Emp. Id    12.1\n",
            "Name       Nate\n",
            "Post         R4\n",
            "dtype: object\n"
          ]
        }
      ]
    },
    {
      "cell_type": "markdown",
      "metadata": {
        "id": "uc4lSOvKTAqj"
      },
      "source": [
        "## Creating Time series\n"
      ],
      "id": "uc4lSOvKTAqj"
    },
    {
      "cell_type": "code",
      "metadata": {
        "id": "Lf_VD5fZTG1b",
        "colab": {
          "base_uri": "https://localhost:8080/"
        },
        "outputId": "93808977-8c82-4ef3-cb66-f8a90ed12663"
      },
      "source": [
        "# --------------------------------------------\n",
        "print('Program done by : Ajay Pathak\\n' +\n",
        "      'Enrollment No.: 190630107170\\n' +\n",
        "      '=================================\\n\\n\\n')\n",
        "\n",
        "\n",
        "import pandas as pd\n",
        "import numpy as np"
      ],
      "id": "Lf_VD5fZTG1b",
      "execution_count": null,
      "outputs": [
        {
          "output_type": "stream",
          "name": "stdout",
          "text": [
            "Program done by : Ajay Pathak\n",
            "Enrollment No.: 190630107170\n",
            "=================================\n",
            "\n",
            "\n",
            "\n"
          ]
        }
      ]
    },
    {
      "cell_type": "code",
      "metadata": {
        "colab": {
          "base_uri": "https://localhost:8080/"
        },
        "id": "hBg_qWsMSn7f",
        "outputId": "db912dfe-39b6-4798-c667-78e2117730bc"
      },
      "source": [
        "# --------------------------------------------\n",
        "print('Program done by : Ajay Pathak\\n' +\n",
        "      'Enrollment No.: 190630107170\\n' +\n",
        "      '=================================\\n\\n\\n')\n",
        "\n",
        "\n",
        "date = pd.to_datetime(\"22nd of January , 2002\")\n",
        "daily_indeces = date + pd.to_timedelta(np.arange(20), unit='D')\n",
        "data = np.random.randn(20) > 0\n",
        "\n",
        "stock_trend = pd.Series(data=data, index=daily_indeces)\n",
        "print(stock_trend)"
      ],
      "id": "hBg_qWsMSn7f",
      "execution_count": null,
      "outputs": [
        {
          "output_type": "stream",
          "name": "stdout",
          "text": [
            "Program done by : Ajay Pathak\n",
            "Enrollment No.: 190630107170\n",
            "=================================\n",
            "\n",
            "\n",
            "\n",
            "2002-01-22    False\n",
            "2002-01-23    False\n",
            "2002-01-24     True\n",
            "2002-01-25    False\n",
            "2002-01-26     True\n",
            "2002-01-27    False\n",
            "2002-01-28    False\n",
            "2002-01-29    False\n",
            "2002-01-30     True\n",
            "2002-01-31    False\n",
            "2002-02-01    False\n",
            "2002-02-02    False\n",
            "2002-02-03     True\n",
            "2002-02-04     True\n",
            "2002-02-05    False\n",
            "2002-02-06    False\n",
            "2002-02-07    False\n",
            "2002-02-08    False\n",
            "2002-02-09     True\n",
            "2002-02-10    False\n",
            "dtype: bool\n"
          ]
        }
      ]
    },
    {
      "cell_type": "markdown",
      "metadata": {
        "id": "pDMrid3Ho473"
      },
      "source": [
        ""
      ],
      "id": "pDMrid3Ho473"
    },
    {
      "cell_type": "markdown",
      "metadata": {
        "id": "4Q8DYo3pqg24"
      },
      "source": [
        "# 7] Demonstrate Statistical data analysing Numeric Data in python.\n",
        "---"
      ],
      "id": "4Q8DYo3pqg24"
    },
    {
      "cell_type": "markdown",
      "metadata": {
        "id": "JlQGd1WgKDzO"
      },
      "source": [
        "## Revise Numpy"
      ],
      "id": "JlQGd1WgKDzO"
    },
    {
      "cell_type": "markdown",
      "metadata": {
        "id": "kxPuLsFNq8Km"
      },
      "source": [
        "importing numpy"
      ],
      "id": "kxPuLsFNq8Km"
    },
    {
      "cell_type": "code",
      "metadata": {
        "id": "CBXulLb_qnOm",
        "colab": {
          "base_uri": "https://localhost:8080/"
        },
        "outputId": "901668b5-3655-452d-aedc-ac90ec4508e3"
      },
      "source": [
        "# --------------------------------------------\n",
        "print('Program done by : Ajay Pathak\\n' +\n",
        "      'Enrollment No.: 190630107170\\n' +\n",
        "      '=================================\\n\\n\\n')\n",
        "\n",
        "\n",
        "import numpy as np"
      ],
      "id": "CBXulLb_qnOm",
      "execution_count": null,
      "outputs": [
        {
          "output_type": "stream",
          "name": "stdout",
          "text": [
            "Program done by : Ajay Pathak\n",
            "Enrollment No.: 190630107170\n",
            "=================================\n",
            "\n",
            "\n",
            "\n"
          ]
        }
      ]
    },
    {
      "cell_type": "markdown",
      "metadata": {
        "id": "fwlAazbTrB9l"
      },
      "source": [
        "Creating array ussing numpy array() method\n",
        "we used random.randint() method to generate 5 random elements from [0, 10)"
      ],
      "id": "fwlAazbTrB9l"
    },
    {
      "cell_type": "code",
      "metadata": {
        "colab": {
          "base_uri": "https://localhost:8080/"
        },
        "id": "Q2kiJwH1qzM-",
        "outputId": "fabbdc76-a9c8-4a45-b049-5e73236c5bc6"
      },
      "source": [
        "# --------------------------------------------\n",
        "print('Program done by : Ajay Pathak\\n' +\n",
        "      'Enrollment No.: 190630107170\\n' +\n",
        "      '=================================\\n\\n\\n')\n",
        "\n",
        "\n",
        "arr1 = np.array(np.random.randint(0, 10, 5))\n",
        "print(arr1)"
      ],
      "id": "Q2kiJwH1qzM-",
      "execution_count": null,
      "outputs": [
        {
          "output_type": "stream",
          "name": "stdout",
          "text": [
            "Program done by : Ajay Pathak\n",
            "Enrollment No.: 190630107170\n",
            "=================================\n",
            "\n",
            "\n",
            "\n",
            "[4 1 0 5 0]\n"
          ]
        }
      ]
    },
    {
      "cell_type": "markdown",
      "metadata": {
        "id": "ReqN7C6AsCzu"
      },
      "source": [
        "Accessing and manipulating array elements "
      ],
      "id": "ReqN7C6AsCzu"
    },
    {
      "cell_type": "code",
      "metadata": {
        "colab": {
          "base_uri": "https://localhost:8080/"
        },
        "id": "7MTy5botrIic",
        "outputId": "99f021aa-4b43-43bc-a9f7-9c7d538b6392"
      },
      "source": [
        "# --------------------------------------------\n",
        "print('Program done by : Ajay Pathak\\n' +\n",
        "      'Enrollment No.: 190630107170\\n' +\n",
        "      '=================================\\n\\n\\n')\n",
        "\n",
        "\n",
        "\n",
        "print(arr1[3]) # prints elememt on 3rd index from arr "
      ],
      "id": "7MTy5botrIic",
      "execution_count": null,
      "outputs": [
        {
          "output_type": "stream",
          "name": "stdout",
          "text": [
            "Program done by : Ajay Pathak\n",
            "Enrollment No.: 190630107170\n",
            "=================================\n",
            "\n",
            "\n",
            "\n",
            "5\n"
          ]
        }
      ]
    },
    {
      "cell_type": "code",
      "metadata": {
        "colab": {
          "base_uri": "https://localhost:8080/"
        },
        "id": "y6Zq36vYsPYu",
        "outputId": "4b8c0d9a-a02e-4bdd-ce51-d2af5973d26f"
      },
      "source": [
        "# --------------------------------------------\n",
        "print('Program done by : Ajay Pathak\\n' +\n",
        "      'Enrollment No.: 190630107170\\n' +\n",
        "      '=================================\\n\\n\\n')\n",
        "\n",
        "\n",
        "print('arr1 before changing value : ',arr1)\n",
        "arr1[3] = arr1[2] # changes value of 3rd index to the value of 2nd index in arr1\n",
        "print('arr1 after changing value : ',arr1)"
      ],
      "id": "y6Zq36vYsPYu",
      "execution_count": null,
      "outputs": [
        {
          "output_type": "stream",
          "name": "stdout",
          "text": [
            "Program done by : Ajay Pathak\n",
            "Enrollment No.: 190630107170\n",
            "=================================\n",
            "\n",
            "\n",
            "\n",
            "arr1 before changing value :  [4 1 0 5 0]\n",
            "arr1 after changing value :  [4 1 0 0 0]\n"
          ]
        }
      ]
    },
    {
      "cell_type": "markdown",
      "metadata": {
        "id": "Cqy7kRi7sw6W"
      },
      "source": [
        "Let's create 2D array \n"
      ],
      "id": "Cqy7kRi7sw6W"
    },
    {
      "cell_type": "code",
      "metadata": {
        "colab": {
          "base_uri": "https://localhost:8080/"
        },
        "id": "0VWh4x0ssd7F",
        "outputId": "84d9e783-5a19-42e4-d53d-e80233d22e15"
      },
      "source": [
        "# --------------------------------------------\n",
        "print('Program done by : Ajay Pathak\\n' +\n",
        "      'Enrollment No.: 190630107170\\n' +\n",
        "      '=================================\\n\\n\\n')\n",
        "\n",
        "\n",
        "# arr2 = np.random.randint(0, 10, 3)\n",
        "# arr3 = np.arange(0, 5)\n",
        "# matrix1 = np.array([arr2, [1, 3, 5]], dtype=int)\n",
        "# print(matrix1)\n",
        "\n",
        "matrix = np.array([ [22, 16, 27], \n",
        "                    [1, 3, 11] ])\n",
        "print(matrix)"
      ],
      "id": "0VWh4x0ssd7F",
      "execution_count": null,
      "outputs": [
        {
          "output_type": "stream",
          "name": "stdout",
          "text": [
            "Program done by : Ajay Pathak\n",
            "Enrollment No.: 190630107170\n",
            "=================================\n",
            "\n",
            "\n",
            "\n",
            "[[22 16 27]\n",
            " [ 1  3 11]]\n"
          ]
        }
      ]
    },
    {
      "cell_type": "markdown",
      "metadata": {
        "id": "BHGnK7E9vH2t"
      },
      "source": [
        "We can know the size of the matrix/array with shape method in numpy"
      ],
      "id": "BHGnK7E9vH2t"
    },
    {
      "cell_type": "code",
      "metadata": {
        "colab": {
          "base_uri": "https://localhost:8080/"
        },
        "id": "cqhQ1YlxtLfv",
        "outputId": "476c6752-0912-41b6-f262-ea26f2419841"
      },
      "source": [
        "print(matrix.shape)"
      ],
      "id": "cqhQ1YlxtLfv",
      "execution_count": null,
      "outputs": [
        {
          "output_type": "stream",
          "name": "stdout",
          "text": [
            "(2, 3)\n"
          ]
        }
      ]
    },
    {
      "cell_type": "markdown",
      "metadata": {
        "id": "Xzpg75YZwGLl"
      },
      "source": [
        "We can access 2D array element as below"
      ],
      "id": "Xzpg75YZwGLl"
    },
    {
      "cell_type": "code",
      "metadata": {
        "colab": {
          "base_uri": "https://localhost:8080/"
        },
        "id": "ivgvinJEvPZm",
        "outputId": "ec0731f1-d628-47e4-85d1-250cf7e0300a"
      },
      "source": [
        "# --------------------------------------------\n",
        "print('Program done by : Ajay Pathak\\n' +\n",
        "      'Enrollment No.: 190630107170\\n' +\n",
        "      '=================================\\n\\n\\n')\n",
        "\n",
        "\n",
        "print('first element in first row : ', matrix[0][0])\n",
        "print('last element in last row : ', matrix[-1][-1]) # negative index refers to the list in reverse order\n",
        "print('second row : ', matrix[1]) # not providing colom value returns whole row"
      ],
      "id": "ivgvinJEvPZm",
      "execution_count": null,
      "outputs": [
        {
          "output_type": "stream",
          "name": "stdout",
          "text": [
            "Program done by : Ajay Pathak\n",
            "Enrollment No.: 190630107170\n",
            "=================================\n",
            "\n",
            "\n",
            "\n",
            "first element in first row :  22\n",
            "last element in last row :  11\n",
            "second row :  [ 1  3 11]\n"
          ]
        }
      ]
    },
    {
      "cell_type": "markdown",
      "metadata": {
        "id": "Fdp0SidRw29e"
      },
      "source": [
        "Array of type string"
      ],
      "id": "Fdp0SidRw29e"
    },
    {
      "cell_type": "code",
      "metadata": {
        "colab": {
          "base_uri": "https://localhost:8080/"
        },
        "id": "-K22qWGXwUBV",
        "outputId": "5c8f3a77-9d26-4745-a2eb-a7dd5f5e5269"
      },
      "source": [
        "# --------------------------------------------\n",
        "print('Program done by : Ajay Pathak\\n' +\n",
        "      'Enrollment No.: 190630107170\\n' +\n",
        "      '=================================\\n\\n\\n')\n",
        "\n",
        "\n",
        "\n",
        "family = ['Father', 'Mother', 'Brother', 'Sister']\n",
        "print(family)\n",
        "print('3rd element in family list is : ', family[2]) # accessing array element as shown earlier"
      ],
      "id": "-K22qWGXwUBV",
      "execution_count": null,
      "outputs": [
        {
          "output_type": "stream",
          "name": "stdout",
          "text": [
            "Program done by : Ajay Pathak\n",
            "Enrollment No.: 190630107170\n",
            "=================================\n",
            "\n",
            "\n",
            "\n",
            "['Father', 'Mother', 'Brother', 'Sister']\n",
            "3rd element in family list is :  Brother\n"
          ]
        }
      ]
    },
    {
      "cell_type": "markdown",
      "metadata": {
        "id": "M94m1qmcxU-t"
      },
      "source": [
        "Using the arange() and linspace() function to evenly space values in a specified interval."
      ],
      "id": "M94m1qmcxU-t"
    },
    {
      "cell_type": "code",
      "metadata": {
        "colab": {
          "base_uri": "https://localhost:8080/"
        },
        "id": "81BbpxMDxBvN",
        "outputId": "ae185b33-da51-4137-d2e0-c12865bc4c61"
      },
      "source": [
        "# --------------------------------------------\n",
        "print('Program done by : Ajay Pathak\\n' +\n",
        "      'Enrollment No.: 190630107170\\n' +\n",
        "      '=================================\\n\\n\\n')\n",
        "\n",
        "\n",
        "arr_with_same_difference = np.arange(0, 10, 3)\n",
        "print('This array will have same difference between adjacent elements : \\n', arr_with_same_difference)\n",
        "# so using arrange method returns list in given range i.e., (0, 10) in our case , with every 3rd element in our case"
      ],
      "id": "81BbpxMDxBvN",
      "execution_count": null,
      "outputs": [
        {
          "output_type": "stream",
          "name": "stdout",
          "text": [
            "Program done by : Ajay Pathak\n",
            "Enrollment No.: 190630107170\n",
            "=================================\n",
            "\n",
            "\n",
            "\n",
            "This array will have same difference between adjacent elements : \n",
            " [0 3 6 9]\n"
          ]
        }
      ]
    },
    {
      "cell_type": "code",
      "metadata": {
        "id": "RFKT32Idxxid",
        "colab": {
          "base_uri": "https://localhost:8080/"
        },
        "outputId": "d7277f03-6ed8-4a1f-df83-61599476afc5"
      },
      "source": [
        "# --------------------------------------------\n",
        "print('Program done by : Ajay Pathak\\n' +\n",
        "      'Enrollment No.: 190630107170\\n' +\n",
        "      '=================================\\n\\n\\n')\n",
        "\n",
        "\n",
        "# if we want a list of numbers in range (11, 30) with every 5th element \n",
        "# we can write\n",
        "five_diff = np.arange(11, 30, 5)\n",
        "print(five_diff)"
      ],
      "id": "RFKT32Idxxid",
      "execution_count": null,
      "outputs": [
        {
          "output_type": "stream",
          "name": "stdout",
          "text": [
            "Program done by : Ajay Pathak\n",
            "Enrollment No.: 190630107170\n",
            "=================================\n",
            "\n",
            "\n",
            "\n",
            "[11 16 21 26]\n"
          ]
        }
      ]
    },
    {
      "cell_type": "code",
      "metadata": {
        "colab": {
          "base_uri": "https://localhost:8080/"
        },
        "id": "siCJQC7Bz95u",
        "outputId": "ea1c17f8-88b8-45b3-f5bd-8ab266713d36"
      },
      "source": [
        "# --------------------------------------------\n",
        "print('Program done by : Ajay Pathak\\n' +\n",
        "      'Enrollment No.: 190630107170\\n' +\n",
        "      '=================================\\n\\n\\n')\n",
        "\n",
        "\n",
        "# Using linspace \n",
        "arr = np.linspace(11, 30, 50)\n",
        "print(arr)"
      ],
      "id": "siCJQC7Bz95u",
      "execution_count": null,
      "outputs": [
        {
          "output_type": "stream",
          "name": "stdout",
          "text": [
            "Program done by : Ajay Pathak\n",
            "Enrollment No.: 190630107170\n",
            "=================================\n",
            "\n",
            "\n",
            "\n",
            "[11.         11.3877551  11.7755102  12.16326531 12.55102041 12.93877551\n",
            " 13.32653061 13.71428571 14.10204082 14.48979592 14.87755102 15.26530612\n",
            " 15.65306122 16.04081633 16.42857143 16.81632653 17.20408163 17.59183673\n",
            " 17.97959184 18.36734694 18.75510204 19.14285714 19.53061224 19.91836735\n",
            " 20.30612245 20.69387755 21.08163265 21.46938776 21.85714286 22.24489796\n",
            " 22.63265306 23.02040816 23.40816327 23.79591837 24.18367347 24.57142857\n",
            " 24.95918367 25.34693878 25.73469388 26.12244898 26.51020408 26.89795918\n",
            " 27.28571429 27.67346939 28.06122449 28.44897959 28.83673469 29.2244898\n",
            " 29.6122449  30.        ]\n"
          ]
        }
      ]
    },
    {
      "cell_type": "markdown",
      "metadata": {
        "id": "RW0HOFTM1xiu"
      },
      "source": [
        "Create an array of constant values in a given shape."
      ],
      "id": "RW0HOFTM1xiu"
    },
    {
      "cell_type": "code",
      "metadata": {
        "colab": {
          "base_uri": "https://localhost:8080/"
        },
        "id": "o18JhHzv02Fm",
        "outputId": "c18c2b35-74aa-4ffa-f3d0-5d010aee657f"
      },
      "source": [
        "# --------------------------------------------\n",
        "print('Program done by : Ajay Pathak\\n' +\n",
        "      'Enrollment No.: 190630107170\\n' +\n",
        "      '=================================\\n\\n\\n')\n",
        "\n",
        "\n",
        "# we can create any size of array with same value in every element with the code below \n",
        "# we use full() method and give shape of an array a fist argument and value as second argument\n",
        "const_arr = np.full((3, 10), 'Naruto')\n",
        "print(const_arr)\n",
        "print('shape of this arr is : ', const_arr.shape)"
      ],
      "id": "o18JhHzv02Fm",
      "execution_count": null,
      "outputs": [
        {
          "output_type": "stream",
          "name": "stdout",
          "text": [
            "Program done by : Ajay Pathak\n",
            "Enrollment No.: 190630107170\n",
            "=================================\n",
            "\n",
            "\n",
            "\n",
            "[['Naruto' 'Naruto' 'Naruto' 'Naruto' 'Naruto' 'Naruto' 'Naruto' 'Naruto'\n",
            "  'Naruto' 'Naruto']\n",
            " ['Naruto' 'Naruto' 'Naruto' 'Naruto' 'Naruto' 'Naruto' 'Naruto' 'Naruto'\n",
            "  'Naruto' 'Naruto']\n",
            " ['Naruto' 'Naruto' 'Naruto' 'Naruto' 'Naruto' 'Naruto' 'Naruto' 'Naruto'\n",
            "  'Naruto' 'Naruto']]\n",
            "shape of this arr is :  (3, 10)\n"
          ]
        }
      ]
    },
    {
      "cell_type": "markdown",
      "metadata": {
        "id": "elBio3qD26pm"
      },
      "source": [
        " Repeat each element of an array by a specified number of times using repeat() and tile() functions."
      ],
      "id": "elBio3qD26pm"
    },
    {
      "cell_type": "code",
      "metadata": {
        "colab": {
          "base_uri": "https://localhost:8080/"
        },
        "id": "iVBRLkMo100u",
        "outputId": "379f077b-8503-46f4-e573-a95d469381b4"
      },
      "source": [
        "# --------------------------------------------\n",
        "print('Program done by : Ajay Pathak\\n' +\n",
        "      'Enrollment No.: 190630107170\\n' +\n",
        "      '=================================\\n\\n\\n')\n",
        "\n",
        "\n",
        "\n",
        "# to create new array from existing array with each element repeating specific time \n",
        "# we use repeat() method\n",
        "arr_to_repeat = [22, 21, 20]\n",
        "repeated_arr = np.repeat(arr_to_repeat, 2)\n",
        "# here , all the elements of array will be repeated twice\n",
        "print(repeated_arr)"
      ],
      "id": "iVBRLkMo100u",
      "execution_count": null,
      "outputs": [
        {
          "output_type": "stream",
          "name": "stdout",
          "text": [
            "Program done by : Ajay Pathak\n",
            "Enrollment No.: 190630107170\n",
            "=================================\n",
            "\n",
            "\n",
            "\n",
            "[22 22 21 21 20 20]\n"
          ]
        }
      ]
    },
    {
      "cell_type": "code",
      "metadata": {
        "colab": {
          "base_uri": "https://localhost:8080/"
        },
        "id": "AEjAMiFX3TkF",
        "outputId": "c7d33fca-8a9c-4e13-bb6d-d4bfb901c18c"
      },
      "source": [
        "# --------------------------------------------\n",
        "print('Program done by : Ajay Pathak\\n' +\n",
        "      'Enrollment No.: 190630107170\\n' +\n",
        "      '=================================\\n\\n\\n')\n",
        "\n",
        "\n",
        "# we use tile() method to repeat whole array specific times\n",
        "repeating_whole_arr = np.tile(arr_to_repeat, 3)\n",
        "# here, whole array will be repeated thrice\n",
        "print(repeating_whole_arr)"
      ],
      "id": "AEjAMiFX3TkF",
      "execution_count": null,
      "outputs": [
        {
          "output_type": "stream",
          "name": "stdout",
          "text": [
            "Program done by : Ajay Pathak\n",
            "Enrollment No.: 190630107170\n",
            "=================================\n",
            "\n",
            "\n",
            "\n",
            "[22 21 20 22 21 20 22 21 20]\n"
          ]
        }
      ]
    },
    {
      "cell_type": "markdown",
      "metadata": {
        "id": "QMO3G_7t4AwN"
      },
      "source": [
        "Create an identity matrix using eye() and identity() function."
      ],
      "id": "QMO3G_7t4AwN"
    },
    {
      "cell_type": "code",
      "metadata": {
        "colab": {
          "base_uri": "https://localhost:8080/"
        },
        "id": "p6kkTEQF31qc",
        "outputId": "9f5f5ecd-17d9-4369-a9d9-4655e31949f0"
      },
      "source": [
        "# --------------------------------------------\n",
        "print('Program done by : Ajay Pathak\\n' +\n",
        "      'Enrollment No.: 190630107170\\n' +\n",
        "      '=================================\\n\\n\\n')\n",
        "\n",
        "\n",
        "# we can use eye() method to Return a 2-D array with ones on the diagonal and zeros elsewhere\n",
        "eye_arr = np.eye(3)\n",
        "print(eye_arr)"
      ],
      "id": "p6kkTEQF31qc",
      "execution_count": null,
      "outputs": [
        {
          "output_type": "stream",
          "name": "stdout",
          "text": [
            "Program done by : Ajay Pathak\n",
            "Enrollment No.: 190630107170\n",
            "=================================\n",
            "\n",
            "\n",
            "\n",
            "[[1. 0. 0.]\n",
            " [0. 1. 0.]\n",
            " [0. 0. 1.]]\n"
          ]
        }
      ]
    },
    {
      "cell_type": "code",
      "metadata": {
        "colab": {
          "base_uri": "https://localhost:8080/"
        },
        "id": "zglUo_FY4XIG",
        "outputId": "2c5e01ce-e73e-4356-f090-e7dda095e98d"
      },
      "source": [
        "# --------------------------------------------\n",
        "print('Program done by : Ajay Pathak\\n' +\n",
        "      'Enrollment No.: 190630107170\\n' +\n",
        "      '=================================\\n\\n\\n')\n",
        "\n",
        "\n",
        "# similarly, we can use identity() method to Return the identity array.\n",
        "iden_arr = np.identity(5)\n",
        "print(iden_arr)"
      ],
      "id": "zglUo_FY4XIG",
      "execution_count": null,
      "outputs": [
        {
          "output_type": "stream",
          "name": "stdout",
          "text": [
            "Program done by : Ajay Pathak\n",
            "Enrollment No.: 190630107170\n",
            "=================================\n",
            "\n",
            "\n",
            "\n",
            "[[1. 0. 0. 0. 0.]\n",
            " [0. 1. 0. 0. 0.]\n",
            " [0. 0. 1. 0. 0.]\n",
            " [0. 0. 0. 1. 0.]\n",
            " [0. 0. 0. 0. 1.]]\n"
          ]
        }
      ]
    },
    {
      "cell_type": "markdown",
      "metadata": {
        "id": "lTqpwkxI4uEc"
      },
      "source": [
        "Creating 2D array for random numbers between 0 to 1."
      ],
      "id": "lTqpwkxI4uEc"
    },
    {
      "cell_type": "code",
      "metadata": {
        "colab": {
          "base_uri": "https://localhost:8080/"
        },
        "id": "LVcTUPUl4laO",
        "outputId": "9b4f75e7-eeef-42c7-db1a-9552698d0510"
      },
      "source": [
        "# --------------------------------------------\n",
        "print('Program done by : Ajay Pathak\\n' +\n",
        "      'Enrollment No.: 190630107170\\n' +\n",
        "      '=================================\\n\\n\\n')\n",
        "\n",
        "\n",
        "random_matrix = np.random.rand(4, 5)\n",
        "# we need to give shape of desired array in argument\n",
        "print(random_matrix)"
      ],
      "id": "LVcTUPUl4laO",
      "execution_count": null,
      "outputs": [
        {
          "output_type": "stream",
          "name": "stdout",
          "text": [
            "Program done by : Ajay Pathak\n",
            "Enrollment No.: 190630107170\n",
            "=================================\n",
            "\n",
            "\n",
            "\n",
            "[[0.47752465 0.5218778  0.71779378 0.43088828 0.56202026]\n",
            " [0.58692359 0.2146402  0.57432289 0.09521245 0.42264351]\n",
            " [0.48251252 0.08157404 0.64683943 0.84788627 0.49206555]\n",
            " [0.04115895 0.4139499  0.21658167 0.33792675 0.31194842]]\n"
          ]
        }
      ]
    },
    {
      "cell_type": "markdown",
      "metadata": {
        "id": "uGQ981fsDEc6"
      },
      "source": [
        "Sum an array along the column and row"
      ],
      "id": "uGQ981fsDEc6"
    },
    {
      "cell_type": "code",
      "metadata": {
        "colab": {
          "base_uri": "https://localhost:8080/"
        },
        "id": "cGbb3MryB9t6",
        "outputId": "67707022-f941-4e90-ecf1-df1d8666321a"
      },
      "source": [
        "# --------------------------------------------\n",
        "print('Program done by : Ajay Pathak\\n' +\n",
        "      'Enrollment No.: 190630107170\\n' +\n",
        "      '=================================\\n\\n\\n')\n",
        "\n",
        "\n",
        "# to sum along the column or row we use sum() method with axis argument\n",
        "# using axis argument we can decide along which axis we want to perfom certain operation\n",
        "# other than sum() axis argument is used in many functions as well\n",
        "\n",
        "# for column axis argument should be 0 and\n",
        "# for row axis argument should be 1\n",
        "\n",
        "random_arr = np.arange(1, 11, 1)\n",
        "random_arr = random_arr.reshape(5, 2)\n",
        "print(random_arr)\n",
        "\n",
        "print('Sum of the elements of all row:', np.sum(random_arr, axis=1))\n",
        "print('Sum of the elements of 2nd row:', np.sum(random_arr, axis=1)[1])\n",
        "\n",
        "print('Sum of the elements of all column:', np.sum(random_arr, axis=0))\n",
        "print('Sum of the elements of last column:', np.sum(random_arr, axis=0)[-1])"
      ],
      "id": "cGbb3MryB9t6",
      "execution_count": null,
      "outputs": [
        {
          "output_type": "stream",
          "name": "stdout",
          "text": [
            "Program done by : Ajay Pathak\n",
            "Enrollment No.: 190630107170\n",
            "=================================\n",
            "\n",
            "\n",
            "\n",
            "[[ 1  2]\n",
            " [ 3  4]\n",
            " [ 5  6]\n",
            " [ 7  8]\n",
            " [ 9 10]]\n",
            "Sum of the elements of all row: [ 3  7 11 15 19]\n",
            "Sum of the elements of 2nd row: 7\n",
            "Sum of the elements of all column: [25 30]\n",
            "Sum of the elements of last column: 30\n"
          ]
        }
      ]
    },
    {
      "cell_type": "markdown",
      "metadata": {
        "id": "jiaC31QnE6gq"
      },
      "source": [
        "Calculate the mean, median, standard deviation, and variance."
      ],
      "id": "jiaC31QnE6gq"
    },
    {
      "cell_type": "code",
      "metadata": {
        "colab": {
          "base_uri": "https://localhost:8080/"
        },
        "id": "I2G4hCn7D6rh",
        "outputId": "a3c92548-7311-4ab3-c482-d0a0d6787d3b"
      },
      "source": [
        "# --------------------------------------------\n",
        "print('Program done by : Ajay Pathak\\n' +\n",
        "      'Enrollment No.: 190630107170\\n' +\n",
        "      '=================================\\n\\n\\n')\n",
        "\n",
        "# Let's use our last example and find these values\n",
        "\n",
        "print('Mean:', np.mean(random_arr))\n",
        "print('Median:', np.median(random_arr))\n",
        "print('Standard Deviation:', np.std(random_arr))\n",
        "print('Variance:', np.var(random_arr))"
      ],
      "id": "I2G4hCn7D6rh",
      "execution_count": null,
      "outputs": [
        {
          "output_type": "stream",
          "name": "stdout",
          "text": [
            "Program done by : Ajay Pathak\n",
            "Enrollment No.: 190630107170\n",
            "=================================\n",
            "\n",
            "\n",
            "\n",
            "Mean: 5.5\n",
            "Median: 5.5\n",
            "Standard Deviation: 2.8722813232690143\n",
            "Variance: 8.25\n"
          ]
        }
      ]
    },
    {
      "cell_type": "markdown",
      "metadata": {
        "id": "GpX5vt0PF9Ck"
      },
      "source": [
        "Sorting the array along the row"
      ],
      "id": "GpX5vt0PF9Ck"
    },
    {
      "cell_type": "code",
      "metadata": {
        "colab": {
          "base_uri": "https://localhost:8080/"
        },
        "id": "ZRJV8aszFW6_",
        "outputId": "8a60f414-771c-4e3c-fcdc-e3ae497a8d76"
      },
      "source": [
        "some_arr = np.random.rand(3, 3)\n",
        "print('Original Array:', some_arr)\n",
        "print('Sorted arr:', np.sort(some_arr, axis=1))"
      ],
      "id": "ZRJV8aszFW6_",
      "execution_count": null,
      "outputs": [
        {
          "output_type": "stream",
          "name": "stdout",
          "text": [
            "Original Array: [[0.14099034 0.38740613 0.60415775]\n",
            " [0.9645793  0.3901904  0.02384279]\n",
            " [0.05008266 0.69556885 0.84776865]]\n",
            "Sorted arr: [[0.14099034 0.38740613 0.60415775]\n",
            " [0.02384279 0.3901904  0.9645793 ]\n",
            " [0.05008266 0.69556885 0.84776865]]\n"
          ]
        }
      ]
    },
    {
      "cell_type": "markdown",
      "metadata": {
        "id": "AiqYQouaGj7p"
      },
      "source": [
        "Appending an element using append() method"
      ],
      "id": "AiqYQouaGj7p"
    },
    {
      "cell_type": "code",
      "metadata": {
        "colab": {
          "base_uri": "https://localhost:8080/"
        },
        "id": "mojA-H1lGWL2",
        "outputId": "caff308c-c49d-4ef2-f80d-b05003554031"
      },
      "source": [
        "numbers_arr = [1, 2, 3, 4]\n",
        "numbres_arr = np.append(numbers_arr, 5)\n",
        "print(numbers_arr)\n",
        "\n",
        "# multiple elements or whole array can be appended as well\n",
        "\n",
        "numbers_arr = np.append(numbers_arr, [0, 10, 20])\n",
        "print(numbers_arr)"
      ],
      "id": "mojA-H1lGWL2",
      "execution_count": null,
      "outputs": [
        {
          "output_type": "stream",
          "name": "stdout",
          "text": [
            "[1, 2, 3, 4]\n",
            "[ 1  2  3  4  0 10 20]\n"
          ]
        }
      ]
    },
    {
      "cell_type": "markdown",
      "metadata": {
        "id": "rwcw-fwrHxeB"
      },
      "source": [
        "Deleting elements"
      ],
      "id": "rwcw-fwrHxeB"
    },
    {
      "cell_type": "code",
      "metadata": {
        "colab": {
          "base_uri": "https://localhost:8080/"
        },
        "id": "BrguyIykGxYh",
        "outputId": "2bd1f653-bf31-4748-f34d-fbeb62fc9dc3"
      },
      "source": [
        "del_ex_arr = np.array([0, 1, 2, 4, 5, 8, 10])\n",
        "print(del_ex_arr)\n",
        "\n",
        "# To delete an element from array we give index of that element as an argument\n",
        "# Here, we will delete elements on 3rd and 6th index\n",
        "del_ex_arr = np.delete(del_ex_arr, [3, 6])\n",
        "print(del_ex_arr)"
      ],
      "id": "BrguyIykGxYh",
      "execution_count": null,
      "outputs": [
        {
          "output_type": "stream",
          "name": "stdout",
          "text": [
            "[ 0  1  2  4  5  8 10]\n",
            "[0 1 2 5 8]\n"
          ]
        }
      ]
    },
    {
      "cell_type": "markdown",
      "metadata": {
        "id": "NjU3K565IjOf"
      },
      "source": [
        "Concatenate elements from 2 arrays."
      ],
      "id": "NjU3K565IjOf"
    },
    {
      "cell_type": "code",
      "metadata": {
        "colab": {
          "base_uri": "https://localhost:8080/"
        },
        "id": "LN1ahIrEH_Hj",
        "outputId": "5337a3fc-c410-40e9-acea-6fa5ab6edf84"
      },
      "source": [
        "arr1 = np.array([[0, 1, 2, 3],\n",
        "                 [4, 5, 6, 7]])\n",
        "\n",
        "arr2 = np.array([[8, 9, 10, 11],\n",
        "                 [12, 13, 14, 15]])\n",
        "\n",
        "cat_on_row = np.concatenate((arr1, arr2), axis=0)\n",
        "print('Resultant array:\\n', cat_on_row)\n",
        "\n",
        "cat_on_col = np.concatenate((arr1, arr2), axis=1)\n",
        "print('Resultant array:\\n', cat_on_col)"
      ],
      "id": "LN1ahIrEH_Hj",
      "execution_count": null,
      "outputs": [
        {
          "output_type": "stream",
          "name": "stdout",
          "text": [
            "Resultant array:\n",
            " [[ 0  1  2  3]\n",
            " [ 4  5  6  7]\n",
            " [ 8  9 10 11]\n",
            " [12 13 14 15]]\n",
            "Resultant array:\n",
            " [[ 0  1  2  3  8  9 10 11]\n",
            " [ 4  5  6  7 12 13 14 15]]\n"
          ]
        }
      ]
    },
    {
      "cell_type": "markdown",
      "metadata": {
        "id": "iO_ODKTsJ_Wy"
      },
      "source": [
        "## Data Analytics Using Python Libraries, Pandas and Matplotlib"
      ],
      "id": "iO_ODKTsJ_Wy"
    },
    {
      "cell_type": "markdown",
      "metadata": {
        "id": "fqJN9EzPKVAt"
      },
      "source": [
        "Import the libraries."
      ],
      "id": "fqJN9EzPKVAt"
    },
    {
      "cell_type": "code",
      "metadata": {
        "colab": {
          "base_uri": "https://localhost:8080/"
        },
        "id": "-WG248h-JAfa",
        "outputId": "0199ce28-e018-44e9-eb2b-b9f08f78e643"
      },
      "source": [
        "# --------------------------------------------\n",
        "print('Program done by : Ajay Pathak\\n' +\n",
        "      'Enrollment No.: 190630107170\\n' +\n",
        "      '=================================\\n\\n\\n')\n",
        "\n",
        "\n",
        "import pandas as pd\n",
        "import numpy as np\n",
        "import seaborn as sns\n",
        "import matplotlib.pyplot as plt\n",
        "\n",
        "%matplotlib inline\n",
        "sns.set(color_codes=True)"
      ],
      "id": "-WG248h-JAfa",
      "execution_count": null,
      "outputs": [
        {
          "output_type": "stream",
          "name": "stdout",
          "text": [
            "Program done by : Ajay Pathak\n",
            "Enrollment No.: 190630107170\n",
            "=================================\n",
            "\n",
            "\n",
            "\n"
          ]
        }
      ]
    },
    {
      "cell_type": "code",
      "metadata": {
        "colab": {
          "base_uri": "https://localhost:8080/"
        },
        "id": "Zor-UjtWKtNH",
        "outputId": "da1b77cd-f039-4f40-e6aa-c300fb5cec82"
      },
      "source": [
        "# --------------------------------------------\n",
        "print('Program done by : Ajay Pathak\\n' +\n",
        "      'Enrollment No.: 190630107170\\n' +\n",
        "      '=================================\\n\\n\\n')\n",
        "\n",
        "\n",
        "car_data = pd.read_csv('/content/drive/MyDrive/USA_cars_datasets.csv')\n"
      ],
      "id": "Zor-UjtWKtNH",
      "execution_count": null,
      "outputs": [
        {
          "output_type": "stream",
          "name": "stdout",
          "text": [
            "Program done by : Ajay Pathak\n",
            "Enrollment No.: 190630107170\n",
            "=================================\n",
            "\n",
            "\n",
            "\n"
          ]
        }
      ]
    },
    {
      "cell_type": "markdown",
      "metadata": {
        "id": "rSlQDfOvOX0g"
      },
      "source": [
        "Display head of the data using head() method"
      ],
      "id": "rSlQDfOvOX0g"
    },
    {
      "cell_type": "code",
      "metadata": {
        "colab": {
          "base_uri": "https://localhost:8080/",
          "height": 309
        },
        "id": "eQi5AqdlORJ-",
        "outputId": "e845428e-f3db-43c1-cb71-bb84d131a892"
      },
      "source": [
        "# --------------------------------------------\n",
        "print('Program done by : Ajay Pathak\\n' +\n",
        "      'Enrollment No.: 190630107170\\n' +\n",
        "      '=================================\\n\\n\\n')\n",
        "\n",
        "\n",
        "car_data.head()"
      ],
      "id": "eQi5AqdlORJ-",
      "execution_count": null,
      "outputs": [
        {
          "output_type": "stream",
          "name": "stdout",
          "text": [
            "Program done by : Ajay Pathak\n",
            "Enrollment No.: 190630107170\n",
            "=================================\n",
            "\n",
            "\n",
            "\n"
          ]
        },
        {
          "output_type": "execute_result",
          "data": {
            "text/html": [
              "<div>\n",
              "<style scoped>\n",
              "    .dataframe tbody tr th:only-of-type {\n",
              "        vertical-align: middle;\n",
              "    }\n",
              "\n",
              "    .dataframe tbody tr th {\n",
              "        vertical-align: top;\n",
              "    }\n",
              "\n",
              "    .dataframe thead th {\n",
              "        text-align: right;\n",
              "    }\n",
              "</style>\n",
              "<table border=\"1\" class=\"dataframe\">\n",
              "  <thead>\n",
              "    <tr style=\"text-align: right;\">\n",
              "      <th></th>\n",
              "      <th>Unnamed: 0</th>\n",
              "      <th>price</th>\n",
              "      <th>brand</th>\n",
              "      <th>model</th>\n",
              "      <th>year</th>\n",
              "      <th>title_status</th>\n",
              "      <th>mileage</th>\n",
              "      <th>color</th>\n",
              "      <th>vin</th>\n",
              "      <th>lot</th>\n",
              "      <th>state</th>\n",
              "      <th>country</th>\n",
              "      <th>condition</th>\n",
              "    </tr>\n",
              "  </thead>\n",
              "  <tbody>\n",
              "    <tr>\n",
              "      <th>0</th>\n",
              "      <td>0</td>\n",
              "      <td>6300</td>\n",
              "      <td>toyota</td>\n",
              "      <td>cruiser</td>\n",
              "      <td>2008</td>\n",
              "      <td>clean vehicle</td>\n",
              "      <td>274117.0</td>\n",
              "      <td>black</td>\n",
              "      <td>jtezu11f88k007763</td>\n",
              "      <td>159348797</td>\n",
              "      <td>new jersey</td>\n",
              "      <td>usa</td>\n",
              "      <td>10 days left</td>\n",
              "    </tr>\n",
              "    <tr>\n",
              "      <th>1</th>\n",
              "      <td>1</td>\n",
              "      <td>2899</td>\n",
              "      <td>ford</td>\n",
              "      <td>se</td>\n",
              "      <td>2011</td>\n",
              "      <td>clean vehicle</td>\n",
              "      <td>190552.0</td>\n",
              "      <td>silver</td>\n",
              "      <td>2fmdk3gc4bbb02217</td>\n",
              "      <td>166951262</td>\n",
              "      <td>tennessee</td>\n",
              "      <td>usa</td>\n",
              "      <td>6 days left</td>\n",
              "    </tr>\n",
              "    <tr>\n",
              "      <th>2</th>\n",
              "      <td>2</td>\n",
              "      <td>5350</td>\n",
              "      <td>dodge</td>\n",
              "      <td>mpv</td>\n",
              "      <td>2018</td>\n",
              "      <td>clean vehicle</td>\n",
              "      <td>39590.0</td>\n",
              "      <td>silver</td>\n",
              "      <td>3c4pdcgg5jt346413</td>\n",
              "      <td>167655728</td>\n",
              "      <td>georgia</td>\n",
              "      <td>usa</td>\n",
              "      <td>2 days left</td>\n",
              "    </tr>\n",
              "    <tr>\n",
              "      <th>3</th>\n",
              "      <td>3</td>\n",
              "      <td>25000</td>\n",
              "      <td>ford</td>\n",
              "      <td>door</td>\n",
              "      <td>2014</td>\n",
              "      <td>clean vehicle</td>\n",
              "      <td>64146.0</td>\n",
              "      <td>blue</td>\n",
              "      <td>1ftfw1et4efc23745</td>\n",
              "      <td>167753855</td>\n",
              "      <td>virginia</td>\n",
              "      <td>usa</td>\n",
              "      <td>22 hours left</td>\n",
              "    </tr>\n",
              "    <tr>\n",
              "      <th>4</th>\n",
              "      <td>4</td>\n",
              "      <td>27700</td>\n",
              "      <td>chevrolet</td>\n",
              "      <td>1500</td>\n",
              "      <td>2018</td>\n",
              "      <td>clean vehicle</td>\n",
              "      <td>6654.0</td>\n",
              "      <td>red</td>\n",
              "      <td>3gcpcrec2jg473991</td>\n",
              "      <td>167763266</td>\n",
              "      <td>florida</td>\n",
              "      <td>usa</td>\n",
              "      <td>22 hours left</td>\n",
              "    </tr>\n",
              "  </tbody>\n",
              "</table>\n",
              "</div>"
            ],
            "text/plain": [
              "   Unnamed: 0  price      brand  ...       state  country      condition\n",
              "0           0   6300     toyota  ...  new jersey      usa   10 days left\n",
              "1           1   2899       ford  ...   tennessee      usa    6 days left\n",
              "2           2   5350      dodge  ...     georgia      usa    2 days left\n",
              "3           3  25000       ford  ...    virginia      usa  22 hours left\n",
              "4           4  27700  chevrolet  ...     florida      usa  22 hours left\n",
              "\n",
              "[5 rows x 13 columns]"
            ]
          },
          "metadata": {},
          "execution_count": 108
        }
      ]
    },
    {
      "cell_type": "markdown",
      "metadata": {
        "id": "ZOAfaqXaOiVH"
      },
      "source": [
        "Display bottom 5 rows using tail() method"
      ],
      "id": "ZOAfaqXaOiVH"
    },
    {
      "cell_type": "code",
      "metadata": {
        "colab": {
          "base_uri": "https://localhost:8080/",
          "height": 309
        },
        "id": "6LW8MKs_Odmj",
        "outputId": "de2028ed-1112-4823-c80e-5b1c640f9e43"
      },
      "source": [
        "# --------------------------------------------\n",
        "print('Program done by : Ajay Pathak\\n' +\n",
        "      'Enrollment No.: 190630107170\\n' +\n",
        "      '=================================\\n\\n\\n')\n",
        "\n",
        "\n",
        "car_data.tail()"
      ],
      "id": "6LW8MKs_Odmj",
      "execution_count": null,
      "outputs": [
        {
          "output_type": "stream",
          "name": "stdout",
          "text": [
            "Program done by : Ajay Pathak\n",
            "Enrollment No.: 190630107170\n",
            "=================================\n",
            "\n",
            "\n",
            "\n"
          ]
        },
        {
          "output_type": "execute_result",
          "data": {
            "text/html": [
              "<div>\n",
              "<style scoped>\n",
              "    .dataframe tbody tr th:only-of-type {\n",
              "        vertical-align: middle;\n",
              "    }\n",
              "\n",
              "    .dataframe tbody tr th {\n",
              "        vertical-align: top;\n",
              "    }\n",
              "\n",
              "    .dataframe thead th {\n",
              "        text-align: right;\n",
              "    }\n",
              "</style>\n",
              "<table border=\"1\" class=\"dataframe\">\n",
              "  <thead>\n",
              "    <tr style=\"text-align: right;\">\n",
              "      <th></th>\n",
              "      <th>Unnamed: 0</th>\n",
              "      <th>price</th>\n",
              "      <th>brand</th>\n",
              "      <th>model</th>\n",
              "      <th>year</th>\n",
              "      <th>title_status</th>\n",
              "      <th>mileage</th>\n",
              "      <th>color</th>\n",
              "      <th>vin</th>\n",
              "      <th>lot</th>\n",
              "      <th>state</th>\n",
              "      <th>country</th>\n",
              "      <th>condition</th>\n",
              "    </tr>\n",
              "  </thead>\n",
              "  <tbody>\n",
              "    <tr>\n",
              "      <th>2494</th>\n",
              "      <td>2494</td>\n",
              "      <td>7800</td>\n",
              "      <td>nissan</td>\n",
              "      <td>versa</td>\n",
              "      <td>2019</td>\n",
              "      <td>clean vehicle</td>\n",
              "      <td>23609.0</td>\n",
              "      <td>red</td>\n",
              "      <td>3n1cn7ap9kl880319</td>\n",
              "      <td>167722715</td>\n",
              "      <td>california</td>\n",
              "      <td>usa</td>\n",
              "      <td>1 days left</td>\n",
              "    </tr>\n",
              "    <tr>\n",
              "      <th>2495</th>\n",
              "      <td>2495</td>\n",
              "      <td>9200</td>\n",
              "      <td>nissan</td>\n",
              "      <td>versa</td>\n",
              "      <td>2018</td>\n",
              "      <td>clean vehicle</td>\n",
              "      <td>34553.0</td>\n",
              "      <td>silver</td>\n",
              "      <td>3n1cn7ap5jl884088</td>\n",
              "      <td>167762225</td>\n",
              "      <td>florida</td>\n",
              "      <td>usa</td>\n",
              "      <td>21 hours left</td>\n",
              "    </tr>\n",
              "    <tr>\n",
              "      <th>2496</th>\n",
              "      <td>2496</td>\n",
              "      <td>9200</td>\n",
              "      <td>nissan</td>\n",
              "      <td>versa</td>\n",
              "      <td>2018</td>\n",
              "      <td>clean vehicle</td>\n",
              "      <td>31594.0</td>\n",
              "      <td>silver</td>\n",
              "      <td>3n1cn7ap9jl884191</td>\n",
              "      <td>167762226</td>\n",
              "      <td>florida</td>\n",
              "      <td>usa</td>\n",
              "      <td>21 hours left</td>\n",
              "    </tr>\n",
              "    <tr>\n",
              "      <th>2497</th>\n",
              "      <td>2497</td>\n",
              "      <td>9200</td>\n",
              "      <td>nissan</td>\n",
              "      <td>versa</td>\n",
              "      <td>2018</td>\n",
              "      <td>clean vehicle</td>\n",
              "      <td>32557.0</td>\n",
              "      <td>black</td>\n",
              "      <td>3n1cn7ap3jl883263</td>\n",
              "      <td>167762227</td>\n",
              "      <td>florida</td>\n",
              "      <td>usa</td>\n",
              "      <td>2 days left</td>\n",
              "    </tr>\n",
              "    <tr>\n",
              "      <th>2498</th>\n",
              "      <td>2498</td>\n",
              "      <td>9200</td>\n",
              "      <td>nissan</td>\n",
              "      <td>versa</td>\n",
              "      <td>2018</td>\n",
              "      <td>clean vehicle</td>\n",
              "      <td>31371.0</td>\n",
              "      <td>silver</td>\n",
              "      <td>3n1cn7ap4jl884311</td>\n",
              "      <td>167762228</td>\n",
              "      <td>florida</td>\n",
              "      <td>usa</td>\n",
              "      <td>21 hours left</td>\n",
              "    </tr>\n",
              "  </tbody>\n",
              "</table>\n",
              "</div>"
            ],
            "text/plain": [
              "      Unnamed: 0  price   brand  ...       state  country      condition\n",
              "2494        2494   7800  nissan  ...  california      usa    1 days left\n",
              "2495        2495   9200  nissan  ...     florida      usa  21 hours left\n",
              "2496        2496   9200  nissan  ...     florida      usa  21 hours left\n",
              "2497        2497   9200  nissan  ...     florida      usa    2 days left\n",
              "2498        2498   9200  nissan  ...     florida      usa  21 hours left\n",
              "\n",
              "[5 rows x 13 columns]"
            ]
          },
          "metadata": {},
          "execution_count": 109
        }
      ]
    },
    {
      "cell_type": "markdown",
      "metadata": {
        "id": "TXQp2TddOr_M"
      },
      "source": [
        "Print summary statistics of the dataset using the describe() function."
      ],
      "id": "TXQp2TddOr_M"
    },
    {
      "cell_type": "code",
      "metadata": {
        "colab": {
          "base_uri": "https://localhost:8080/",
          "height": 401
        },
        "id": "9POMiCDHOnwZ",
        "outputId": "48eb13c2-8db1-488a-ab91-bd9902cacd0b"
      },
      "source": [
        "# --------------------------------------------\n",
        "print('Program done by : Ajay Pathak\\n' +\n",
        "      'Enrollment No.: 190630107170\\n' +\n",
        "      '=================================\\n\\n\\n')\n",
        "\n",
        "\n",
        "car_data.describe()"
      ],
      "id": "9POMiCDHOnwZ",
      "execution_count": null,
      "outputs": [
        {
          "output_type": "stream",
          "name": "stdout",
          "text": [
            "Program done by : Ajay Pathak\n",
            "Enrollment No.: 190630107170\n",
            "=================================\n",
            "\n",
            "\n",
            "\n"
          ]
        },
        {
          "output_type": "execute_result",
          "data": {
            "text/html": [
              "<div>\n",
              "<style scoped>\n",
              "    .dataframe tbody tr th:only-of-type {\n",
              "        vertical-align: middle;\n",
              "    }\n",
              "\n",
              "    .dataframe tbody tr th {\n",
              "        vertical-align: top;\n",
              "    }\n",
              "\n",
              "    .dataframe thead th {\n",
              "        text-align: right;\n",
              "    }\n",
              "</style>\n",
              "<table border=\"1\" class=\"dataframe\">\n",
              "  <thead>\n",
              "    <tr style=\"text-align: right;\">\n",
              "      <th></th>\n",
              "      <th>Unnamed: 0</th>\n",
              "      <th>price</th>\n",
              "      <th>year</th>\n",
              "      <th>mileage</th>\n",
              "      <th>lot</th>\n",
              "    </tr>\n",
              "  </thead>\n",
              "  <tbody>\n",
              "    <tr>\n",
              "      <th>count</th>\n",
              "      <td>2499.000000</td>\n",
              "      <td>2499.000000</td>\n",
              "      <td>2499.000000</td>\n",
              "      <td>2.499000e+03</td>\n",
              "      <td>2.499000e+03</td>\n",
              "    </tr>\n",
              "    <tr>\n",
              "      <th>mean</th>\n",
              "      <td>1249.000000</td>\n",
              "      <td>18767.671469</td>\n",
              "      <td>2016.714286</td>\n",
              "      <td>5.229869e+04</td>\n",
              "      <td>1.676914e+08</td>\n",
              "    </tr>\n",
              "    <tr>\n",
              "      <th>std</th>\n",
              "      <td>721.543484</td>\n",
              "      <td>12116.094936</td>\n",
              "      <td>3.442656</td>\n",
              "      <td>5.970552e+04</td>\n",
              "      <td>2.038772e+05</td>\n",
              "    </tr>\n",
              "    <tr>\n",
              "      <th>min</th>\n",
              "      <td>0.000000</td>\n",
              "      <td>0.000000</td>\n",
              "      <td>1973.000000</td>\n",
              "      <td>0.000000e+00</td>\n",
              "      <td>1.593488e+08</td>\n",
              "    </tr>\n",
              "    <tr>\n",
              "      <th>25%</th>\n",
              "      <td>624.500000</td>\n",
              "      <td>10200.000000</td>\n",
              "      <td>2016.000000</td>\n",
              "      <td>2.146650e+04</td>\n",
              "      <td>1.676253e+08</td>\n",
              "    </tr>\n",
              "    <tr>\n",
              "      <th>50%</th>\n",
              "      <td>1249.000000</td>\n",
              "      <td>16900.000000</td>\n",
              "      <td>2018.000000</td>\n",
              "      <td>3.536500e+04</td>\n",
              "      <td>1.677451e+08</td>\n",
              "    </tr>\n",
              "    <tr>\n",
              "      <th>75%</th>\n",
              "      <td>1873.500000</td>\n",
              "      <td>25555.500000</td>\n",
              "      <td>2019.000000</td>\n",
              "      <td>6.347250e+04</td>\n",
              "      <td>1.677798e+08</td>\n",
              "    </tr>\n",
              "    <tr>\n",
              "      <th>max</th>\n",
              "      <td>2498.000000</td>\n",
              "      <td>84900.000000</td>\n",
              "      <td>2020.000000</td>\n",
              "      <td>1.017936e+06</td>\n",
              "      <td>1.678055e+08</td>\n",
              "    </tr>\n",
              "  </tbody>\n",
              "</table>\n",
              "</div>"
            ],
            "text/plain": [
              "        Unnamed: 0         price         year       mileage           lot\n",
              "count  2499.000000   2499.000000  2499.000000  2.499000e+03  2.499000e+03\n",
              "mean   1249.000000  18767.671469  2016.714286  5.229869e+04  1.676914e+08\n",
              "std     721.543484  12116.094936     3.442656  5.970552e+04  2.038772e+05\n",
              "min       0.000000      0.000000  1973.000000  0.000000e+00  1.593488e+08\n",
              "25%     624.500000  10200.000000  2016.000000  2.146650e+04  1.676253e+08\n",
              "50%    1249.000000  16900.000000  2018.000000  3.536500e+04  1.677451e+08\n",
              "75%    1873.500000  25555.500000  2019.000000  6.347250e+04  1.677798e+08\n",
              "max    2498.000000  84900.000000  2020.000000  1.017936e+06  1.678055e+08"
            ]
          },
          "metadata": {},
          "execution_count": 110
        }
      ]
    },
    {
      "cell_type": "markdown",
      "metadata": {
        "id": "iHfv0E9yO0CX"
      },
      "source": [
        "Plot a histogram for all the variables."
      ],
      "id": "iHfv0E9yO0CX"
    },
    {
      "cell_type": "code",
      "metadata": {
        "colab": {
          "base_uri": "https://localhost:8080/",
          "height": 852
        },
        "id": "OrXfSpW5OugA",
        "outputId": "675dec9b-ff18-4add-c30b-c5212ce056ed"
      },
      "source": [
        "# --------------------------------------------\n",
        "print('Program done by : Ajay Pathak\\n' +\n",
        "      'Enrollment No.: 190630107170\\n' +\n",
        "      '=================================\\n\\n\\n')\n",
        "\n",
        "car_data.hist(figsize=(5, 10))"
      ],
      "id": "OrXfSpW5OugA",
      "execution_count": null,
      "outputs": [
        {
          "output_type": "stream",
          "name": "stdout",
          "text": [
            "Program done by : Ajay Pathak\n",
            "Enrollment No.: 190630107170\n",
            "=================================\n",
            "\n",
            "\n",
            "\n"
          ]
        },
        {
          "output_type": "execute_result",
          "data": {
            "text/plain": [
              "array([[<matplotlib.axes._subplots.AxesSubplot object at 0x7f91a26ee7d0>,\n",
              "        <matplotlib.axes._subplots.AxesSubplot object at 0x7f91ac35f0d0>],\n",
              "       [<matplotlib.axes._subplots.AxesSubplot object at 0x7f91a2899e90>,\n",
              "        <matplotlib.axes._subplots.AxesSubplot object at 0x7f91a008ba90>],\n",
              "       [<matplotlib.axes._subplots.AxesSubplot object at 0x7f91a0081850>,\n",
              "        <matplotlib.axes._subplots.AxesSubplot object at 0x7f91a0086ed0>]],\n",
              "      dtype=object)"
            ]
          },
          "metadata": {},
          "execution_count": 111
        },
        {
          "output_type": "display_data",
          "data": {
            "image/png": "[encoded data removed]",
            "text/plain": [
              "<Figure size 360x720 with 6 Axes>"
            ]
          },
          "metadata": {}
        }
      ]
    },
    {
      "cell_type": "markdown",
      "metadata": {
        "id": "xWLthK5jPAz4"
      },
      "source": [
        "Box plot to visualize the relationship between features"
      ],
      "id": "xWLthK5jPAz4"
    },
    {
      "cell_type": "code",
      "metadata": {
        "colab": {
          "base_uri": "https://localhost:8080/",
          "height": 419
        },
        "id": "xtY3jxgsO32Z",
        "outputId": "b073ef9a-e29e-4951-c157-14a86766507d"
      },
      "source": [
        "# --------------------------------------------\n",
        "print('Program done by : Ajay Pathak\\n' +\n",
        "      'Enrollment No.: 190630107170\\n' +\n",
        "      '=================================\\n\\n\\n')\n",
        "\n",
        "\n",
        "sns.boxplot(x='brand', y='mileage', data=car_data)"
      ],
      "id": "xtY3jxgsO32Z",
      "execution_count": null,
      "outputs": [
        {
          "output_type": "stream",
          "name": "stdout",
          "text": [
            "Program done by : Ajay Pathak\n",
            "Enrollment No.: 190630107170\n",
            "=================================\n",
            "\n",
            "\n",
            "\n"
          ]
        },
        {
          "output_type": "execute_result",
          "data": {
            "text/plain": [
              "<matplotlib.axes._subplots.AxesSubplot at 0x7f91a00f6710>"
            ]
          },
          "metadata": {},
          "execution_count": 112
        },
        {
          "output_type": "display_data",
          "data": {
            "image/png": "[encoded data removed]",
            "text/plain": [
              "<Figure size 432x288 with 1 Axes>"
            ]
          },
          "metadata": {}
        }
      ]
    },
    {
      "cell_type": "markdown",
      "metadata": {
        "id": "-RsL_U_IQXlZ"
      },
      "source": [
        "Build a pair plot using the seaborn library."
      ],
      "id": "-RsL_U_IQXlZ"
    },
    {
      "cell_type": "code",
      "metadata": {
        "colab": {
          "base_uri": "https://localhost:8080/",
          "height": 1000
        },
        "id": "lGST_EOsP1uH",
        "outputId": "730964b2-7226-4ced-a8b4-d80a885b4366"
      },
      "source": [
        "# --------------------------------------------\n",
        "print('Program done by : Ajay Pathak\\n' +\n",
        "      'Enrollment No.: 190630107170\\n' +\n",
        "      '=================================\\n\\n\\n')\n",
        "\n",
        "sns.pairplot(car_data)"
      ],
      "id": "lGST_EOsP1uH",
      "execution_count": null,
      "outputs": [
        {
          "output_type": "stream",
          "name": "stdout",
          "text": [
            "Program done by : Ajay Pathak\n",
            "Enrollment No.: 190630107170\n",
            "=================================\n",
            "\n",
            "\n",
            "\n"
          ]
        },
        {
          "output_type": "execute_result",
          "data": {
            "text/plain": [
              "<seaborn.axisgrid.PairGrid at 0x7f919fc00b50>"
            ]
          },
          "metadata": {},
          "execution_count": 113
        },
        {
          "output_type": "display_data",
          "data": {
            "image/png": "[encoded data removed]",
            "text/plain": [
              "<Figure size 900x900 with 30 Axes>"
            ]
          },
          "metadata": {}
        }
      ]
    },
    {
      "cell_type": "markdown",
      "metadata": {
        "id": "PpgW5yH5QkCa"
      },
      "source": [
        "Drop irrelevant columns from the dataset using drop() function."
      ],
      "id": "PpgW5yH5QkCa"
    },
    {
      "cell_type": "code",
      "metadata": {
        "colab": {
          "base_uri": "https://localhost:8080/",
          "height": 309
        },
        "id": "rzLTHpujQZ_B",
        "outputId": "bd3b93ee-1c72-4b16-8617-a13f621f59a3"
      },
      "source": [
        "# --------------------------------------------\n",
        "print('Program done by : Ajay Pathak\\n' +\n",
        "      'Enrollment No.: 190630107170\\n' +\n",
        "      '=================================\\n\\n\\n')\n",
        "\n",
        "car_data = car_data.drop(['lot', 'color'], axis=1)\n",
        "car_data.head()"
      ],
      "id": "rzLTHpujQZ_B",
      "execution_count": null,
      "outputs": [
        {
          "output_type": "stream",
          "name": "stdout",
          "text": [
            "Program done by : Ajay Pathak\n",
            "Enrollment No.: 190630107170\n",
            "=================================\n",
            "\n",
            "\n",
            "\n"
          ]
        },
        {
          "output_type": "execute_result",
          "data": {
            "text/html": [
              "<div>\n",
              "<style scoped>\n",
              "    .dataframe tbody tr th:only-of-type {\n",
              "        vertical-align: middle;\n",
              "    }\n",
              "\n",
              "    .dataframe tbody tr th {\n",
              "        vertical-align: top;\n",
              "    }\n",
              "\n",
              "    .dataframe thead th {\n",
              "        text-align: right;\n",
              "    }\n",
              "</style>\n",
              "<table border=\"1\" class=\"dataframe\">\n",
              "  <thead>\n",
              "    <tr style=\"text-align: right;\">\n",
              "      <th></th>\n",
              "      <th>Unnamed: 0</th>\n",
              "      <th>price</th>\n",
              "      <th>brand</th>\n",
              "      <th>model</th>\n",
              "      <th>year</th>\n",
              "      <th>title_status</th>\n",
              "      <th>mileage</th>\n",
              "      <th>vin</th>\n",
              "      <th>state</th>\n",
              "      <th>country</th>\n",
              "      <th>condition</th>\n",
              "    </tr>\n",
              "  </thead>\n",
              "  <tbody>\n",
              "    <tr>\n",
              "      <th>0</th>\n",
              "      <td>0</td>\n",
              "      <td>6300</td>\n",
              "      <td>toyota</td>\n",
              "      <td>cruiser</td>\n",
              "      <td>2008</td>\n",
              "      <td>clean vehicle</td>\n",
              "      <td>274117.0</td>\n",
              "      <td>jtezu11f88k007763</td>\n",
              "      <td>new jersey</td>\n",
              "      <td>usa</td>\n",
              "      <td>10 days left</td>\n",
              "    </tr>\n",
              "    <tr>\n",
              "      <th>1</th>\n",
              "      <td>1</td>\n",
              "      <td>2899</td>\n",
              "      <td>ford</td>\n",
              "      <td>se</td>\n",
              "      <td>2011</td>\n",
              "      <td>clean vehicle</td>\n",
              "      <td>190552.0</td>\n",
              "      <td>2fmdk3gc4bbb02217</td>\n",
              "      <td>tennessee</td>\n",
              "      <td>usa</td>\n",
              "      <td>6 days left</td>\n",
              "    </tr>\n",
              "    <tr>\n",
              "      <th>2</th>\n",
              "      <td>2</td>\n",
              "      <td>5350</td>\n",
              "      <td>dodge</td>\n",
              "      <td>mpv</td>\n",
              "      <td>2018</td>\n",
              "      <td>clean vehicle</td>\n",
              "      <td>39590.0</td>\n",
              "      <td>3c4pdcgg5jt346413</td>\n",
              "      <td>georgia</td>\n",
              "      <td>usa</td>\n",
              "      <td>2 days left</td>\n",
              "    </tr>\n",
              "    <tr>\n",
              "      <th>3</th>\n",
              "      <td>3</td>\n",
              "      <td>25000</td>\n",
              "      <td>ford</td>\n",
              "      <td>door</td>\n",
              "      <td>2014</td>\n",
              "      <td>clean vehicle</td>\n",
              "      <td>64146.0</td>\n",
              "      <td>1ftfw1et4efc23745</td>\n",
              "      <td>virginia</td>\n",
              "      <td>usa</td>\n",
              "      <td>22 hours left</td>\n",
              "    </tr>\n",
              "    <tr>\n",
              "      <th>4</th>\n",
              "      <td>4</td>\n",
              "      <td>27700</td>\n",
              "      <td>chevrolet</td>\n",
              "      <td>1500</td>\n",
              "      <td>2018</td>\n",
              "      <td>clean vehicle</td>\n",
              "      <td>6654.0</td>\n",
              "      <td>3gcpcrec2jg473991</td>\n",
              "      <td>florida</td>\n",
              "      <td>usa</td>\n",
              "      <td>22 hours left</td>\n",
              "    </tr>\n",
              "  </tbody>\n",
              "</table>\n",
              "</div>"
            ],
            "text/plain": [
              "   Unnamed: 0  price      brand  ...       state  country      condition\n",
              "0           0   6300     toyota  ...  new jersey      usa   10 days left\n",
              "1           1   2899       ford  ...   tennessee      usa    6 days left\n",
              "2           2   5350      dodge  ...     georgia      usa    2 days left\n",
              "3           3  25000       ford  ...    virginia      usa  22 hours left\n",
              "4           4  27700  chevrolet  ...     florida      usa  22 hours left\n",
              "\n",
              "[5 rows x 11 columns]"
            ]
          },
          "metadata": {},
          "execution_count": 114
        }
      ]
    },
    {
      "cell_type": "markdown",
      "metadata": {
        "id": "F8hEVWWGSl2q"
      },
      "source": [
        " Print the total number of duplicate rows."
      ],
      "id": "F8hEVWWGSl2q"
    },
    {
      "cell_type": "code",
      "metadata": {
        "colab": {
          "base_uri": "https://localhost:8080/"
        },
        "id": "LZkECdSNSLhH",
        "outputId": "6c515132-a1ca-4853-85ab-7ea20e525f39"
      },
      "source": [
        "# --------------------------------------------\n",
        "print('Program done by : Ajay Pathak\\n' +\n",
        "      'Enrollment No.: 190630107170\\n' +\n",
        "      '=================================\\n\\n\\n')\n",
        "\n",
        "\n",
        "duplicate_car_row = car_data[car_data.duplicated()]\n",
        "print('Number of duplicate rows:', duplicate_car_row.shape)"
      ],
      "id": "LZkECdSNSLhH",
      "execution_count": null,
      "outputs": [
        {
          "output_type": "stream",
          "name": "stdout",
          "text": [
            "Program done by : Ajay Pathak\n",
            "Enrollment No.: 190630107170\n",
            "=================================\n",
            "\n",
            "\n",
            "\n",
            "Number of duplicate rows: (0, 11)\n"
          ]
        }
      ]
    },
    {
      "cell_type": "code",
      "metadata": {
        "colab": {
          "base_uri": "https://localhost:8080/"
        },
        "id": "8FzHdCoPS9Be",
        "outputId": "3ca2fe18-a53c-4a1d-c459-1fb52230fd6e"
      },
      "source": [
        "# --------------------------------------------\n",
        "print('Program done by : Ajay Pathak\\n' +\n",
        "      'Enrollment No.: 190630107170\\n' +\n",
        "      '=================================\\n\\n\\n')\n",
        "\n",
        "\n",
        "car_data.count()"
      ],
      "id": "8FzHdCoPS9Be",
      "execution_count": null,
      "outputs": [
        {
          "output_type": "stream",
          "name": "stdout",
          "text": [
            "Program done by : Ajay Pathak\n",
            "Enrollment No.: 190630107170\n",
            "=================================\n",
            "\n",
            "\n",
            "\n"
          ]
        },
        {
          "output_type": "execute_result",
          "data": {
            "text/plain": [
              "Unnamed: 0      2499\n",
              "price           2499\n",
              "brand           2499\n",
              "model           2499\n",
              "year            2499\n",
              "title_status    2499\n",
              "mileage         2499\n",
              "vin             2499\n",
              "state           2499\n",
              "country         2499\n",
              "condition       2499\n",
              "dtype: int64"
            ]
          },
          "metadata": {},
          "execution_count": 116
        }
      ]
    },
    {
      "cell_type": "markdown",
      "metadata": {
        "id": "JQ5T7YbzTUHg"
      },
      "source": [
        "Remove the duplicate rows using the drop_duplicates() function."
      ],
      "id": "JQ5T7YbzTUHg"
    },
    {
      "cell_type": "code",
      "metadata": {
        "colab": {
          "base_uri": "https://localhost:8080/",
          "height": 247
        },
        "id": "lFK8Ak55TOuR",
        "outputId": "7de0a6af-a614-4218-d3ec-78b24fba9178"
      },
      "source": [
        "# --------------------------------------------\n",
        "print('Program done by : Ajay Pathak\\n' +\n",
        "      'Enrollment No.: 190630107170\\n' +\n",
        "      '=================================\\n\\n\\n')\n",
        "\n",
        "\n",
        "car_data = car_data.drop_duplicates()\n",
        "car_data.head(3)"
      ],
      "id": "lFK8Ak55TOuR",
      "execution_count": null,
      "outputs": [
        {
          "output_type": "stream",
          "name": "stdout",
          "text": [
            "Program done by : Ajay Pathak\n",
            "Enrollment No.: 190630107170\n",
            "=================================\n",
            "\n",
            "\n",
            "\n"
          ]
        },
        {
          "output_type": "execute_result",
          "data": {
            "text/html": [
              "<div>\n",
              "<style scoped>\n",
              "    .dataframe tbody tr th:only-of-type {\n",
              "        vertical-align: middle;\n",
              "    }\n",
              "\n",
              "    .dataframe tbody tr th {\n",
              "        vertical-align: top;\n",
              "    }\n",
              "\n",
              "    .dataframe thead th {\n",
              "        text-align: right;\n",
              "    }\n",
              "</style>\n",
              "<table border=\"1\" class=\"dataframe\">\n",
              "  <thead>\n",
              "    <tr style=\"text-align: right;\">\n",
              "      <th></th>\n",
              "      <th>Unnamed: 0</th>\n",
              "      <th>price</th>\n",
              "      <th>brand</th>\n",
              "      <th>model</th>\n",
              "      <th>year</th>\n",
              "      <th>title_status</th>\n",
              "      <th>mileage</th>\n",
              "      <th>vin</th>\n",
              "      <th>state</th>\n",
              "      <th>country</th>\n",
              "      <th>condition</th>\n",
              "    </tr>\n",
              "  </thead>\n",
              "  <tbody>\n",
              "    <tr>\n",
              "      <th>0</th>\n",
              "      <td>0</td>\n",
              "      <td>6300</td>\n",
              "      <td>toyota</td>\n",
              "      <td>cruiser</td>\n",
              "      <td>2008</td>\n",
              "      <td>clean vehicle</td>\n",
              "      <td>274117.0</td>\n",
              "      <td>jtezu11f88k007763</td>\n",
              "      <td>new jersey</td>\n",
              "      <td>usa</td>\n",
              "      <td>10 days left</td>\n",
              "    </tr>\n",
              "    <tr>\n",
              "      <th>1</th>\n",
              "      <td>1</td>\n",
              "      <td>2899</td>\n",
              "      <td>ford</td>\n",
              "      <td>se</td>\n",
              "      <td>2011</td>\n",
              "      <td>clean vehicle</td>\n",
              "      <td>190552.0</td>\n",
              "      <td>2fmdk3gc4bbb02217</td>\n",
              "      <td>tennessee</td>\n",
              "      <td>usa</td>\n",
              "      <td>6 days left</td>\n",
              "    </tr>\n",
              "    <tr>\n",
              "      <th>2</th>\n",
              "      <td>2</td>\n",
              "      <td>5350</td>\n",
              "      <td>dodge</td>\n",
              "      <td>mpv</td>\n",
              "      <td>2018</td>\n",
              "      <td>clean vehicle</td>\n",
              "      <td>39590.0</td>\n",
              "      <td>3c4pdcgg5jt346413</td>\n",
              "      <td>georgia</td>\n",
              "      <td>usa</td>\n",
              "      <td>2 days left</td>\n",
              "    </tr>\n",
              "  </tbody>\n",
              "</table>\n",
              "</div>"
            ],
            "text/plain": [
              "   Unnamed: 0  price   brand  ...       state  country     condition\n",
              "0           0   6300  toyota  ...  new jersey      usa  10 days left\n",
              "1           1   2899    ford  ...   tennessee      usa   6 days left\n",
              "2           2   5350   dodge  ...     georgia      usa   2 days left\n",
              "\n",
              "[3 rows x 11 columns]"
            ]
          },
          "metadata": {},
          "execution_count": 117
        }
      ]
    },
    {
      "cell_type": "markdown",
      "metadata": {
        "id": "BegoPvvhTgUx"
      },
      "source": [
        "Drop the missing values from the dataset."
      ],
      "id": "BegoPvvhTgUx"
    },
    {
      "cell_type": "code",
      "metadata": {
        "colab": {
          "base_uri": "https://localhost:8080/"
        },
        "id": "1sbGpvO0Taf-",
        "outputId": "22c65a41-8f97-462a-8ff2-12070ee5b9ea"
      },
      "source": [
        "# --------------------------------------------\n",
        "print('Program done by : Ajay Pathak\\n' +\n",
        "      'Enrollment No.: 190630107170\\n' +\n",
        "      '=================================\\n\\n\\n')\n",
        "\n",
        "\n",
        "# find null values\n",
        "print(car_data.isnull().sum())\n",
        "\n",
        "# using dropna function we can drop the null valued rows\n",
        "# in our dataset there are no null values"
      ],
      "id": "1sbGpvO0Taf-",
      "execution_count": null,
      "outputs": [
        {
          "output_type": "stream",
          "name": "stdout",
          "text": [
            "Program done by : Ajay Pathak\n",
            "Enrollment No.: 190630107170\n",
            "=================================\n",
            "\n",
            "\n",
            "\n",
            "Unnamed: 0      0\n",
            "price           0\n",
            "brand           0\n",
            "model           0\n",
            "year            0\n",
            "title_status    0\n",
            "mileage         0\n",
            "vin             0\n",
            "state           0\n",
            "country         0\n",
            "condition       0\n",
            "dtype: int64\n"
          ]
        }
      ]
    },
    {
      "cell_type": "markdown",
      "metadata": {
        "id": "a5MwFG3DT4Vq"
      },
      "source": [
        "Plot a histogram to find the number of cars per brand."
      ],
      "id": "a5MwFG3DT4Vq"
    },
    {
      "cell_type": "code",
      "metadata": {
        "colab": {
          "base_uri": "https://localhost:8080/",
          "height": 558
        },
        "id": "F6xxuwkGTpY6",
        "outputId": "1bdfeb09-b797-4510-bc93-9e7c123571b2"
      },
      "source": [
        "# --------------------------------------------\n",
        "print('Program done by : Ajay Pathak\\n' +\n",
        "      'Enrollment No.: 190630107170\\n' +\n",
        "      '=================================\\n\\n\\n')\n",
        "\n",
        "\n",
        "car_data.brand.value_counts().nlargest(40).plot(kind='bar', figsize=(10, 5))\n",
        "plt.title('number cars per brand')\n",
        "plt.ylabel('number of cars')\n",
        "plt.xlabel('brand')"
      ],
      "id": "F6xxuwkGTpY6",
      "execution_count": null,
      "outputs": [
        {
          "output_type": "stream",
          "name": "stdout",
          "text": [
            "Program done by : Ajay Pathak\n",
            "Enrollment No.: 190630107170\n",
            "=================================\n",
            "\n",
            "\n",
            "\n"
          ]
        },
        {
          "output_type": "execute_result",
          "data": {
            "text/plain": [
              "Text(0.5, 0, 'brand')"
            ]
          },
          "metadata": {},
          "execution_count": 119
        },
        {
          "output_type": "display_data",
          "data": {
            "image/png": "[encoded data removed]",
            "text/plain": [
              "<Figure size 720x360 with 1 Axes>"
            ]
          },
          "metadata": {}
        }
      ]
    },
    {
      "cell_type": "markdown",
      "metadata": {
        "id": "seFn7pCkVDWw"
      },
      "source": [
        "Draw a correlation plot between the variables."
      ],
      "id": "seFn7pCkVDWw"
    },
    {
      "cell_type": "code",
      "metadata": {
        "colab": {
          "base_uri": "https://localhost:8080/",
          "height": 858
        },
        "id": "rZ3whcFyUuVq",
        "outputId": "e5ed7858-dad6-43f8-9bee-66854500eb36"
      },
      "source": [
        "# --------------------------------------------\n",
        "print('Program done by : Ajay Pathak\\n' +\n",
        "      'Enrollment No.: 190630107170\\n' +\n",
        "      '=================================\\n\\n\\n')\n",
        "\n",
        "\n",
        "plt.figure(figsize=(20, 10))\n",
        "c = car_data.corr()\n",
        "sns.heatmap(c, cmap='BrBG', annot=True)\n",
        "c"
      ],
      "id": "rZ3whcFyUuVq",
      "execution_count": null,
      "outputs": [
        {
          "output_type": "stream",
          "name": "stdout",
          "text": [
            "Program done by : Ajay Pathak\n",
            "Enrollment No.: 190630107170\n",
            "=================================\n",
            "\n",
            "\n",
            "\n"
          ]
        },
        {
          "output_type": "execute_result",
          "data": {
            "text/html": [
              "<div>\n",
              "<style scoped>\n",
              "    .dataframe tbody tr th:only-of-type {\n",
              "        vertical-align: middle;\n",
              "    }\n",
              "\n",
              "    .dataframe tbody tr th {\n",
              "        vertical-align: top;\n",
              "    }\n",
              "\n",
              "    .dataframe thead th {\n",
              "        text-align: right;\n",
              "    }\n",
              "</style>\n",
              "<table border=\"1\" class=\"dataframe\">\n",
              "  <thead>\n",
              "    <tr style=\"text-align: right;\">\n",
              "      <th></th>\n",
              "      <th>Unnamed: 0</th>\n",
              "      <th>price</th>\n",
              "      <th>year</th>\n",
              "      <th>mileage</th>\n",
              "    </tr>\n",
              "  </thead>\n",
              "  <tbody>\n",
              "    <tr>\n",
              "      <th>Unnamed: 0</th>\n",
              "      <td>1.000000</td>\n",
              "      <td>0.098417</td>\n",
              "      <td>0.244921</td>\n",
              "      <td>-0.129258</td>\n",
              "    </tr>\n",
              "    <tr>\n",
              "      <th>price</th>\n",
              "      <td>0.098417</td>\n",
              "      <td>1.000000</td>\n",
              "      <td>0.418274</td>\n",
              "      <td>-0.400838</td>\n",
              "    </tr>\n",
              "    <tr>\n",
              "      <th>year</th>\n",
              "      <td>0.244921</td>\n",
              "      <td>0.418274</td>\n",
              "      <td>1.000000</td>\n",
              "      <td>-0.594686</td>\n",
              "    </tr>\n",
              "    <tr>\n",
              "      <th>mileage</th>\n",
              "      <td>-0.129258</td>\n",
              "      <td>-0.400838</td>\n",
              "      <td>-0.594686</td>\n",
              "      <td>1.000000</td>\n",
              "    </tr>\n",
              "  </tbody>\n",
              "</table>\n",
              "</div>"
            ],
            "text/plain": [
              "            Unnamed: 0     price      year   mileage\n",
              "Unnamed: 0    1.000000  0.098417  0.244921 -0.129258\n",
              "price         0.098417  1.000000  0.418274 -0.400838\n",
              "year          0.244921  0.418274  1.000000 -0.594686\n",
              "mileage      -0.129258 -0.400838 -0.594686  1.000000"
            ]
          },
          "metadata": {},
          "execution_count": 120
        },
        {
          "output_type": "display_data",
          "data": {
            "image/png": "[encoded data removed]",
            "text/plain": [
              "<Figure size 1440x720 with 2 Axes>"
            ]
          },
          "metadata": {}
        }
      ]
    },
    {
      "cell_type": "markdown",
      "metadata": {
        "id": "RAAoP7JQGkJF"
      },
      "source": [
        "# 8] Write a python program for house price prediction using linear regression.\n",
        "---"
      ],
      "id": "RAAoP7JQGkJF"
    },
    {
      "cell_type": "markdown",
      "metadata": {
        "id": "y1ynHRamJtmz"
      },
      "source": [
        "## Data Pre-Processing"
      ],
      "id": "y1ynHRamJtmz"
    },
    {
      "cell_type": "markdown",
      "metadata": {
        "id": "WsFwL92JIGyp"
      },
      "source": [
        "Mounting drive to with colab"
      ],
      "id": "WsFwL92JIGyp"
    },
    {
      "cell_type": "code",
      "metadata": {
        "colab": {
          "base_uri": "https://localhost:8080/"
        },
        "id": "8fpkg3gwIVRE",
        "outputId": "761d8eac-bebc-4f35-be78-0b24905e5333"
      },
      "source": [
        "from google.colab import drive\n",
        "drive.mount('/content/drive')"
      ],
      "id": "8fpkg3gwIVRE",
      "execution_count": null,
      "outputs": [
        {
          "output_type": "stream",
          "name": "stdout",
          "text": [
            "Mounted at /content/drive\n"
          ]
        }
      ]
    },
    {
      "cell_type": "markdown",
      "metadata": {
        "id": "X8kiulj7HkZQ"
      },
      "source": [
        "Import libraries"
      ],
      "id": "X8kiulj7HkZQ"
    },
    {
      "cell_type": "code",
      "metadata": {
        "id": "93uuS7KpG0w0"
      },
      "source": [
        "import pandas as pd\n",
        "import numpy as np"
      ],
      "id": "93uuS7KpG0w0",
      "execution_count": null,
      "outputs": []
    },
    {
      "cell_type": "markdown",
      "metadata": {
        "id": "BKxUAsLuHxJr"
      },
      "source": [
        "Reading csv file of our data into a variable\n"
      ],
      "id": "BKxUAsLuHxJr"
    },
    {
      "cell_type": "code",
      "metadata": {
        "colab": {
          "base_uri": "https://localhost:8080/",
          "height": 376
        },
        "id": "3fQFlo9FHu_3",
        "outputId": "99070349-2487-4d85-8470-2d75ca71c6e8"
      },
      "source": [
        "# --------------------------------------------\n",
        "print('Program done by : Ajay Pathak\\n' +\n",
        "      'Enrollment No.: 190630107170\\n' +\n",
        "      '=================================\\n\\n\\n')\n",
        "\n",
        "\n",
        "house_data = pd.read_csv('/content/drive/MyDrive/USA_Housing.csv')\n",
        "house_data.head(5)"
      ],
      "id": "3fQFlo9FHu_3",
      "execution_count": null,
      "outputs": [
        {
          "output_type": "stream",
          "name": "stdout",
          "text": [
            "Program done by : Ajay Pathak\n",
            "Enrollment No.: 190630107170\n",
            "=================================\n",
            "\n",
            "\n",
            "\n"
          ]
        },
        {
          "output_type": "execute_result",
          "data": {
            "text/html": [
              "<div>\n",
              "<style scoped>\n",
              "    .dataframe tbody tr th:only-of-type {\n",
              "        vertical-align: middle;\n",
              "    }\n",
              "\n",
              "    .dataframe tbody tr th {\n",
              "        vertical-align: top;\n",
              "    }\n",
              "\n",
              "    .dataframe thead th {\n",
              "        text-align: right;\n",
              "    }\n",
              "</style>\n",
              "<table border=\"1\" class=\"dataframe\">\n",
              "  <thead>\n",
              "    <tr style=\"text-align: right;\">\n",
              "      <th></th>\n",
              "      <th>Avg. Area Income</th>\n",
              "      <th>Avg. Area House Age</th>\n",
              "      <th>Avg. Area Number of Rooms</th>\n",
              "      <th>Avg. Area Number of Bedrooms</th>\n",
              "      <th>Area Population</th>\n",
              "      <th>Price</th>\n",
              "      <th>Address</th>\n",
              "    </tr>\n",
              "  </thead>\n",
              "  <tbody>\n",
              "    <tr>\n",
              "      <th>0</th>\n",
              "      <td>79545.458574</td>\n",
              "      <td>5.682861</td>\n",
              "      <td>7.009188</td>\n",
              "      <td>4.09</td>\n",
              "      <td>23086.800503</td>\n",
              "      <td>1.059034e+06</td>\n",
              "      <td>208 Michael Ferry Apt. 674\\nLaurabury, NE 3701...</td>\n",
              "    </tr>\n",
              "    <tr>\n",
              "      <th>1</th>\n",
              "      <td>79248.642455</td>\n",
              "      <td>6.002900</td>\n",
              "      <td>6.730821</td>\n",
              "      <td>3.09</td>\n",
              "      <td>40173.072174</td>\n",
              "      <td>1.505891e+06</td>\n",
              "      <td>188 Johnson Views Suite 079\\nLake Kathleen, CA...</td>\n",
              "    </tr>\n",
              "    <tr>\n",
              "      <th>2</th>\n",
              "      <td>61287.067179</td>\n",
              "      <td>5.865890</td>\n",
              "      <td>8.512727</td>\n",
              "      <td>5.13</td>\n",
              "      <td>36882.159400</td>\n",
              "      <td>1.058988e+06</td>\n",
              "      <td>9127 Elizabeth Stravenue\\nDanieltown, WI 06482...</td>\n",
              "    </tr>\n",
              "    <tr>\n",
              "      <th>3</th>\n",
              "      <td>63345.240046</td>\n",
              "      <td>7.188236</td>\n",
              "      <td>5.586729</td>\n",
              "      <td>3.26</td>\n",
              "      <td>34310.242831</td>\n",
              "      <td>1.260617e+06</td>\n",
              "      <td>USS Barnett\\nFPO AP 44820</td>\n",
              "    </tr>\n",
              "    <tr>\n",
              "      <th>4</th>\n",
              "      <td>59982.197226</td>\n",
              "      <td>5.040555</td>\n",
              "      <td>7.839388</td>\n",
              "      <td>4.23</td>\n",
              "      <td>26354.109472</td>\n",
              "      <td>6.309435e+05</td>\n",
              "      <td>USNS Raymond\\nFPO AE 09386</td>\n",
              "    </tr>\n",
              "  </tbody>\n",
              "</table>\n",
              "</div>"
            ],
            "text/plain": [
              "   Avg. Area Income  ...                                            Address\n",
              "0      79545.458574  ...  208 Michael Ferry Apt. 674\\nLaurabury, NE 3701...\n",
              "1      79248.642455  ...  188 Johnson Views Suite 079\\nLake Kathleen, CA...\n",
              "2      61287.067179  ...  9127 Elizabeth Stravenue\\nDanieltown, WI 06482...\n",
              "3      63345.240046  ...                          USS Barnett\\nFPO AP 44820\n",
              "4      59982.197226  ...                         USNS Raymond\\nFPO AE 09386\n",
              "\n",
              "[5 rows x 7 columns]"
            ]
          },
          "metadata": {},
          "execution_count": 9
        }
      ]
    },
    {
      "cell_type": "markdown",
      "metadata": {
        "id": "kAuHURDWIvaR"
      },
      "source": [
        "Data analysing"
      ],
      "id": "kAuHURDWIvaR"
    },
    {
      "cell_type": "code",
      "metadata": {
        "colab": {
          "base_uri": "https://localhost:8080/"
        },
        "id": "CDAtOadnIlEi",
        "outputId": "bbc41985-848b-4c1c-a891-baf20ba1c6c1"
      },
      "source": [
        "# --------------------------------------------\n",
        "print('Program done by : Ajay Pathak\\n' +\n",
        "      'Enrollment No.: 190630107170\\n' +\n",
        "      '=================================\\n\\n\\n')\n",
        "\n",
        "house_data.info()"
      ],
      "id": "CDAtOadnIlEi",
      "execution_count": null,
      "outputs": [
        {
          "output_type": "stream",
          "name": "stdout",
          "text": [
            "Program done by : Ajay Pathak\n",
            "Enrollment No.: 190630107170\n",
            "=================================\n",
            "\n",
            "\n",
            "\n",
            "<class 'pandas.core.frame.DataFrame'>\n",
            "RangeIndex: 5000 entries, 0 to 4999\n",
            "Data columns (total 7 columns):\n",
            " #   Column                        Non-Null Count  Dtype  \n",
            "---  ------                        --------------  -----  \n",
            " 0   Avg. Area Income              5000 non-null   float64\n",
            " 1   Avg. Area House Age           5000 non-null   float64\n",
            " 2   Avg. Area Number of Rooms     5000 non-null   float64\n",
            " 3   Avg. Area Number of Bedrooms  5000 non-null   float64\n",
            " 4   Area Population               5000 non-null   float64\n",
            " 5   Price                         5000 non-null   float64\n",
            " 6   Address                       5000 non-null   object \n",
            "dtypes: float64(6), object(1)\n",
            "memory usage: 273.6+ KB\n"
          ]
        }
      ]
    },
    {
      "cell_type": "markdown",
      "metadata": {
        "id": "74AYjebRI2dF"
      },
      "source": [
        "Our data has column named 'Address' with strings or some other than float values which are not very useful to predict price,\n",
        "We can simply drop those column which are not useful "
      ],
      "id": "74AYjebRI2dF"
    },
    {
      "cell_type": "code",
      "metadata": {
        "colab": {
          "base_uri": "https://localhost:8080/",
          "height": 309
        },
        "id": "4wYLuHCaI0SY",
        "outputId": "02052237-cc66-4857-b8dc-1c3213a2d554"
      },
      "source": [
        "# --------------------------------------------\n",
        "print('Program done by : Ajay Pathak\\n' +\n",
        "      'Enrollment No.: 190630107170\\n' +\n",
        "      '=================================\\n\\n\\n')\n",
        "\n",
        "\n",
        "house_data = house_data.drop('Address', axis=1)\n",
        "house_data.head()"
      ],
      "id": "4wYLuHCaI0SY",
      "execution_count": null,
      "outputs": [
        {
          "output_type": "stream",
          "name": "stdout",
          "text": [
            "Program done by : Ajay Pathak\n",
            "Enrollment No.: 190630107170\n",
            "=================================\n",
            "\n",
            "\n",
            "\n"
          ]
        },
        {
          "output_type": "execute_result",
          "data": {
            "text/html": [
              "<div>\n",
              "<style scoped>\n",
              "    .dataframe tbody tr th:only-of-type {\n",
              "        vertical-align: middle;\n",
              "    }\n",
              "\n",
              "    .dataframe tbody tr th {\n",
              "        vertical-align: top;\n",
              "    }\n",
              "\n",
              "    .dataframe thead th {\n",
              "        text-align: right;\n",
              "    }\n",
              "</style>\n",
              "<table border=\"1\" class=\"dataframe\">\n",
              "  <thead>\n",
              "    <tr style=\"text-align: right;\">\n",
              "      <th></th>\n",
              "      <th>Avg. Area Income</th>\n",
              "      <th>Avg. Area House Age</th>\n",
              "      <th>Avg. Area Number of Rooms</th>\n",
              "      <th>Avg. Area Number of Bedrooms</th>\n",
              "      <th>Area Population</th>\n",
              "      <th>Price</th>\n",
              "    </tr>\n",
              "  </thead>\n",
              "  <tbody>\n",
              "    <tr>\n",
              "      <th>0</th>\n",
              "      <td>79545.458574</td>\n",
              "      <td>5.682861</td>\n",
              "      <td>7.009188</td>\n",
              "      <td>4.09</td>\n",
              "      <td>23086.800503</td>\n",
              "      <td>1.059034e+06</td>\n",
              "    </tr>\n",
              "    <tr>\n",
              "      <th>1</th>\n",
              "      <td>79248.642455</td>\n",
              "      <td>6.002900</td>\n",
              "      <td>6.730821</td>\n",
              "      <td>3.09</td>\n",
              "      <td>40173.072174</td>\n",
              "      <td>1.505891e+06</td>\n",
              "    </tr>\n",
              "    <tr>\n",
              "      <th>2</th>\n",
              "      <td>61287.067179</td>\n",
              "      <td>5.865890</td>\n",
              "      <td>8.512727</td>\n",
              "      <td>5.13</td>\n",
              "      <td>36882.159400</td>\n",
              "      <td>1.058988e+06</td>\n",
              "    </tr>\n",
              "    <tr>\n",
              "      <th>3</th>\n",
              "      <td>63345.240046</td>\n",
              "      <td>7.188236</td>\n",
              "      <td>5.586729</td>\n",
              "      <td>3.26</td>\n",
              "      <td>34310.242831</td>\n",
              "      <td>1.260617e+06</td>\n",
              "    </tr>\n",
              "    <tr>\n",
              "      <th>4</th>\n",
              "      <td>59982.197226</td>\n",
              "      <td>5.040555</td>\n",
              "      <td>7.839388</td>\n",
              "      <td>4.23</td>\n",
              "      <td>26354.109472</td>\n",
              "      <td>6.309435e+05</td>\n",
              "    </tr>\n",
              "  </tbody>\n",
              "</table>\n",
              "</div>"
            ],
            "text/plain": [
              "   Avg. Area Income  Avg. Area House Age  ...  Area Population         Price\n",
              "0      79545.458574             5.682861  ...     23086.800503  1.059034e+06\n",
              "1      79248.642455             6.002900  ...     40173.072174  1.505891e+06\n",
              "2      61287.067179             5.865890  ...     36882.159400  1.058988e+06\n",
              "3      63345.240046             7.188236  ...     34310.242831  1.260617e+06\n",
              "4      59982.197226             5.040555  ...     26354.109472  6.309435e+05\n",
              "\n",
              "[5 rows x 6 columns]"
            ]
          },
          "metadata": {},
          "execution_count": 11
        }
      ]
    },
    {
      "cell_type": "markdown",
      "metadata": {
        "id": "Gh6R_WoZJlXX"
      },
      "source": [
        "## Data splitting"
      ],
      "id": "Gh6R_WoZJlXX"
    },
    {
      "cell_type": "markdown",
      "metadata": {
        "id": "BJqcggl1J3_n"
      },
      "source": [
        "First we have to split our data into two parts train data and test data to train our machine learning model.\n",
        "\n",
        "We can split the data using train_test_split from sklearn, but first we have to create the X and y variable. \n",
        "\n",
        "X contains the data set without the the column (price) we are trying to predict and y variable contains the column we are trying to predict."
      ],
      "id": "BJqcggl1J3_n"
    },
    {
      "cell_type": "code",
      "metadata": {
        "colab": {
          "base_uri": "https://localhost:8080/"
        },
        "id": "0OGrS6TnJTwQ",
        "outputId": "d8b7a6a2-db2a-41d1-8d27-d3891d6866e2"
      },
      "source": [
        "# --------------------------------------------\n",
        "print('Program done by : Ajay Pathak\\n' +\n",
        "      'Enrollment No.: 190630107170\\n' +\n",
        "      '=================================\\n\\n\\n')\n",
        "\n",
        "\n",
        "x = house_data.drop('Price', axis=1)\n",
        "y = house_data['Price']"
      ],
      "id": "0OGrS6TnJTwQ",
      "execution_count": null,
      "outputs": [
        {
          "output_type": "stream",
          "name": "stdout",
          "text": [
            "Program done by : Ajay Pathak\n",
            "Enrollment No.: 190630107170\n",
            "=================================\n",
            "\n",
            "\n",
            "\n"
          ]
        }
      ]
    },
    {
      "cell_type": "markdown",
      "metadata": {
        "id": "IF8DmDsTKgrE"
      },
      "source": [
        "So let’s now import the train_test_split function from sklearn."
      ],
      "id": "IF8DmDsTKgrE"
    },
    {
      "cell_type": "code",
      "metadata": {
        "id": "ckXBIIQaKJQP"
      },
      "source": [
        "# # --------------------------------------------\n",
        "# print('Program done by : Ajay Pathak\\n' +\n",
        "#       'Enrollment No.: 190630107170\\n' +\n",
        "#       '=================================\\n\\n\\n')\n",
        "\n",
        "\n",
        "from sklearn.model_selection import train_test_split"
      ],
      "id": "ckXBIIQaKJQP",
      "execution_count": null,
      "outputs": []
    },
    {
      "cell_type": "code",
      "metadata": {
        "id": "vICFxFmUKo1G"
      },
      "source": [
        "# # --------------------------------------------\n",
        "# print('Program done by : Ajay Pathak\\n' +\n",
        "#       'Enrollment No.: 190630107170\\n' +\n",
        "#       '=================================\\n\\n\\n')\n",
        "\n",
        "# Splitting the dataset into train dataset and test dataset for the model.\n",
        "x_train, x_test, y_train, y_test = train_test_split(x, y, test_size=0.3)"
      ],
      "id": "vICFxFmUKo1G",
      "execution_count": null,
      "outputs": []
    },
    {
      "cell_type": "markdown",
      "metadata": {
        "id": "IcQNlfylO9rI"
      },
      "source": [
        "Printing head of all splits"
      ],
      "id": "IcQNlfylO9rI"
    },
    {
      "cell_type": "code",
      "metadata": {
        "colab": {
          "base_uri": "https://localhost:8080/",
          "height": 309
        },
        "id": "2Ep29X6EPCpu",
        "outputId": "41098d8f-18a1-48a5-f7f4-6172e54b12ed"
      },
      "source": [
        "# --------------------------------------------\n",
        "print('Program done by : Ajay Pathak\\n' +\n",
        "      'Enrollment No.: 190630107170\\n' +\n",
        "      '=================================\\n\\n\\n')\n",
        "\n",
        "\n",
        "x_train.head()"
      ],
      "id": "2Ep29X6EPCpu",
      "execution_count": null,
      "outputs": [
        {
          "output_type": "stream",
          "name": "stdout",
          "text": [
            "Program done by : Ajay Pathak\n",
            "Enrollment No.: 190630107170\n",
            "=================================\n",
            "\n",
            "\n",
            "\n"
          ]
        },
        {
          "output_type": "execute_result",
          "data": {
            "text/html": [
              "<div>\n",
              "<style scoped>\n",
              "    .dataframe tbody tr th:only-of-type {\n",
              "        vertical-align: middle;\n",
              "    }\n",
              "\n",
              "    .dataframe tbody tr th {\n",
              "        vertical-align: top;\n",
              "    }\n",
              "\n",
              "    .dataframe thead th {\n",
              "        text-align: right;\n",
              "    }\n",
              "</style>\n",
              "<table border=\"1\" class=\"dataframe\">\n",
              "  <thead>\n",
              "    <tr style=\"text-align: right;\">\n",
              "      <th></th>\n",
              "      <th>Avg. Area Income</th>\n",
              "      <th>Avg. Area House Age</th>\n",
              "      <th>Avg. Area Number of Rooms</th>\n",
              "      <th>Avg. Area Number of Bedrooms</th>\n",
              "      <th>Area Population</th>\n",
              "    </tr>\n",
              "  </thead>\n",
              "  <tbody>\n",
              "    <tr>\n",
              "      <th>2147</th>\n",
              "      <td>80417.543941</td>\n",
              "      <td>4.737569</td>\n",
              "      <td>6.837051</td>\n",
              "      <td>4.32</td>\n",
              "      <td>44523.989090</td>\n",
              "    </tr>\n",
              "    <tr>\n",
              "      <th>2413</th>\n",
              "      <td>51747.915198</td>\n",
              "      <td>6.648548</td>\n",
              "      <td>6.212700</td>\n",
              "      <td>4.41</td>\n",
              "      <td>29749.622794</td>\n",
              "    </tr>\n",
              "    <tr>\n",
              "      <th>4523</th>\n",
              "      <td>69517.844369</td>\n",
              "      <td>4.485615</td>\n",
              "      <td>9.115588</td>\n",
              "      <td>4.01</td>\n",
              "      <td>39739.757191</td>\n",
              "    </tr>\n",
              "    <tr>\n",
              "      <th>3096</th>\n",
              "      <td>47121.009958</td>\n",
              "      <td>6.714882</td>\n",
              "      <td>6.650923</td>\n",
              "      <td>3.23</td>\n",
              "      <td>46303.462107</td>\n",
              "    </tr>\n",
              "    <tr>\n",
              "      <th>1461</th>\n",
              "      <td>60712.197689</td>\n",
              "      <td>6.266860</td>\n",
              "      <td>7.010052</td>\n",
              "      <td>3.29</td>\n",
              "      <td>47783.304890</td>\n",
              "    </tr>\n",
              "  </tbody>\n",
              "</table>\n",
              "</div>"
            ],
            "text/plain": [
              "      Avg. Area Income  ...  Area Population\n",
              "2147      80417.543941  ...     44523.989090\n",
              "2413      51747.915198  ...     29749.622794\n",
              "4523      69517.844369  ...     39739.757191\n",
              "3096      47121.009958  ...     46303.462107\n",
              "1461      60712.197689  ...     47783.304890\n",
              "\n",
              "[5 rows x 5 columns]"
            ]
          },
          "metadata": {},
          "execution_count": 24
        }
      ]
    },
    {
      "cell_type": "code",
      "metadata": {
        "colab": {
          "base_uri": "https://localhost:8080/"
        },
        "id": "BPpf-c-sPTfg",
        "outputId": "b1fb8f8c-2c7f-496c-ed11-91d7c683bfde"
      },
      "source": [
        "# --------------------------------------------\n",
        "print('Program done by : Ajay Pathak\\n' +\n",
        "      'Enrollment No.: 190630107170\\n' +\n",
        "      '=================================\\n\\n\\n')\n",
        "\n",
        "\n",
        "y_train.head()"
      ],
      "id": "BPpf-c-sPTfg",
      "execution_count": null,
      "outputs": [
        {
          "output_type": "stream",
          "name": "stdout",
          "text": [
            "Program done by : Ajay Pathak\n",
            "Enrollment No.: 190630107170\n",
            "=================================\n",
            "\n",
            "\n",
            "\n"
          ]
        },
        {
          "output_type": "execute_result",
          "data": {
            "text/plain": [
              "2147    1.412145e+06\n",
              "2413    8.324752e+05\n",
              "4523    1.384802e+06\n",
              "3096    1.012270e+06\n",
              "1461    1.249174e+06\n",
              "Name: Price, dtype: float64"
            ]
          },
          "metadata": {},
          "execution_count": 26
        }
      ]
    },
    {
      "cell_type": "code",
      "metadata": {
        "colab": {
          "base_uri": "https://localhost:8080/",
          "height": 309
        },
        "id": "uONF5sjePNPT",
        "outputId": "7a9ea13a-786b-4948-fd8e-c93a6101ade6"
      },
      "source": [
        "# --------------------------------------------\n",
        "print('Program done by : Ajay Pathak\\n' +\n",
        "      'Enrollment No.: 190630107170\\n' +\n",
        "      '=================================\\n\\n\\n')\n",
        "\n",
        "\n",
        "x_test.head()"
      ],
      "id": "uONF5sjePNPT",
      "execution_count": null,
      "outputs": [
        {
          "output_type": "stream",
          "name": "stdout",
          "text": [
            "Program done by : Ajay Pathak\n",
            "Enrollment No.: 190630107170\n",
            "=================================\n",
            "\n",
            "\n",
            "\n"
          ]
        },
        {
          "output_type": "execute_result",
          "data": {
            "text/html": [
              "<div>\n",
              "<style scoped>\n",
              "    .dataframe tbody tr th:only-of-type {\n",
              "        vertical-align: middle;\n",
              "    }\n",
              "\n",
              "    .dataframe tbody tr th {\n",
              "        vertical-align: top;\n",
              "    }\n",
              "\n",
              "    .dataframe thead th {\n",
              "        text-align: right;\n",
              "    }\n",
              "</style>\n",
              "<table border=\"1\" class=\"dataframe\">\n",
              "  <thead>\n",
              "    <tr style=\"text-align: right;\">\n",
              "      <th></th>\n",
              "      <th>Avg. Area Income</th>\n",
              "      <th>Avg. Area House Age</th>\n",
              "      <th>Avg. Area Number of Rooms</th>\n",
              "      <th>Avg. Area Number of Bedrooms</th>\n",
              "      <th>Area Population</th>\n",
              "    </tr>\n",
              "  </thead>\n",
              "  <tbody>\n",
              "    <tr>\n",
              "      <th>1064</th>\n",
              "      <td>63787.536354</td>\n",
              "      <td>4.643254</td>\n",
              "      <td>6.007780</td>\n",
              "      <td>3.25</td>\n",
              "      <td>22449.534005</td>\n",
              "    </tr>\n",
              "    <tr>\n",
              "      <th>2852</th>\n",
              "      <td>63134.639415</td>\n",
              "      <td>6.676236</td>\n",
              "      <td>8.482317</td>\n",
              "      <td>6.25</td>\n",
              "      <td>27554.286867</td>\n",
              "    </tr>\n",
              "    <tr>\n",
              "      <th>868</th>\n",
              "      <td>75759.489958</td>\n",
              "      <td>5.254822</td>\n",
              "      <td>7.510712</td>\n",
              "      <td>4.11</td>\n",
              "      <td>46188.165092</td>\n",
              "    </tr>\n",
              "    <tr>\n",
              "      <th>524</th>\n",
              "      <td>85281.687178</td>\n",
              "      <td>6.860060</td>\n",
              "      <td>6.807332</td>\n",
              "      <td>2.47</td>\n",
              "      <td>22887.721894</td>\n",
              "    </tr>\n",
              "    <tr>\n",
              "      <th>774</th>\n",
              "      <td>81944.654908</td>\n",
              "      <td>6.065352</td>\n",
              "      <td>6.913782</td>\n",
              "      <td>4.46</td>\n",
              "      <td>34262.323839</td>\n",
              "    </tr>\n",
              "  </tbody>\n",
              "</table>\n",
              "</div>"
            ],
            "text/plain": [
              "      Avg. Area Income  ...  Area Population\n",
              "1064      63787.536354  ...     22449.534005\n",
              "2852      63134.639415  ...     27554.286867\n",
              "868       75759.489958  ...     46188.165092\n",
              "524       85281.687178  ...     22887.721894\n",
              "774       81944.654908  ...     34262.323839\n",
              "\n",
              "[5 rows x 5 columns]"
            ]
          },
          "metadata": {},
          "execution_count": 27
        }
      ]
    },
    {
      "cell_type": "code",
      "metadata": {
        "colab": {
          "base_uri": "https://localhost:8080/"
        },
        "id": "KAdJkajMPa1I",
        "outputId": "5cc8a91b-83a3-4d25-ec03-7bb7f332be5f"
      },
      "source": [
        "# --------------------------------------------\n",
        "print('Program done by : Ajay Pathak\\n' +\n",
        "      'Enrollment No.: 190630107170\\n' +\n",
        "      '=================================\\n\\n\\n')\n",
        "\n",
        "\n",
        "y_test.head()"
      ],
      "id": "KAdJkajMPa1I",
      "execution_count": null,
      "outputs": [
        {
          "output_type": "stream",
          "name": "stdout",
          "text": [
            "Program done by : Ajay Pathak\n",
            "Enrollment No.: 190630107170\n",
            "=================================\n",
            "\n",
            "\n",
            "\n"
          ]
        },
        {
          "output_type": "execute_result",
          "data": {
            "text/plain": [
              "1064    4.332472e+05\n",
              "2852    1.317234e+06\n",
              "868     1.376638e+06\n",
              "524     1.381537e+06\n",
              "774     1.541186e+06\n",
              "Name: Price, dtype: float64"
            ]
          },
          "metadata": {},
          "execution_count": 28
        }
      ]
    },
    {
      "cell_type": "markdown",
      "metadata": {
        "id": "KbJSXwBfLPTa"
      },
      "source": [
        "## Model "
      ],
      "id": "KbJSXwBfLPTa"
    },
    {
      "cell_type": "markdown",
      "metadata": {
        "id": "qs5ff8gLLSoF"
      },
      "source": [
        " import the linear regression model."
      ],
      "id": "qs5ff8gLLSoF"
    },
    {
      "cell_type": "code",
      "metadata": {
        "id": "tiZe5AU6LJ7m"
      },
      "source": [
        "# # --------------------------------------------\n",
        "# print('Program done by : Ajay Pathak\\n' +\n",
        "#       'Enrollment No.: 190630107170\\n' +\n",
        "#       '=================================\\n\\n\\n')\n",
        "\n",
        "\n",
        "from sklearn.linear_model import LinearRegression"
      ],
      "id": "tiZe5AU6LJ7m",
      "execution_count": null,
      "outputs": []
    },
    {
      "cell_type": "code",
      "metadata": {
        "id": "CremWBZ3LiYl"
      },
      "source": [
        "# # --------------------------------------------\n",
        "# print('Program done by : Ajay Pathak\\n' +\n",
        "#       'Enrollment No.: 190630107170\\n' +\n",
        "#       '=================================\\n\\n\\n')\n",
        "\n",
        "\n",
        "LRModel = LinearRegression()"
      ],
      "id": "CremWBZ3LiYl",
      "execution_count": null,
      "outputs": []
    },
    {
      "cell_type": "markdown",
      "metadata": {
        "id": "6G8RPPxGLxyQ"
      },
      "source": [
        "Training LinearRegression Model"
      ],
      "id": "6G8RPPxGLxyQ"
    },
    {
      "cell_type": "code",
      "metadata": {
        "colab": {
          "base_uri": "https://localhost:8080/"
        },
        "id": "ExnJc5HfLxU6",
        "outputId": "6007dd2a-a4b7-438b-d44b-c6448060e8c4"
      },
      "source": [
        "# --------------------------------------------\n",
        "print('Program done by : Ajay Pathak\\n' +\n",
        "      'Enrollment No.: 190630107170\\n' +\n",
        "      '=================================\\n\\n\\n')\n",
        "\n",
        "\n",
        "LRModel.fit(x_train, y_train)"
      ],
      "id": "ExnJc5HfLxU6",
      "execution_count": null,
      "outputs": [
        {
          "output_type": "stream",
          "name": "stdout",
          "text": [
            "Program done by : Ajay Pathak\n",
            "Enrollment No.: 190630107170\n",
            "=================================\n",
            "\n",
            "\n",
            "\n"
          ]
        },
        {
          "output_type": "execute_result",
          "data": {
            "text/plain": [
              "LinearRegression(copy_X=True, fit_intercept=True, n_jobs=None, normalize=False)"
            ]
          },
          "metadata": {},
          "execution_count": 37
        }
      ]
    },
    {
      "cell_type": "markdown",
      "metadata": {
        "id": "bX4704wfMjMA"
      },
      "source": [
        "## Prediction"
      ],
      "id": "bX4704wfMjMA"
    },
    {
      "cell_type": "markdown",
      "metadata": {
        "id": "8vWvJvgVMe5X"
      },
      "source": [
        "our model is trained and now can predict the price for the test dataset."
      ],
      "id": "8vWvJvgVMe5X"
    },
    {
      "cell_type": "code",
      "metadata": {
        "id": "CgrgfJaBL1fN"
      },
      "source": [
        "# # --------------------------------------------\n",
        "# print('Program done by : Ajay Pathak\\n' +\n",
        "#       'Enrollment No.: 190630107170\\n' +\n",
        "#       '=================================\\n\\n\\n')\n",
        "\n",
        "\n",
        "predictions = LRModel.predict(x_test)"
      ],
      "id": "CgrgfJaBL1fN",
      "execution_count": null,
      "outputs": []
    },
    {
      "cell_type": "markdown",
      "metadata": {
        "id": "J676bVeKM837"
      },
      "source": [
        "## Checking Accuracy"
      ],
      "id": "J676bVeKM837"
    },
    {
      "cell_type": "code",
      "metadata": {
        "colab": {
          "base_uri": "https://localhost:8080/"
        },
        "id": "QaZrbDwTP-YG",
        "outputId": "89acc78e-bb30-4f77-fc34-96dba136a6e0"
      },
      "source": [
        "# --------------------------------------------\n",
        "print('Program done by : Ajay Pathak\\n' +\n",
        "      'Enrollment No.: 190630107170\\n' +\n",
        "      '=================================\\n\\n\\n')\n",
        "\n",
        "\n",
        "# Coefficients\n",
        "print('Coefficients: \\n', LRModel.coef_)\n",
        "# The mean squared error\n",
        "# print(\"Mean squared error: %.2f\" % np.mean(predictions - y_test) ** 2))\n",
        "# Explained variance score: 1 is perfect prediction\n",
        "print('Variance score: %.2f' % LRModel.score(x_test, y_test))"
      ],
      "id": "QaZrbDwTP-YG",
      "execution_count": null,
      "outputs": [
        {
          "output_type": "stream",
          "name": "stdout",
          "text": [
            "Program done by : Ajay Pathak\n",
            "Enrollment No.: 190630107170\n",
            "=================================\n",
            "\n",
            "\n",
            "\n",
            "Coefficients: \n",
            " [2.16345493e+01 1.65259532e+05 1.21055121e+05 1.03772749e+03\n",
            " 1.52286972e+01]\n",
            "Variance score: 0.92\n"
          ]
        }
      ]
    },
    {
      "cell_type": "markdown",
      "metadata": {
        "id": "dUYFbHj_QldN"
      },
      "source": [
        "We can say that accuracy of our model is 92% !!"
      ],
      "id": "dUYFbHj_QldN"
    },
    {
      "cell_type": "markdown",
      "metadata": {
        "id": "2Ue1D_oDzb3t"
      },
      "source": [
        "# 9] Practical name.\n",
        "---"
      ],
      "id": "2Ue1D_oDzb3t"
    },
    {
      "cell_type": "markdown",
      "metadata": {
        "id": "f9-AnpMJ5TNi"
      },
      "source": [
        "## Iris Dataset using Random Forest Classifier"
      ],
      "id": "f9-AnpMJ5TNi"
    },
    {
      "cell_type": "markdown",
      "metadata": {
        "id": "0HfBQbR81jKs"
      },
      "source": [
        "### Loading data"
      ],
      "id": "0HfBQbR81jKs"
    },
    {
      "cell_type": "markdown",
      "metadata": {
        "id": "5SYoLf1Az85F"
      },
      "source": [
        "Importing Iris dataset"
      ],
      "id": "5SYoLf1Az85F"
    },
    {
      "cell_type": "code",
      "metadata": {
        "id": "jKljQbABztDc"
      },
      "source": [
        "from sklearn import datasets\n",
        "\n",
        "# Loading iris plants dataset into iris variable\n",
        "iris = datasets.load_iris()"
      ],
      "id": "jKljQbABztDc",
      "execution_count": null,
      "outputs": []
    },
    {
      "cell_type": "markdown",
      "metadata": {
        "id": "V6bKyl9L1Uj1"
      },
      "source": [
        "Knowing the dataset"
      ],
      "id": "V6bKyl9L1Uj1"
    },
    {
      "cell_type": "code",
      "metadata": {
        "colab": {
          "base_uri": "https://localhost:8080/"
        },
        "id": "i7Yw9d931Ic1",
        "outputId": "b28906ac-3ca6-455a-85ef-a4e0d624fe0d"
      },
      "source": [
        "# We can print the features of dataset \n",
        "print(iris.feature_names)"
      ],
      "id": "i7Yw9d931Ic1",
      "execution_count": null,
      "outputs": [
        {
          "output_type": "stream",
          "name": "stdout",
          "text": [
            "['sepal length (cm)', 'sepal width (cm)', 'petal length (cm)', 'petal width (cm)']\n"
          ]
        }
      ]
    },
    {
      "cell_type": "markdown",
      "metadata": {
        "id": "rrrjBALy1olN"
      },
      "source": [
        "### Pre-processing"
      ],
      "id": "rrrjBALy1olN"
    },
    {
      "cell_type": "markdown",
      "metadata": {
        "id": "1ROT3yWT1tQM"
      },
      "source": [
        "Splitting data into train and test sub-parts , i.e., Training dataset and test dataset"
      ],
      "id": "1ROT3yWT1tQM"
    },
    {
      "cell_type": "code",
      "metadata": {
        "id": "v53uT8gw1rj8"
      },
      "source": [
        "X, y = datasets.load_iris(return_X_y=True)\n",
        "\n",
        "from sklearn.model_selection import train_test_split\n",
        "\n",
        "X_train, X_test, y_train, y_test = train_test_split(X, y, test_size=0.70)"
      ],
      "id": "v53uT8gw1rj8",
      "execution_count": null,
      "outputs": []
    },
    {
      "cell_type": "markdown",
      "metadata": {
        "id": "zSuOYsdL5OSW"
      },
      "source": [
        "### Model"
      ],
      "id": "zSuOYsdL5OSW"
    },
    {
      "cell_type": "markdown",
      "metadata": {
        "id": "6GQqN3IF4E2P"
      },
      "source": [
        "importing random forest classifier and pandas library\n"
      ],
      "id": "6GQqN3IF4E2P"
    },
    {
      "cell_type": "code",
      "metadata": {
        "id": "O-vP6SaM2pJD"
      },
      "source": [
        "from sklearn.ensemble import RandomForestClassifier\n",
        "\n",
        "import pandas as pd\n",
        "\n",
        "data = pd.DataFrame({'sepallength' : iris.data[:, 0], \n",
        "                     'sepalwidth' : iris.data[:, 1],\n",
        "                     'petallength' : iris.data[:, 2],\n",
        "                     'peralwidth' : iris.data[:, 3],\n",
        "                     'species' : iris.target})"
      ],
      "id": "O-vP6SaM2pJD",
      "execution_count": null,
      "outputs": []
    },
    {
      "cell_type": "markdown",
      "metadata": {
        "id": "i3px4FDA4BM8"
      },
      "source": [
        "Looking at data"
      ],
      "id": "i3px4FDA4BM8"
    },
    {
      "cell_type": "code",
      "metadata": {
        "colab": {
          "base_uri": "https://localhost:8080/",
          "height": 202
        },
        "id": "6HDBn3jB39od",
        "outputId": "dd20759e-4fa0-403f-bd20-2549284b933c"
      },
      "source": [
        "data.head()"
      ],
      "id": "6HDBn3jB39od",
      "execution_count": null,
      "outputs": [
        {
          "output_type": "execute_result",
          "data": {
            "text/html": [
              "<div>\n",
              "<style scoped>\n",
              "    .dataframe tbody tr th:only-of-type {\n",
              "        vertical-align: middle;\n",
              "    }\n",
              "\n",
              "    .dataframe tbody tr th {\n",
              "        vertical-align: top;\n",
              "    }\n",
              "\n",
              "    .dataframe thead th {\n",
              "        text-align: right;\n",
              "    }\n",
              "</style>\n",
              "<table border=\"1\" class=\"dataframe\">\n",
              "  <thead>\n",
              "    <tr style=\"text-align: right;\">\n",
              "      <th></th>\n",
              "      <th>sepallength</th>\n",
              "      <th>sepalwidth</th>\n",
              "      <th>petallength</th>\n",
              "      <th>peralwidth</th>\n",
              "      <th>species</th>\n",
              "    </tr>\n",
              "  </thead>\n",
              "  <tbody>\n",
              "    <tr>\n",
              "      <th>0</th>\n",
              "      <td>5.1</td>\n",
              "      <td>3.5</td>\n",
              "      <td>1.4</td>\n",
              "      <td>0.2</td>\n",
              "      <td>0</td>\n",
              "    </tr>\n",
              "    <tr>\n",
              "      <th>1</th>\n",
              "      <td>4.9</td>\n",
              "      <td>3.0</td>\n",
              "      <td>1.4</td>\n",
              "      <td>0.2</td>\n",
              "      <td>0</td>\n",
              "    </tr>\n",
              "    <tr>\n",
              "      <th>2</th>\n",
              "      <td>4.7</td>\n",
              "      <td>3.2</td>\n",
              "      <td>1.3</td>\n",
              "      <td>0.2</td>\n",
              "      <td>0</td>\n",
              "    </tr>\n",
              "    <tr>\n",
              "      <th>3</th>\n",
              "      <td>4.6</td>\n",
              "      <td>3.1</td>\n",
              "      <td>1.5</td>\n",
              "      <td>0.2</td>\n",
              "      <td>0</td>\n",
              "    </tr>\n",
              "    <tr>\n",
              "      <th>4</th>\n",
              "      <td>5.0</td>\n",
              "      <td>3.6</td>\n",
              "      <td>1.4</td>\n",
              "      <td>0.2</td>\n",
              "      <td>0</td>\n",
              "    </tr>\n",
              "  </tbody>\n",
              "</table>\n",
              "</div>"
            ],
            "text/plain": [
              "   sepallength  sepalwidth  petallength  peralwidth  species\n",
              "0          5.1         3.5          1.4         0.2        0\n",
              "1          4.9         3.0          1.4         0.2        0\n",
              "2          4.7         3.2          1.3         0.2        0\n",
              "3          4.6         3.1          1.5         0.2        0\n",
              "4          5.0         3.6          1.4         0.2        0"
            ]
          },
          "metadata": {},
          "execution_count": 10
        }
      ]
    },
    {
      "cell_type": "markdown",
      "metadata": {
        "id": "1kt1ATOV4KZk"
      },
      "source": [
        "Model definition"
      ],
      "id": "1kt1ATOV4KZk"
    },
    {
      "cell_type": "code",
      "metadata": {
        "id": "qrNj2dEg4HT8"
      },
      "source": [
        "clf = RandomForestClassifier(n_estimators=100)"
      ],
      "id": "qrNj2dEg4HT8",
      "execution_count": null,
      "outputs": []
    },
    {
      "cell_type": "markdown",
      "metadata": {
        "id": "8l9Cc9yg4d-M"
      },
      "source": [
        "Model Training"
      ],
      "id": "8l9Cc9yg4d-M"
    },
    {
      "cell_type": "code",
      "metadata": {
        "colab": {
          "base_uri": "https://localhost:8080/"
        },
        "id": "kXV-g4ig4ZkU",
        "outputId": "7a3f2c97-c63a-4d56-acb4-d32df32a7fa6"
      },
      "source": [
        "clf.fit(X_train, y_train)"
      ],
      "id": "kXV-g4ig4ZkU",
      "execution_count": null,
      "outputs": [
        {
          "output_type": "execute_result",
          "data": {
            "text/plain": [
              "RandomForestClassifier(bootstrap=True, ccp_alpha=0.0, class_weight=None,\n",
              "                       criterion='gini', max_depth=None, max_features='auto',\n",
              "                       max_leaf_nodes=None, max_samples=None,\n",
              "                       min_impurity_decrease=0.0, min_impurity_split=None,\n",
              "                       min_samples_leaf=1, min_samples_split=2,\n",
              "                       min_weight_fraction_leaf=0.0, n_estimators=100,\n",
              "                       n_jobs=None, oob_score=False, random_state=None,\n",
              "                       verbose=0, warm_start=False)"
            ]
          },
          "metadata": {},
          "execution_count": 13
        }
      ]
    },
    {
      "cell_type": "markdown",
      "metadata": {
        "id": "B_guamsJ4h9E"
      },
      "source": [
        "Predicting the test dataset\n"
      ],
      "id": "B_guamsJ4h9E"
    },
    {
      "cell_type": "code",
      "metadata": {
        "id": "lNKFt8u14gyL"
      },
      "source": [
        "y_pred = clf.predict(X_test)"
      ],
      "id": "lNKFt8u14gyL",
      "execution_count": null,
      "outputs": []
    },
    {
      "cell_type": "markdown",
      "metadata": {
        "id": "vDECkK2S4oP8"
      },
      "source": [
        "### Accuracy Check"
      ],
      "id": "vDECkK2S4oP8"
    },
    {
      "cell_type": "code",
      "metadata": {
        "colab": {
          "base_uri": "https://localhost:8080/"
        },
        "id": "RhxDotAl4nPs",
        "outputId": "32426c7a-ff62-4e66-ec2f-ede56e362b56"
      },
      "source": [
        "from sklearn import metrics\n",
        "acc = metrics.accuracy_score(y_test, y_pred)\n",
        "\n",
        "print('Accuracy of our model :', acc*100, '%')"
      ],
      "id": "RhxDotAl4nPs",
      "execution_count": null,
      "outputs": [
        {
          "output_type": "stream",
          "name": "stdout",
          "text": [
            "Accuracy of our model : 97.14285714285714 %\n"
          ]
        }
      ]
    },
    {
      "cell_type": "markdown",
      "metadata": {
        "id": "PRwlPFda5hd8"
      },
      "source": [
        "## Diabetes classification using Random Forest Classifier"
      ],
      "id": "PRwlPFda5hd8"
    },
    {
      "cell_type": "markdown",
      "metadata": {
        "id": "DGnYDH046Zxw"
      },
      "source": [
        "### Loading Data"
      ],
      "id": "DGnYDH046Zxw"
    },
    {
      "cell_type": "markdown",
      "metadata": {
        "id": "FgPxEYC_6uQr"
      },
      "source": [
        "From sklerans wide range of datasets we can import Diabetes dataset"
      ],
      "id": "FgPxEYC_6uQr"
    },
    {
      "cell_type": "code",
      "metadata": {
        "id": "v4-ZddEe6N72"
      },
      "source": [
        "from sklearn import datasets\n",
        "diabetes_data = datasets.load_diabetes()"
      ],
      "id": "v4-ZddEe6N72",
      "execution_count": null,
      "outputs": []
    },
    {
      "cell_type": "markdown",
      "metadata": {
        "id": "vt3g2i6X60AK"
      },
      "source": [
        "Looking at features"
      ],
      "id": "vt3g2i6X60AK"
    },
    {
      "cell_type": "code",
      "metadata": {
        "colab": {
          "base_uri": "https://localhost:8080/"
        },
        "id": "5iit7Y4x6m4E",
        "outputId": "a6cf2595-8f9d-452f-f9a5-3c113fe38d90"
      },
      "source": [
        "print(diabetes_data.feature_names)"
      ],
      "id": "5iit7Y4x6m4E",
      "execution_count": null,
      "outputs": [
        {
          "output_type": "stream",
          "name": "stdout",
          "text": [
            "['age', 'sex', 'bmi', 'bp', 's1', 's2', 's3', 's4', 's5', 's6']\n"
          ]
        }
      ]
    },
    {
      "cell_type": "markdown",
      "metadata": {
        "id": "U9J1Jy1F699e"
      },
      "source": [
        "### Pre-processing"
      ],
      "id": "U9J1Jy1F699e"
    },
    {
      "cell_type": "markdown",
      "metadata": {
        "id": "9AAjxOQj7Exf"
      },
      "source": [
        "Splitting data"
      ],
      "id": "9AAjxOQj7Exf"
    },
    {
      "cell_type": "code",
      "metadata": {
        "id": "Qz4S8vtq66VG"
      },
      "source": [
        "from sklearn.model_selection import train_test_split\n",
        "\n",
        "X, y = datasets.load_diabetes(return_X_y=True)\n",
        "\n",
        "X_train, X_test, y_train, y_test = train_test_split(X, y, test_size=0.7)"
      ],
      "id": "Qz4S8vtq66VG",
      "execution_count": null,
      "outputs": []
    },
    {
      "cell_type": "markdown",
      "metadata": {
        "id": "ato3sY_58FBL"
      },
      "source": [
        "### Model"
      ],
      "id": "ato3sY_58FBL"
    },
    {
      "cell_type": "markdown",
      "metadata": {
        "id": "bJimfeKP8HTL"
      },
      "source": [
        "importing Random Forest Classifier from sklearn\n",
        "\n",
        "importing pandas library"
      ],
      "id": "bJimfeKP8HTL"
    },
    {
      "cell_type": "code",
      "metadata": {
        "id": "wUp55Nli8GsK"
      },
      "source": [
        "from sklearn.ensemble import RandomForestClassifier\n",
        "import pandas as pd\n",
        "\n",
        "data = pd.DataFrame({'age' : diabetes_data.data[:, 0], \n",
        "                     'sex' : diabetes_data.data[:, 1], \n",
        "                     'bmi' : diabetes_data.data[:, 2], \n",
        "                     'bp' : diabetes_data.data[:, 3], \n",
        "                     's1' : diabetes_data.data[:, 4],\n",
        "                     's2' : diabetes_data.data[:, 5],\n",
        "                     's3' : diabetes_data.data[:, 6], \n",
        "                     's4' : diabetes_data.data[:, 7], \n",
        "                     's5' : diabetes_data.data[:, 8], \n",
        "                     's6' : diabetes_data.data[:, 9]})"
      ],
      "id": "wUp55Nli8GsK",
      "execution_count": null,
      "outputs": []
    },
    {
      "cell_type": "code",
      "metadata": {
        "colab": {
          "base_uri": "https://localhost:8080/",
          "height": 202
        },
        "id": "uz4K_QcU9yCd",
        "outputId": "670a7cb0-7914-49ce-97ea-79d572bf6390"
      },
      "source": [
        "data.head()"
      ],
      "id": "uz4K_QcU9yCd",
      "execution_count": null,
      "outputs": [
        {
          "output_type": "execute_result",
          "data": {
            "text/html": [
              "<div>\n",
              "<style scoped>\n",
              "    .dataframe tbody tr th:only-of-type {\n",
              "        vertical-align: middle;\n",
              "    }\n",
              "\n",
              "    .dataframe tbody tr th {\n",
              "        vertical-align: top;\n",
              "    }\n",
              "\n",
              "    .dataframe thead th {\n",
              "        text-align: right;\n",
              "    }\n",
              "</style>\n",
              "<table border=\"1\" class=\"dataframe\">\n",
              "  <thead>\n",
              "    <tr style=\"text-align: right;\">\n",
              "      <th></th>\n",
              "      <th>age</th>\n",
              "      <th>sex</th>\n",
              "      <th>bmi</th>\n",
              "      <th>bp</th>\n",
              "      <th>s1</th>\n",
              "      <th>s2</th>\n",
              "      <th>s3</th>\n",
              "      <th>s4</th>\n",
              "      <th>s5</th>\n",
              "      <th>s6</th>\n",
              "    </tr>\n",
              "  </thead>\n",
              "  <tbody>\n",
              "    <tr>\n",
              "      <th>0</th>\n",
              "      <td>0.038076</td>\n",
              "      <td>0.050680</td>\n",
              "      <td>0.061696</td>\n",
              "      <td>0.021872</td>\n",
              "      <td>-0.044223</td>\n",
              "      <td>-0.034821</td>\n",
              "      <td>-0.043401</td>\n",
              "      <td>-0.002592</td>\n",
              "      <td>0.019908</td>\n",
              "      <td>-0.017646</td>\n",
              "    </tr>\n",
              "    <tr>\n",
              "      <th>1</th>\n",
              "      <td>-0.001882</td>\n",
              "      <td>-0.044642</td>\n",
              "      <td>-0.051474</td>\n",
              "      <td>-0.026328</td>\n",
              "      <td>-0.008449</td>\n",
              "      <td>-0.019163</td>\n",
              "      <td>0.074412</td>\n",
              "      <td>-0.039493</td>\n",
              "      <td>-0.068330</td>\n",
              "      <td>-0.092204</td>\n",
              "    </tr>\n",
              "    <tr>\n",
              "      <th>2</th>\n",
              "      <td>0.085299</td>\n",
              "      <td>0.050680</td>\n",
              "      <td>0.044451</td>\n",
              "      <td>-0.005671</td>\n",
              "      <td>-0.045599</td>\n",
              "      <td>-0.034194</td>\n",
              "      <td>-0.032356</td>\n",
              "      <td>-0.002592</td>\n",
              "      <td>0.002864</td>\n",
              "      <td>-0.025930</td>\n",
              "    </tr>\n",
              "    <tr>\n",
              "      <th>3</th>\n",
              "      <td>-0.089063</td>\n",
              "      <td>-0.044642</td>\n",
              "      <td>-0.011595</td>\n",
              "      <td>-0.036656</td>\n",
              "      <td>0.012191</td>\n",
              "      <td>0.024991</td>\n",
              "      <td>-0.036038</td>\n",
              "      <td>0.034309</td>\n",
              "      <td>0.022692</td>\n",
              "      <td>-0.009362</td>\n",
              "    </tr>\n",
              "    <tr>\n",
              "      <th>4</th>\n",
              "      <td>0.005383</td>\n",
              "      <td>-0.044642</td>\n",
              "      <td>-0.036385</td>\n",
              "      <td>0.021872</td>\n",
              "      <td>0.003935</td>\n",
              "      <td>0.015596</td>\n",
              "      <td>0.008142</td>\n",
              "      <td>-0.002592</td>\n",
              "      <td>-0.031991</td>\n",
              "      <td>-0.046641</td>\n",
              "    </tr>\n",
              "  </tbody>\n",
              "</table>\n",
              "</div>"
            ],
            "text/plain": [
              "        age       sex       bmi  ...        s4        s5        s6\n",
              "0  0.038076  0.050680  0.061696  ... -0.002592  0.019908 -0.017646\n",
              "1 -0.001882 -0.044642 -0.051474  ... -0.039493 -0.068330 -0.092204\n",
              "2  0.085299  0.050680  0.044451  ... -0.002592  0.002864 -0.025930\n",
              "3 -0.089063 -0.044642 -0.011595  ...  0.034309  0.022692 -0.009362\n",
              "4  0.005383 -0.044642 -0.036385  ... -0.002592 -0.031991 -0.046641\n",
              "\n",
              "[5 rows x 10 columns]"
            ]
          },
          "metadata": {},
          "execution_count": 23
        }
      ]
    },
    {
      "cell_type": "markdown",
      "metadata": {
        "id": "ycTaju56-NAT"
      },
      "source": [
        "Model definition"
      ],
      "id": "ycTaju56-NAT"
    },
    {
      "cell_type": "code",
      "metadata": {
        "id": "M2fBZCYy997i"
      },
      "source": [
        "diabetes_clf = RandomForestClassifier(n_estimators=100)"
      ],
      "id": "M2fBZCYy997i",
      "execution_count": null,
      "outputs": []
    },
    {
      "cell_type": "markdown",
      "metadata": {
        "id": "QmqK0Mpx-XyC"
      },
      "source": [
        "Model Training"
      ],
      "id": "QmqK0Mpx-XyC"
    },
    {
      "cell_type": "code",
      "metadata": {
        "colab": {
          "base_uri": "https://localhost:8080/"
        },
        "id": "5mbq7QI8-Vh6",
        "outputId": "026c4d5e-290c-4390-e5f0-054eb49c1497"
      },
      "source": [
        "diabetes_clf.fit(X_train, y_train)"
      ],
      "id": "5mbq7QI8-Vh6",
      "execution_count": null,
      "outputs": [
        {
          "output_type": "execute_result",
          "data": {
            "text/plain": [
              "RandomForestClassifier(bootstrap=True, ccp_alpha=0.0, class_weight=None,\n",
              "                       criterion='gini', max_depth=None, max_features='auto',\n",
              "                       max_leaf_nodes=None, max_samples=None,\n",
              "                       min_impurity_decrease=0.0, min_impurity_split=None,\n",
              "                       min_samples_leaf=1, min_samples_split=2,\n",
              "                       min_weight_fraction_leaf=0.0, n_estimators=100,\n",
              "                       n_jobs=None, oob_score=False, random_state=None,\n",
              "                       verbose=0, warm_start=False)"
            ]
          },
          "metadata": {},
          "execution_count": 27
        }
      ]
    },
    {
      "cell_type": "markdown",
      "metadata": {
        "id": "xICiJ9up-gJS"
      },
      "source": [
        "Predictions on test dataset"
      ],
      "id": "xICiJ9up-gJS"
    },
    {
      "cell_type": "code",
      "metadata": {
        "id": "ieewDi11-fKa"
      },
      "source": [
        "diabetes_y_preds = diabetes_clf.predict(X_test)"
      ],
      "id": "ieewDi11-fKa",
      "execution_count": null,
      "outputs": []
    },
    {
      "cell_type": "markdown",
      "metadata": {
        "id": "4tjpdggq-3zi"
      },
      "source": [
        "## Accuracy Check\n"
      ],
      "id": "4tjpdggq-3zi"
    },
    {
      "cell_type": "code",
      "metadata": {
        "colab": {
          "base_uri": "https://localhost:8080/"
        },
        "id": "-pnKwp7T-qSq",
        "outputId": "9ee7ac50-3b1b-46dc-b5fc-e0d4f6b71a3b"
      },
      "source": [
        "from sklearn import metrics\n",
        "dia_acc = metrics.accuracy_score(y_test, diabetes_y_preds)\n",
        "print('Accuracy of our modle : ', dia_acc*100, '%')"
      ],
      "id": "-pnKwp7T-qSq",
      "execution_count": null,
      "outputs": [
        {
          "output_type": "stream",
          "name": "stdout",
          "text": [
            "Accuracy of our modle :  0.6451612903225806 %\n"
          ]
        }
      ]
    }
  ]
}