{
  "nbformat": 4,
  "nbformat_minor": 5,
  "metadata": {
    "colab": {
      "name": "LabManual.ipynb",
      "provenance": [],
      "collapsed_sections": [
        "e901a282",
        "Gi4fLTOyTPSN",
        "7vxWBY1YUNle",
        "FmIXofSRKIjf",
        "T2G10m35RdQI"
      ],
      "toc_visible": true
    },
    "kernelspec": {
      "display_name": "Python 3",
      "language": "python",
      "name": "python3"
    },
    "language_info": {
      "codemirror_mode": {
        "name": "ipython",
        "version": 3
      },
      "file_extension": ".py",
      "mimetype": "text/x-python",
      "name": "python",
      "nbconvert_exporter": "python",
      "pygments_lexer": "ipython3",
      "version": "3.8.8"
    }
  },
  "cells": [
    {
      "cell_type": "markdown",
      "metadata": {
        "id": "e901a282"
      },
      "source": [
        "# 1] Intro to Data Types, Operations and conditional statements.\n",
        "---"
      ],
      "id": "e901a282"
    },
    {
      "cell_type": "markdown",
      "metadata": {
        "id": "641de9d5"
      },
      "source": [
        "> ## 1.1] Write aprogram to print “Hello World”."
      ],
      "id": "641de9d5"
    },
    {
      "cell_type": "code",
      "metadata": {
        "colab": {
          "base_uri": "https://localhost:8080/"
        },
        "id": "fc75f6d8",
        "outputId": "539e7b91-225c-452e-c079-8a88d4695910"
      },
      "source": [
        "print(\"Hello World\")"
      ],
      "id": "fc75f6d8",
      "execution_count": null,
      "outputs": [
        {
          "output_type": "stream",
          "text": [
            "Hello World\n"
          ],
          "name": "stdout"
        }
      ]
    },
    {
      "cell_type": "markdown",
      "metadata": {
        "id": "04b58e0f"
      },
      "source": [
        "> ## 1.2] Write a program to find maximum number out of 3 numbers.\n"
      ],
      "id": "04b58e0f"
    },
    {
      "cell_type": "code",
      "metadata": {
        "colab": {
          "base_uri": "https://localhost:8080/"
        },
        "id": "67ec5304",
        "outputId": "4fbbd810-0492-494a-acf6-675ad880e628"
      },
      "source": [
        "numbers=[11, 34, 5]\n",
        "\n",
        "'''For user input'''\n",
        "for x in range(len(numbers)):\n",
        "    inp = float(input(f'Enter #{x+1} '))\n",
        "    numbers[x] = inp\n",
        "\n",
        "max=numbers[0]\n",
        "\n",
        "for x in numbers:\n",
        "    if max<x:\n",
        "        max=x\n",
        "\n",
        "print(\"Max number is :\" ,max)"
      ],
      "id": "67ec5304",
      "execution_count": null,
      "outputs": [
        {
          "output_type": "stream",
          "text": [
            "Enter #1 10\n",
            "Enter #2 5\n",
            "Enter #3 86\n",
            "Max number is : 86.0\n"
          ],
          "name": "stdout"
        }
      ]
    },
    {
      "cell_type": "markdown",
      "metadata": {
        "id": "Gi4fLTOyTPSN"
      },
      "source": [
        "> ## 1.3] Write a program to swap the values of two variables without using temporary variable."
      ],
      "id": "Gi4fLTOyTPSN"
    },
    {
      "cell_type": "code",
      "metadata": {
        "colab": {
          "base_uri": "https://localhost:8080/"
        },
        "id": "Y5bF4wYfTOO2",
        "outputId": "d40148da-f2ad-47ae-ccfe-09b54f15e5bf"
      },
      "source": [
        "a, b = 1, 2\n",
        "print('Before swapping \\na :', a, '\\nb :', b)\n",
        "a, b = b, a\n",
        "print('\\nAfter swapping \\na :', a, '\\nb :', b)"
      ],
      "id": "Y5bF4wYfTOO2",
      "execution_count": null,
      "outputs": [
        {
          "output_type": "stream",
          "text": [
            "Before swapping \n",
            "a : 1 \n",
            "b : 2\n",
            "\n",
            "After swapping \n",
            "a : 2 \n",
            "b : 1\n"
          ],
          "name": "stdout"
        }
      ]
    },
    {
      "cell_type": "markdown",
      "metadata": {
        "id": "V2vGfao0U27G"
      },
      "source": [
        "> ## 1.4] Write a program to implement calculator."
      ],
      "id": "V2vGfao0U27G"
    },
    {
      "cell_type": "code",
      "metadata": {
        "id": "52XUuYd3U-1G"
      },
      "source": [
        "from IPython.display import clear_output \n",
        "\n",
        "\n",
        "\n",
        "while True:\n",
        "    print('1) Add\\n2) Subtract\\n3) Multiply\\n4) Divide\\n5) Exit')\n",
        "    choice = int(input('Enter your choice '))\n",
        "    clear_output()\n",
        "    \n",
        "    if choice in [1, 2, 3, 4]:\n",
        "        if choice is 1:\n",
        "            print('ADDITION\\n')\n",
        "            a = int(input('Enter number '))\n",
        "            b = int(input('Enter number '))\n",
        "            print(a, '+', b, '=', a+b)\n",
        "        \n",
        "        if choice is 2:\n",
        "            print('SUBTRACTION\\n')\n",
        "            a = int(input('Enter number '))\n",
        "            b = int(input('Enter number '))\n",
        "            print(a, '-', b, '=', a-b)\n",
        "\n",
        "        if choice is 3:\n",
        "            print('MULTIPLICATION\\n')\n",
        "            a = int(input('Enter number '))\n",
        "            b = int(input('Enter number '))\n",
        "            print(a, '*', b, '=', a*b)\n",
        "        \n",
        "        if choice is 4:\n",
        "            print('DIVISION\\n')\n",
        "            a = int(input('Enter number '))\n",
        "            b = int(input('Enter number '))\n",
        "            print(a, '/', b, '=', a/b)\n",
        "\n",
        "    elif choice is 5:\n",
        "        break\n",
        "    else:\n",
        "        clear_output()\n",
        "        print('Invalid Input\\n')"
      ],
      "id": "52XUuYd3U-1G",
      "execution_count": null,
      "outputs": []
    },
    {
      "cell_type": "markdown",
      "metadata": {
        "id": "0e25ad7a"
      },
      "source": [
        "\n",
        "> ## 1.5] Write a Python program to calculate the sum of the digits in an integer."
      ],
      "id": "0e25ad7a"
    },
    {
      "cell_type": "code",
      "metadata": {
        "colab": {
          "base_uri": "https://localhost:8080/"
        },
        "id": "4255e276",
        "outputId": "b3b34e4a-4266-43e6-f352-bb324357a9f9"
      },
      "source": [
        "num = int(input(\"Your number (must be 4 digit) : \"))\n",
        "x = num//1000\n",
        "x1 = (num - x*1000)//100\n",
        "x2 = (num - x*1000 - x1*100)//10\n",
        "x3 = (num - x*1000 - x1*100 - x2*10)\n",
        "\n",
        "print(f'sum of number\\'s digits : {x+x1+x2+x3}')"
      ],
      "id": "4255e276",
      "execution_count": null,
      "outputs": [
        {
          "output_type": "stream",
          "text": [
            "Your number (must be 4 digit) : 5588\n",
            "sum of number's digits : 26\n"
          ],
          "name": "stdout"
        }
      ]
    },
    {
      "cell_type": "markdown",
      "metadata": {
        "id": "EOWKS-VbSXqP"
      },
      "source": [
        "# 3] Study of List and Tuple\n",
        "---"
      ],
      "id": "EOWKS-VbSXqP"
    },
    {
      "cell_type": "markdown",
      "metadata": {
        "id": "M1uVnqs0T3I_"
      },
      "source": [
        "> ## 3.1] Write a program to remove duplicates from list."
      ],
      "id": "M1uVnqs0T3I_"
    },
    {
      "cell_type": "code",
      "metadata": {
        "colab": {
          "base_uri": "https://localhost:8080/"
        },
        "id": "SMY9f_M1VR0K",
        "outputId": "f412e8cf-f893-4024-da94-865271b76df9"
      },
      "source": [
        "myList = ['One', 'two', 'two', 'three', 'three', 'three', 'four']\n",
        "unique = []\n",
        "\n",
        "print('original list :', myList)\n",
        "\n",
        "for el in myList:\n",
        "    if el not in unique:\n",
        "        unique.append(el)\n",
        "\n",
        "print('without duplicates :', unique)"
      ],
      "id": "SMY9f_M1VR0K",
      "execution_count": 130,
      "outputs": [
        {
          "output_type": "stream",
          "text": [
            "original list : ['One', 'two', 'two', 'three', 'three', 'three', 'four']\n",
            "without duplicates : ['One', 'two', 'three', 'four']\n"
          ],
          "name": "stdout"
        }
      ]
    },
    {
      "cell_type": "markdown",
      "metadata": {
        "id": "xJGj_yaQUF0m"
      },
      "source": [
        "> ## 3.2] Write a program to find frequency of elements of list."
      ],
      "id": "xJGj_yaQUF0m"
    },
    {
      "cell_type": "code",
      "metadata": {
        "colab": {
          "base_uri": "https://localhost:8080/"
        },
        "id": "Vukn4LokVSQH",
        "outputId": "6495813d-9abd-46e9-bde8-57e5d9e5a491"
      },
      "source": [
        "my_list = [7, 2, 6, 5, 8, 7, 8, 3, 2, 3]\n",
        "unique = []\n",
        "for el in my_list:\n",
        "    if el not in unique:\n",
        "        unique.append(el)\n",
        "\n",
        "for el in unique:\n",
        "    print('Frequency of ', el, 'in my_list :', my_list.count(el))"
      ],
      "id": "Vukn4LokVSQH",
      "execution_count": 131,
      "outputs": [
        {
          "output_type": "stream",
          "text": [
            "Frequency of  7 in my_list : 2\n",
            "Frequency of  2 in my_list : 2\n",
            "Frequency of  6 in my_list : 1\n",
            "Frequency of  5 in my_list : 1\n",
            "Frequency of  8 in my_list : 2\n",
            "Frequency of  3 in my_list : 2\n"
          ],
          "name": "stdout"
        }
      ]
    },
    {
      "cell_type": "markdown",
      "metadata": {
        "id": "rwiZeFm-UJz9"
      },
      "source": [
        "> ## 3.3] Write a program to sort given list."
      ],
      "id": "rwiZeFm-UJz9"
    },
    {
      "cell_type": "code",
      "metadata": {
        "id": "X1X4_rGfVTDv",
        "colab": {
          "base_uri": "https://localhost:8080/"
        },
        "outputId": "3706eaa3-ba8a-4dcb-cfb7-1c6df27e9a4a"
      },
      "source": [
        "print('Original :', my_list)\n",
        "my_list.sort()\n",
        "print('Ascending :', my_list)\n",
        "print('Descending :', my_list[::-1])"
      ],
      "id": "X1X4_rGfVTDv",
      "execution_count": 132,
      "outputs": [
        {
          "output_type": "stream",
          "text": [
            "Original : [7, 2, 6, 5, 8, 7, 8, 3, 2, 3]\n",
            "Ascending : [2, 2, 3, 3, 5, 6, 7, 7, 8, 8]\n",
            "Descending : [8, 8, 7, 7, 6, 5, 3, 3, 2, 2]\n"
          ],
          "name": "stdout"
        }
      ]
    },
    {
      "cell_type": "markdown",
      "metadata": {
        "id": "iLTcgIGLUK1W"
      },
      "source": [
        "> ## 3.4] Write a program to find minimum and maximumvalue in list of tuples."
      ],
      "id": "iLTcgIGLUK1W"
    },
    {
      "cell_type": "code",
      "metadata": {
        "colab": {
          "base_uri": "https://localhost:8080/"
        },
        "id": "UfQ-HKMLVTfP",
        "outputId": "d49a6802-c543-45c0-fb75-11b80f47969f"
      },
      "source": [
        "my_tuple_list = [(22, 1), (16, 3), (27, 11), (29, 9)]\n",
        "print('Original list :', my_tuple_list)\n",
        "\n",
        "zeroth = [tup[0] for tup in my_tuple_list]\n",
        "first = [tup[1] for tup in my_tuple_list]\n",
        "\n",
        "res1 = min(zeroth), max(zeroth)\n",
        "res2 = min(first), max(first)\n",
        "print('\\nmin at 0th index of tuples :', res1[0], '\\nmax at 0th index of tuples :', res1[1])\n",
        "print('\\nmin at 1st index of tuples :', res2[0], '\\nmax at 1st index of tuples :', res2[1])"
      ],
      "id": "UfQ-HKMLVTfP",
      "execution_count": 152,
      "outputs": [
        {
          "output_type": "stream",
          "text": [
            "Original list : [(22, 1), (16, 3), (27, 11), (29, 9)]\n",
            "\n",
            "min at 0th index of tuples : 16 \n",
            "max at 0th index of tuples : 29\n",
            "\n",
            "min at 1st index of tuples : 1 \n",
            "max at 1st index of tuples : 11\n"
          ],
          "name": "stdout"
        }
      ]
    },
    {
      "cell_type": "markdown",
      "metadata": {
        "id": "7vxWBY1YUNle"
      },
      "source": [
        "> ## 3.5] Write a program to remove an element from tuple. "
      ],
      "id": "7vxWBY1YUNle"
    },
    {
      "cell_type": "code",
      "metadata": {
        "colab": {
          "base_uri": "https://localhost:8080/"
        },
        "id": "8IBRVvcaVUD2",
        "outputId": "801a73b4-d732-4bab-bedb-05cf8e446fe7"
      },
      "source": [
        "myTuple = ('one', 'two', 'three', 'four', 'four', 'five')\n",
        "print(myTuple)"
      ],
      "id": "8IBRVvcaVUD2",
      "execution_count": 134,
      "outputs": [
        {
          "output_type": "stream",
          "text": [
            "('one', 'two', 'three', 'four', 'four', 'five')\n"
          ],
          "name": "stdout"
        }
      ]
    },
    {
      "cell_type": "code",
      "metadata": {
        "colab": {
          "base_uri": "https://localhost:8080/"
        },
        "id": "5hS1v6zdWgqu",
        "outputId": "ffc72f46-a687-4829-8223-0d76762c4ae6"
      },
      "source": [
        "# Removing element using slicing\n",
        "myTuple = myTuple[:3] + myTuple[4:]\n",
        "print(myTuple)"
      ],
      "id": "5hS1v6zdWgqu",
      "execution_count": 135,
      "outputs": [
        {
          "output_type": "stream",
          "text": [
            "('one', 'two', 'three', 'four', 'five')\n"
          ],
          "name": "stdout"
        }
      ]
    },
    {
      "cell_type": "code",
      "metadata": {
        "colab": {
          "base_uri": "https://localhost:8080/"
        },
        "id": "8yw3wi7zXDqX",
        "outputId": "41d10ec0-24cc-4a60-a560-ab8d130d6bc3"
      },
      "source": [
        "# Removing using typecast\n",
        "myList = list(myTuple)\n",
        "myList.remove('four')\n",
        "myTuple = myList\n",
        "print(myTuple)"
      ],
      "id": "8yw3wi7zXDqX",
      "execution_count": 136,
      "outputs": [
        {
          "output_type": "stream",
          "text": [
            "['one', 'two', 'three', 'five']\n"
          ],
          "name": "stdout"
        }
      ]
    },
    {
      "cell_type": "markdown",
      "metadata": {
        "id": "FmIXofSRKIjf"
      },
      "source": [
        "# Lists\n",
        "---"
      ],
      "id": "FmIXofSRKIjf"
    },
    {
      "cell_type": "code",
      "metadata": {
        "colab": {
          "base_uri": "https://localhost:8080/"
        },
        "id": "pMj7Uaj6KMhw",
        "outputId": "628705b9-507e-48fb-889f-4c8397a12507"
      },
      "source": [
        "name = ['Ajay', 'Pathak']\n",
        "print(name)"
      ],
      "id": "pMj7Uaj6KMhw",
      "execution_count": null,
      "outputs": [
        {
          "output_type": "stream",
          "text": [
            "['Ajay', 'Pathak']\n"
          ],
          "name": "stdout"
        }
      ]
    },
    {
      "cell_type": "code",
      "metadata": {
        "colab": {
          "base_uri": "https://localhost:8080/"
        },
        "id": "XpG55FrZKc9C",
        "outputId": "6f1daf1f-8df1-4926-9e60-5c639995f2f3"
      },
      "source": [
        "name.insert(1, 'K.')\n",
        "print(name)"
      ],
      "id": "XpG55FrZKc9C",
      "execution_count": null,
      "outputs": [
        {
          "output_type": "stream",
          "text": [
            "['Ajay', 'K.', 'Pathak']\n"
          ],
          "name": "stdout"
        }
      ]
    },
    {
      "cell_type": "code",
      "metadata": {
        "colab": {
          "base_uri": "https://localhost:8080/"
        },
        "id": "TEExEd1eLSpA",
        "outputId": "67a85a77-6dd7-48a5-aa36-9060485a63b8"
      },
      "source": [
        "print('ajat :', name.count('Ajat'))\n",
        "print('ajay :', name.count('Ajay'))"
      ],
      "id": "TEExEd1eLSpA",
      "execution_count": null,
      "outputs": [
        {
          "output_type": "stream",
          "text": [
            "ajat : 0\n",
            "ajay : 1\n"
          ],
          "name": "stdout"
        }
      ]
    },
    {
      "cell_type": "code",
      "metadata": {
        "colab": {
          "base_uri": "https://localhost:8080/"
        },
        "id": "8MsKzvNJL_Gm",
        "outputId": "f51d1810-7c7d-468d-b7e9-501a4f83935b"
      },
      "source": [
        "name2 = ['Hardik']\n",
        "print(name2)"
      ],
      "id": "8MsKzvNJL_Gm",
      "execution_count": null,
      "outputs": [
        {
          "output_type": "stream",
          "text": [
            "['Hardik']\n"
          ],
          "name": "stdout"
        }
      ]
    },
    {
      "cell_type": "code",
      "metadata": {
        "colab": {
          "base_uri": "https://localhost:8080/"
        },
        "id": "mTahCtGOMIuI",
        "outputId": "a56896d5-74de-4c5a-90cc-b563b97ad5a8"
      },
      "source": [
        "name2.append('K.')\n",
        "name2.append('Pathak')\n",
        "print(name2)"
      ],
      "id": "mTahCtGOMIuI",
      "execution_count": null,
      "outputs": [
        {
          "output_type": "stream",
          "text": [
            "['Hardik', 'K.', 'Pathak']\n"
          ],
          "name": "stdout"
        }
      ]
    },
    {
      "cell_type": "code",
      "metadata": {
        "colab": {
          "base_uri": "https://localhost:8080/"
        },
        "id": "0ec1HU8tMbUf",
        "outputId": "dca959bc-ca06-4a5c-8fef-73e43dc8b9a9"
      },
      "source": [
        "name.extend(name2)\n",
        "names = name\n",
        "print(names)"
      ],
      "id": "0ec1HU8tMbUf",
      "execution_count": null,
      "outputs": [
        {
          "output_type": "stream",
          "text": [
            "['Ajay', 'K.', 'Pathak', 'Hardik', 'K.', 'Pathak']\n"
          ],
          "name": "stdout"
        }
      ]
    },
    {
      "cell_type": "code",
      "metadata": {
        "colab": {
          "base_uri": "https://localhost:8080/"
        },
        "id": "mpTZFXgXMgi-",
        "outputId": "da250b0e-23c2-4c70-b542-63cc2c5d46de"
      },
      "source": [
        "print('Reversed using slicing :', names[::-1])"
      ],
      "id": "mpTZFXgXMgi-",
      "execution_count": null,
      "outputs": [
        {
          "output_type": "stream",
          "text": [
            "Reversed using slicing : ['Pathak', 'K.', 'Hardik', 'Pathak', 'K.', 'Ajay']\n"
          ],
          "name": "stdout"
        }
      ]
    },
    {
      "cell_type": "code",
      "metadata": {
        "colab": {
          "base_uri": "https://localhost:8080/"
        },
        "id": "5H9jlJ2jNHIQ",
        "outputId": "17d92b57-7c13-47a5-e98a-216a1a5dfec2"
      },
      "source": [
        "print(names[::2])"
      ],
      "id": "5H9jlJ2jNHIQ",
      "execution_count": null,
      "outputs": [
        {
          "output_type": "stream",
          "text": [
            "['Ajay', 'Pathak', 'K.']\n"
          ],
          "name": "stdout"
        }
      ]
    },
    {
      "cell_type": "code",
      "metadata": {
        "colab": {
          "base_uri": "https://localhost:8080/"
        },
        "id": "UDSD9tRlNUuH",
        "outputId": "7b1b3907-1dd6-4b67-ceb1-d3705aa88fc9"
      },
      "source": [
        "other_name = []\n",
        "other_name.append(names.pop())\n",
        "other_name.append(names.pop())\n",
        "other_name.append(names.pop())\n",
        "print(names, other_name)"
      ],
      "id": "UDSD9tRlNUuH",
      "execution_count": null,
      "outputs": [
        {
          "output_type": "stream",
          "text": [
            "['Ajay', 'K.', 'Pathak'] ['Pathak', 'K.', 'Hardik']\n"
          ],
          "name": "stdout"
        }
      ]
    },
    {
      "cell_type": "code",
      "metadata": {
        "id": "gZTG3OBdOv0g"
      },
      "source": [
        ""
      ],
      "id": "gZTG3OBdOv0g",
      "execution_count": null,
      "outputs": []
    },
    {
      "cell_type": "markdown",
      "metadata": {
        "id": "T2G10m35RdQI"
      },
      "source": [
        "# Tuple\n",
        "---"
      ],
      "id": "T2G10m35RdQI"
    },
    {
      "cell_type": "code",
      "metadata": {
        "colab": {
          "base_uri": "https://localhost:8080/"
        },
        "id": "cMBbk2RyRf9H",
        "outputId": "8397d9e7-8b20-4e1d-83d5-27019ed276b7"
      },
      "source": [
        "myTuple = ('one', 'two', 'three', 'five')\n",
        "print(myTuple)"
      ],
      "id": "cMBbk2RyRf9H",
      "execution_count": null,
      "outputs": [
        {
          "output_type": "stream",
          "text": [
            "('one', 'two', 'three', 'five')\n"
          ],
          "name": "stdout"
        }
      ]
    },
    {
      "cell_type": "code",
      "metadata": {
        "colab": {
          "base_uri": "https://localhost:8080/"
        },
        "id": "SMoR00PWRrfY",
        "outputId": "88b945e1-04dd-4d0f-e3a6-70620441553e"
      },
      "source": [
        "print(myTuple.index('five'))"
      ],
      "id": "SMoR00PWRrfY",
      "execution_count": null,
      "outputs": [
        {
          "output_type": "stream",
          "text": [
            "3\n"
          ],
          "name": "stdout"
        }
      ]
    },
    {
      "cell_type": "code",
      "metadata": {
        "id": "h3t2HkOeR_sp"
      },
      "source": [
        ""
      ],
      "id": "h3t2HkOeR_sp",
      "execution_count": null,
      "outputs": []
    }
  ]
}