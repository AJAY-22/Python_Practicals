{
  "nbformat": 4,
  "nbformat_minor": 5,
  "metadata": {
    "colab": {
      "name": "LabManual.ipynb",
      "provenance": [],
      "collapsed_sections": [
        "e901a282",
        "Gi4fLTOyTPSN",
        "mb9Hk5VEH3es",
        "EOWKS-VbSXqP",
        "7vxWBY1YUNle",
        "bjFBjPO1KOoV",
        "EfLaec0VKSCR",
        "Z7nQMoimKUKA"
      ],
      "include_colab_link": true
    },
    "kernelspec": {
      "display_name": "Python 3",
      "language": "python",
      "name": "python3"
    },
    "language_info": {
      "codemirror_mode": {
        "name": "ipython",
        "version": 3
      },
      "file_extension": ".py",
      "mimetype": "text/x-python",
      "name": "python",
      "nbconvert_exporter": "python",
      "pygments_lexer": "ipython3",
      "version": "3.8.8"
    }
  },
  "cells": [
    {
      "cell_type": "markdown",
      "metadata": {
        "id": "view-in-github",
        "colab_type": "text"
      },
      "source": [
        "<a href=\"https://colab.research.google.com/github/AJAY-22/Python_Practicals/blob/main/LabManual.ipynb\" target=\"_parent\"><img src=\"https://colab.research.google.com/assets/colab-badge.svg\" alt=\"Open In Colab\"/></a>"
      ]
    },
    {
      "cell_type": "markdown",
      "metadata": {
        "id": "e901a282"
      },
      "source": [
        "# 1] Intro to Data Types, Operations and conditional statements.\n",
        "---"
      ],
      "id": "e901a282"
    },
    {
      "cell_type": "code",
      "metadata": {
        "id": "wjSDc_A4Cmxb"
      },
      "source": [
        "from google.colab import drive\n",
        "drive.mount('/content/drive')"
      ],
      "id": "wjSDc_A4Cmxb",
      "execution_count": null,
      "outputs": []
    },
    {
      "cell_type": "markdown",
      "metadata": {
        "id": "641de9d5"
      },
      "source": [
        "## 1.1] Write aprogram to print “Hello World”."
      ],
      "id": "641de9d5"
    },
    {
      "cell_type": "code",
      "metadata": {
        "colab": {
          "base_uri": "https://localhost:8080/"
        },
        "id": "fc75f6d8",
        "outputId": "539e7b91-225c-452e-c079-8a88d4695910"
      },
      "source": [
        "print(\"Hello World\")"
      ],
      "id": "fc75f6d8",
      "execution_count": null,
      "outputs": [
        {
          "output_type": "stream",
          "text": [
            "Hello World\n"
          ],
          "name": "stdout"
        }
      ]
    },
    {
      "cell_type": "markdown",
      "metadata": {
        "id": "04b58e0f"
      },
      "source": [
        "## 1.2] Write a program to find maximum number out of 3 numbers.\n"
      ],
      "id": "04b58e0f"
    },
    {
      "cell_type": "code",
      "metadata": {
        "colab": {
          "base_uri": "https://localhost:8080/"
        },
        "id": "67ec5304",
        "outputId": "4fbbd810-0492-494a-acf6-675ad880e628"
      },
      "source": [
        "numbers=[11, 34, 5]\n",
        "\n",
        "'''For user input'''\n",
        "for x in range(len(numbers)):\n",
        "    inp = float(input(f'Enter #{x+1} '))\n",
        "    numbers[x] = inp\n",
        "\n",
        "max=numbers[0]\n",
        "\n",
        "for x in numbers:\n",
        "    if max<x:\n",
        "        max=x\n",
        "\n",
        "print(\"Max number is :\" ,max)"
      ],
      "id": "67ec5304",
      "execution_count": null,
      "outputs": [
        {
          "output_type": "stream",
          "text": [
            "Enter #1 10\n",
            "Enter #2 5\n",
            "Enter #3 86\n",
            "Max number is : 86.0\n"
          ],
          "name": "stdout"
        }
      ]
    },
    {
      "cell_type": "markdown",
      "metadata": {
        "id": "Gi4fLTOyTPSN"
      },
      "source": [
        "## 1.3] Write a program to swap the values of two variables without using temporary variable."
      ],
      "id": "Gi4fLTOyTPSN"
    },
    {
      "cell_type": "code",
      "metadata": {
        "colab": {
          "base_uri": "https://localhost:8080/"
        },
        "id": "Y5bF4wYfTOO2",
        "outputId": "d40148da-f2ad-47ae-ccfe-09b54f15e5bf"
      },
      "source": [
        "a, b = 1, 2\n",
        "print('Before swapping \\na :', a, '\\nb :', b)\n",
        "a, b = b, a\n",
        "print('\\nAfter swapping \\na :', a, '\\nb :', b)"
      ],
      "id": "Y5bF4wYfTOO2",
      "execution_count": null,
      "outputs": [
        {
          "output_type": "stream",
          "text": [
            "Before swapping \n",
            "a : 1 \n",
            "b : 2\n",
            "\n",
            "After swapping \n",
            "a : 2 \n",
            "b : 1\n"
          ],
          "name": "stdout"
        }
      ]
    },
    {
      "cell_type": "markdown",
      "metadata": {
        "id": "V2vGfao0U27G"
      },
      "source": [
        "## 1.4] Write a program to implement calculator."
      ],
      "id": "V2vGfao0U27G"
    },
    {
      "cell_type": "code",
      "metadata": {
        "id": "52XUuYd3U-1G"
      },
      "source": [
        "from IPython.display import clear_output \n",
        "\n",
        "\n",
        "\n",
        "while True:\n",
        "    print('1) Add\\n2) Subtract\\n3) Multiply\\n4) Divide\\n5) Exit')\n",
        "    choice = int(input('Enter your choice '))\n",
        "    clear_output()\n",
        "    \n",
        "    if choice in [1, 2, 3, 4]:\n",
        "        if choice is 1:\n",
        "            print('ADDITION\\n')\n",
        "            a = int(input('Enter number '))\n",
        "            b = int(input('Enter number '))\n",
        "            print(a, '+', b, '=', a+b)\n",
        "        \n",
        "        if choice is 2:\n",
        "            print('SUBTRACTION\\n')\n",
        "            a = int(input('Enter number '))\n",
        "            b = int(input('Enter number '))\n",
        "            print(a, '-', b, '=', a-b)\n",
        "\n",
        "        if choice is 3:\n",
        "            print('MULTIPLICATION\\n')\n",
        "            a = int(input('Enter number '))\n",
        "            b = int(input('Enter number '))\n",
        "            print(a, '*', b, '=', a*b)\n",
        "        \n",
        "        if choice is 4:\n",
        "            print('DIVISION\\n')\n",
        "            a = int(input('Enter number '))\n",
        "            b = int(input('Enter number '))\n",
        "            print(a, '/', b, '=', a/b)\n",
        "\n",
        "    elif choice is 5:\n",
        "        break\n",
        "    else:\n",
        "        clear_output()\n",
        "        print('Invalid Input\\n')"
      ],
      "id": "52XUuYd3U-1G",
      "execution_count": null,
      "outputs": []
    },
    {
      "cell_type": "markdown",
      "metadata": {
        "id": "0e25ad7a"
      },
      "source": [
        "## 1.5] Write a Python program to calculate the sum of the digits in an integer."
      ],
      "id": "0e25ad7a"
    },
    {
      "cell_type": "code",
      "metadata": {
        "colab": {
          "base_uri": "https://localhost:8080/"
        },
        "id": "4255e276",
        "outputId": "b3b34e4a-4266-43e6-f352-bb324357a9f9"
      },
      "source": [
        "num = int(input(\"Your number (must be 4 digit) : \"))\n",
        "x = num//1000\n",
        "x1 = (num - x*1000)//100\n",
        "x2 = (num - x*1000 - x1*100)//10\n",
        "x3 = (num - x*1000 - x1*100 - x2*10)\n",
        "\n",
        "print(f'sum of number\\'s digits : {x+x1+x2+x3}')"
      ],
      "id": "4255e276",
      "execution_count": null,
      "outputs": [
        {
          "output_type": "stream",
          "text": [
            "Your number (must be 4 digit) : 5588\n",
            "sum of number's digits : 26\n"
          ],
          "name": "stdout"
        }
      ]
    },
    {
      "cell_type": "markdown",
      "metadata": {
        "id": "mb9Hk5VEH3es"
      },
      "source": [
        "# 2] Introduction to Control Structures and Functions\n",
        "---"
      ],
      "id": "mb9Hk5VEH3es"
    },
    {
      "cell_type": "markdown",
      "metadata": {
        "id": "36yjufR5H7aJ"
      },
      "source": [
        "## 2.1] Write  a  program  to  find factorial  of  a  given  number  using  iterative  and recursive function."
      ],
      "id": "36yjufR5H7aJ"
    },
    {
      "cell_type": "markdown",
      "metadata": {
        "id": "uflJzvqHXG23"
      },
      "source": [
        "### 2.1.1] Iterative method to find factorial of given number."
      ],
      "id": "uflJzvqHXG23"
    },
    {
      "cell_type": "code",
      "metadata": {
        "id": "PR70anV1IsLo",
        "colab": {
          "base_uri": "https://localhost:8080/"
        },
        "outputId": "132e9e42-065f-4997-b331-286bbf03eb11"
      },
      "source": [
        "n=int(input(\"Enter Number : \"))\n",
        "fact=1\n",
        "\n",
        "while(n>0):\n",
        "  fact*=n\n",
        "  n-=1\n",
        "\n",
        "print(fact)"
      ],
      "id": "PR70anV1IsLo",
      "execution_count": null,
      "outputs": [
        {
          "output_type": "stream",
          "text": [
            "Enter Number : 10\n",
            "3628800\n"
          ],
          "name": "stdout"
        }
      ]
    },
    {
      "cell_type": "markdown",
      "metadata": {
        "id": "bzN_7QyVXSRn"
      },
      "source": [
        "### 2.1.2] Recursive method to find factorial of given number."
      ],
      "id": "bzN_7QyVXSRn"
    },
    {
      "cell_type": "code",
      "metadata": {
        "id": "c6Xu2WnaXa_u",
        "colab": {
          "base_uri": "https://localhost:8080/"
        },
        "outputId": "9fa5def9-9fc9-4fa9-90e2-3c76367d40f0"
      },
      "source": [
        "n=int(input('Enter number : '))\n",
        "\n",
        "def find_fac(num):\n",
        "  if num==0:\n",
        "    return 1\n",
        "  else:\n",
        "    return num*find_fac(num-1)\n",
        "\n",
        "print(find_fac(n))"
      ],
      "id": "c6Xu2WnaXa_u",
      "execution_count": null,
      "outputs": [
        {
          "output_type": "stream",
          "text": [
            "Enter number : 5\n",
            "120\n"
          ],
          "name": "stdout"
        }
      ]
    },
    {
      "cell_type": "markdown",
      "metadata": {
        "id": "PvslmRI5H7NN"
      },
      "source": [
        "## 2.2] Write a program to check whether a given number is prime or not."
      ],
      "id": "PvslmRI5H7NN"
    },
    {
      "cell_type": "code",
      "metadata": {
        "id": "gS2xkq9EX6R_",
        "colab": {
          "base_uri": "https://localhost:8080/"
        },
        "outputId": "1759b7c0-0c4f-422d-bfc7-df7ef47d11bf"
      },
      "source": [
        "n=int(input('Enter Number :'))\n",
        "\n",
        "def is_prime(num):\n",
        "  flag=0\n",
        "  for x in range(1, num+1):\n",
        "    if num%x==0:\n",
        "      flag+=1\n",
        "\n",
        "  if flag==2:\n",
        "    print(num, 'is Prime')\n",
        "  else:\n",
        "    print(num, 'is not prime')\n",
        "\n",
        "is_prime(n)\n"
      ],
      "id": "gS2xkq9EX6R_",
      "execution_count": null,
      "outputs": [
        {
          "output_type": "stream",
          "text": [
            "Enter Number :10\n",
            "10 is not prime\n"
          ],
          "name": "stdout"
        }
      ]
    },
    {
      "cell_type": "markdown",
      "metadata": {
        "id": "F9Qzw33rH7CN"
      },
      "source": [
        "## 2.3] Write a program to print Fibonacci series upto n. "
      ],
      "id": "F9Qzw33rH7CN"
    },
    {
      "cell_type": "code",
      "metadata": {
        "id": "F6LAyLh8ZBqW"
      },
      "source": [
        "n=int(inptut('Enter number :'))\n",
        "\n",
        "for x in range(n):\n",
        "  "
      ],
      "id": "F6LAyLh8ZBqW",
      "execution_count": null,
      "outputs": []
    },
    {
      "cell_type": "markdown",
      "metadata": {
        "id": "W8eMsjfLH5T5"
      },
      "source": [
        "## 2.4] Write a program which takes a sentence from user and calculates number of digits, letters, uppercase letters, lowercase letter and spaces in sentence."
      ],
      "id": "W8eMsjfLH5T5"
    },
    {
      "cell_type": "markdown",
      "metadata": {
        "id": "skVkzQOlIpXF"
      },
      "source": [
        "## 2.5] Reversing a given string."
      ],
      "id": "skVkzQOlIpXF"
    },
    {
      "cell_type": "markdown",
      "metadata": {
        "id": "EOWKS-VbSXqP"
      },
      "source": [
        "# 3] Study of List and Tuple\n",
        "---"
      ],
      "id": "EOWKS-VbSXqP"
    },
    {
      "cell_type": "markdown",
      "metadata": {
        "id": "M1uVnqs0T3I_"
      },
      "source": [
        "## 3.1] Write a program to remove duplicates from list."
      ],
      "id": "M1uVnqs0T3I_"
    },
    {
      "cell_type": "code",
      "metadata": {
        "colab": {
          "base_uri": "https://localhost:8080/"
        },
        "id": "SMY9f_M1VR0K",
        "outputId": "f412e8cf-f893-4024-da94-865271b76df9"
      },
      "source": [
        "myList = ['One', 'two', 'two', 'three', 'three', 'three', 'four']\n",
        "unique = []\n",
        "\n",
        "print('original list :', myList)\n",
        "\n",
        "for el in myList:\n",
        "    if el not in unique:\n",
        "        unique.append(el)\n",
        "\n",
        "print('without duplicates :', unique)"
      ],
      "id": "SMY9f_M1VR0K",
      "execution_count": null,
      "outputs": [
        {
          "output_type": "stream",
          "text": [
            "original list : ['One', 'two', 'two', 'three', 'three', 'three', 'four']\n",
            "without duplicates : ['One', 'two', 'three', 'four']\n"
          ],
          "name": "stdout"
        }
      ]
    },
    {
      "cell_type": "markdown",
      "metadata": {
        "id": "xJGj_yaQUF0m"
      },
      "source": [
        "## 3.2] Write a program to find frequency of elements of list."
      ],
      "id": "xJGj_yaQUF0m"
    },
    {
      "cell_type": "code",
      "metadata": {
        "colab": {
          "base_uri": "https://localhost:8080/"
        },
        "id": "Vukn4LokVSQH",
        "outputId": "6495813d-9abd-46e9-bde8-57e5d9e5a491"
      },
      "source": [
        "my_list = [7, 2, 6, 5, 8, 7, 8, 3, 2, 3]\n",
        "unique = []\n",
        "for el in my_list:\n",
        "    if el not in unique:\n",
        "        unique.append(el)\n",
        "\n",
        "for el in unique:\n",
        "    print('Frequency of ', el, 'in my_list :', my_list.count(el))"
      ],
      "id": "Vukn4LokVSQH",
      "execution_count": null,
      "outputs": [
        {
          "output_type": "stream",
          "text": [
            "Frequency of  7 in my_list : 2\n",
            "Frequency of  2 in my_list : 2\n",
            "Frequency of  6 in my_list : 1\n",
            "Frequency of  5 in my_list : 1\n",
            "Frequency of  8 in my_list : 2\n",
            "Frequency of  3 in my_list : 2\n"
          ],
          "name": "stdout"
        }
      ]
    },
    {
      "cell_type": "markdown",
      "metadata": {
        "id": "rwiZeFm-UJz9"
      },
      "source": [
        "## 3.3] Write a program to sort given list."
      ],
      "id": "rwiZeFm-UJz9"
    },
    {
      "cell_type": "code",
      "metadata": {
        "id": "X1X4_rGfVTDv",
        "colab": {
          "base_uri": "https://localhost:8080/"
        },
        "outputId": "3706eaa3-ba8a-4dcb-cfb7-1c6df27e9a4a"
      },
      "source": [
        "print('Original :', my_list)\n",
        "my_list.sort()\n",
        "print('Ascending :', my_list)\n",
        "print('Descending :', my_list[::-1])"
      ],
      "id": "X1X4_rGfVTDv",
      "execution_count": null,
      "outputs": [
        {
          "output_type": "stream",
          "text": [
            "Original : [7, 2, 6, 5, 8, 7, 8, 3, 2, 3]\n",
            "Ascending : [2, 2, 3, 3, 5, 6, 7, 7, 8, 8]\n",
            "Descending : [8, 8, 7, 7, 6, 5, 3, 3, 2, 2]\n"
          ],
          "name": "stdout"
        }
      ]
    },
    {
      "cell_type": "markdown",
      "metadata": {
        "id": "iLTcgIGLUK1W"
      },
      "source": [
        "## 3.4] Write a program to find minimum and maximumvalue in list of tuples."
      ],
      "id": "iLTcgIGLUK1W"
    },
    {
      "cell_type": "code",
      "metadata": {
        "colab": {
          "base_uri": "https://localhost:8080/"
        },
        "id": "UfQ-HKMLVTfP",
        "outputId": "d49a6802-c543-45c0-fb75-11b80f47969f"
      },
      "source": [
        "my_tuple_list = [(22, 1), (16, 3), (27, 11), (29, 9)]\n",
        "print('Original list :', my_tuple_list)\n",
        "\n",
        "zeroth = [tup[0] for tup in my_tuple_list]\n",
        "first = [tup[1] for tup in my_tuple_list]\n",
        "\n",
        "res1 = min(zeroth), max(zeroth)\n",
        "res2 = min(first), max(first)\n",
        "print('\\nmin at 0th index of tuples :', res1[0], '\\nmax at 0th index of tuples :', res1[1])\n",
        "print('\\nmin at 1st index of tuples :', res2[0], '\\nmax at 1st index of tuples :', res2[1])"
      ],
      "id": "UfQ-HKMLVTfP",
      "execution_count": null,
      "outputs": [
        {
          "output_type": "stream",
          "text": [
            "Original list : [(22, 1), (16, 3), (27, 11), (29, 9)]\n",
            "\n",
            "min at 0th index of tuples : 16 \n",
            "max at 0th index of tuples : 29\n",
            "\n",
            "min at 1st index of tuples : 1 \n",
            "max at 1st index of tuples : 11\n"
          ],
          "name": "stdout"
        }
      ]
    },
    {
      "cell_type": "markdown",
      "metadata": {
        "id": "7vxWBY1YUNle"
      },
      "source": [
        "## 3.5] Write a program to remove an element from tuple. "
      ],
      "id": "7vxWBY1YUNle"
    },
    {
      "cell_type": "code",
      "metadata": {
        "colab": {
          "base_uri": "https://localhost:8080/"
        },
        "id": "8IBRVvcaVUD2",
        "outputId": "801a73b4-d732-4bab-bedb-05cf8e446fe7"
      },
      "source": [
        "myTuple = ('one', 'two', 'three', 'four', 'four', 'five')\n",
        "print(myTuple)"
      ],
      "id": "8IBRVvcaVUD2",
      "execution_count": null,
      "outputs": [
        {
          "output_type": "stream",
          "text": [
            "('one', 'two', 'three', 'four', 'four', 'five')\n"
          ],
          "name": "stdout"
        }
      ]
    },
    {
      "cell_type": "code",
      "metadata": {
        "colab": {
          "base_uri": "https://localhost:8080/"
        },
        "id": "5hS1v6zdWgqu",
        "outputId": "ffc72f46-a687-4829-8223-0d76762c4ae6"
      },
      "source": [
        "# Removing element using slicing\n",
        "myTuple = myTuple[:3] + myTuple[4:]\n",
        "print(myTuple)"
      ],
      "id": "5hS1v6zdWgqu",
      "execution_count": null,
      "outputs": [
        {
          "output_type": "stream",
          "text": [
            "('one', 'two', 'three', 'four', 'five')\n"
          ],
          "name": "stdout"
        }
      ]
    },
    {
      "cell_type": "code",
      "metadata": {
        "colab": {
          "base_uri": "https://localhost:8080/"
        },
        "id": "8yw3wi7zXDqX",
        "outputId": "41d10ec0-24cc-4a60-a560-ab8d130d6bc3"
      },
      "source": [
        "# Removing using typecast\n",
        "myList = list(myTuple)\n",
        "myList.remove('four')\n",
        "myTuple = myList\n",
        "print(myTuple)"
      ],
      "id": "8yw3wi7zXDqX",
      "execution_count": null,
      "outputs": [
        {
          "output_type": "stream",
          "text": [
            "['one', 'two', 'three', 'five']\n"
          ],
          "name": "stdout"
        }
      ]
    },
    {
      "cell_type": "markdown",
      "metadata": {
        "id": "3fMQz0OZKDOS"
      },
      "source": [
        "# 4] Study of Dictionary\n",
        "---"
      ],
      "id": "3fMQz0OZKDOS"
    },
    {
      "cell_type": "markdown",
      "metadata": {
        "id": "bjFBjPO1KOoV"
      },
      "source": [
        "## 4.1] Write a program to map 2 lists into a dictionary."
      ],
      "id": "bjFBjPO1KOoV"
    },
    {
      "cell_type": "code",
      "metadata": {
        "id": "8kSHroZpKQlK",
        "colab": {
          "base_uri": "https://localhost:8080/"
        },
        "outputId": "7396299e-788d-4038-cdbf-fe74f1cc9eed"
      },
      "source": [
        "l1 = [1, 2, 3, 4, 5]\n",
        "l2 = ['one', 'two', 'three', 'four', 'five']\n",
        "\n",
        "d1 = dict(zip(l1, l2))\n",
        "\n",
        "print(d1)\n"
      ],
      "id": "8kSHroZpKQlK",
      "execution_count": null,
      "outputs": [
        {
          "output_type": "stream",
          "text": [
            "{1: 'one', 2: 'two', 3: 'three', 4: 'four', 5: 'five'}\n"
          ],
          "name": "stdout"
        }
      ]
    },
    {
      "cell_type": "markdown",
      "metadata": {
        "id": "EfLaec0VKSCR"
      },
      "source": [
        "## 4.2] Write  a  program  to  generate  dictionary  of  frequency  of  alphabets  of  given string."
      ],
      "id": "EfLaec0VKSCR"
    },
    {
      "cell_type": "code",
      "metadata": {
        "id": "xGuyYXiMKTnP",
        "colab": {
          "base_uri": "https://localhost:8080/"
        },
        "outputId": "ed5e5b36-9bae-4fb2-e64b-c4cb24390c31"
      },
      "source": [
        "string = str(input(\"Enter string : \"))\n",
        "keys = []\n",
        "values = []\n",
        "\n",
        "for el in string:\n",
        "    if el not in keys:\n",
        "        keys.append(el)\n",
        "        values.append(string.count(el))\n",
        "\n",
        "d1 = dict(zip(keys, values))\n",
        "print(d1)"
      ],
      "id": "xGuyYXiMKTnP",
      "execution_count": null,
      "outputs": [
        {
          "output_type": "stream",
          "text": [
            "Enter string : ajay pathak kamleshbhai\n",
            "{'a': 6, 'j': 1, 'y': 1, ' ': 2, 'p': 1, 't': 1, 'h': 3, 'k': 2, 'm': 1, 'l': 1, 'e': 1, 's': 1, 'b': 1, 'i': 1}\n"
          ],
          "name": "stdout"
        }
      ]
    },
    {
      "cell_type": "markdown",
      "metadata": {
        "id": "Z7nQMoimKUKA"
      },
      "source": [
        "## 4.3] Write a Python program to sum all the items in a dictionary."
      ],
      "id": "Z7nQMoimKUKA"
    },
    {
      "cell_type": "code",
      "metadata": {
        "id": "88t0cgVjKWUC",
        "colab": {
          "base_uri": "https://localhost:8080/"
        },
        "outputId": "aac8875a-0139-48ae-f73f-680effb28fcb"
      },
      "source": [
        "d1 = {'hundred': 100, 'sixty': -60, 'twenty': -20, 'two': 2}\n",
        "sum = int(sum(d1.values()))\n",
        "print(sum)"
      ],
      "id": "88t0cgVjKWUC",
      "execution_count": null,
      "outputs": [
        {
          "output_type": "stream",
          "text": [
            "22\n"
          ],
          "name": "stdout"
        }
      ]
    },
    {
      "cell_type": "markdown",
      "metadata": {
        "id": "nIQOuY3jKXHZ"
      },
      "source": [
        "## 4.4]Create a dictionary where keys are name of students and values are another dictionary containing semester, age and cpi of that student. \n"
      ],
      "id": "nIQOuY3jKXHZ"
    },
    {
      "cell_type": "code",
      "metadata": {
        "id": "quG9SXhbKYjb"
      },
      "source": [
        "student_info = {'Ak': {'semester': 5,\n",
        "                       'age': 19,\n",
        "                       'cpi': 8.2},\n",
        "                'Aj': {'semester': 5,\n",
        "                       'age': 20,\n",
        "                       'cpi': 9.0}}"
      ],
      "id": "quG9SXhbKYjb",
      "execution_count": null,
      "outputs": []
    },
    {
      "cell_type": "markdown",
      "metadata": {
        "id": "cgcO_wrLK0r7"
      },
      "source": [
        "### 4.4.1] Print all the names of students."
      ],
      "id": "cgcO_wrLK0r7"
    },
    {
      "cell_type": "code",
      "metadata": {
        "id": "EkyqFm13LJhR",
        "colab": {
          "base_uri": "https://localhost:8080/"
        },
        "outputId": "b5be27a5-e129-47d0-f819-41f71aec83c9"
      },
      "source": [
        "print(student_info)"
      ],
      "id": "EkyqFm13LJhR",
      "execution_count": null,
      "outputs": [
        {
          "output_type": "stream",
          "text": [
            "{'Ak': {'semester': 5, 'age': 19, 'cpi': 8.2}, 'Aj': {'semester': 5, 'age': 20, 'cpi': 9.0}}\n"
          ],
          "name": "stdout"
        }
      ]
    },
    {
      "cell_type": "markdown",
      "metadata": {
        "id": "2BLUu4GtK9eq"
      },
      "source": [
        "### 4.4.2] Print only names of students"
      ],
      "id": "2BLUu4GtK9eq"
    },
    {
      "cell_type": "code",
      "metadata": {
        "id": "fjoDzIufLKa3",
        "colab": {
          "base_uri": "https://localhost:8080/"
        },
        "outputId": "a4668e55-63a6-4d83-97ee-a81fa5f22af0"
      },
      "source": [
        "print(student_info.keys())"
      ],
      "id": "fjoDzIufLKa3",
      "execution_count": null,
      "outputs": [
        {
          "output_type": "stream",
          "text": [
            "dict_keys(['Ak', 'Aj'])\n"
          ],
          "name": "stdout"
        }
      ]
    },
    {
      "cell_type": "markdown",
      "metadata": {
        "id": "IAm9UzX3LDRL"
      },
      "source": [
        "### 4.4.3] Print the name of student having highest CPI "
      ],
      "id": "IAm9UzX3LDRL"
    },
    {
      "cell_type": "code",
      "metadata": {
        "id": "rj_jbI2mLLG0",
        "colab": {
          "base_uri": "https://localhost:8080/"
        },
        "outputId": "b61df34a-2cfd-43c5-b1b2-b043c017cf14"
      },
      "source": [
        "names = [x for x in student_info]\n",
        "\n",
        "cpis = [student_info.get(name).get('cpi') for name in names]\n",
        "highest = max(cpis)\n",
        "\n",
        "pos = cpis.index(highest)\n",
        "print('Student havning highest cpi :', names[pos])\n"
      ],
      "id": "rj_jbI2mLLG0",
      "execution_count": null,
      "outputs": [
        {
          "output_type": "stream",
          "text": [
            "Student havning highest cpi : Aj\n"
          ],
          "name": "stdout"
        }
      ]
    },
    {
      "cell_type": "markdown",
      "metadata": {
        "id": "1n-ZRzuFDUck"
      },
      "source": [
        "## 4.5] Nested Dictionary Practice\n"
      ],
      "id": "1n-ZRzuFDUck"
    },
    {
      "cell_type": "markdown",
      "metadata": {
        "id": "YlXngM1qDuwc"
      },
      "source": [
        "### 4.5.1] Creating a Nested Dictionary"
      ],
      "id": "YlXngM1qDuwc"
    },
    {
      "cell_type": "code",
      "metadata": {
        "colab": {
          "base_uri": "https://localhost:8080/"
        },
        "id": "qawJPvYRDfMR",
        "outputId": "249e9588-0c0e-4e67-c6b3-34a0a94bce87"
      },
      "source": [
        "faculty = {1: {'name': 'Akj', 'contact': 1234567890, 'city': 'city1'},\n",
        "           2: {'name': 'sk', 'contact': 9987654321, 'city': 'city1'},\n",
        "           3: {'name': 'ap', 'contact': 1234509876, 'city': 'city2'}}\n",
        "\n",
        "print(faculty)"
      ],
      "id": "qawJPvYRDfMR",
      "execution_count": null,
      "outputs": [
        {
          "output_type": "stream",
          "text": [
            "{1: {'name': 'Akj', 'contact': 1234567890, 'city': 'city1'}, 2: {'name': 'sk', 'contact': 9987654321, 'city': 'city1'}, 3: {'name': 'ap', 'contact': 1234509876, 'city': 'city2'}}\n"
          ],
          "name": "stdout"
        }
      ]
    },
    {
      "cell_type": "markdown",
      "metadata": {
        "id": "ezeKCoMUF2RX"
      },
      "source": [
        "### 4.5.2] Accessing elements"
      ],
      "id": "ezeKCoMUF2RX"
    },
    {
      "cell_type": "code",
      "metadata": {
        "colab": {
          "base_uri": "https://localhost:8080/"
        },
        "id": "2gciLyKOElKm",
        "outputId": "72d5fce0-e480-4eb0-b886-9221260d2050"
      },
      "source": [
        "print(faculty[1]['name'])\n",
        "print(faculty[2]['contact'])\n",
        "print(faculty[3]['city'])\n",
        "\n",
        "for x in faculty.keys():\n",
        "  print(faculty[x])"
      ],
      "id": "2gciLyKOElKm",
      "execution_count": null,
      "outputs": [
        {
          "output_type": "stream",
          "text": [
            "Akj\n",
            "9987654321\n",
            "city2\n",
            "{'name': 'Akj', 'contact': 1234567890, 'city': 'city1'}\n",
            "{'name': 'sk', 'contact': 9987654321, 'city': 'city1'}\n",
            "{'name': 'ap', 'contact': 1234509876, 'city': 'city2'}\n"
          ],
          "name": "stdout"
        }
      ]
    },
    {
      "cell_type": "markdown",
      "metadata": {
        "id": "Q8QAtzaZHCxe"
      },
      "source": [
        "### 4.5.3] Adding element "
      ],
      "id": "Q8QAtzaZHCxe"
    },
    {
      "cell_type": "code",
      "metadata": {
        "colab": {
          "base_uri": "https://localhost:8080/"
        },
        "id": "i5cBqINmGA1K",
        "outputId": "588afec7-f559-4348-d194-0c11a1010c23"
      },
      "source": [
        "faculty[4] = {}\n",
        "faculty[4]['name'] = 'SP'\n",
        "# faculty[4]['contact'] = 5432109876\n",
        "faculty[4]['city'] = 'city2'\n",
        "\n",
        "faculty[5] = {'name': 'LK', 'contact': 5647382910, 'city': 'city2', 'married': 'yes'}\n",
        "\n",
        "for x in faculty.keys():\n",
        "  print(faculty[x])"
      ],
      "id": "i5cBqINmGA1K",
      "execution_count": null,
      "outputs": [
        {
          "output_type": "stream",
          "text": [
            "{'name': 'Akj', 'contact': 1234567890, 'city': 'city1'}\n",
            "{'name': 'sk', 'contact': 9987654321, 'city': 'city1'}\n",
            "{'name': 'ap', 'contact': 1234509876, 'city': 'city2'}\n",
            "{'name': 'SP', 'city': 'city2'}\n",
            "{'name': 'LK', 'contact': 5647382910, 'city': 'city2', 'married': 'yes'}\n"
          ],
          "name": "stdout"
        }
      ]
    },
    {
      "cell_type": "markdown",
      "metadata": {
        "id": "6Jf5NmZPLD4H"
      },
      "source": [
        "### 4.5.4] Deleting elemets"
      ],
      "id": "6Jf5NmZPLD4H"
    },
    {
      "cell_type": "code",
      "metadata": {
        "id": "Dx5ut8lOHVul",
        "colab": {
          "base_uri": "https://localhost:8080/"
        },
        "outputId": "6323309e-4d51-49a9-a44b-72d6e5c80b8c"
      },
      "source": [
        "del faculty[5]['married']\n",
        "del faculty[3], faculty[4]\n",
        "\n",
        "for key in faculty.keys():\n",
        "  print(faculty[key])\n"
      ],
      "id": "Dx5ut8lOHVul",
      "execution_count": null,
      "outputs": [
        {
          "output_type": "stream",
          "text": [
            "{'name': 'Akj', 'contact': 1234567890, 'city': 'city1'}\n",
            "{'name': 'sk', 'contact': 9987654321, 'city': 'city1'}\n",
            "{'name': 'LK', 'contact': 5647382910, 'city': 'city2'}\n"
          ],
          "name": "stdout"
        }
      ]
    },
    {
      "cell_type": "markdown",
      "metadata": {
        "id": "3cV3wJsdMJvx"
      },
      "source": [
        "### 4.5.5] Iterating through Nested Dictionary"
      ],
      "id": "3cV3wJsdMJvx"
    },
    {
      "cell_type": "code",
      "metadata": {
        "colab": {
          "base_uri": "https://localhost:8080/"
        },
        "id": "cjoXhAsqL4-s",
        "outputId": "6a0b6b09-8ec7-4fea-a53d-542bf9785880"
      },
      "source": [
        "for id, value in faculty.items():\n",
        "  print('Faculty ID =', id)\n",
        "\n",
        "  for key in value:\n",
        "    print(key, '=', value[key])\n",
        "  print('\\n')"
      ],
      "id": "cjoXhAsqL4-s",
      "execution_count": null,
      "outputs": [
        {
          "output_type": "stream",
          "text": [
            "Faculty ID = 1\n",
            "name = Akj\n",
            "contact = 1234567890\n",
            "city = city1\n",
            "\n",
            "\n",
            "Faculty ID = 2\n",
            "name = sk\n",
            "contact = 9987654321\n",
            "city = city1\n",
            "\n",
            "\n",
            "Faculty ID = 5\n",
            "name = LK\n",
            "contact = 5647382910\n",
            "city = city2\n",
            "\n",
            "\n"
          ],
          "name": "stdout"
        }
      ]
    },
    {
      "cell_type": "markdown",
      "metadata": {
        "id": "VOFe6xdrMkRQ"
      },
      "source": [
        "# 5] Write a python program to explore various types of files (csv, excel etc.) using pandas.\n",
        "---"
      ],
      "id": "VOFe6xdrMkRQ"
    },
    {
      "cell_type": "markdown",
      "metadata": {
        "id": "qNtIUg1sR9Fv"
      },
      "source": [
        "## Importing Pandas and defining data."
      ],
      "id": "qNtIUg1sR9Fv"
    },
    {
      "cell_type": "markdown",
      "metadata": {
        "id": "ZYtxLYmdOj6P"
      },
      "source": [
        "First of all ,\n",
        "\n",
        "To use pandas library, we need to install pandas and import it.\n",
        "\n",
        "Conventionally we use alias 'pd' for pandas library "
      ],
      "id": "ZYtxLYmdOj6P"
    },
    {
      "cell_type": "code",
      "metadata": {
        "id": "GXLqo4NWNeic"
      },
      "source": [
        "import pandas as pd"
      ],
      "id": "GXLqo4NWNeic",
      "execution_count": 1,
      "outputs": []
    },
    {
      "cell_type": "markdown",
      "metadata": {
        "id": "698bohGfPKtg"
      },
      "source": [
        "Next cell defines data \n",
        "\n",
        "we are using data of different countries ( such as population, GDP, Continent etc.) "
      ],
      "id": "698bohGfPKtg"
    },
    {
      "cell_type": "code",
      "metadata": {
        "id": "BMKEbbV-Ns6U"
      },
      "source": [
        "contries_data = {\n",
        "    'CHN': {'COUNTRY': 'China', 'POP': 1_398.72, 'AREA': 9_596.96,\n",
        "            'GDP': 12_234.78, 'CONT': 'Asia'},\n",
        "    'IND': {'COUNTRY': 'India', 'POP': 1_351.16, 'AREA': 3_287.26,\n",
        "            'GDP': 2_575.67, 'CONT': 'Asia', 'IND_DAY': '1947-08-15'},\n",
        "    'USA': {'COUNTRY': 'US', 'POP': 329.74, 'AREA': 9_833.52,\n",
        "            'GDP': 19_485.39, 'CONT': 'N.America',\n",
        "            'IND_DAY': '1776-07-04'},\n",
        "    'IDN': {'COUNTRY': 'Indonesia', 'POP': 268.07, 'AREA': 1_910.93,\n",
        "            'GDP': 1_015.54, 'CONT': 'Asia', 'IND_DAY': '1945-08-17'},\n",
        "    'BRA': {'COUNTRY': 'Brazil', 'POP': 210.32, 'AREA': 8_515.77,\n",
        "            'GDP': 2_055.51, 'CONT': 'S.America', 'IND_DAY': '1822-09-07'},\n",
        "    'PAK': {'COUNTRY': 'Pakistan', 'POP': 205.71, 'AREA': 881.91,\n",
        "            'GDP': 302.14, 'CONT': 'Asia', 'IND_DAY': '1947-08-14'},\n",
        "    'NGA': {'COUNTRY': 'Nigeria', 'POP': 200.96, 'AREA': 923.77,\n",
        "            'GDP': 375.77, 'CONT': 'Africa', 'IND_DAY': '1960-10-01'},\n",
        "    'BGD': {'COUNTRY': 'Bangladesh', 'POP': 167.09, 'AREA': 147.57,\n",
        "            'GDP': 245.63, 'CONT': 'Asia', 'IND_DAY': '1971-03-26'},\n",
        "    'RUS': {'COUNTRY': 'Russia', 'POP': 146.79, 'AREA': 17_098.25,\n",
        "            'GDP': 1_530.75, 'IND_DAY': '1992-06-12'},\n",
        "    'MEX': {'COUNTRY': 'Mexico', 'POP': 126.58, 'AREA': 1_964.38,\n",
        "            'GDP': 1_158.23, 'CONT': 'N.America', 'IND_DAY': '1810-09-16'},\n",
        "    'JPN': {'COUNTRY': 'Japan', 'POP': 126.22, 'AREA': 377.97,\n",
        "            'GDP': 4_872.42, 'CONT': 'Asia'},\n",
        "    'DEU': {'COUNTRY': 'Germany', 'POP': 83.02, 'AREA': 357.11,\n",
        "            'GDP': 3_693.20, 'CONT': 'Europe'},\n",
        "    'FRA': {'COUNTRY': 'France', 'POP': 67.02, 'AREA': 640.68,\n",
        "            'GDP': 2_582.49, 'CONT': 'Europe', 'IND_DAY': '1789-07-14'},\n",
        "    'GBR': {'COUNTRY': 'UK', 'POP': 66.44, 'AREA': 242.50,\n",
        "            'GDP': 2_631.23, 'CONT': 'Europe'},\n",
        "    'ITA': {'COUNTRY': 'Italy', 'POP': 60.36, 'AREA': 301.34,\n",
        "            'GDP': 1_943.84, 'CONT': 'Europe'},\n",
        "    'ARG': {'COUNTRY': 'Argentina', 'POP': 44.94, 'AREA': 2_780.40,\n",
        "            'GDP': 637.49, 'CONT': 'S.America', 'IND_DAY': '1816-07-09'},\n",
        "    'DZA': {'COUNTRY': 'Algeria', 'POP': 43.38, 'AREA': 2_381.74,\n",
        "            'GDP': 167.56, 'CONT': 'Africa', 'IND_DAY': '1962-07-05'},\n",
        "    'CAN': {'COUNTRY': 'Canada', 'POP': 37.59, 'AREA': 9_984.67,\n",
        "            'GDP': 1_647.12, 'CONT': 'N.America', 'IND_DAY': '1867-07-01'},\n",
        "    'AUS': {'COUNTRY': 'Australia', 'POP': 25.47, 'AREA': 7_692.02,\n",
        "            'GDP': 1_408.68, 'CONT': 'Oceania'},\n",
        "    'KAZ': {'COUNTRY': 'Kazakhstan', 'POP': 18.53, 'AREA': 2_724.90,\n",
        "            'GDP': 159.41, 'CONT': 'Asia', 'IND_DAY': '1991-12-16'}\n",
        "}\n",
        "\n",
        "columns = ('COUNTRY', 'POP', 'AREA', 'GDP', 'CONT', 'IND_DAY')"
      ],
      "id": "BMKEbbV-Ns6U",
      "execution_count": 2,
      "outputs": []
    },
    {
      "cell_type": "markdown",
      "metadata": {
        "id": "6TeOHhtnPoTZ"
      },
      "source": [
        "## Using pandas DataFrame "
      ],
      "id": "6TeOHhtnPoTZ"
    },
    {
      "cell_type": "markdown",
      "metadata": {
        "id": "-myi1ucJPxBR"
      },
      "source": [
        "DataFrame is pandas way of storing and visiualizing data\n",
        "\n",
        "to convert our dictionary ( or any DataStructure ) in pandas DataFrame object , we use ```pd.DataFrame(data_variable_name)```.\n",
        "\n",
        "It returns our data in DataFrame format , so we need to store it in some variable."
      ],
      "id": "-myi1ucJPxBR"
    },
    {
      "cell_type": "code",
      "metadata": {
        "colab": {
          "base_uri": "https://localhost:8080/"
        },
        "id": "ja_y3PsCN2jz",
        "outputId": "0d8dcfc7-27f7-4c90-f0d4-c11838c33b14"
      },
      "source": [
        "# We stored our data in 'contries_data' variable\n",
        "# Let's store the returned DataFrame Object in df (DataFrame)\n",
        "df = pd.DataFrame(contries_data)\n",
        "\n",
        "# we can use print function\n",
        "print(df)"
      ],
      "id": "ja_y3PsCN2jz",
      "execution_count": 14,
      "outputs": [
        {
          "output_type": "stream",
          "text": [
            "             CHN         IND         USA  ...         CAN        AUS         KAZ\n",
            "COUNTRY    China       India          US  ...      Canada  Australia  Kazakhstan\n",
            "POP      1398.72     1351.16      329.74  ...       37.59      25.47       18.53\n",
            "AREA     9596.96     3287.26     9833.52  ...     9984.67    7692.02      2724.9\n",
            "GDP      12234.8     2575.67     19485.4  ...     1647.12    1408.68      159.41\n",
            "CONT        Asia        Asia   N.America  ...   N.America    Oceania        Asia\n",
            "IND_DAY      NaN  1947-08-15  1776-07-04  ...  1867-07-01        NaN  1991-12-16\n",
            "\n",
            "[6 rows x 20 columns]\n"
          ],
          "name": "stdout"
        }
      ]
    },
    {
      "cell_type": "code",
      "metadata": {
        "colab": {
          "base_uri": "https://localhost:8080/",
          "height": 270
        },
        "id": "hOws3-DqOEbS",
        "outputId": "f2ae3bed-bbf9-4e14-93ac-23f2d18cb09a"
      },
      "source": [
        "# We are not getting whole data , also representation is not good \n",
        "# Let's use something better\n",
        "# We can directly call our dataframe object and it will print the data \n",
        "df"
      ],
      "id": "hOws3-DqOEbS",
      "execution_count": 15,
      "outputs": [
        {
          "output_type": "execute_result",
          "data": {
            "text/html": [
              "<div>\n",
              "<style scoped>\n",
              "    .dataframe tbody tr th:only-of-type {\n",
              "        vertical-align: middle;\n",
              "    }\n",
              "\n",
              "    .dataframe tbody tr th {\n",
              "        vertical-align: top;\n",
              "    }\n",
              "\n",
              "    .dataframe thead th {\n",
              "        text-align: right;\n",
              "    }\n",
              "</style>\n",
              "<table border=\"1\" class=\"dataframe\">\n",
              "  <thead>\n",
              "    <tr style=\"text-align: right;\">\n",
              "      <th></th>\n",
              "      <th>CHN</th>\n",
              "      <th>IND</th>\n",
              "      <th>USA</th>\n",
              "      <th>IDN</th>\n",
              "      <th>BRA</th>\n",
              "      <th>PAK</th>\n",
              "      <th>NGA</th>\n",
              "      <th>BGD</th>\n",
              "      <th>RUS</th>\n",
              "      <th>MEX</th>\n",
              "      <th>JPN</th>\n",
              "      <th>DEU</th>\n",
              "      <th>FRA</th>\n",
              "      <th>GBR</th>\n",
              "      <th>ITA</th>\n",
              "      <th>ARG</th>\n",
              "      <th>DZA</th>\n",
              "      <th>CAN</th>\n",
              "      <th>AUS</th>\n",
              "      <th>KAZ</th>\n",
              "    </tr>\n",
              "  </thead>\n",
              "  <tbody>\n",
              "    <tr>\n",
              "      <th>COUNTRY</th>\n",
              "      <td>China</td>\n",
              "      <td>India</td>\n",
              "      <td>US</td>\n",
              "      <td>Indonesia</td>\n",
              "      <td>Brazil</td>\n",
              "      <td>Pakistan</td>\n",
              "      <td>Nigeria</td>\n",
              "      <td>Bangladesh</td>\n",
              "      <td>Russia</td>\n",
              "      <td>Mexico</td>\n",
              "      <td>Japan</td>\n",
              "      <td>Germany</td>\n",
              "      <td>France</td>\n",
              "      <td>UK</td>\n",
              "      <td>Italy</td>\n",
              "      <td>Argentina</td>\n",
              "      <td>Algeria</td>\n",
              "      <td>Canada</td>\n",
              "      <td>Australia</td>\n",
              "      <td>Kazakhstan</td>\n",
              "    </tr>\n",
              "    <tr>\n",
              "      <th>POP</th>\n",
              "      <td>1398.72</td>\n",
              "      <td>1351.16</td>\n",
              "      <td>329.74</td>\n",
              "      <td>268.07</td>\n",
              "      <td>210.32</td>\n",
              "      <td>205.71</td>\n",
              "      <td>200.96</td>\n",
              "      <td>167.09</td>\n",
              "      <td>146.79</td>\n",
              "      <td>126.58</td>\n",
              "      <td>126.22</td>\n",
              "      <td>83.02</td>\n",
              "      <td>67.02</td>\n",
              "      <td>66.44</td>\n",
              "      <td>60.36</td>\n",
              "      <td>44.94</td>\n",
              "      <td>43.38</td>\n",
              "      <td>37.59</td>\n",
              "      <td>25.47</td>\n",
              "      <td>18.53</td>\n",
              "    </tr>\n",
              "    <tr>\n",
              "      <th>AREA</th>\n",
              "      <td>9596.96</td>\n",
              "      <td>3287.26</td>\n",
              "      <td>9833.52</td>\n",
              "      <td>1910.93</td>\n",
              "      <td>8515.77</td>\n",
              "      <td>881.91</td>\n",
              "      <td>923.77</td>\n",
              "      <td>147.57</td>\n",
              "      <td>17098.2</td>\n",
              "      <td>1964.38</td>\n",
              "      <td>377.97</td>\n",
              "      <td>357.11</td>\n",
              "      <td>640.68</td>\n",
              "      <td>242.5</td>\n",
              "      <td>301.34</td>\n",
              "      <td>2780.4</td>\n",
              "      <td>2381.74</td>\n",
              "      <td>9984.67</td>\n",
              "      <td>7692.02</td>\n",
              "      <td>2724.9</td>\n",
              "    </tr>\n",
              "    <tr>\n",
              "      <th>GDP</th>\n",
              "      <td>12234.8</td>\n",
              "      <td>2575.67</td>\n",
              "      <td>19485.4</td>\n",
              "      <td>1015.54</td>\n",
              "      <td>2055.51</td>\n",
              "      <td>302.14</td>\n",
              "      <td>375.77</td>\n",
              "      <td>245.63</td>\n",
              "      <td>1530.75</td>\n",
              "      <td>1158.23</td>\n",
              "      <td>4872.42</td>\n",
              "      <td>3693.2</td>\n",
              "      <td>2582.49</td>\n",
              "      <td>2631.23</td>\n",
              "      <td>1943.84</td>\n",
              "      <td>637.49</td>\n",
              "      <td>167.56</td>\n",
              "      <td>1647.12</td>\n",
              "      <td>1408.68</td>\n",
              "      <td>159.41</td>\n",
              "    </tr>\n",
              "    <tr>\n",
              "      <th>CONT</th>\n",
              "      <td>Asia</td>\n",
              "      <td>Asia</td>\n",
              "      <td>N.America</td>\n",
              "      <td>Asia</td>\n",
              "      <td>S.America</td>\n",
              "      <td>Asia</td>\n",
              "      <td>Africa</td>\n",
              "      <td>Asia</td>\n",
              "      <td>NaN</td>\n",
              "      <td>N.America</td>\n",
              "      <td>Asia</td>\n",
              "      <td>Europe</td>\n",
              "      <td>Europe</td>\n",
              "      <td>Europe</td>\n",
              "      <td>Europe</td>\n",
              "      <td>S.America</td>\n",
              "      <td>Africa</td>\n",
              "      <td>N.America</td>\n",
              "      <td>Oceania</td>\n",
              "      <td>Asia</td>\n",
              "    </tr>\n",
              "    <tr>\n",
              "      <th>IND_DAY</th>\n",
              "      <td>NaN</td>\n",
              "      <td>1947-08-15</td>\n",
              "      <td>1776-07-04</td>\n",
              "      <td>1945-08-17</td>\n",
              "      <td>1822-09-07</td>\n",
              "      <td>1947-08-14</td>\n",
              "      <td>1960-10-01</td>\n",
              "      <td>1971-03-26</td>\n",
              "      <td>1992-06-12</td>\n",
              "      <td>1810-09-16</td>\n",
              "      <td>NaN</td>\n",
              "      <td>NaN</td>\n",
              "      <td>1789-07-14</td>\n",
              "      <td>NaN</td>\n",
              "      <td>NaN</td>\n",
              "      <td>1816-07-09</td>\n",
              "      <td>1962-07-05</td>\n",
              "      <td>1867-07-01</td>\n",
              "      <td>NaN</td>\n",
              "      <td>1991-12-16</td>\n",
              "    </tr>\n",
              "  </tbody>\n",
              "</table>\n",
              "</div>"
            ],
            "text/plain": [
              "             CHN         IND         USA  ...         CAN        AUS         KAZ\n",
              "COUNTRY    China       India          US  ...      Canada  Australia  Kazakhstan\n",
              "POP      1398.72     1351.16      329.74  ...       37.59      25.47       18.53\n",
              "AREA     9596.96     3287.26     9833.52  ...     9984.67    7692.02      2724.9\n",
              "GDP      12234.8     2575.67     19485.4  ...     1647.12    1408.68      159.41\n",
              "CONT        Asia        Asia   N.America  ...   N.America    Oceania        Asia\n",
              "IND_DAY      NaN  1947-08-15  1776-07-04  ...  1867-07-01        NaN  1991-12-16\n",
              "\n",
              "[6 rows x 20 columns]"
            ]
          },
          "metadata": {
            "tags": []
          },
          "execution_count": 15
        }
      ]
    },
    {
      "cell_type": "code",
      "metadata": {
        "colab": {
          "base_uri": "https://localhost:8080/",
          "height": 665
        },
        "id": "sx5CC6QcOG_r",
        "outputId": "96f923e5-eea3-4d06-e95b-175e056a3160"
      },
      "source": [
        "# Much better but , Let's also transpose it. To make it more intuitive. \n",
        "df = pd.DataFrame(contries_data, index=columns).T # Notice, using .T results in transposing the data\n",
        "df"
      ],
      "id": "sx5CC6QcOG_r",
      "execution_count": 16,
      "outputs": [
        {
          "output_type": "execute_result",
          "data": {
            "text/html": [
              "<div>\n",
              "<style scoped>\n",
              "    .dataframe tbody tr th:only-of-type {\n",
              "        vertical-align: middle;\n",
              "    }\n",
              "\n",
              "    .dataframe tbody tr th {\n",
              "        vertical-align: top;\n",
              "    }\n",
              "\n",
              "    .dataframe thead th {\n",
              "        text-align: right;\n",
              "    }\n",
              "</style>\n",
              "<table border=\"1\" class=\"dataframe\">\n",
              "  <thead>\n",
              "    <tr style=\"text-align: right;\">\n",
              "      <th></th>\n",
              "      <th>COUNTRY</th>\n",
              "      <th>POP</th>\n",
              "      <th>AREA</th>\n",
              "      <th>GDP</th>\n",
              "      <th>CONT</th>\n",
              "      <th>IND_DAY</th>\n",
              "    </tr>\n",
              "  </thead>\n",
              "  <tbody>\n",
              "    <tr>\n",
              "      <th>CHN</th>\n",
              "      <td>China</td>\n",
              "      <td>1398.72</td>\n",
              "      <td>9596.96</td>\n",
              "      <td>12234.8</td>\n",
              "      <td>Asia</td>\n",
              "      <td>NaN</td>\n",
              "    </tr>\n",
              "    <tr>\n",
              "      <th>IND</th>\n",
              "      <td>India</td>\n",
              "      <td>1351.16</td>\n",
              "      <td>3287.26</td>\n",
              "      <td>2575.67</td>\n",
              "      <td>Asia</td>\n",
              "      <td>1947-08-15</td>\n",
              "    </tr>\n",
              "    <tr>\n",
              "      <th>USA</th>\n",
              "      <td>US</td>\n",
              "      <td>329.74</td>\n",
              "      <td>9833.52</td>\n",
              "      <td>19485.4</td>\n",
              "      <td>N.America</td>\n",
              "      <td>1776-07-04</td>\n",
              "    </tr>\n",
              "    <tr>\n",
              "      <th>IDN</th>\n",
              "      <td>Indonesia</td>\n",
              "      <td>268.07</td>\n",
              "      <td>1910.93</td>\n",
              "      <td>1015.54</td>\n",
              "      <td>Asia</td>\n",
              "      <td>1945-08-17</td>\n",
              "    </tr>\n",
              "    <tr>\n",
              "      <th>BRA</th>\n",
              "      <td>Brazil</td>\n",
              "      <td>210.32</td>\n",
              "      <td>8515.77</td>\n",
              "      <td>2055.51</td>\n",
              "      <td>S.America</td>\n",
              "      <td>1822-09-07</td>\n",
              "    </tr>\n",
              "    <tr>\n",
              "      <th>PAK</th>\n",
              "      <td>Pakistan</td>\n",
              "      <td>205.71</td>\n",
              "      <td>881.91</td>\n",
              "      <td>302.14</td>\n",
              "      <td>Asia</td>\n",
              "      <td>1947-08-14</td>\n",
              "    </tr>\n",
              "    <tr>\n",
              "      <th>NGA</th>\n",
              "      <td>Nigeria</td>\n",
              "      <td>200.96</td>\n",
              "      <td>923.77</td>\n",
              "      <td>375.77</td>\n",
              "      <td>Africa</td>\n",
              "      <td>1960-10-01</td>\n",
              "    </tr>\n",
              "    <tr>\n",
              "      <th>BGD</th>\n",
              "      <td>Bangladesh</td>\n",
              "      <td>167.09</td>\n",
              "      <td>147.57</td>\n",
              "      <td>245.63</td>\n",
              "      <td>Asia</td>\n",
              "      <td>1971-03-26</td>\n",
              "    </tr>\n",
              "    <tr>\n",
              "      <th>RUS</th>\n",
              "      <td>Russia</td>\n",
              "      <td>146.79</td>\n",
              "      <td>17098.2</td>\n",
              "      <td>1530.75</td>\n",
              "      <td>NaN</td>\n",
              "      <td>1992-06-12</td>\n",
              "    </tr>\n",
              "    <tr>\n",
              "      <th>MEX</th>\n",
              "      <td>Mexico</td>\n",
              "      <td>126.58</td>\n",
              "      <td>1964.38</td>\n",
              "      <td>1158.23</td>\n",
              "      <td>N.America</td>\n",
              "      <td>1810-09-16</td>\n",
              "    </tr>\n",
              "    <tr>\n",
              "      <th>JPN</th>\n",
              "      <td>Japan</td>\n",
              "      <td>126.22</td>\n",
              "      <td>377.97</td>\n",
              "      <td>4872.42</td>\n",
              "      <td>Asia</td>\n",
              "      <td>NaN</td>\n",
              "    </tr>\n",
              "    <tr>\n",
              "      <th>DEU</th>\n",
              "      <td>Germany</td>\n",
              "      <td>83.02</td>\n",
              "      <td>357.11</td>\n",
              "      <td>3693.2</td>\n",
              "      <td>Europe</td>\n",
              "      <td>NaN</td>\n",
              "    </tr>\n",
              "    <tr>\n",
              "      <th>FRA</th>\n",
              "      <td>France</td>\n",
              "      <td>67.02</td>\n",
              "      <td>640.68</td>\n",
              "      <td>2582.49</td>\n",
              "      <td>Europe</td>\n",
              "      <td>1789-07-14</td>\n",
              "    </tr>\n",
              "    <tr>\n",
              "      <th>GBR</th>\n",
              "      <td>UK</td>\n",
              "      <td>66.44</td>\n",
              "      <td>242.5</td>\n",
              "      <td>2631.23</td>\n",
              "      <td>Europe</td>\n",
              "      <td>NaN</td>\n",
              "    </tr>\n",
              "    <tr>\n",
              "      <th>ITA</th>\n",
              "      <td>Italy</td>\n",
              "      <td>60.36</td>\n",
              "      <td>301.34</td>\n",
              "      <td>1943.84</td>\n",
              "      <td>Europe</td>\n",
              "      <td>NaN</td>\n",
              "    </tr>\n",
              "    <tr>\n",
              "      <th>ARG</th>\n",
              "      <td>Argentina</td>\n",
              "      <td>44.94</td>\n",
              "      <td>2780.4</td>\n",
              "      <td>637.49</td>\n",
              "      <td>S.America</td>\n",
              "      <td>1816-07-09</td>\n",
              "    </tr>\n",
              "    <tr>\n",
              "      <th>DZA</th>\n",
              "      <td>Algeria</td>\n",
              "      <td>43.38</td>\n",
              "      <td>2381.74</td>\n",
              "      <td>167.56</td>\n",
              "      <td>Africa</td>\n",
              "      <td>1962-07-05</td>\n",
              "    </tr>\n",
              "    <tr>\n",
              "      <th>CAN</th>\n",
              "      <td>Canada</td>\n",
              "      <td>37.59</td>\n",
              "      <td>9984.67</td>\n",
              "      <td>1647.12</td>\n",
              "      <td>N.America</td>\n",
              "      <td>1867-07-01</td>\n",
              "    </tr>\n",
              "    <tr>\n",
              "      <th>AUS</th>\n",
              "      <td>Australia</td>\n",
              "      <td>25.47</td>\n",
              "      <td>7692.02</td>\n",
              "      <td>1408.68</td>\n",
              "      <td>Oceania</td>\n",
              "      <td>NaN</td>\n",
              "    </tr>\n",
              "    <tr>\n",
              "      <th>KAZ</th>\n",
              "      <td>Kazakhstan</td>\n",
              "      <td>18.53</td>\n",
              "      <td>2724.9</td>\n",
              "      <td>159.41</td>\n",
              "      <td>Asia</td>\n",
              "      <td>1991-12-16</td>\n",
              "    </tr>\n",
              "  </tbody>\n",
              "</table>\n",
              "</div>"
            ],
            "text/plain": [
              "        COUNTRY      POP     AREA      GDP       CONT     IND_DAY\n",
              "CHN       China  1398.72  9596.96  12234.8       Asia         NaN\n",
              "IND       India  1351.16  3287.26  2575.67       Asia  1947-08-15\n",
              "USA          US   329.74  9833.52  19485.4  N.America  1776-07-04\n",
              "IDN   Indonesia   268.07  1910.93  1015.54       Asia  1945-08-17\n",
              "BRA      Brazil   210.32  8515.77  2055.51  S.America  1822-09-07\n",
              "PAK    Pakistan   205.71   881.91   302.14       Asia  1947-08-14\n",
              "NGA     Nigeria   200.96   923.77   375.77     Africa  1960-10-01\n",
              "BGD  Bangladesh   167.09   147.57   245.63       Asia  1971-03-26\n",
              "RUS      Russia   146.79  17098.2  1530.75        NaN  1992-06-12\n",
              "MEX      Mexico   126.58  1964.38  1158.23  N.America  1810-09-16\n",
              "JPN       Japan   126.22   377.97  4872.42       Asia         NaN\n",
              "DEU     Germany    83.02   357.11   3693.2     Europe         NaN\n",
              "FRA      France    67.02   640.68  2582.49     Europe  1789-07-14\n",
              "GBR          UK    66.44    242.5  2631.23     Europe         NaN\n",
              "ITA       Italy    60.36   301.34  1943.84     Europe         NaN\n",
              "ARG   Argentina    44.94   2780.4   637.49  S.America  1816-07-09\n",
              "DZA     Algeria    43.38  2381.74   167.56     Africa  1962-07-05\n",
              "CAN      Canada    37.59  9984.67  1647.12  N.America  1867-07-01\n",
              "AUS   Australia    25.47  7692.02  1408.68    Oceania         NaN\n",
              "KAZ  Kazakhstan    18.53   2724.9   159.41       Asia  1991-12-16"
            ]
          },
          "metadata": {
            "tags": []
          },
          "execution_count": 16
        }
      ]
    },
    {
      "cell_type": "markdown",
      "metadata": {
        "id": "Aj1Zuh94R0Tt"
      },
      "source": [
        "## Using Pandas to convert data in various format types."
      ],
      "id": "Aj1Zuh94R0Tt"
    },
    {
      "cell_type": "markdown",
      "metadata": {
        "id": "wrzW7_DuSFim"
      },
      "source": [
        "### CSV Format type"
      ],
      "id": "wrzW7_DuSFim"
    },
    {
      "cell_type": "markdown",
      "metadata": {
        "id": "Cc72aS7VSL9D"
      },
      "source": [
        "Use ```to_csv('file_name.csv')``` to convert DataFrame in CSV format"
      ],
      "id": "Cc72aS7VSL9D"
    },
    {
      "cell_type": "code",
      "metadata": {
        "id": "zOwsJ7FlOJLj"
      },
      "source": [
        "# Let's convert our contries_data into csv format\n",
        "# our contries data is stored in df variable \n",
        "df.to_csv('contries_data.csv')  # NOTE : we give the filename whatever we like but its extension must be .csv\n",
        "\n",
        "# if you check your colab folder , \n",
        "# you can see contries_data.csv file."
      ],
      "id": "zOwsJ7FlOJLj",
      "execution_count": 17,
      "outputs": []
    },
    {
      "cell_type": "markdown",
      "metadata": {
        "id": "StL2KJ8HSz0v"
      },
      "source": [
        "Use ```pd.read_csv(filename)``` to read csv file.\n",
        "\n",
        "This function returns DataFrame object , so we need to store it in some variable."
      ],
      "id": "StL2KJ8HSz0v"
    },
    {
      "cell_type": "code",
      "metadata": {
        "colab": {
          "base_uri": "https://localhost:8080/",
          "height": 665
        },
        "id": "H43Yw5gbOLe7",
        "outputId": "b2d113fe-33f7-4fe8-fc3b-dc89758d7fcc"
      },
      "source": [
        "df = pd.read_csv('contries_data.csv') # NOTE : Only file with extension .csv can be read. \n",
        "# Now that it returns DataFrame object , we can print it like below\n",
        "df"
      ],
      "id": "H43Yw5gbOLe7",
      "execution_count": 22,
      "outputs": [
        {
          "output_type": "execute_result",
          "data": {
            "text/html": [
              "<div>\n",
              "<style scoped>\n",
              "    .dataframe tbody tr th:only-of-type {\n",
              "        vertical-align: middle;\n",
              "    }\n",
              "\n",
              "    .dataframe tbody tr th {\n",
              "        vertical-align: top;\n",
              "    }\n",
              "\n",
              "    .dataframe thead th {\n",
              "        text-align: right;\n",
              "    }\n",
              "</style>\n",
              "<table border=\"1\" class=\"dataframe\">\n",
              "  <thead>\n",
              "    <tr style=\"text-align: right;\">\n",
              "      <th></th>\n",
              "      <th>Unnamed: 0</th>\n",
              "      <th>COUNTRY</th>\n",
              "      <th>POP</th>\n",
              "      <th>AREA</th>\n",
              "      <th>GDP</th>\n",
              "      <th>CONT</th>\n",
              "      <th>IND_DAY</th>\n",
              "    </tr>\n",
              "  </thead>\n",
              "  <tbody>\n",
              "    <tr>\n",
              "      <th>0</th>\n",
              "      <td>CHN</td>\n",
              "      <td>China</td>\n",
              "      <td>1398.72</td>\n",
              "      <td>9596.96</td>\n",
              "      <td>12234.78</td>\n",
              "      <td>Asia</td>\n",
              "      <td>NaN</td>\n",
              "    </tr>\n",
              "    <tr>\n",
              "      <th>1</th>\n",
              "      <td>IND</td>\n",
              "      <td>India</td>\n",
              "      <td>1351.16</td>\n",
              "      <td>3287.26</td>\n",
              "      <td>2575.67</td>\n",
              "      <td>Asia</td>\n",
              "      <td>1947-08-15</td>\n",
              "    </tr>\n",
              "    <tr>\n",
              "      <th>2</th>\n",
              "      <td>USA</td>\n",
              "      <td>US</td>\n",
              "      <td>329.74</td>\n",
              "      <td>9833.52</td>\n",
              "      <td>19485.39</td>\n",
              "      <td>N.America</td>\n",
              "      <td>1776-07-04</td>\n",
              "    </tr>\n",
              "    <tr>\n",
              "      <th>3</th>\n",
              "      <td>IDN</td>\n",
              "      <td>Indonesia</td>\n",
              "      <td>268.07</td>\n",
              "      <td>1910.93</td>\n",
              "      <td>1015.54</td>\n",
              "      <td>Asia</td>\n",
              "      <td>1945-08-17</td>\n",
              "    </tr>\n",
              "    <tr>\n",
              "      <th>4</th>\n",
              "      <td>BRA</td>\n",
              "      <td>Brazil</td>\n",
              "      <td>210.32</td>\n",
              "      <td>8515.77</td>\n",
              "      <td>2055.51</td>\n",
              "      <td>S.America</td>\n",
              "      <td>1822-09-07</td>\n",
              "    </tr>\n",
              "    <tr>\n",
              "      <th>5</th>\n",
              "      <td>PAK</td>\n",
              "      <td>Pakistan</td>\n",
              "      <td>205.71</td>\n",
              "      <td>881.91</td>\n",
              "      <td>302.14</td>\n",
              "      <td>Asia</td>\n",
              "      <td>1947-08-14</td>\n",
              "    </tr>\n",
              "    <tr>\n",
              "      <th>6</th>\n",
              "      <td>NGA</td>\n",
              "      <td>Nigeria</td>\n",
              "      <td>200.96</td>\n",
              "      <td>923.77</td>\n",
              "      <td>375.77</td>\n",
              "      <td>Africa</td>\n",
              "      <td>1960-10-01</td>\n",
              "    </tr>\n",
              "    <tr>\n",
              "      <th>7</th>\n",
              "      <td>BGD</td>\n",
              "      <td>Bangladesh</td>\n",
              "      <td>167.09</td>\n",
              "      <td>147.57</td>\n",
              "      <td>245.63</td>\n",
              "      <td>Asia</td>\n",
              "      <td>1971-03-26</td>\n",
              "    </tr>\n",
              "    <tr>\n",
              "      <th>8</th>\n",
              "      <td>RUS</td>\n",
              "      <td>Russia</td>\n",
              "      <td>146.79</td>\n",
              "      <td>17098.25</td>\n",
              "      <td>1530.75</td>\n",
              "      <td>NaN</td>\n",
              "      <td>1992-06-12</td>\n",
              "    </tr>\n",
              "    <tr>\n",
              "      <th>9</th>\n",
              "      <td>MEX</td>\n",
              "      <td>Mexico</td>\n",
              "      <td>126.58</td>\n",
              "      <td>1964.38</td>\n",
              "      <td>1158.23</td>\n",
              "      <td>N.America</td>\n",
              "      <td>1810-09-16</td>\n",
              "    </tr>\n",
              "    <tr>\n",
              "      <th>10</th>\n",
              "      <td>JPN</td>\n",
              "      <td>Japan</td>\n",
              "      <td>126.22</td>\n",
              "      <td>377.97</td>\n",
              "      <td>4872.42</td>\n",
              "      <td>Asia</td>\n",
              "      <td>NaN</td>\n",
              "    </tr>\n",
              "    <tr>\n",
              "      <th>11</th>\n",
              "      <td>DEU</td>\n",
              "      <td>Germany</td>\n",
              "      <td>83.02</td>\n",
              "      <td>357.11</td>\n",
              "      <td>3693.20</td>\n",
              "      <td>Europe</td>\n",
              "      <td>NaN</td>\n",
              "    </tr>\n",
              "    <tr>\n",
              "      <th>12</th>\n",
              "      <td>FRA</td>\n",
              "      <td>France</td>\n",
              "      <td>67.02</td>\n",
              "      <td>640.68</td>\n",
              "      <td>2582.49</td>\n",
              "      <td>Europe</td>\n",
              "      <td>1789-07-14</td>\n",
              "    </tr>\n",
              "    <tr>\n",
              "      <th>13</th>\n",
              "      <td>GBR</td>\n",
              "      <td>UK</td>\n",
              "      <td>66.44</td>\n",
              "      <td>242.50</td>\n",
              "      <td>2631.23</td>\n",
              "      <td>Europe</td>\n",
              "      <td>NaN</td>\n",
              "    </tr>\n",
              "    <tr>\n",
              "      <th>14</th>\n",
              "      <td>ITA</td>\n",
              "      <td>Italy</td>\n",
              "      <td>60.36</td>\n",
              "      <td>301.34</td>\n",
              "      <td>1943.84</td>\n",
              "      <td>Europe</td>\n",
              "      <td>NaN</td>\n",
              "    </tr>\n",
              "    <tr>\n",
              "      <th>15</th>\n",
              "      <td>ARG</td>\n",
              "      <td>Argentina</td>\n",
              "      <td>44.94</td>\n",
              "      <td>2780.40</td>\n",
              "      <td>637.49</td>\n",
              "      <td>S.America</td>\n",
              "      <td>1816-07-09</td>\n",
              "    </tr>\n",
              "    <tr>\n",
              "      <th>16</th>\n",
              "      <td>DZA</td>\n",
              "      <td>Algeria</td>\n",
              "      <td>43.38</td>\n",
              "      <td>2381.74</td>\n",
              "      <td>167.56</td>\n",
              "      <td>Africa</td>\n",
              "      <td>1962-07-05</td>\n",
              "    </tr>\n",
              "    <tr>\n",
              "      <th>17</th>\n",
              "      <td>CAN</td>\n",
              "      <td>Canada</td>\n",
              "      <td>37.59</td>\n",
              "      <td>9984.67</td>\n",
              "      <td>1647.12</td>\n",
              "      <td>N.America</td>\n",
              "      <td>1867-07-01</td>\n",
              "    </tr>\n",
              "    <tr>\n",
              "      <th>18</th>\n",
              "      <td>AUS</td>\n",
              "      <td>Australia</td>\n",
              "      <td>25.47</td>\n",
              "      <td>7692.02</td>\n",
              "      <td>1408.68</td>\n",
              "      <td>Oceania</td>\n",
              "      <td>NaN</td>\n",
              "    </tr>\n",
              "    <tr>\n",
              "      <th>19</th>\n",
              "      <td>KAZ</td>\n",
              "      <td>Kazakhstan</td>\n",
              "      <td>18.53</td>\n",
              "      <td>2724.90</td>\n",
              "      <td>159.41</td>\n",
              "      <td>Asia</td>\n",
              "      <td>1991-12-16</td>\n",
              "    </tr>\n",
              "  </tbody>\n",
              "</table>\n",
              "</div>"
            ],
            "text/plain": [
              "   Unnamed: 0     COUNTRY      POP      AREA       GDP       CONT     IND_DAY\n",
              "0         CHN       China  1398.72   9596.96  12234.78       Asia         NaN\n",
              "1         IND       India  1351.16   3287.26   2575.67       Asia  1947-08-15\n",
              "2         USA          US   329.74   9833.52  19485.39  N.America  1776-07-04\n",
              "3         IDN   Indonesia   268.07   1910.93   1015.54       Asia  1945-08-17\n",
              "4         BRA      Brazil   210.32   8515.77   2055.51  S.America  1822-09-07\n",
              "5         PAK    Pakistan   205.71    881.91    302.14       Asia  1947-08-14\n",
              "6         NGA     Nigeria   200.96    923.77    375.77     Africa  1960-10-01\n",
              "7         BGD  Bangladesh   167.09    147.57    245.63       Asia  1971-03-26\n",
              "8         RUS      Russia   146.79  17098.25   1530.75        NaN  1992-06-12\n",
              "9         MEX      Mexico   126.58   1964.38   1158.23  N.America  1810-09-16\n",
              "10        JPN       Japan   126.22    377.97   4872.42       Asia         NaN\n",
              "11        DEU     Germany    83.02    357.11   3693.20     Europe         NaN\n",
              "12        FRA      France    67.02    640.68   2582.49     Europe  1789-07-14\n",
              "13        GBR          UK    66.44    242.50   2631.23     Europe         NaN\n",
              "14        ITA       Italy    60.36    301.34   1943.84     Europe         NaN\n",
              "15        ARG   Argentina    44.94   2780.40    637.49  S.America  1816-07-09\n",
              "16        DZA     Algeria    43.38   2381.74    167.56     Africa  1962-07-05\n",
              "17        CAN      Canada    37.59   9984.67   1647.12  N.America  1867-07-01\n",
              "18        AUS   Australia    25.47   7692.02   1408.68    Oceania         NaN\n",
              "19        KAZ  Kazakhstan    18.53   2724.90    159.41       Asia  1991-12-16"
            ]
          },
          "metadata": {
            "tags": []
          },
          "execution_count": 22
        }
      ]
    },
    {
      "cell_type": "code",
      "metadata": {
        "colab": {
          "base_uri": "https://localhost:8080/",
          "height": 665
        },
        "id": "9ZBg2YwsON8p",
        "outputId": "ebd252c8-5e27-4b96-a646-de3aa8a7d78a"
      },
      "source": [
        "# Let's make column that represents country's abbreviated names as a index column\n",
        "# in read_csv fumction we can give index which represents index\n",
        "# in our case first column represents index , so it's 0th column in DataFrame\n",
        "df = pd.read_csv('contries_data.csv', index_col=0) \n",
        "df"
      ],
      "id": "9ZBg2YwsON8p",
      "execution_count": 26,
      "outputs": [
        {
          "output_type": "execute_result",
          "data": {
            "text/html": [
              "<div>\n",
              "<style scoped>\n",
              "    .dataframe tbody tr th:only-of-type {\n",
              "        vertical-align: middle;\n",
              "    }\n",
              "\n",
              "    .dataframe tbody tr th {\n",
              "        vertical-align: top;\n",
              "    }\n",
              "\n",
              "    .dataframe thead th {\n",
              "        text-align: right;\n",
              "    }\n",
              "</style>\n",
              "<table border=\"1\" class=\"dataframe\">\n",
              "  <thead>\n",
              "    <tr style=\"text-align: right;\">\n",
              "      <th></th>\n",
              "      <th>COUNTRY</th>\n",
              "      <th>POP</th>\n",
              "      <th>AREA</th>\n",
              "      <th>GDP</th>\n",
              "      <th>CONT</th>\n",
              "      <th>IND_DAY</th>\n",
              "    </tr>\n",
              "  </thead>\n",
              "  <tbody>\n",
              "    <tr>\n",
              "      <th>CHN</th>\n",
              "      <td>China</td>\n",
              "      <td>1398.72</td>\n",
              "      <td>9596.96</td>\n",
              "      <td>12234.78</td>\n",
              "      <td>Asia</td>\n",
              "      <td>NaN</td>\n",
              "    </tr>\n",
              "    <tr>\n",
              "      <th>IND</th>\n",
              "      <td>India</td>\n",
              "      <td>1351.16</td>\n",
              "      <td>3287.26</td>\n",
              "      <td>2575.67</td>\n",
              "      <td>Asia</td>\n",
              "      <td>1947-08-15</td>\n",
              "    </tr>\n",
              "    <tr>\n",
              "      <th>USA</th>\n",
              "      <td>US</td>\n",
              "      <td>329.74</td>\n",
              "      <td>9833.52</td>\n",
              "      <td>19485.39</td>\n",
              "      <td>N.America</td>\n",
              "      <td>1776-07-04</td>\n",
              "    </tr>\n",
              "    <tr>\n",
              "      <th>IDN</th>\n",
              "      <td>Indonesia</td>\n",
              "      <td>268.07</td>\n",
              "      <td>1910.93</td>\n",
              "      <td>1015.54</td>\n",
              "      <td>Asia</td>\n",
              "      <td>1945-08-17</td>\n",
              "    </tr>\n",
              "    <tr>\n",
              "      <th>BRA</th>\n",
              "      <td>Brazil</td>\n",
              "      <td>210.32</td>\n",
              "      <td>8515.77</td>\n",
              "      <td>2055.51</td>\n",
              "      <td>S.America</td>\n",
              "      <td>1822-09-07</td>\n",
              "    </tr>\n",
              "    <tr>\n",
              "      <th>PAK</th>\n",
              "      <td>Pakistan</td>\n",
              "      <td>205.71</td>\n",
              "      <td>881.91</td>\n",
              "      <td>302.14</td>\n",
              "      <td>Asia</td>\n",
              "      <td>1947-08-14</td>\n",
              "    </tr>\n",
              "    <tr>\n",
              "      <th>NGA</th>\n",
              "      <td>Nigeria</td>\n",
              "      <td>200.96</td>\n",
              "      <td>923.77</td>\n",
              "      <td>375.77</td>\n",
              "      <td>Africa</td>\n",
              "      <td>1960-10-01</td>\n",
              "    </tr>\n",
              "    <tr>\n",
              "      <th>BGD</th>\n",
              "      <td>Bangladesh</td>\n",
              "      <td>167.09</td>\n",
              "      <td>147.57</td>\n",
              "      <td>245.63</td>\n",
              "      <td>Asia</td>\n",
              "      <td>1971-03-26</td>\n",
              "    </tr>\n",
              "    <tr>\n",
              "      <th>RUS</th>\n",
              "      <td>Russia</td>\n",
              "      <td>146.79</td>\n",
              "      <td>17098.25</td>\n",
              "      <td>1530.75</td>\n",
              "      <td>NaN</td>\n",
              "      <td>1992-06-12</td>\n",
              "    </tr>\n",
              "    <tr>\n",
              "      <th>MEX</th>\n",
              "      <td>Mexico</td>\n",
              "      <td>126.58</td>\n",
              "      <td>1964.38</td>\n",
              "      <td>1158.23</td>\n",
              "      <td>N.America</td>\n",
              "      <td>1810-09-16</td>\n",
              "    </tr>\n",
              "    <tr>\n",
              "      <th>JPN</th>\n",
              "      <td>Japan</td>\n",
              "      <td>126.22</td>\n",
              "      <td>377.97</td>\n",
              "      <td>4872.42</td>\n",
              "      <td>Asia</td>\n",
              "      <td>NaN</td>\n",
              "    </tr>\n",
              "    <tr>\n",
              "      <th>DEU</th>\n",
              "      <td>Germany</td>\n",
              "      <td>83.02</td>\n",
              "      <td>357.11</td>\n",
              "      <td>3693.20</td>\n",
              "      <td>Europe</td>\n",
              "      <td>NaN</td>\n",
              "    </tr>\n",
              "    <tr>\n",
              "      <th>FRA</th>\n",
              "      <td>France</td>\n",
              "      <td>67.02</td>\n",
              "      <td>640.68</td>\n",
              "      <td>2582.49</td>\n",
              "      <td>Europe</td>\n",
              "      <td>1789-07-14</td>\n",
              "    </tr>\n",
              "    <tr>\n",
              "      <th>GBR</th>\n",
              "      <td>UK</td>\n",
              "      <td>66.44</td>\n",
              "      <td>242.50</td>\n",
              "      <td>2631.23</td>\n",
              "      <td>Europe</td>\n",
              "      <td>NaN</td>\n",
              "    </tr>\n",
              "    <tr>\n",
              "      <th>ITA</th>\n",
              "      <td>Italy</td>\n",
              "      <td>60.36</td>\n",
              "      <td>301.34</td>\n",
              "      <td>1943.84</td>\n",
              "      <td>Europe</td>\n",
              "      <td>NaN</td>\n",
              "    </tr>\n",
              "    <tr>\n",
              "      <th>ARG</th>\n",
              "      <td>Argentina</td>\n",
              "      <td>44.94</td>\n",
              "      <td>2780.40</td>\n",
              "      <td>637.49</td>\n",
              "      <td>S.America</td>\n",
              "      <td>1816-07-09</td>\n",
              "    </tr>\n",
              "    <tr>\n",
              "      <th>DZA</th>\n",
              "      <td>Algeria</td>\n",
              "      <td>43.38</td>\n",
              "      <td>2381.74</td>\n",
              "      <td>167.56</td>\n",
              "      <td>Africa</td>\n",
              "      <td>1962-07-05</td>\n",
              "    </tr>\n",
              "    <tr>\n",
              "      <th>CAN</th>\n",
              "      <td>Canada</td>\n",
              "      <td>37.59</td>\n",
              "      <td>9984.67</td>\n",
              "      <td>1647.12</td>\n",
              "      <td>N.America</td>\n",
              "      <td>1867-07-01</td>\n",
              "    </tr>\n",
              "    <tr>\n",
              "      <th>AUS</th>\n",
              "      <td>Australia</td>\n",
              "      <td>25.47</td>\n",
              "      <td>7692.02</td>\n",
              "      <td>1408.68</td>\n",
              "      <td>Oceania</td>\n",
              "      <td>NaN</td>\n",
              "    </tr>\n",
              "    <tr>\n",
              "      <th>KAZ</th>\n",
              "      <td>Kazakhstan</td>\n",
              "      <td>18.53</td>\n",
              "      <td>2724.90</td>\n",
              "      <td>159.41</td>\n",
              "      <td>Asia</td>\n",
              "      <td>1991-12-16</td>\n",
              "    </tr>\n",
              "  </tbody>\n",
              "</table>\n",
              "</div>"
            ],
            "text/plain": [
              "        COUNTRY      POP      AREA       GDP       CONT     IND_DAY\n",
              "CHN       China  1398.72   9596.96  12234.78       Asia         NaN\n",
              "IND       India  1351.16   3287.26   2575.67       Asia  1947-08-15\n",
              "USA          US   329.74   9833.52  19485.39  N.America  1776-07-04\n",
              "IDN   Indonesia   268.07   1910.93   1015.54       Asia  1945-08-17\n",
              "BRA      Brazil   210.32   8515.77   2055.51  S.America  1822-09-07\n",
              "PAK    Pakistan   205.71    881.91    302.14       Asia  1947-08-14\n",
              "NGA     Nigeria   200.96    923.77    375.77     Africa  1960-10-01\n",
              "BGD  Bangladesh   167.09    147.57    245.63       Asia  1971-03-26\n",
              "RUS      Russia   146.79  17098.25   1530.75        NaN  1992-06-12\n",
              "MEX      Mexico   126.58   1964.38   1158.23  N.America  1810-09-16\n",
              "JPN       Japan   126.22    377.97   4872.42       Asia         NaN\n",
              "DEU     Germany    83.02    357.11   3693.20     Europe         NaN\n",
              "FRA      France    67.02    640.68   2582.49     Europe  1789-07-14\n",
              "GBR          UK    66.44    242.50   2631.23     Europe         NaN\n",
              "ITA       Italy    60.36    301.34   1943.84     Europe         NaN\n",
              "ARG   Argentina    44.94   2780.40    637.49  S.America  1816-07-09\n",
              "DZA     Algeria    43.38   2381.74    167.56     Africa  1962-07-05\n",
              "CAN      Canada    37.59   9984.67   1647.12  N.America  1867-07-01\n",
              "AUS   Australia    25.47   7692.02   1408.68    Oceania         NaN\n",
              "KAZ  Kazakhstan    18.53   2724.90    159.41       Asia  1991-12-16"
            ]
          },
          "metadata": {
            "tags": []
          },
          "execution_count": 26
        }
      ]
    },
    {
      "cell_type": "markdown",
      "metadata": {
        "id": "qgFrbm5OWIGK"
      },
      "source": [
        "### Excel format type"
      ],
      "id": "qgFrbm5OWIGK"
    },
    {
      "cell_type": "markdown",
      "metadata": {
        "id": "jRyvbuCuWbOq"
      },
      "source": [
        "To convert to and read from Excel files we need to install some packages. \n",
        "- xlwt\n",
        "- openpyxl\n",
        "- xlswriter\n",
        "- xlrd\n",
        "\n",
        "NOTE : Below cell gives command to install these in one line only\n",
        "\n",
        "We can always install only one package and not others if not required"
      ],
      "id": "jRyvbuCuWbOq"
    },
    {
      "cell_type": "code",
      "metadata": {
        "colab": {
          "base_uri": "https://localhost:8080/"
        },
        "id": "y6YQsYIgOQG_",
        "outputId": "fc358408-d587-4656-a7fe-84d00b6c27e3"
      },
      "source": [
        "pip install xlwt openpyxl xlsxwriter xlrd"
      ],
      "id": "y6YQsYIgOQG_",
      "execution_count": 27,
      "outputs": [
        {
          "output_type": "stream",
          "text": [
            "Requirement already satisfied: xlwt in /usr/local/lib/python3.7/dist-packages (1.3.0)\n",
            "Requirement already satisfied: openpyxl in /usr/local/lib/python3.7/dist-packages (2.5.9)\n",
            "Requirement already satisfied: xlsxwriter in /usr/local/lib/python3.7/dist-packages (1.4.4)\n",
            "Requirement already satisfied: xlrd in /usr/local/lib/python3.7/dist-packages (1.1.0)\n",
            "Requirement already satisfied: jdcal in /usr/local/lib/python3.7/dist-packages (from openpyxl) (1.4.1)\n",
            "Requirement already satisfied: et-xmlfile in /usr/local/lib/python3.7/dist-packages (from openpyxl) (1.1.0)\n"
          ],
          "name": "stdout"
        }
      ]
    },
    {
      "cell_type": "code",
      "metadata": {
        "id": "aWy7RdLJOS8i"
      },
      "source": [
        "df.to_excel('contries_data.xlsx')\n",
        "\n",
        "# We can find this file in our colab folder"
      ],
      "id": "aWy7RdLJOS8i",
      "execution_count": 10,
      "outputs": []
    },
    {
      "cell_type": "code",
      "metadata": {
        "colab": {
          "base_uri": "https://localhost:8080/",
          "height": 665
        },
        "id": "1U0zo8QYOWMB",
        "outputId": "9d263c5b-cebe-4eb8-a979-20df99e518f2"
      },
      "source": [
        "df = pd.read_excel('contries_data.xlsx', index_col=0)\n",
        "df"
      ],
      "id": "1U0zo8QYOWMB",
      "execution_count": 11,
      "outputs": [
        {
          "output_type": "execute_result",
          "data": {
            "text/html": [
              "<div>\n",
              "<style scoped>\n",
              "    .dataframe tbody tr th:only-of-type {\n",
              "        vertical-align: middle;\n",
              "    }\n",
              "\n",
              "    .dataframe tbody tr th {\n",
              "        vertical-align: top;\n",
              "    }\n",
              "\n",
              "    .dataframe thead th {\n",
              "        text-align: right;\n",
              "    }\n",
              "</style>\n",
              "<table border=\"1\" class=\"dataframe\">\n",
              "  <thead>\n",
              "    <tr style=\"text-align: right;\">\n",
              "      <th></th>\n",
              "      <th>COUNTRY</th>\n",
              "      <th>POP</th>\n",
              "      <th>AREA</th>\n",
              "      <th>GDP</th>\n",
              "      <th>CONT</th>\n",
              "      <th>IND_DAY</th>\n",
              "    </tr>\n",
              "  </thead>\n",
              "  <tbody>\n",
              "    <tr>\n",
              "      <th>CHN</th>\n",
              "      <td>China</td>\n",
              "      <td>1398.72</td>\n",
              "      <td>9596.96</td>\n",
              "      <td>12234.78</td>\n",
              "      <td>Asia</td>\n",
              "      <td>NaN</td>\n",
              "    </tr>\n",
              "    <tr>\n",
              "      <th>IND</th>\n",
              "      <td>India</td>\n",
              "      <td>1351.16</td>\n",
              "      <td>3287.26</td>\n",
              "      <td>2575.67</td>\n",
              "      <td>Asia</td>\n",
              "      <td>1947-08-15</td>\n",
              "    </tr>\n",
              "    <tr>\n",
              "      <th>USA</th>\n",
              "      <td>US</td>\n",
              "      <td>329.74</td>\n",
              "      <td>9833.52</td>\n",
              "      <td>19485.39</td>\n",
              "      <td>N.America</td>\n",
              "      <td>1776-07-04</td>\n",
              "    </tr>\n",
              "    <tr>\n",
              "      <th>IDN</th>\n",
              "      <td>Indonesia</td>\n",
              "      <td>268.07</td>\n",
              "      <td>1910.93</td>\n",
              "      <td>1015.54</td>\n",
              "      <td>Asia</td>\n",
              "      <td>1945-08-17</td>\n",
              "    </tr>\n",
              "    <tr>\n",
              "      <th>BRA</th>\n",
              "      <td>Brazil</td>\n",
              "      <td>210.32</td>\n",
              "      <td>8515.77</td>\n",
              "      <td>2055.51</td>\n",
              "      <td>S.America</td>\n",
              "      <td>1822-09-07</td>\n",
              "    </tr>\n",
              "    <tr>\n",
              "      <th>PAK</th>\n",
              "      <td>Pakistan</td>\n",
              "      <td>205.71</td>\n",
              "      <td>881.91</td>\n",
              "      <td>302.14</td>\n",
              "      <td>Asia</td>\n",
              "      <td>1947-08-14</td>\n",
              "    </tr>\n",
              "    <tr>\n",
              "      <th>NGA</th>\n",
              "      <td>Nigeria</td>\n",
              "      <td>200.96</td>\n",
              "      <td>923.77</td>\n",
              "      <td>375.77</td>\n",
              "      <td>Africa</td>\n",
              "      <td>1960-10-01</td>\n",
              "    </tr>\n",
              "    <tr>\n",
              "      <th>BGD</th>\n",
              "      <td>Bangladesh</td>\n",
              "      <td>167.09</td>\n",
              "      <td>147.57</td>\n",
              "      <td>245.63</td>\n",
              "      <td>Asia</td>\n",
              "      <td>1971-03-26</td>\n",
              "    </tr>\n",
              "    <tr>\n",
              "      <th>RUS</th>\n",
              "      <td>Russia</td>\n",
              "      <td>146.79</td>\n",
              "      <td>17098.25</td>\n",
              "      <td>1530.75</td>\n",
              "      <td>NaN</td>\n",
              "      <td>1992-06-12</td>\n",
              "    </tr>\n",
              "    <tr>\n",
              "      <th>MEX</th>\n",
              "      <td>Mexico</td>\n",
              "      <td>126.58</td>\n",
              "      <td>1964.38</td>\n",
              "      <td>1158.23</td>\n",
              "      <td>N.America</td>\n",
              "      <td>1810-09-16</td>\n",
              "    </tr>\n",
              "    <tr>\n",
              "      <th>JPN</th>\n",
              "      <td>Japan</td>\n",
              "      <td>126.22</td>\n",
              "      <td>377.97</td>\n",
              "      <td>4872.42</td>\n",
              "      <td>Asia</td>\n",
              "      <td>NaN</td>\n",
              "    </tr>\n",
              "    <tr>\n",
              "      <th>DEU</th>\n",
              "      <td>Germany</td>\n",
              "      <td>83.02</td>\n",
              "      <td>357.11</td>\n",
              "      <td>3693.20</td>\n",
              "      <td>Europe</td>\n",
              "      <td>NaN</td>\n",
              "    </tr>\n",
              "    <tr>\n",
              "      <th>FRA</th>\n",
              "      <td>France</td>\n",
              "      <td>67.02</td>\n",
              "      <td>640.68</td>\n",
              "      <td>2582.49</td>\n",
              "      <td>Europe</td>\n",
              "      <td>1789-07-14</td>\n",
              "    </tr>\n",
              "    <tr>\n",
              "      <th>GBR</th>\n",
              "      <td>UK</td>\n",
              "      <td>66.44</td>\n",
              "      <td>242.50</td>\n",
              "      <td>2631.23</td>\n",
              "      <td>Europe</td>\n",
              "      <td>NaN</td>\n",
              "    </tr>\n",
              "    <tr>\n",
              "      <th>ITA</th>\n",
              "      <td>Italy</td>\n",
              "      <td>60.36</td>\n",
              "      <td>301.34</td>\n",
              "      <td>1943.84</td>\n",
              "      <td>Europe</td>\n",
              "      <td>NaN</td>\n",
              "    </tr>\n",
              "    <tr>\n",
              "      <th>ARG</th>\n",
              "      <td>Argentina</td>\n",
              "      <td>44.94</td>\n",
              "      <td>2780.40</td>\n",
              "      <td>637.49</td>\n",
              "      <td>S.America</td>\n",
              "      <td>1816-07-09</td>\n",
              "    </tr>\n",
              "    <tr>\n",
              "      <th>DZA</th>\n",
              "      <td>Algeria</td>\n",
              "      <td>43.38</td>\n",
              "      <td>2381.74</td>\n",
              "      <td>167.56</td>\n",
              "      <td>Africa</td>\n",
              "      <td>1962-07-05</td>\n",
              "    </tr>\n",
              "    <tr>\n",
              "      <th>CAN</th>\n",
              "      <td>Canada</td>\n",
              "      <td>37.59</td>\n",
              "      <td>9984.67</td>\n",
              "      <td>1647.12</td>\n",
              "      <td>N.America</td>\n",
              "      <td>1867-07-01</td>\n",
              "    </tr>\n",
              "    <tr>\n",
              "      <th>AUS</th>\n",
              "      <td>Australia</td>\n",
              "      <td>25.47</td>\n",
              "      <td>7692.02</td>\n",
              "      <td>1408.68</td>\n",
              "      <td>Oceania</td>\n",
              "      <td>NaN</td>\n",
              "    </tr>\n",
              "    <tr>\n",
              "      <th>KAZ</th>\n",
              "      <td>Kazakhstan</td>\n",
              "      <td>18.53</td>\n",
              "      <td>2724.90</td>\n",
              "      <td>159.41</td>\n",
              "      <td>Asia</td>\n",
              "      <td>1991-12-16</td>\n",
              "    </tr>\n",
              "  </tbody>\n",
              "</table>\n",
              "</div>"
            ],
            "text/plain": [
              "        COUNTRY      POP      AREA       GDP       CONT     IND_DAY\n",
              "CHN       China  1398.72   9596.96  12234.78       Asia         NaN\n",
              "IND       India  1351.16   3287.26   2575.67       Asia  1947-08-15\n",
              "USA          US   329.74   9833.52  19485.39  N.America  1776-07-04\n",
              "IDN   Indonesia   268.07   1910.93   1015.54       Asia  1945-08-17\n",
              "BRA      Brazil   210.32   8515.77   2055.51  S.America  1822-09-07\n",
              "PAK    Pakistan   205.71    881.91    302.14       Asia  1947-08-14\n",
              "NGA     Nigeria   200.96    923.77    375.77     Africa  1960-10-01\n",
              "BGD  Bangladesh   167.09    147.57    245.63       Asia  1971-03-26\n",
              "RUS      Russia   146.79  17098.25   1530.75        NaN  1992-06-12\n",
              "MEX      Mexico   126.58   1964.38   1158.23  N.America  1810-09-16\n",
              "JPN       Japan   126.22    377.97   4872.42       Asia         NaN\n",
              "DEU     Germany    83.02    357.11   3693.20     Europe         NaN\n",
              "FRA      France    67.02    640.68   2582.49     Europe  1789-07-14\n",
              "GBR          UK    66.44    242.50   2631.23     Europe         NaN\n",
              "ITA       Italy    60.36    301.34   1943.84     Europe         NaN\n",
              "ARG   Argentina    44.94   2780.40    637.49  S.America  1816-07-09\n",
              "DZA     Algeria    43.38   2381.74    167.56     Africa  1962-07-05\n",
              "CAN      Canada    37.59   9984.67   1647.12  N.America  1867-07-01\n",
              "AUS   Australia    25.47   7692.02   1408.68    Oceania         NaN\n",
              "KAZ  Kazakhstan    18.53   2724.90    159.41       Asia  1991-12-16"
            ]
          },
          "metadata": {
            "tags": []
          },
          "execution_count": 11
        }
      ]
    },
    {
      "cell_type": "markdown",
      "metadata": {
        "id": "I_yxsU-SXX9i"
      },
      "source": [
        "### JSON format type"
      ],
      "id": "I_yxsU-SXX9i"
    },
    {
      "cell_type": "code",
      "metadata": {
        "colab": {
          "base_uri": "https://localhost:8080/",
          "height": 665
        },
        "id": "9h4jg6DwOYBI",
        "outputId": "2c698ecb-2d8e-4a8f-e834-5dece43c5018"
      },
      "source": [
        "df_json = df.to_json('contries_data.json')\n",
        "\n",
        "# New jason file will be added in your directory\n",
        "pd.read_json('contries_data.json')"
      ],
      "id": "9h4jg6DwOYBI",
      "execution_count": 12,
      "outputs": [
        {
          "output_type": "execute_result",
          "data": {
            "text/html": [
              "<div>\n",
              "<style scoped>\n",
              "    .dataframe tbody tr th:only-of-type {\n",
              "        vertical-align: middle;\n",
              "    }\n",
              "\n",
              "    .dataframe tbody tr th {\n",
              "        vertical-align: top;\n",
              "    }\n",
              "\n",
              "    .dataframe thead th {\n",
              "        text-align: right;\n",
              "    }\n",
              "</style>\n",
              "<table border=\"1\" class=\"dataframe\">\n",
              "  <thead>\n",
              "    <tr style=\"text-align: right;\">\n",
              "      <th></th>\n",
              "      <th>COUNTRY</th>\n",
              "      <th>POP</th>\n",
              "      <th>AREA</th>\n",
              "      <th>GDP</th>\n",
              "      <th>CONT</th>\n",
              "      <th>IND_DAY</th>\n",
              "    </tr>\n",
              "  </thead>\n",
              "  <tbody>\n",
              "    <tr>\n",
              "      <th>CHN</th>\n",
              "      <td>China</td>\n",
              "      <td>1398.72</td>\n",
              "      <td>9596.96</td>\n",
              "      <td>12234.78</td>\n",
              "      <td>Asia</td>\n",
              "      <td>None</td>\n",
              "    </tr>\n",
              "    <tr>\n",
              "      <th>IND</th>\n",
              "      <td>India</td>\n",
              "      <td>1351.16</td>\n",
              "      <td>3287.26</td>\n",
              "      <td>2575.67</td>\n",
              "      <td>Asia</td>\n",
              "      <td>1947-08-15</td>\n",
              "    </tr>\n",
              "    <tr>\n",
              "      <th>USA</th>\n",
              "      <td>US</td>\n",
              "      <td>329.74</td>\n",
              "      <td>9833.52</td>\n",
              "      <td>19485.39</td>\n",
              "      <td>N.America</td>\n",
              "      <td>1776-07-04</td>\n",
              "    </tr>\n",
              "    <tr>\n",
              "      <th>IDN</th>\n",
              "      <td>Indonesia</td>\n",
              "      <td>268.07</td>\n",
              "      <td>1910.93</td>\n",
              "      <td>1015.54</td>\n",
              "      <td>Asia</td>\n",
              "      <td>1945-08-17</td>\n",
              "    </tr>\n",
              "    <tr>\n",
              "      <th>BRA</th>\n",
              "      <td>Brazil</td>\n",
              "      <td>210.32</td>\n",
              "      <td>8515.77</td>\n",
              "      <td>2055.51</td>\n",
              "      <td>S.America</td>\n",
              "      <td>1822-09-07</td>\n",
              "    </tr>\n",
              "    <tr>\n",
              "      <th>PAK</th>\n",
              "      <td>Pakistan</td>\n",
              "      <td>205.71</td>\n",
              "      <td>881.91</td>\n",
              "      <td>302.14</td>\n",
              "      <td>Asia</td>\n",
              "      <td>1947-08-14</td>\n",
              "    </tr>\n",
              "    <tr>\n",
              "      <th>NGA</th>\n",
              "      <td>Nigeria</td>\n",
              "      <td>200.96</td>\n",
              "      <td>923.77</td>\n",
              "      <td>375.77</td>\n",
              "      <td>Africa</td>\n",
              "      <td>1960-10-01</td>\n",
              "    </tr>\n",
              "    <tr>\n",
              "      <th>BGD</th>\n",
              "      <td>Bangladesh</td>\n",
              "      <td>167.09</td>\n",
              "      <td>147.57</td>\n",
              "      <td>245.63</td>\n",
              "      <td>Asia</td>\n",
              "      <td>1971-03-26</td>\n",
              "    </tr>\n",
              "    <tr>\n",
              "      <th>RUS</th>\n",
              "      <td>Russia</td>\n",
              "      <td>146.79</td>\n",
              "      <td>17098.25</td>\n",
              "      <td>1530.75</td>\n",
              "      <td>None</td>\n",
              "      <td>1992-06-12</td>\n",
              "    </tr>\n",
              "    <tr>\n",
              "      <th>MEX</th>\n",
              "      <td>Mexico</td>\n",
              "      <td>126.58</td>\n",
              "      <td>1964.38</td>\n",
              "      <td>1158.23</td>\n",
              "      <td>N.America</td>\n",
              "      <td>1810-09-16</td>\n",
              "    </tr>\n",
              "    <tr>\n",
              "      <th>JPN</th>\n",
              "      <td>Japan</td>\n",
              "      <td>126.22</td>\n",
              "      <td>377.97</td>\n",
              "      <td>4872.42</td>\n",
              "      <td>Asia</td>\n",
              "      <td>None</td>\n",
              "    </tr>\n",
              "    <tr>\n",
              "      <th>DEU</th>\n",
              "      <td>Germany</td>\n",
              "      <td>83.02</td>\n",
              "      <td>357.11</td>\n",
              "      <td>3693.20</td>\n",
              "      <td>Europe</td>\n",
              "      <td>None</td>\n",
              "    </tr>\n",
              "    <tr>\n",
              "      <th>FRA</th>\n",
              "      <td>France</td>\n",
              "      <td>67.02</td>\n",
              "      <td>640.68</td>\n",
              "      <td>2582.49</td>\n",
              "      <td>Europe</td>\n",
              "      <td>1789-07-14</td>\n",
              "    </tr>\n",
              "    <tr>\n",
              "      <th>GBR</th>\n",
              "      <td>UK</td>\n",
              "      <td>66.44</td>\n",
              "      <td>242.50</td>\n",
              "      <td>2631.23</td>\n",
              "      <td>Europe</td>\n",
              "      <td>None</td>\n",
              "    </tr>\n",
              "    <tr>\n",
              "      <th>ITA</th>\n",
              "      <td>Italy</td>\n",
              "      <td>60.36</td>\n",
              "      <td>301.34</td>\n",
              "      <td>1943.84</td>\n",
              "      <td>Europe</td>\n",
              "      <td>None</td>\n",
              "    </tr>\n",
              "    <tr>\n",
              "      <th>ARG</th>\n",
              "      <td>Argentina</td>\n",
              "      <td>44.94</td>\n",
              "      <td>2780.40</td>\n",
              "      <td>637.49</td>\n",
              "      <td>S.America</td>\n",
              "      <td>1816-07-09</td>\n",
              "    </tr>\n",
              "    <tr>\n",
              "      <th>DZA</th>\n",
              "      <td>Algeria</td>\n",
              "      <td>43.38</td>\n",
              "      <td>2381.74</td>\n",
              "      <td>167.56</td>\n",
              "      <td>Africa</td>\n",
              "      <td>1962-07-05</td>\n",
              "    </tr>\n",
              "    <tr>\n",
              "      <th>CAN</th>\n",
              "      <td>Canada</td>\n",
              "      <td>37.59</td>\n",
              "      <td>9984.67</td>\n",
              "      <td>1647.12</td>\n",
              "      <td>N.America</td>\n",
              "      <td>1867-07-01</td>\n",
              "    </tr>\n",
              "    <tr>\n",
              "      <th>AUS</th>\n",
              "      <td>Australia</td>\n",
              "      <td>25.47</td>\n",
              "      <td>7692.02</td>\n",
              "      <td>1408.68</td>\n",
              "      <td>Oceania</td>\n",
              "      <td>None</td>\n",
              "    </tr>\n",
              "    <tr>\n",
              "      <th>KAZ</th>\n",
              "      <td>Kazakhstan</td>\n",
              "      <td>18.53</td>\n",
              "      <td>2724.90</td>\n",
              "      <td>159.41</td>\n",
              "      <td>Asia</td>\n",
              "      <td>1991-12-16</td>\n",
              "    </tr>\n",
              "  </tbody>\n",
              "</table>\n",
              "</div>"
            ],
            "text/plain": [
              "        COUNTRY      POP      AREA       GDP       CONT     IND_DAY\n",
              "CHN       China  1398.72   9596.96  12234.78       Asia        None\n",
              "IND       India  1351.16   3287.26   2575.67       Asia  1947-08-15\n",
              "USA          US   329.74   9833.52  19485.39  N.America  1776-07-04\n",
              "IDN   Indonesia   268.07   1910.93   1015.54       Asia  1945-08-17\n",
              "BRA      Brazil   210.32   8515.77   2055.51  S.America  1822-09-07\n",
              "PAK    Pakistan   205.71    881.91    302.14       Asia  1947-08-14\n",
              "NGA     Nigeria   200.96    923.77    375.77     Africa  1960-10-01\n",
              "BGD  Bangladesh   167.09    147.57    245.63       Asia  1971-03-26\n",
              "RUS      Russia   146.79  17098.25   1530.75       None  1992-06-12\n",
              "MEX      Mexico   126.58   1964.38   1158.23  N.America  1810-09-16\n",
              "JPN       Japan   126.22    377.97   4872.42       Asia        None\n",
              "DEU     Germany    83.02    357.11   3693.20     Europe        None\n",
              "FRA      France    67.02    640.68   2582.49     Europe  1789-07-14\n",
              "GBR          UK    66.44    242.50   2631.23     Europe        None\n",
              "ITA       Italy    60.36    301.34   1943.84     Europe        None\n",
              "ARG   Argentina    44.94   2780.40    637.49  S.America  1816-07-09\n",
              "DZA     Algeria    43.38   2381.74    167.56     Africa  1962-07-05\n",
              "CAN      Canada    37.59   9984.67   1647.12  N.America  1867-07-01\n",
              "AUS   Australia    25.47   7692.02   1408.68    Oceania        None\n",
              "KAZ  Kazakhstan    18.53   2724.90    159.41       Asia  1991-12-16"
            ]
          },
          "metadata": {
            "tags": []
          },
          "execution_count": 12
        }
      ]
    },
    {
      "cell_type": "markdown",
      "metadata": {
        "id": "lVQVpA1tXwMK"
      },
      "source": [
        "### HTML format type"
      ],
      "id": "lVQVpA1tXwMK"
    },
    {
      "cell_type": "code",
      "metadata": {
        "colab": {
          "base_uri": "https://localhost:8080/"
        },
        "id": "tjQHtkgZOaAu",
        "outputId": "c2b8be4e-f3ef-4e9f-a5bf-e51291122330"
      },
      "source": [
        "df_html = df.to_html('contries_data.html')\n",
        "\n",
        "# New jason file will be added in your directory\n",
        "pd.read_html('contries_data.html')"
      ],
      "id": "tjQHtkgZOaAu",
      "execution_count": 13,
      "outputs": [
        {
          "output_type": "execute_result",
          "data": {
            "text/plain": [
              "[   Unnamed: 0     COUNTRY      POP      AREA       GDP       CONT     IND_DAY\n",
              " 0         CHN       China  1398.72   9596.96  12234.78       Asia         NaN\n",
              " 1         IND       India  1351.16   3287.26   2575.67       Asia  1947-08-15\n",
              " 2         USA          US   329.74   9833.52  19485.39  N.America  1776-07-04\n",
              " 3         IDN   Indonesia   268.07   1910.93   1015.54       Asia  1945-08-17\n",
              " 4         BRA      Brazil   210.32   8515.77   2055.51  S.America  1822-09-07\n",
              " 5         PAK    Pakistan   205.71    881.91    302.14       Asia  1947-08-14\n",
              " 6         NGA     Nigeria   200.96    923.77    375.77     Africa  1960-10-01\n",
              " 7         BGD  Bangladesh   167.09    147.57    245.63       Asia  1971-03-26\n",
              " 8         RUS      Russia   146.79  17098.25   1530.75        NaN  1992-06-12\n",
              " 9         MEX      Mexico   126.58   1964.38   1158.23  N.America  1810-09-16\n",
              " 10        JPN       Japan   126.22    377.97   4872.42       Asia         NaN\n",
              " 11        DEU     Germany    83.02    357.11   3693.20     Europe         NaN\n",
              " 12        FRA      France    67.02    640.68   2582.49     Europe  1789-07-14\n",
              " 13        GBR          UK    66.44    242.50   2631.23     Europe         NaN\n",
              " 14        ITA       Italy    60.36    301.34   1943.84     Europe         NaN\n",
              " 15        ARG   Argentina    44.94   2780.40    637.49  S.America  1816-07-09\n",
              " 16        DZA     Algeria    43.38   2381.74    167.56     Africa  1962-07-05\n",
              " 17        CAN      Canada    37.59   9984.67   1647.12  N.America  1867-07-01\n",
              " 18        AUS   Australia    25.47   7692.02   1408.68    Oceania         NaN\n",
              " 19        KAZ  Kazakhstan    18.53   2724.90    159.41       Asia  1991-12-16]"
            ]
          },
          "metadata": {
            "tags": []
          },
          "execution_count": 13
        }
      ]
    },
    {
      "cell_type": "markdown",
      "metadata": {
        "id": "avydSf6pZhWW"
      },
      "source": [
        "# 6] Write python programs demonstrating different functions for preprocessing the data. \n",
        "---"
      ],
      "id": "avydSf6pZhWW"
    },
    {
      "cell_type": "markdown",
      "metadata": {
        "id": "94m9o-DzaDOv"
      },
      "source": [
        "## NumPy Random"
      ],
      "id": "94m9o-DzaDOv"
    },
    {
      "cell_type": "code",
      "metadata": {
        "id": "ngt_xqhlZ1wf"
      },
      "source": [
        "import numpy as np"
      ],
      "id": "ngt_xqhlZ1wf",
      "execution_count": 28,
      "outputs": []
    },
    {
      "cell_type": "code",
      "metadata": {
        "colab": {
          "base_uri": "https://localhost:8080/"
        },
        "id": "uzVX-3t1aN-g",
        "outputId": "e00487f8-75a8-47db-a5a3-c9627814722b"
      },
      "source": [
        "r1 = np.random.rand()\n",
        "# Returns random float between 0 to 1\n",
        "print(r1)"
      ],
      "id": "uzVX-3t1aN-g",
      "execution_count": 31,
      "outputs": [
        {
          "output_type": "stream",
          "text": [
            "0.27535029647508846\n"
          ],
          "name": "stdout"
        }
      ]
    },
    {
      "cell_type": "code",
      "metadata": {
        "colab": {
          "base_uri": "https://localhost:8080/"
        },
        "id": "XUxNzODYbPXV",
        "outputId": "a691a479-bd5e-494a-dae6-54780f1e2b7b"
      },
      "source": [
        "random_mat = np.random.rand(2, 2)\n",
        "# returns matrix of shape given in argument,\n",
        "# with all the elements having random value between 0 to 1\n",
        "print(random_mat)"
      ],
      "id": "XUxNzODYbPXV",
      "execution_count": 34,
      "outputs": [
        {
          "output_type": "stream",
          "text": [
            "[[0.45837653 0.89238328]\n",
            " [0.35232794 0.55125071]]\n"
          ],
          "name": "stdout"
        }
      ]
    },
    {
      "cell_type": "code",
      "metadata": {
        "colab": {
          "base_uri": "https://localhost:8080/"
        },
        "id": "BK5TvFrhba3e",
        "outputId": "36a0e29e-e0da-43c2-d91f-7ce35c6afd1a"
      },
      "source": [
        "r1 = np.random.randint(11, 20, 20)\n",
        "# In randint function we can give range for the random number\n",
        "# With the last argument we can decide the length of array\n",
        "print(r1)\n",
        "\n",
        "# then we can reshape this array and use it as matrix \n",
        "r1_mat = r1.reshape(5, 4)\n",
        "# NOTE reshape returns matrix of shape we give , it doesn't change r1 it self\n",
        "print('r1 still same :', r1)\n",
        "print('r1_mat :\\n', r1_mat)"
      ],
      "id": "BK5TvFrhba3e",
      "execution_count": 46,
      "outputs": [
        {
          "output_type": "stream",
          "text": [
            "[11 12 11 13 13 15 15 17 18 19 14 17 18 12 13 11 11 13 19 17]\n",
            "r1 still same : [11 12 11 13 13 15 15 17 18 19 14 17 18 12 13 11 11 13 19 17]\n",
            "r1_mat :\n",
            " [[11 12 11 13]\n",
            " [13 15 15 17]\n",
            " [18 19 14 17]\n",
            " [18 12 13 11]\n",
            " [11 13 19 17]]\n"
          ],
          "name": "stdout"
        }
      ]
    },
    {
      "cell_type": "markdown",
      "metadata": {
        "id": "lpPnkLSidY0b"
      },
      "source": [
        "## String Slicing"
      ],
      "id": "lpPnkLSidY0b"
    },
    {
      "cell_type": "code",
      "metadata": {
        "colab": {
          "base_uri": "https://localhost:8080/"
        },
        "id": "xFGiHyQYdbG0",
        "outputId": "c27a6577-f47c-43bb-aa76-0073ede9977a"
      },
      "source": [
        "string_name = 'The Girl With The Dragon Tattoo'\n",
        "print(string_name)"
      ],
      "id": "xFGiHyQYdbG0",
      "execution_count": 47,
      "outputs": [
        {
          "output_type": "stream",
          "text": [
            "The Girl With The Dragon Tattoo\n"
          ],
          "name": "stdout"
        }
      ]
    },
    {
      "cell_type": "code",
      "metadata": {
        "colab": {
          "base_uri": "https://localhost:8080/"
        },
        "id": "xw7giTWXdpHE",
        "outputId": "c70fc14e-431d-4447-e7ad-f342020538c8"
      },
      "source": [
        "# Let's print first 3 characters\n",
        "print(string_name[0:2])\n",
        "# Remeber the index given as a stop argument means \n",
        "# that we need to stop before that index \n",
        "# in our case it will stop after 1st index\n",
        "# Thus, not printing the 2nd index\n",
        "\n",
        "# Let's print first 3 characters properly this time\n",
        "print(string_name[0:3])"
      ],
      "id": "xw7giTWXdpHE",
      "execution_count": 64,
      "outputs": [
        {
          "output_type": "stream",
          "text": [
            "Th\n",
            "The\n"
          ],
          "name": "stdout"
        }
      ]
    },
    {
      "cell_type": "code",
      "metadata": {
        "colab": {
          "base_uri": "https://localhost:8080/"
        },
        "id": "xtXSjJCvgGHy",
        "outputId": "ea4b7960-112e-452e-eee2-7af3b4a95f83"
      },
      "source": [
        "# not giving start argument results as 0th index \n",
        "print(string_name[:3])"
      ],
      "id": "xtXSjJCvgGHy",
      "execution_count": 66,
      "outputs": [
        {
          "output_type": "stream",
          "text": [
            "The\n"
          ],
          "name": "stdout"
        }
      ]
    },
    {
      "cell_type": "code",
      "metadata": {
        "colab": {
          "base_uri": "https://localhost:8080/"
        },
        "id": "ucFz3oFxhhY3",
        "outputId": "3d9770fe-6b06-4f48-978e-3f6e07521cd7"
      },
      "source": [
        "# not giving stop argument results as length of variabl\n",
        "print(string_name[4:])"
      ],
      "id": "ucFz3oFxhhY3",
      "execution_count": 68,
      "outputs": [
        {
          "output_type": "stream",
          "text": [
            "Girl With The Dragon Tattoo\n"
          ],
          "name": "stdout"
        }
      ]
    },
    {
      "cell_type": "code",
      "metadata": {
        "colab": {
          "base_uri": "https://localhost:8080/"
        },
        "id": "tlhcdegOd0AC",
        "outputId": "3479cf0d-9712-44e1-bdf2-4ffda346f902"
      },
      "source": [
        "# Using negative index we can refer indeces counting from last element \n",
        "# last element is (length-1)th index or\n",
        "# it's simply -1 index\n",
        "# Let's print last 6 character\n",
        "print(string_name[-6:])\n",
        "\n",
        "# this prints starting from 6th last index to end of the list"
      ],
      "id": "tlhcdegOd0AC",
      "execution_count": 69,
      "outputs": [
        {
          "output_type": "stream",
          "text": [
            "Tattoo\n"
          ],
          "name": "stdout"
        }
      ]
    },
    {
      "cell_type": "code",
      "metadata": {
        "colab": {
          "base_uri": "https://localhost:8080/"
        },
        "id": "fN0hUdigiSbh",
        "outputId": "0f70513b-baca-4da6-ebc8-35b97c7963a9"
      },
      "source": [
        "# similarly , we can use negative index as stop argument \n",
        "print(string_name[-13:-7])"
      ],
      "id": "fN0hUdigiSbh",
      "execution_count": 71,
      "outputs": [
        {
          "output_type": "stream",
          "text": [
            "Dragon\n"
          ],
          "name": "stdout"
        }
      ]
    },
    {
      "cell_type": "code",
      "metadata": {
        "colab": {
          "base_uri": "https://localhost:8080/"
        },
        "id": "Bwup8tJ7eA3s",
        "outputId": "c80308bc-c209-43bc-838f-9b15ff4266af"
      },
      "source": [
        "# Let's use step argument\n",
        "# It decides how many steps to take\n",
        "# To better understand let's have different example\n",
        "different = 'a b c d e'\n",
        "print(different[::2])\n",
        "# every time it will take 2 steps instead of 1 (1 is default)\n",
        "# this skipping every space in between"
      ],
      "id": "Bwup8tJ7eA3s",
      "execution_count": 75,
      "outputs": [
        {
          "output_type": "stream",
          "text": [
            "abcde\n"
          ],
          "name": "stdout"
        }
      ]
    },
    {
      "cell_type": "code",
      "metadata": {
        "colab": {
          "base_uri": "https://localhost:8080/",
          "height": 185
        },
        "id": "NBh0vxnqebCh",
        "outputId": "bb27c95d-f83e-4bd2-c2b1-afaaa8eb9aad"
      },
      "source": [
        "# We can not pass step size as 0 \n",
        "print(string_name[::0])"
      ],
      "id": "NBh0vxnqebCh",
      "execution_count": 55,
      "outputs": [
        {
          "output_type": "error",
          "ename": "ValueError",
          "evalue": "ignored",
          "traceback": [
            "\u001b[0;31m---------------------------------------------------------------------------\u001b[0m",
            "\u001b[0;31mValueError\u001b[0m                                Traceback (most recent call last)",
            "\u001b[0;32m<ipython-input-55-84fe14138631>\u001b[0m in \u001b[0;36m<module>\u001b[0;34m()\u001b[0m\n\u001b[1;32m      1\u001b[0m \u001b[0;31m# We can not pass step size as 0\u001b[0m\u001b[0;34m\u001b[0m\u001b[0;34m\u001b[0m\u001b[0;34m\u001b[0m\u001b[0m\n\u001b[0;32m----> 2\u001b[0;31m \u001b[0mprint\u001b[0m\u001b[0;34m(\u001b[0m\u001b[0mstring_name\u001b[0m\u001b[0;34m[\u001b[0m\u001b[0;34m:\u001b[0m\u001b[0;34m:\u001b[0m\u001b[0;36m0\u001b[0m\u001b[0;34m]\u001b[0m\u001b[0;34m)\u001b[0m\u001b[0;34m\u001b[0m\u001b[0;34m\u001b[0m\u001b[0m\n\u001b[0m",
            "\u001b[0;31mValueError\u001b[0m: slice step cannot be zero"
          ]
        }
      ]
    },
    {
      "cell_type": "code",
      "metadata": {
        "colab": {
          "base_uri": "https://localhost:8080/"
        },
        "id": "sBQNqtUvfoTq",
        "outputId": "620863b2-ad41-479d-9280-c75a699fa303"
      },
      "source": [
        "# Negative step size means traversing the list / string in reverse order\n",
        "name = '123456789'\n",
        "print(name[::-1])"
      ],
      "id": "sBQNqtUvfoTq",
      "execution_count": 76,
      "outputs": [
        {
          "output_type": "stream",
          "text": [
            "987654321\n"
          ],
          "name": "stdout"
        }
      ]
    },
    {
      "cell_type": "code",
      "metadata": {
        "colab": {
          "base_uri": "https://localhost:8080/"
        },
        "id": "vf6gTQnNjoBH",
        "outputId": "58e9e0b9-4abd-45b6-8d7f-10754592f79b"
      },
      "source": [
        "# We can have negative index size bigger than 1 , \n",
        "# which will result in taking more than 1 step in reverse order\n",
        "diff = 'a b_c d e_f g'\n",
        "print(diff[::-3])"
      ],
      "id": "vf6gTQnNjoBH",
      "execution_count": 79,
      "outputs": [
        {
          "output_type": "stream",
          "text": [
            "g_d_a\n"
          ],
          "name": "stdout"
        }
      ]
    },
    {
      "cell_type": "markdown",
      "metadata": {
        "id": "Ycw8Y6hkkrd2"
      },
      "source": [
        "## String print format"
      ],
      "id": "Ycw8Y6hkkrd2"
    },
    {
      "cell_type": "code",
      "metadata": {
        "colab": {
          "base_uri": "https://localhost:8080/"
        },
        "id": "TzmF1TxhkAlW",
        "outputId": "4e776791-2b3d-4475-877c-ae3072c0712c"
      },
      "source": [
        "text = 'This is {}'\n",
        "print(text.format('formatting'))\n",
        "# format function replaces '{}' (braces) with the string given as an argument\n",
        "# and returns new string.\n",
        "# meaning it does not change string itself.\n",
        "print(text)"
      ],
      "id": "TzmF1TxhkAlW",
      "execution_count": 84,
      "outputs": [
        {
          "output_type": "stream",
          "text": [
            "This is formatting\n",
            "This is {}\n"
          ],
          "name": "stdout"
        }
      ]
    },
    {
      "cell_type": "code",
      "metadata": {
        "colab": {
          "base_uri": "https://localhost:8080/"
        },
        "id": "DtMK8DOulBor",
        "outputId": "9bca1327-ed9b-41a8-dc34-ed65fbf0cb9f"
      },
      "source": [
        "# as it returns string , we can store it in some variable\n",
        "formatted_name = text.format('America')\n",
        "print(formatted_name)"
      ],
      "id": "DtMK8DOulBor",
      "execution_count": 85,
      "outputs": [
        {
          "output_type": "stream",
          "text": [
            "This is America\n"
          ],
          "name": "stdout"
        }
      ]
    },
    {
      "cell_type": "code",
      "metadata": {
        "colab": {
          "base_uri": "https://localhost:8080/"
        },
        "id": "1gbzHJITlwYl",
        "outputId": "11e1d656-9675-4eef-badd-61d58ce85c7b"
      },
      "source": [
        "# Multiple formatting \n",
        "other_text = 'Hello, My name is {}.\\nI am {}'\n",
        "formatted_text = other_text.format('Zoozzy', 'ROBOT')\n",
        "print(formatted_text)\n",
        "\n",
        "# Note : arguments are postitional , \n",
        "# first argument replaces first braces and so on ...."
      ],
      "id": "1gbzHJITlwYl",
      "execution_count": 92,
      "outputs": [
        {
          "output_type": "stream",
          "text": [
            "Hello, My name is Zoozzy.\n",
            "I am ROBOT\n"
          ],
          "name": "stdout"
        }
      ]
    },
    {
      "cell_type": "code",
      "metadata": {
        "colab": {
          "base_uri": "https://localhost:8080/",
          "height": 185
        },
        "id": "5wP25TlGmdBt",
        "outputId": "07b1b8f6-0b30-4935-9284-f2dbe81061c2"
      },
      "source": [
        "# Not providing argument results in error\n",
        "print(other_text.format('Ajay'))"
      ],
      "id": "5wP25TlGmdBt",
      "execution_count": 93,
      "outputs": [
        {
          "output_type": "error",
          "ename": "IndexError",
          "evalue": "ignored",
          "traceback": [
            "\u001b[0;31m---------------------------------------------------------------------------\u001b[0m",
            "\u001b[0;31mIndexError\u001b[0m                                Traceback (most recent call last)",
            "\u001b[0;32m<ipython-input-93-63e5bd2463f5>\u001b[0m in \u001b[0;36m<module>\u001b[0;34m()\u001b[0m\n\u001b[1;32m      1\u001b[0m \u001b[0;31m# Not providing argument results in error\u001b[0m\u001b[0;34m\u001b[0m\u001b[0;34m\u001b[0m\u001b[0;34m\u001b[0m\u001b[0m\n\u001b[0;32m----> 2\u001b[0;31m \u001b[0mprint\u001b[0m\u001b[0;34m(\u001b[0m\u001b[0mother_text\u001b[0m\u001b[0;34m.\u001b[0m\u001b[0mformat\u001b[0m\u001b[0;34m(\u001b[0m\u001b[0;34m'Ajay'\u001b[0m\u001b[0;34m)\u001b[0m\u001b[0;34m)\u001b[0m\u001b[0;34m\u001b[0m\u001b[0;34m\u001b[0m\u001b[0m\n\u001b[0m",
            "\u001b[0;31mIndexError\u001b[0m: tuple index out of range"
          ]
        }
      ]
    },
    {
      "cell_type": "code",
      "metadata": {
        "colab": {
          "base_uri": "https://localhost:8080/"
        },
        "id": "1ojJFJWznFH0",
        "outputId": "5ea6a1b4-5f5d-48bf-dda7-7b54e95c5193"
      },
      "source": [
        "# We can specify order of parameters \n",
        "param_text = 'Last name : {2}, second name : {1}, first name : {0}'\n",
        "print(param_text.format('ajay', 'k.', 'Pathak'))\n",
        "\n",
        "# here, format takes 0th index of tuple we gave and \n",
        "# replaces it with the braces having 0 in it (i.e, {0}), so on for others too."
      ],
      "id": "1ojJFJWznFH0",
      "execution_count": 98,
      "outputs": [
        {
          "output_type": "stream",
          "text": [
            "Last name : Pathak, second name : k., first name : ajay\n"
          ],
          "name": "stdout"
        }
      ]
    },
    {
      "cell_type": "code",
      "metadata": {
        "colab": {
          "base_uri": "https://localhost:8080/"
        },
        "id": "hl-LqTKBn3dS",
        "outputId": "5f87f963-675b-4d97-e46e-fbae2d2ce5ff"
      },
      "source": [
        "# instead of numbers we can provide strings\n",
        "full_name = 'i am {first_name} from {country} , {state}'\n",
        "print(full_name.format(first_name='Ajay', state='Gujarat', country='India'))\n",
        "\n",
        "# see, It replaces all the arguments with appropiate strings."
      ],
      "id": "hl-LqTKBn3dS",
      "execution_count": 102,
      "outputs": [
        {
          "output_type": "stream",
          "text": [
            "i am Ajay from India , Gujarat\n"
          ],
          "name": "stdout"
        }
      ]
    },
    {
      "cell_type": "markdown",
      "metadata": {
        "id": "diHX1sDSpu5Q"
      },
      "source": [
        "## formatting decimal values"
      ],
      "id": "diHX1sDSpu5Q"
    },
    {
      "cell_type": "code",
      "metadata": {
        "colab": {
          "base_uri": "https://localhost:8080/"
        },
        "id": "Rm-PpT6hpE1Q",
        "outputId": "ab1494d1-da62-417b-91e6-ac8a237ab608"
      },
      "source": [
        "value = '1234.5678'\n",
        "print(value)"
      ],
      "id": "Rm-PpT6hpE1Q",
      "execution_count": 103,
      "outputs": [
        {
          "output_type": "stream",
          "text": [
            "1234.5678\n"
          ],
          "name": "stdout"
        }
      ]
    },
    {
      "cell_type": "code",
      "metadata": {
        "id": "5qu-jDEBp97Y"
      },
      "source": [
        "print('{v:4.7}'.format(v=value))"
      ],
      "id": "5qu-jDEBp97Y",
      "execution_count": null,
      "outputs": []
    },
    {
      "cell_type": "code",
      "metadata": {
        "id": "DCz-B52tqJQT"
      },
      "source": [
        ""
      ],
      "id": "DCz-B52tqJQT",
      "execution_count": null,
      "outputs": []
    }
  ]
}