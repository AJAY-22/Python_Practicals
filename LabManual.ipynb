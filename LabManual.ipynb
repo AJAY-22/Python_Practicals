{
  "nbformat": 4,
  "nbformat_minor": 5,
  "metadata": {
    "colab": {
      "name": "LabManual.ipynb",
      "provenance": [],
      "collapsed_sections": [],
      "include_colab_link": true
    },
    "kernelspec": {
      "display_name": "Python 3",
      "language": "python",
      "name": "python3"
    },
    "language_info": {
      "codemirror_mode": {
        "name": "ipython",
        "version": 3
      },
      "file_extension": ".py",
      "mimetype": "text/x-python",
      "name": "python",
      "nbconvert_exporter": "python",
      "pygments_lexer": "ipython3",
      "version": "3.8.8"
    }
  },
  "cells": [
    {
      "cell_type": "markdown",
      "metadata": {
        "id": "view-in-github",
        "colab_type": "text"
      },
      "source": [
        "<a href=\"https://colab.research.google.com/github/AJAY-22/Python_Practicals/blob/main/LabManual.ipynb\" target=\"_parent\"><img src=\"https://colab.research.google.com/assets/colab-badge.svg\" alt=\"Open In Colab\"/></a>"
      ]
    },
    {
      "cell_type": "markdown",
      "metadata": {
        "id": "e901a282"
      },
      "source": [
        "# 1] Intro to Data Types, Operations and conditional statements.\n",
        "---\n"
      ],
      "id": "e901a282"
    },
    {
      "cell_type": "code",
      "metadata": {
        "id": "wjSDc_A4Cmxb",
        "colab": {
          "base_uri": "https://localhost:8080/"
        },
        "outputId": "61e202e5-ae88-4b5e-d00e-b130cb72cd86"
      },
      "source": [
        "from google.colab import drive\n",
        "drive.mount('/content/drive')"
      ],
      "id": "wjSDc_A4Cmxb",
      "execution_count": null,
      "outputs": [
        {
          "output_type": "stream",
          "name": "stdout",
          "text": [
            "Mounted at /content/drive\n"
          ]
        }
      ]
    },
    {
      "cell_type": "markdown",
      "metadata": {
        "id": "641de9d5"
      },
      "source": [
        "## 1.1] Write aprogram to print “Hello World”."
      ],
      "id": "641de9d5"
    },
    {
      "cell_type": "code",
      "metadata": {
        "colab": {
          "base_uri": "https://localhost:8080/"
        },
        "id": "fc75f6d8",
        "outputId": "1ced7678-fa16-41ca-8abe-57bd72640670"
      },
      "source": [
        "# --------------------------------------------\n",
        "print('Program done by : Ajay Pathak\\n' +\n",
        "      'Enrollment No.: 190630107170\\n' +\n",
        "      '=================================\\n\\n\\n')\n",
        "\n",
        "print(\"Hello World\")"
      ],
      "id": "fc75f6d8",
      "execution_count": 1,
      "outputs": [
        {
          "output_type": "stream",
          "name": "stdout",
          "text": [
            "Program done by : Ajay Pathak\n",
            "Enrollment No.: 190630107170\n",
            "=================================\n",
            "\n",
            "\n",
            "\n",
            "Hello World\n"
          ]
        }
      ]
    },
    {
      "cell_type": "markdown",
      "metadata": {
        "id": "04b58e0f"
      },
      "source": [
        "## 1.2] Write a program to find maximum number out of 3 numbers.\n"
      ],
      "id": "04b58e0f"
    },
    {
      "cell_type": "code",
      "metadata": {
        "colab": {
          "base_uri": "https://localhost:8080/"
        },
        "id": "67ec5304",
        "outputId": "3c13b55b-5e46-4a36-be38-991384af23fb"
      },
      "source": [
        "# --------------------------------------------\n",
        "print('Program done by : Ajay Pathak\\n' +\n",
        "      'Enrollment No.: 190630107170\\n' +\n",
        "      '=================================\\n\\n\\n')\n",
        "\n",
        "numbers=[11, 34, 5]\n",
        "\n",
        "'''For user input'''\n",
        "for x in range(len(numbers)):\n",
        "    inp = float(input(f'Enter #{x+1} '))\n",
        "    numbers[x] = inp\n",
        "\n",
        "maximum=numbers[0]\n",
        "\n",
        "for x in numbers:\n",
        "    if maximum<x:\n",
        "        maximum=x\n",
        "\n",
        "print(\"Max number is :\" ,maximum)"
      ],
      "id": "67ec5304",
      "execution_count": 2,
      "outputs": [
        {
          "output_type": "stream",
          "name": "stdout",
          "text": [
            "Program done by : Ajay Pathak\n",
            "Enrollment No.: 190630107170\n",
            "=================================\n",
            "\n",
            "\n",
            "\n",
            "Enter #1 33\n",
            "Enter #2 10\n",
            "Enter #3 24\n",
            "Max number is : 33.0\n"
          ]
        }
      ]
    },
    {
      "cell_type": "markdown",
      "metadata": {
        "id": "Gi4fLTOyTPSN"
      },
      "source": [
        "## 1.3] Write a program to swap the values of two variables without using temporary variable."
      ],
      "id": "Gi4fLTOyTPSN"
    },
    {
      "cell_type": "code",
      "metadata": {
        "colab": {
          "base_uri": "https://localhost:8080/"
        },
        "id": "Y5bF4wYfTOO2",
        "outputId": "06fb48e8-e71c-4bf2-b9ba-6a6285451905"
      },
      "source": [
        "# --------------------------------------------\n",
        "print('Program done by : Ajay Pathak\\n' +\n",
        "      'Enrollment No.: 190630107170\\n' +\n",
        "      '=================================\\n\\n\\n')\n",
        "\n",
        "\n",
        "a, b = 1, 2\n",
        "print('Before swapping \\na :', a, '\\nb :', b)\n",
        "a, b = b, a\n",
        "print('\\nAfter swapping \\na :', a, '\\nb :', b)"
      ],
      "id": "Y5bF4wYfTOO2",
      "execution_count": 3,
      "outputs": [
        {
          "output_type": "stream",
          "name": "stdout",
          "text": [
            "Program done by : Ajay Pathak\n",
            "Enrollment No.: 190630107170\n",
            "=================================\n",
            "\n",
            "\n",
            "\n",
            "Before swapping \n",
            "a : 1 \n",
            "b : 2\n",
            "\n",
            "After swapping \n",
            "a : 2 \n",
            "b : 1\n"
          ]
        }
      ]
    },
    {
      "cell_type": "markdown",
      "metadata": {
        "id": "V2vGfao0U27G"
      },
      "source": [
        "## 1.4] Write a program to implement calculator."
      ],
      "id": "V2vGfao0U27G"
    },
    {
      "cell_type": "code",
      "metadata": {
        "id": "52XUuYd3U-1G",
        "colab": {
          "base_uri": "https://localhost:8080/"
        },
        "outputId": "63a82698-3e4c-4af0-d172-fd7d860766fa"
      },
      "source": [
        "# --------------------------------------------\n",
        "print('Program done by : Ajay Pathak\\n' +\n",
        "      'Enrollment No.: 190630107170\\n' +\n",
        "      '=================================\\n\\n\\n')\n",
        "\n",
        "\n",
        "while True:\n",
        "    print('1) Add\\n2) Subtract\\n3) Multiply\\n4) Divide\\n5) Exit')\n",
        "    choice = int(input('Enter your choice '))\n",
        "    \n",
        "    \n",
        "    if choice in [1, 2, 3, 4]:\n",
        "        if choice is 1:\n",
        "            print('ADDITION\\n')\n",
        "            a = int(input('Enter number '))\n",
        "            b = int(input('Enter number '))\n",
        "            print(a, '+', b, '=', a+b)\n",
        "        \n",
        "        if choice is 2:\n",
        "            print('SUBTRACTION\\n')\n",
        "            a = int(input('Enter number '))\n",
        "            b = int(input('Enter number '))\n",
        "            print(a, '-', b, '=', a-b)\n",
        "\n",
        "        if choice is 3:\n",
        "            print('MULTIPLICATION\\n')\n",
        "            a = int(input('Enter number '))\n",
        "            b = int(input('Enter number '))\n",
        "            print(a, '*', b, '=', a*b)\n",
        "        \n",
        "        if choice is 4:\n",
        "            print('DIVISION\\n')\n",
        "            a = int(input('Enter number '))\n",
        "            b = int(input('Enter number '))\n",
        "            print(a, '/', b, '=', a/b)\n",
        "\n",
        "    elif choice is 5:\n",
        "        break\n",
        "    else:\n",
        "        print('Invalid Input\\n')"
      ],
      "id": "52XUuYd3U-1G",
      "execution_count": 4,
      "outputs": [
        {
          "name": "stdout",
          "output_type": "stream",
          "text": [
            "Program done by : Ajay Pathak\n",
            "Enrollment No.: 190630107170\n",
            "=================================\n",
            "\n",
            "\n",
            "\n",
            "1) Add\n",
            "2) Subtract\n",
            "3) Multiply\n",
            "4) Divide\n",
            "5) Exit\n",
            "Enter your choice 1\n",
            "ADDITION\n",
            "\n",
            "Enter number 22\n",
            "Enter number 16\n",
            "22 + 16 = 38\n",
            "1) Add\n",
            "2) Subtract\n",
            "3) Multiply\n",
            "4) Divide\n",
            "5) Exit\n",
            "Enter your choice 2\n",
            "SUBTRACTION\n",
            "\n",
            "Enter number 20\n",
            "Enter number 1\n",
            "20 - 1 = 19\n",
            "1) Add\n",
            "2) Subtract\n",
            "3) Multiply\n",
            "4) Divide\n",
            "5) Exit\n",
            "Enter your choice 3\n",
            "MULTIPLICATION\n",
            "\n",
            "Enter number 4\n",
            "Enter number 5\n",
            "4 * 5 = 20\n",
            "1) Add\n",
            "2) Subtract\n",
            "3) Multiply\n",
            "4) Divide\n",
            "5) Exit\n",
            "Enter your choice 4\n",
            "DIVISION\n",
            "\n",
            "Enter number 10\n",
            "Enter number 2\n",
            "10 / 2 = 5.0\n",
            "1) Add\n",
            "2) Subtract\n",
            "3) Multiply\n",
            "4) Divide\n",
            "5) Exit\n",
            "Enter your choice 5\n"
          ]
        }
      ]
    },
    {
      "cell_type": "markdown",
      "metadata": {
        "id": "0e25ad7a"
      },
      "source": [
        "## 1.5] Write a Python program to calculate the sum of the digits in an integer."
      ],
      "id": "0e25ad7a"
    },
    {
      "cell_type": "code",
      "metadata": {
        "colab": {
          "base_uri": "https://localhost:8080/"
        },
        "id": "4255e276",
        "outputId": "2181cce4-9561-409f-853c-76fa933361ea"
      },
      "source": [
        "# --------------------------------------------\n",
        "print('Program done by : Ajay Pathak\\n' +\n",
        "      'Enrollment No.: 190630107170\\n' +\n",
        "      '=================================\\n\\n\\n')\n",
        "\n",
        "\n",
        "num = int(input(\"Your number (must be 4 digit) : \"))\n",
        "x = num//1000\n",
        "x1 = (num - x*1000)//100\n",
        "x2 = (num - x*1000 - x1*100)//10\n",
        "x3 = (num - x*1000 - x1*100 - x2*10)\n",
        "\n",
        "print(f'sum of number\\'s digits : {x+x1+x2+x3}')"
      ],
      "id": "4255e276",
      "execution_count": 5,
      "outputs": [
        {
          "output_type": "stream",
          "name": "stdout",
          "text": [
            "Program done by : Ajay Pathak\n",
            "Enrollment No.: 190630107170\n",
            "=================================\n",
            "\n",
            "\n",
            "\n",
            "Your number (must be 4 digit) : 5476\n",
            "sum of number's digits : 22\n"
          ]
        }
      ]
    },
    {
      "cell_type": "markdown",
      "metadata": {
        "id": "mb9Hk5VEH3es"
      },
      "source": [
        "# 2] Introduction to Control Structures and Functions\n",
        "---"
      ],
      "id": "mb9Hk5VEH3es"
    },
    {
      "cell_type": "markdown",
      "metadata": {
        "id": "36yjufR5H7aJ"
      },
      "source": [
        "## 2.1] Write  a  program  to  find factorial  of  a  given  number  using  iterative  and recursive function."
      ],
      "id": "36yjufR5H7aJ"
    },
    {
      "cell_type": "markdown",
      "metadata": {
        "id": "uflJzvqHXG23"
      },
      "source": [
        "### 2.1.1] Iterative method to find factorial of given number."
      ],
      "id": "uflJzvqHXG23"
    },
    {
      "cell_type": "code",
      "metadata": {
        "colab": {
          "base_uri": "https://localhost:8080/"
        },
        "id": "PR70anV1IsLo",
        "outputId": "7bf6e8a2-126a-45c3-b4bb-575cf3c67504"
      },
      "source": [
        "# --------------------------------------------\n",
        "print('Program done by : Ajay Pathak\\n' +\n",
        "      'Enrollment No.: 190630107170\\n' +\n",
        "      '=================================\\n\\n\\n')\n",
        "\n",
        "\n",
        "n=int(input(\"Enter Number : \"))\n",
        "fact=1\n",
        "\n",
        "while(n>0):\n",
        "  fact*=n\n",
        "  n-=1\n",
        "\n",
        "print(fact)"
      ],
      "id": "PR70anV1IsLo",
      "execution_count": 6,
      "outputs": [
        {
          "output_type": "stream",
          "name": "stdout",
          "text": [
            "Program done by : Ajay Pathak\n",
            "Enrollment No.: 190630107170\n",
            "=================================\n",
            "\n",
            "\n",
            "\n",
            "Enter Number : 5\n",
            "120\n"
          ]
        }
      ]
    },
    {
      "cell_type": "markdown",
      "metadata": {
        "id": "bzN_7QyVXSRn"
      },
      "source": [
        "### 2.1.2] Recursive method to find factorial of given number."
      ],
      "id": "bzN_7QyVXSRn"
    },
    {
      "cell_type": "code",
      "metadata": {
        "colab": {
          "base_uri": "https://localhost:8080/"
        },
        "id": "c6Xu2WnaXa_u",
        "outputId": "0f8e53dd-1381-4077-f863-536bff04c979"
      },
      "source": [
        "# --------------------------------------------\n",
        "print('Program done by : Ajay Pathak\\n' +\n",
        "      'Enrollment No.: 190630107170\\n' +\n",
        "      '=================================\\n\\n\\n')\n",
        "\n",
        "\n",
        "n=int(input('Enter number : '))\n",
        "\n",
        "def find_fac(num):\n",
        "  if num==0:\n",
        "    return 1\n",
        "  else:\n",
        "    return num*find_fac(num-1)\n",
        "\n",
        "print(find_fac(n))"
      ],
      "id": "c6Xu2WnaXa_u",
      "execution_count": 7,
      "outputs": [
        {
          "output_type": "stream",
          "name": "stdout",
          "text": [
            "Program done by : Ajay Pathak\n",
            "Enrollment No.: 190630107170\n",
            "=================================\n",
            "\n",
            "\n",
            "\n",
            "Enter number : 5\n",
            "120\n"
          ]
        }
      ]
    },
    {
      "cell_type": "markdown",
      "metadata": {
        "id": "PvslmRI5H7NN"
      },
      "source": [
        "## 2.2] Write a program to check whether a given number is prime or not."
      ],
      "id": "PvslmRI5H7NN"
    },
    {
      "cell_type": "code",
      "metadata": {
        "colab": {
          "base_uri": "https://localhost:8080/"
        },
        "id": "gS2xkq9EX6R_",
        "outputId": "40740e00-9c5d-4b0f-935c-3fabd512b988"
      },
      "source": [
        "# --------------------------------------------\n",
        "print('Program done by : Ajay Pathak\\n' +\n",
        "      'Enrollment No.: 190630107170\\n' +\n",
        "      '=================================\\n\\n\\n')\n",
        "\n",
        "\n",
        "n=int(input('Enter Number :'))\n",
        "\n",
        "def is_prime(num):\n",
        "  flag=0\n",
        "  for x in range(1, num+1):\n",
        "    if num%x==0:\n",
        "      flag+=1\n",
        "\n",
        "  if flag==2:\n",
        "    print(num, 'is Prime')\n",
        "  else:\n",
        "    print(num, 'is not prime')\n",
        "\n",
        "is_prime(n)\n"
      ],
      "id": "gS2xkq9EX6R_",
      "execution_count": 8,
      "outputs": [
        {
          "output_type": "stream",
          "name": "stdout",
          "text": [
            "Program done by : Ajay Pathak\n",
            "Enrollment No.: 190630107170\n",
            "=================================\n",
            "\n",
            "\n",
            "\n",
            "Enter Number :5\n",
            "5 is Prime\n"
          ]
        }
      ]
    },
    {
      "cell_type": "markdown",
      "metadata": {
        "id": "F9Qzw33rH7CN"
      },
      "source": [
        "## 2.3] Write a program to print Fibonacci series upto n. "
      ],
      "id": "F9Qzw33rH7CN"
    },
    {
      "cell_type": "code",
      "metadata": {
        "id": "F6LAyLh8ZBqW",
        "colab": {
          "base_uri": "https://localhost:8080/"
        },
        "outputId": "c1569c64-1744-49ec-e9e7-18fce47f0ca9"
      },
      "source": [
        "# --------------------------------------------\n",
        "print('Program done by : Ajay Pathak\\n' +\n",
        "      'Enrollment No.: 190630107170\\n' +\n",
        "      '=================================\\n\\n\\n')\n",
        "\n",
        "\n",
        "n = int(input(\"How many terms? \"))\n",
        "\n",
        "a, b = 0, 1\n",
        "count = 0\n",
        "\n",
        "if n <= 0:\n",
        "   print(\"Please enter a positive integer\")\n",
        "elif n == 1:\n",
        "   print(a)\n",
        "else:\n",
        "   while count < n:\n",
        "       print(a)\n",
        "       c = a + b\n",
        "       a = b\n",
        "       b = c\n",
        "       count += 1"
      ],
      "id": "F6LAyLh8ZBqW",
      "execution_count": 9,
      "outputs": [
        {
          "output_type": "stream",
          "name": "stdout",
          "text": [
            "Program done by : Ajay Pathak\n",
            "Enrollment No.: 190630107170\n",
            "=================================\n",
            "\n",
            "\n",
            "\n",
            "How many terms? 5\n",
            "0\n",
            "1\n",
            "1\n",
            "2\n",
            "3\n"
          ]
        }
      ]
    },
    {
      "cell_type": "markdown",
      "metadata": {
        "id": "W8eMsjfLH5T5"
      },
      "source": [
        "## 2.4] Write a program which takes a sentence from user and calculates number of digits, letters, uppercase letters, lowercase letter and spaces in sentence."
      ],
      "id": "W8eMsjfLH5T5"
    },
    {
      "cell_type": "code",
      "metadata": {
        "colab": {
          "base_uri": "https://localhost:8080/"
        },
        "id": "uV4BPrE8Sgst",
        "outputId": "14164af7-d86a-4d08-a5f1-b7ad3ab65885"
      },
      "source": [
        "# --------------------------------------------\n",
        "print('Program done by : Ajay Pathak\\n' +\n",
        "      'Enrollment No.: 190630107170\\n' +\n",
        "      '=================================\\n\\n\\n')\n",
        "\n",
        "\n",
        "def Count(str):\n",
        "    upper, lower, digit, space = 0, 0, 0, 0\n",
        "    for i in range(len(str)):\n",
        "        if str[i].isupper():\n",
        "          upper += 1\n",
        "        elif str[i].islower():\n",
        "          lower += 1\n",
        "        elif str[i].isdigit():\n",
        "          digit += 1\n",
        "        elif str[i] == ' ':\n",
        "          space += 1\n",
        "    print('Total letters:', upper + lower)\n",
        "    print('Upper case letters:', upper)\n",
        "    print('Lower case letters:', lower)\n",
        "    print('Number of digits:',digit)\n",
        "    print('Spaces :', space)\n",
        "\n",
        "teststr = str(input('enter string :\\n')) \n",
        "Count(teststr)"
      ],
      "id": "uV4BPrE8Sgst",
      "execution_count": 10,
      "outputs": [
        {
          "output_type": "stream",
          "name": "stdout",
          "text": [
            "Program done by : Ajay Pathak\n",
            "Enrollment No.: 190630107170\n",
            "=================================\n",
            "\n",
            "\n",
            "\n",
            "enter string :\n",
            "Try Reversing this string\n",
            "Total letters: 22\n",
            "Upper case letters: 2\n",
            "Lower case letters: 20\n",
            "Number of digits: 0\n",
            "Spaces : 3\n"
          ]
        }
      ]
    },
    {
      "cell_type": "markdown",
      "metadata": {
        "id": "skVkzQOlIpXF"
      },
      "source": [
        "## 2.5] Reversing a given string."
      ],
      "id": "skVkzQOlIpXF"
    },
    {
      "cell_type": "code",
      "metadata": {
        "colab": {
          "base_uri": "https://localhost:8080/"
        },
        "id": "yn6g7_SuUD3G",
        "outputId": "8507da4f-9750-4e56-b3e7-f6b1212b2897"
      },
      "source": [
        "# --------------------------------------------\n",
        "print('Program done by : Ajay Pathak\\n' +\n",
        "      'Enrollment No.: 190630107170\\n' +\n",
        "      '=================================\\n\\n\\n')\n",
        "\n",
        "str_to_reverse = str(input('Enter String : \\n'))\n",
        "print('original string : \\n', str_to_reverse)\n",
        "print('Reveresed string : \\n', str_to_reverse[::-1])"
      ],
      "id": "yn6g7_SuUD3G",
      "execution_count": 11,
      "outputs": [
        {
          "output_type": "stream",
          "name": "stdout",
          "text": [
            "Program done by : Ajay Pathak\n",
            "Enrollment No.: 190630107170\n",
            "=================================\n",
            "\n",
            "\n",
            "\n",
            "Enter String : \n",
            "Reverse this\n",
            "original string : \n",
            " Reverse this\n",
            "Reveresed string : \n",
            " siht esreveR\n"
          ]
        }
      ]
    },
    {
      "cell_type": "markdown",
      "metadata": {
        "id": "EOWKS-VbSXqP"
      },
      "source": [
        "# 3] Study of List and Tuple\n",
        "---"
      ],
      "id": "EOWKS-VbSXqP"
    },
    {
      "cell_type": "markdown",
      "metadata": {
        "id": "M1uVnqs0T3I_"
      },
      "source": [
        "## 3.1] Write a program to remove duplicates from list."
      ],
      "id": "M1uVnqs0T3I_"
    },
    {
      "cell_type": "code",
      "metadata": {
        "colab": {
          "base_uri": "https://localhost:8080/"
        },
        "id": "SMY9f_M1VR0K",
        "outputId": "3bfeefcf-9786-4895-cbf2-93725f0cc95a"
      },
      "source": [
        "# --------------------------------------------\n",
        "print('Program done by : Ajay Pathak\\n' +\n",
        "      'Enrollment No.: 190630107170\\n' +\n",
        "      '=================================\\n\\n\\n')\n",
        "\n",
        "\n",
        "myList = ['One', 'two', 'two', 'three', 'three', 'three', 'four']\n",
        "unique = []\n",
        "\n",
        "print('original list :', myList)\n",
        "\n",
        "for el in myList:\n",
        "    if el not in unique:\n",
        "        unique.append(el)\n",
        "\n",
        "print('without duplicates :', unique)"
      ],
      "id": "SMY9f_M1VR0K",
      "execution_count": 12,
      "outputs": [
        {
          "output_type": "stream",
          "name": "stdout",
          "text": [
            "Program done by : Ajay Pathak\n",
            "Enrollment No.: 190630107170\n",
            "=================================\n",
            "\n",
            "\n",
            "\n",
            "original list : ['One', 'two', 'two', 'three', 'three', 'three', 'four']\n",
            "without duplicates : ['One', 'two', 'three', 'four']\n"
          ]
        }
      ]
    },
    {
      "cell_type": "markdown",
      "metadata": {
        "id": "xJGj_yaQUF0m"
      },
      "source": [
        "## 3.2] Write a program to find frequency of elements of list."
      ],
      "id": "xJGj_yaQUF0m"
    },
    {
      "cell_type": "code",
      "metadata": {
        "colab": {
          "base_uri": "https://localhost:8080/"
        },
        "id": "Vukn4LokVSQH",
        "outputId": "49bca7de-8da8-4909-aaf8-d385f8f32240"
      },
      "source": [
        "# --------------------------------------------\n",
        "print('Program done by : Ajay Pathak\\n' +\n",
        "      'Enrollment No.: 190630107170\\n' +\n",
        "      '=================================\\n\\n\\n')\n",
        "\n",
        "\n",
        "my_list = [7, 2, 6, 5, 8, 7, 8, 3, 2, 3]\n",
        "unique = []\n",
        "for el in my_list:\n",
        "    if el not in unique:\n",
        "        unique.append(el)\n",
        "\n",
        "for el in unique:\n",
        "    print('Frequency of ', el, 'in my_list :', my_list.count(el))"
      ],
      "id": "Vukn4LokVSQH",
      "execution_count": 13,
      "outputs": [
        {
          "output_type": "stream",
          "name": "stdout",
          "text": [
            "Program done by : Ajay Pathak\n",
            "Enrollment No.: 190630107170\n",
            "=================================\n",
            "\n",
            "\n",
            "\n",
            "Frequency of  7 in my_list : 2\n",
            "Frequency of  2 in my_list : 2\n",
            "Frequency of  6 in my_list : 1\n",
            "Frequency of  5 in my_list : 1\n",
            "Frequency of  8 in my_list : 2\n",
            "Frequency of  3 in my_list : 2\n"
          ]
        }
      ]
    },
    {
      "cell_type": "markdown",
      "metadata": {
        "id": "rwiZeFm-UJz9"
      },
      "source": [
        "## 3.3] Write a program to sort given list."
      ],
      "id": "rwiZeFm-UJz9"
    },
    {
      "cell_type": "code",
      "metadata": {
        "colab": {
          "base_uri": "https://localhost:8080/"
        },
        "id": "X1X4_rGfVTDv",
        "outputId": "3ab19615-0756-46a1-973d-485215883537"
      },
      "source": [
        "# --------------------------------------------\n",
        "print('Program done by : Ajay Pathak\\n' +\n",
        "      'Enrollment No.: 190630107170\\n' +\n",
        "      '=================================\\n\\n\\n')\n",
        "\n",
        "\n",
        "print('Original :', my_list)\n",
        "my_list.sort()\n",
        "print('Ascending :', my_list)\n",
        "print('Descending :', my_list[::-1])"
      ],
      "id": "X1X4_rGfVTDv",
      "execution_count": 14,
      "outputs": [
        {
          "output_type": "stream",
          "name": "stdout",
          "text": [
            "Program done by : Ajay Pathak\n",
            "Enrollment No.: 190630107170\n",
            "=================================\n",
            "\n",
            "\n",
            "\n",
            "Original : [7, 2, 6, 5, 8, 7, 8, 3, 2, 3]\n",
            "Ascending : [2, 2, 3, 3, 5, 6, 7, 7, 8, 8]\n",
            "Descending : [8, 8, 7, 7, 6, 5, 3, 3, 2, 2]\n"
          ]
        }
      ]
    },
    {
      "cell_type": "markdown",
      "metadata": {
        "id": "iLTcgIGLUK1W"
      },
      "source": [
        "## 3.4] Write a program to find minimum and maximum value in list of tuples."
      ],
      "id": "iLTcgIGLUK1W"
    },
    {
      "cell_type": "code",
      "metadata": {
        "colab": {
          "base_uri": "https://localhost:8080/"
        },
        "id": "UfQ-HKMLVTfP",
        "outputId": "a055fd84-de75-475a-d1b7-c7c01b6a3c61"
      },
      "source": [
        "# --------------------------------------------\n",
        "print('Program done by : Ajay Pathak\\n' +\n",
        "      'Enrollment No.: 190630107170\\n' +\n",
        "      '=================================\\n\\n\\n')\n",
        "\n",
        "my_tuple_list = [(22, 1), (16, 3), (27, 11), (29, 9)]\n",
        "print('Original list :', my_tuple_list)\n",
        "\n",
        "zeroth = [tup[0] for tup in my_tuple_list]\n",
        "first = [tup[1] for tup in my_tuple_list]\n",
        "\n",
        "res1 = min(zeroth), max(zeroth)\n",
        "res2 = min(first), max(first)\n",
        "print('\\nmin at 0th index of tuples :', res1[0], '\\nmax at 0th index of tuples :', res1[1])\n",
        "print('\\nmin at 1st index of tuples :', res2[0], '\\nmax at 1st index of tuples :', res2[1])"
      ],
      "id": "UfQ-HKMLVTfP",
      "execution_count": 15,
      "outputs": [
        {
          "output_type": "stream",
          "name": "stdout",
          "text": [
            "Program done by : Ajay Pathak\n",
            "Enrollment No.: 190630107170\n",
            "=================================\n",
            "\n",
            "\n",
            "\n",
            "Original list : [(22, 1), (16, 3), (27, 11), (29, 9)]\n",
            "\n",
            "min at 0th index of tuples : 16 \n",
            "max at 0th index of tuples : 29\n",
            "\n",
            "min at 1st index of tuples : 1 \n",
            "max at 1st index of tuples : 11\n"
          ]
        }
      ]
    },
    {
      "cell_type": "markdown",
      "metadata": {
        "id": "7vxWBY1YUNle"
      },
      "source": [
        "## 3.5] Write a program to remove an element from tuple. "
      ],
      "id": "7vxWBY1YUNle"
    },
    {
      "cell_type": "code",
      "metadata": {
        "colab": {
          "base_uri": "https://localhost:8080/"
        },
        "id": "8IBRVvcaVUD2",
        "outputId": "613611be-57c8-409d-ed1f-790d1c987a1a"
      },
      "source": [
        "# --------------------------------------------\n",
        "print('Program done by : Ajay Pathak\\n' +\n",
        "      'Enrollment No.: 190630107170\\n' +\n",
        "      '=================================\\n\\n\\n')\n",
        "\n",
        "myTuple = ('one', 'two', 'three', 'four', 'four', 'five')\n",
        "print(myTuple)"
      ],
      "id": "8IBRVvcaVUD2",
      "execution_count": 16,
      "outputs": [
        {
          "output_type": "stream",
          "name": "stdout",
          "text": [
            "Program done by : Ajay Pathak\n",
            "Enrollment No.: 190630107170\n",
            "=================================\n",
            "\n",
            "\n",
            "\n",
            "('one', 'two', 'three', 'four', 'four', 'five')\n"
          ]
        }
      ]
    },
    {
      "cell_type": "code",
      "metadata": {
        "colab": {
          "base_uri": "https://localhost:8080/"
        },
        "id": "5hS1v6zdWgqu",
        "outputId": "c59fb2da-a4f3-49b9-b103-becdfaeeb66f"
      },
      "source": [
        "# --------------------------------------------\n",
        "print('Program done by : Ajay Pathak\\n' +\n",
        "      'Enrollment No.: 190630107170\\n' +\n",
        "      '=================================\\n\\n\\n')\n",
        "\n",
        "# Removing element using slicing\n",
        "myTuple = myTuple[:3] + myTuple[4:]\n",
        "print(myTuple)"
      ],
      "id": "5hS1v6zdWgqu",
      "execution_count": 17,
      "outputs": [
        {
          "output_type": "stream",
          "name": "stdout",
          "text": [
            "Program done by : Ajay Pathak\n",
            "Enrollment No.: 190630107170\n",
            "=================================\n",
            "\n",
            "\n",
            "\n",
            "('one', 'two', 'three', 'four', 'five')\n"
          ]
        }
      ]
    },
    {
      "cell_type": "code",
      "metadata": {
        "colab": {
          "base_uri": "https://localhost:8080/"
        },
        "id": "8yw3wi7zXDqX",
        "outputId": "5e77cb9f-cf06-4e83-f775-3124b54e0658"
      },
      "source": [
        "# --------------------------------------------\n",
        "print('Program done by : Ajay Pathak\\n' +\n",
        "      'Enrollment No.: 190630107170\\n' +\n",
        "      '=================================\\n\\n\\n')\n",
        "\n",
        "# Removing using typecast\n",
        "myList = list(myTuple)\n",
        "myList.remove('four')\n",
        "myTuple = myList\n",
        "print(myTuple)"
      ],
      "id": "8yw3wi7zXDqX",
      "execution_count": 18,
      "outputs": [
        {
          "output_type": "stream",
          "name": "stdout",
          "text": [
            "Program done by : Ajay Pathak\n",
            "Enrollment No.: 190630107170\n",
            "=================================\n",
            "\n",
            "\n",
            "\n",
            "['one', 'two', 'three', 'five']\n"
          ]
        }
      ]
    },
    {
      "cell_type": "markdown",
      "metadata": {
        "id": "3fMQz0OZKDOS"
      },
      "source": [
        "# 4] Study of Dictionary\n",
        "---"
      ],
      "id": "3fMQz0OZKDOS"
    },
    {
      "cell_type": "markdown",
      "metadata": {
        "id": "bjFBjPO1KOoV"
      },
      "source": [
        "## 4.1] Write a program to map 2 lists into a dictionary."
      ],
      "id": "bjFBjPO1KOoV"
    },
    {
      "cell_type": "code",
      "metadata": {
        "colab": {
          "base_uri": "https://localhost:8080/"
        },
        "id": "8kSHroZpKQlK",
        "outputId": "73277246-0632-41b4-834f-053c4d7db2f9"
      },
      "source": [
        "# --------------------------------------------\n",
        "print('Program done by : Ajay Pathak\\n' +\n",
        "      'Enrollment No.: 190630107170\\n' +\n",
        "      '=================================\\n\\n\\n')\n",
        "\n",
        "\n",
        "l1 = [1, 2, 3, 4, 5]\n",
        "l2 = ['one', 'two', 'three', 'four', 'five']\n",
        "\n",
        "d1 = dict(zip(l1, l2))\n",
        "\n",
        "print(d1)\n"
      ],
      "id": "8kSHroZpKQlK",
      "execution_count": 20,
      "outputs": [
        {
          "output_type": "stream",
          "name": "stdout",
          "text": [
            "Program done by : Ajay Pathak\n",
            "Enrollment No.: 190630107170\n",
            "=================================\n",
            "\n",
            "\n",
            "\n",
            "{1: 'one', 2: 'two', 3: 'three', 4: 'four', 5: 'five'}\n"
          ]
        }
      ]
    },
    {
      "cell_type": "markdown",
      "metadata": {
        "id": "EfLaec0VKSCR"
      },
      "source": [
        "## 4.2] Write  a  program  to  generate  dictionary  of  frequency  of  alphabets  of  given string."
      ],
      "id": "EfLaec0VKSCR"
    },
    {
      "cell_type": "code",
      "metadata": {
        "colab": {
          "base_uri": "https://localhost:8080/"
        },
        "id": "xGuyYXiMKTnP",
        "outputId": "e16980d3-9a67-44bf-f44d-d086a38a78c3"
      },
      "source": [
        "# --------------------------------------------\n",
        "print('Program done by : Ajay Pathak\\n' +\n",
        "      'Enrollment No.: 190630107170\\n' +\n",
        "      '=================================\\n\\n\\n')\n",
        "\n",
        "string = str(input(\"Enter string : \"))\n",
        "keys = []\n",
        "values = []\n",
        "\n",
        "for el in string:\n",
        "    if el not in keys:\n",
        "        keys.append(el)\n",
        "        values.append(string.count(el))\n",
        "\n",
        "d1 = dict(zip(keys, values))\n",
        "print(d1)"
      ],
      "id": "xGuyYXiMKTnP",
      "execution_count": 21,
      "outputs": [
        {
          "output_type": "stream",
          "name": "stdout",
          "text": [
            "Program done by : Ajay Pathak\n",
            "Enrollment No.: 190630107170\n",
            "=================================\n",
            "\n",
            "\n",
            "\n",
            "Enter string : Ajay Pathak\n",
            "{'A': 1, 'j': 1, 'a': 3, 'y': 1, ' ': 1, 'P': 1, 't': 1, 'h': 1, 'k': 1}\n"
          ]
        }
      ]
    },
    {
      "cell_type": "markdown",
      "metadata": {
        "id": "Z7nQMoimKUKA"
      },
      "source": [
        "## 4.3] Write a Python program to sum all the items in a dictionary."
      ],
      "id": "Z7nQMoimKUKA"
    },
    {
      "cell_type": "code",
      "metadata": {
        "colab": {
          "base_uri": "https://localhost:8080/"
        },
        "id": "88t0cgVjKWUC",
        "outputId": "764a950d-9223-4438-a9ee-4b78173143f4"
      },
      "source": [
        "# --------------------------------------------\n",
        "print('Program done by : Ajay Pathak\\n' +\n",
        "      'Enrollment No.: 190630107170\\n' +\n",
        "      '=================================\\n\\n\\n')\n",
        "\n",
        "d1 = {'hundred': 100, 'sixty': -60, 'twenty': -20, 'two': 2}\n",
        "vals = d1.values()\n",
        "total_sum = sum(vals)\n",
        "print(total_sum)"
      ],
      "id": "88t0cgVjKWUC",
      "execution_count": 22,
      "outputs": [
        {
          "output_type": "stream",
          "name": "stdout",
          "text": [
            "Program done by : Ajay Pathak\n",
            "Enrollment No.: 190630107170\n",
            "=================================\n",
            "\n",
            "\n",
            "\n",
            "22\n"
          ]
        }
      ]
    },
    {
      "cell_type": "markdown",
      "metadata": {
        "id": "nIQOuY3jKXHZ"
      },
      "source": [
        "## 4.4]Create a dictionary where keys are name of students and values are another dictionary containing semester, age and cpi of that student. \n"
      ],
      "id": "nIQOuY3jKXHZ"
    },
    {
      "cell_type": "code",
      "metadata": {
        "id": "quG9SXhbKYjb",
        "colab": {
          "base_uri": "https://localhost:8080/"
        },
        "outputId": "b3959ffd-f2bc-4f6c-b531-098836c67e0b"
      },
      "source": [
        "# --------------------------------------------\n",
        "print('Program done by : Ajay Pathak\\n' +\n",
        "      'Enrollment No.: 190630107170\\n' +\n",
        "      '=================================\\n\\n\\n')\n",
        "\n",
        "student_info = {'Ak': {'semester': 5,\n",
        "                       'age': 19,\n",
        "                       'cpi': 8.2},\n",
        "                'Aj': {'semester': 5,\n",
        "                       'age': 20,\n",
        "                       'cpi': 9.0}}"
      ],
      "id": "quG9SXhbKYjb",
      "execution_count": 23,
      "outputs": [
        {
          "output_type": "stream",
          "name": "stdout",
          "text": [
            "Program done by : Ajay Pathak\n",
            "Enrollment No.: 190630107170\n",
            "=================================\n",
            "\n",
            "\n",
            "\n"
          ]
        }
      ]
    },
    {
      "cell_type": "markdown",
      "metadata": {
        "id": "cgcO_wrLK0r7"
      },
      "source": [
        "### 4.4.1] Print all the names of students."
      ],
      "id": "cgcO_wrLK0r7"
    },
    {
      "cell_type": "code",
      "metadata": {
        "colab": {
          "base_uri": "https://localhost:8080/"
        },
        "id": "EkyqFm13LJhR",
        "outputId": "482b1b4f-5359-4aa8-a323-e92da97157ce"
      },
      "source": [
        "# --------------------------------------------\n",
        "print('Program done by : Ajay Pathak\\n' +\n",
        "      'Enrollment No.: 190630107170\\n' +\n",
        "      '=================================\\n\\n\\n')\n",
        "\n",
        "print(student_info)"
      ],
      "id": "EkyqFm13LJhR",
      "execution_count": 24,
      "outputs": [
        {
          "output_type": "stream",
          "name": "stdout",
          "text": [
            "Program done by : Ajay Pathak\n",
            "Enrollment No.: 190630107170\n",
            "=================================\n",
            "\n",
            "\n",
            "\n",
            "{'Ak': {'semester': 5, 'age': 19, 'cpi': 8.2}, 'Aj': {'semester': 5, 'age': 20, 'cpi': 9.0}}\n"
          ]
        }
      ]
    },
    {
      "cell_type": "markdown",
      "metadata": {
        "id": "2BLUu4GtK9eq"
      },
      "source": [
        "### 4.4.2] Print only names of students"
      ],
      "id": "2BLUu4GtK9eq"
    },
    {
      "cell_type": "code",
      "metadata": {
        "colab": {
          "base_uri": "https://localhost:8080/"
        },
        "id": "fjoDzIufLKa3",
        "outputId": "af1a39ae-5ab3-4b1b-f9cb-89579d5dc087"
      },
      "source": [
        "# --------------------------------------------\n",
        "print('Program done by : Ajay Pathak\\n' +\n",
        "      'Enrollment No.: 190630107170\\n' +\n",
        "      '=================================\\n\\n\\n')\n",
        "\n",
        "print(student_info.keys())"
      ],
      "id": "fjoDzIufLKa3",
      "execution_count": 25,
      "outputs": [
        {
          "output_type": "stream",
          "name": "stdout",
          "text": [
            "Program done by : Ajay Pathak\n",
            "Enrollment No.: 190630107170\n",
            "=================================\n",
            "\n",
            "\n",
            "\n",
            "dict_keys(['Ak', 'Aj'])\n"
          ]
        }
      ]
    },
    {
      "cell_type": "markdown",
      "metadata": {
        "id": "IAm9UzX3LDRL"
      },
      "source": [
        "### 4.4.3] Print the name of student having highest CPI "
      ],
      "id": "IAm9UzX3LDRL"
    },
    {
      "cell_type": "code",
      "metadata": {
        "colab": {
          "base_uri": "https://localhost:8080/"
        },
        "id": "rj_jbI2mLLG0",
        "outputId": "98f58c4f-c769-4088-edfd-72933006e843"
      },
      "source": [
        "# --------------------------------------------\n",
        "print('Program done by : Ajay Pathak\\n' +\n",
        "      'Enrollment No.: 190630107170\\n' +\n",
        "      '=================================\\n\\n\\n')\n",
        "\n",
        "names = [x for x in student_info]\n",
        "\n",
        "cpis = [student_info.get(name).get('cpi') for name in names]\n",
        "highest = max(cpis)\n",
        "\n",
        "pos = cpis.index(highest)\n",
        "print('Student havning highest cpi :', names[pos])\n"
      ],
      "id": "rj_jbI2mLLG0",
      "execution_count": 26,
      "outputs": [
        {
          "output_type": "stream",
          "name": "stdout",
          "text": [
            "Program done by : Ajay Pathak\n",
            "Enrollment No.: 190630107170\n",
            "=================================\n",
            "\n",
            "\n",
            "\n",
            "Student havning highest cpi : Aj\n"
          ]
        }
      ]
    },
    {
      "cell_type": "markdown",
      "metadata": {
        "id": "1n-ZRzuFDUck"
      },
      "source": [
        "## 4.5] Nested Dictionary Practice\n"
      ],
      "id": "1n-ZRzuFDUck"
    },
    {
      "cell_type": "markdown",
      "metadata": {
        "id": "YlXngM1qDuwc"
      },
      "source": [
        "### 4.5.1] Creating a Nested Dictionary"
      ],
      "id": "YlXngM1qDuwc"
    },
    {
      "cell_type": "code",
      "metadata": {
        "colab": {
          "base_uri": "https://localhost:8080/"
        },
        "id": "qawJPvYRDfMR",
        "outputId": "b96dade1-3d83-4528-9cf6-00a8fbb29094"
      },
      "source": [
        "# --------------------------------------------\n",
        "print('Program done by : Ajay Pathak\\n' +\n",
        "      'Enrollment No.: 190630107170\\n' +\n",
        "      '=================================\\n\\n\\n')\n",
        "\n",
        "faculty = {1: {'name': 'Akj', 'contact': 1234567890, 'city': 'city1'},\n",
        "           2: {'name': 'sk', 'contact': 9987654321, 'city': 'city1'},\n",
        "           3: {'name': 'ap', 'contact': 1234509876, 'city': 'city2'}}\n",
        "\n",
        "print(faculty)"
      ],
      "id": "qawJPvYRDfMR",
      "execution_count": 27,
      "outputs": [
        {
          "output_type": "stream",
          "name": "stdout",
          "text": [
            "Program done by : Ajay Pathak\n",
            "Enrollment No.: 190630107170\n",
            "=================================\n",
            "\n",
            "\n",
            "\n",
            "{1: {'name': 'Akj', 'contact': 1234567890, 'city': 'city1'}, 2: {'name': 'sk', 'contact': 9987654321, 'city': 'city1'}, 3: {'name': 'ap', 'contact': 1234509876, 'city': 'city2'}}\n"
          ]
        }
      ]
    },
    {
      "cell_type": "markdown",
      "metadata": {
        "id": "ezeKCoMUF2RX"
      },
      "source": [
        "### 4.5.2] Accessing elements"
      ],
      "id": "ezeKCoMUF2RX"
    },
    {
      "cell_type": "code",
      "metadata": {
        "colab": {
          "base_uri": "https://localhost:8080/"
        },
        "id": "2gciLyKOElKm",
        "outputId": "1090daca-aa4d-432e-af0e-5e3d0a5396ca"
      },
      "source": [
        "# --------------------------------------------\n",
        "print('Program done by : Ajay Pathak\\n' +\n",
        "      'Enrollment No.: 190630107170\\n' +\n",
        "      '=================================\\n\\n\\n')\n",
        "\n",
        "print(faculty[1]['name'])\n",
        "print(faculty[2]['contact'])\n",
        "print(faculty[3]['city'])\n",
        "\n",
        "for x in faculty.keys():\n",
        "  print(faculty[x])"
      ],
      "id": "2gciLyKOElKm",
      "execution_count": 28,
      "outputs": [
        {
          "output_type": "stream",
          "name": "stdout",
          "text": [
            "Program done by : Ajay Pathak\n",
            "Enrollment No.: 190630107170\n",
            "=================================\n",
            "\n",
            "\n",
            "\n",
            "Akj\n",
            "9987654321\n",
            "city2\n",
            "{'name': 'Akj', 'contact': 1234567890, 'city': 'city1'}\n",
            "{'name': 'sk', 'contact': 9987654321, 'city': 'city1'}\n",
            "{'name': 'ap', 'contact': 1234509876, 'city': 'city2'}\n"
          ]
        }
      ]
    },
    {
      "cell_type": "markdown",
      "metadata": {
        "id": "Q8QAtzaZHCxe"
      },
      "source": [
        "### 4.5.3] Adding element "
      ],
      "id": "Q8QAtzaZHCxe"
    },
    {
      "cell_type": "code",
      "metadata": {
        "colab": {
          "base_uri": "https://localhost:8080/"
        },
        "id": "i5cBqINmGA1K",
        "outputId": "b8f85d14-c079-4e9c-d932-63cd974ebbd2"
      },
      "source": [
        "# --------------------------------------------\n",
        "print('Program done by : Ajay Pathak\\n' +\n",
        "      'Enrollment No.: 190630107170\\n' +\n",
        "      '=================================\\n\\n\\n')\n",
        "\n",
        "faculty[4] = {}\n",
        "faculty[4]['name'] = 'SP'\n",
        "# faculty[4]['contact'] = 5432109876\n",
        "faculty[4]['city'] = 'city2'\n",
        "\n",
        "faculty[5] = {'name': 'LK', 'contact': 5647382910, 'city': 'city2', 'married': 'yes'}\n",
        "\n",
        "for x in faculty.keys():\n",
        "  print(faculty[x])"
      ],
      "id": "i5cBqINmGA1K",
      "execution_count": 29,
      "outputs": [
        {
          "output_type": "stream",
          "name": "stdout",
          "text": [
            "Program done by : Ajay Pathak\n",
            "Enrollment No.: 190630107170\n",
            "=================================\n",
            "\n",
            "\n",
            "\n",
            "{'name': 'Akj', 'contact': 1234567890, 'city': 'city1'}\n",
            "{'name': 'sk', 'contact': 9987654321, 'city': 'city1'}\n",
            "{'name': 'ap', 'contact': 1234509876, 'city': 'city2'}\n",
            "{'name': 'SP', 'city': 'city2'}\n",
            "{'name': 'LK', 'contact': 5647382910, 'city': 'city2', 'married': 'yes'}\n"
          ]
        }
      ]
    },
    {
      "cell_type": "markdown",
      "metadata": {
        "id": "6Jf5NmZPLD4H"
      },
      "source": [
        "### 4.5.4] Deleting elemets"
      ],
      "id": "6Jf5NmZPLD4H"
    },
    {
      "cell_type": "code",
      "metadata": {
        "colab": {
          "base_uri": "https://localhost:8080/"
        },
        "id": "Dx5ut8lOHVul",
        "outputId": "435e42d4-4092-4f69-b11d-1299338d9573"
      },
      "source": [
        "# --------------------------------------------\n",
        "print('Program done by : Ajay Pathak\\n' +\n",
        "      'Enrollment No.: 190630107170\\n' +\n",
        "      '=================================\\n\\n\\n')\n",
        "\n",
        "del faculty[5]['married']\n",
        "del faculty[3], faculty[4]\n",
        "\n",
        "for key in faculty.keys():\n",
        "  print(faculty[key])\n"
      ],
      "id": "Dx5ut8lOHVul",
      "execution_count": 30,
      "outputs": [
        {
          "output_type": "stream",
          "name": "stdout",
          "text": [
            "Program done by : Ajay Pathak\n",
            "Enrollment No.: 190630107170\n",
            "=================================\n",
            "\n",
            "\n",
            "\n",
            "{'name': 'Akj', 'contact': 1234567890, 'city': 'city1'}\n",
            "{'name': 'sk', 'contact': 9987654321, 'city': 'city1'}\n",
            "{'name': 'LK', 'contact': 5647382910, 'city': 'city2'}\n"
          ]
        }
      ]
    },
    {
      "cell_type": "markdown",
      "metadata": {
        "id": "3cV3wJsdMJvx"
      },
      "source": [
        "### 4.5.5] Iterating through Nested Dictionary"
      ],
      "id": "3cV3wJsdMJvx"
    },
    {
      "cell_type": "code",
      "metadata": {
        "colab": {
          "base_uri": "https://localhost:8080/"
        },
        "id": "cjoXhAsqL4-s",
        "outputId": "900bb88e-9127-46c8-8c57-bbba7a690d67"
      },
      "source": [
        "# --------------------------------------------\n",
        "print('Program done by : Ajay Pathak\\n' +\n",
        "      'Enrollment No.: 190630107170\\n' +\n",
        "      '=================================\\n\\n\\n')\n",
        "\n",
        "for id, value in faculty.items():\n",
        "  print('Faculty ID =', id)\n",
        "\n",
        "  for key in value:\n",
        "    print(key, '=', value[key])\n",
        "  print('\\n')"
      ],
      "id": "cjoXhAsqL4-s",
      "execution_count": 31,
      "outputs": [
        {
          "output_type": "stream",
          "name": "stdout",
          "text": [
            "Program done by : Ajay Pathak\n",
            "Enrollment No.: 190630107170\n",
            "=================================\n",
            "\n",
            "\n",
            "\n",
            "Faculty ID = 1\n",
            "name = Akj\n",
            "contact = 1234567890\n",
            "city = city1\n",
            "\n",
            "\n",
            "Faculty ID = 2\n",
            "name = sk\n",
            "contact = 9987654321\n",
            "city = city1\n",
            "\n",
            "\n",
            "Faculty ID = 5\n",
            "name = LK\n",
            "contact = 5647382910\n",
            "city = city2\n",
            "\n",
            "\n"
          ]
        }
      ]
    },
    {
      "cell_type": "markdown",
      "metadata": {
        "id": "VOFe6xdrMkRQ"
      },
      "source": [
        "# 5] Write a python program to explore various types of files (csv, excel etc.) using pandas.\n",
        "---"
      ],
      "id": "VOFe6xdrMkRQ"
    },
    {
      "cell_type": "markdown",
      "metadata": {
        "id": "qNtIUg1sR9Fv"
      },
      "source": [
        "## Importing Pandas and defining data."
      ],
      "id": "qNtIUg1sR9Fv"
    },
    {
      "cell_type": "markdown",
      "metadata": {
        "id": "ZYtxLYmdOj6P"
      },
      "source": [
        "First of all ,\n",
        "\n",
        "To use pandas library, we need to install pandas and import it.\n",
        "\n",
        "Conventionally we use alias 'pd' for pandas library "
      ],
      "id": "ZYtxLYmdOj6P"
    },
    {
      "cell_type": "code",
      "metadata": {
        "id": "GXLqo4NWNeic"
      },
      "source": [
        "import pandas as pd"
      ],
      "id": "GXLqo4NWNeic",
      "execution_count": 32,
      "outputs": []
    },
    {
      "cell_type": "markdown",
      "metadata": {
        "id": "698bohGfPKtg"
      },
      "source": [
        "Next cell defines data \n",
        "\n",
        "we are using data of different countries ( such as population, GDP, Continent etc.) "
      ],
      "id": "698bohGfPKtg"
    },
    {
      "cell_type": "code",
      "metadata": {
        "id": "BMKEbbV-Ns6U"
      },
      "source": [
        "contries_data = {\n",
        "    'CHN': {'COUNTRY': 'China', 'POP': 1_398.72, 'AREA': 9_596.96,\n",
        "            'GDP': 12_234.78, 'CONT': 'Asia'},\n",
        "    'IND': {'COUNTRY': 'India', 'POP': 1_351.16, 'AREA': 3_287.26,\n",
        "            'GDP': 2_575.67, 'CONT': 'Asia', 'IND_DAY': '1947-08-15'},\n",
        "    'USA': {'COUNTRY': 'US', 'POP': 329.74, 'AREA': 9_833.52,\n",
        "            'GDP': 19_485.39, 'CONT': 'N.America',\n",
        "            'IND_DAY': '1776-07-04'},\n",
        "    'IDN': {'COUNTRY': 'Indonesia', 'POP': 268.07, 'AREA': 1_910.93,\n",
        "            'GDP': 1_015.54, 'CONT': 'Asia', 'IND_DAY': '1945-08-17'},\n",
        "    'BRA': {'COUNTRY': 'Brazil', 'POP': 210.32, 'AREA': 8_515.77,\n",
        "            'GDP': 2_055.51, 'CONT': 'S.America', 'IND_DAY': '1822-09-07'},\n",
        "    'PAK': {'COUNTRY': 'Pakistan', 'POP': 205.71, 'AREA': 881.91,\n",
        "            'GDP': 302.14, 'CONT': 'Asia', 'IND_DAY': '1947-08-14'},\n",
        "    'NGA': {'COUNTRY': 'Nigeria', 'POP': 200.96, 'AREA': 923.77,\n",
        "            'GDP': 375.77, 'CONT': 'Africa', 'IND_DAY': '1960-10-01'},\n",
        "    'BGD': {'COUNTRY': 'Bangladesh', 'POP': 167.09, 'AREA': 147.57,\n",
        "            'GDP': 245.63, 'CONT': 'Asia', 'IND_DAY': '1971-03-26'},\n",
        "    'RUS': {'COUNTRY': 'Russia', 'POP': 146.79, 'AREA': 17_098.25,\n",
        "            'GDP': 1_530.75, 'IND_DAY': '1992-06-12'},\n",
        "    'MEX': {'COUNTRY': 'Mexico', 'POP': 126.58, 'AREA': 1_964.38,\n",
        "            'GDP': 1_158.23, 'CONT': 'N.America', 'IND_DAY': '1810-09-16'},\n",
        "    'JPN': {'COUNTRY': 'Japan', 'POP': 126.22, 'AREA': 377.97,\n",
        "            'GDP': 4_872.42, 'CONT': 'Asia'},\n",
        "    'DEU': {'COUNTRY': 'Germany', 'POP': 83.02, 'AREA': 357.11,\n",
        "            'GDP': 3_693.20, 'CONT': 'Europe'},\n",
        "    'FRA': {'COUNTRY': 'France', 'POP': 67.02, 'AREA': 640.68,\n",
        "            'GDP': 2_582.49, 'CONT': 'Europe', 'IND_DAY': '1789-07-14'},\n",
        "    'GBR': {'COUNTRY': 'UK', 'POP': 66.44, 'AREA': 242.50,\n",
        "            'GDP': 2_631.23, 'CONT': 'Europe'},\n",
        "    'ITA': {'COUNTRY': 'Italy', 'POP': 60.36, 'AREA': 301.34,\n",
        "            'GDP': 1_943.84, 'CONT': 'Europe'},\n",
        "    'ARG': {'COUNTRY': 'Argentina', 'POP': 44.94, 'AREA': 2_780.40,\n",
        "            'GDP': 637.49, 'CONT': 'S.America', 'IND_DAY': '1816-07-09'},\n",
        "    'DZA': {'COUNTRY': 'Algeria', 'POP': 43.38, 'AREA': 2_381.74,\n",
        "            'GDP': 167.56, 'CONT': 'Africa', 'IND_DAY': '1962-07-05'},\n",
        "    'CAN': {'COUNTRY': 'Canada', 'POP': 37.59, 'AREA': 9_984.67,\n",
        "            'GDP': 1_647.12, 'CONT': 'N.America', 'IND_DAY': '1867-07-01'},\n",
        "    'AUS': {'COUNTRY': 'Australia', 'POP': 25.47, 'AREA': 7_692.02,\n",
        "            'GDP': 1_408.68, 'CONT': 'Oceania'},\n",
        "    'KAZ': {'COUNTRY': 'Kazakhstan', 'POP': 18.53, 'AREA': 2_724.90,\n",
        "            'GDP': 159.41, 'CONT': 'Asia', 'IND_DAY': '1991-12-16'}\n",
        "}\n",
        "\n",
        "columns = ('COUNTRY', 'POP', 'AREA', 'GDP', 'CONT', 'IND_DAY')"
      ],
      "id": "BMKEbbV-Ns6U",
      "execution_count": 33,
      "outputs": []
    },
    {
      "cell_type": "markdown",
      "metadata": {
        "id": "6TeOHhtnPoTZ"
      },
      "source": [
        "## Using pandas DataFrame "
      ],
      "id": "6TeOHhtnPoTZ"
    },
    {
      "cell_type": "markdown",
      "metadata": {
        "id": "-myi1ucJPxBR"
      },
      "source": [
        "DataFrame is pandas way of storing and visiualizing data\n",
        "\n",
        "to convert our dictionary ( or any DataStructure ) in pandas DataFrame object , we use ```pd.DataFrame(data_variable_name)```.\n",
        "\n",
        "It returns our data in DataFrame format , so we need to store it in some variable."
      ],
      "id": "-myi1ucJPxBR"
    },
    {
      "cell_type": "code",
      "metadata": {
        "colab": {
          "base_uri": "https://localhost:8080/"
        },
        "id": "ja_y3PsCN2jz",
        "outputId": "55e4331e-316e-40b8-fbf9-eee2a84e75ee"
      },
      "source": [
        "# --------------------------------------------\n",
        "print('Program done by : Ajay Pathak\\n' +\n",
        "      'Enrollment No.: 190630107170\\n' +\n",
        "      '=================================\\n\\n\\n')\n",
        "\n",
        "# We stored our data in 'contries_data' variable\n",
        "# Let's store the returned DataFrame Object in df (DataFrame)\n",
        "df = pd.DataFrame(contries_data)\n",
        "\n",
        "# we can use print function\n",
        "print(df)"
      ],
      "id": "ja_y3PsCN2jz",
      "execution_count": 34,
      "outputs": [
        {
          "output_type": "stream",
          "name": "stdout",
          "text": [
            "Program done by : Ajay Pathak\n",
            "Enrollment No.: 190630107170\n",
            "=================================\n",
            "\n",
            "\n",
            "\n",
            "             CHN         IND         USA  ...         CAN        AUS         KAZ\n",
            "COUNTRY    China       India          US  ...      Canada  Australia  Kazakhstan\n",
            "POP      1398.72     1351.16      329.74  ...       37.59      25.47       18.53\n",
            "AREA     9596.96     3287.26     9833.52  ...     9984.67    7692.02      2724.9\n",
            "GDP      12234.8     2575.67     19485.4  ...     1647.12    1408.68      159.41\n",
            "CONT        Asia        Asia   N.America  ...   N.America    Oceania        Asia\n",
            "IND_DAY      NaN  1947-08-15  1776-07-04  ...  1867-07-01        NaN  1991-12-16\n",
            "\n",
            "[6 rows x 20 columns]\n"
          ]
        }
      ]
    },
    {
      "cell_type": "code",
      "metadata": {
        "colab": {
          "base_uri": "https://localhost:8080/",
          "height": 270
        },
        "id": "hOws3-DqOEbS",
        "outputId": "e72b8098-2580-4a9e-ed3b-5448de5e316f"
      },
      "source": [
        "# We are not getting whole data , also representation is not good \n",
        "# Let's use something better\n",
        "# We can directly call our dataframe object and it will print the data \n",
        "df"
      ],
      "id": "hOws3-DqOEbS",
      "execution_count": 35,
      "outputs": [
        {
          "output_type": "execute_result",
          "data": {
            "text/html": [
              "<div>\n",
              "<style scoped>\n",
              "    .dataframe tbody tr th:only-of-type {\n",
              "        vertical-align: middle;\n",
              "    }\n",
              "\n",
              "    .dataframe tbody tr th {\n",
              "        vertical-align: top;\n",
              "    }\n",
              "\n",
              "    .dataframe thead th {\n",
              "        text-align: right;\n",
              "    }\n",
              "</style>\n",
              "<table border=\"1\" class=\"dataframe\">\n",
              "  <thead>\n",
              "    <tr style=\"text-align: right;\">\n",
              "      <th></th>\n",
              "      <th>CHN</th>\n",
              "      <th>IND</th>\n",
              "      <th>USA</th>\n",
              "      <th>IDN</th>\n",
              "      <th>BRA</th>\n",
              "      <th>PAK</th>\n",
              "      <th>NGA</th>\n",
              "      <th>BGD</th>\n",
              "      <th>RUS</th>\n",
              "      <th>MEX</th>\n",
              "      <th>JPN</th>\n",
              "      <th>DEU</th>\n",
              "      <th>FRA</th>\n",
              "      <th>GBR</th>\n",
              "      <th>ITA</th>\n",
              "      <th>ARG</th>\n",
              "      <th>DZA</th>\n",
              "      <th>CAN</th>\n",
              "      <th>AUS</th>\n",
              "      <th>KAZ</th>\n",
              "    </tr>\n",
              "  </thead>\n",
              "  <tbody>\n",
              "    <tr>\n",
              "      <th>COUNTRY</th>\n",
              "      <td>China</td>\n",
              "      <td>India</td>\n",
              "      <td>US</td>\n",
              "      <td>Indonesia</td>\n",
              "      <td>Brazil</td>\n",
              "      <td>Pakistan</td>\n",
              "      <td>Nigeria</td>\n",
              "      <td>Bangladesh</td>\n",
              "      <td>Russia</td>\n",
              "      <td>Mexico</td>\n",
              "      <td>Japan</td>\n",
              "      <td>Germany</td>\n",
              "      <td>France</td>\n",
              "      <td>UK</td>\n",
              "      <td>Italy</td>\n",
              "      <td>Argentina</td>\n",
              "      <td>Algeria</td>\n",
              "      <td>Canada</td>\n",
              "      <td>Australia</td>\n",
              "      <td>Kazakhstan</td>\n",
              "    </tr>\n",
              "    <tr>\n",
              "      <th>POP</th>\n",
              "      <td>1398.72</td>\n",
              "      <td>1351.16</td>\n",
              "      <td>329.74</td>\n",
              "      <td>268.07</td>\n",
              "      <td>210.32</td>\n",
              "      <td>205.71</td>\n",
              "      <td>200.96</td>\n",
              "      <td>167.09</td>\n",
              "      <td>146.79</td>\n",
              "      <td>126.58</td>\n",
              "      <td>126.22</td>\n",
              "      <td>83.02</td>\n",
              "      <td>67.02</td>\n",
              "      <td>66.44</td>\n",
              "      <td>60.36</td>\n",
              "      <td>44.94</td>\n",
              "      <td>43.38</td>\n",
              "      <td>37.59</td>\n",
              "      <td>25.47</td>\n",
              "      <td>18.53</td>\n",
              "    </tr>\n",
              "    <tr>\n",
              "      <th>AREA</th>\n",
              "      <td>9596.96</td>\n",
              "      <td>3287.26</td>\n",
              "      <td>9833.52</td>\n",
              "      <td>1910.93</td>\n",
              "      <td>8515.77</td>\n",
              "      <td>881.91</td>\n",
              "      <td>923.77</td>\n",
              "      <td>147.57</td>\n",
              "      <td>17098.2</td>\n",
              "      <td>1964.38</td>\n",
              "      <td>377.97</td>\n",
              "      <td>357.11</td>\n",
              "      <td>640.68</td>\n",
              "      <td>242.5</td>\n",
              "      <td>301.34</td>\n",
              "      <td>2780.4</td>\n",
              "      <td>2381.74</td>\n",
              "      <td>9984.67</td>\n",
              "      <td>7692.02</td>\n",
              "      <td>2724.9</td>\n",
              "    </tr>\n",
              "    <tr>\n",
              "      <th>GDP</th>\n",
              "      <td>12234.8</td>\n",
              "      <td>2575.67</td>\n",
              "      <td>19485.4</td>\n",
              "      <td>1015.54</td>\n",
              "      <td>2055.51</td>\n",
              "      <td>302.14</td>\n",
              "      <td>375.77</td>\n",
              "      <td>245.63</td>\n",
              "      <td>1530.75</td>\n",
              "      <td>1158.23</td>\n",
              "      <td>4872.42</td>\n",
              "      <td>3693.2</td>\n",
              "      <td>2582.49</td>\n",
              "      <td>2631.23</td>\n",
              "      <td>1943.84</td>\n",
              "      <td>637.49</td>\n",
              "      <td>167.56</td>\n",
              "      <td>1647.12</td>\n",
              "      <td>1408.68</td>\n",
              "      <td>159.41</td>\n",
              "    </tr>\n",
              "    <tr>\n",
              "      <th>CONT</th>\n",
              "      <td>Asia</td>\n",
              "      <td>Asia</td>\n",
              "      <td>N.America</td>\n",
              "      <td>Asia</td>\n",
              "      <td>S.America</td>\n",
              "      <td>Asia</td>\n",
              "      <td>Africa</td>\n",
              "      <td>Asia</td>\n",
              "      <td>NaN</td>\n",
              "      <td>N.America</td>\n",
              "      <td>Asia</td>\n",
              "      <td>Europe</td>\n",
              "      <td>Europe</td>\n",
              "      <td>Europe</td>\n",
              "      <td>Europe</td>\n",
              "      <td>S.America</td>\n",
              "      <td>Africa</td>\n",
              "      <td>N.America</td>\n",
              "      <td>Oceania</td>\n",
              "      <td>Asia</td>\n",
              "    </tr>\n",
              "    <tr>\n",
              "      <th>IND_DAY</th>\n",
              "      <td>NaN</td>\n",
              "      <td>1947-08-15</td>\n",
              "      <td>1776-07-04</td>\n",
              "      <td>1945-08-17</td>\n",
              "      <td>1822-09-07</td>\n",
              "      <td>1947-08-14</td>\n",
              "      <td>1960-10-01</td>\n",
              "      <td>1971-03-26</td>\n",
              "      <td>1992-06-12</td>\n",
              "      <td>1810-09-16</td>\n",
              "      <td>NaN</td>\n",
              "      <td>NaN</td>\n",
              "      <td>1789-07-14</td>\n",
              "      <td>NaN</td>\n",
              "      <td>NaN</td>\n",
              "      <td>1816-07-09</td>\n",
              "      <td>1962-07-05</td>\n",
              "      <td>1867-07-01</td>\n",
              "      <td>NaN</td>\n",
              "      <td>1991-12-16</td>\n",
              "    </tr>\n",
              "  </tbody>\n",
              "</table>\n",
              "</div>"
            ],
            "text/plain": [
              "             CHN         IND         USA  ...         CAN        AUS         KAZ\n",
              "COUNTRY    China       India          US  ...      Canada  Australia  Kazakhstan\n",
              "POP      1398.72     1351.16      329.74  ...       37.59      25.47       18.53\n",
              "AREA     9596.96     3287.26     9833.52  ...     9984.67    7692.02      2724.9\n",
              "GDP      12234.8     2575.67     19485.4  ...     1647.12    1408.68      159.41\n",
              "CONT        Asia        Asia   N.America  ...   N.America    Oceania        Asia\n",
              "IND_DAY      NaN  1947-08-15  1776-07-04  ...  1867-07-01        NaN  1991-12-16\n",
              "\n",
              "[6 rows x 20 columns]"
            ]
          },
          "metadata": {},
          "execution_count": 35
        }
      ]
    },
    {
      "cell_type": "code",
      "metadata": {
        "colab": {
          "base_uri": "https://localhost:8080/",
          "height": 770
        },
        "id": "sx5CC6QcOG_r",
        "outputId": "79048b1a-c414-49a6-873e-432bd56f6e6e"
      },
      "source": [
        "# --------------------------------------------\n",
        "print('Program done by : Ajay Pathak\\n' +\n",
        "      'Enrollment No.: 190630107170\\n' +\n",
        "      '=================================\\n\\n\\n')\n",
        "\n",
        "# Much better but , Let's also transpose it. To make it more intuitive. \n",
        "df = pd.DataFrame(contries_data, index=columns).T # Notice, using .T results in transposing the data\n",
        "df"
      ],
      "id": "sx5CC6QcOG_r",
      "execution_count": 36,
      "outputs": [
        {
          "output_type": "stream",
          "name": "stdout",
          "text": [
            "Program done by : Ajay Pathak\n",
            "Enrollment No.: 190630107170\n",
            "=================================\n",
            "\n",
            "\n",
            "\n"
          ]
        },
        {
          "output_type": "execute_result",
          "data": {
            "text/html": [
              "<div>\n",
              "<style scoped>\n",
              "    .dataframe tbody tr th:only-of-type {\n",
              "        vertical-align: middle;\n",
              "    }\n",
              "\n",
              "    .dataframe tbody tr th {\n",
              "        vertical-align: top;\n",
              "    }\n",
              "\n",
              "    .dataframe thead th {\n",
              "        text-align: right;\n",
              "    }\n",
              "</style>\n",
              "<table border=\"1\" class=\"dataframe\">\n",
              "  <thead>\n",
              "    <tr style=\"text-align: right;\">\n",
              "      <th></th>\n",
              "      <th>COUNTRY</th>\n",
              "      <th>POP</th>\n",
              "      <th>AREA</th>\n",
              "      <th>GDP</th>\n",
              "      <th>CONT</th>\n",
              "      <th>IND_DAY</th>\n",
              "    </tr>\n",
              "  </thead>\n",
              "  <tbody>\n",
              "    <tr>\n",
              "      <th>CHN</th>\n",
              "      <td>China</td>\n",
              "      <td>1398.72</td>\n",
              "      <td>9596.96</td>\n",
              "      <td>12234.8</td>\n",
              "      <td>Asia</td>\n",
              "      <td>NaN</td>\n",
              "    </tr>\n",
              "    <tr>\n",
              "      <th>IND</th>\n",
              "      <td>India</td>\n",
              "      <td>1351.16</td>\n",
              "      <td>3287.26</td>\n",
              "      <td>2575.67</td>\n",
              "      <td>Asia</td>\n",
              "      <td>1947-08-15</td>\n",
              "    </tr>\n",
              "    <tr>\n",
              "      <th>USA</th>\n",
              "      <td>US</td>\n",
              "      <td>329.74</td>\n",
              "      <td>9833.52</td>\n",
              "      <td>19485.4</td>\n",
              "      <td>N.America</td>\n",
              "      <td>1776-07-04</td>\n",
              "    </tr>\n",
              "    <tr>\n",
              "      <th>IDN</th>\n",
              "      <td>Indonesia</td>\n",
              "      <td>268.07</td>\n",
              "      <td>1910.93</td>\n",
              "      <td>1015.54</td>\n",
              "      <td>Asia</td>\n",
              "      <td>1945-08-17</td>\n",
              "    </tr>\n",
              "    <tr>\n",
              "      <th>BRA</th>\n",
              "      <td>Brazil</td>\n",
              "      <td>210.32</td>\n",
              "      <td>8515.77</td>\n",
              "      <td>2055.51</td>\n",
              "      <td>S.America</td>\n",
              "      <td>1822-09-07</td>\n",
              "    </tr>\n",
              "    <tr>\n",
              "      <th>PAK</th>\n",
              "      <td>Pakistan</td>\n",
              "      <td>205.71</td>\n",
              "      <td>881.91</td>\n",
              "      <td>302.14</td>\n",
              "      <td>Asia</td>\n",
              "      <td>1947-08-14</td>\n",
              "    </tr>\n",
              "    <tr>\n",
              "      <th>NGA</th>\n",
              "      <td>Nigeria</td>\n",
              "      <td>200.96</td>\n",
              "      <td>923.77</td>\n",
              "      <td>375.77</td>\n",
              "      <td>Africa</td>\n",
              "      <td>1960-10-01</td>\n",
              "    </tr>\n",
              "    <tr>\n",
              "      <th>BGD</th>\n",
              "      <td>Bangladesh</td>\n",
              "      <td>167.09</td>\n",
              "      <td>147.57</td>\n",
              "      <td>245.63</td>\n",
              "      <td>Asia</td>\n",
              "      <td>1971-03-26</td>\n",
              "    </tr>\n",
              "    <tr>\n",
              "      <th>RUS</th>\n",
              "      <td>Russia</td>\n",
              "      <td>146.79</td>\n",
              "      <td>17098.2</td>\n",
              "      <td>1530.75</td>\n",
              "      <td>NaN</td>\n",
              "      <td>1992-06-12</td>\n",
              "    </tr>\n",
              "    <tr>\n",
              "      <th>MEX</th>\n",
              "      <td>Mexico</td>\n",
              "      <td>126.58</td>\n",
              "      <td>1964.38</td>\n",
              "      <td>1158.23</td>\n",
              "      <td>N.America</td>\n",
              "      <td>1810-09-16</td>\n",
              "    </tr>\n",
              "    <tr>\n",
              "      <th>JPN</th>\n",
              "      <td>Japan</td>\n",
              "      <td>126.22</td>\n",
              "      <td>377.97</td>\n",
              "      <td>4872.42</td>\n",
              "      <td>Asia</td>\n",
              "      <td>NaN</td>\n",
              "    </tr>\n",
              "    <tr>\n",
              "      <th>DEU</th>\n",
              "      <td>Germany</td>\n",
              "      <td>83.02</td>\n",
              "      <td>357.11</td>\n",
              "      <td>3693.2</td>\n",
              "      <td>Europe</td>\n",
              "      <td>NaN</td>\n",
              "    </tr>\n",
              "    <tr>\n",
              "      <th>FRA</th>\n",
              "      <td>France</td>\n",
              "      <td>67.02</td>\n",
              "      <td>640.68</td>\n",
              "      <td>2582.49</td>\n",
              "      <td>Europe</td>\n",
              "      <td>1789-07-14</td>\n",
              "    </tr>\n",
              "    <tr>\n",
              "      <th>GBR</th>\n",
              "      <td>UK</td>\n",
              "      <td>66.44</td>\n",
              "      <td>242.5</td>\n",
              "      <td>2631.23</td>\n",
              "      <td>Europe</td>\n",
              "      <td>NaN</td>\n",
              "    </tr>\n",
              "    <tr>\n",
              "      <th>ITA</th>\n",
              "      <td>Italy</td>\n",
              "      <td>60.36</td>\n",
              "      <td>301.34</td>\n",
              "      <td>1943.84</td>\n",
              "      <td>Europe</td>\n",
              "      <td>NaN</td>\n",
              "    </tr>\n",
              "    <tr>\n",
              "      <th>ARG</th>\n",
              "      <td>Argentina</td>\n",
              "      <td>44.94</td>\n",
              "      <td>2780.4</td>\n",
              "      <td>637.49</td>\n",
              "      <td>S.America</td>\n",
              "      <td>1816-07-09</td>\n",
              "    </tr>\n",
              "    <tr>\n",
              "      <th>DZA</th>\n",
              "      <td>Algeria</td>\n",
              "      <td>43.38</td>\n",
              "      <td>2381.74</td>\n",
              "      <td>167.56</td>\n",
              "      <td>Africa</td>\n",
              "      <td>1962-07-05</td>\n",
              "    </tr>\n",
              "    <tr>\n",
              "      <th>CAN</th>\n",
              "      <td>Canada</td>\n",
              "      <td>37.59</td>\n",
              "      <td>9984.67</td>\n",
              "      <td>1647.12</td>\n",
              "      <td>N.America</td>\n",
              "      <td>1867-07-01</td>\n",
              "    </tr>\n",
              "    <tr>\n",
              "      <th>AUS</th>\n",
              "      <td>Australia</td>\n",
              "      <td>25.47</td>\n",
              "      <td>7692.02</td>\n",
              "      <td>1408.68</td>\n",
              "      <td>Oceania</td>\n",
              "      <td>NaN</td>\n",
              "    </tr>\n",
              "    <tr>\n",
              "      <th>KAZ</th>\n",
              "      <td>Kazakhstan</td>\n",
              "      <td>18.53</td>\n",
              "      <td>2724.9</td>\n",
              "      <td>159.41</td>\n",
              "      <td>Asia</td>\n",
              "      <td>1991-12-16</td>\n",
              "    </tr>\n",
              "  </tbody>\n",
              "</table>\n",
              "</div>"
            ],
            "text/plain": [
              "        COUNTRY      POP     AREA      GDP       CONT     IND_DAY\n",
              "CHN       China  1398.72  9596.96  12234.8       Asia         NaN\n",
              "IND       India  1351.16  3287.26  2575.67       Asia  1947-08-15\n",
              "USA          US   329.74  9833.52  19485.4  N.America  1776-07-04\n",
              "IDN   Indonesia   268.07  1910.93  1015.54       Asia  1945-08-17\n",
              "BRA      Brazil   210.32  8515.77  2055.51  S.America  1822-09-07\n",
              "PAK    Pakistan   205.71   881.91   302.14       Asia  1947-08-14\n",
              "NGA     Nigeria   200.96   923.77   375.77     Africa  1960-10-01\n",
              "BGD  Bangladesh   167.09   147.57   245.63       Asia  1971-03-26\n",
              "RUS      Russia   146.79  17098.2  1530.75        NaN  1992-06-12\n",
              "MEX      Mexico   126.58  1964.38  1158.23  N.America  1810-09-16\n",
              "JPN       Japan   126.22   377.97  4872.42       Asia         NaN\n",
              "DEU     Germany    83.02   357.11   3693.2     Europe         NaN\n",
              "FRA      France    67.02   640.68  2582.49     Europe  1789-07-14\n",
              "GBR          UK    66.44    242.5  2631.23     Europe         NaN\n",
              "ITA       Italy    60.36   301.34  1943.84     Europe         NaN\n",
              "ARG   Argentina    44.94   2780.4   637.49  S.America  1816-07-09\n",
              "DZA     Algeria    43.38  2381.74   167.56     Africa  1962-07-05\n",
              "CAN      Canada    37.59  9984.67  1647.12  N.America  1867-07-01\n",
              "AUS   Australia    25.47  7692.02  1408.68    Oceania         NaN\n",
              "KAZ  Kazakhstan    18.53   2724.9   159.41       Asia  1991-12-16"
            ]
          },
          "metadata": {},
          "execution_count": 36
        }
      ]
    },
    {
      "cell_type": "markdown",
      "metadata": {
        "id": "Aj1Zuh94R0Tt"
      },
      "source": [
        "## Using Pandas to convert data in various format types."
      ],
      "id": "Aj1Zuh94R0Tt"
    },
    {
      "cell_type": "markdown",
      "metadata": {
        "id": "wrzW7_DuSFim"
      },
      "source": [
        "### CSV Format type"
      ],
      "id": "wrzW7_DuSFim"
    },
    {
      "cell_type": "markdown",
      "metadata": {
        "id": "Cc72aS7VSL9D"
      },
      "source": [
        "Use ```to_csv('file_name.csv')``` to convert DataFrame in CSV format"
      ],
      "id": "Cc72aS7VSL9D"
    },
    {
      "cell_type": "code",
      "metadata": {
        "id": "zOwsJ7FlOJLj",
        "colab": {
          "base_uri": "https://localhost:8080/"
        },
        "outputId": "a191345c-f9c0-4bbc-ec92-7e7e5d2e04f0"
      },
      "source": [
        "# --------------------------------------------\n",
        "print('Program done by : Ajay Pathak\\n' +\n",
        "      'Enrollment No.: 190630107170\\n' +\n",
        "      '=================================\\n\\n\\n')\n",
        "\n",
        "# Let's convert our contries_data into csv format\n",
        "# our contries data is stored in df variable \n",
        "df.to_csv('contries_data.csv')  # NOTE : we give the filename whatever we like but its extension must be .csv\n",
        "\n",
        "# if you check your colab folder , \n",
        "# you can see contries_data.csv file."
      ],
      "id": "zOwsJ7FlOJLj",
      "execution_count": 37,
      "outputs": [
        {
          "output_type": "stream",
          "name": "stdout",
          "text": [
            "Program done by : Ajay Pathak\n",
            "Enrollment No.: 190630107170\n",
            "=================================\n",
            "\n",
            "\n",
            "\n"
          ]
        }
      ]
    },
    {
      "cell_type": "markdown",
      "metadata": {
        "id": "StL2KJ8HSz0v"
      },
      "source": [
        "Use ```pd.read_csv(filename)``` to read csv file.\n",
        "\n",
        "This function returns DataFrame object , so we need to store it in some variable."
      ],
      "id": "StL2KJ8HSz0v"
    },
    {
      "cell_type": "code",
      "metadata": {
        "colab": {
          "base_uri": "https://localhost:8080/",
          "height": 770
        },
        "id": "H43Yw5gbOLe7",
        "outputId": "2a46b4fc-f134-4d24-dfbd-44efab1cfd21"
      },
      "source": [
        "# --------------------------------------------\n",
        "print('Program done by : Ajay Pathak\\n' +\n",
        "      'Enrollment No.: 190630107170\\n' +\n",
        "      '=================================\\n\\n\\n')\n",
        "\n",
        "\n",
        "df = pd.read_csv('contries_data.csv') # NOTE : Only file with extension .csv can be read. \n",
        "# Now that it returns DataFrame object , we can print it like below\n",
        "df"
      ],
      "id": "H43Yw5gbOLe7",
      "execution_count": 38,
      "outputs": [
        {
          "output_type": "stream",
          "name": "stdout",
          "text": [
            "Program done by : Ajay Pathak\n",
            "Enrollment No.: 190630107170\n",
            "=================================\n",
            "\n",
            "\n",
            "\n"
          ]
        },
        {
          "output_type": "execute_result",
          "data": {
            "text/html": [
              "<div>\n",
              "<style scoped>\n",
              "    .dataframe tbody tr th:only-of-type {\n",
              "        vertical-align: middle;\n",
              "    }\n",
              "\n",
              "    .dataframe tbody tr th {\n",
              "        vertical-align: top;\n",
              "    }\n",
              "\n",
              "    .dataframe thead th {\n",
              "        text-align: right;\n",
              "    }\n",
              "</style>\n",
              "<table border=\"1\" class=\"dataframe\">\n",
              "  <thead>\n",
              "    <tr style=\"text-align: right;\">\n",
              "      <th></th>\n",
              "      <th>Unnamed: 0</th>\n",
              "      <th>COUNTRY</th>\n",
              "      <th>POP</th>\n",
              "      <th>AREA</th>\n",
              "      <th>GDP</th>\n",
              "      <th>CONT</th>\n",
              "      <th>IND_DAY</th>\n",
              "    </tr>\n",
              "  </thead>\n",
              "  <tbody>\n",
              "    <tr>\n",
              "      <th>0</th>\n",
              "      <td>CHN</td>\n",
              "      <td>China</td>\n",
              "      <td>1398.72</td>\n",
              "      <td>9596.96</td>\n",
              "      <td>12234.78</td>\n",
              "      <td>Asia</td>\n",
              "      <td>NaN</td>\n",
              "    </tr>\n",
              "    <tr>\n",
              "      <th>1</th>\n",
              "      <td>IND</td>\n",
              "      <td>India</td>\n",
              "      <td>1351.16</td>\n",
              "      <td>3287.26</td>\n",
              "      <td>2575.67</td>\n",
              "      <td>Asia</td>\n",
              "      <td>1947-08-15</td>\n",
              "    </tr>\n",
              "    <tr>\n",
              "      <th>2</th>\n",
              "      <td>USA</td>\n",
              "      <td>US</td>\n",
              "      <td>329.74</td>\n",
              "      <td>9833.52</td>\n",
              "      <td>19485.39</td>\n",
              "      <td>N.America</td>\n",
              "      <td>1776-07-04</td>\n",
              "    </tr>\n",
              "    <tr>\n",
              "      <th>3</th>\n",
              "      <td>IDN</td>\n",
              "      <td>Indonesia</td>\n",
              "      <td>268.07</td>\n",
              "      <td>1910.93</td>\n",
              "      <td>1015.54</td>\n",
              "      <td>Asia</td>\n",
              "      <td>1945-08-17</td>\n",
              "    </tr>\n",
              "    <tr>\n",
              "      <th>4</th>\n",
              "      <td>BRA</td>\n",
              "      <td>Brazil</td>\n",
              "      <td>210.32</td>\n",
              "      <td>8515.77</td>\n",
              "      <td>2055.51</td>\n",
              "      <td>S.America</td>\n",
              "      <td>1822-09-07</td>\n",
              "    </tr>\n",
              "    <tr>\n",
              "      <th>5</th>\n",
              "      <td>PAK</td>\n",
              "      <td>Pakistan</td>\n",
              "      <td>205.71</td>\n",
              "      <td>881.91</td>\n",
              "      <td>302.14</td>\n",
              "      <td>Asia</td>\n",
              "      <td>1947-08-14</td>\n",
              "    </tr>\n",
              "    <tr>\n",
              "      <th>6</th>\n",
              "      <td>NGA</td>\n",
              "      <td>Nigeria</td>\n",
              "      <td>200.96</td>\n",
              "      <td>923.77</td>\n",
              "      <td>375.77</td>\n",
              "      <td>Africa</td>\n",
              "      <td>1960-10-01</td>\n",
              "    </tr>\n",
              "    <tr>\n",
              "      <th>7</th>\n",
              "      <td>BGD</td>\n",
              "      <td>Bangladesh</td>\n",
              "      <td>167.09</td>\n",
              "      <td>147.57</td>\n",
              "      <td>245.63</td>\n",
              "      <td>Asia</td>\n",
              "      <td>1971-03-26</td>\n",
              "    </tr>\n",
              "    <tr>\n",
              "      <th>8</th>\n",
              "      <td>RUS</td>\n",
              "      <td>Russia</td>\n",
              "      <td>146.79</td>\n",
              "      <td>17098.25</td>\n",
              "      <td>1530.75</td>\n",
              "      <td>NaN</td>\n",
              "      <td>1992-06-12</td>\n",
              "    </tr>\n",
              "    <tr>\n",
              "      <th>9</th>\n",
              "      <td>MEX</td>\n",
              "      <td>Mexico</td>\n",
              "      <td>126.58</td>\n",
              "      <td>1964.38</td>\n",
              "      <td>1158.23</td>\n",
              "      <td>N.America</td>\n",
              "      <td>1810-09-16</td>\n",
              "    </tr>\n",
              "    <tr>\n",
              "      <th>10</th>\n",
              "      <td>JPN</td>\n",
              "      <td>Japan</td>\n",
              "      <td>126.22</td>\n",
              "      <td>377.97</td>\n",
              "      <td>4872.42</td>\n",
              "      <td>Asia</td>\n",
              "      <td>NaN</td>\n",
              "    </tr>\n",
              "    <tr>\n",
              "      <th>11</th>\n",
              "      <td>DEU</td>\n",
              "      <td>Germany</td>\n",
              "      <td>83.02</td>\n",
              "      <td>357.11</td>\n",
              "      <td>3693.20</td>\n",
              "      <td>Europe</td>\n",
              "      <td>NaN</td>\n",
              "    </tr>\n",
              "    <tr>\n",
              "      <th>12</th>\n",
              "      <td>FRA</td>\n",
              "      <td>France</td>\n",
              "      <td>67.02</td>\n",
              "      <td>640.68</td>\n",
              "      <td>2582.49</td>\n",
              "      <td>Europe</td>\n",
              "      <td>1789-07-14</td>\n",
              "    </tr>\n",
              "    <tr>\n",
              "      <th>13</th>\n",
              "      <td>GBR</td>\n",
              "      <td>UK</td>\n",
              "      <td>66.44</td>\n",
              "      <td>242.50</td>\n",
              "      <td>2631.23</td>\n",
              "      <td>Europe</td>\n",
              "      <td>NaN</td>\n",
              "    </tr>\n",
              "    <tr>\n",
              "      <th>14</th>\n",
              "      <td>ITA</td>\n",
              "      <td>Italy</td>\n",
              "      <td>60.36</td>\n",
              "      <td>301.34</td>\n",
              "      <td>1943.84</td>\n",
              "      <td>Europe</td>\n",
              "      <td>NaN</td>\n",
              "    </tr>\n",
              "    <tr>\n",
              "      <th>15</th>\n",
              "      <td>ARG</td>\n",
              "      <td>Argentina</td>\n",
              "      <td>44.94</td>\n",
              "      <td>2780.40</td>\n",
              "      <td>637.49</td>\n",
              "      <td>S.America</td>\n",
              "      <td>1816-07-09</td>\n",
              "    </tr>\n",
              "    <tr>\n",
              "      <th>16</th>\n",
              "      <td>DZA</td>\n",
              "      <td>Algeria</td>\n",
              "      <td>43.38</td>\n",
              "      <td>2381.74</td>\n",
              "      <td>167.56</td>\n",
              "      <td>Africa</td>\n",
              "      <td>1962-07-05</td>\n",
              "    </tr>\n",
              "    <tr>\n",
              "      <th>17</th>\n",
              "      <td>CAN</td>\n",
              "      <td>Canada</td>\n",
              "      <td>37.59</td>\n",
              "      <td>9984.67</td>\n",
              "      <td>1647.12</td>\n",
              "      <td>N.America</td>\n",
              "      <td>1867-07-01</td>\n",
              "    </tr>\n",
              "    <tr>\n",
              "      <th>18</th>\n",
              "      <td>AUS</td>\n",
              "      <td>Australia</td>\n",
              "      <td>25.47</td>\n",
              "      <td>7692.02</td>\n",
              "      <td>1408.68</td>\n",
              "      <td>Oceania</td>\n",
              "      <td>NaN</td>\n",
              "    </tr>\n",
              "    <tr>\n",
              "      <th>19</th>\n",
              "      <td>KAZ</td>\n",
              "      <td>Kazakhstan</td>\n",
              "      <td>18.53</td>\n",
              "      <td>2724.90</td>\n",
              "      <td>159.41</td>\n",
              "      <td>Asia</td>\n",
              "      <td>1991-12-16</td>\n",
              "    </tr>\n",
              "  </tbody>\n",
              "</table>\n",
              "</div>"
            ],
            "text/plain": [
              "   Unnamed: 0     COUNTRY      POP      AREA       GDP       CONT     IND_DAY\n",
              "0         CHN       China  1398.72   9596.96  12234.78       Asia         NaN\n",
              "1         IND       India  1351.16   3287.26   2575.67       Asia  1947-08-15\n",
              "2         USA          US   329.74   9833.52  19485.39  N.America  1776-07-04\n",
              "3         IDN   Indonesia   268.07   1910.93   1015.54       Asia  1945-08-17\n",
              "4         BRA      Brazil   210.32   8515.77   2055.51  S.America  1822-09-07\n",
              "5         PAK    Pakistan   205.71    881.91    302.14       Asia  1947-08-14\n",
              "6         NGA     Nigeria   200.96    923.77    375.77     Africa  1960-10-01\n",
              "7         BGD  Bangladesh   167.09    147.57    245.63       Asia  1971-03-26\n",
              "8         RUS      Russia   146.79  17098.25   1530.75        NaN  1992-06-12\n",
              "9         MEX      Mexico   126.58   1964.38   1158.23  N.America  1810-09-16\n",
              "10        JPN       Japan   126.22    377.97   4872.42       Asia         NaN\n",
              "11        DEU     Germany    83.02    357.11   3693.20     Europe         NaN\n",
              "12        FRA      France    67.02    640.68   2582.49     Europe  1789-07-14\n",
              "13        GBR          UK    66.44    242.50   2631.23     Europe         NaN\n",
              "14        ITA       Italy    60.36    301.34   1943.84     Europe         NaN\n",
              "15        ARG   Argentina    44.94   2780.40    637.49  S.America  1816-07-09\n",
              "16        DZA     Algeria    43.38   2381.74    167.56     Africa  1962-07-05\n",
              "17        CAN      Canada    37.59   9984.67   1647.12  N.America  1867-07-01\n",
              "18        AUS   Australia    25.47   7692.02   1408.68    Oceania         NaN\n",
              "19        KAZ  Kazakhstan    18.53   2724.90    159.41       Asia  1991-12-16"
            ]
          },
          "metadata": {},
          "execution_count": 38
        }
      ]
    },
    {
      "cell_type": "code",
      "metadata": {
        "colab": {
          "base_uri": "https://localhost:8080/",
          "height": 770
        },
        "id": "9ZBg2YwsON8p",
        "outputId": "1e266776-468e-43b5-a337-30132b28f5ae"
      },
      "source": [
        "# --------------------------------------------\n",
        "print('Program done by : Ajay Pathak\\n' +\n",
        "      'Enrollment No.: 190630107170\\n' +\n",
        "      '=================================\\n\\n\\n')\n",
        "\n",
        "\n",
        "# Let's make column that represents country's abbreviated names as a index column\n",
        "# in read_csv fumction we can give index which represents index\n",
        "# in our case first column represents index , so it's 0th column in DataFrame\n",
        "df = pd.read_csv('contries_data.csv', index_col=0) \n",
        "df"
      ],
      "id": "9ZBg2YwsON8p",
      "execution_count": 39,
      "outputs": [
        {
          "output_type": "stream",
          "name": "stdout",
          "text": [
            "Program done by : Ajay Pathak\n",
            "Enrollment No.: 190630107170\n",
            "=================================\n",
            "\n",
            "\n",
            "\n"
          ]
        },
        {
          "output_type": "execute_result",
          "data": {
            "text/html": [
              "<div>\n",
              "<style scoped>\n",
              "    .dataframe tbody tr th:only-of-type {\n",
              "        vertical-align: middle;\n",
              "    }\n",
              "\n",
              "    .dataframe tbody tr th {\n",
              "        vertical-align: top;\n",
              "    }\n",
              "\n",
              "    .dataframe thead th {\n",
              "        text-align: right;\n",
              "    }\n",
              "</style>\n",
              "<table border=\"1\" class=\"dataframe\">\n",
              "  <thead>\n",
              "    <tr style=\"text-align: right;\">\n",
              "      <th></th>\n",
              "      <th>COUNTRY</th>\n",
              "      <th>POP</th>\n",
              "      <th>AREA</th>\n",
              "      <th>GDP</th>\n",
              "      <th>CONT</th>\n",
              "      <th>IND_DAY</th>\n",
              "    </tr>\n",
              "  </thead>\n",
              "  <tbody>\n",
              "    <tr>\n",
              "      <th>CHN</th>\n",
              "      <td>China</td>\n",
              "      <td>1398.72</td>\n",
              "      <td>9596.96</td>\n",
              "      <td>12234.78</td>\n",
              "      <td>Asia</td>\n",
              "      <td>NaN</td>\n",
              "    </tr>\n",
              "    <tr>\n",
              "      <th>IND</th>\n",
              "      <td>India</td>\n",
              "      <td>1351.16</td>\n",
              "      <td>3287.26</td>\n",
              "      <td>2575.67</td>\n",
              "      <td>Asia</td>\n",
              "      <td>1947-08-15</td>\n",
              "    </tr>\n",
              "    <tr>\n",
              "      <th>USA</th>\n",
              "      <td>US</td>\n",
              "      <td>329.74</td>\n",
              "      <td>9833.52</td>\n",
              "      <td>19485.39</td>\n",
              "      <td>N.America</td>\n",
              "      <td>1776-07-04</td>\n",
              "    </tr>\n",
              "    <tr>\n",
              "      <th>IDN</th>\n",
              "      <td>Indonesia</td>\n",
              "      <td>268.07</td>\n",
              "      <td>1910.93</td>\n",
              "      <td>1015.54</td>\n",
              "      <td>Asia</td>\n",
              "      <td>1945-08-17</td>\n",
              "    </tr>\n",
              "    <tr>\n",
              "      <th>BRA</th>\n",
              "      <td>Brazil</td>\n",
              "      <td>210.32</td>\n",
              "      <td>8515.77</td>\n",
              "      <td>2055.51</td>\n",
              "      <td>S.America</td>\n",
              "      <td>1822-09-07</td>\n",
              "    </tr>\n",
              "    <tr>\n",
              "      <th>PAK</th>\n",
              "      <td>Pakistan</td>\n",
              "      <td>205.71</td>\n",
              "      <td>881.91</td>\n",
              "      <td>302.14</td>\n",
              "      <td>Asia</td>\n",
              "      <td>1947-08-14</td>\n",
              "    </tr>\n",
              "    <tr>\n",
              "      <th>NGA</th>\n",
              "      <td>Nigeria</td>\n",
              "      <td>200.96</td>\n",
              "      <td>923.77</td>\n",
              "      <td>375.77</td>\n",
              "      <td>Africa</td>\n",
              "      <td>1960-10-01</td>\n",
              "    </tr>\n",
              "    <tr>\n",
              "      <th>BGD</th>\n",
              "      <td>Bangladesh</td>\n",
              "      <td>167.09</td>\n",
              "      <td>147.57</td>\n",
              "      <td>245.63</td>\n",
              "      <td>Asia</td>\n",
              "      <td>1971-03-26</td>\n",
              "    </tr>\n",
              "    <tr>\n",
              "      <th>RUS</th>\n",
              "      <td>Russia</td>\n",
              "      <td>146.79</td>\n",
              "      <td>17098.25</td>\n",
              "      <td>1530.75</td>\n",
              "      <td>NaN</td>\n",
              "      <td>1992-06-12</td>\n",
              "    </tr>\n",
              "    <tr>\n",
              "      <th>MEX</th>\n",
              "      <td>Mexico</td>\n",
              "      <td>126.58</td>\n",
              "      <td>1964.38</td>\n",
              "      <td>1158.23</td>\n",
              "      <td>N.America</td>\n",
              "      <td>1810-09-16</td>\n",
              "    </tr>\n",
              "    <tr>\n",
              "      <th>JPN</th>\n",
              "      <td>Japan</td>\n",
              "      <td>126.22</td>\n",
              "      <td>377.97</td>\n",
              "      <td>4872.42</td>\n",
              "      <td>Asia</td>\n",
              "      <td>NaN</td>\n",
              "    </tr>\n",
              "    <tr>\n",
              "      <th>DEU</th>\n",
              "      <td>Germany</td>\n",
              "      <td>83.02</td>\n",
              "      <td>357.11</td>\n",
              "      <td>3693.20</td>\n",
              "      <td>Europe</td>\n",
              "      <td>NaN</td>\n",
              "    </tr>\n",
              "    <tr>\n",
              "      <th>FRA</th>\n",
              "      <td>France</td>\n",
              "      <td>67.02</td>\n",
              "      <td>640.68</td>\n",
              "      <td>2582.49</td>\n",
              "      <td>Europe</td>\n",
              "      <td>1789-07-14</td>\n",
              "    </tr>\n",
              "    <tr>\n",
              "      <th>GBR</th>\n",
              "      <td>UK</td>\n",
              "      <td>66.44</td>\n",
              "      <td>242.50</td>\n",
              "      <td>2631.23</td>\n",
              "      <td>Europe</td>\n",
              "      <td>NaN</td>\n",
              "    </tr>\n",
              "    <tr>\n",
              "      <th>ITA</th>\n",
              "      <td>Italy</td>\n",
              "      <td>60.36</td>\n",
              "      <td>301.34</td>\n",
              "      <td>1943.84</td>\n",
              "      <td>Europe</td>\n",
              "      <td>NaN</td>\n",
              "    </tr>\n",
              "    <tr>\n",
              "      <th>ARG</th>\n",
              "      <td>Argentina</td>\n",
              "      <td>44.94</td>\n",
              "      <td>2780.40</td>\n",
              "      <td>637.49</td>\n",
              "      <td>S.America</td>\n",
              "      <td>1816-07-09</td>\n",
              "    </tr>\n",
              "    <tr>\n",
              "      <th>DZA</th>\n",
              "      <td>Algeria</td>\n",
              "      <td>43.38</td>\n",
              "      <td>2381.74</td>\n",
              "      <td>167.56</td>\n",
              "      <td>Africa</td>\n",
              "      <td>1962-07-05</td>\n",
              "    </tr>\n",
              "    <tr>\n",
              "      <th>CAN</th>\n",
              "      <td>Canada</td>\n",
              "      <td>37.59</td>\n",
              "      <td>9984.67</td>\n",
              "      <td>1647.12</td>\n",
              "      <td>N.America</td>\n",
              "      <td>1867-07-01</td>\n",
              "    </tr>\n",
              "    <tr>\n",
              "      <th>AUS</th>\n",
              "      <td>Australia</td>\n",
              "      <td>25.47</td>\n",
              "      <td>7692.02</td>\n",
              "      <td>1408.68</td>\n",
              "      <td>Oceania</td>\n",
              "      <td>NaN</td>\n",
              "    </tr>\n",
              "    <tr>\n",
              "      <th>KAZ</th>\n",
              "      <td>Kazakhstan</td>\n",
              "      <td>18.53</td>\n",
              "      <td>2724.90</td>\n",
              "      <td>159.41</td>\n",
              "      <td>Asia</td>\n",
              "      <td>1991-12-16</td>\n",
              "    </tr>\n",
              "  </tbody>\n",
              "</table>\n",
              "</div>"
            ],
            "text/plain": [
              "        COUNTRY      POP      AREA       GDP       CONT     IND_DAY\n",
              "CHN       China  1398.72   9596.96  12234.78       Asia         NaN\n",
              "IND       India  1351.16   3287.26   2575.67       Asia  1947-08-15\n",
              "USA          US   329.74   9833.52  19485.39  N.America  1776-07-04\n",
              "IDN   Indonesia   268.07   1910.93   1015.54       Asia  1945-08-17\n",
              "BRA      Brazil   210.32   8515.77   2055.51  S.America  1822-09-07\n",
              "PAK    Pakistan   205.71    881.91    302.14       Asia  1947-08-14\n",
              "NGA     Nigeria   200.96    923.77    375.77     Africa  1960-10-01\n",
              "BGD  Bangladesh   167.09    147.57    245.63       Asia  1971-03-26\n",
              "RUS      Russia   146.79  17098.25   1530.75        NaN  1992-06-12\n",
              "MEX      Mexico   126.58   1964.38   1158.23  N.America  1810-09-16\n",
              "JPN       Japan   126.22    377.97   4872.42       Asia         NaN\n",
              "DEU     Germany    83.02    357.11   3693.20     Europe         NaN\n",
              "FRA      France    67.02    640.68   2582.49     Europe  1789-07-14\n",
              "GBR          UK    66.44    242.50   2631.23     Europe         NaN\n",
              "ITA       Italy    60.36    301.34   1943.84     Europe         NaN\n",
              "ARG   Argentina    44.94   2780.40    637.49  S.America  1816-07-09\n",
              "DZA     Algeria    43.38   2381.74    167.56     Africa  1962-07-05\n",
              "CAN      Canada    37.59   9984.67   1647.12  N.America  1867-07-01\n",
              "AUS   Australia    25.47   7692.02   1408.68    Oceania         NaN\n",
              "KAZ  Kazakhstan    18.53   2724.90    159.41       Asia  1991-12-16"
            ]
          },
          "metadata": {},
          "execution_count": 39
        }
      ]
    },
    {
      "cell_type": "markdown",
      "metadata": {
        "id": "qgFrbm5OWIGK"
      },
      "source": [
        "### Excel format type"
      ],
      "id": "qgFrbm5OWIGK"
    },
    {
      "cell_type": "markdown",
      "metadata": {
        "id": "jRyvbuCuWbOq"
      },
      "source": [
        "To convert to and read from Excel files we need to install some packages. \n",
        "- xlwt\n",
        "- openpyxl\n",
        "- xlswriter\n",
        "- xlrd\n",
        "\n",
        "NOTE : Below cell gives command to install these in one line only\n",
        "\n",
        "We can always install only one package and not others if not required"
      ],
      "id": "jRyvbuCuWbOq"
    },
    {
      "cell_type": "code",
      "metadata": {
        "colab": {
          "base_uri": "https://localhost:8080/"
        },
        "id": "y6YQsYIgOQG_",
        "outputId": "ba9437eb-e0ed-48cf-9d91-b2ee70a077e1"
      },
      "source": [
        "pip install xlwt openpyxl xlsxwriter xlrd"
      ],
      "id": "y6YQsYIgOQG_",
      "execution_count": 40,
      "outputs": [
        {
          "output_type": "stream",
          "name": "stdout",
          "text": [
            "Requirement already satisfied: xlwt in /usr/local/lib/python3.7/dist-packages (1.3.0)\n",
            "Requirement already satisfied: openpyxl in /usr/local/lib/python3.7/dist-packages (2.5.9)\n",
            "Collecting xlsxwriter\n",
            "  Downloading XlsxWriter-3.0.1-py3-none-any.whl (148 kB)\n",
            "\u001b[K     |████████████████████████████████| 148 kB 4.1 MB/s \n",
            "\u001b[?25hRequirement already satisfied: xlrd in /usr/local/lib/python3.7/dist-packages (1.1.0)\n",
            "Requirement already satisfied: jdcal in /usr/local/lib/python3.7/dist-packages (from openpyxl) (1.4.1)\n",
            "Requirement already satisfied: et-xmlfile in /usr/local/lib/python3.7/dist-packages (from openpyxl) (1.1.0)\n",
            "Installing collected packages: xlsxwriter\n",
            "Successfully installed xlsxwriter-3.0.1\n"
          ]
        }
      ]
    },
    {
      "cell_type": "code",
      "metadata": {
        "id": "aWy7RdLJOS8i",
        "colab": {
          "base_uri": "https://localhost:8080/"
        },
        "outputId": "6f64d208-efa0-4c52-bacc-bb3cae12edb6"
      },
      "source": [
        "# --------------------------------------------\n",
        "print('Program done by : Ajay Pathak\\n' +\n",
        "      'Enrollment No.: 190630107170\\n' +\n",
        "      '=================================\\n\\n\\n')\n",
        "\n",
        "df.to_excel('contries_data.xlsx')\n",
        "\n",
        "# We can find this file in our colab folder"
      ],
      "id": "aWy7RdLJOS8i",
      "execution_count": 41,
      "outputs": [
        {
          "output_type": "stream",
          "name": "stdout",
          "text": [
            "Program done by : Ajay Pathak\n",
            "Enrollment No.: 190630107170\n",
            "=================================\n",
            "\n",
            "\n",
            "\n"
          ]
        }
      ]
    },
    {
      "cell_type": "code",
      "metadata": {
        "colab": {
          "base_uri": "https://localhost:8080/",
          "height": 770
        },
        "id": "1U0zo8QYOWMB",
        "outputId": "07fcccce-bacf-48ef-81ba-4f14ea6558d1"
      },
      "source": [
        "# --------------------------------------------\n",
        "print('Program done by : Ajay Pathak\\n' +\n",
        "      'Enrollment No.: 190630107170\\n' +\n",
        "      '=================================\\n\\n\\n')\n",
        "\n",
        "df = pd.read_excel('contries_data.xlsx', index_col=0)\n",
        "df"
      ],
      "id": "1U0zo8QYOWMB",
      "execution_count": 42,
      "outputs": [
        {
          "output_type": "stream",
          "name": "stdout",
          "text": [
            "Program done by : Ajay Pathak\n",
            "Enrollment No.: 190630107170\n",
            "=================================\n",
            "\n",
            "\n",
            "\n"
          ]
        },
        {
          "output_type": "execute_result",
          "data": {
            "text/html": [
              "<div>\n",
              "<style scoped>\n",
              "    .dataframe tbody tr th:only-of-type {\n",
              "        vertical-align: middle;\n",
              "    }\n",
              "\n",
              "    .dataframe tbody tr th {\n",
              "        vertical-align: top;\n",
              "    }\n",
              "\n",
              "    .dataframe thead th {\n",
              "        text-align: right;\n",
              "    }\n",
              "</style>\n",
              "<table border=\"1\" class=\"dataframe\">\n",
              "  <thead>\n",
              "    <tr style=\"text-align: right;\">\n",
              "      <th></th>\n",
              "      <th>COUNTRY</th>\n",
              "      <th>POP</th>\n",
              "      <th>AREA</th>\n",
              "      <th>GDP</th>\n",
              "      <th>CONT</th>\n",
              "      <th>IND_DAY</th>\n",
              "    </tr>\n",
              "  </thead>\n",
              "  <tbody>\n",
              "    <tr>\n",
              "      <th>CHN</th>\n",
              "      <td>China</td>\n",
              "      <td>1398.72</td>\n",
              "      <td>9596.96</td>\n",
              "      <td>12234.78</td>\n",
              "      <td>Asia</td>\n",
              "      <td>NaN</td>\n",
              "    </tr>\n",
              "    <tr>\n",
              "      <th>IND</th>\n",
              "      <td>India</td>\n",
              "      <td>1351.16</td>\n",
              "      <td>3287.26</td>\n",
              "      <td>2575.67</td>\n",
              "      <td>Asia</td>\n",
              "      <td>1947-08-15</td>\n",
              "    </tr>\n",
              "    <tr>\n",
              "      <th>USA</th>\n",
              "      <td>US</td>\n",
              "      <td>329.74</td>\n",
              "      <td>9833.52</td>\n",
              "      <td>19485.39</td>\n",
              "      <td>N.America</td>\n",
              "      <td>1776-07-04</td>\n",
              "    </tr>\n",
              "    <tr>\n",
              "      <th>IDN</th>\n",
              "      <td>Indonesia</td>\n",
              "      <td>268.07</td>\n",
              "      <td>1910.93</td>\n",
              "      <td>1015.54</td>\n",
              "      <td>Asia</td>\n",
              "      <td>1945-08-17</td>\n",
              "    </tr>\n",
              "    <tr>\n",
              "      <th>BRA</th>\n",
              "      <td>Brazil</td>\n",
              "      <td>210.32</td>\n",
              "      <td>8515.77</td>\n",
              "      <td>2055.51</td>\n",
              "      <td>S.America</td>\n",
              "      <td>1822-09-07</td>\n",
              "    </tr>\n",
              "    <tr>\n",
              "      <th>PAK</th>\n",
              "      <td>Pakistan</td>\n",
              "      <td>205.71</td>\n",
              "      <td>881.91</td>\n",
              "      <td>302.14</td>\n",
              "      <td>Asia</td>\n",
              "      <td>1947-08-14</td>\n",
              "    </tr>\n",
              "    <tr>\n",
              "      <th>NGA</th>\n",
              "      <td>Nigeria</td>\n",
              "      <td>200.96</td>\n",
              "      <td>923.77</td>\n",
              "      <td>375.77</td>\n",
              "      <td>Africa</td>\n",
              "      <td>1960-10-01</td>\n",
              "    </tr>\n",
              "    <tr>\n",
              "      <th>BGD</th>\n",
              "      <td>Bangladesh</td>\n",
              "      <td>167.09</td>\n",
              "      <td>147.57</td>\n",
              "      <td>245.63</td>\n",
              "      <td>Asia</td>\n",
              "      <td>1971-03-26</td>\n",
              "    </tr>\n",
              "    <tr>\n",
              "      <th>RUS</th>\n",
              "      <td>Russia</td>\n",
              "      <td>146.79</td>\n",
              "      <td>17098.25</td>\n",
              "      <td>1530.75</td>\n",
              "      <td>NaN</td>\n",
              "      <td>1992-06-12</td>\n",
              "    </tr>\n",
              "    <tr>\n",
              "      <th>MEX</th>\n",
              "      <td>Mexico</td>\n",
              "      <td>126.58</td>\n",
              "      <td>1964.38</td>\n",
              "      <td>1158.23</td>\n",
              "      <td>N.America</td>\n",
              "      <td>1810-09-16</td>\n",
              "    </tr>\n",
              "    <tr>\n",
              "      <th>JPN</th>\n",
              "      <td>Japan</td>\n",
              "      <td>126.22</td>\n",
              "      <td>377.97</td>\n",
              "      <td>4872.42</td>\n",
              "      <td>Asia</td>\n",
              "      <td>NaN</td>\n",
              "    </tr>\n",
              "    <tr>\n",
              "      <th>DEU</th>\n",
              "      <td>Germany</td>\n",
              "      <td>83.02</td>\n",
              "      <td>357.11</td>\n",
              "      <td>3693.20</td>\n",
              "      <td>Europe</td>\n",
              "      <td>NaN</td>\n",
              "    </tr>\n",
              "    <tr>\n",
              "      <th>FRA</th>\n",
              "      <td>France</td>\n",
              "      <td>67.02</td>\n",
              "      <td>640.68</td>\n",
              "      <td>2582.49</td>\n",
              "      <td>Europe</td>\n",
              "      <td>1789-07-14</td>\n",
              "    </tr>\n",
              "    <tr>\n",
              "      <th>GBR</th>\n",
              "      <td>UK</td>\n",
              "      <td>66.44</td>\n",
              "      <td>242.50</td>\n",
              "      <td>2631.23</td>\n",
              "      <td>Europe</td>\n",
              "      <td>NaN</td>\n",
              "    </tr>\n",
              "    <tr>\n",
              "      <th>ITA</th>\n",
              "      <td>Italy</td>\n",
              "      <td>60.36</td>\n",
              "      <td>301.34</td>\n",
              "      <td>1943.84</td>\n",
              "      <td>Europe</td>\n",
              "      <td>NaN</td>\n",
              "    </tr>\n",
              "    <tr>\n",
              "      <th>ARG</th>\n",
              "      <td>Argentina</td>\n",
              "      <td>44.94</td>\n",
              "      <td>2780.40</td>\n",
              "      <td>637.49</td>\n",
              "      <td>S.America</td>\n",
              "      <td>1816-07-09</td>\n",
              "    </tr>\n",
              "    <tr>\n",
              "      <th>DZA</th>\n",
              "      <td>Algeria</td>\n",
              "      <td>43.38</td>\n",
              "      <td>2381.74</td>\n",
              "      <td>167.56</td>\n",
              "      <td>Africa</td>\n",
              "      <td>1962-07-05</td>\n",
              "    </tr>\n",
              "    <tr>\n",
              "      <th>CAN</th>\n",
              "      <td>Canada</td>\n",
              "      <td>37.59</td>\n",
              "      <td>9984.67</td>\n",
              "      <td>1647.12</td>\n",
              "      <td>N.America</td>\n",
              "      <td>1867-07-01</td>\n",
              "    </tr>\n",
              "    <tr>\n",
              "      <th>AUS</th>\n",
              "      <td>Australia</td>\n",
              "      <td>25.47</td>\n",
              "      <td>7692.02</td>\n",
              "      <td>1408.68</td>\n",
              "      <td>Oceania</td>\n",
              "      <td>NaN</td>\n",
              "    </tr>\n",
              "    <tr>\n",
              "      <th>KAZ</th>\n",
              "      <td>Kazakhstan</td>\n",
              "      <td>18.53</td>\n",
              "      <td>2724.90</td>\n",
              "      <td>159.41</td>\n",
              "      <td>Asia</td>\n",
              "      <td>1991-12-16</td>\n",
              "    </tr>\n",
              "  </tbody>\n",
              "</table>\n",
              "</div>"
            ],
            "text/plain": [
              "        COUNTRY      POP      AREA       GDP       CONT     IND_DAY\n",
              "CHN       China  1398.72   9596.96  12234.78       Asia         NaN\n",
              "IND       India  1351.16   3287.26   2575.67       Asia  1947-08-15\n",
              "USA          US   329.74   9833.52  19485.39  N.America  1776-07-04\n",
              "IDN   Indonesia   268.07   1910.93   1015.54       Asia  1945-08-17\n",
              "BRA      Brazil   210.32   8515.77   2055.51  S.America  1822-09-07\n",
              "PAK    Pakistan   205.71    881.91    302.14       Asia  1947-08-14\n",
              "NGA     Nigeria   200.96    923.77    375.77     Africa  1960-10-01\n",
              "BGD  Bangladesh   167.09    147.57    245.63       Asia  1971-03-26\n",
              "RUS      Russia   146.79  17098.25   1530.75        NaN  1992-06-12\n",
              "MEX      Mexico   126.58   1964.38   1158.23  N.America  1810-09-16\n",
              "JPN       Japan   126.22    377.97   4872.42       Asia         NaN\n",
              "DEU     Germany    83.02    357.11   3693.20     Europe         NaN\n",
              "FRA      France    67.02    640.68   2582.49     Europe  1789-07-14\n",
              "GBR          UK    66.44    242.50   2631.23     Europe         NaN\n",
              "ITA       Italy    60.36    301.34   1943.84     Europe         NaN\n",
              "ARG   Argentina    44.94   2780.40    637.49  S.America  1816-07-09\n",
              "DZA     Algeria    43.38   2381.74    167.56     Africa  1962-07-05\n",
              "CAN      Canada    37.59   9984.67   1647.12  N.America  1867-07-01\n",
              "AUS   Australia    25.47   7692.02   1408.68    Oceania         NaN\n",
              "KAZ  Kazakhstan    18.53   2724.90    159.41       Asia  1991-12-16"
            ]
          },
          "metadata": {},
          "execution_count": 42
        }
      ]
    },
    {
      "cell_type": "markdown",
      "metadata": {
        "id": "I_yxsU-SXX9i"
      },
      "source": [
        "### JSON format type"
      ],
      "id": "I_yxsU-SXX9i"
    },
    {
      "cell_type": "code",
      "metadata": {
        "colab": {
          "base_uri": "https://localhost:8080/",
          "height": 770
        },
        "id": "9h4jg6DwOYBI",
        "outputId": "94a7d68d-0ba1-4bba-f734-e28b745ff7c0"
      },
      "source": [
        "# --------------------------------------------\n",
        "print('Program done by : Ajay Pathak\\n' +\n",
        "      'Enrollment No.: 190630107170\\n' +\n",
        "      '=================================\\n\\n\\n')\n",
        "\n",
        "\n",
        "df_json = df.to_json('contries_data.json')\n",
        "\n",
        "# New jason file will be added in your directory\n",
        "pd.read_json('contries_data.json')"
      ],
      "id": "9h4jg6DwOYBI",
      "execution_count": 43,
      "outputs": [
        {
          "output_type": "stream",
          "name": "stdout",
          "text": [
            "Program done by : Ajay Pathak\n",
            "Enrollment No.: 190630107170\n",
            "=================================\n",
            "\n",
            "\n",
            "\n"
          ]
        },
        {
          "output_type": "execute_result",
          "data": {
            "text/html": [
              "<div>\n",
              "<style scoped>\n",
              "    .dataframe tbody tr th:only-of-type {\n",
              "        vertical-align: middle;\n",
              "    }\n",
              "\n",
              "    .dataframe tbody tr th {\n",
              "        vertical-align: top;\n",
              "    }\n",
              "\n",
              "    .dataframe thead th {\n",
              "        text-align: right;\n",
              "    }\n",
              "</style>\n",
              "<table border=\"1\" class=\"dataframe\">\n",
              "  <thead>\n",
              "    <tr style=\"text-align: right;\">\n",
              "      <th></th>\n",
              "      <th>COUNTRY</th>\n",
              "      <th>POP</th>\n",
              "      <th>AREA</th>\n",
              "      <th>GDP</th>\n",
              "      <th>CONT</th>\n",
              "      <th>IND_DAY</th>\n",
              "    </tr>\n",
              "  </thead>\n",
              "  <tbody>\n",
              "    <tr>\n",
              "      <th>CHN</th>\n",
              "      <td>China</td>\n",
              "      <td>1398.72</td>\n",
              "      <td>9596.96</td>\n",
              "      <td>12234.78</td>\n",
              "      <td>Asia</td>\n",
              "      <td>None</td>\n",
              "    </tr>\n",
              "    <tr>\n",
              "      <th>IND</th>\n",
              "      <td>India</td>\n",
              "      <td>1351.16</td>\n",
              "      <td>3287.26</td>\n",
              "      <td>2575.67</td>\n",
              "      <td>Asia</td>\n",
              "      <td>1947-08-15</td>\n",
              "    </tr>\n",
              "    <tr>\n",
              "      <th>USA</th>\n",
              "      <td>US</td>\n",
              "      <td>329.74</td>\n",
              "      <td>9833.52</td>\n",
              "      <td>19485.39</td>\n",
              "      <td>N.America</td>\n",
              "      <td>1776-07-04</td>\n",
              "    </tr>\n",
              "    <tr>\n",
              "      <th>IDN</th>\n",
              "      <td>Indonesia</td>\n",
              "      <td>268.07</td>\n",
              "      <td>1910.93</td>\n",
              "      <td>1015.54</td>\n",
              "      <td>Asia</td>\n",
              "      <td>1945-08-17</td>\n",
              "    </tr>\n",
              "    <tr>\n",
              "      <th>BRA</th>\n",
              "      <td>Brazil</td>\n",
              "      <td>210.32</td>\n",
              "      <td>8515.77</td>\n",
              "      <td>2055.51</td>\n",
              "      <td>S.America</td>\n",
              "      <td>1822-09-07</td>\n",
              "    </tr>\n",
              "    <tr>\n",
              "      <th>PAK</th>\n",
              "      <td>Pakistan</td>\n",
              "      <td>205.71</td>\n",
              "      <td>881.91</td>\n",
              "      <td>302.14</td>\n",
              "      <td>Asia</td>\n",
              "      <td>1947-08-14</td>\n",
              "    </tr>\n",
              "    <tr>\n",
              "      <th>NGA</th>\n",
              "      <td>Nigeria</td>\n",
              "      <td>200.96</td>\n",
              "      <td>923.77</td>\n",
              "      <td>375.77</td>\n",
              "      <td>Africa</td>\n",
              "      <td>1960-10-01</td>\n",
              "    </tr>\n",
              "    <tr>\n",
              "      <th>BGD</th>\n",
              "      <td>Bangladesh</td>\n",
              "      <td>167.09</td>\n",
              "      <td>147.57</td>\n",
              "      <td>245.63</td>\n",
              "      <td>Asia</td>\n",
              "      <td>1971-03-26</td>\n",
              "    </tr>\n",
              "    <tr>\n",
              "      <th>RUS</th>\n",
              "      <td>Russia</td>\n",
              "      <td>146.79</td>\n",
              "      <td>17098.25</td>\n",
              "      <td>1530.75</td>\n",
              "      <td>None</td>\n",
              "      <td>1992-06-12</td>\n",
              "    </tr>\n",
              "    <tr>\n",
              "      <th>MEX</th>\n",
              "      <td>Mexico</td>\n",
              "      <td>126.58</td>\n",
              "      <td>1964.38</td>\n",
              "      <td>1158.23</td>\n",
              "      <td>N.America</td>\n",
              "      <td>1810-09-16</td>\n",
              "    </tr>\n",
              "    <tr>\n",
              "      <th>JPN</th>\n",
              "      <td>Japan</td>\n",
              "      <td>126.22</td>\n",
              "      <td>377.97</td>\n",
              "      <td>4872.42</td>\n",
              "      <td>Asia</td>\n",
              "      <td>None</td>\n",
              "    </tr>\n",
              "    <tr>\n",
              "      <th>DEU</th>\n",
              "      <td>Germany</td>\n",
              "      <td>83.02</td>\n",
              "      <td>357.11</td>\n",
              "      <td>3693.20</td>\n",
              "      <td>Europe</td>\n",
              "      <td>None</td>\n",
              "    </tr>\n",
              "    <tr>\n",
              "      <th>FRA</th>\n",
              "      <td>France</td>\n",
              "      <td>67.02</td>\n",
              "      <td>640.68</td>\n",
              "      <td>2582.49</td>\n",
              "      <td>Europe</td>\n",
              "      <td>1789-07-14</td>\n",
              "    </tr>\n",
              "    <tr>\n",
              "      <th>GBR</th>\n",
              "      <td>UK</td>\n",
              "      <td>66.44</td>\n",
              "      <td>242.50</td>\n",
              "      <td>2631.23</td>\n",
              "      <td>Europe</td>\n",
              "      <td>None</td>\n",
              "    </tr>\n",
              "    <tr>\n",
              "      <th>ITA</th>\n",
              "      <td>Italy</td>\n",
              "      <td>60.36</td>\n",
              "      <td>301.34</td>\n",
              "      <td>1943.84</td>\n",
              "      <td>Europe</td>\n",
              "      <td>None</td>\n",
              "    </tr>\n",
              "    <tr>\n",
              "      <th>ARG</th>\n",
              "      <td>Argentina</td>\n",
              "      <td>44.94</td>\n",
              "      <td>2780.40</td>\n",
              "      <td>637.49</td>\n",
              "      <td>S.America</td>\n",
              "      <td>1816-07-09</td>\n",
              "    </tr>\n",
              "    <tr>\n",
              "      <th>DZA</th>\n",
              "      <td>Algeria</td>\n",
              "      <td>43.38</td>\n",
              "      <td>2381.74</td>\n",
              "      <td>167.56</td>\n",
              "      <td>Africa</td>\n",
              "      <td>1962-07-05</td>\n",
              "    </tr>\n",
              "    <tr>\n",
              "      <th>CAN</th>\n",
              "      <td>Canada</td>\n",
              "      <td>37.59</td>\n",
              "      <td>9984.67</td>\n",
              "      <td>1647.12</td>\n",
              "      <td>N.America</td>\n",
              "      <td>1867-07-01</td>\n",
              "    </tr>\n",
              "    <tr>\n",
              "      <th>AUS</th>\n",
              "      <td>Australia</td>\n",
              "      <td>25.47</td>\n",
              "      <td>7692.02</td>\n",
              "      <td>1408.68</td>\n",
              "      <td>Oceania</td>\n",
              "      <td>None</td>\n",
              "    </tr>\n",
              "    <tr>\n",
              "      <th>KAZ</th>\n",
              "      <td>Kazakhstan</td>\n",
              "      <td>18.53</td>\n",
              "      <td>2724.90</td>\n",
              "      <td>159.41</td>\n",
              "      <td>Asia</td>\n",
              "      <td>1991-12-16</td>\n",
              "    </tr>\n",
              "  </tbody>\n",
              "</table>\n",
              "</div>"
            ],
            "text/plain": [
              "        COUNTRY      POP      AREA       GDP       CONT     IND_DAY\n",
              "CHN       China  1398.72   9596.96  12234.78       Asia        None\n",
              "IND       India  1351.16   3287.26   2575.67       Asia  1947-08-15\n",
              "USA          US   329.74   9833.52  19485.39  N.America  1776-07-04\n",
              "IDN   Indonesia   268.07   1910.93   1015.54       Asia  1945-08-17\n",
              "BRA      Brazil   210.32   8515.77   2055.51  S.America  1822-09-07\n",
              "PAK    Pakistan   205.71    881.91    302.14       Asia  1947-08-14\n",
              "NGA     Nigeria   200.96    923.77    375.77     Africa  1960-10-01\n",
              "BGD  Bangladesh   167.09    147.57    245.63       Asia  1971-03-26\n",
              "RUS      Russia   146.79  17098.25   1530.75       None  1992-06-12\n",
              "MEX      Mexico   126.58   1964.38   1158.23  N.America  1810-09-16\n",
              "JPN       Japan   126.22    377.97   4872.42       Asia        None\n",
              "DEU     Germany    83.02    357.11   3693.20     Europe        None\n",
              "FRA      France    67.02    640.68   2582.49     Europe  1789-07-14\n",
              "GBR          UK    66.44    242.50   2631.23     Europe        None\n",
              "ITA       Italy    60.36    301.34   1943.84     Europe        None\n",
              "ARG   Argentina    44.94   2780.40    637.49  S.America  1816-07-09\n",
              "DZA     Algeria    43.38   2381.74    167.56     Africa  1962-07-05\n",
              "CAN      Canada    37.59   9984.67   1647.12  N.America  1867-07-01\n",
              "AUS   Australia    25.47   7692.02   1408.68    Oceania        None\n",
              "KAZ  Kazakhstan    18.53   2724.90    159.41       Asia  1991-12-16"
            ]
          },
          "metadata": {},
          "execution_count": 43
        }
      ]
    },
    {
      "cell_type": "markdown",
      "metadata": {
        "id": "lVQVpA1tXwMK"
      },
      "source": [
        "### HTML format type"
      ],
      "id": "lVQVpA1tXwMK"
    },
    {
      "cell_type": "code",
      "metadata": {
        "colab": {
          "base_uri": "https://localhost:8080/"
        },
        "id": "tjQHtkgZOaAu",
        "outputId": "68835687-c7a3-4474-838b-35fbc776564d"
      },
      "source": [
        "# --------------------------------------------\n",
        "print('Program done by : Ajay Pathak\\n' +\n",
        "      'Enrollment No.: 190630107170\\n' +\n",
        "      '=================================\\n\\n\\n')\n",
        "\n",
        "\n",
        "df_html = df.to_html('contries_data.html')\n",
        "\n",
        "# New jason file will be added in your directory\n",
        "pd.read_html('contries_data.html')"
      ],
      "id": "tjQHtkgZOaAu",
      "execution_count": 44,
      "outputs": [
        {
          "output_type": "stream",
          "name": "stdout",
          "text": [
            "Program done by : Ajay Pathak\n",
            "Enrollment No.: 190630107170\n",
            "=================================\n",
            "\n",
            "\n",
            "\n"
          ]
        },
        {
          "output_type": "execute_result",
          "data": {
            "text/plain": [
              "[   Unnamed: 0     COUNTRY      POP      AREA       GDP       CONT     IND_DAY\n",
              " 0         CHN       China  1398.72   9596.96  12234.78       Asia         NaN\n",
              " 1         IND       India  1351.16   3287.26   2575.67       Asia  1947-08-15\n",
              " 2         USA          US   329.74   9833.52  19485.39  N.America  1776-07-04\n",
              " 3         IDN   Indonesia   268.07   1910.93   1015.54       Asia  1945-08-17\n",
              " 4         BRA      Brazil   210.32   8515.77   2055.51  S.America  1822-09-07\n",
              " 5         PAK    Pakistan   205.71    881.91    302.14       Asia  1947-08-14\n",
              " 6         NGA     Nigeria   200.96    923.77    375.77     Africa  1960-10-01\n",
              " 7         BGD  Bangladesh   167.09    147.57    245.63       Asia  1971-03-26\n",
              " 8         RUS      Russia   146.79  17098.25   1530.75        NaN  1992-06-12\n",
              " 9         MEX      Mexico   126.58   1964.38   1158.23  N.America  1810-09-16\n",
              " 10        JPN       Japan   126.22    377.97   4872.42       Asia         NaN\n",
              " 11        DEU     Germany    83.02    357.11   3693.20     Europe         NaN\n",
              " 12        FRA      France    67.02    640.68   2582.49     Europe  1789-07-14\n",
              " 13        GBR          UK    66.44    242.50   2631.23     Europe         NaN\n",
              " 14        ITA       Italy    60.36    301.34   1943.84     Europe         NaN\n",
              " 15        ARG   Argentina    44.94   2780.40    637.49  S.America  1816-07-09\n",
              " 16        DZA     Algeria    43.38   2381.74    167.56     Africa  1962-07-05\n",
              " 17        CAN      Canada    37.59   9984.67   1647.12  N.America  1867-07-01\n",
              " 18        AUS   Australia    25.47   7692.02   1408.68    Oceania         NaN\n",
              " 19        KAZ  Kazakhstan    18.53   2724.90    159.41       Asia  1991-12-16]"
            ]
          },
          "metadata": {},
          "execution_count": 44
        }
      ]
    },
    {
      "cell_type": "markdown",
      "metadata": {
        "id": "avydSf6pZhWW"
      },
      "source": [
        "# 6] Write python programs demonstrating different functions for pre-processing the data. \n",
        "---"
      ],
      "id": "avydSf6pZhWW"
    },
    {
      "cell_type": "markdown",
      "metadata": {
        "id": "94m9o-DzaDOv"
      },
      "source": [
        "## NumPy Random"
      ],
      "id": "94m9o-DzaDOv"
    },
    {
      "cell_type": "markdown",
      "metadata": {
        "id": "ndNcGYz7cQDp"
      },
      "source": [
        "import statement"
      ],
      "id": "ndNcGYz7cQDp"
    },
    {
      "cell_type": "code",
      "metadata": {
        "id": "ngt_xqhlZ1wf"
      },
      "source": [
        "import numpy as np"
      ],
      "id": "ngt_xqhlZ1wf",
      "execution_count": 45,
      "outputs": []
    },
    {
      "cell_type": "markdown",
      "metadata": {
        "id": "M9Ee-oH9btWw"
      },
      "source": [
        "### rand() function"
      ],
      "id": "M9Ee-oH9btWw"
    },
    {
      "cell_type": "markdown",
      "metadata": {
        "id": "c7qwMUD4cUVv"
      },
      "source": [
        "```rand()``` function returns random value between 0 to 1.\n",
        "\n",
        "as it returns the value we need to store it in some variable"
      ],
      "id": "c7qwMUD4cUVv"
    },
    {
      "cell_type": "code",
      "metadata": {
        "colab": {
          "base_uri": "https://localhost:8080/"
        },
        "id": "uzVX-3t1aN-g",
        "outputId": "6a80d7e0-bb4d-4299-fd7b-6a832e81fdb7"
      },
      "source": [
        "# --------------------------------------------\n",
        "print('Program done by : Ajay Pathak\\n' +\n",
        "      'Enrollment No.: 190630107170\\n' +\n",
        "      '=================================\\n\\n\\n')\n",
        "\n",
        "\n",
        "# Storing returned value from rand() to r1\n",
        "r1 = np.random.rand()\n",
        "print(r1)"
      ],
      "id": "uzVX-3t1aN-g",
      "execution_count": 46,
      "outputs": [
        {
          "output_type": "stream",
          "name": "stdout",
          "text": [
            "Program done by : Ajay Pathak\n",
            "Enrollment No.: 190630107170\n",
            "=================================\n",
            "\n",
            "\n",
            "\n",
            "0.9802610660955282\n"
          ]
        }
      ]
    },
    {
      "cell_type": "markdown",
      "metadata": {
        "id": "awh74eVJcxhg"
      },
      "source": [
        "We can also specify shape of matrix as an argument values in ```rand()``` function."
      ],
      "id": "awh74eVJcxhg"
    },
    {
      "cell_type": "code",
      "metadata": {
        "colab": {
          "base_uri": "https://localhost:8080/"
        },
        "id": "XUxNzODYbPXV",
        "outputId": "bd8909cd-41f0-4922-89fe-e15605714426"
      },
      "source": [
        "# --------------------------------------------\n",
        "print('Program done by : Ajay Pathak\\n' +\n",
        "      'Enrollment No.: 190630107170\\n' +\n",
        "      '=================================\\n\\n\\n')\n",
        "\n",
        "random_mat = np.random.rand(2, 2)\n",
        "# returns matrix of shape given in argument,\n",
        "# with all the elements having random value between 0 to 1\n",
        "print(random_mat)"
      ],
      "id": "XUxNzODYbPXV",
      "execution_count": 47,
      "outputs": [
        {
          "output_type": "stream",
          "name": "stdout",
          "text": [
            "Program done by : Ajay Pathak\n",
            "Enrollment No.: 190630107170\n",
            "=================================\n",
            "\n",
            "\n",
            "\n",
            "[[0.34583222 0.95283981]\n",
            " [0.38416811 0.81549131]]\n"
          ]
        }
      ]
    },
    {
      "cell_type": "markdown",
      "metadata": {
        "id": "tB26woCTb1So"
      },
      "source": [
        "### randint() function"
      ],
      "id": "tB26woCTb1So"
    },
    {
      "cell_type": "markdown",
      "metadata": {
        "id": "qlLU_3xCdIG1"
      },
      "source": [
        "```randint(start, stop, size)``` \n",
        "\n",
        "Returns array of size ```size``` , containing random integers from start to stop exclusive ( meaning stop is not included )"
      ],
      "id": "qlLU_3xCdIG1"
    },
    {
      "cell_type": "code",
      "metadata": {
        "colab": {
          "base_uri": "https://localhost:8080/"
        },
        "id": "BK5TvFrhba3e",
        "outputId": "62073c5e-7b06-4b49-cd1e-6de5e9316505"
      },
      "source": [
        "# --------------------------------------------\n",
        "print('Program done by : Ajay Pathak\\n' +\n",
        "      'Enrollment No.: 190630107170\\n' +\n",
        "      '=================================\\n\\n\\n')\n",
        "\n",
        "\n",
        "# Here, this will return 20 random integer values from 11 to 20 exclusive\n",
        "r1 = np.random.randint(11, 20, 20)\n",
        "\n",
        "print(r1)"
      ],
      "id": "BK5TvFrhba3e",
      "execution_count": 48,
      "outputs": [
        {
          "output_type": "stream",
          "name": "stdout",
          "text": [
            "Program done by : Ajay Pathak\n",
            "Enrollment No.: 190630107170\n",
            "=================================\n",
            "\n",
            "\n",
            "\n",
            "[16 16 19 12 11 19 19 19 16 19 13 18 18 14 14 16 18 18 14 16]\n"
          ]
        }
      ]
    },
    {
      "cell_type": "code",
      "metadata": {
        "colab": {
          "base_uri": "https://localhost:8080/"
        },
        "id": "wrBRZJoPd-03",
        "outputId": "9ce6fd05-4d60-4152-b2b2-706f3190bad1"
      },
      "source": [
        "# --------------------------------------------\n",
        "print('Program done by : Ajay Pathak\\n' +\n",
        "      'Enrollment No.: 190630107170\\n' +\n",
        "      '=================================\\n\\n\\n')\n",
        "\n",
        "# then we can reshape this array and use it as matrix \n",
        "r1_mat = r1.reshape(5, 4)\n",
        "# NOTE reshape returns matrix of shape we give , it doesn't change r1 itself\n",
        "print('r1 still same :', r1)\n",
        "print('r1_mat :\\n', r1_mat)"
      ],
      "id": "wrBRZJoPd-03",
      "execution_count": 49,
      "outputs": [
        {
          "output_type": "stream",
          "name": "stdout",
          "text": [
            "Program done by : Ajay Pathak\n",
            "Enrollment No.: 190630107170\n",
            "=================================\n",
            "\n",
            "\n",
            "\n",
            "r1 still same : [16 16 19 12 11 19 19 19 16 19 13 18 18 14 14 16 18 18 14 16]\n",
            "r1_mat :\n",
            " [[16 16 19 12]\n",
            " [11 19 19 19]\n",
            " [16 19 13 18]\n",
            " [18 14 14 16]\n",
            " [18 18 14 16]]\n"
          ]
        }
      ]
    },
    {
      "cell_type": "markdown",
      "metadata": {
        "id": "WpEHgIvUb7_g"
      },
      "source": [
        "### randn() function"
      ],
      "id": "WpEHgIvUb7_g"
    },
    {
      "cell_type": "markdown",
      "metadata": {
        "id": "wKuCMRrmeKff"
      },
      "source": [
        "Till now our random values were being selected from uniform distribution ,\n",
        "\n",
        "using ```randn()``` function , we can select random values from normal distribution"
      ],
      "id": "wKuCMRrmeKff"
    },
    {
      "cell_type": "code",
      "metadata": {
        "colab": {
          "base_uri": "https://localhost:8080/"
        },
        "id": "X5iKztONDVwj",
        "outputId": "dfcf4d6a-09e0-484c-e662-dd00f64b9c7e"
      },
      "source": [
        "# --------------------------------------------\n",
        "print('Program done by : Ajay Pathak\\n' +\n",
        "      'Enrollment No.: 190630107170\\n' +\n",
        "      '=================================\\n\\n\\n')\n",
        "\n",
        "# Use randn function to get random values from normal distribution\n",
        "normal_dist_random = np.random.randn(3)\n",
        "print(normal_dist_random)"
      ],
      "id": "X5iKztONDVwj",
      "execution_count": 50,
      "outputs": [
        {
          "output_type": "stream",
          "name": "stdout",
          "text": [
            "Program done by : Ajay Pathak\n",
            "Enrollment No.: 190630107170\n",
            "=================================\n",
            "\n",
            "\n",
            "\n",
            "[ 0.53851387 -1.054743    0.51159886]\n"
          ]
        }
      ]
    },
    {
      "cell_type": "markdown",
      "metadata": {
        "id": "QCLPR4OjeeYE"
      },
      "source": [
        "Here is the visualization of both the function ,\n",
        "We will have 100000 random values from uniform distribution as welll as normal distribution and then we will plot hist diagrams for both of them."
      ],
      "id": "QCLPR4OjeeYE"
    },
    {
      "cell_type": "code",
      "metadata": {
        "colab": {
          "base_uri": "https://localhost:8080/",
          "height": 650
        },
        "id": "38G5wlBhD22B",
        "outputId": "3dfff7b6-80b0-4cbc-88ed-cb77f5ced067"
      },
      "source": [
        "# --------------------------------------------\n",
        "print('Program done by : Ajay Pathak\\n' +\n",
        "      'Enrollment No.: 190630107170\\n' +\n",
        "      '=================================\\n\\n\\n')\n",
        "\n",
        "\n",
        "import matplotlib.pyplot as plt\n",
        "sample_size = 100000\n",
        "uniform_dist_rand = np.random.rand(sample_size)\n",
        "normal_dist_rand = np.random.randn(sample_size)\n",
        "\n",
        "plt.hist(uniform_dist_rand, bins=100)\n",
        "plt.title('random values from uniform distribution')\n",
        "plt.show()\n",
        "\n",
        "plt.hist(normal_dist_rand, bins=100)\n",
        "plt.title('random values from normal distribution')\n",
        "plt.show()"
      ],
      "id": "38G5wlBhD22B",
      "execution_count": 51,
      "outputs": [
        {
          "output_type": "stream",
          "name": "stdout",
          "text": [
            "Program done by : Ajay Pathak\n",
            "Enrollment No.: 190630107170\n",
            "=================================\n",
            "\n",
            "\n",
            "\n"
          ]
        },
        {
          "output_type": "display_data",
          "data": {
            "image/png": "[encoded data removed]",
            "text/plain": [
              "<Figure size 432x288 with 1 Axes>"
            ]
          },
          "metadata": {
            "needs_background": "light"
          }
        },
        {
          "output_type": "display_data",
          "data": {
            "image/png": "[encoded data removed]",
            "text/plain": [
              "<Figure size 432x288 with 1 Axes>"
            ]
          },
          "metadata": {
            "needs_background": "light"
          }
        }
      ]
    },
    {
      "cell_type": "markdown",
      "metadata": {
        "id": "eL4KBwq6e0Bt"
      },
      "source": [
        "As you can see , first graph is of uniformly distributed random values and that is why it resembles uniform distribution....\n",
        "\n",
        "whereas in 2nd graph we used random values from normal distribution that is why \n",
        "it resembles normal distributin..."
      ],
      "id": "eL4KBwq6e0Bt"
    },
    {
      "cell_type": "markdown",
      "metadata": {
        "id": "USH-FoSz_1jN"
      },
      "source": [
        "## Aggregation Functions"
      ],
      "id": "USH-FoSz_1jN"
    },
    {
      "cell_type": "markdown",
      "metadata": {
        "id": "Bosf5HOnfST-"
      },
      "source": [
        "Import statement"
      ],
      "id": "Bosf5HOnfST-"
    },
    {
      "cell_type": "code",
      "metadata": {
        "id": "2DvL1uXfAYZy"
      },
      "source": [
        "import numpy as np"
      ],
      "id": "2DvL1uXfAYZy",
      "execution_count": 52,
      "outputs": []
    },
    {
      "cell_type": "code",
      "metadata": {
        "colab": {
          "base_uri": "https://localhost:8080/"
        },
        "id": "KxhHA63O_5hu",
        "outputId": "fb76f9d2-3d1e-46ae-9dc3-bb9b8c92c5ba"
      },
      "source": [
        "# --------------------------------------------\n",
        "print('Program done by : Ajay Pathak\\n' +\n",
        "      'Enrollment No.: 190630107170\\n' +\n",
        "      '=================================\\n\\n\\n')\n",
        "\n",
        "# Let's define some data and then use some numpy functions\n",
        "# This is simple array \n",
        "data = [22, 16, 29, 27 , 20, 31, 20, 9]\n",
        "# let's convert it into nd numpy array\n",
        "data = np.array(data) # we use np.array(your_array_variable) to convert your array variable in numpy array\n",
        "print(data, type(data))"
      ],
      "id": "KxhHA63O_5hu",
      "execution_count": 53,
      "outputs": [
        {
          "output_type": "stream",
          "name": "stdout",
          "text": [
            "Program done by : Ajay Pathak\n",
            "Enrollment No.: 190630107170\n",
            "=================================\n",
            "\n",
            "\n",
            "\n",
            "[22 16 29 27 20 31 20  9] <class 'numpy.ndarray'>\n"
          ]
        }
      ]
    },
    {
      "cell_type": "markdown",
      "metadata": {
        "id": "rNpUdE0vgGMF"
      },
      "source": [
        "```min()``` function returns minimum value from the array"
      ],
      "id": "rNpUdE0vgGMF"
    },
    {
      "cell_type": "code",
      "metadata": {
        "colab": {
          "base_uri": "https://localhost:8080/"
        },
        "id": "lRo4Qb7tgNfU",
        "outputId": "fed693be-e22a-44ff-8172-37965ed3a204"
      },
      "source": [
        "# --------------------------------------------\n",
        "print('Program done by : Ajay Pathak\\n' +\n",
        "      'Enrollment No.: 190630107170\\n' +\n",
        "      '=================================\\n\\n\\n')\n",
        "\n",
        "print('min value :', data.min())"
      ],
      "id": "lRo4Qb7tgNfU",
      "execution_count": 55,
      "outputs": [
        {
          "output_type": "stream",
          "name": "stdout",
          "text": [
            "Program done by : Ajay Pathak\n",
            "Enrollment No.: 190630107170\n",
            "=================================\n",
            "\n",
            "\n",
            "\n",
            "min value : 9\n"
          ]
        }
      ]
    },
    {
      "cell_type": "markdown",
      "metadata": {
        "id": "GhCVjbdygSUN"
      },
      "source": [
        "```argmin()``` returns index of minimum value "
      ],
      "id": "GhCVjbdygSUN"
    },
    {
      "cell_type": "code",
      "metadata": {
        "colab": {
          "base_uri": "https://localhost:8080/"
        },
        "id": "PMVzQi0YAPYp",
        "outputId": "7fbbcb9d-f6a5-4b7c-9ce7-20e5418ac081"
      },
      "source": [
        "# --------------------------------------------\n",
        "print('Program done by : Ajay Pathak\\n' +\n",
        "      'Enrollment No.: 190630107170\\n' +\n",
        "      '=================================\\n\\n\\n')\n",
        "\n",
        "\n",
        "print('min index:', data.argmin())"
      ],
      "id": "PMVzQi0YAPYp",
      "execution_count": 56,
      "outputs": [
        {
          "output_type": "stream",
          "name": "stdout",
          "text": [
            "Program done by : Ajay Pathak\n",
            "Enrollment No.: 190630107170\n",
            "=================================\n",
            "\n",
            "\n",
            "\n",
            "min index: 7\n"
          ]
        }
      ]
    },
    {
      "cell_type": "markdown",
      "metadata": {
        "id": "X5idOPxHgheF"
      },
      "source": [
        "```max()``` returns maximum value from the array"
      ],
      "id": "X5idOPxHgheF"
    },
    {
      "cell_type": "code",
      "metadata": {
        "colab": {
          "base_uri": "https://localhost:8080/"
        },
        "id": "gTtN1k0SAmdT",
        "outputId": "7a2dc60b-f141-4aa6-91d9-11950fe138ce"
      },
      "source": [
        "# --------------------------------------------\n",
        "print('Program done by : Ajay Pathak\\n' +\n",
        "      'Enrollment No.: 190630107170\\n' +\n",
        "      '=================================\\n\\n\\n')\n",
        "\n",
        "print('max :', data.max())"
      ],
      "id": "gTtN1k0SAmdT",
      "execution_count": 57,
      "outputs": [
        {
          "output_type": "stream",
          "name": "stdout",
          "text": [
            "Program done by : Ajay Pathak\n",
            "Enrollment No.: 190630107170\n",
            "=================================\n",
            "\n",
            "\n",
            "\n",
            "max : 31\n"
          ]
        }
      ]
    },
    {
      "cell_type": "markdown",
      "metadata": {
        "id": "4HFAYtKYgms8"
      },
      "source": [
        "```argmax()``` returns index of maximum value"
      ],
      "id": "4HFAYtKYgms8"
    },
    {
      "cell_type": "code",
      "metadata": {
        "colab": {
          "base_uri": "https://localhost:8080/"
        },
        "id": "D0H7B_nvAwRy",
        "outputId": "01ddbf1f-5792-463a-c00b-b0bbc5d3e937"
      },
      "source": [
        "# --------------------------------------------\n",
        "print('Program done by : Ajay Pathak\\n' +\n",
        "      'Enrollment No.: 190630107170\\n' +\n",
        "      '=================================\\n\\n\\n')\n",
        "\n",
        "print('max index :', data.argmax())"
      ],
      "id": "D0H7B_nvAwRy",
      "execution_count": 58,
      "outputs": [
        {
          "output_type": "stream",
          "name": "stdout",
          "text": [
            "Program done by : Ajay Pathak\n",
            "Enrollment No.: 190630107170\n",
            "=================================\n",
            "\n",
            "\n",
            "\n",
            "max index : 5\n"
          ]
        }
      ]
    },
    {
      "cell_type": "markdown",
      "metadata": {
        "id": "DtAyB7irgsMr"
      },
      "source": [
        "```mean()``` returns mean of all values in array"
      ],
      "id": "DtAyB7irgsMr"
    },
    {
      "cell_type": "code",
      "metadata": {
        "colab": {
          "base_uri": "https://localhost:8080/"
        },
        "id": "4h9HYr-CA0a4",
        "outputId": "1ef997c2-7c8b-46d7-eb67-f3636baaf82b"
      },
      "source": [
        "# --------------------------------------------\n",
        "print('Program done by : Ajay Pathak\\n' +\n",
        "      'Enrollment No.: 190630107170\\n' +\n",
        "      '=================================\\n\\n\\n')\n",
        "\n",
        "print('mean :', data.mean())"
      ],
      "id": "4h9HYr-CA0a4",
      "execution_count": 59,
      "outputs": [
        {
          "output_type": "stream",
          "name": "stdout",
          "text": [
            "Program done by : Ajay Pathak\n",
            "Enrollment No.: 190630107170\n",
            "=================================\n",
            "\n",
            "\n",
            "\n",
            "mean : 21.75\n"
          ]
        }
      ]
    },
    {
      "cell_type": "markdown",
      "metadata": {
        "id": "y78u2vERgyJ1"
      },
      "source": [
        "```std()``` returns standard deviation"
      ],
      "id": "y78u2vERgyJ1"
    },
    {
      "cell_type": "code",
      "metadata": {
        "colab": {
          "base_uri": "https://localhost:8080/"
        },
        "id": "I-zRz_cqA7uQ",
        "outputId": "91fec4ae-7248-4e7c-c4a7-5553beb30e32"
      },
      "source": [
        "# --------------------------------------------\n",
        "print('Program done by : Ajay Pathak\\n' +\n",
        "      'Enrollment No.: 190630107170\\n' +\n",
        "      '=================================\\n\\n\\n')\n",
        "\n",
        "print('standard deviation :', data.std())"
      ],
      "id": "I-zRz_cqA7uQ",
      "execution_count": 60,
      "outputs": [
        {
          "output_type": "stream",
          "name": "stdout",
          "text": [
            "Program done by : Ajay Pathak\n",
            "Enrollment No.: 190630107170\n",
            "=================================\n",
            "\n",
            "\n",
            "\n",
            "standard deviation : 6.777720855862979\n"
          ]
        }
      ]
    },
    {
      "cell_type": "markdown",
      "metadata": {
        "id": "wUvWzIl_h1Ys"
      },
      "source": [
        "```sum()``` returns sum of elements"
      ],
      "id": "wUvWzIl_h1Ys"
    },
    {
      "cell_type": "markdown",
      "metadata": {
        "id": "cUNDLoAOg86t"
      },
      "source": [
        "using axis argument with aggregation functions\n"
      ],
      "id": "cUNDLoAOg86t"
    },
    {
      "cell_type": "code",
      "metadata": {
        "colab": {
          "base_uri": "https://localhost:8080/"
        },
        "id": "KOexOyNdBBRi",
        "outputId": "6507e918-8592-49aa-ef5f-8da71cf5b6b3"
      },
      "source": [
        "# --------------------------------------------\n",
        "print('Program done by : Ajay Pathak\\n' +\n",
        "      'Enrollment No.: 190630107170\\n' +\n",
        "      '=================================\\n\\n\\n')\n",
        "\n",
        "\n",
        "# We can provide axis argument with all the aggregation function we have seen till now\n",
        "# it defines along which axis we want to perfom certain functions\n",
        "\n",
        "# To understand properly we need matrix \n",
        "# Let's create it\n",
        "mat = np.random.randint(1, 10, 25) # Getting 25 random integer values from 1 to 100 not inclusive\n",
        "# reshaping the array into matrix of shape 5x5 , \n",
        "# here no of elements much be 25 as we have 25 elements in array \n",
        "# that's why i have selected 5x5 shape\n",
        "mat = mat.reshape(5, 5) \n",
        "print(mat)"
      ],
      "id": "KOexOyNdBBRi",
      "execution_count": 61,
      "outputs": [
        {
          "output_type": "stream",
          "name": "stdout",
          "text": [
            "Program done by : Ajay Pathak\n",
            "Enrollment No.: 190630107170\n",
            "=================================\n",
            "\n",
            "\n",
            "\n",
            "[[1 5 7 4 4]\n",
            " [2 3 6 8 1]\n",
            " [7 7 1 5 5]\n",
            " [8 8 7 4 7]\n",
            " [7 6 4 8 3]]\n"
          ]
        }
      ]
    },
    {
      "cell_type": "markdown",
      "metadata": {
        "id": "F9bi8jAviqWK"
      },
      "source": [
        "axis 1 represents rows"
      ],
      "id": "F9bi8jAviqWK"
    },
    {
      "cell_type": "code",
      "metadata": {
        "colab": {
          "base_uri": "https://localhost:8080/"
        },
        "id": "Dhw5mLmrFW2a",
        "outputId": "ba2389dc-3eac-4bb6-e802-a15fb3eba4a3"
      },
      "source": [
        "# --------------------------------------------\n",
        "print('Program done by : Ajay Pathak\\n' +\n",
        "      'Enrollment No.: 190630107170\\n' +\n",
        "      '=================================\\n\\n\\n')\n",
        "\n",
        "print('sum of rows :', mat.sum(axis=1))"
      ],
      "id": "Dhw5mLmrFW2a",
      "execution_count": 62,
      "outputs": [
        {
          "output_type": "stream",
          "name": "stdout",
          "text": [
            "Program done by : Ajay Pathak\n",
            "Enrollment No.: 190630107170\n",
            "=================================\n",
            "\n",
            "\n",
            "\n",
            "sum of rows : [21 20 25 34 28]\n"
          ]
        }
      ]
    },
    {
      "cell_type": "markdown",
      "metadata": {
        "id": "HyJN2-sIizmc"
      },
      "source": [
        "axis 0 represents columns"
      ],
      "id": "HyJN2-sIizmc"
    },
    {
      "cell_type": "code",
      "metadata": {
        "colab": {
          "base_uri": "https://localhost:8080/"
        },
        "id": "3X-d5iVQF2HJ",
        "outputId": "e14a26c3-41e5-40c6-9269-807dbf7b61eb"
      },
      "source": [
        "# --------------------------------------------\n",
        "print('Program done by : Ajay Pathak\\n' +\n",
        "      'Enrollment No.: 190630107170\\n' +\n",
        "      '=================================\\n\\n\\n')\n",
        "\n",
        "print('sum of columns :', mat.sum(axis=0))"
      ],
      "id": "3X-d5iVQF2HJ",
      "execution_count": 63,
      "outputs": [
        {
          "output_type": "stream",
          "name": "stdout",
          "text": [
            "Program done by : Ajay Pathak\n",
            "Enrollment No.: 190630107170\n",
            "=================================\n",
            "\n",
            "\n",
            "\n",
            "sum of columns : [25 29 25 29 20]\n"
          ]
        }
      ]
    },
    {
      "cell_type": "markdown",
      "metadata": {
        "id": "dTghtQeyi43L"
      },
      "source": [
        "not providing axis includes all the elements"
      ],
      "id": "dTghtQeyi43L"
    },
    {
      "cell_type": "code",
      "metadata": {
        "colab": {
          "base_uri": "https://localhost:8080/"
        },
        "id": "ARRru6IjKkkX",
        "outputId": "ad90cbd5-67ef-46b7-9916-09c126f1b4aa"
      },
      "source": [
        "# --------------------------------------------\n",
        "print('Program done by : Ajay Pathak\\n' +\n",
        "      'Enrollment No.: 190630107170\\n' +\n",
        "      '=================================\\n\\n\\n')\n",
        "\n",
        "print('sum of all elements :', mat.sum())"
      ],
      "id": "ARRru6IjKkkX",
      "execution_count": 64,
      "outputs": [
        {
          "output_type": "stream",
          "name": "stdout",
          "text": [
            "Program done by : Ajay Pathak\n",
            "Enrollment No.: 190630107170\n",
            "=================================\n",
            "\n",
            "\n",
            "\n",
            "sum of all elements : 128\n"
          ]
        }
      ]
    },
    {
      "cell_type": "markdown",
      "metadata": {
        "id": "oPOrtjmVLBpn"
      },
      "source": [
        "## Slicing of ndarray"
      ],
      "id": "oPOrtjmVLBpn"
    },
    {
      "cell_type": "code",
      "metadata": {
        "colab": {
          "base_uri": "https://localhost:8080/"
        },
        "id": "cvNIMf3tLFM_",
        "outputId": "83135317-b024-4b5f-bfa7-49e24f9ae666"
      },
      "source": [
        "# --------------------------------------------\n",
        "print('Program done by : Ajay Pathak\\n' +\n",
        "      'Enrollment No.: 190630107170\\n' +\n",
        "      '=================================\\n\\n\\n')\n",
        "\n",
        "# This variable stores birthday of persons\n",
        "data = [['AJ', 22, 1],\n",
        "        ['Ace', 16, 3],\n",
        "        ['Dave', 27, 11],\n",
        "        ['Lotte', 29, 9],\n",
        "        ['martha', 20, 6],\n",
        "        ['steve', 31, 10],\n",
        "        ['Raj', 9, 10],\n",
        "        ['Wane', 20, 1]]\n",
        "\n",
        "print(data)"
      ],
      "id": "cvNIMf3tLFM_",
      "execution_count": 65,
      "outputs": [
        {
          "output_type": "stream",
          "name": "stdout",
          "text": [
            "Program done by : Ajay Pathak\n",
            "Enrollment No.: 190630107170\n",
            "=================================\n",
            "\n",
            "\n",
            "\n",
            "[['AJ', 22, 1], ['Ace', 16, 3], ['Dave', 27, 11], ['Lotte', 29, 9], ['martha', 20, 6], ['steve', 31, 10], ['Raj', 9, 10], ['Wane', 20, 1]]\n"
          ]
        }
      ]
    },
    {
      "cell_type": "markdown",
      "metadata": {
        "id": "MAq5nuSHjVyb"
      },
      "source": [
        "```Array[start:stop:step}]```\n",
        "\n",
        "it returns array starting from index ```start``` till index ```stop``` - 1 , taking ```step``` steps every time. "
      ],
      "id": "MAq5nuSHjVyb"
    },
    {
      "cell_type": "markdown",
      "metadata": {
        "id": "ViqWygNXj7e0"
      },
      "source": [
        "\n",
        "Not providing ```start``` argument results in 0, meaning it start from the first element."
      ],
      "id": "ViqWygNXj7e0"
    },
    {
      "cell_type": "code",
      "metadata": {
        "colab": {
          "base_uri": "https://localhost:8080/"
        },
        "id": "tB1ufH0BjLU0",
        "outputId": "6ec544b1-321e-45c6-ff5b-2d28a43b6a76"
      },
      "source": [
        "# --------------------------------------------\n",
        "print('Program done by : Ajay Pathak\\n' +\n",
        "      'Enrollment No.: 190630107170\\n' +\n",
        "      '=================================\\n\\n\\n')\n",
        "\n",
        "\n",
        "print(data[:5]) "
      ],
      "id": "tB1ufH0BjLU0",
      "execution_count": 66,
      "outputs": [
        {
          "output_type": "stream",
          "name": "stdout",
          "text": [
            "Program done by : Ajay Pathak\n",
            "Enrollment No.: 190630107170\n",
            "=================================\n",
            "\n",
            "\n",
            "\n",
            "[['AJ', 22, 1], ['Ace', 16, 3], ['Dave', 27, 11], ['Lotte', 29, 9], ['martha', 20, 6]]\n"
          ]
        }
      ]
    },
    {
      "cell_type": "markdown",
      "metadata": {
        "id": "yy5IfgG3j9HC"
      },
      "source": [
        "\n",
        "Not providing ```stop``` argument results in length of the array."
      ],
      "id": "yy5IfgG3j9HC"
    },
    {
      "cell_type": "code",
      "metadata": {
        "colab": {
          "base_uri": "https://localhost:8080/"
        },
        "id": "wK8ZDORrMDk2",
        "outputId": "d0fbaa93-f80d-4253-86d1-036d762f2ef9"
      },
      "source": [
        "print(data[5:]) # returns every element from index 5 till last index"
      ],
      "id": "wK8ZDORrMDk2",
      "execution_count": 67,
      "outputs": [
        {
          "output_type": "stream",
          "name": "stdout",
          "text": [
            "[['steve', 31, 10], ['Raj', 9, 10], ['Wane', 20, 1]]\n"
          ]
        }
      ]
    },
    {
      "cell_type": "code",
      "metadata": {
        "colab": {
          "base_uri": "https://localhost:8080/"
        },
        "id": "vLhRJh3zMIOv",
        "outputId": "83212712-b23e-4aad-b72c-d1b1bafe2087"
      },
      "source": [
        "print(data[::2]) \n",
        "# Instead of taking one step which is default , it will take 2 steps every time "
      ],
      "id": "vLhRJh3zMIOv",
      "execution_count": 68,
      "outputs": [
        {
          "output_type": "stream",
          "name": "stdout",
          "text": [
            "[['AJ', 22, 1], ['Dave', 27, 11], ['martha', 20, 6], ['Raj', 9, 10]]\n"
          ]
        }
      ]
    },
    {
      "cell_type": "code",
      "metadata": {
        "colab": {
          "base_uri": "https://localhost:8080/"
        },
        "id": "29OzSa3fMOWw",
        "outputId": "843466e8-3cee-4c77-d84d-31a2834b6065"
      },
      "source": [
        "print(data[:-4:-1]) \n",
        "# negative stop index means 4th index from the last\n",
        "# negative steps means reverse traversing "
      ],
      "id": "29OzSa3fMOWw",
      "execution_count": 69,
      "outputs": [
        {
          "output_type": "stream",
          "name": "stdout",
          "text": [
            "[['Wane', 20, 1], ['Raj', 9, 10], ['steve', 31, 10]]\n"
          ]
        }
      ]
    },
    {
      "cell_type": "code",
      "metadata": {
        "colab": {
          "base_uri": "https://localhost:8080/"
        },
        "id": "lasxYpWGMWvG",
        "outputId": "4d0b9b91-0c48-40c5-879b-f6ab9af5d971"
      },
      "source": [
        "print(data)"
      ],
      "id": "lasxYpWGMWvG",
      "execution_count": 70,
      "outputs": [
        {
          "output_type": "stream",
          "name": "stdout",
          "text": [
            "[['AJ', 22, 1], ['Ace', 16, 3], ['Dave', 27, 11], ['Lotte', 29, 9], ['martha', 20, 6], ['steve', 31, 10], ['Raj', 9, 10], ['Wane', 20, 1]]\n"
          ]
        }
      ]
    },
    {
      "cell_type": "markdown",
      "metadata": {
        "id": "IDy_XSU7kjmd"
      },
      "source": [
        "Slicing is mutable\n"
      ],
      "id": "IDy_XSU7kjmd"
    },
    {
      "cell_type": "code",
      "metadata": {
        "colab": {
          "base_uri": "https://localhost:8080/"
        },
        "id": "_iB2oEJkNDaG",
        "outputId": "693d1848-b275-4c13-aad0-222d5fe4f1c4"
      },
      "source": [
        "# --------------------------------------------\n",
        "print('Program done by : Ajay Pathak\\n' +\n",
        "      'Enrollment No.: 190630107170\\n' +\n",
        "      '=================================\\n\\n\\n')\n",
        "\n",
        "array = np.array([1, 2, 3, 4, 5])\n",
        "\n",
        "# we store last 3 elements values in array_slice variable\n",
        "array_slice = array[2:]\n",
        "\n",
        "print(array_slice)"
      ],
      "id": "_iB2oEJkNDaG",
      "execution_count": 71,
      "outputs": [
        {
          "output_type": "stream",
          "name": "stdout",
          "text": [
            "Program done by : Ajay Pathak\n",
            "Enrollment No.: 190630107170\n",
            "=================================\n",
            "\n",
            "\n",
            "\n",
            "[3 4 5]\n"
          ]
        }
      ]
    },
    {
      "cell_type": "code",
      "metadata": {
        "colab": {
          "base_uri": "https://localhost:8080/"
        },
        "id": "zsO6zKLXNW_3",
        "outputId": "3b6c725c-f4a9-4344-a4d6-d40b11dc8fa3"
      },
      "source": [
        "# now , we change all the elements in that array_slice variable\n",
        "array_slice[:] = 0\n",
        "\n",
        "# it also changes original array's last 3 elements\n",
        "print('original array :', array)\n",
        "print('sliced array :', array_slice)"
      ],
      "id": "zsO6zKLXNW_3",
      "execution_count": 72,
      "outputs": [
        {
          "output_type": "stream",
          "name": "stdout",
          "text": [
            "original array : [1 2 0 0 0]\n",
            "sliced array : [0 0 0]\n"
          ]
        }
      ]
    },
    {
      "cell_type": "markdown",
      "metadata": {
        "id": "l2VLTRFvOaI1"
      },
      "source": [
        "## Numpy Arithmetic Operations"
      ],
      "id": "l2VLTRFvOaI1"
    },
    {
      "cell_type": "code",
      "metadata": {
        "colab": {
          "base_uri": "https://localhost:8080/"
        },
        "id": "gEeWQQCHNqMt",
        "outputId": "e7a1455a-ab33-4c7c-bd08-0d5f64d494d6"
      },
      "source": [
        "# --------------------------------------------\n",
        "print('Program done by : Ajay Pathak\\n' +\n",
        "      'Enrollment No.: 190630107170\\n' +\n",
        "      '=================================\\n\\n\\n')\n",
        "\n",
        "\n",
        "arr1 = np.random.randint(1, 10, 20)\n",
        "arr1 = arr1.reshape(5, 4)\n",
        "arr2 = np.random.randint(1, 10, 20)\n",
        "arr2 = arr2.reshape(5, 4)\n",
        "\n",
        "print('arr1 :\\n', arr1, '\\n\\narr2 :\\n', arr2)"
      ],
      "id": "gEeWQQCHNqMt",
      "execution_count": 73,
      "outputs": [
        {
          "output_type": "stream",
          "name": "stdout",
          "text": [
            "Program done by : Ajay Pathak\n",
            "Enrollment No.: 190630107170\n",
            "=================================\n",
            "\n",
            "\n",
            "\n",
            "arr1 :\n",
            " [[7 1 2 9]\n",
            " [2 9 8 5]\n",
            " [6 1 2 9]\n",
            " [7 8 8 6]\n",
            " [7 4 7 6]] \n",
            "\n",
            "arr2 :\n",
            " [[4 9 3 3]\n",
            " [4 4 3 5]\n",
            " [2 7 4 4]\n",
            " [6 9 7 1]\n",
            " [5 3 3 8]]\n"
          ]
        }
      ]
    },
    {
      "cell_type": "code",
      "metadata": {
        "colab": {
          "base_uri": "https://localhost:8080/"
        },
        "id": "skp06nDZO_st",
        "outputId": "8134dfb3-4891-4b24-c66c-156d78879528"
      },
      "source": [
        "# --------------------------------------------\n",
        "print('Program done by : Ajay Pathak\\n' +\n",
        "      'Enrollment No.: 190630107170\\n' +\n",
        "      '=================================\\n\\n\\n')\n",
        "\n",
        "# Adding scalar to the matrix\n",
        "# scalar value is added to every element \n",
        "\n",
        "arr1add2 = arr1 + 2\n",
        "print(arr1add2)\n",
        "\n",
        "# Substracting scalar value works same \n",
        "new_arr = arr1add2 - 2\n",
        "print(new_arr)"
      ],
      "id": "skp06nDZO_st",
      "execution_count": 74,
      "outputs": [
        {
          "output_type": "stream",
          "name": "stdout",
          "text": [
            "Program done by : Ajay Pathak\n",
            "Enrollment No.: 190630107170\n",
            "=================================\n",
            "\n",
            "\n",
            "\n",
            "[[ 9  3  4 11]\n",
            " [ 4 11 10  7]\n",
            " [ 8  3  4 11]\n",
            " [ 9 10 10  8]\n",
            " [ 9  6  9  8]]\n",
            "[[7 1 2 9]\n",
            " [2 9 8 5]\n",
            " [6 1 2 9]\n",
            " [7 8 8 6]\n",
            " [7 4 7 6]]\n"
          ]
        }
      ]
    },
    {
      "cell_type": "code",
      "metadata": {
        "colab": {
          "base_uri": "https://localhost:8080/"
        },
        "id": "kN4imkBxPemt",
        "outputId": "8140d1c5-d0c7-4ed1-9675-bea924ed3b2b"
      },
      "source": [
        "# --------------------------------------------\n",
        "print('Program done by : Ajay Pathak\\n' +\n",
        "      'Enrollment No.: 190630107170\\n' +\n",
        "      '=================================\\n\\n\\n')\n",
        "\n",
        "\n",
        "# Adding both matrices\n",
        "sum_mat = arr1 + arr2\n",
        "print(sum_mat)"
      ],
      "id": "kN4imkBxPemt",
      "execution_count": 75,
      "outputs": [
        {
          "output_type": "stream",
          "name": "stdout",
          "text": [
            "Program done by : Ajay Pathak\n",
            "Enrollment No.: 190630107170\n",
            "=================================\n",
            "\n",
            "\n",
            "\n",
            "[[11 10  5 12]\n",
            " [ 6 13 11 10]\n",
            " [ 8  8  6 13]\n",
            " [13 17 15  7]\n",
            " [12  7 10 14]]\n"
          ]
        }
      ]
    },
    {
      "cell_type": "code",
      "metadata": {
        "colab": {
          "base_uri": "https://localhost:8080/"
        },
        "id": "Yh-zZWZDQAt8",
        "outputId": "00ac31e2-c928-4309-8637-2649b48d8428"
      },
      "source": [
        "sub_mat = sum_mat - arr2\n",
        "# Our ans should be same as arr1\n",
        "print(sub_mat)"
      ],
      "id": "Yh-zZWZDQAt8",
      "execution_count": 76,
      "outputs": [
        {
          "output_type": "stream",
          "name": "stdout",
          "text": [
            "[[7 1 2 9]\n",
            " [2 9 8 5]\n",
            " [6 1 2 9]\n",
            " [7 8 8 6]\n",
            " [7 4 7 6]]\n"
          ]
        }
      ]
    },
    {
      "cell_type": "code",
      "metadata": {
        "colab": {
          "base_uri": "https://localhost:8080/"
        },
        "id": "XRiY8-lZQotd",
        "outputId": "18b61e2e-78df-4633-c1c3-addb916b948f"
      },
      "source": [
        "# Division works same\n",
        "arr1div2 = arr1 / 2\n",
        "print(arr1div2)"
      ],
      "id": "XRiY8-lZQotd",
      "execution_count": 77,
      "outputs": [
        {
          "output_type": "stream",
          "name": "stdout",
          "text": [
            "[[3.5 0.5 1.  4.5]\n",
            " [1.  4.5 4.  2.5]\n",
            " [3.  0.5 1.  4.5]\n",
            " [3.5 4.  4.  3. ]\n",
            " [3.5 2.  3.5 3. ]]\n"
          ]
        }
      ]
    },
    {
      "cell_type": "code",
      "metadata": {
        "colab": {
          "base_uri": "https://localhost:8080/"
        },
        "id": "RTslplYxQ75j",
        "outputId": "55d41ec5-3756-46ba-aa42-3fa7d0573f4a"
      },
      "source": [
        "# We can perform elementwise division between matrices as follow\n",
        "div = arr1/arr2\n",
        "print(div)"
      ],
      "id": "RTslplYxQ75j",
      "execution_count": 78,
      "outputs": [
        {
          "output_type": "stream",
          "name": "stdout",
          "text": [
            "[[1.75       0.11111111 0.66666667 3.        ]\n",
            " [0.5        2.25       2.66666667 1.        ]\n",
            " [3.         0.14285714 0.5        2.25      ]\n",
            " [1.16666667 0.88888889 1.14285714 6.        ]\n",
            " [1.4        1.33333333 2.33333333 0.75      ]]\n"
          ]
        }
      ]
    },
    {
      "cell_type": "code",
      "metadata": {
        "colab": {
          "base_uri": "https://localhost:8080/"
        },
        "id": "1nhoY_z4RHRL",
        "outputId": "ada66646-f9d3-461a-d2c9-68e558ea85b3"
      },
      "source": [
        "# same goes for multiplication\n",
        "# Multiplying arr2 with our div variable should return arr1\n",
        "new_arr = div * arr2\n",
        "print(new_arr)"
      ],
      "id": "1nhoY_z4RHRL",
      "execution_count": 79,
      "outputs": [
        {
          "output_type": "stream",
          "name": "stdout",
          "text": [
            "[[7. 1. 2. 9.]\n",
            " [2. 9. 8. 5.]\n",
            " [6. 1. 2. 9.]\n",
            " [7. 8. 8. 6.]\n",
            " [7. 4. 7. 6.]]\n"
          ]
        }
      ]
    },
    {
      "cell_type": "code",
      "metadata": {
        "colab": {
          "base_uri": "https://localhost:8080/"
        },
        "id": "ARzM_VRWReii",
        "outputId": "52845a19-d442-459a-9c6c-28b22e2adc72"
      },
      "source": [
        "# For matrix multiplication we use matmul function or dot function\n",
        "# We need to use transpose of one of the array to make them eligible for matrix multiplication\n",
        "mat_mul = np.matmul(arr1, arr2.T)\n",
        "print(mat_mul)"
      ],
      "id": "ARzM_VRWReii",
      "execution_count": 80,
      "outputs": [
        {
          "output_type": "stream",
          "name": "stdout",
          "text": [
            "[[ 70  83  65  74 116]\n",
            " [128  93 119 154 101]\n",
            " [ 66  79  63  68 111]\n",
            " [142 114 126 176 131]\n",
            " [103  95  94 133 116]]\n"
          ]
        }
      ]
    },
    {
      "cell_type": "code",
      "metadata": {
        "colab": {
          "base_uri": "https://localhost:8080/"
        },
        "id": "-W9DHvJPSbg7",
        "outputId": "4998be68-5109-4591-f925-7d837b65cb9b"
      },
      "source": [
        "dot = arr1.dot(arr2.T)\n",
        "print(dot)"
      ],
      "id": "-W9DHvJPSbg7",
      "execution_count": 81,
      "outputs": [
        {
          "output_type": "stream",
          "name": "stdout",
          "text": [
            "[[ 70  83  65  74 116]\n",
            " [128  93 119 154 101]\n",
            " [ 66  79  63  68 111]\n",
            " [142 114 126 176 131]\n",
            " [103  95  94 133 116]]\n"
          ]
        }
      ]
    },
    {
      "cell_type": "code",
      "metadata": {
        "colab": {
          "base_uri": "https://localhost:8080/"
        },
        "id": "EPIbDzdoS2_j",
        "outputId": "8fa81836-a06a-470a-dd16-9efca4eb8724"
      },
      "source": [
        "using_atRate = arr1 @ arr2.T\n",
        "print(using_atRate)"
      ],
      "id": "EPIbDzdoS2_j",
      "execution_count": 82,
      "outputs": [
        {
          "output_type": "stream",
          "name": "stdout",
          "text": [
            "[[ 70  83  65  74 116]\n",
            " [128  93 119 154 101]\n",
            " [ 66  79  63  68 111]\n",
            " [142 114 126 176 131]\n",
            " [103  95  94 133 116]]\n"
          ]
        }
      ]
    },
    {
      "cell_type": "markdown",
      "metadata": {
        "id": "5I_LzmyNTrKY"
      },
      "source": [
        "## Sorting"
      ],
      "id": "5I_LzmyNTrKY"
    },
    {
      "cell_type": "code",
      "metadata": {
        "colab": {
          "base_uri": "https://localhost:8080/"
        },
        "id": "UcudjX1VTHLi",
        "outputId": "e632140a-de9c-4d49-d60b-d0067e8d188e"
      },
      "source": [
        "# --------------------------------------------\n",
        "print('Program done by : Ajay Pathak\\n' +\n",
        "      'Enrollment No.: 190630107170\\n' +\n",
        "      '=================================\\n\\n\\n')\n",
        "\n",
        "\n",
        "my_data_type = np.dtype([('name', 'S10'), ('email', 'S10'), ('Gender', 'S10'), ('age', int)]) \n",
        "\n",
        "data = np.array([ ('Nate', 'Nate.data@gamil.com', 'Female', 24),\n",
        "                 ('Aj', 'Aj.data@gmail.com', 'Male', 19),\n",
        "                 ('Hari', 'Hari.data@gmail.com', 'Male', 23),\n",
        "                 ('Ace', 'Ace.data@gmail.com', 'Female', 19)], dtype=my_data_type)\n",
        "\n",
        "\n",
        "\n",
        "print(data)"
      ],
      "id": "UcudjX1VTHLi",
      "execution_count": 83,
      "outputs": [
        {
          "output_type": "stream",
          "name": "stdout",
          "text": [
            "Program done by : Ajay Pathak\n",
            "Enrollment No.: 190630107170\n",
            "=================================\n",
            "\n",
            "\n",
            "\n",
            "[(b'Nate', b'Nate.data@', b'Female', 24)\n",
            " (b'Aj', b'Aj.data@gm', b'Male', 19) (b'Hari', b'Hari.data@', b'Male', 23)\n",
            " (b'Ace', b'Ace.data@g', b'Female', 19)]\n"
          ]
        }
      ]
    },
    {
      "cell_type": "code",
      "metadata": {
        "colab": {
          "base_uri": "https://localhost:8080/"
        },
        "id": "37bRaRAzVO-Q",
        "outputId": "51e525fa-58d9-49c0-a49d-c055dd3839b2"
      },
      "source": [
        "data.sort(order='name')\n",
        "print(data)"
      ],
      "id": "37bRaRAzVO-Q",
      "execution_count": 84,
      "outputs": [
        {
          "output_type": "stream",
          "name": "stdout",
          "text": [
            "[(b'Ace', b'Ace.data@g', b'Female', 19)\n",
            " (b'Aj', b'Aj.data@gm', b'Male', 19) (b'Hari', b'Hari.data@', b'Male', 23)\n",
            " (b'Nate', b'Nate.data@', b'Female', 24)]\n"
          ]
        }
      ]
    },
    {
      "cell_type": "code",
      "metadata": {
        "colab": {
          "base_uri": "https://localhost:8080/"
        },
        "id": "VdkxG_AsdYk4",
        "outputId": "fcee0250-1aaa-47a9-bf7d-1b1d36055d0f"
      },
      "source": [
        "data.sort(order=['Gender', 'name', 'age'])\n",
        "print(data)"
      ],
      "id": "VdkxG_AsdYk4",
      "execution_count": 85,
      "outputs": [
        {
          "output_type": "stream",
          "name": "stdout",
          "text": [
            "[(b'Ace', b'Ace.data@g', b'Female', 19)\n",
            " (b'Nate', b'Nate.data@', b'Female', 24)\n",
            " (b'Aj', b'Aj.data@gm', b'Male', 19) (b'Hari', b'Hari.data@', b'Male', 23)]\n"
          ]
        }
      ]
    },
    {
      "cell_type": "markdown",
      "metadata": {
        "id": "qhmlqKgReo1v"
      },
      "source": [
        "## Conditional Selection"
      ],
      "id": "qhmlqKgReo1v"
    },
    {
      "cell_type": "code",
      "metadata": {
        "colab": {
          "base_uri": "https://localhost:8080/"
        },
        "id": "S8qjO561drjD",
        "outputId": "aae4853f-8ed3-455f-c4b6-a8ebe674354d"
      },
      "source": [
        "# --------------------------------------------\n",
        "print('Program done by : Ajay Pathak\\n' +\n",
        "      'Enrollment No.: 190630107170\\n' +\n",
        "      '=================================\\n\\n\\n')\n",
        "\n",
        "\n",
        "numbers = np.random.randn(20)\n",
        "print(numbers)"
      ],
      "id": "S8qjO561drjD",
      "execution_count": 86,
      "outputs": [
        {
          "output_type": "stream",
          "name": "stdout",
          "text": [
            "Program done by : Ajay Pathak\n",
            "Enrollment No.: 190630107170\n",
            "=================================\n",
            "\n",
            "\n",
            "\n",
            "[ 0.39985169  1.50208481  0.74700254 -1.20270672 -1.53068862 -0.84607113\n",
            "  0.34166911  1.06852098 -0.89523096  1.21495817 -1.17322     0.81104866\n",
            "  0.98465038 -0.13420327 -0.37348439  1.20223154 -0.18979768  0.57708309\n",
            "  0.04938363 -1.62498978]\n"
          ]
        }
      ]
    },
    {
      "cell_type": "code",
      "metadata": {
        "colab": {
          "base_uri": "https://localhost:8080/"
        },
        "id": "BlwI3J_le96w",
        "outputId": "fe4fae2e-367d-4f7d-e711-dcaa404d7b83"
      },
      "source": [
        "# Lets make bool array to represent negative and positive elements\n",
        "# negative numbers would ne false and positive would be true\n",
        "\n",
        "sign = numbers > 0\n",
        "print(sign)"
      ],
      "id": "BlwI3J_le96w",
      "execution_count": 87,
      "outputs": [
        {
          "output_type": "stream",
          "name": "stdout",
          "text": [
            "[ True  True  True False False False  True  True False  True False  True\n",
            "  True False False  True False  True  True False]\n"
          ]
        }
      ]
    },
    {
      "cell_type": "markdown",
      "metadata": {
        "id": "2CF9rFUxQNrX"
      },
      "source": [
        "## Pandas Series"
      ],
      "id": "2CF9rFUxQNrX"
    },
    {
      "cell_type": "code",
      "metadata": {
        "id": "sWhMSY_nfS1Q",
        "colab": {
          "base_uri": "https://localhost:8080/"
        },
        "outputId": "bd76d217-1658-4519-8dd7-36a3add662a4"
      },
      "source": [
        "# --------------------------------------------\n",
        "print('Program done by : Ajay Pathak\\n' +\n",
        "      'Enrollment No.: 190630107170\\n' +\n",
        "      '=================================\\n\\n\\n')\n",
        "\n",
        "\n",
        "import pandas as pd\n",
        "import numpy as np"
      ],
      "id": "sWhMSY_nfS1Q",
      "execution_count": 88,
      "outputs": [
        {
          "output_type": "stream",
          "name": "stdout",
          "text": [
            "Program done by : Ajay Pathak\n",
            "Enrollment No.: 190630107170\n",
            "=================================\n",
            "\n",
            "\n",
            "\n"
          ]
        }
      ]
    },
    {
      "cell_type": "code",
      "metadata": {
        "colab": {
          "base_uri": "https://localhost:8080/"
        },
        "id": "OHh60_-bQaqO",
        "outputId": "ed9c6432-e4c3-4b9c-fe4d-c40fa2a49db6"
      },
      "source": [
        "s = pd.Series([1, 2, 4, 6, 7, 0])\n",
        "print(s)"
      ],
      "id": "OHh60_-bQaqO",
      "execution_count": 89,
      "outputs": [
        {
          "output_type": "stream",
          "name": "stdout",
          "text": [
            "0    1\n",
            "1    2\n",
            "2    4\n",
            "3    6\n",
            "4    7\n",
            "5    0\n",
            "dtype: int64\n"
          ]
        }
      ]
    },
    {
      "cell_type": "code",
      "metadata": {
        "colab": {
          "base_uri": "https://localhost:8080/"
        },
        "id": "vxzUHIw_QsDx",
        "outputId": "a426f8a0-6fa3-4b92-8c6e-d3ae758ac22e"
      },
      "source": [
        "print('3rd element in series :', s[2])\n",
        "print('2nd last element in series :', s[4])"
      ],
      "id": "vxzUHIw_QsDx",
      "execution_count": 90,
      "outputs": [
        {
          "output_type": "stream",
          "name": "stdout",
          "text": [
            "3rd element in series : 4\n",
            "2nd last element in series : 7\n"
          ]
        }
      ]
    },
    {
      "cell_type": "code",
      "metadata": {
        "colab": {
          "base_uri": "https://localhost:8080/"
        },
        "id": "Bonz2RGKQ_Iu",
        "outputId": "ab513b6b-0543-4aeb-d3a9-978b9f2cf39d"
      },
      "source": [
        "add_res = s[3] + s[1]\n",
        "print(add_res)"
      ],
      "id": "Bonz2RGKQ_Iu",
      "execution_count": 91,
      "outputs": [
        {
          "output_type": "stream",
          "name": "stdout",
          "text": [
            "8\n"
          ]
        }
      ]
    },
    {
      "cell_type": "code",
      "metadata": {
        "colab": {
          "base_uri": "https://localhost:8080/"
        },
        "id": "vCyDV3c3RjPN",
        "outputId": "53dd3ec1-63dc-460e-fe86-939d94717c75"
      },
      "source": [
        "data = pd.Series(np.random.randint(0, 51, 7), dtype=str)\n",
        "print(data)"
      ],
      "id": "vCyDV3c3RjPN",
      "execution_count": 92,
      "outputs": [
        {
          "output_type": "stream",
          "name": "stdout",
          "text": [
            "0    38\n",
            "1    29\n",
            "2    50\n",
            "3    33\n",
            "4    21\n",
            "5    25\n",
            "6    50\n",
            "dtype: object\n"
          ]
        }
      ]
    },
    {
      "cell_type": "code",
      "metadata": {
        "colab": {
          "base_uri": "https://localhost:8080/"
        },
        "id": "0GO4elBsSC4n",
        "outputId": "21416dbf-ea42-438e-d3de-ed2ae71db522"
      },
      "source": [
        "# --------------------------------------------\n",
        "print('Program done by : Ajay Pathak\\n' +\n",
        "      'Enrollment No.: 190630107170\\n' +\n",
        "      '=================================\\n\\n\\n')\n",
        "\n",
        "\n",
        "indeces = ['Emp. Id', 'Name', 'Post']\n",
        "emp_data = [12.1, 'Nate', 'R4']\n",
        "emp_data_S = pd.Series(data=emp_data, index=indeces)\n",
        "print(emp_data_S)\n"
      ],
      "id": "0GO4elBsSC4n",
      "execution_count": 93,
      "outputs": [
        {
          "output_type": "stream",
          "name": "stdout",
          "text": [
            "Program done by : Ajay Pathak\n",
            "Enrollment No.: 190630107170\n",
            "=================================\n",
            "\n",
            "\n",
            "\n",
            "Emp. Id    12.1\n",
            "Name       Nate\n",
            "Post         R4\n",
            "dtype: object\n"
          ]
        }
      ]
    },
    {
      "cell_type": "markdown",
      "metadata": {
        "id": "uc4lSOvKTAqj"
      },
      "source": [
        "## Creating Time series\n"
      ],
      "id": "uc4lSOvKTAqj"
    },
    {
      "cell_type": "code",
      "metadata": {
        "id": "Lf_VD5fZTG1b",
        "colab": {
          "base_uri": "https://localhost:8080/"
        },
        "outputId": "93808977-8c82-4ef3-cb66-f8a90ed12663"
      },
      "source": [
        "# --------------------------------------------\n",
        "print('Program done by : Ajay Pathak\\n' +\n",
        "      'Enrollment No.: 190630107170\\n' +\n",
        "      '=================================\\n\\n\\n')\n",
        "\n",
        "\n",
        "import pandas as pd\n",
        "import numpy as np"
      ],
      "id": "Lf_VD5fZTG1b",
      "execution_count": 94,
      "outputs": [
        {
          "output_type": "stream",
          "name": "stdout",
          "text": [
            "Program done by : Ajay Pathak\n",
            "Enrollment No.: 190630107170\n",
            "=================================\n",
            "\n",
            "\n",
            "\n"
          ]
        }
      ]
    },
    {
      "cell_type": "code",
      "metadata": {
        "colab": {
          "base_uri": "https://localhost:8080/"
        },
        "id": "hBg_qWsMSn7f",
        "outputId": "db912dfe-39b6-4798-c667-78e2117730bc"
      },
      "source": [
        "# --------------------------------------------\n",
        "print('Program done by : Ajay Pathak\\n' +\n",
        "      'Enrollment No.: 190630107170\\n' +\n",
        "      '=================================\\n\\n\\n')\n",
        "\n",
        "\n",
        "date = pd.to_datetime(\"22nd of January , 2002\")\n",
        "daily_indeces = date + pd.to_timedelta(np.arange(20), unit='D')\n",
        "data = np.random.randn(20) > 0\n",
        "\n",
        "stock_trend = pd.Series(data=data, index=daily_indeces)\n",
        "print(stock_trend)"
      ],
      "id": "hBg_qWsMSn7f",
      "execution_count": 95,
      "outputs": [
        {
          "output_type": "stream",
          "name": "stdout",
          "text": [
            "Program done by : Ajay Pathak\n",
            "Enrollment No.: 190630107170\n",
            "=================================\n",
            "\n",
            "\n",
            "\n",
            "2002-01-22    False\n",
            "2002-01-23    False\n",
            "2002-01-24     True\n",
            "2002-01-25    False\n",
            "2002-01-26     True\n",
            "2002-01-27    False\n",
            "2002-01-28    False\n",
            "2002-01-29    False\n",
            "2002-01-30     True\n",
            "2002-01-31    False\n",
            "2002-02-01    False\n",
            "2002-02-02    False\n",
            "2002-02-03     True\n",
            "2002-02-04     True\n",
            "2002-02-05    False\n",
            "2002-02-06    False\n",
            "2002-02-07    False\n",
            "2002-02-08    False\n",
            "2002-02-09     True\n",
            "2002-02-10    False\n",
            "dtype: bool\n"
          ]
        }
      ]
    },
    {
      "cell_type": "markdown",
      "metadata": {
        "id": "pDMrid3Ho473"
      },
      "source": [
        ""
      ],
      "id": "pDMrid3Ho473"
    },
    {
      "cell_type": "markdown",
      "metadata": {
        "id": "4Q8DYo3pqg24"
      },
      "source": [
        "# 7] Demonstrate Statistical data analysing Numeric Data in python.\n",
        "---"
      ],
      "id": "4Q8DYo3pqg24"
    },
    {
      "cell_type": "markdown",
      "metadata": {
        "id": "kxPuLsFNq8Km"
      },
      "source": [
        "importing numpy"
      ],
      "id": "kxPuLsFNq8Km"
    },
    {
      "cell_type": "code",
      "metadata": {
        "id": "CBXulLb_qnOm",
        "colab": {
          "base_uri": "https://localhost:8080/"
        },
        "outputId": "62a70b64-714f-426d-80ed-8c367c8d9c45"
      },
      "source": [
        "# --------------------------------------------\n",
        "print('Program done by : Ajay Pathak\\n' +\n",
        "      'Enrollment No.: 190630107170\\n' +\n",
        "      '=================================\\n\\n\\n')\n",
        "\n",
        "\n",
        "import numpy as np"
      ],
      "id": "CBXulLb_qnOm",
      "execution_count": 96,
      "outputs": [
        {
          "output_type": "stream",
          "name": "stdout",
          "text": [
            "Program done by : Ajay Pathak\n",
            "Enrollment No.: 190630107170\n",
            "=================================\n",
            "\n",
            "\n",
            "\n"
          ]
        }
      ]
    },
    {
      "cell_type": "markdown",
      "metadata": {
        "id": "fwlAazbTrB9l"
      },
      "source": [
        "Creating array ussing numpy array() method\n",
        "we used random.randint() method to generate 5 random elements from [0, 10)"
      ],
      "id": "fwlAazbTrB9l"
    },
    {
      "cell_type": "code",
      "metadata": {
        "colab": {
          "base_uri": "https://localhost:8080/"
        },
        "id": "Q2kiJwH1qzM-",
        "outputId": "fabbdc76-a9c8-4a45-b049-5e73236c5bc6"
      },
      "source": [
        "# --------------------------------------------\n",
        "print('Program done by : Ajay Pathak\\n' +\n",
        "      'Enrollment No.: 190630107170\\n' +\n",
        "      '=================================\\n\\n\\n')\n",
        "\n",
        "\n",
        "arr1 = np.array(np.random.randint(0, 10, 5))\n",
        "print(arr1)"
      ],
      "id": "Q2kiJwH1qzM-",
      "execution_count": 98,
      "outputs": [
        {
          "output_type": "stream",
          "name": "stdout",
          "text": [
            "Program done by : Ajay Pathak\n",
            "Enrollment No.: 190630107170\n",
            "=================================\n",
            "\n",
            "\n",
            "\n",
            "[4 1 0 5 0]\n"
          ]
        }
      ]
    },
    {
      "cell_type": "markdown",
      "metadata": {
        "id": "ReqN7C6AsCzu"
      },
      "source": [
        "Accessing and manipulating array elements "
      ],
      "id": "ReqN7C6AsCzu"
    },
    {
      "cell_type": "code",
      "metadata": {
        "colab": {
          "base_uri": "https://localhost:8080/"
        },
        "id": "7MTy5botrIic",
        "outputId": "99f021aa-4b43-43bc-a9f7-9c7d538b6392"
      },
      "source": [
        "# --------------------------------------------\n",
        "print('Program done by : Ajay Pathak\\n' +\n",
        "      'Enrollment No.: 190630107170\\n' +\n",
        "      '=================================\\n\\n\\n')\n",
        "\n",
        "\n",
        "\n",
        "print(arr1[3]) # prints elememt on 3rd index from arr "
      ],
      "id": "7MTy5botrIic",
      "execution_count": 99,
      "outputs": [
        {
          "output_type": "stream",
          "name": "stdout",
          "text": [
            "Program done by : Ajay Pathak\n",
            "Enrollment No.: 190630107170\n",
            "=================================\n",
            "\n",
            "\n",
            "\n",
            "5\n"
          ]
        }
      ]
    },
    {
      "cell_type": "code",
      "metadata": {
        "colab": {
          "base_uri": "https://localhost:8080/"
        },
        "id": "y6Zq36vYsPYu",
        "outputId": "4b8c0d9a-a02e-4bdd-ce51-d2af5973d26f"
      },
      "source": [
        "# --------------------------------------------\n",
        "print('Program done by : Ajay Pathak\\n' +\n",
        "      'Enrollment No.: 190630107170\\n' +\n",
        "      '=================================\\n\\n\\n')\n",
        "\n",
        "\n",
        "print('arr1 before changing value : ',arr1)\n",
        "arr1[3] = arr1[2] # changes value of 3rd index to the value of 2nd index in arr1\n",
        "print('arr1 after changing value : ',arr1)"
      ],
      "id": "y6Zq36vYsPYu",
      "execution_count": 100,
      "outputs": [
        {
          "output_type": "stream",
          "name": "stdout",
          "text": [
            "Program done by : Ajay Pathak\n",
            "Enrollment No.: 190630107170\n",
            "=================================\n",
            "\n",
            "\n",
            "\n",
            "arr1 before changing value :  [4 1 0 5 0]\n",
            "arr1 after changing value :  [4 1 0 0 0]\n"
          ]
        }
      ]
    },
    {
      "cell_type": "markdown",
      "metadata": {
        "id": "Cqy7kRi7sw6W"
      },
      "source": [
        "Let's create 2D array \n"
      ],
      "id": "Cqy7kRi7sw6W"
    },
    {
      "cell_type": "code",
      "metadata": {
        "colab": {
          "base_uri": "https://localhost:8080/"
        },
        "id": "0VWh4x0ssd7F",
        "outputId": "84d9e783-5a19-42e4-d53d-e80233d22e15"
      },
      "source": [
        "# --------------------------------------------\n",
        "print('Program done by : Ajay Pathak\\n' +\n",
        "      'Enrollment No.: 190630107170\\n' +\n",
        "      '=================================\\n\\n\\n')\n",
        "\n",
        "\n",
        "# arr2 = np.random.randint(0, 10, 3)\n",
        "# arr3 = np.arange(0, 5)\n",
        "# matrix1 = np.array([arr2, [1, 3, 5]], dtype=int)\n",
        "# print(matrix1)\n",
        "\n",
        "matrix = np.array([ [22, 16, 27], \n",
        "                    [1, 3, 11] ])\n",
        "print(matrix)"
      ],
      "id": "0VWh4x0ssd7F",
      "execution_count": 101,
      "outputs": [
        {
          "output_type": "stream",
          "name": "stdout",
          "text": [
            "Program done by : Ajay Pathak\n",
            "Enrollment No.: 190630107170\n",
            "=================================\n",
            "\n",
            "\n",
            "\n",
            "[[22 16 27]\n",
            " [ 1  3 11]]\n"
          ]
        }
      ]
    },
    {
      "cell_type": "markdown",
      "metadata": {
        "id": "BHGnK7E9vH2t"
      },
      "source": [
        "We can know the size of the matrix/array with shape method in numpy"
      ],
      "id": "BHGnK7E9vH2t"
    },
    {
      "cell_type": "code",
      "metadata": {
        "colab": {
          "base_uri": "https://localhost:8080/"
        },
        "id": "cqhQ1YlxtLfv",
        "outputId": "476c6752-0912-41b6-f262-ea26f2419841"
      },
      "source": [
        "print(matrix.shape)"
      ],
      "id": "cqhQ1YlxtLfv",
      "execution_count": 102,
      "outputs": [
        {
          "output_type": "stream",
          "name": "stdout",
          "text": [
            "(2, 3)\n"
          ]
        }
      ]
    },
    {
      "cell_type": "markdown",
      "metadata": {
        "id": "Xzpg75YZwGLl"
      },
      "source": [
        "We can access 2D array element as below"
      ],
      "id": "Xzpg75YZwGLl"
    },
    {
      "cell_type": "code",
      "metadata": {
        "colab": {
          "base_uri": "https://localhost:8080/"
        },
        "id": "ivgvinJEvPZm",
        "outputId": "ec0731f1-d628-47e4-85d1-250cf7e0300a"
      },
      "source": [
        "# --------------------------------------------\n",
        "print('Program done by : Ajay Pathak\\n' +\n",
        "      'Enrollment No.: 190630107170\\n' +\n",
        "      '=================================\\n\\n\\n')\n",
        "\n",
        "\n",
        "print('first element in first row : ', matrix[0][0])\n",
        "print('last element in last row : ', matrix[-1][-1]) # negative index refers to the list in reverse order\n",
        "print('second row : ', matrix[1]) # not providing colom value returns whole row"
      ],
      "id": "ivgvinJEvPZm",
      "execution_count": 103,
      "outputs": [
        {
          "output_type": "stream",
          "name": "stdout",
          "text": [
            "Program done by : Ajay Pathak\n",
            "Enrollment No.: 190630107170\n",
            "=================================\n",
            "\n",
            "\n",
            "\n",
            "first element in first row :  22\n",
            "last element in last row :  11\n",
            "second row :  [ 1  3 11]\n"
          ]
        }
      ]
    },
    {
      "cell_type": "markdown",
      "metadata": {
        "id": "Fdp0SidRw29e"
      },
      "source": [
        "Array of type string"
      ],
      "id": "Fdp0SidRw29e"
    },
    {
      "cell_type": "code",
      "metadata": {
        "colab": {
          "base_uri": "https://localhost:8080/"
        },
        "id": "-K22qWGXwUBV",
        "outputId": "5c8f3a77-9d26-4745-a2eb-a7dd5f5e5269"
      },
      "source": [
        "# --------------------------------------------\n",
        "print('Program done by : Ajay Pathak\\n' +\n",
        "      'Enrollment No.: 190630107170\\n' +\n",
        "      '=================================\\n\\n\\n')\n",
        "\n",
        "\n",
        "\n",
        "family = ['Father', 'Mother', 'Brother', 'Sister']\n",
        "print(family)\n",
        "print('3rd element in family list is : ', family[2]) # accessing array element as shown earlier"
      ],
      "id": "-K22qWGXwUBV",
      "execution_count": 104,
      "outputs": [
        {
          "output_type": "stream",
          "name": "stdout",
          "text": [
            "Program done by : Ajay Pathak\n",
            "Enrollment No.: 190630107170\n",
            "=================================\n",
            "\n",
            "\n",
            "\n",
            "['Father', 'Mother', 'Brother', 'Sister']\n",
            "3rd element in family list is :  Brother\n"
          ]
        }
      ]
    },
    {
      "cell_type": "markdown",
      "metadata": {
        "id": "M94m1qmcxU-t"
      },
      "source": [
        "Using the arange() and linspace() function to evenly space values in a specified interval."
      ],
      "id": "M94m1qmcxU-t"
    },
    {
      "cell_type": "code",
      "metadata": {
        "colab": {
          "base_uri": "https://localhost:8080/"
        },
        "id": "81BbpxMDxBvN",
        "outputId": "ae185b33-da51-4137-d2e0-c12865bc4c61"
      },
      "source": [
        "# --------------------------------------------\n",
        "print('Program done by : Ajay Pathak\\n' +\n",
        "      'Enrollment No.: 190630107170\\n' +\n",
        "      '=================================\\n\\n\\n')\n",
        "\n",
        "\n",
        "arr_with_same_difference = np.arange(0, 10, 3)\n",
        "print('This array will have same difference between adjacent elements : \\n', arr_with_same_difference)\n",
        "# so using arrange method returns list in given range i.e., (0, 10) in our case , with every 3rd element in our case"
      ],
      "id": "81BbpxMDxBvN",
      "execution_count": 105,
      "outputs": [
        {
          "output_type": "stream",
          "name": "stdout",
          "text": [
            "Program done by : Ajay Pathak\n",
            "Enrollment No.: 190630107170\n",
            "=================================\n",
            "\n",
            "\n",
            "\n",
            "This array will have same difference between adjacent elements : \n",
            " [0 3 6 9]\n"
          ]
        }
      ]
    },
    {
      "cell_type": "code",
      "metadata": {
        "id": "RFKT32Idxxid",
        "colab": {
          "base_uri": "https://localhost:8080/"
        },
        "outputId": "d7277f03-6ed8-4a1f-df83-61599476afc5"
      },
      "source": [
        "# --------------------------------------------\n",
        "print('Program done by : Ajay Pathak\\n' +\n",
        "      'Enrollment No.: 190630107170\\n' +\n",
        "      '=================================\\n\\n\\n')\n",
        "\n",
        "\n",
        "# if we want a list of numbers in range (11, 30) with every 5th element \n",
        "# we can write\n",
        "five_diff = np.arange(11, 30, 5)\n",
        "print(five_diff)"
      ],
      "id": "RFKT32Idxxid",
      "execution_count": 106,
      "outputs": [
        {
          "output_type": "stream",
          "name": "stdout",
          "text": [
            "Program done by : Ajay Pathak\n",
            "Enrollment No.: 190630107170\n",
            "=================================\n",
            "\n",
            "\n",
            "\n",
            "[11 16 21 26]\n"
          ]
        }
      ]
    },
    {
      "cell_type": "code",
      "metadata": {
        "colab": {
          "base_uri": "https://localhost:8080/"
        },
        "id": "siCJQC7Bz95u",
        "outputId": "ea1c17f8-88b8-45b3-f5bd-8ab266713d36"
      },
      "source": [
        "# --------------------------------------------\n",
        "print('Program done by : Ajay Pathak\\n' +\n",
        "      'Enrollment No.: 190630107170\\n' +\n",
        "      '=================================\\n\\n\\n')\n",
        "\n",
        "\n",
        "# Using linspace \n",
        "arr = np.linspace(11, 30, 50)\n",
        "print(arr)"
      ],
      "id": "siCJQC7Bz95u",
      "execution_count": 107,
      "outputs": [
        {
          "output_type": "stream",
          "name": "stdout",
          "text": [
            "Program done by : Ajay Pathak\n",
            "Enrollment No.: 190630107170\n",
            "=================================\n",
            "\n",
            "\n",
            "\n",
            "[11.         11.3877551  11.7755102  12.16326531 12.55102041 12.93877551\n",
            " 13.32653061 13.71428571 14.10204082 14.48979592 14.87755102 15.26530612\n",
            " 15.65306122 16.04081633 16.42857143 16.81632653 17.20408163 17.59183673\n",
            " 17.97959184 18.36734694 18.75510204 19.14285714 19.53061224 19.91836735\n",
            " 20.30612245 20.69387755 21.08163265 21.46938776 21.85714286 22.24489796\n",
            " 22.63265306 23.02040816 23.40816327 23.79591837 24.18367347 24.57142857\n",
            " 24.95918367 25.34693878 25.73469388 26.12244898 26.51020408 26.89795918\n",
            " 27.28571429 27.67346939 28.06122449 28.44897959 28.83673469 29.2244898\n",
            " 29.6122449  30.        ]\n"
          ]
        }
      ]
    },
    {
      "cell_type": "markdown",
      "metadata": {
        "id": "RW0HOFTM1xiu"
      },
      "source": [
        "Create an array of constant values in a given shape."
      ],
      "id": "RW0HOFTM1xiu"
    },
    {
      "cell_type": "code",
      "metadata": {
        "colab": {
          "base_uri": "https://localhost:8080/"
        },
        "id": "o18JhHzv02Fm",
        "outputId": "c18c2b35-74aa-4ffa-f3d0-5d010aee657f"
      },
      "source": [
        "# --------------------------------------------\n",
        "print('Program done by : Ajay Pathak\\n' +\n",
        "      'Enrollment No.: 190630107170\\n' +\n",
        "      '=================================\\n\\n\\n')\n",
        "\n",
        "\n",
        "# we can create any size of array with same value in every element with the code below \n",
        "# we use full() method and give shape of an array a fist argument and value as second argument\n",
        "const_arr = np.full((3, 10), 'Naruto')\n",
        "print(const_arr)\n",
        "print('shape of this arr is : ', const_arr.shape)"
      ],
      "id": "o18JhHzv02Fm",
      "execution_count": 108,
      "outputs": [
        {
          "output_type": "stream",
          "name": "stdout",
          "text": [
            "Program done by : Ajay Pathak\n",
            "Enrollment No.: 190630107170\n",
            "=================================\n",
            "\n",
            "\n",
            "\n",
            "[['Naruto' 'Naruto' 'Naruto' 'Naruto' 'Naruto' 'Naruto' 'Naruto' 'Naruto'\n",
            "  'Naruto' 'Naruto']\n",
            " ['Naruto' 'Naruto' 'Naruto' 'Naruto' 'Naruto' 'Naruto' 'Naruto' 'Naruto'\n",
            "  'Naruto' 'Naruto']\n",
            " ['Naruto' 'Naruto' 'Naruto' 'Naruto' 'Naruto' 'Naruto' 'Naruto' 'Naruto'\n",
            "  'Naruto' 'Naruto']]\n",
            "shape of this arr is :  (3, 10)\n"
          ]
        }
      ]
    },
    {
      "cell_type": "markdown",
      "metadata": {
        "id": "elBio3qD26pm"
      },
      "source": [
        " Repeat each element of an array by a specified number of times using repeat() and tile() functions."
      ],
      "id": "elBio3qD26pm"
    },
    {
      "cell_type": "code",
      "metadata": {
        "colab": {
          "base_uri": "https://localhost:8080/"
        },
        "id": "iVBRLkMo100u",
        "outputId": "379f077b-8503-46f4-e573-a95d469381b4"
      },
      "source": [
        "# --------------------------------------------\n",
        "print('Program done by : Ajay Pathak\\n' +\n",
        "      'Enrollment No.: 190630107170\\n' +\n",
        "      '=================================\\n\\n\\n')\n",
        "\n",
        "\n",
        "\n",
        "# to create new array from existing array with each element repeating specific time \n",
        "# we use repeat() method\n",
        "arr_to_repeat = [22, 21, 20]\n",
        "repeated_arr = np.repeat(arr_to_repeat, 2)\n",
        "# here , all the elements of array will be repeated twice\n",
        "print(repeated_arr)"
      ],
      "id": "iVBRLkMo100u",
      "execution_count": 109,
      "outputs": [
        {
          "output_type": "stream",
          "name": "stdout",
          "text": [
            "Program done by : Ajay Pathak\n",
            "Enrollment No.: 190630107170\n",
            "=================================\n",
            "\n",
            "\n",
            "\n",
            "[22 22 21 21 20 20]\n"
          ]
        }
      ]
    },
    {
      "cell_type": "code",
      "metadata": {
        "colab": {
          "base_uri": "https://localhost:8080/"
        },
        "id": "AEjAMiFX3TkF",
        "outputId": "c7d33fca-8a9c-4e13-bb6d-d4bfb901c18c"
      },
      "source": [
        "# --------------------------------------------\n",
        "print('Program done by : Ajay Pathak\\n' +\n",
        "      'Enrollment No.: 190630107170\\n' +\n",
        "      '=================================\\n\\n\\n')\n",
        "\n",
        "\n",
        "# we use tile() method to repeat whole array specific times\n",
        "repeating_whole_arr = np.tile(arr_to_repeat, 3)\n",
        "# here, whole array will be repeated thrice\n",
        "print(repeating_whole_arr)"
      ],
      "id": "AEjAMiFX3TkF",
      "execution_count": 110,
      "outputs": [
        {
          "output_type": "stream",
          "name": "stdout",
          "text": [
            "Program done by : Ajay Pathak\n",
            "Enrollment No.: 190630107170\n",
            "=================================\n",
            "\n",
            "\n",
            "\n",
            "[22 21 20 22 21 20 22 21 20]\n"
          ]
        }
      ]
    },
    {
      "cell_type": "markdown",
      "metadata": {
        "id": "QMO3G_7t4AwN"
      },
      "source": [
        "Create an identity matrix using eye() and identity() function."
      ],
      "id": "QMO3G_7t4AwN"
    },
    {
      "cell_type": "code",
      "metadata": {
        "colab": {
          "base_uri": "https://localhost:8080/"
        },
        "id": "p6kkTEQF31qc",
        "outputId": "9f5f5ecd-17d9-4369-a9d9-4655e31949f0"
      },
      "source": [
        "# --------------------------------------------\n",
        "print('Program done by : Ajay Pathak\\n' +\n",
        "      'Enrollment No.: 190630107170\\n' +\n",
        "      '=================================\\n\\n\\n')\n",
        "\n",
        "\n",
        "# we can use eye() method to Return a 2-D array with ones on the diagonal and zeros elsewhere\n",
        "eye_arr = np.eye(3)\n",
        "print(eye_arr)"
      ],
      "id": "p6kkTEQF31qc",
      "execution_count": 111,
      "outputs": [
        {
          "output_type": "stream",
          "name": "stdout",
          "text": [
            "Program done by : Ajay Pathak\n",
            "Enrollment No.: 190630107170\n",
            "=================================\n",
            "\n",
            "\n",
            "\n",
            "[[1. 0. 0.]\n",
            " [0. 1. 0.]\n",
            " [0. 0. 1.]]\n"
          ]
        }
      ]
    },
    {
      "cell_type": "code",
      "metadata": {
        "colab": {
          "base_uri": "https://localhost:8080/"
        },
        "id": "zglUo_FY4XIG",
        "outputId": "2c5e01ce-e73e-4356-f090-e7dda095e98d"
      },
      "source": [
        "# --------------------------------------------\n",
        "print('Program done by : Ajay Pathak\\n' +\n",
        "      'Enrollment No.: 190630107170\\n' +\n",
        "      '=================================\\n\\n\\n')\n",
        "\n",
        "\n",
        "# similarly, we can use identity() method to Return the identity array.\n",
        "iden_arr = np.identity(5)\n",
        "print(iden_arr)"
      ],
      "id": "zglUo_FY4XIG",
      "execution_count": 112,
      "outputs": [
        {
          "output_type": "stream",
          "name": "stdout",
          "text": [
            "Program done by : Ajay Pathak\n",
            "Enrollment No.: 190630107170\n",
            "=================================\n",
            "\n",
            "\n",
            "\n",
            "[[1. 0. 0. 0. 0.]\n",
            " [0. 1. 0. 0. 0.]\n",
            " [0. 0. 1. 0. 0.]\n",
            " [0. 0. 0. 1. 0.]\n",
            " [0. 0. 0. 0. 1.]]\n"
          ]
        }
      ]
    },
    {
      "cell_type": "markdown",
      "metadata": {
        "id": "lTqpwkxI4uEc"
      },
      "source": [
        "Creating 2D array for random numbers between 0 to 1."
      ],
      "id": "lTqpwkxI4uEc"
    },
    {
      "cell_type": "code",
      "metadata": {
        "colab": {
          "base_uri": "https://localhost:8080/"
        },
        "id": "LVcTUPUl4laO",
        "outputId": "9b4f75e7-eeef-42c7-db1a-9552698d0510"
      },
      "source": [
        "# --------------------------------------------\n",
        "print('Program done by : Ajay Pathak\\n' +\n",
        "      'Enrollment No.: 190630107170\\n' +\n",
        "      '=================================\\n\\n\\n')\n",
        "\n",
        "\n",
        "random_matrix = np.random.rand(4, 5)\n",
        "# we need to give shape of desired array in argument\n",
        "print(random_matrix)"
      ],
      "id": "LVcTUPUl4laO",
      "execution_count": 113,
      "outputs": [
        {
          "output_type": "stream",
          "name": "stdout",
          "text": [
            "Program done by : Ajay Pathak\n",
            "Enrollment No.: 190630107170\n",
            "=================================\n",
            "\n",
            "\n",
            "\n",
            "[[0.47752465 0.5218778  0.71779378 0.43088828 0.56202026]\n",
            " [0.58692359 0.2146402  0.57432289 0.09521245 0.42264351]\n",
            " [0.48251252 0.08157404 0.64683943 0.84788627 0.49206555]\n",
            " [0.04115895 0.4139499  0.21658167 0.33792675 0.31194842]]\n"
          ]
        }
      ]
    }
  ]
}