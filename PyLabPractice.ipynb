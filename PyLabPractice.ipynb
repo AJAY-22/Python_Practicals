{
  "nbformat": 4,
  "nbformat_minor": 0,
  "metadata": {
    "colab": {
      "name": "PyLabPractice.ipynb",
      "provenance": [],
      "toc_visible": true,
      "authorship_tag": "ABX9TyMIUL0BSUEc9meqFscdb3gf",
      "include_colab_link": true
    },
    "kernelspec": {
      "name": "python3",
      "display_name": "Python 3"
    },
    "language_info": {
      "name": "python"
    }
  },
  "cells": [
    {
      "cell_type": "markdown",
      "metadata": {
        "id": "view-in-github",
        "colab_type": "text"
      },
      "source": [
        "<a href=\"https://colab.research.google.com/github/AJAY-22/Python_Practicals/blob/main/PyLabPractice.ipynb\" target=\"_parent\"><img src=\"https://colab.research.google.com/assets/colab-badge.svg\" alt=\"Open In Colab\"/></a>"
      ]
    },
    {
      "cell_type": "markdown",
      "metadata": {
        "id": "RdkAEq4cO_bf"
      },
      "source": [
        "# Example of Python variable\n",
        "\n",
        "---\n",
        "\n"
      ]
    },
    {
      "cell_type": "markdown",
      "metadata": {
        "id": "wqI6Oi-TQP-3"
      },
      "source": [
        "> ## Integer variable"
      ]
    },
    {
      "cell_type": "code",
      "metadata": {
        "colab": {
          "base_uri": "https://localhost:8080/"
        },
        "id": "1nJ1eHSxP59S",
        "outputId": "cc253831-91d4-42b4-f501-eeafe443a6f1"
      },
      "source": [
        "x=22\n",
        "print(x)\n",
        "print(type(x))"
      ],
      "execution_count": 3,
      "outputs": [
        {
          "output_type": "stream",
          "text": [
            "22\n",
            "<class 'int'>\n"
          ],
          "name": "stdout"
        }
      ]
    },
    {
      "cell_type": "markdown",
      "metadata": {
        "id": "-4Pb5a9EQYFw"
      },
      "source": [
        "> ## Float variable"
      ]
    },
    {
      "cell_type": "code",
      "metadata": {
        "colab": {
          "base_uri": "https://localhost:8080/"
        },
        "id": "6Xp8dXBXQFAy",
        "outputId": "aa57be5d-6245-4819-80eb-4c48a03b3caf"
      },
      "source": [
        "y=1.02\n",
        "print(y)\n",
        "print(type(y))"
      ],
      "execution_count": 4,
      "outputs": [
        {
          "output_type": "stream",
          "text": [
            "1.02\n",
            "<class 'float'>\n"
          ],
          "name": "stdout"
        }
      ]
    },
    {
      "cell_type": "markdown",
      "metadata": {
        "id": "n4JeK4gHQihO"
      },
      "source": [
        "> ## String variable"
      ]
    },
    {
      "cell_type": "code",
      "metadata": {
        "colab": {
          "base_uri": "https://localhost:8080/"
        },
        "id": "wnTEpb-jQg43",
        "outputId": "2528398c-0d84-47a3-b78c-e96a47ea3d8d"
      },
      "source": [
        "name='Someone'\n",
        "print(name)\n",
        "print(type(name))"
      ],
      "execution_count": 5,
      "outputs": [
        {
          "output_type": "stream",
          "text": [
            "Someone\n",
            "<class 'str'>\n"
          ],
          "name": "stdout"
        }
      ]
    },
    {
      "cell_type": "markdown",
      "metadata": {
        "id": "MrnGZ7zAQ1xd"
      },
      "source": [
        "# String functions\n",
        "---"
      ]
    },
    {
      "cell_type": "markdown",
      "metadata": {
        "id": "F5sw2BktQ78G"
      },
      "source": [
        "> ## len()\n",
        "```\n",
        "len(variable_name)\n",
        "```\n",
        "Returns length of the variable"
      ]
    },
    {
      "cell_type": "code",
      "metadata": {
        "colab": {
          "base_uri": "https://localhost:8080/"
        },
        "id": "ivYB3QE7RlfF",
        "outputId": "b6cf5548-0ce2-45d1-f422-4d44fcd633e3"
      },
      "source": [
        "student_name = 'xyz abc ghj'\n",
        "print('Lenght of the variable \\'student_name\\' is ', len(student_name))"
      ],
      "execution_count": 7,
      "outputs": [
        {
          "output_type": "stream",
          "text": [
            "Lenght of the variable 'student_name' is  11\n"
          ],
          "name": "stdout"
        }
      ]
    },
    {
      "cell_type": "markdown",
      "metadata": {
        "id": "RuOXL94sSHW8"
      },
      "source": [
        "> ## count()\n",
        "```\n",
        "variable_name.count(element)\n",
        "```\n",
        "Returns number of occurence of element in variable"
      ]
    },
    {
      "cell_type": "code",
      "metadata": {
        "colab": {
          "base_uri": "https://localhost:8080/"
        },
        "id": "de8GrsO9Q5C8",
        "outputId": "3f82ea52-08b0-43d8-f549-a2be35cc64e2"
      },
      "source": [
        "student_name = 'yyy zz ab'\n",
        "print('y occurs ', student_name.count('y'), 'times')\n",
        "print('z occurs ', student_name.count('z'), 'times')\n",
        "print('ab occurs ', student_name.count('ab'), 'times')"
      ],
      "execution_count": 11,
      "outputs": [
        {
          "output_type": "stream",
          "text": [
            "y occurs  3 times\n",
            "z occurs  2 times\n",
            "ab occurs  1 times\n"
          ],
          "name": "stdout"
        }
      ]
    },
    {
      "cell_type": "markdown",
      "metadata": {
        "id": "-FvrEdF0Ttuu"
      },
      "source": [
        "> ## title()\n",
        "```\n",
        "variable_name.title()\n",
        "```\n",
        "Returns variable in capitalized format"
      ]
    },
    {
      "cell_type": "code",
      "metadata": {
        "colab": {
          "base_uri": "https://localhost:8080/"
        },
        "id": "AnIAIQZAUKNr",
        "outputId": "8c469eb1-6195-4071-a8f9-bbcccf7a22fc"
      },
      "source": [
        "title=student_name.title()\n",
        "print(title)"
      ],
      "execution_count": 15,
      "outputs": [
        {
          "output_type": "stream",
          "text": [
            "Yyy Zz Ab\n"
          ],
          "name": "stdout"
        }
      ]
    },
    {
      "cell_type": "markdown",
      "metadata": {
        "id": "x5mrZ2roUT1V"
      },
      "source": [
        "> ## upper()\n",
        "```\n",
        "variable_name.upper()\n",
        "```\n",
        "Returns variable in uppercase format"
      ]
    },
    {
      "cell_type": "code",
      "metadata": {
        "colab": {
          "base_uri": "https://localhost:8080/"
        },
        "id": "Fa4TzON2UQa3",
        "outputId": "4b4a36ca-cd87-4891-a996-b9f80493e7b8"
      },
      "source": [
        "upper=student_name.upper()\n",
        "print(upper)"
      ],
      "execution_count": 16,
      "outputs": [
        {
          "output_type": "stream",
          "text": [
            "YYY ZZ AB\n"
          ],
          "name": "stdout"
        }
      ]
    },
    {
      "cell_type": "markdown",
      "metadata": {
        "id": "X3gMaUP8UkTG"
      },
      "source": [
        "> ## lower()\n",
        "```\n",
        "variable_name.lower()\n",
        "```\n",
        "Returns variable in lowercase format"
      ]
    },
    {
      "cell_type": "code",
      "metadata": {
        "colab": {
          "base_uri": "https://localhost:8080/"
        },
        "id": "HgXW2X9PUiZT",
        "outputId": "92ba1b95-320e-41d6-fb1a-84cd3bc6389c"
      },
      "source": [
        "lower=student_name.lower()\n",
        "print(lower)"
      ],
      "execution_count": 17,
      "outputs": [
        {
          "output_type": "stream",
          "text": [
            "yyy zz ab\n"
          ],
          "name": "stdout"
        }
      ]
    },
    {
      "cell_type": "markdown",
      "metadata": {
        "id": "V5q1Tx7YU1xv"
      },
      "source": [
        "> ## istitle()\n",
        "```\n",
        "variable_name.istitle()\n",
        "```\n",
        "Returns true if variable is in capitalized format otherwise false"
      ]
    },
    {
      "cell_type": "code",
      "metadata": {
        "colab": {
          "base_uri": "https://localhost:8080/"
        },
        "id": "2rx5kXlUUvkn",
        "outputId": "e869324f-8e8f-48f2-8c9f-2c054c82b02d"
      },
      "source": [
        "print(title, ':', title.istitle())\n",
        "print(upper, ':', upper.istitle())"
      ],
      "execution_count": 21,
      "outputs": [
        {
          "output_type": "stream",
          "text": [
            "Yyy Zz Ab : True\n",
            "YYY ZZ AB : False\n"
          ],
          "name": "stdout"
        }
      ]
    },
    {
      "cell_type": "markdown",
      "metadata": {
        "id": "fz8JvLcsVwsm"
      },
      "source": [
        "> ## isupper()\n",
        "```\n",
        "variable_name.isupper()\n",
        "```\n",
        "Returns true if variable is in uppercase format otherwise false"
      ]
    },
    {
      "cell_type": "code",
      "metadata": {
        "colab": {
          "base_uri": "https://localhost:8080/"
        },
        "id": "3lnFD3xvVhOX",
        "outputId": "df5a8a48-2dbd-484f-8c30-0d637a23771e"
      },
      "source": [
        "print(upper, ':', upper.isupper())\n",
        "print(lower, ':', lower.isupper())"
      ],
      "execution_count": 24,
      "outputs": [
        {
          "output_type": "stream",
          "text": [
            "YYY ZZ AB : True\n",
            "yyy zz ab : False\n"
          ],
          "name": "stdout"
        }
      ]
    },
    {
      "cell_type": "markdown",
      "metadata": {
        "id": "rCNBhQb4WKsm"
      },
      "source": [
        "> ## islower()\n",
        "```\n",
        "variable_name.islower()\n",
        "```\n",
        "Returns true if variable is in lowercase format otherwise false"
      ]
    },
    {
      "cell_type": "code",
      "metadata": {
        "colab": {
          "base_uri": "https://localhost:8080/"
        },
        "id": "lp5dJuFdWBAo",
        "outputId": "d578fb7a-1261-4d57-a083-6e3fb8b94f97"
      },
      "source": [
        "print(lower, ':', lower.islower())\n",
        "print(upper, ':', upper.islower())"
      ],
      "execution_count": 25,
      "outputs": [
        {
          "output_type": "stream",
          "text": [
            "yyy zz ab : True\n",
            "YYY ZZ AB : False\n"
          ],
          "name": "stdout"
        }
      ]
    },
    {
      "cell_type": "markdown",
      "metadata": {
        "id": "49bWEo06WmH2"
      },
      "source": [
        "> ## find()\n",
        "```\n",
        "variable_name.find(element)\n",
        "```\n",
        "Returns index of the first occurence of element in variable if any,       \n",
        "-1 otherwise "
      ]
    },
    {
      "cell_type": "code",
      "metadata": {
        "colab": {
          "base_uri": "https://localhost:8080/"
        },
        "id": "OPfctX_MWVJE",
        "outputId": "308eab7b-a29e-4515-8883-83f72ccc640c"
      },
      "source": [
        "print(student_name.find('x'))\n",
        "print(student_name.find('a'))"
      ],
      "execution_count": 27,
      "outputs": [
        {
          "output_type": "stream",
          "text": [
            "-1\n",
            "7\n"
          ],
          "name": "stdout"
        }
      ]
    },
    {
      "cell_type": "markdown",
      "metadata": {
        "id": "0Cb2S_AaXLIW"
      },
      "source": [
        "> ## rfind()\n",
        "```\n",
        "variable_name.rfind(element)\n",
        "```\n",
        "Returns index of the last occurence of element in variable if any,       \n",
        "-1 otherwise "
      ]
    },
    {
      "cell_type": "code",
      "metadata": {
        "colab": {
          "base_uri": "https://localhost:8080/"
        },
        "id": "4lntISFsW7ZK",
        "outputId": "60a4b9fd-efe2-426a-cf1e-9459a9c5f1fe"
      },
      "source": [
        "print(student_name.rfind('x'))\n",
        "print(student_name.rfind('y'))"
      ],
      "execution_count": 28,
      "outputs": [
        {
          "output_type": "stream",
          "text": [
            "-1\n",
            "2\n"
          ],
          "name": "stdout"
        }
      ]
    },
    {
      "cell_type": "markdown",
      "metadata": {
        "id": "cwC6GlDvXhb-"
      },
      "source": [
        "> ## replace()\n",
        "```\n",
        "variable_name.replace(str1, str2)\n",
        "```\n",
        "Returns updated string with str1 replaced with str2                                  \n",
        "NOTE: variable_name will not get updated"
      ]
    },
    {
      "cell_type": "code",
      "metadata": {
        "colab": {
          "base_uri": "https://localhost:8080/"
        },
        "id": "zRuzeCCpXTF_",
        "outputId": "95ba459d-ce9f-4818-958b-25d4b58d4489"
      },
      "source": [
        "new_name = student_name.replace('ab', '12')\n",
        "print(student_name)\n",
        "print(new_name)"
      ],
      "execution_count": 32,
      "outputs": [
        {
          "output_type": "stream",
          "text": [
            "yyy zz ab\n",
            "yyy zz 12\n"
          ],
          "name": "stdout"
        }
      ]
    }
  ]
}