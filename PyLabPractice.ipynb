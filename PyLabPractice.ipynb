{
  "nbformat": 4,
  "nbformat_minor": 0,
  "metadata": {
    "colab": {
      "name": "PyLabPractice.ipynb",
      "provenance": [],
      "collapsed_sections": [
        "RdkAEq4cO_bf",
        "wqI6Oi-TQP-3",
        "-4Pb5a9EQYFw",
        "MrnGZ7zAQ1xd",
        "F5sw2BktQ78G",
        "4kMRiII-UnKw",
        "tyeE9eblVABp",
        "ldXuvEOLVj3h",
        "YHVzgMMuXOO4",
        "Nw0p1qqrXlUw",
        "sRt8bZTaaPyP",
        "8voLt10xb04O",
        "OHLddQWbcYqn",
        "0Jzj7Vjucm-9",
        "lLOeQCpafQNV",
        "qRRoxB_G4X8I",
        "8tN-g7hlgfBb",
        "RRllgWgekji7",
        "pCq8FgrsGPgz"
      ],
      "authorship_tag": "ABX9TyP64/XejD4cYw+JBLV7Agcf",
      "include_colab_link": true
    },
    "kernelspec": {
      "name": "python3",
      "display_name": "Python 3"
    },
    "language_info": {
      "name": "python"
    }
  },
  "cells": [
    {
      "cell_type": "markdown",
      "metadata": {
        "id": "view-in-github",
        "colab_type": "text"
      },
      "source": [
        "<a href=\"https://colab.research.google.com/github/AJAY-22/Python_Practicals/blob/main/PyLabPractice.ipynb\" target=\"_parent\"><img src=\"https://colab.research.google.com/assets/colab-badge.svg\" alt=\"Open In Colab\"/></a>"
      ]
    },
    {
      "cell_type": "markdown",
      "metadata": {
        "id": "RdkAEq4cO_bf"
      },
      "source": [
        "# Example of Python variable\n",
        "---\n",
        "---\n",
        "\n"
      ]
    },
    {
      "cell_type": "markdown",
      "metadata": {
        "id": "wqI6Oi-TQP-3"
      },
      "source": [
        "## Integer variable"
      ]
    },
    {
      "cell_type": "code",
      "metadata": {
        "colab": {
          "base_uri": "https://localhost:8080/"
        },
        "id": "1nJ1eHSxP59S",
        "outputId": "cc253831-91d4-42b4-f501-eeafe443a6f1"
      },
      "source": [
        "x=22\n",
        "print(x)\n",
        "print(type(x))"
      ],
      "execution_count": null,
      "outputs": [
        {
          "output_type": "stream",
          "text": [
            "22\n",
            "<class 'int'>\n"
          ],
          "name": "stdout"
        }
      ]
    },
    {
      "cell_type": "markdown",
      "metadata": {
        "id": "-4Pb5a9EQYFw"
      },
      "source": [
        "## Float variable"
      ]
    },
    {
      "cell_type": "code",
      "metadata": {
        "colab": {
          "base_uri": "https://localhost:8080/"
        },
        "id": "6Xp8dXBXQFAy",
        "outputId": "aa57be5d-6245-4819-80eb-4c48a03b3caf"
      },
      "source": [
        "y=1.02\n",
        "print(y)\n",
        "print(type(y))"
      ],
      "execution_count": null,
      "outputs": [
        {
          "output_type": "stream",
          "text": [
            "1.02\n",
            "<class 'float'>\n"
          ],
          "name": "stdout"
        }
      ]
    },
    {
      "cell_type": "markdown",
      "metadata": {
        "id": "n4JeK4gHQihO"
      },
      "source": [
        "## String variable"
      ]
    },
    {
      "cell_type": "code",
      "metadata": {
        "colab": {
          "base_uri": "https://localhost:8080/"
        },
        "id": "wnTEpb-jQg43",
        "outputId": "2528398c-0d84-47a3-b78c-e96a47ea3d8d"
      },
      "source": [
        "name='Someone'\n",
        "print(name)\n",
        "print(type(name))"
      ],
      "execution_count": null,
      "outputs": [
        {
          "output_type": "stream",
          "text": [
            "Someone\n",
            "<class 'str'>\n"
          ],
          "name": "stdout"
        }
      ]
    },
    {
      "cell_type": "markdown",
      "metadata": {
        "id": "MrnGZ7zAQ1xd"
      },
      "source": [
        "# String functions\n",
        "---\n",
        "---"
      ]
    },
    {
      "cell_type": "markdown",
      "metadata": {
        "id": "F5sw2BktQ78G"
      },
      "source": [
        "## len()\n",
        "```\n",
        "len(variable_name)\n",
        "```\n",
        "Returns length of the variable"
      ]
    },
    {
      "cell_type": "code",
      "metadata": {
        "colab": {
          "base_uri": "https://localhost:8080/"
        },
        "id": "ivYB3QE7RlfF",
        "outputId": "b6cf5548-0ce2-45d1-f422-4d44fcd633e3"
      },
      "source": [
        "student_name = 'xyz abc ghj'\n",
        "print('Lenght of the variable \\'student_name\\' is ', len(student_name))"
      ],
      "execution_count": null,
      "outputs": [
        {
          "output_type": "stream",
          "text": [
            "Lenght of the variable 'student_name' is  11\n"
          ],
          "name": "stdout"
        }
      ]
    },
    {
      "cell_type": "markdown",
      "metadata": {
        "id": "RuOXL94sSHW8"
      },
      "source": [
        "## count()\n",
        "```\n",
        "variable_name.count(element)\n",
        "```\n",
        "Returns number of occurence of element in variable"
      ]
    },
    {
      "cell_type": "code",
      "metadata": {
        "colab": {
          "base_uri": "https://localhost:8080/"
        },
        "id": "de8GrsO9Q5C8",
        "outputId": "3f82ea52-08b0-43d8-f549-a2be35cc64e2"
      },
      "source": [
        "student_name = 'yyy zz ab'\n",
        "print('y occurs ', student_name.count('y'), 'times')\n",
        "print('z occurs ', student_name.count('z'), 'times')\n",
        "print('ab occurs ', student_name.count('ab'), 'times')"
      ],
      "execution_count": null,
      "outputs": [
        {
          "output_type": "stream",
          "text": [
            "y occurs  3 times\n",
            "z occurs  2 times\n",
            "ab occurs  1 times\n"
          ],
          "name": "stdout"
        }
      ]
    },
    {
      "cell_type": "markdown",
      "metadata": {
        "id": "-FvrEdF0Ttuu"
      },
      "source": [
        "## title()\n",
        "```\n",
        "variable_name.title()\n",
        "```\n",
        "Returns variable in capitalized format"
      ]
    },
    {
      "cell_type": "code",
      "metadata": {
        "colab": {
          "base_uri": "https://localhost:8080/"
        },
        "id": "AnIAIQZAUKNr",
        "outputId": "8c469eb1-6195-4071-a8f9-bbcccf7a22fc"
      },
      "source": [
        "title=student_name.title()\n",
        "print(title)"
      ],
      "execution_count": null,
      "outputs": [
        {
          "output_type": "stream",
          "text": [
            "Yyy Zz Ab\n"
          ],
          "name": "stdout"
        }
      ]
    },
    {
      "cell_type": "markdown",
      "metadata": {
        "id": "x5mrZ2roUT1V"
      },
      "source": [
        "## upper()\n",
        "```\n",
        "variable_name.upper()\n",
        "```\n",
        "Returns variable in uppercase format"
      ]
    },
    {
      "cell_type": "code",
      "metadata": {
        "colab": {
          "base_uri": "https://localhost:8080/"
        },
        "id": "Fa4TzON2UQa3",
        "outputId": "4b4a36ca-cd87-4891-a996-b9f80493e7b8"
      },
      "source": [
        "upper=student_name.upper()\n",
        "print(upper)"
      ],
      "execution_count": null,
      "outputs": [
        {
          "output_type": "stream",
          "text": [
            "YYY ZZ AB\n"
          ],
          "name": "stdout"
        }
      ]
    },
    {
      "cell_type": "markdown",
      "metadata": {
        "id": "X3gMaUP8UkTG"
      },
      "source": [
        "## lower()\n",
        "```\n",
        "variable_name.lower()\n",
        "```\n",
        "Returns variable in lowercase format"
      ]
    },
    {
      "cell_type": "code",
      "metadata": {
        "colab": {
          "base_uri": "https://localhost:8080/"
        },
        "id": "HgXW2X9PUiZT",
        "outputId": "92ba1b95-320e-41d6-fb1a-84cd3bc6389c"
      },
      "source": [
        "lower=student_name.lower()\n",
        "print(lower)"
      ],
      "execution_count": null,
      "outputs": [
        {
          "output_type": "stream",
          "text": [
            "yyy zz ab\n"
          ],
          "name": "stdout"
        }
      ]
    },
    {
      "cell_type": "markdown",
      "metadata": {
        "id": "V5q1Tx7YU1xv"
      },
      "source": [
        "## istitle()\n",
        "```\n",
        "variable_name.istitle()\n",
        "```\n",
        "Returns true if variable is in capitalized format otherwise false"
      ]
    },
    {
      "cell_type": "code",
      "metadata": {
        "colab": {
          "base_uri": "https://localhost:8080/"
        },
        "id": "2rx5kXlUUvkn",
        "outputId": "e869324f-8e8f-48f2-8c9f-2c054c82b02d"
      },
      "source": [
        "print(title, ':', title.istitle())\n",
        "print(upper, ':', upper.istitle())"
      ],
      "execution_count": null,
      "outputs": [
        {
          "output_type": "stream",
          "text": [
            "Yyy Zz Ab : True\n",
            "YYY ZZ AB : False\n"
          ],
          "name": "stdout"
        }
      ]
    },
    {
      "cell_type": "markdown",
      "metadata": {
        "id": "fz8JvLcsVwsm"
      },
      "source": [
        "## isupper()\n",
        "```\n",
        "variable_name.isupper()\n",
        "```\n",
        "Returns true if variable is in uppercase format otherwise false"
      ]
    },
    {
      "cell_type": "code",
      "metadata": {
        "colab": {
          "base_uri": "https://localhost:8080/"
        },
        "id": "3lnFD3xvVhOX",
        "outputId": "df5a8a48-2dbd-484f-8c30-0d637a23771e"
      },
      "source": [
        "print(upper, ':', upper.isupper())\n",
        "print(lower, ':', lower.isupper())"
      ],
      "execution_count": null,
      "outputs": [
        {
          "output_type": "stream",
          "text": [
            "YYY ZZ AB : True\n",
            "yyy zz ab : False\n"
          ],
          "name": "stdout"
        }
      ]
    },
    {
      "cell_type": "markdown",
      "metadata": {
        "id": "rCNBhQb4WKsm"
      },
      "source": [
        "## islower()\n",
        "```\n",
        "variable_name.islower()\n",
        "```\n",
        "Returns true if variable is in lowercase format otherwise false"
      ]
    },
    {
      "cell_type": "code",
      "metadata": {
        "colab": {
          "base_uri": "https://localhost:8080/"
        },
        "id": "lp5dJuFdWBAo",
        "outputId": "d578fb7a-1261-4d57-a083-6e3fb8b94f97"
      },
      "source": [
        "print(lower, ':', lower.islower())\n",
        "print(upper, ':', upper.islower())"
      ],
      "execution_count": null,
      "outputs": [
        {
          "output_type": "stream",
          "text": [
            "yyy zz ab : True\n",
            "YYY ZZ AB : False\n"
          ],
          "name": "stdout"
        }
      ]
    },
    {
      "cell_type": "markdown",
      "metadata": {
        "id": "49bWEo06WmH2"
      },
      "source": [
        "## find()\n",
        "```\n",
        "variable_name.find(element)\n",
        "```\n",
        "Returns index of the first occurence of element in variable if any,       \n",
        "-1 otherwise "
      ]
    },
    {
      "cell_type": "code",
      "metadata": {
        "colab": {
          "base_uri": "https://localhost:8080/"
        },
        "id": "OPfctX_MWVJE",
        "outputId": "308eab7b-a29e-4515-8883-83f72ccc640c"
      },
      "source": [
        "print(student_name.find('x'))\n",
        "print(student_name.find('a'))"
      ],
      "execution_count": null,
      "outputs": [
        {
          "output_type": "stream",
          "text": [
            "-1\n",
            "7\n"
          ],
          "name": "stdout"
        }
      ]
    },
    {
      "cell_type": "markdown",
      "metadata": {
        "id": "0Cb2S_AaXLIW"
      },
      "source": [
        "## rfind()\n",
        "```\n",
        "variable_name.rfind(element)\n",
        "```\n",
        "Returns index of the last occurence of element in variable if any,       \n",
        "-1 otherwise "
      ]
    },
    {
      "cell_type": "code",
      "metadata": {
        "colab": {
          "base_uri": "https://localhost:8080/"
        },
        "id": "4lntISFsW7ZK",
        "outputId": "60a4b9fd-efe2-426a-cf1e-9459a9c5f1fe"
      },
      "source": [
        "print(student_name.rfind('x'))\n",
        "print(student_name.rfind('y'))"
      ],
      "execution_count": null,
      "outputs": [
        {
          "output_type": "stream",
          "text": [
            "-1\n",
            "2\n"
          ],
          "name": "stdout"
        }
      ]
    },
    {
      "cell_type": "markdown",
      "metadata": {
        "id": "cwC6GlDvXhb-"
      },
      "source": [
        "## replace()\n",
        "```\n",
        "variable_name.replace(str1, str2)\n",
        "```\n",
        "Returns updated string with str1 replaced with str2                                  \n",
        "NOTE: variable_name will not get updated"
      ]
    },
    {
      "cell_type": "code",
      "metadata": {
        "colab": {
          "base_uri": "https://localhost:8080/"
        },
        "id": "zRuzeCCpXTF_",
        "outputId": "95ba459d-ce9f-4818-958b-25d4b58d4489"
      },
      "source": [
        "new_name = student_name.replace('ab', '12')\n",
        "print(student_name)\n",
        "print(new_name)"
      ],
      "execution_count": null,
      "outputs": [
        {
          "output_type": "stream",
          "text": [
            "yyy zz ab\n",
            "yyy zz 12\n"
          ],
          "name": "stdout"
        }
      ]
    },
    {
      "cell_type": "markdown",
      "metadata": {
        "id": "4kMRiII-UnKw"
      },
      "source": [
        "# Python Matrices and NumPy Arrays\n",
        "---\n",
        "---"
      ]
    },
    {
      "cell_type": "markdown",
      "metadata": {
        "id": "tyeE9eblVABp"
      },
      "source": [
        "## Matrix"
      ]
    },
    {
      "cell_type": "markdown",
      "metadata": {
        "id": "7-v0hDY7VEGp"
      },
      "source": [
        "A matrix is a two-dimensional data structure where numbers are arranged into rows and columns. For example:\n",
        "\n",
        "![matrix.webp](data:image/webp;base64,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)\n",
        "\n",
        "Matrix with 4 columns and 3 rows\n",
        "This matrix is a 3x4 (pronounced \"three by four\") matrix because it has 3 rows and 4 columns."
      ]
    },
    {
      "cell_type": "markdown",
      "metadata": {
        "id": "ldXuvEOLVj3h"
      },
      "source": [
        "## Python Matrix"
      ]
    },
    {
      "cell_type": "code",
      "metadata": {
        "colab": {
          "base_uri": "https://localhost:8080/"
        },
        "id": "A8pij5P3UmBh",
        "outputId": "141465e4-b543-4367-d17f-aaa3c131e85e"
      },
      "source": [
        "A = [[22, 43, 15], \n",
        "    [-5, 4, 9],\n",
        "    [6, -1, 10]] # Declaration of 3 X 3 matrix.\n",
        "\n",
        "print(\"A[0,0] : \", A[0][0]) # accessing element \n",
        "print(\"2nd row : \", A[1]) # accessing row\n",
        "\n",
        "\n",
        "# Lets create 3 empty lists for coloumns\n",
        "column1 = []\n",
        "column2 = []\n",
        "column3 = []\n",
        "\n",
        "#extracting column using loop\n",
        "\n",
        "for row in A:\n",
        "  column1.append(row[0])\n",
        "  column2.append(row[1])\n",
        "  column3.append(row[2])\n",
        "\n",
        "print(\"1st column \", column1)\n",
        "print(\"2nd column \", column2)\n",
        "print(\"3rd column \", column3)"
      ],
      "execution_count": null,
      "outputs": [
        {
          "output_type": "stream",
          "text": [
            "A[0,0] :  22\n",
            "2nd row :  [-5, 4, 9]\n",
            "1st column  [22, -5, 6]\n",
            "2nd column  [43, 4, -1]\n",
            "3rd column  [15, 9, 10]\n"
          ],
          "name": "stdout"
        }
      ]
    },
    {
      "cell_type": "markdown",
      "metadata": {
        "id": "YHVzgMMuXOO4"
      },
      "source": [
        "## NumPy Array"
      ]
    },
    {
      "cell_type": "markdown",
      "metadata": {
        "id": "Nw0p1qqrXlUw"
      },
      "source": [
        "### How to create a NumPy array?"
      ]
    },
    {
      "cell_type": "markdown",
      "metadata": {
        "id": "6k2WQwICX8yn"
      },
      "source": [
        "#### Importing numpy package"
      ]
    },
    {
      "cell_type": "code",
      "metadata": {
        "id": "UuD3YuhjXc-e"
      },
      "source": [
        "import numpy as np # Before using any package we need to import it , and we can provide its alias i.e. np here."
      ],
      "execution_count": null,
      "outputs": []
    },
    {
      "cell_type": "markdown",
      "metadata": {
        "id": "HcmkePdvYCx3"
      },
      "source": [
        "#### Creating int array/matrix"
      ]
    },
    {
      "cell_type": "code",
      "metadata": {
        "colab": {
          "base_uri": "https://localhost:8080/"
        },
        "id": "nZkOpRdfYIP5",
        "outputId": "0904acb7-34de-40d3-f656-dc48f7ee8dcb"
      },
      "source": [
        "intA = np.array([[1, 2, 3], [3, 4, 5]]) # A 2 X 3 matrix\n",
        "print(intA) # We can print the numpy array in matrix manner by providing it as an argument in print function.\n",
        "print(type(intA)) "
      ],
      "execution_count": null,
      "outputs": [
        {
          "output_type": "stream",
          "text": [
            "[[1 2 3]\n",
            " [3 4 5]]\n",
            "<class 'numpy.ndarray'>\n"
          ],
          "name": "stdout"
        }
      ]
    },
    {
      "cell_type": "markdown",
      "metadata": {
        "id": "vUOmJ6T1YWBP"
      },
      "source": [
        "#### Creating float array/matrix"
      ]
    },
    {
      "cell_type": "code",
      "metadata": {
        "colab": {
          "base_uri": "https://localhost:8080/"
        },
        "id": "XiQp_9oOYLjJ",
        "outputId": "14ea3524-0887-46b0-9c23-d14b4e635092"
      },
      "source": [
        "floatA = np.array([[1.1, 2.2, 3.3], \n",
        "                   [4.4, 5.5, 6.6]])\n",
        "print(floatA)\n",
        "print(type(floatA))"
      ],
      "execution_count": null,
      "outputs": [
        {
          "output_type": "stream",
          "text": [
            "[[1.1 2.2 3.3]\n",
            " [4.4 5.5 6.6]]\n",
            "<class 'numpy.ndarray'>\n"
          ],
          "name": "stdout"
        }
      ]
    },
    {
      "cell_type": "markdown",
      "metadata": {
        "id": "O33QGEI8ZGpg"
      },
      "source": [
        "#### Creating complex type of array/matrix"
      ]
    },
    {
      "cell_type": "code",
      "metadata": {
        "colab": {
          "base_uri": "https://localhost:8080/"
        },
        "id": "ExXGVjcQY0Kh",
        "outputId": "28336b5f-ebd4-4ffa-b2ed-7bb8dece47a1"
      },
      "source": [
        "comA = np.array([[5, 4], \n",
        "                 [3, 1]], dtype=complex) ## Provinding the datatype as an argument.\n",
        "print(comA)\n",
        "print(type(comA))"
      ],
      "execution_count": null,
      "outputs": [
        {
          "output_type": "stream",
          "text": [
            "[[5.+0.j 4.+0.j]\n",
            " [3.+0.j 1.+0.j]]\n",
            "<class 'numpy.ndarray'>\n"
          ],
          "name": "stdout"
        }
      ]
    },
    {
      "cell_type": "markdown",
      "metadata": {
        "id": "Qh88Nff-pBd7"
      },
      "source": [
        "---"
      ]
    },
    {
      "cell_type": "markdown",
      "metadata": {
        "id": "sRt8bZTaaPyP"
      },
      "source": [
        "### Arrays of zeros and ones"
      ]
    },
    {
      "cell_type": "markdown",
      "metadata": {
        "id": "15dc26ScaeoO"
      },
      "source": [
        "#### Import statement"
      ]
    },
    {
      "cell_type": "code",
      "metadata": {
        "id": "Se177MzhaWGt"
      },
      "source": [
        "import numpy as np"
      ],
      "execution_count": null,
      "outputs": []
    },
    {
      "cell_type": "markdown",
      "metadata": {
        "id": "Cvl8DVPXai4-"
      },
      "source": [
        "#### Creating array with all the element valued 0"
      ]
    },
    {
      "cell_type": "code",
      "metadata": {
        "colab": {
          "base_uri": "https://localhost:8080/"
        },
        "id": "93VkCW7-aciY",
        "outputId": "13c10b4e-2ae3-4ec8-a34f-d83745827508"
      },
      "source": [
        "zerosA = np.zeros(5) # We have to provide size of an array/matrix as an argument\n",
        "print(zerosA)"
      ],
      "execution_count": null,
      "outputs": [
        {
          "output_type": "stream",
          "text": [
            "[0. 0. 0. 0. 0.]\n"
          ],
          "name": "stdout"
        }
      ]
    },
    {
      "cell_type": "code",
      "metadata": {
        "colab": {
          "base_uri": "https://localhost:8080/"
        },
        "id": "-FIiWXJHnF00",
        "outputId": "2ac14512-89a8-4949-cdaa-0440e68760ad"
      },
      "source": [
        "# We can make an array/matrix of size 0 , which will result in an empty array.\n",
        "empty = np.zeros(0)\n",
        "print(empty)"
      ],
      "execution_count": null,
      "outputs": [
        {
          "output_type": "stream",
          "text": [
            "[]\n"
          ],
          "name": "stdout"
        }
      ]
    },
    {
      "cell_type": "markdown",
      "metadata": {
        "id": "YbcFSbrka60m"
      },
      "source": [
        "#### Creating matrix with all the element valued 0"
      ]
    },
    {
      "cell_type": "code",
      "metadata": {
        "colab": {
          "base_uri": "https://localhost:8080/"
        },
        "id": "Ow9dsG00a0z3",
        "outputId": "ef3799c2-5d55-47d5-8f46-58ce55cb729c"
      },
      "source": [
        "zeroM = np.zeros((5, 8)) # We have to provide size of a matrix of multiple dimensions as a tuple , i.e., (5, 8) here\n",
        "print(zeroM)"
      ],
      "execution_count": null,
      "outputs": [
        {
          "output_type": "stream",
          "text": [
            "[[0. 0. 0. 0. 0. 0. 0. 0.]\n",
            " [0. 0. 0. 0. 0. 0. 0. 0.]\n",
            " [0. 0. 0. 0. 0. 0. 0. 0.]\n",
            " [0. 0. 0. 0. 0. 0. 0. 0.]\n",
            " [0. 0. 0. 0. 0. 0. 0. 0.]]\n"
          ],
          "name": "stdout"
        }
      ]
    },
    {
      "cell_type": "code",
      "metadata": {
        "colab": {
          "base_uri": "https://localhost:8080/"
        },
        "id": "80OuRPg3nqRN",
        "outputId": "85ca0ba7-2277-4d6e-9ec3-766b86f879df"
      },
      "source": [
        "# matrix of more than 2 dimensioins\n",
        "dim3 = np.zeros((3, 4, 5))\n",
        "print('Matrix of 3 dimensions :\\n', dim3)"
      ],
      "execution_count": null,
      "outputs": [
        {
          "output_type": "stream",
          "text": [
            "Matrix of 3 dimensions :\n",
            " [[[0. 0. 0. 0. 0.]\n",
            "  [0. 0. 0. 0. 0.]\n",
            "  [0. 0. 0. 0. 0.]\n",
            "  [0. 0. 0. 0. 0.]]\n",
            "\n",
            " [[0. 0. 0. 0. 0.]\n",
            "  [0. 0. 0. 0. 0.]\n",
            "  [0. 0. 0. 0. 0.]\n",
            "  [0. 0. 0. 0. 0.]]\n",
            "\n",
            " [[0. 0. 0. 0. 0.]\n",
            "  [0. 0. 0. 0. 0.]\n",
            "  [0. 0. 0. 0. 0.]\n",
            "  [0. 0. 0. 0. 0.]]]\n"
          ],
          "name": "stdout"
        }
      ]
    },
    {
      "cell_type": "markdown",
      "metadata": {
        "id": "rEMbrXRtbNpW"
      },
      "source": [
        "#### Creating array with all the element valued 1"
      ]
    },
    {
      "cell_type": "code",
      "metadata": {
        "colab": {
          "base_uri": "https://localhost:8080/"
        },
        "id": "_X_lA8CZbJju",
        "outputId": "9b112f72-b5d9-4e4e-c18b-44a7b56db281"
      },
      "source": [
        "onesA = np.ones((10), dtype=int) # Providing datatype of elements\n",
        "print('intiger dtype:', onesA)"
      ],
      "execution_count": null,
      "outputs": [
        {
          "output_type": "stream",
          "text": [
            "intiger dtype: [1 1 1 1 1 1 1 1 1 1]\n"
          ],
          "name": "stdout"
        }
      ]
    },
    {
      "cell_type": "code",
      "metadata": {
        "colab": {
          "base_uri": "https://localhost:8080/"
        },
        "id": "3QxfhZ25oUIj",
        "outputId": "f000efee-0c04-4c4e-b486-e2994ef5dbac"
      },
      "source": [
        "floneA = np.ones(3) # Default dtype is float\n",
        "print('float dtype:', floneA)"
      ],
      "execution_count": null,
      "outputs": [
        {
          "output_type": "stream",
          "text": [
            "float dtype: [1. 1. 1.]\n"
          ],
          "name": "stdout"
        }
      ]
    },
    {
      "cell_type": "markdown",
      "metadata": {
        "id": "hC0kQICkbce9"
      },
      "source": [
        "#### Creating matrix with all the element valued 1"
      ]
    },
    {
      "cell_type": "code",
      "metadata": {
        "colab": {
          "base_uri": "https://localhost:8080/"
        },
        "id": "AN5GwuU0bW9e",
        "outputId": "0f9d2ce2-60e5-4524-cf74-501829344586"
      },
      "source": [
        "onesM = np.ones((5, 6))\n",
        "print(onesM)"
      ],
      "execution_count": null,
      "outputs": [
        {
          "output_type": "stream",
          "text": [
            "[[1. 1. 1. 1. 1. 1.]\n",
            " [1. 1. 1. 1. 1. 1.]\n",
            " [1. 1. 1. 1. 1. 1.]\n",
            " [1. 1. 1. 1. 1. 1.]\n",
            " [1. 1. 1. 1. 1. 1.]]\n"
          ],
          "name": "stdout"
        }
      ]
    },
    {
      "cell_type": "markdown",
      "metadata": {
        "id": "8voLt10xb04O"
      },
      "source": [
        "### Using arange() and shape()"
      ]
    },
    {
      "cell_type": "code",
      "metadata": {
        "id": "pY6uYl1gbmDP"
      },
      "source": [
        "import numpy as np"
      ],
      "execution_count": null,
      "outputs": []
    },
    {
      "cell_type": "markdown",
      "metadata": {
        "id": "OHLddQWbcYqn"
      },
      "source": [
        "#### arrange function"
      ]
    },
    {
      "cell_type": "markdown",
      "metadata": {
        "id": "nqqZDitqrRuD"
      },
      "source": [
        "```\n",
        "arange(int start, int stop, int step)\n",
        "```\n",
        "\n",
        "Returns an array from ```start``` till ```stop``` - 1 (stop is excluded)\n",
        "```step``` determines the integer to add in previous element. \n"
      ]
    },
    {
      "cell_type": "code",
      "metadata": {
        "colab": {
          "base_uri": "https://localhost:8080/"
        },
        "id": "s3uCwDxVcLq3",
        "outputId": "face1afe-5003-41d7-f6af-77b377a3dab5"
      },
      "source": [
        "A = np.arange(0, 11, 1)\n",
        "# this returns an array starting from 0 till 10 (as stop argument is excluded, so 11 - 1 = 10) taking 1 step forward each time \n",
        "print(\"A :\", A)\n",
        "\n",
        "# Alternatively, to start from 0 and taking only 1 step each time we can directly provide stopping value only\n",
        "B = np.arange(11) \n",
        "# Remember here 11 will be excluded and array will have values till the previous number only i.e., 10\n",
        "# this returns same result as A\n",
        "print(\"B :\", B)"
      ],
      "execution_count": null,
      "outputs": [
        {
          "output_type": "stream",
          "text": [
            "A : [ 0  1  2  3  4  5  6  7  8  9 10]\n",
            "B : [ 0  1  2  3  4  5  6  7  8  9 10]\n"
          ],
          "name": "stdout"
        }
      ]
    },
    {
      "cell_type": "code",
      "metadata": {
        "colab": {
          "base_uri": "https://localhost:8080/"
        },
        "id": "6pfTd3nJq8K7",
        "outputId": "72f816f9-af0c-4825-c377-5aa700fda9b0"
      },
      "source": [
        "# Not providing step value results in taking 1 step each time \n",
        "B = np.arange(11, 21)\n",
        "print(B)"
      ],
      "execution_count": null,
      "outputs": [
        {
          "output_type": "stream",
          "text": [
            "[11 12 13 14 15 16 17 18 19 20]\n"
          ],
          "name": "stdout"
        }
      ]
    },
    {
      "cell_type": "markdown",
      "metadata": {
        "id": "_7xclttTuK_x"
      },
      "source": [
        "Understandind ```step``` argument better"
      ]
    },
    {
      "cell_type": "code",
      "metadata": {
        "colab": {
          "base_uri": "https://localhost:8080/"
        },
        "id": "s1YDSJIJuQKy",
        "outputId": "50469f09-2d33-4023-f004-beb09785de63"
      },
      "source": [
        "# taking 2 as a step argument , \n",
        "#starting from first element every next element will have value of (it's previous element's value + step value i.e., 2)\n",
        "\n",
        "oddA = np.arange(1, 11, 2)\n",
        "print('odds :', oddA)"
      ],
      "execution_count": null,
      "outputs": [
        {
          "output_type": "stream",
          "text": [
            "odds : [1 3 5 7 9]\n"
          ],
          "name": "stdout"
        }
      ]
    },
    {
      "cell_type": "code",
      "metadata": {
        "colab": {
          "base_uri": "https://localhost:8080/"
        },
        "id": "C-YpOfNDvwpK",
        "outputId": "11219688-1bfe-43ab-9b9a-9c7a050b804e"
      },
      "source": [
        "# if adding step value to previous element exceeds the stop - 1 , its discarded \n",
        "tableOf5 = np.arange(0, 55, 5)\n",
        "print(tableOf5)\n",
        "# after 50 , we can still go till 54 but our next element is 50 + 5 = 55;\n",
        "# 55 exceeds the stop limit so we end up with array till 50 only"
      ],
      "execution_count": null,
      "outputs": [
        {
          "output_type": "stream",
          "text": [
            "[ 0  5 10 15 20 25 30 35 40 45 50]\n"
          ],
          "name": "stdout"
        }
      ]
    },
    {
      "cell_type": "markdown",
      "metadata": {
        "id": "0Jzj7Vjucm-9"
      },
      "source": [
        "#### Reshaping the array "
      ]
    },
    {
      "cell_type": "code",
      "metadata": {
        "colab": {
          "base_uri": "https://localhost:8080/"
        },
        "id": "j9FSPIpMcli2",
        "outputId": "c8b0805a-5211-47ae-e0b9-ef171080159f"
      },
      "source": [
        "# Creating a matrix of shape 2 X 3 (rows X columns)\n",
        "foo = np.array([[1, 2, 3],\n",
        "                [4, 5, 6]])\n",
        "print(foo)"
      ],
      "execution_count": null,
      "outputs": [
        {
          "output_type": "stream",
          "text": [
            "[[1 2 3]\n",
            " [4 5 6]]\n"
          ],
          "name": "stdout"
        }
      ]
    },
    {
      "cell_type": "code",
      "metadata": {
        "colab": {
          "base_uri": "https://localhost:8080/"
        },
        "id": "htf4QfmOxtD6",
        "outputId": "0f46db73-ede7-445a-9d00-565a883dc471"
      },
      "source": [
        "# We can't reshape this matrix in any random shape \n",
        "# reshaped matrix should have exact no of elements as the array we are reshaping\n",
        "# our foo has rows X columns i.e., 2 X 3 = 6 elements \n",
        "# SOLUTIONS :\n",
        "# 1] We can reshape it in either a row or column vector (true for any matrix)\n",
        "# 2] we can reshape it in 3 X 2 \n",
        "\n",
        "rowVec = foo.reshape(1, 6); # Row vector representation\n",
        "print('Row vector representation:\\n', rowVec)\n",
        "\n",
        "colVec = foo.reshape(6, 1); # Column vector representation\n",
        "print('Column vector representation:\\n', colVec)\n",
        "\n",
        "other = foo.reshape(3, 2); # other possible reshaped representation\n",
        "print(' 3 X 2 Representation:\\n', other)"
      ],
      "execution_count": null,
      "outputs": [
        {
          "output_type": "stream",
          "text": [
            "Row vector representation:\n",
            " [[1 2 3 4 5 6]]\n",
            "Column vector representation:\n",
            " [[1]\n",
            " [2]\n",
            " [3]\n",
            " [4]\n",
            " [5]\n",
            " [6]]\n",
            " 3 X 2 Representation:\n",
            " [[1 2]\n",
            " [3 4]\n",
            " [5 6]]\n"
          ],
          "name": "stdout"
        }
      ]
    },
    {
      "cell_type": "markdown",
      "metadata": {
        "id": "lLOeQCpafQNV"
      },
      "source": [
        "### Matrix operations"
      ]
    },
    {
      "cell_type": "code",
      "metadata": {
        "id": "gFR0IH8XD5AQ"
      },
      "source": [
        "import numpy as np"
      ],
      "execution_count": 2,
      "outputs": []
    },
    {
      "cell_type": "markdown",
      "metadata": {
        "id": "qRRoxB_G4X8I"
      },
      "source": [
        "#### Addition"
      ]
    },
    {
      "cell_type": "code",
      "metadata": {
        "colab": {
          "base_uri": "https://localhost:8080/"
        },
        "id": "2V4d6bqZfWhe",
        "outputId": "c5c76443-f330-4e7b-9683-91b93365cbfb"
      },
      "source": [
        "# We use + operator to add corresponding elements of two NumPy matrices.\n",
        "# Both arrays must have same shape\n",
        "A = np.ones((3, 3)) \n",
        "\n",
        "B = np.ones((3, 3), dtype=int)\n",
        "\n",
        "add = A + B # adding both mats and storing resultant matrix in variable add\n",
        "\n",
        "print(add)"
      ],
      "execution_count": null,
      "outputs": [
        {
          "output_type": "stream",
          "text": [
            "[[2. 2. 2.]\n",
            " [2. 2. 2.]\n",
            " [2. 2. 2.]]\n"
          ],
          "name": "stdout"
        }
      ]
    },
    {
      "cell_type": "markdown",
      "metadata": {
        "id": "8tN-g7hlgfBb"
      },
      "source": [
        "#### Multiplication of Two Matrices\n"
      ]
    },
    {
      "cell_type": "markdown",
      "metadata": {
        "id": "pT_VKFXPh8bk"
      },
      "source": [
        "To multiply two matrices, we use dot() method.\n",
        "```\n",
        "matA.dot(matb)\n",
        "```"
      ]
    },
    {
      "cell_type": "code",
      "metadata": {
        "colab": {
          "base_uri": "https://localhost:8080/"
        },
        "id": "-vUKfNWIf_V2",
        "outputId": "5ddcddfc-52a5-4f21-f54a-84fa76ac31d5"
      },
      "source": [
        "A = np.ones((2, 3))\n",
        "print('A :\\n', A)\n",
        "\n",
        "# In matrix multiplication,\n",
        "# first matrix's #column must match second matrix's #rows.\n",
        "# therefore , creating a matrix wth shape 3 X n (where , n could be any positive integer > 0)\n",
        "\n",
        "B = np.zeros((3, 4)) \n",
        "print('\\nB :\\n', B)\n",
        "\n",
        "N = A.dot(B) \n",
        "print('\\nresultant mat:\\n', N)"
      ],
      "execution_count": 3,
      "outputs": [
        {
          "output_type": "stream",
          "text": [
            "A :\n",
            " [[1. 1. 1.]\n",
            " [1. 1. 1.]]\n",
            "\n",
            "B :\n",
            " [[0. 0. 0. 0.]\n",
            " [0. 0. 0. 0.]\n",
            " [0. 0. 0. 0.]]\n",
            "\n",
            "resultant mat:\n",
            " [[0. 0. 0. 0.]\n",
            " [0. 0. 0. 0.]]\n"
          ],
          "name": "stdout"
        }
      ]
    },
    {
      "cell_type": "code",
      "metadata": {
        "colab": {
          "base_uri": "https://localhost:8080/"
        },
        "id": "I1SRjTgIhDss",
        "outputId": "3c93766a-09b4-4b5c-ee4e-65fb841f2bfa"
      },
      "source": [
        "A = np.array([[1, 3, 5],\n",
        "              [3, 4, 0]])\n",
        "\n",
        "B = np.array([[5, 3, 1],\n",
        "              [0, 4, 3],\n",
        "              [1, 1, 1]])\n",
        "\n",
        "N = A.dot(B)\n",
        "print(N)"
      ],
      "execution_count": 4,
      "outputs": [
        {
          "output_type": "stream",
          "text": [
            "[[10 20 15]\n",
            " [15 25 15]]\n"
          ],
          "name": "stdout"
        }
      ]
    },
    {
      "cell_type": "markdown",
      "metadata": {
        "id": "3KCNGBWRheNT"
      },
      "source": [
        "element wise multiplication\n",
        "```\n",
        "ans = matA*matB\n",
        "```"
      ]
    },
    {
      "cell_type": "code",
      "metadata": {
        "colab": {
          "base_uri": "https://localhost:8080/"
        },
        "id": "t1Ug7tzGg0iO",
        "outputId": "0e8a7958-8dfd-48a0-a633-c3bd1a0c85a5"
      },
      "source": [
        "A = np.arange(12)\n",
        "print(A)"
      ],
      "execution_count": 5,
      "outputs": [
        {
          "output_type": "stream",
          "text": [
            "[ 0  1  2  3  4  5  6  7  8  9 10 11]\n"
          ],
          "name": "stdout"
        }
      ]
    },
    {
      "cell_type": "code",
      "metadata": {
        "colab": {
          "base_uri": "https://localhost:8080/"
        },
        "id": "A94r8ByBidZ9",
        "outputId": "b200e24d-5c83-499f-93bc-b908d31c04d4"
      },
      "source": [
        "B = A\n",
        "print('B :\\n', B)"
      ],
      "execution_count": 6,
      "outputs": [
        {
          "output_type": "stream",
          "text": [
            "B :\n",
            " [ 0  1  2  3  4  5  6  7  8  9 10 11]\n"
          ],
          "name": "stdout"
        }
      ]
    },
    {
      "cell_type": "code",
      "metadata": {
        "colab": {
          "base_uri": "https://localhost:8080/"
        },
        "id": "Afrjns9nihgd",
        "outputId": "22359bbc-bfb2-4492-bc5d-69a38aa49e54"
      },
      "source": [
        "# In element wise multiplication, shape of both matrices must be same.\n",
        "squares = A*B\n",
        "print('squares :\\n', squares)"
      ],
      "execution_count": 8,
      "outputs": [
        {
          "output_type": "stream",
          "text": [
            "squares :\n",
            " [  0   1   4   9  16  25  36  49  64  81 100 121]\n"
          ],
          "name": "stdout"
        }
      ]
    },
    {
      "cell_type": "markdown",
      "metadata": {
        "id": "RRllgWgekji7"
      },
      "source": [
        "#### Transpose of a Matrix"
      ]
    },
    {
      "cell_type": "code",
      "metadata": {
        "id": "3OG0kCF7FBF9"
      },
      "source": [
        "import numpy as np"
      ],
      "execution_count": 10,
      "outputs": []
    },
    {
      "cell_type": "markdown",
      "metadata": {
        "id": "g3HuiHzhk0sc"
      },
      "source": [
        "We use numpy.transpose to compute transpose of a matrix.\n",
        "```\n",
        "Matrix.transpose()\n",
        "```"
      ]
    },
    {
      "cell_type": "code",
      "metadata": {
        "id": "Arvs6eoLktJs",
        "colab": {
          "base_uri": "https://localhost:8080/"
        },
        "outputId": "800aa637-2fd0-4f57-9493-b5045f823aa0"
      },
      "source": [
        "norm = np.arange(10, 101, 10).reshape((5, 2)) # Notice , initializing and reshaping has been done in same line.\n",
        "print('norm :\\n', norm)"
      ],
      "execution_count": 13,
      "outputs": [
        {
          "output_type": "stream",
          "text": [
            "norm :\n",
            " [[ 10  20]\n",
            " [ 30  40]\n",
            " [ 50  60]\n",
            " [ 70  80]\n",
            " [ 90 100]]\n"
          ],
          "name": "stdout"
        }
      ]
    },
    {
      "cell_type": "code",
      "metadata": {
        "colab": {
          "base_uri": "https://localhost:8080/"
        },
        "id": "eVJQtxFwE_mD",
        "outputId": "a2bf073c-e29c-49be-e6c0-aee35e688309"
      },
      "source": [
        "transpose = norm.transpose()\n",
        "print('transpose :\\n', transpose)"
      ],
      "execution_count": 14,
      "outputs": [
        {
          "output_type": "stream",
          "text": [
            "transpose :\n",
            " [[ 10  30  50  70  90]\n",
            " [ 20  40  60  80 100]]\n"
          ],
          "name": "stdout"
        }
      ]
    },
    {
      "cell_type": "markdown",
      "metadata": {
        "id": "pCq8FgrsGPgz"
      },
      "source": [
        "#### Slicing of a Matrix"
      ]
    },
    {
      "cell_type": "markdown",
      "metadata": {
        "id": "s_6N_y_pGV76"
      },
      "source": [
        "We have seen slicing of array already.\n",
        "\n",
        "Slicing of matrix is similar but in multiple dimensions."
      ]
    },
    {
      "cell_type": "code",
      "metadata": {
        "id": "bCg9ae0IHexq"
      },
      "source": [
        "import numpy as np"
      ],
      "execution_count": 16,
      "outputs": []
    },
    {
      "cell_type": "code",
      "metadata": {
        "colab": {
          "base_uri": "https://localhost:8080/"
        },
        "id": "ICK31DJPGQ2j",
        "outputId": "257a9293-447d-4560-97ce-7dad5af23e82"
      },
      "source": [
        "mat = np.arange(1, 26).reshape(5, 5)\n",
        "print('mat :\\n', mat)"
      ],
      "execution_count": 15,
      "outputs": [
        {
          "output_type": "stream",
          "text": [
            "mat :\n",
            " [[ 1  2  3  4  5]\n",
            " [ 6  7  8  9 10]\n",
            " [11 12 13 14 15]\n",
            " [16 17 18 19 20]\n",
            " [21 22 23 24 25]]\n"
          ],
          "name": "stdout"
        }
      ]
    },
    {
      "cell_type": "code",
      "metadata": {
        "colab": {
          "base_uri": "https://localhost:8080/"
        },
        "id": "nQUQ2EY6HcWh",
        "outputId": "61107c79-e790-49b7-fa24-090eee5ebdcb"
      },
      "source": [
        "# Let's print only first row\n",
        "print('mat - first row:\\n', mat[0])"
      ],
      "execution_count": 17,
      "outputs": [
        {
          "output_type": "stream",
          "text": [
            "mat - first row:\n",
            " [1 2 3 4 5]\n"
          ],
          "name": "stdout"
        }
      ]
    },
    {
      "cell_type": "code",
      "metadata": {
        "colab": {
          "base_uri": "https://localhost:8080/"
        },
        "id": "IH8-FcP_Hx2I",
        "outputId": "4a2f7ced-52f2-4602-f817-3995a4935dc3"
      },
      "source": [
        "# now , first two rows, we have many ways one of them is accessing both the rows individually and printing them.\n",
        "print('mat - first two rows:\\n', mat[0], mat[1])"
      ],
      "execution_count": 18,
      "outputs": [
        {
          "output_type": "stream",
          "text": [
            "mat - first two rows:\n",
            " [1 2 3 4 5] [ 6  7  8  9 10]\n"
          ],
          "name": "stdout"
        }
      ]
    },
    {
      "cell_type": "code",
      "metadata": {
        "colab": {
          "base_uri": "https://localhost:8080/"
        },
        "id": "aZt1ZKzuH64f",
        "outputId": "f3ef3e66-ee91-4cbb-93f7-835fcde8d723"
      },
      "source": [
        "# However, representation is not good also if matrix size is very big and we want half of the rows , \n",
        "# it would be very difficult to print all those individually\n",
        "# Let's use slicing here.\n",
        "# again, we want to print first two rows\n",
        "\n",
        "print ('mat - first two rows:\\n', mat[:2])"
      ],
      "execution_count": 20,
      "outputs": [
        {
          "output_type": "stream",
          "text": [
            "mat - first two rows:\n",
            " [[ 1  2  3  4  5]\n",
            " [ 6  7  8  9 10]]\n"
          ],
          "name": "stdout"
        }
      ]
    },
    {
      "cell_type": "code",
      "metadata": {
        "colab": {
          "base_uri": "https://localhost:8080/"
        },
        "id": "uzc767W9Ig_p",
        "outputId": "74eba510-ada7-4280-e764-6c5431c0c763"
      },
      "source": [
        "# what if we want only first 3 elements of these two rows ?\n",
        "# well, we use slicing in multiple dimensions\n",
        "\n",
        "print ('mat - first 3 elements of first 2 rows:\\n', mat[:2,:3])"
      ],
      "execution_count": 24,
      "outputs": [
        {
          "output_type": "stream",
          "text": [
            "mat - first 3 elements of first 2 rows:\n",
            " [[1 2 3]\n",
            " [6 7 8]]\n"
          ],
          "name": "stdout"
        }
      ]
    },
    {
      "cell_type": "code",
      "metadata": {
        "colab": {
          "base_uri": "https://localhost:8080/"
        },
        "id": "BynuBn11I3P4",
        "outputId": "193a599e-d68d-4ba4-85f5-25936b992c9b"
      },
      "source": [
        "# let's print last 2 elements of last 3 rows\n",
        "# Yes, we'll use negative indexing\n",
        "\n",
        "print('mat - last 2 elements of last 3 rows:\\n', mat[-3::1, -2::1])"
      ],
      "execution_count": 28,
      "outputs": [
        {
          "output_type": "stream",
          "text": [
            "mat - last 2 elements of last 3 rows:\n",
            " [[14 15]\n",
            " [19 20]\n",
            " [24 25]]\n"
          ],
          "name": "stdout"
        }
      ]
    },
    {
      "cell_type": "markdown",
      "metadata": {
        "id": "2bcrVGj-TuIh"
      },
      "source": [
        "# File Operations using Pandas library\n",
        "---\n",
        "---"
      ]
    },
    {
      "cell_type": "markdown",
      "metadata": {
        "id": "zEJ_tP9fUTmJ"
      },
      "source": [
        "We need to import pandas library."
      ]
    },
    {
      "cell_type": "code",
      "metadata": {
        "id": "lN7NcLBqT01r"
      },
      "source": [
        "import pandas as pd"
      ],
      "execution_count": 30,
      "outputs": []
    },
    {
      "cell_type": "markdown",
      "metadata": {
        "id": "zIiTZYgBaENX"
      },
      "source": [
        "### This is data from website ( copied and pasted )\n",
        "we will use this data to learn some pandas functions"
      ]
    },
    {
      "cell_type": "code",
      "metadata": {
        "id": "ach5D0VWZMKh"
      },
      "source": [
        "contries_data = {\n",
        "    'CHN': {'COUNTRY': 'China', 'POP': 1_398.72, 'AREA': 9_596.96,\n",
        "            'GDP': 12_234.78, 'CONT': 'Asia'},\n",
        "    'IND': {'COUNTRY': 'India', 'POP': 1_351.16, 'AREA': 3_287.26,\n",
        "            'GDP': 2_575.67, 'CONT': 'Asia', 'IND_DAY': '1947-08-15'},\n",
        "    'USA': {'COUNTRY': 'US', 'POP': 329.74, 'AREA': 9_833.52,\n",
        "            'GDP': 19_485.39, 'CONT': 'N.America',\n",
        "            'IND_DAY': '1776-07-04'},\n",
        "    'IDN': {'COUNTRY': 'Indonesia', 'POP': 268.07, 'AREA': 1_910.93,\n",
        "            'GDP': 1_015.54, 'CONT': 'Asia', 'IND_DAY': '1945-08-17'},\n",
        "    'BRA': {'COUNTRY': 'Brazil', 'POP': 210.32, 'AREA': 8_515.77,\n",
        "            'GDP': 2_055.51, 'CONT': 'S.America', 'IND_DAY': '1822-09-07'},\n",
        "    'PAK': {'COUNTRY': 'Pakistan', 'POP': 205.71, 'AREA': 881.91,\n",
        "            'GDP': 302.14, 'CONT': 'Asia', 'IND_DAY': '1947-08-14'},\n",
        "    'NGA': {'COUNTRY': 'Nigeria', 'POP': 200.96, 'AREA': 923.77,\n",
        "            'GDP': 375.77, 'CONT': 'Africa', 'IND_DAY': '1960-10-01'},\n",
        "    'BGD': {'COUNTRY': 'Bangladesh', 'POP': 167.09, 'AREA': 147.57,\n",
        "            'GDP': 245.63, 'CONT': 'Asia', 'IND_DAY': '1971-03-26'},\n",
        "    'RUS': {'COUNTRY': 'Russia', 'POP': 146.79, 'AREA': 17_098.25,\n",
        "            'GDP': 1_530.75, 'IND_DAY': '1992-06-12'},\n",
        "    'MEX': {'COUNTRY': 'Mexico', 'POP': 126.58, 'AREA': 1_964.38,\n",
        "            'GDP': 1_158.23, 'CONT': 'N.America', 'IND_DAY': '1810-09-16'},\n",
        "    'JPN': {'COUNTRY': 'Japan', 'POP': 126.22, 'AREA': 377.97,\n",
        "            'GDP': 4_872.42, 'CONT': 'Asia'},\n",
        "    'DEU': {'COUNTRY': 'Germany', 'POP': 83.02, 'AREA': 357.11,\n",
        "            'GDP': 3_693.20, 'CONT': 'Europe'},\n",
        "    'FRA': {'COUNTRY': 'France', 'POP': 67.02, 'AREA': 640.68,\n",
        "            'GDP': 2_582.49, 'CONT': 'Europe', 'IND_DAY': '1789-07-14'},\n",
        "    'GBR': {'COUNTRY': 'UK', 'POP': 66.44, 'AREA': 242.50,\n",
        "            'GDP': 2_631.23, 'CONT': 'Europe'},\n",
        "    'ITA': {'COUNTRY': 'Italy', 'POP': 60.36, 'AREA': 301.34,\n",
        "            'GDP': 1_943.84, 'CONT': 'Europe'},\n",
        "    'ARG': {'COUNTRY': 'Argentina', 'POP': 44.94, 'AREA': 2_780.40,\n",
        "            'GDP': 637.49, 'CONT': 'S.America', 'IND_DAY': '1816-07-09'},\n",
        "    'DZA': {'COUNTRY': 'Algeria', 'POP': 43.38, 'AREA': 2_381.74,\n",
        "            'GDP': 167.56, 'CONT': 'Africa', 'IND_DAY': '1962-07-05'},\n",
        "    'CAN': {'COUNTRY': 'Canada', 'POP': 37.59, 'AREA': 9_984.67,\n",
        "            'GDP': 1_647.12, 'CONT': 'N.America', 'IND_DAY': '1867-07-01'},\n",
        "    'AUS': {'COUNTRY': 'Australia', 'POP': 25.47, 'AREA': 7_692.02,\n",
        "            'GDP': 1_408.68, 'CONT': 'Oceania'},\n",
        "    'KAZ': {'COUNTRY': 'Kazakhstan', 'POP': 18.53, 'AREA': 2_724.90,\n",
        "            'GDP': 159.41, 'CONT': 'Asia', 'IND_DAY': '1991-12-16'}\n",
        "}\n",
        "\n",
        "columns = ('COUNTRY', 'POP', 'AREA', 'GDP', 'CONT', 'IND_DAY')"
      ],
      "execution_count": 34,
      "outputs": []
    },
    {
      "cell_type": "markdown",
      "metadata": {
        "id": "XCO-MjmwaV-2"
      },
      "source": [
        "## Converting the data into pandas dataframe"
      ]
    },
    {
      "cell_type": "markdown",
      "metadata": {
        "id": "q0bpEV8_apAn"
      },
      "source": [
        "use ```pd.DataFrame(dataToBeConverted)``` function to do so"
      ]
    },
    {
      "cell_type": "code",
      "metadata": {
        "colab": {
          "base_uri": "https://localhost:8080/"
        },
        "id": "ZLnOaS8EagA_",
        "outputId": "7ae5f465-6d62-4c3c-818b-aa904f5ca5e3"
      },
      "source": [
        "# our data variable name is contries_data\n",
        "df = pd.DataFrame(contries_data)\n",
        "\n",
        "# we can use print function or\n",
        "print(df)"
      ],
      "execution_count": 37,
      "outputs": [
        {
          "output_type": "stream",
          "text": [
            "             CHN         IND         USA  ...         CAN        AUS         KAZ\n",
            "COUNTRY    China       India          US  ...      Canada  Australia  Kazakhstan\n",
            "POP      1398.72     1351.16      329.74  ...       37.59      25.47       18.53\n",
            "AREA     9596.96     3287.26     9833.52  ...     9984.67    7692.02      2724.9\n",
            "GDP      12234.8     2575.67     19485.4  ...     1647.12    1408.68      159.41\n",
            "CONT        Asia        Asia   N.America  ...   N.America    Oceania        Asia\n",
            "IND_DAY      NaN  1947-08-15  1776-07-04  ...  1867-07-01        NaN  1991-12-16\n",
            "\n",
            "[6 rows x 20 columns]\n"
          ],
          "name": "stdout"
        }
      ]
    },
    {
      "cell_type": "code",
      "metadata": {
        "colab": {
          "base_uri": "https://localhost:8080/",
          "height": 270
        },
        "id": "ecyozIN6bRvv",
        "outputId": "47992dc0-998d-43d4-c2c2-0369813b4e90"
      },
      "source": [
        "# We are not getting whole data , \n",
        "# to do so we just write our variable name in which dataframe object is stored\n",
        "df"
      ],
      "execution_count": 38,
      "outputs": [
        {
          "output_type": "execute_result",
          "data": {
            "text/html": [
              "<div>\n",
              "<style scoped>\n",
              "    .dataframe tbody tr th:only-of-type {\n",
              "        vertical-align: middle;\n",
              "    }\n",
              "\n",
              "    .dataframe tbody tr th {\n",
              "        vertical-align: top;\n",
              "    }\n",
              "\n",
              "    .dataframe thead th {\n",
              "        text-align: right;\n",
              "    }\n",
              "</style>\n",
              "<table border=\"1\" class=\"dataframe\">\n",
              "  <thead>\n",
              "    <tr style=\"text-align: right;\">\n",
              "      <th></th>\n",
              "      <th>CHN</th>\n",
              "      <th>IND</th>\n",
              "      <th>USA</th>\n",
              "      <th>IDN</th>\n",
              "      <th>BRA</th>\n",
              "      <th>PAK</th>\n",
              "      <th>NGA</th>\n",
              "      <th>BGD</th>\n",
              "      <th>RUS</th>\n",
              "      <th>MEX</th>\n",
              "      <th>JPN</th>\n",
              "      <th>DEU</th>\n",
              "      <th>FRA</th>\n",
              "      <th>GBR</th>\n",
              "      <th>ITA</th>\n",
              "      <th>ARG</th>\n",
              "      <th>DZA</th>\n",
              "      <th>CAN</th>\n",
              "      <th>AUS</th>\n",
              "      <th>KAZ</th>\n",
              "    </tr>\n",
              "  </thead>\n",
              "  <tbody>\n",
              "    <tr>\n",
              "      <th>COUNTRY</th>\n",
              "      <td>China</td>\n",
              "      <td>India</td>\n",
              "      <td>US</td>\n",
              "      <td>Indonesia</td>\n",
              "      <td>Brazil</td>\n",
              "      <td>Pakistan</td>\n",
              "      <td>Nigeria</td>\n",
              "      <td>Bangladesh</td>\n",
              "      <td>Russia</td>\n",
              "      <td>Mexico</td>\n",
              "      <td>Japan</td>\n",
              "      <td>Germany</td>\n",
              "      <td>France</td>\n",
              "      <td>UK</td>\n",
              "      <td>Italy</td>\n",
              "      <td>Argentina</td>\n",
              "      <td>Algeria</td>\n",
              "      <td>Canada</td>\n",
              "      <td>Australia</td>\n",
              "      <td>Kazakhstan</td>\n",
              "    </tr>\n",
              "    <tr>\n",
              "      <th>POP</th>\n",
              "      <td>1398.72</td>\n",
              "      <td>1351.16</td>\n",
              "      <td>329.74</td>\n",
              "      <td>268.07</td>\n",
              "      <td>210.32</td>\n",
              "      <td>205.71</td>\n",
              "      <td>200.96</td>\n",
              "      <td>167.09</td>\n",
              "      <td>146.79</td>\n",
              "      <td>126.58</td>\n",
              "      <td>126.22</td>\n",
              "      <td>83.02</td>\n",
              "      <td>67.02</td>\n",
              "      <td>66.44</td>\n",
              "      <td>60.36</td>\n",
              "      <td>44.94</td>\n",
              "      <td>43.38</td>\n",
              "      <td>37.59</td>\n",
              "      <td>25.47</td>\n",
              "      <td>18.53</td>\n",
              "    </tr>\n",
              "    <tr>\n",
              "      <th>AREA</th>\n",
              "      <td>9596.96</td>\n",
              "      <td>3287.26</td>\n",
              "      <td>9833.52</td>\n",
              "      <td>1910.93</td>\n",
              "      <td>8515.77</td>\n",
              "      <td>881.91</td>\n",
              "      <td>923.77</td>\n",
              "      <td>147.57</td>\n",
              "      <td>17098.2</td>\n",
              "      <td>1964.38</td>\n",
              "      <td>377.97</td>\n",
              "      <td>357.11</td>\n",
              "      <td>640.68</td>\n",
              "      <td>242.5</td>\n",
              "      <td>301.34</td>\n",
              "      <td>2780.4</td>\n",
              "      <td>2381.74</td>\n",
              "      <td>9984.67</td>\n",
              "      <td>7692.02</td>\n",
              "      <td>2724.9</td>\n",
              "    </tr>\n",
              "    <tr>\n",
              "      <th>GDP</th>\n",
              "      <td>12234.8</td>\n",
              "      <td>2575.67</td>\n",
              "      <td>19485.4</td>\n",
              "      <td>1015.54</td>\n",
              "      <td>2055.51</td>\n",
              "      <td>302.14</td>\n",
              "      <td>375.77</td>\n",
              "      <td>245.63</td>\n",
              "      <td>1530.75</td>\n",
              "      <td>1158.23</td>\n",
              "      <td>4872.42</td>\n",
              "      <td>3693.2</td>\n",
              "      <td>2582.49</td>\n",
              "      <td>2631.23</td>\n",
              "      <td>1943.84</td>\n",
              "      <td>637.49</td>\n",
              "      <td>167.56</td>\n",
              "      <td>1647.12</td>\n",
              "      <td>1408.68</td>\n",
              "      <td>159.41</td>\n",
              "    </tr>\n",
              "    <tr>\n",
              "      <th>CONT</th>\n",
              "      <td>Asia</td>\n",
              "      <td>Asia</td>\n",
              "      <td>N.America</td>\n",
              "      <td>Asia</td>\n",
              "      <td>S.America</td>\n",
              "      <td>Asia</td>\n",
              "      <td>Africa</td>\n",
              "      <td>Asia</td>\n",
              "      <td>NaN</td>\n",
              "      <td>N.America</td>\n",
              "      <td>Asia</td>\n",
              "      <td>Europe</td>\n",
              "      <td>Europe</td>\n",
              "      <td>Europe</td>\n",
              "      <td>Europe</td>\n",
              "      <td>S.America</td>\n",
              "      <td>Africa</td>\n",
              "      <td>N.America</td>\n",
              "      <td>Oceania</td>\n",
              "      <td>Asia</td>\n",
              "    </tr>\n",
              "    <tr>\n",
              "      <th>IND_DAY</th>\n",
              "      <td>NaN</td>\n",
              "      <td>1947-08-15</td>\n",
              "      <td>1776-07-04</td>\n",
              "      <td>1945-08-17</td>\n",
              "      <td>1822-09-07</td>\n",
              "      <td>1947-08-14</td>\n",
              "      <td>1960-10-01</td>\n",
              "      <td>1971-03-26</td>\n",
              "      <td>1992-06-12</td>\n",
              "      <td>1810-09-16</td>\n",
              "      <td>NaN</td>\n",
              "      <td>NaN</td>\n",
              "      <td>1789-07-14</td>\n",
              "      <td>NaN</td>\n",
              "      <td>NaN</td>\n",
              "      <td>1816-07-09</td>\n",
              "      <td>1962-07-05</td>\n",
              "      <td>1867-07-01</td>\n",
              "      <td>NaN</td>\n",
              "      <td>1991-12-16</td>\n",
              "    </tr>\n",
              "  </tbody>\n",
              "</table>\n",
              "</div>"
            ],
            "text/plain": [
              "             CHN         IND         USA  ...         CAN        AUS         KAZ\n",
              "COUNTRY    China       India          US  ...      Canada  Australia  Kazakhstan\n",
              "POP      1398.72     1351.16      329.74  ...       37.59      25.47       18.53\n",
              "AREA     9596.96     3287.26     9833.52  ...     9984.67    7692.02      2724.9\n",
              "GDP      12234.8     2575.67     19485.4  ...     1647.12    1408.68      159.41\n",
              "CONT        Asia        Asia   N.America  ...   N.America    Oceania        Asia\n",
              "IND_DAY      NaN  1947-08-15  1776-07-04  ...  1867-07-01        NaN  1991-12-16\n",
              "\n",
              "[6 rows x 20 columns]"
            ]
          },
          "metadata": {
            "tags": []
          },
          "execution_count": 38
        }
      ]
    },
    {
      "cell_type": "markdown",
      "metadata": {
        "id": "NVuKUawQboDI"
      },
      "source": [
        "Making data ordered and transposing the table "
      ]
    },
    {
      "cell_type": "code",
      "metadata": {
        "colab": {
          "base_uri": "https://localhost:8080/",
          "height": 665
        },
        "id": "wKqKFNAGbxYN",
        "outputId": "5c6409d7-70f7-4bb3-e71e-02e111664d22"
      },
      "source": [
        "df = pd.DataFrame(contries_data, index=columns).T # Notice, using .T results in transposing the data\n",
        "df"
      ],
      "execution_count": 41,
      "outputs": [
        {
          "output_type": "execute_result",
          "data": {
            "text/html": [
              "<div>\n",
              "<style scoped>\n",
              "    .dataframe tbody tr th:only-of-type {\n",
              "        vertical-align: middle;\n",
              "    }\n",
              "\n",
              "    .dataframe tbody tr th {\n",
              "        vertical-align: top;\n",
              "    }\n",
              "\n",
              "    .dataframe thead th {\n",
              "        text-align: right;\n",
              "    }\n",
              "</style>\n",
              "<table border=\"1\" class=\"dataframe\">\n",
              "  <thead>\n",
              "    <tr style=\"text-align: right;\">\n",
              "      <th></th>\n",
              "      <th>COUNTRY</th>\n",
              "      <th>POP</th>\n",
              "      <th>AREA</th>\n",
              "      <th>GDP</th>\n",
              "      <th>CONT</th>\n",
              "      <th>IND_DAY</th>\n",
              "    </tr>\n",
              "  </thead>\n",
              "  <tbody>\n",
              "    <tr>\n",
              "      <th>CHN</th>\n",
              "      <td>China</td>\n",
              "      <td>1398.72</td>\n",
              "      <td>9596.96</td>\n",
              "      <td>12234.8</td>\n",
              "      <td>Asia</td>\n",
              "      <td>NaN</td>\n",
              "    </tr>\n",
              "    <tr>\n",
              "      <th>IND</th>\n",
              "      <td>India</td>\n",
              "      <td>1351.16</td>\n",
              "      <td>3287.26</td>\n",
              "      <td>2575.67</td>\n",
              "      <td>Asia</td>\n",
              "      <td>1947-08-15</td>\n",
              "    </tr>\n",
              "    <tr>\n",
              "      <th>USA</th>\n",
              "      <td>US</td>\n",
              "      <td>329.74</td>\n",
              "      <td>9833.52</td>\n",
              "      <td>19485.4</td>\n",
              "      <td>N.America</td>\n",
              "      <td>1776-07-04</td>\n",
              "    </tr>\n",
              "    <tr>\n",
              "      <th>IDN</th>\n",
              "      <td>Indonesia</td>\n",
              "      <td>268.07</td>\n",
              "      <td>1910.93</td>\n",
              "      <td>1015.54</td>\n",
              "      <td>Asia</td>\n",
              "      <td>1945-08-17</td>\n",
              "    </tr>\n",
              "    <tr>\n",
              "      <th>BRA</th>\n",
              "      <td>Brazil</td>\n",
              "      <td>210.32</td>\n",
              "      <td>8515.77</td>\n",
              "      <td>2055.51</td>\n",
              "      <td>S.America</td>\n",
              "      <td>1822-09-07</td>\n",
              "    </tr>\n",
              "    <tr>\n",
              "      <th>PAK</th>\n",
              "      <td>Pakistan</td>\n",
              "      <td>205.71</td>\n",
              "      <td>881.91</td>\n",
              "      <td>302.14</td>\n",
              "      <td>Asia</td>\n",
              "      <td>1947-08-14</td>\n",
              "    </tr>\n",
              "    <tr>\n",
              "      <th>NGA</th>\n",
              "      <td>Nigeria</td>\n",
              "      <td>200.96</td>\n",
              "      <td>923.77</td>\n",
              "      <td>375.77</td>\n",
              "      <td>Africa</td>\n",
              "      <td>1960-10-01</td>\n",
              "    </tr>\n",
              "    <tr>\n",
              "      <th>BGD</th>\n",
              "      <td>Bangladesh</td>\n",
              "      <td>167.09</td>\n",
              "      <td>147.57</td>\n",
              "      <td>245.63</td>\n",
              "      <td>Asia</td>\n",
              "      <td>1971-03-26</td>\n",
              "    </tr>\n",
              "    <tr>\n",
              "      <th>RUS</th>\n",
              "      <td>Russia</td>\n",
              "      <td>146.79</td>\n",
              "      <td>17098.2</td>\n",
              "      <td>1530.75</td>\n",
              "      <td>NaN</td>\n",
              "      <td>1992-06-12</td>\n",
              "    </tr>\n",
              "    <tr>\n",
              "      <th>MEX</th>\n",
              "      <td>Mexico</td>\n",
              "      <td>126.58</td>\n",
              "      <td>1964.38</td>\n",
              "      <td>1158.23</td>\n",
              "      <td>N.America</td>\n",
              "      <td>1810-09-16</td>\n",
              "    </tr>\n",
              "    <tr>\n",
              "      <th>JPN</th>\n",
              "      <td>Japan</td>\n",
              "      <td>126.22</td>\n",
              "      <td>377.97</td>\n",
              "      <td>4872.42</td>\n",
              "      <td>Asia</td>\n",
              "      <td>NaN</td>\n",
              "    </tr>\n",
              "    <tr>\n",
              "      <th>DEU</th>\n",
              "      <td>Germany</td>\n",
              "      <td>83.02</td>\n",
              "      <td>357.11</td>\n",
              "      <td>3693.2</td>\n",
              "      <td>Europe</td>\n",
              "      <td>NaN</td>\n",
              "    </tr>\n",
              "    <tr>\n",
              "      <th>FRA</th>\n",
              "      <td>France</td>\n",
              "      <td>67.02</td>\n",
              "      <td>640.68</td>\n",
              "      <td>2582.49</td>\n",
              "      <td>Europe</td>\n",
              "      <td>1789-07-14</td>\n",
              "    </tr>\n",
              "    <tr>\n",
              "      <th>GBR</th>\n",
              "      <td>UK</td>\n",
              "      <td>66.44</td>\n",
              "      <td>242.5</td>\n",
              "      <td>2631.23</td>\n",
              "      <td>Europe</td>\n",
              "      <td>NaN</td>\n",
              "    </tr>\n",
              "    <tr>\n",
              "      <th>ITA</th>\n",
              "      <td>Italy</td>\n",
              "      <td>60.36</td>\n",
              "      <td>301.34</td>\n",
              "      <td>1943.84</td>\n",
              "      <td>Europe</td>\n",
              "      <td>NaN</td>\n",
              "    </tr>\n",
              "    <tr>\n",
              "      <th>ARG</th>\n",
              "      <td>Argentina</td>\n",
              "      <td>44.94</td>\n",
              "      <td>2780.4</td>\n",
              "      <td>637.49</td>\n",
              "      <td>S.America</td>\n",
              "      <td>1816-07-09</td>\n",
              "    </tr>\n",
              "    <tr>\n",
              "      <th>DZA</th>\n",
              "      <td>Algeria</td>\n",
              "      <td>43.38</td>\n",
              "      <td>2381.74</td>\n",
              "      <td>167.56</td>\n",
              "      <td>Africa</td>\n",
              "      <td>1962-07-05</td>\n",
              "    </tr>\n",
              "    <tr>\n",
              "      <th>CAN</th>\n",
              "      <td>Canada</td>\n",
              "      <td>37.59</td>\n",
              "      <td>9984.67</td>\n",
              "      <td>1647.12</td>\n",
              "      <td>N.America</td>\n",
              "      <td>1867-07-01</td>\n",
              "    </tr>\n",
              "    <tr>\n",
              "      <th>AUS</th>\n",
              "      <td>Australia</td>\n",
              "      <td>25.47</td>\n",
              "      <td>7692.02</td>\n",
              "      <td>1408.68</td>\n",
              "      <td>Oceania</td>\n",
              "      <td>NaN</td>\n",
              "    </tr>\n",
              "    <tr>\n",
              "      <th>KAZ</th>\n",
              "      <td>Kazakhstan</td>\n",
              "      <td>18.53</td>\n",
              "      <td>2724.9</td>\n",
              "      <td>159.41</td>\n",
              "      <td>Asia</td>\n",
              "      <td>1991-12-16</td>\n",
              "    </tr>\n",
              "  </tbody>\n",
              "</table>\n",
              "</div>"
            ],
            "text/plain": [
              "        COUNTRY      POP     AREA      GDP       CONT     IND_DAY\n",
              "CHN       China  1398.72  9596.96  12234.8       Asia         NaN\n",
              "IND       India  1351.16  3287.26  2575.67       Asia  1947-08-15\n",
              "USA          US   329.74  9833.52  19485.4  N.America  1776-07-04\n",
              "IDN   Indonesia   268.07  1910.93  1015.54       Asia  1945-08-17\n",
              "BRA      Brazil   210.32  8515.77  2055.51  S.America  1822-09-07\n",
              "PAK    Pakistan   205.71   881.91   302.14       Asia  1947-08-14\n",
              "NGA     Nigeria   200.96   923.77   375.77     Africa  1960-10-01\n",
              "BGD  Bangladesh   167.09   147.57   245.63       Asia  1971-03-26\n",
              "RUS      Russia   146.79  17098.2  1530.75        NaN  1992-06-12\n",
              "MEX      Mexico   126.58  1964.38  1158.23  N.America  1810-09-16\n",
              "JPN       Japan   126.22   377.97  4872.42       Asia         NaN\n",
              "DEU     Germany    83.02   357.11   3693.2     Europe         NaN\n",
              "FRA      France    67.02   640.68  2582.49     Europe  1789-07-14\n",
              "GBR          UK    66.44    242.5  2631.23     Europe         NaN\n",
              "ITA       Italy    60.36   301.34  1943.84     Europe         NaN\n",
              "ARG   Argentina    44.94   2780.4   637.49  S.America  1816-07-09\n",
              "DZA     Algeria    43.38  2381.74   167.56     Africa  1962-07-05\n",
              "CAN      Canada    37.59  9984.67  1647.12  N.America  1867-07-01\n",
              "AUS   Australia    25.47  7692.02  1408.68    Oceania         NaN\n",
              "KAZ  Kazakhstan    18.53   2724.9   159.41       Asia  1991-12-16"
            ]
          },
          "metadata": {
            "tags": []
          },
          "execution_count": 41
        }
      ]
    },
    {
      "cell_type": "markdown",
      "metadata": {
        "id": "zJqmjLH7cHIv"
      },
      "source": [
        "## Using the Pandas ```read_csv()``` and ```.to_csv()``` Functions"
      ]
    },
    {
      "cell_type": "markdown",
      "metadata": {
        "id": "bCe29FyLch0H"
      },
      "source": [
        "### ```.to_csv(file_name)```\n",
        "it is used to convert our data into csv format and save it's csv file in directory\n",
        "\n",
        "provide name of file which will be created"
      ]
    },
    {
      "cell_type": "code",
      "metadata": {
        "id": "PwdKDnKPc9J3"
      },
      "source": [
        "# Let's convert our contries_data into csv format\n",
        "# our contries data is stored in df variable \n",
        "df.to_csv('contries_data.csv')\n",
        "\n",
        "# if you check your colab folder , \n",
        "# you can see contries_data.csv file."
      ],
      "execution_count": 42,
      "outputs": []
    },
    {
      "cell_type": "markdown",
      "metadata": {
        "id": "vdbEWJ-BcMBH"
      },
      "source": [
        "### ```read_csv(file_name)```\n",
        "it is used to read already existing csv files\n",
        "\n",
        "returns dataframe object contaning data from csv file \n",
        "\n",
        "we provide file_name as an argument \n",
        "notice, file must be csv file"
      ]
    },
    {
      "cell_type": "code",
      "metadata": {
        "colab": {
          "base_uri": "https://localhost:8080/",
          "height": 665
        },
        "id": "lPAUIhGdcLrY",
        "outputId": "6913066b-0430-4026-9571-380cab999b22"
      },
      "source": [
        "df = pd.read_csv('contries_data.csv')\n",
        "df"
      ],
      "execution_count": 62,
      "outputs": [
        {
          "output_type": "execute_result",
          "data": {
            "text/html": [
              "<div>\n",
              "<style scoped>\n",
              "    .dataframe tbody tr th:only-of-type {\n",
              "        vertical-align: middle;\n",
              "    }\n",
              "\n",
              "    .dataframe tbody tr th {\n",
              "        vertical-align: top;\n",
              "    }\n",
              "\n",
              "    .dataframe thead th {\n",
              "        text-align: right;\n",
              "    }\n",
              "</style>\n",
              "<table border=\"1\" class=\"dataframe\">\n",
              "  <thead>\n",
              "    <tr style=\"text-align: right;\">\n",
              "      <th></th>\n",
              "      <th>Unnamed: 0</th>\n",
              "      <th>COUNTRY</th>\n",
              "      <th>POP</th>\n",
              "      <th>AREA</th>\n",
              "      <th>GDP</th>\n",
              "      <th>CONT</th>\n",
              "      <th>IND_DAY</th>\n",
              "    </tr>\n",
              "  </thead>\n",
              "  <tbody>\n",
              "    <tr>\n",
              "      <th>0</th>\n",
              "      <td>CHN</td>\n",
              "      <td>China</td>\n",
              "      <td>1398.72</td>\n",
              "      <td>9596.96</td>\n",
              "      <td>12234.78</td>\n",
              "      <td>Asia</td>\n",
              "      <td>NaN</td>\n",
              "    </tr>\n",
              "    <tr>\n",
              "      <th>1</th>\n",
              "      <td>IND</td>\n",
              "      <td>India</td>\n",
              "      <td>1351.16</td>\n",
              "      <td>3287.26</td>\n",
              "      <td>2575.67</td>\n",
              "      <td>Asia</td>\n",
              "      <td>1947-08-15</td>\n",
              "    </tr>\n",
              "    <tr>\n",
              "      <th>2</th>\n",
              "      <td>USA</td>\n",
              "      <td>US</td>\n",
              "      <td>329.74</td>\n",
              "      <td>9833.52</td>\n",
              "      <td>19485.39</td>\n",
              "      <td>N.America</td>\n",
              "      <td>1776-07-04</td>\n",
              "    </tr>\n",
              "    <tr>\n",
              "      <th>3</th>\n",
              "      <td>IDN</td>\n",
              "      <td>Indonesia</td>\n",
              "      <td>268.07</td>\n",
              "      <td>1910.93</td>\n",
              "      <td>1015.54</td>\n",
              "      <td>Asia</td>\n",
              "      <td>1945-08-17</td>\n",
              "    </tr>\n",
              "    <tr>\n",
              "      <th>4</th>\n",
              "      <td>BRA</td>\n",
              "      <td>Brazil</td>\n",
              "      <td>210.32</td>\n",
              "      <td>8515.77</td>\n",
              "      <td>2055.51</td>\n",
              "      <td>S.America</td>\n",
              "      <td>1822-09-07</td>\n",
              "    </tr>\n",
              "    <tr>\n",
              "      <th>5</th>\n",
              "      <td>PAK</td>\n",
              "      <td>Pakistan</td>\n",
              "      <td>205.71</td>\n",
              "      <td>881.91</td>\n",
              "      <td>302.14</td>\n",
              "      <td>Asia</td>\n",
              "      <td>1947-08-14</td>\n",
              "    </tr>\n",
              "    <tr>\n",
              "      <th>6</th>\n",
              "      <td>NGA</td>\n",
              "      <td>Nigeria</td>\n",
              "      <td>200.96</td>\n",
              "      <td>923.77</td>\n",
              "      <td>375.77</td>\n",
              "      <td>Africa</td>\n",
              "      <td>1960-10-01</td>\n",
              "    </tr>\n",
              "    <tr>\n",
              "      <th>7</th>\n",
              "      <td>BGD</td>\n",
              "      <td>Bangladesh</td>\n",
              "      <td>167.09</td>\n",
              "      <td>147.57</td>\n",
              "      <td>245.63</td>\n",
              "      <td>Asia</td>\n",
              "      <td>1971-03-26</td>\n",
              "    </tr>\n",
              "    <tr>\n",
              "      <th>8</th>\n",
              "      <td>RUS</td>\n",
              "      <td>Russia</td>\n",
              "      <td>146.79</td>\n",
              "      <td>17098.25</td>\n",
              "      <td>1530.75</td>\n",
              "      <td>NaN</td>\n",
              "      <td>1992-06-12</td>\n",
              "    </tr>\n",
              "    <tr>\n",
              "      <th>9</th>\n",
              "      <td>MEX</td>\n",
              "      <td>Mexico</td>\n",
              "      <td>126.58</td>\n",
              "      <td>1964.38</td>\n",
              "      <td>1158.23</td>\n",
              "      <td>N.America</td>\n",
              "      <td>1810-09-16</td>\n",
              "    </tr>\n",
              "    <tr>\n",
              "      <th>10</th>\n",
              "      <td>JPN</td>\n",
              "      <td>Japan</td>\n",
              "      <td>126.22</td>\n",
              "      <td>377.97</td>\n",
              "      <td>4872.42</td>\n",
              "      <td>Asia</td>\n",
              "      <td>NaN</td>\n",
              "    </tr>\n",
              "    <tr>\n",
              "      <th>11</th>\n",
              "      <td>DEU</td>\n",
              "      <td>Germany</td>\n",
              "      <td>83.02</td>\n",
              "      <td>357.11</td>\n",
              "      <td>3693.20</td>\n",
              "      <td>Europe</td>\n",
              "      <td>NaN</td>\n",
              "    </tr>\n",
              "    <tr>\n",
              "      <th>12</th>\n",
              "      <td>FRA</td>\n",
              "      <td>France</td>\n",
              "      <td>67.02</td>\n",
              "      <td>640.68</td>\n",
              "      <td>2582.49</td>\n",
              "      <td>Europe</td>\n",
              "      <td>1789-07-14</td>\n",
              "    </tr>\n",
              "    <tr>\n",
              "      <th>13</th>\n",
              "      <td>GBR</td>\n",
              "      <td>UK</td>\n",
              "      <td>66.44</td>\n",
              "      <td>242.50</td>\n",
              "      <td>2631.23</td>\n",
              "      <td>Europe</td>\n",
              "      <td>NaN</td>\n",
              "    </tr>\n",
              "    <tr>\n",
              "      <th>14</th>\n",
              "      <td>ITA</td>\n",
              "      <td>Italy</td>\n",
              "      <td>60.36</td>\n",
              "      <td>301.34</td>\n",
              "      <td>1943.84</td>\n",
              "      <td>Europe</td>\n",
              "      <td>NaN</td>\n",
              "    </tr>\n",
              "    <tr>\n",
              "      <th>15</th>\n",
              "      <td>ARG</td>\n",
              "      <td>Argentina</td>\n",
              "      <td>44.94</td>\n",
              "      <td>2780.40</td>\n",
              "      <td>637.49</td>\n",
              "      <td>S.America</td>\n",
              "      <td>1816-07-09</td>\n",
              "    </tr>\n",
              "    <tr>\n",
              "      <th>16</th>\n",
              "      <td>DZA</td>\n",
              "      <td>Algeria</td>\n",
              "      <td>43.38</td>\n",
              "      <td>2381.74</td>\n",
              "      <td>167.56</td>\n",
              "      <td>Africa</td>\n",
              "      <td>1962-07-05</td>\n",
              "    </tr>\n",
              "    <tr>\n",
              "      <th>17</th>\n",
              "      <td>CAN</td>\n",
              "      <td>Canada</td>\n",
              "      <td>37.59</td>\n",
              "      <td>9984.67</td>\n",
              "      <td>1647.12</td>\n",
              "      <td>N.America</td>\n",
              "      <td>1867-07-01</td>\n",
              "    </tr>\n",
              "    <tr>\n",
              "      <th>18</th>\n",
              "      <td>AUS</td>\n",
              "      <td>Australia</td>\n",
              "      <td>25.47</td>\n",
              "      <td>7692.02</td>\n",
              "      <td>1408.68</td>\n",
              "      <td>Oceania</td>\n",
              "      <td>NaN</td>\n",
              "    </tr>\n",
              "    <tr>\n",
              "      <th>19</th>\n",
              "      <td>KAZ</td>\n",
              "      <td>Kazakhstan</td>\n",
              "      <td>18.53</td>\n",
              "      <td>2724.90</td>\n",
              "      <td>159.41</td>\n",
              "      <td>Asia</td>\n",
              "      <td>1991-12-16</td>\n",
              "    </tr>\n",
              "  </tbody>\n",
              "</table>\n",
              "</div>"
            ],
            "text/plain": [
              "   Unnamed: 0     COUNTRY      POP      AREA       GDP       CONT     IND_DAY\n",
              "0         CHN       China  1398.72   9596.96  12234.78       Asia         NaN\n",
              "1         IND       India  1351.16   3287.26   2575.67       Asia  1947-08-15\n",
              "2         USA          US   329.74   9833.52  19485.39  N.America  1776-07-04\n",
              "3         IDN   Indonesia   268.07   1910.93   1015.54       Asia  1945-08-17\n",
              "4         BRA      Brazil   210.32   8515.77   2055.51  S.America  1822-09-07\n",
              "5         PAK    Pakistan   205.71    881.91    302.14       Asia  1947-08-14\n",
              "6         NGA     Nigeria   200.96    923.77    375.77     Africa  1960-10-01\n",
              "7         BGD  Bangladesh   167.09    147.57    245.63       Asia  1971-03-26\n",
              "8         RUS      Russia   146.79  17098.25   1530.75        NaN  1992-06-12\n",
              "9         MEX      Mexico   126.58   1964.38   1158.23  N.America  1810-09-16\n",
              "10        JPN       Japan   126.22    377.97   4872.42       Asia         NaN\n",
              "11        DEU     Germany    83.02    357.11   3693.20     Europe         NaN\n",
              "12        FRA      France    67.02    640.68   2582.49     Europe  1789-07-14\n",
              "13        GBR          UK    66.44    242.50   2631.23     Europe         NaN\n",
              "14        ITA       Italy    60.36    301.34   1943.84     Europe         NaN\n",
              "15        ARG   Argentina    44.94   2780.40    637.49  S.America  1816-07-09\n",
              "16        DZA     Algeria    43.38   2381.74    167.56     Africa  1962-07-05\n",
              "17        CAN      Canada    37.59   9984.67   1647.12  N.America  1867-07-01\n",
              "18        AUS   Australia    25.47   7692.02   1408.68    Oceania         NaN\n",
              "19        KAZ  Kazakhstan    18.53   2724.90    159.41       Asia  1991-12-16"
            ]
          },
          "metadata": {
            "tags": []
          },
          "execution_count": 62
        }
      ]
    },
    {
      "cell_type": "markdown",
      "metadata": {
        "id": "KBvAeQYSeHyu"
      },
      "source": [
        "Let's remove row index / row numbers \n",
        "\n",
        "we don't need them "
      ]
    },
    {
      "cell_type": "code",
      "metadata": {
        "colab": {
          "base_uri": "https://localhost:8080/",
          "height": 665
        },
        "id": "9NCizD_ieREe",
        "outputId": "fe4f4620-a091-48ad-af77-46d0d7768b38"
      },
      "source": [
        "df = pd.read_csv('contries_data.csv', index_col=0) \n",
        "df"
      ],
      "execution_count": 63,
      "outputs": [
        {
          "output_type": "execute_result",
          "data": {
            "text/html": [
              "<div>\n",
              "<style scoped>\n",
              "    .dataframe tbody tr th:only-of-type {\n",
              "        vertical-align: middle;\n",
              "    }\n",
              "\n",
              "    .dataframe tbody tr th {\n",
              "        vertical-align: top;\n",
              "    }\n",
              "\n",
              "    .dataframe thead th {\n",
              "        text-align: right;\n",
              "    }\n",
              "</style>\n",
              "<table border=\"1\" class=\"dataframe\">\n",
              "  <thead>\n",
              "    <tr style=\"text-align: right;\">\n",
              "      <th></th>\n",
              "      <th>COUNTRY</th>\n",
              "      <th>POP</th>\n",
              "      <th>AREA</th>\n",
              "      <th>GDP</th>\n",
              "      <th>CONT</th>\n",
              "      <th>IND_DAY</th>\n",
              "    </tr>\n",
              "  </thead>\n",
              "  <tbody>\n",
              "    <tr>\n",
              "      <th>CHN</th>\n",
              "      <td>China</td>\n",
              "      <td>1398.72</td>\n",
              "      <td>9596.96</td>\n",
              "      <td>12234.78</td>\n",
              "      <td>Asia</td>\n",
              "      <td>NaN</td>\n",
              "    </tr>\n",
              "    <tr>\n",
              "      <th>IND</th>\n",
              "      <td>India</td>\n",
              "      <td>1351.16</td>\n",
              "      <td>3287.26</td>\n",
              "      <td>2575.67</td>\n",
              "      <td>Asia</td>\n",
              "      <td>1947-08-15</td>\n",
              "    </tr>\n",
              "    <tr>\n",
              "      <th>USA</th>\n",
              "      <td>US</td>\n",
              "      <td>329.74</td>\n",
              "      <td>9833.52</td>\n",
              "      <td>19485.39</td>\n",
              "      <td>N.America</td>\n",
              "      <td>1776-07-04</td>\n",
              "    </tr>\n",
              "    <tr>\n",
              "      <th>IDN</th>\n",
              "      <td>Indonesia</td>\n",
              "      <td>268.07</td>\n",
              "      <td>1910.93</td>\n",
              "      <td>1015.54</td>\n",
              "      <td>Asia</td>\n",
              "      <td>1945-08-17</td>\n",
              "    </tr>\n",
              "    <tr>\n",
              "      <th>BRA</th>\n",
              "      <td>Brazil</td>\n",
              "      <td>210.32</td>\n",
              "      <td>8515.77</td>\n",
              "      <td>2055.51</td>\n",
              "      <td>S.America</td>\n",
              "      <td>1822-09-07</td>\n",
              "    </tr>\n",
              "    <tr>\n",
              "      <th>PAK</th>\n",
              "      <td>Pakistan</td>\n",
              "      <td>205.71</td>\n",
              "      <td>881.91</td>\n",
              "      <td>302.14</td>\n",
              "      <td>Asia</td>\n",
              "      <td>1947-08-14</td>\n",
              "    </tr>\n",
              "    <tr>\n",
              "      <th>NGA</th>\n",
              "      <td>Nigeria</td>\n",
              "      <td>200.96</td>\n",
              "      <td>923.77</td>\n",
              "      <td>375.77</td>\n",
              "      <td>Africa</td>\n",
              "      <td>1960-10-01</td>\n",
              "    </tr>\n",
              "    <tr>\n",
              "      <th>BGD</th>\n",
              "      <td>Bangladesh</td>\n",
              "      <td>167.09</td>\n",
              "      <td>147.57</td>\n",
              "      <td>245.63</td>\n",
              "      <td>Asia</td>\n",
              "      <td>1971-03-26</td>\n",
              "    </tr>\n",
              "    <tr>\n",
              "      <th>RUS</th>\n",
              "      <td>Russia</td>\n",
              "      <td>146.79</td>\n",
              "      <td>17098.25</td>\n",
              "      <td>1530.75</td>\n",
              "      <td>NaN</td>\n",
              "      <td>1992-06-12</td>\n",
              "    </tr>\n",
              "    <tr>\n",
              "      <th>MEX</th>\n",
              "      <td>Mexico</td>\n",
              "      <td>126.58</td>\n",
              "      <td>1964.38</td>\n",
              "      <td>1158.23</td>\n",
              "      <td>N.America</td>\n",
              "      <td>1810-09-16</td>\n",
              "    </tr>\n",
              "    <tr>\n",
              "      <th>JPN</th>\n",
              "      <td>Japan</td>\n",
              "      <td>126.22</td>\n",
              "      <td>377.97</td>\n",
              "      <td>4872.42</td>\n",
              "      <td>Asia</td>\n",
              "      <td>NaN</td>\n",
              "    </tr>\n",
              "    <tr>\n",
              "      <th>DEU</th>\n",
              "      <td>Germany</td>\n",
              "      <td>83.02</td>\n",
              "      <td>357.11</td>\n",
              "      <td>3693.20</td>\n",
              "      <td>Europe</td>\n",
              "      <td>NaN</td>\n",
              "    </tr>\n",
              "    <tr>\n",
              "      <th>FRA</th>\n",
              "      <td>France</td>\n",
              "      <td>67.02</td>\n",
              "      <td>640.68</td>\n",
              "      <td>2582.49</td>\n",
              "      <td>Europe</td>\n",
              "      <td>1789-07-14</td>\n",
              "    </tr>\n",
              "    <tr>\n",
              "      <th>GBR</th>\n",
              "      <td>UK</td>\n",
              "      <td>66.44</td>\n",
              "      <td>242.50</td>\n",
              "      <td>2631.23</td>\n",
              "      <td>Europe</td>\n",
              "      <td>NaN</td>\n",
              "    </tr>\n",
              "    <tr>\n",
              "      <th>ITA</th>\n",
              "      <td>Italy</td>\n",
              "      <td>60.36</td>\n",
              "      <td>301.34</td>\n",
              "      <td>1943.84</td>\n",
              "      <td>Europe</td>\n",
              "      <td>NaN</td>\n",
              "    </tr>\n",
              "    <tr>\n",
              "      <th>ARG</th>\n",
              "      <td>Argentina</td>\n",
              "      <td>44.94</td>\n",
              "      <td>2780.40</td>\n",
              "      <td>637.49</td>\n",
              "      <td>S.America</td>\n",
              "      <td>1816-07-09</td>\n",
              "    </tr>\n",
              "    <tr>\n",
              "      <th>DZA</th>\n",
              "      <td>Algeria</td>\n",
              "      <td>43.38</td>\n",
              "      <td>2381.74</td>\n",
              "      <td>167.56</td>\n",
              "      <td>Africa</td>\n",
              "      <td>1962-07-05</td>\n",
              "    </tr>\n",
              "    <tr>\n",
              "      <th>CAN</th>\n",
              "      <td>Canada</td>\n",
              "      <td>37.59</td>\n",
              "      <td>9984.67</td>\n",
              "      <td>1647.12</td>\n",
              "      <td>N.America</td>\n",
              "      <td>1867-07-01</td>\n",
              "    </tr>\n",
              "    <tr>\n",
              "      <th>AUS</th>\n",
              "      <td>Australia</td>\n",
              "      <td>25.47</td>\n",
              "      <td>7692.02</td>\n",
              "      <td>1408.68</td>\n",
              "      <td>Oceania</td>\n",
              "      <td>NaN</td>\n",
              "    </tr>\n",
              "    <tr>\n",
              "      <th>KAZ</th>\n",
              "      <td>Kazakhstan</td>\n",
              "      <td>18.53</td>\n",
              "      <td>2724.90</td>\n",
              "      <td>159.41</td>\n",
              "      <td>Asia</td>\n",
              "      <td>1991-12-16</td>\n",
              "    </tr>\n",
              "  </tbody>\n",
              "</table>\n",
              "</div>"
            ],
            "text/plain": [
              "        COUNTRY      POP      AREA       GDP       CONT     IND_DAY\n",
              "CHN       China  1398.72   9596.96  12234.78       Asia         NaN\n",
              "IND       India  1351.16   3287.26   2575.67       Asia  1947-08-15\n",
              "USA          US   329.74   9833.52  19485.39  N.America  1776-07-04\n",
              "IDN   Indonesia   268.07   1910.93   1015.54       Asia  1945-08-17\n",
              "BRA      Brazil   210.32   8515.77   2055.51  S.America  1822-09-07\n",
              "PAK    Pakistan   205.71    881.91    302.14       Asia  1947-08-14\n",
              "NGA     Nigeria   200.96    923.77    375.77     Africa  1960-10-01\n",
              "BGD  Bangladesh   167.09    147.57    245.63       Asia  1971-03-26\n",
              "RUS      Russia   146.79  17098.25   1530.75        NaN  1992-06-12\n",
              "MEX      Mexico   126.58   1964.38   1158.23  N.America  1810-09-16\n",
              "JPN       Japan   126.22    377.97   4872.42       Asia         NaN\n",
              "DEU     Germany    83.02    357.11   3693.20     Europe         NaN\n",
              "FRA      France    67.02    640.68   2582.49     Europe  1789-07-14\n",
              "GBR          UK    66.44    242.50   2631.23     Europe         NaN\n",
              "ITA       Italy    60.36    301.34   1943.84     Europe         NaN\n",
              "ARG   Argentina    44.94   2780.40    637.49  S.America  1816-07-09\n",
              "DZA     Algeria    43.38   2381.74    167.56     Africa  1962-07-05\n",
              "CAN      Canada    37.59   9984.67   1647.12  N.America  1867-07-01\n",
              "AUS   Australia    25.47   7692.02   1408.68    Oceania         NaN\n",
              "KAZ  Kazakhstan    18.53   2724.90    159.41       Asia  1991-12-16"
            ]
          },
          "metadata": {
            "tags": []
          },
          "execution_count": 63
        }
      ]
    },
    {
      "cell_type": "markdown",
      "metadata": {
        "id": "wwqvCrGtesQ3"
      },
      "source": [
        "## Using Pandas to Write and Read Excel Files"
      ]
    },
    {
      "cell_type": "markdown",
      "metadata": {
        "id": "qb8_rnNRe9ae"
      },
      "source": [
        "We need some packages to Read and Write Excel Files\n",
        "\n",
        "openpyxl or XlsxWriter to write to .xlsx files\n",
        "\n",
        "xlrd to read Excel files"
      ]
    },
    {
      "cell_type": "markdown",
      "metadata": {
        "id": "uWQB3o89f7Ym"
      },
      "source": [
        "Lets install them using pip"
      ]
    },
    {
      "cell_type": "code",
      "metadata": {
        "colab": {
          "base_uri": "https://localhost:8080/"
        },
        "id": "UXfpQ7DwfaAo",
        "outputId": "70a17799-6120-4492-cde6-2c309ae91304"
      },
      "source": [
        "pip install xlwt openpyxl xlsxwriter xlrd"
      ],
      "execution_count": 58,
      "outputs": [
        {
          "output_type": "stream",
          "text": [
            "Requirement already satisfied: xlwt in /usr/local/lib/python3.7/dist-packages (1.3.0)\n",
            "Requirement already satisfied: openpyxl in /usr/local/lib/python3.7/dist-packages (2.5.9)\n",
            "Requirement already satisfied: xlsxwriter in /usr/local/lib/python3.7/dist-packages (1.4.4)\n",
            "Requirement already satisfied: xlrd in /usr/local/lib/python3.7/dist-packages (1.1.0)\n",
            "Requirement already satisfied: et-xmlfile in /usr/local/lib/python3.7/dist-packages (from openpyxl) (1.1.0)\n",
            "Requirement already satisfied: jdcal in /usr/local/lib/python3.7/dist-packages (from openpyxl) (1.4.1)\n"
          ],
          "name": "stdout"
        }
      ]
    },
    {
      "cell_type": "markdown",
      "metadata": {
        "id": "jJSeHxBMg0qe"
      },
      "source": [
        "### Converting data into excel format and saving it into directory"
      ]
    },
    {
      "cell_type": "code",
      "metadata": {
        "id": "sojCOTT4f1IY"
      },
      "source": [
        "df.to_excel('contries_data.xlsx')\n",
        "\n",
        "# We can find this file in our colab folder"
      ],
      "execution_count": 59,
      "outputs": []
    },
    {
      "cell_type": "markdown",
      "metadata": {
        "id": "HwH9AVRHheBH"
      },
      "source": [
        "### Reading data"
      ]
    },
    {
      "cell_type": "code",
      "metadata": {
        "colab": {
          "base_uri": "https://localhost:8080/",
          "height": 665
        },
        "id": "PAIP0rRYgKRu",
        "outputId": "fc2b3c49-d5e2-4593-fd4c-30911518e04b"
      },
      "source": [
        "df = pd.read_excel('contries_data.xlsx', index_col=0)\n",
        "df"
      ],
      "execution_count": 61,
      "outputs": [
        {
          "output_type": "execute_result",
          "data": {
            "text/html": [
              "<div>\n",
              "<style scoped>\n",
              "    .dataframe tbody tr th:only-of-type {\n",
              "        vertical-align: middle;\n",
              "    }\n",
              "\n",
              "    .dataframe tbody tr th {\n",
              "        vertical-align: top;\n",
              "    }\n",
              "\n",
              "    .dataframe thead th {\n",
              "        text-align: right;\n",
              "    }\n",
              "</style>\n",
              "<table border=\"1\" class=\"dataframe\">\n",
              "  <thead>\n",
              "    <tr style=\"text-align: right;\">\n",
              "      <th></th>\n",
              "      <th>COUNTRY</th>\n",
              "      <th>POP</th>\n",
              "      <th>AREA</th>\n",
              "      <th>GDP</th>\n",
              "      <th>CONT</th>\n",
              "      <th>IND_DAY</th>\n",
              "    </tr>\n",
              "  </thead>\n",
              "  <tbody>\n",
              "    <tr>\n",
              "      <th>CHN</th>\n",
              "      <td>China</td>\n",
              "      <td>1398.72</td>\n",
              "      <td>9596.96</td>\n",
              "      <td>12234.78</td>\n",
              "      <td>Asia</td>\n",
              "      <td>NaN</td>\n",
              "    </tr>\n",
              "    <tr>\n",
              "      <th>IND</th>\n",
              "      <td>India</td>\n",
              "      <td>1351.16</td>\n",
              "      <td>3287.26</td>\n",
              "      <td>2575.67</td>\n",
              "      <td>Asia</td>\n",
              "      <td>1947-08-15</td>\n",
              "    </tr>\n",
              "    <tr>\n",
              "      <th>USA</th>\n",
              "      <td>US</td>\n",
              "      <td>329.74</td>\n",
              "      <td>9833.52</td>\n",
              "      <td>19485.39</td>\n",
              "      <td>N.America</td>\n",
              "      <td>1776-07-04</td>\n",
              "    </tr>\n",
              "    <tr>\n",
              "      <th>IDN</th>\n",
              "      <td>Indonesia</td>\n",
              "      <td>268.07</td>\n",
              "      <td>1910.93</td>\n",
              "      <td>1015.54</td>\n",
              "      <td>Asia</td>\n",
              "      <td>1945-08-17</td>\n",
              "    </tr>\n",
              "    <tr>\n",
              "      <th>BRA</th>\n",
              "      <td>Brazil</td>\n",
              "      <td>210.32</td>\n",
              "      <td>8515.77</td>\n",
              "      <td>2055.51</td>\n",
              "      <td>S.America</td>\n",
              "      <td>1822-09-07</td>\n",
              "    </tr>\n",
              "    <tr>\n",
              "      <th>PAK</th>\n",
              "      <td>Pakistan</td>\n",
              "      <td>205.71</td>\n",
              "      <td>881.91</td>\n",
              "      <td>302.14</td>\n",
              "      <td>Asia</td>\n",
              "      <td>1947-08-14</td>\n",
              "    </tr>\n",
              "    <tr>\n",
              "      <th>NGA</th>\n",
              "      <td>Nigeria</td>\n",
              "      <td>200.96</td>\n",
              "      <td>923.77</td>\n",
              "      <td>375.77</td>\n",
              "      <td>Africa</td>\n",
              "      <td>1960-10-01</td>\n",
              "    </tr>\n",
              "    <tr>\n",
              "      <th>BGD</th>\n",
              "      <td>Bangladesh</td>\n",
              "      <td>167.09</td>\n",
              "      <td>147.57</td>\n",
              "      <td>245.63</td>\n",
              "      <td>Asia</td>\n",
              "      <td>1971-03-26</td>\n",
              "    </tr>\n",
              "    <tr>\n",
              "      <th>RUS</th>\n",
              "      <td>Russia</td>\n",
              "      <td>146.79</td>\n",
              "      <td>17098.25</td>\n",
              "      <td>1530.75</td>\n",
              "      <td>NaN</td>\n",
              "      <td>1992-06-12</td>\n",
              "    </tr>\n",
              "    <tr>\n",
              "      <th>MEX</th>\n",
              "      <td>Mexico</td>\n",
              "      <td>126.58</td>\n",
              "      <td>1964.38</td>\n",
              "      <td>1158.23</td>\n",
              "      <td>N.America</td>\n",
              "      <td>1810-09-16</td>\n",
              "    </tr>\n",
              "    <tr>\n",
              "      <th>JPN</th>\n",
              "      <td>Japan</td>\n",
              "      <td>126.22</td>\n",
              "      <td>377.97</td>\n",
              "      <td>4872.42</td>\n",
              "      <td>Asia</td>\n",
              "      <td>NaN</td>\n",
              "    </tr>\n",
              "    <tr>\n",
              "      <th>DEU</th>\n",
              "      <td>Germany</td>\n",
              "      <td>83.02</td>\n",
              "      <td>357.11</td>\n",
              "      <td>3693.20</td>\n",
              "      <td>Europe</td>\n",
              "      <td>NaN</td>\n",
              "    </tr>\n",
              "    <tr>\n",
              "      <th>FRA</th>\n",
              "      <td>France</td>\n",
              "      <td>67.02</td>\n",
              "      <td>640.68</td>\n",
              "      <td>2582.49</td>\n",
              "      <td>Europe</td>\n",
              "      <td>1789-07-14</td>\n",
              "    </tr>\n",
              "    <tr>\n",
              "      <th>GBR</th>\n",
              "      <td>UK</td>\n",
              "      <td>66.44</td>\n",
              "      <td>242.50</td>\n",
              "      <td>2631.23</td>\n",
              "      <td>Europe</td>\n",
              "      <td>NaN</td>\n",
              "    </tr>\n",
              "    <tr>\n",
              "      <th>ITA</th>\n",
              "      <td>Italy</td>\n",
              "      <td>60.36</td>\n",
              "      <td>301.34</td>\n",
              "      <td>1943.84</td>\n",
              "      <td>Europe</td>\n",
              "      <td>NaN</td>\n",
              "    </tr>\n",
              "    <tr>\n",
              "      <th>ARG</th>\n",
              "      <td>Argentina</td>\n",
              "      <td>44.94</td>\n",
              "      <td>2780.40</td>\n",
              "      <td>637.49</td>\n",
              "      <td>S.America</td>\n",
              "      <td>1816-07-09</td>\n",
              "    </tr>\n",
              "    <tr>\n",
              "      <th>DZA</th>\n",
              "      <td>Algeria</td>\n",
              "      <td>43.38</td>\n",
              "      <td>2381.74</td>\n",
              "      <td>167.56</td>\n",
              "      <td>Africa</td>\n",
              "      <td>1962-07-05</td>\n",
              "    </tr>\n",
              "    <tr>\n",
              "      <th>CAN</th>\n",
              "      <td>Canada</td>\n",
              "      <td>37.59</td>\n",
              "      <td>9984.67</td>\n",
              "      <td>1647.12</td>\n",
              "      <td>N.America</td>\n",
              "      <td>1867-07-01</td>\n",
              "    </tr>\n",
              "    <tr>\n",
              "      <th>AUS</th>\n",
              "      <td>Australia</td>\n",
              "      <td>25.47</td>\n",
              "      <td>7692.02</td>\n",
              "      <td>1408.68</td>\n",
              "      <td>Oceania</td>\n",
              "      <td>NaN</td>\n",
              "    </tr>\n",
              "    <tr>\n",
              "      <th>KAZ</th>\n",
              "      <td>Kazakhstan</td>\n",
              "      <td>18.53</td>\n",
              "      <td>2724.90</td>\n",
              "      <td>159.41</td>\n",
              "      <td>Asia</td>\n",
              "      <td>1991-12-16</td>\n",
              "    </tr>\n",
              "  </tbody>\n",
              "</table>\n",
              "</div>"
            ],
            "text/plain": [
              "        COUNTRY      POP      AREA       GDP       CONT     IND_DAY\n",
              "CHN       China  1398.72   9596.96  12234.78       Asia         NaN\n",
              "IND       India  1351.16   3287.26   2575.67       Asia  1947-08-15\n",
              "USA          US   329.74   9833.52  19485.39  N.America  1776-07-04\n",
              "IDN   Indonesia   268.07   1910.93   1015.54       Asia  1945-08-17\n",
              "BRA      Brazil   210.32   8515.77   2055.51  S.America  1822-09-07\n",
              "PAK    Pakistan   205.71    881.91    302.14       Asia  1947-08-14\n",
              "NGA     Nigeria   200.96    923.77    375.77     Africa  1960-10-01\n",
              "BGD  Bangladesh   167.09    147.57    245.63       Asia  1971-03-26\n",
              "RUS      Russia   146.79  17098.25   1530.75        NaN  1992-06-12\n",
              "MEX      Mexico   126.58   1964.38   1158.23  N.America  1810-09-16\n",
              "JPN       Japan   126.22    377.97   4872.42       Asia         NaN\n",
              "DEU     Germany    83.02    357.11   3693.20     Europe         NaN\n",
              "FRA      France    67.02    640.68   2582.49     Europe  1789-07-14\n",
              "GBR          UK    66.44    242.50   2631.23     Europe         NaN\n",
              "ITA       Italy    60.36    301.34   1943.84     Europe         NaN\n",
              "ARG   Argentina    44.94   2780.40    637.49  S.America  1816-07-09\n",
              "DZA     Algeria    43.38   2381.74    167.56     Africa  1962-07-05\n",
              "CAN      Canada    37.59   9984.67   1647.12  N.America  1867-07-01\n",
              "AUS   Australia    25.47   7692.02   1408.68    Oceania         NaN\n",
              "KAZ  Kazakhstan    18.53   2724.90    159.41       Asia  1991-12-16"
            ]
          },
          "metadata": {
            "tags": []
          },
          "execution_count": 61
        }
      ]
    },
    {
      "cell_type": "markdown",
      "metadata": {
        "id": "5JfStPKfjrSW"
      },
      "source": [
        "### Other file types"
      ]
    },
    {
      "cell_type": "markdown",
      "metadata": {
        "id": "fshh0JVTk4yN"
      },
      "source": [
        "#### JSON FILE"
      ]
    },
    {
      "cell_type": "code",
      "metadata": {
        "colab": {
          "base_uri": "https://localhost:8080/",
          "height": 665
        },
        "id": "aZd_zlvFjvDu",
        "outputId": "fe5c5e36-d155-4d0b-eaaf-2056d61a6032"
      },
      "source": [
        "df_json = df.to_json('contries_data.json')\n",
        "\n",
        "# New jason file will be added in your directory\n",
        "pd.read_json('contries_data.json')"
      ],
      "execution_count": 65,
      "outputs": [
        {
          "output_type": "execute_result",
          "data": {
            "text/html": [
              "<div>\n",
              "<style scoped>\n",
              "    .dataframe tbody tr th:only-of-type {\n",
              "        vertical-align: middle;\n",
              "    }\n",
              "\n",
              "    .dataframe tbody tr th {\n",
              "        vertical-align: top;\n",
              "    }\n",
              "\n",
              "    .dataframe thead th {\n",
              "        text-align: right;\n",
              "    }\n",
              "</style>\n",
              "<table border=\"1\" class=\"dataframe\">\n",
              "  <thead>\n",
              "    <tr style=\"text-align: right;\">\n",
              "      <th></th>\n",
              "      <th>COUNTRY</th>\n",
              "      <th>POP</th>\n",
              "      <th>AREA</th>\n",
              "      <th>GDP</th>\n",
              "      <th>CONT</th>\n",
              "      <th>IND_DAY</th>\n",
              "    </tr>\n",
              "  </thead>\n",
              "  <tbody>\n",
              "    <tr>\n",
              "      <th>CHN</th>\n",
              "      <td>China</td>\n",
              "      <td>1398.72</td>\n",
              "      <td>9596.96</td>\n",
              "      <td>12234.78</td>\n",
              "      <td>Asia</td>\n",
              "      <td>None</td>\n",
              "    </tr>\n",
              "    <tr>\n",
              "      <th>IND</th>\n",
              "      <td>India</td>\n",
              "      <td>1351.16</td>\n",
              "      <td>3287.26</td>\n",
              "      <td>2575.67</td>\n",
              "      <td>Asia</td>\n",
              "      <td>1947-08-15</td>\n",
              "    </tr>\n",
              "    <tr>\n",
              "      <th>USA</th>\n",
              "      <td>US</td>\n",
              "      <td>329.74</td>\n",
              "      <td>9833.52</td>\n",
              "      <td>19485.39</td>\n",
              "      <td>N.America</td>\n",
              "      <td>1776-07-04</td>\n",
              "    </tr>\n",
              "    <tr>\n",
              "      <th>IDN</th>\n",
              "      <td>Indonesia</td>\n",
              "      <td>268.07</td>\n",
              "      <td>1910.93</td>\n",
              "      <td>1015.54</td>\n",
              "      <td>Asia</td>\n",
              "      <td>1945-08-17</td>\n",
              "    </tr>\n",
              "    <tr>\n",
              "      <th>BRA</th>\n",
              "      <td>Brazil</td>\n",
              "      <td>210.32</td>\n",
              "      <td>8515.77</td>\n",
              "      <td>2055.51</td>\n",
              "      <td>S.America</td>\n",
              "      <td>1822-09-07</td>\n",
              "    </tr>\n",
              "    <tr>\n",
              "      <th>PAK</th>\n",
              "      <td>Pakistan</td>\n",
              "      <td>205.71</td>\n",
              "      <td>881.91</td>\n",
              "      <td>302.14</td>\n",
              "      <td>Asia</td>\n",
              "      <td>1947-08-14</td>\n",
              "    </tr>\n",
              "    <tr>\n",
              "      <th>NGA</th>\n",
              "      <td>Nigeria</td>\n",
              "      <td>200.96</td>\n",
              "      <td>923.77</td>\n",
              "      <td>375.77</td>\n",
              "      <td>Africa</td>\n",
              "      <td>1960-10-01</td>\n",
              "    </tr>\n",
              "    <tr>\n",
              "      <th>BGD</th>\n",
              "      <td>Bangladesh</td>\n",
              "      <td>167.09</td>\n",
              "      <td>147.57</td>\n",
              "      <td>245.63</td>\n",
              "      <td>Asia</td>\n",
              "      <td>1971-03-26</td>\n",
              "    </tr>\n",
              "    <tr>\n",
              "      <th>RUS</th>\n",
              "      <td>Russia</td>\n",
              "      <td>146.79</td>\n",
              "      <td>17098.25</td>\n",
              "      <td>1530.75</td>\n",
              "      <td>None</td>\n",
              "      <td>1992-06-12</td>\n",
              "    </tr>\n",
              "    <tr>\n",
              "      <th>MEX</th>\n",
              "      <td>Mexico</td>\n",
              "      <td>126.58</td>\n",
              "      <td>1964.38</td>\n",
              "      <td>1158.23</td>\n",
              "      <td>N.America</td>\n",
              "      <td>1810-09-16</td>\n",
              "    </tr>\n",
              "    <tr>\n",
              "      <th>JPN</th>\n",
              "      <td>Japan</td>\n",
              "      <td>126.22</td>\n",
              "      <td>377.97</td>\n",
              "      <td>4872.42</td>\n",
              "      <td>Asia</td>\n",
              "      <td>None</td>\n",
              "    </tr>\n",
              "    <tr>\n",
              "      <th>DEU</th>\n",
              "      <td>Germany</td>\n",
              "      <td>83.02</td>\n",
              "      <td>357.11</td>\n",
              "      <td>3693.20</td>\n",
              "      <td>Europe</td>\n",
              "      <td>None</td>\n",
              "    </tr>\n",
              "    <tr>\n",
              "      <th>FRA</th>\n",
              "      <td>France</td>\n",
              "      <td>67.02</td>\n",
              "      <td>640.68</td>\n",
              "      <td>2582.49</td>\n",
              "      <td>Europe</td>\n",
              "      <td>1789-07-14</td>\n",
              "    </tr>\n",
              "    <tr>\n",
              "      <th>GBR</th>\n",
              "      <td>UK</td>\n",
              "      <td>66.44</td>\n",
              "      <td>242.50</td>\n",
              "      <td>2631.23</td>\n",
              "      <td>Europe</td>\n",
              "      <td>None</td>\n",
              "    </tr>\n",
              "    <tr>\n",
              "      <th>ITA</th>\n",
              "      <td>Italy</td>\n",
              "      <td>60.36</td>\n",
              "      <td>301.34</td>\n",
              "      <td>1943.84</td>\n",
              "      <td>Europe</td>\n",
              "      <td>None</td>\n",
              "    </tr>\n",
              "    <tr>\n",
              "      <th>ARG</th>\n",
              "      <td>Argentina</td>\n",
              "      <td>44.94</td>\n",
              "      <td>2780.40</td>\n",
              "      <td>637.49</td>\n",
              "      <td>S.America</td>\n",
              "      <td>1816-07-09</td>\n",
              "    </tr>\n",
              "    <tr>\n",
              "      <th>DZA</th>\n",
              "      <td>Algeria</td>\n",
              "      <td>43.38</td>\n",
              "      <td>2381.74</td>\n",
              "      <td>167.56</td>\n",
              "      <td>Africa</td>\n",
              "      <td>1962-07-05</td>\n",
              "    </tr>\n",
              "    <tr>\n",
              "      <th>CAN</th>\n",
              "      <td>Canada</td>\n",
              "      <td>37.59</td>\n",
              "      <td>9984.67</td>\n",
              "      <td>1647.12</td>\n",
              "      <td>N.America</td>\n",
              "      <td>1867-07-01</td>\n",
              "    </tr>\n",
              "    <tr>\n",
              "      <th>AUS</th>\n",
              "      <td>Australia</td>\n",
              "      <td>25.47</td>\n",
              "      <td>7692.02</td>\n",
              "      <td>1408.68</td>\n",
              "      <td>Oceania</td>\n",
              "      <td>None</td>\n",
              "    </tr>\n",
              "    <tr>\n",
              "      <th>KAZ</th>\n",
              "      <td>Kazakhstan</td>\n",
              "      <td>18.53</td>\n",
              "      <td>2724.90</td>\n",
              "      <td>159.41</td>\n",
              "      <td>Asia</td>\n",
              "      <td>1991-12-16</td>\n",
              "    </tr>\n",
              "  </tbody>\n",
              "</table>\n",
              "</div>"
            ],
            "text/plain": [
              "        COUNTRY      POP      AREA       GDP       CONT     IND_DAY\n",
              "CHN       China  1398.72   9596.96  12234.78       Asia        None\n",
              "IND       India  1351.16   3287.26   2575.67       Asia  1947-08-15\n",
              "USA          US   329.74   9833.52  19485.39  N.America  1776-07-04\n",
              "IDN   Indonesia   268.07   1910.93   1015.54       Asia  1945-08-17\n",
              "BRA      Brazil   210.32   8515.77   2055.51  S.America  1822-09-07\n",
              "PAK    Pakistan   205.71    881.91    302.14       Asia  1947-08-14\n",
              "NGA     Nigeria   200.96    923.77    375.77     Africa  1960-10-01\n",
              "BGD  Bangladesh   167.09    147.57    245.63       Asia  1971-03-26\n",
              "RUS      Russia   146.79  17098.25   1530.75       None  1992-06-12\n",
              "MEX      Mexico   126.58   1964.38   1158.23  N.America  1810-09-16\n",
              "JPN       Japan   126.22    377.97   4872.42       Asia        None\n",
              "DEU     Germany    83.02    357.11   3693.20     Europe        None\n",
              "FRA      France    67.02    640.68   2582.49     Europe  1789-07-14\n",
              "GBR          UK    66.44    242.50   2631.23     Europe        None\n",
              "ITA       Italy    60.36    301.34   1943.84     Europe        None\n",
              "ARG   Argentina    44.94   2780.40    637.49  S.America  1816-07-09\n",
              "DZA     Algeria    43.38   2381.74    167.56     Africa  1962-07-05\n",
              "CAN      Canada    37.59   9984.67   1647.12  N.America  1867-07-01\n",
              "AUS   Australia    25.47   7692.02   1408.68    Oceania        None\n",
              "KAZ  Kazakhstan    18.53   2724.90    159.41       Asia  1991-12-16"
            ]
          },
          "metadata": {
            "tags": []
          },
          "execution_count": 65
        }
      ]
    },
    {
      "cell_type": "markdown",
      "metadata": {
        "id": "cLi3DqnllBLm"
      },
      "source": [
        "#### HTML FILE"
      ]
    },
    {
      "cell_type": "code",
      "metadata": {
        "colab": {
          "base_uri": "https://localhost:8080/"
        },
        "id": "3oR_ZQoZj71N",
        "outputId": "eec598df-68b5-44ab-deda-3ad52389138d"
      },
      "source": [
        "df_html = df.to_html('contries_data.html')\n",
        "\n",
        "# New jason file will be added in your directory\n",
        "pd.read_html('contries_data.html')"
      ],
      "execution_count": 66,
      "outputs": [
        {
          "output_type": "execute_result",
          "data": {
            "text/plain": [
              "[   Unnamed: 0     COUNTRY      POP      AREA       GDP       CONT     IND_DAY\n",
              " 0         CHN       China  1398.72   9596.96  12234.78       Asia         NaN\n",
              " 1         IND       India  1351.16   3287.26   2575.67       Asia  1947-08-15\n",
              " 2         USA          US   329.74   9833.52  19485.39  N.America  1776-07-04\n",
              " 3         IDN   Indonesia   268.07   1910.93   1015.54       Asia  1945-08-17\n",
              " 4         BRA      Brazil   210.32   8515.77   2055.51  S.America  1822-09-07\n",
              " 5         PAK    Pakistan   205.71    881.91    302.14       Asia  1947-08-14\n",
              " 6         NGA     Nigeria   200.96    923.77    375.77     Africa  1960-10-01\n",
              " 7         BGD  Bangladesh   167.09    147.57    245.63       Asia  1971-03-26\n",
              " 8         RUS      Russia   146.79  17098.25   1530.75        NaN  1992-06-12\n",
              " 9         MEX      Mexico   126.58   1964.38   1158.23  N.America  1810-09-16\n",
              " 10        JPN       Japan   126.22    377.97   4872.42       Asia         NaN\n",
              " 11        DEU     Germany    83.02    357.11   3693.20     Europe         NaN\n",
              " 12        FRA      France    67.02    640.68   2582.49     Europe  1789-07-14\n",
              " 13        GBR          UK    66.44    242.50   2631.23     Europe         NaN\n",
              " 14        ITA       Italy    60.36    301.34   1943.84     Europe         NaN\n",
              " 15        ARG   Argentina    44.94   2780.40    637.49  S.America  1816-07-09\n",
              " 16        DZA     Algeria    43.38   2381.74    167.56     Africa  1962-07-05\n",
              " 17        CAN      Canada    37.59   9984.67   1647.12  N.America  1867-07-01\n",
              " 18        AUS   Australia    25.47   7692.02   1408.68    Oceania         NaN\n",
              " 19        KAZ  Kazakhstan    18.53   2724.90    159.41       Asia  1991-12-16]"
            ]
          },
          "metadata": {
            "tags": []
          },
          "execution_count": 66
        }
      ]
    },
    {
      "cell_type": "markdown",
      "metadata": {
        "id": "Hg3RRNMClMUd"
      },
      "source": [
        "#### SQL FILE"
      ]
    },
    {
      "cell_type": "code",
      "metadata": {
        "colab": {
          "base_uri": "https://localhost:8080/",
          "height": 220
        },
        "id": "rG9qyKwOlKhY",
        "outputId": "fd3f451f-d8ca-4099-cfcc-74eb78d852d4"
      },
      "source": [
        "df_sql = df.to_sql('contries_data.sql')\n",
        "\n",
        "# New sql file will be added in your directory\n",
        "pd.read_sql('contries_data.sql')"
      ],
      "execution_count": 67,
      "outputs": [
        {
          "output_type": "error",
          "ename": "TypeError",
          "evalue": "ignored",
          "traceback": [
            "\u001b[0;31m---------------------------------------------------------------------------\u001b[0m",
            "\u001b[0;31mTypeError\u001b[0m                                 Traceback (most recent call last)",
            "\u001b[0;32m<ipython-input-67-ce04d5fa1e4e>\u001b[0m in \u001b[0;36m<module>\u001b[0;34m()\u001b[0m\n\u001b[0;32m----> 1\u001b[0;31m \u001b[0mdf_sql\u001b[0m \u001b[0;34m=\u001b[0m \u001b[0mdf\u001b[0m\u001b[0;34m.\u001b[0m\u001b[0mto_sql\u001b[0m\u001b[0;34m(\u001b[0m\u001b[0;34m'contries_data.sql'\u001b[0m\u001b[0;34m)\u001b[0m\u001b[0;34m\u001b[0m\u001b[0;34m\u001b[0m\u001b[0m\n\u001b[0m\u001b[1;32m      2\u001b[0m \u001b[0;34m\u001b[0m\u001b[0m\n\u001b[1;32m      3\u001b[0m \u001b[0;31m# New sql file will be added in your directory\u001b[0m\u001b[0;34m\u001b[0m\u001b[0;34m\u001b[0m\u001b[0;34m\u001b[0m\u001b[0m\n\u001b[1;32m      4\u001b[0m \u001b[0mpd\u001b[0m\u001b[0;34m.\u001b[0m\u001b[0mread_sql\u001b[0m\u001b[0;34m(\u001b[0m\u001b[0;34m'contries_data.sql'\u001b[0m\u001b[0;34m)\u001b[0m\u001b[0;34m\u001b[0m\u001b[0;34m\u001b[0m\u001b[0m\n",
            "\u001b[0;31mTypeError\u001b[0m: to_sql() missing 1 required positional argument: 'con'"
          ]
        }
      ]
    },
    {
      "cell_type": "code",
      "metadata": {
        "id": "KsTDscgLlZZu"
      },
      "source": [
        ""
      ],
      "execution_count": null,
      "outputs": []
    }
  ]
}